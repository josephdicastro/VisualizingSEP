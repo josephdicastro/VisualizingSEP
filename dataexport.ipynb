{
 "nbformat": 4,
 "nbformat_minor": 2,
 "metadata": {
  "language_info": {
   "name": "python",
   "codemirror_mode": {
    "name": "ipython",
    "version": 3
   }
  },
  "orig_nbformat": 2,
  "file_extension": ".py",
  "mimetype": "text/x-python",
  "name": "python",
  "npconvert_exporter": "python",
  "pygments_lexer": "ipython3",
  "version": 3
 },
 "cells": [
  {
   "cell_type": "code",
   "execution_count": null,
   "metadata": {},
   "outputs": [],
   "source": [
    "import pymongo \n",
    "import json "
   ]
  },
  {
   "cell_type": "code",
   "execution_count": null,
   "metadata": {},
   "outputs": [],
   "source": [
    "### CREATE JSON FROM MONGODB ###\n",
    "# First Completed 2/10/2020. \n",
    "# This code has been updated to get the number of links and the type of article\n",
    "\n",
    "#get all entries stored in mongo\n",
    "sep_entries = list(entries_collection.find().sort('title'))\n",
    "\n",
    "#init empty lists \n",
    "nodes_list = []\n",
    "links_list = []\n",
    "\n",
    "#loop through all entries\n",
    "for entry in tqdm(sep_entries, desc=\"Processing\"):\n",
    "    if \"thinker\" in entry[\"inpho_api\"]:\n",
    "        entry_type = \"thinker\"\n",
    "    else:\n",
    "        entry_type = \"idea\"\n",
    "\n",
    "    node_object = { \n",
    "        \"id\": entry[\"page_url\"], \n",
    "        \"title\": entry[\"title\"],\n",
    "        \"num_links\": len(entry[\"related\"]),\n",
    "        \"entry_type\": entry_type\n",
    "        }\n",
    "\n",
    "    nodes_list.append(node_object)\n",
    "\n",
    "    for link in entry[\"related\"]:\n",
    "        doc = entries_collection.find({\"page_\"})\n",
    "        links_list.append({\"source\":entry[\"page_url\"], \"target\":link[\"link\"]})\n",
    "\n",
    "network_object = {\"nodes\": nodes_list, \"links\":links_list}\n",
    "\n",
    "with open('network1.json', 'w', encoding='UTF-8') as f:\n",
    "    json.dump(network_object,f,ensure_ascii=False, indent=4)"
   ]
  }
 ]
}