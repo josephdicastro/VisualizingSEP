{
 "cells": [
  {
   "cell_type": "code",
   "execution_count": 1,
   "metadata": {},
   "outputs": [],
   "source": [
    "import pymongo \n",
    "import json \n",
    "import pandas as pd\n",
    "from tqdm import tqdm\n",
    "from pprint import pprint"
   ]
  },
  {
   "cell_type": "code",
   "execution_count": 2,
   "metadata": {},
   "outputs": [],
   "source": [
    "conn = 'mongodb://localhost:27017'\n",
    "client = pymongo.MongoClient(conn)\n",
    "db = client.visualizing_sep"
   ]
  },
  {
   "cell_type": "code",
   "execution_count": 9,
   "metadata": {},
   "outputs": [],
   "source": [
    "# export page_text for every SEP page\n",
    "\n",
    "sep_entries = list(db.sep_data.find({}).sort('title'))\n",
    "for sep in sep_entries:\n",
    "    page_name = sep['title'] + '.txt'\n",
    "    file_name = 'texttraining/' + page_name.replace(\"/\",\"_\")\n",
    "    page_text = sep['pagetext'].strip()\n",
    "    with open(file_name,'w', encoding='UTF-8') as f:\n",
    "        f.write(page_text)\n"
   ]
  },
  {
   "cell_type": "code",
   "execution_count": 7,
   "metadata": {},
   "outputs": [],
   "source": [
    "#export title and id to csv\n",
    "sep_entries = list(db.sep_data.find( filter={},\n",
    "                                     projection={'title'},\n",
    "                                     sort=[('title',1)]))\n",
    "\n",
    "sep_df = pd.DataFrame(sep_entries)\n",
    "sep_df.head()\n",
    "sep_df.to_csv('sep.csv')"
   ]
  },
  {
   "cell_type": "code",
   "execution_count": 10,
   "metadata": {
    "tags": [
     "outputPrepend"
    ]
   },
   "outputs": [
    {
     "output_type": "stream",
     "name": "stdout",
     "text": "['Aesthetics',\n 'African and African-American Philosophy',\n 'Arabic and Islamic Philosophy',\n 'Biology',\n 'Chinese Philosophy',\n 'Computer Science',\n 'Economics',\n 'Epistemology',\n 'Ethics and Morality',\n 'Evolution',\n 'Existentialism and Phenomenology',\n 'Feminism',\n 'Genetics',\n 'Indian Philosophy',\n 'Japanese Philosophy',\n 'Language',\n 'Latin American Philosophy',\n 'Law',\n 'Logic',\n 'Mathematics',\n 'Metaphysics',\n 'Mind',\n 'Physics',\n 'Political and Social Theory',\n 'Quantum Mechanics',\n 'Religion',\n 'Scientific Methods',\n 'Thinker']\n"
    }
   ],
   "source": [
    "#extract unique list of domain tags\n",
    "domain_tags = list(db.sep_data.find( filter={},\n",
    "                                     projection={'domain_tags':1, '_id':0}))\n",
    "domain_tags_individual = []\n",
    "\n",
    "for tag in domain_tags:\n",
    "    semisplit_tags = tag['domain_tags'].split(';')\n",
    "    for semisplit_tag in semisplit_tags:\n",
    "        commasplit_tags = semisplit_tag.split(',')\n",
    "        for commasplit_tag in commasplit_tags:\n",
    "            if commasplit_tag != '':\n",
    "                domain_tags_individual.append(commasplit_tag.strip())\n",
    "\n",
    "individual_tags = sorted(set(domain_tags_individual))\n",
    "pprint(individual_tags)"
   ]
  },
  {
   "cell_type": "code",
   "execution_count": 11,
   "metadata": {},
   "outputs": [
    {
     "output_type": "stream",
     "name": "stdout",
     "text": "[('Aesthetics', '/category/aesthetics/'),\n ('African and African-American Philosophy',\n  '/category/african-and-african-american-philosophy/'),\n ('Arabic and Islamic Philosophy', '/category/arabic-and-islamic-philosophy/'),\n ('Biology', '/category/biology/'),\n ('Chinese Philosophy', '/category/chinese-philosophy/'),\n ('Computer Science', '/category/computer-science/'),\n ('Economics', '/category/economics/'),\n ('Epistemology', '/category/epistemology/'),\n ('Ethics and Morality', '/category/ethics-and-morality/'),\n ('Evolution', '/category/evolution/'),\n ('Existentialism and Phenomenology',\n  '/category/existentialism-and-phenomenology/'),\n ('Feminism', '/category/feminism/'),\n ('Genetics', '/category/genetics/'),\n ('Indian Philosophy', '/category/indian-philosophy/'),\n ('Japanese Philosophy', '/category/japanese-philosophy/'),\n ('Language', '/category/language/'),\n ('Latin American Philosophy', '/category/latin-american-philosophy/'),\n ('Law', '/category/law/'),\n ('Logic', '/category/logic/'),\n ('Mathematics', '/category/mathematics/'),\n ('Metaphysics', '/category/metaphysics/'),\n ('Mind', '/category/mind/'),\n ('Physics', '/category/physics/'),\n ('Political and Social Theory', '/category/political-and-social-theory/'),\n ('Quantum Mechanics', '/category/quantum-mechanics/'),\n ('Religion', '/category/religion/'),\n ('Scientific Methods', '/category/scientific-methods/'),\n ('Thinker', '/category/thinker/')]\n"
    }
   ],
   "source": [
    "#make list of tuples for each domain and create domain id\n",
    "domain_links = [ (x.strip(),'/category/' + x.strip().lower().replace(' ','-') + '/') for x in individual_tags]\n",
    "pprint(domain_links)"
   ]
  },
  {
   "cell_type": "code",
   "execution_count": 12,
   "metadata": {
    "tags": [
     "outputPrepend"
    ]
   },
   "outputs": [
    {
     "output_type": "stream",
     "name": "stdout",
     "text": " movies in general made it imperative for philosophers to take film seriously as an artform on a par with the more traditional ones like theater, dance, and painting. As a result of this surge in interest in film as a subject for philosophical reflection, the philosophy of film has become an important area of research in aesthetics.\"}, {'page_url': '/entries/gadamer-aesthetics/', 'title': 'Gadamer’s Aesthetics', 'first_paragraph': '  Gadamer (1900–2002) does not provide an account of the aesthetic in any customary sense. His approach to art runs, in many ways, against conventional philosophical expectations. Aesthetic qualities are not debated in the manner of the analytic tradition of modern philosophy, nor does he concern himself overtly with the problems of aesthetic pleasure. Gadamer’s approach to aesthetic experience stands squarely in the phenomenological tradition. He is primarily concerned with the place of art in our experience of the world. Furthermore, his approach to aesthetic theory is one of those rare intellectual achievements which are simultaneously deconstructive and constructive. He dismantles elements of the grand tradition of Platonic, Kantian and Hegelian aesthetics and yet offers a phenomenological reconstruction of many of the central insights of that tradition to demonstrate its continuing relevance to our contemporary experience of art. Gadamer is primarily concerned with the cognitive dimension of such experience, with what artworks address and what they put at issue. This makes for a flexible philosophical approach capable of ranging freely over a number of art forms and styles, discussing both the singularity of works and their broader significance. The approach is clearly hermeneutical in that it endeavours to reacquaint us with those received meanings and preoccupations which underlie our experience of art. Openly influenced by Heidegger, the later essays on language and poetry in particular, Gadamer’s aesthetics is far from traditional. His key claims are: '}, {'page_url': '/entries/goodman-aesthetics/', 'title': 'Goodman’s Aesthetics', 'first_paragraph': ' Nelson Goodman has certainly been one of the most influential figures in contemporary aesthetics and analytic philosophy in general (in addition to aesthetics, his contributions cover the areas of applied logic, metaphysics, epistemology, and philosophy of science). His Languages of Art (first published in 1968 [Goodman 1976]), together with Ernst Gombrich’s Art and Illusion (1960) and Richard Wollheim’s Art and Its Objects (1968), represents a fundamental turning point in the analytic approach to artistic issues in Anglo-American philosophy. His often unorthodox take on art is part of a general approach to knowledge and reality, and is always pervasively informed by his cognitivism, nominalism, relativism, and constructivism. From Languages of Art and subsequent works, a general view of the arts as contributing to the understanding and indeed to the building of the realities we live in emerges. Ultimately, in Goodman’s view, art is not sharply distinguished, in goals and means, from science and ordinary experience. Paintings, musical sonatas, dances, etc. all are symbols that classify parts of reality for us, as do such things as scientific theories and what makes up common, ordinary knowledge.'}, {'page_url': '/entries/hegel-aesthetics/', 'title': 'Hegel’s Aesthetics', 'first_paragraph': '  G.W.F. Hegel’s aesthetics, or philosophy of art, forms part of the extraordinarily rich German aesthetic tradition that stretches from J.J. Winckelmann’s Thoughts on the Imitation of the Painting and Sculpture of the Greeks (1755) and G.E. Lessing’s Laocoon (1766) through Immanuel Kant’s Critique of the Power of Judgment (1790) and Friedrich Schiller’s Letters on the Aesthetic Education of Man (1795) to Friedrich Nietzsche’s Birth of Tragedy (1872) and (in the twentieth century) Martin Heidegger’s The Origin of the Work of Art (1935–6) and T.W. Adorno’s Aesthetic Theory (1970). Hegel was influenced in particular by Winckelmann, Kant and Schiller, and his own thesis of the “end of art” (or what has been taken to be that thesis) has itself been the focus of close attention by Heidegger and Adorno. Hegel’s philosophy of art is a wide ranging account of beauty in art, the historical development of art, and the individual arts of architecture, sculpture, painting, music and poetry. It contains distinctive and influential analyses of Egyptian art, Greek sculpture, and ancient and modern tragedy, and is regarded by many as one of the greatest aesthetic theories to have been produced since Aristotle’s Poetics.'}, {'page_url': '/entries/heidegger-aesthetics/', 'title': 'Heidegger’s Aesthetics', 'first_paragraph': '  Heidegger is against the modern tradition of philosophical “aesthetics” because he is for the true “work of art” which, he argues, the aesthetic approach to art eclipses. Heidegger’s critique of aesthetics and his advocacy of art thus form a complementary whole. Section 1 orients the reader by providing a brief overview of Heidegger’s philosophical stand against aesthetics, for art. Section 2 explains Heidegger’s philosophical critique of aesthetics, showing why he thinks aesthetics follows from modern “subjectivism” and leads to late-modern “enframing,” historical worldviews Heidegger seeks to transcend from within—in part by way of his phenomenological interpretations of art. Section 3 clarifies this attempt to transcend modern aesthetics from within, focusing on the way Heidegger seeks to build a phenomenological bridge from a particular (“ontic”) work of art by Vincent van Gogh to the ontological truth of art in general. In this way, as we will see, Heidegger seeks to show how art can help lead us into a genuinely meaningful postmodern age. Section 4 concludes by explaining how this understanding of Heidegger’s project allows us to resolve the longstanding controversy surrounding his interpretation of Van Gogh.'}, {'page_url': '/entries/hume-aesthetics/', 'title': 'Hume’s Aesthetics', 'first_paragraph': '  David Hume’s views on aesthetic theory and the philosophy of art are to be found in his work on moral theory and in several essays. Although there is a tendency to emphasize the two essays devoted to art, “Of the Standard of Taste” and “Of Tragedy,” his views on art and aesthetic judgment are intimately connected to his moral philosophy and theories of human thought and emotion. His theory of taste and beauty is not entirely original, but his arguments generally display the keen analysis typical of his best work. Hume’s archaic terminology is occasionally an obstacle to appreciating his analysis, inviting conflicting readings of his position.  '}, {'page_url': '/entries/humor/', 'title': 'Philosophy of Humor', 'first_paragraph': ' Although most people value humor, philosophers have said little about it, and what they have said is largely critical. Three traditional theories of laughter and humor are examined, along with the theory that humor evolved from mock-aggressive play in apes. Understanding humor as play helps counter the traditional objections to it and reveals some of its benefits, including those it shares with philosophy itself.'}, {'page_url': '/entries/japanese-aesthetics/', 'title': 'Japanese Aesthetics', 'first_paragraph': '  Although the Japanese have been producing great art and writing about it for many centuries, including a rich tradition of poetics going back a millennium, the philosophical discipline in Japan corresponding to Western “aesthetics” did not get underway until the nineteenth century. A good way to survey the broader field is to examine the most important aesthetic ideas that have arisen in the course of the tradition, all of them before aesthetics was formally established as a discipline: namely, mono no aware (the pathos of things), wabi (subdued, austere beauty), sabi (rustic patina), yūgen (mysterious profundity), iki (refined style), and kire (cutting). (This last term is pronounced as two evenly accented syllables, kee-reh. The macrons over some vowels signify a vowel sound of double length. When a person name is used, the order is the conventional Japanese one: family name, then given name.)'}, {'page_url': '/entries/kant-aesthetics/', 'title': 'Kant’s Aesthetics and Teleology', 'first_paragraph': \"  Kant's views on aesthetics and teleology are given their fullest presentation in his Critique of Judgment (Kritik der Urteilskraft, also translated Critique of the Power of Judgment), published in 1790.  This work is in two parts, preceded by a long introduction in which Kant explains and defends the work's importance in his critical system overall: in the first part, the “Critique of Aesthetic Judgment,” Kant discusses aesthetic experience and judgment, in particular of the beautiful and the sublime, and also artistic creation; in the second part, the “Critique of Teleological Judgment,” he discusses the role of teleology (that is, appeal to ends, purposes or goals) in natural science and in our understanding of nature more generally. The Critique of Judgment was the third and last of Kant's three Critiques, the other two being the Critique of Pure Reason (1781, with a second edition in 1787), which deals with metaphysics and epistemology, and the Critique of Practical Reason of 1788, which, alongside his Groundwork of the Metaphysics of Morals of 1785, deals with ethics.\"}, {'page_url': '/entries/kant-judgment/', 'title': 'Kant’s Theory of Judgment', 'first_paragraph': ' Theories of judgment, whether cognitive (i.e., object-representing, thought-expressing, truth-apt) judgment or practical (i.e., act-representing, choice-expressing, evaluation-apt) judgment, bring together fundamental issues in semantics, logic, cognitive psychology, and epistemology (collectively providing for what can be called the four “faces” of cognitive judgment [see also Martin 2006]), as well as action theory, moral psychology, and ethics (collectively providing for the three “faces” of practical judgment): indeed, the notion of judgment is central to any general theory of human rationality. But Kant’s theory of judgment differs sharply from many other theories of judgment, both traditional and contemporary, in three ways: (1) by taking the innate capacity for judgment to be the central cognitive faculty of the rational human mind, (2) by insisting on the semantic, logical, psychological, epistemic, and practical priority of the propositional content of a judgment, and (3) by systematically embedding judgment within the metaphysics of transcendental idealism . Several serious problems are generated by the interplay of the first two factors with the third. This in turn suggests that the other two parts of Kant’s theory of judgment can be logically detached from the strongest version of his transcendental idealism and defended independently of it. This entry also includes five supplementary documents covering (i) the debate about Kant’s conceptualism vs. Kant’s non-conceptualism, (ii) the epistemology of Kantian judgment and the ethics of Kantian belief, (iii) Kant’s logic in relation to his theory of judgment, (iv) kinds of use for judgments, and (v) completing the picture of Kant’s metaphysics of judgment. '}, {'page_url': '/entries/medieval-literary/', 'title': 'Literary Forms of Medieval Philosophy', 'first_paragraph': ' Medieval philosophical texts are written in a variety of literary forms, many peculiar to the period, like the summa or disputed question; others, like the commentary, dialogue, and axiom, are also found in ancient and modern sources but are substantially different in the medieval period from the classical or modern instantiations of these forms. Many philosophical texts also have a highly polemical style and/or seem deferential to the authoritative sources they cite. Further, medieval philosophical thinkers operated under the threat of censure from political and religious authority, moving them, some have argued, to write esoterically or indirectly to protect themselves from persecution for their true views. All these literary and rhetorical features make medieval philosophical texts considerably more difficult to understand and interpret than modern or even classical philosophical texts. Moreover, the broad range of genres used in medieval philosophy raises questions about the nature of philosophical writing in general when compared to the much more restricted set of accepted forms in modern and contemporary philosophical works.'}, {'page_url': '/entries/music/', 'title': 'The Philosophy of Music', 'first_paragraph': ' Philosophy of music is the study of fundamental questions about the nature and value of music and our experience of it. Like any “philosophy of X”, it presupposes knowledge of its target. However, unlike philosophy of science, say, the target of philosophy of music is a practice most people have a significant background in, merely as a result of being members of a musical culture. Music plays a central role in many people’s lives. Thus, as with the central questions of metaphysics and epistemology, not only can most people quickly grasp the philosophical questions music raises, they tend to have thought about some of those questions before encountering the academic discipline itself. (This is as good a place as any to note that I, like most in the English-speaking philosophical world, focus exclusively on Western musical traditions. For criticism of this tendency, see Alperson 2009. For some exceptions to it, see S. Davies 2001: 254–94) and Feagin 2007.)'}, {'page_url': '/entries/paradox-suspense/', 'title': 'The Paradox of Suspense', 'first_paragraph': '  The ultimate success of Hollywood blockbusters is dependent upon  repeat viewings. Fans return to theaters to see films multiple times  and buy DVDs so they can watch movies yet again. Although it is  something of a received dogma in philosophy and psychology that  suspense requires uncertainty, many of the biggest box office  successes are action movies that fans claim to find suspenseful on  repeated viewings. The conflict between the theory of suspense and  the accounts of viewers generates a problem known as the paradox  of suspense, which we can boil down to a simple question: If  suspense requires uncertainty, how can a viewer who knows the outcome still feel suspense? '}, {'page_url': '/entries/schopenhauer-aesthetics/', 'title': 'Schopenhauer’s Aesthetics', 'first_paragraph': '  The focus of this entry is on Schopenhauer’s aesthetic theory, which forms part of his organic philosophical system, but which can be appreciated and assessed to some extent on its own terms (for ways in which his aesthetic insights may be detached from his metaphysics see Shapshay, 2012b). The theory is found predominantly in Book 3 of the World as Will and Representation (WWR I) and in the elaboratory essays concerning Book 3 in the second volume (WWR II), and it is on these texts that I will concentrate here. This entry offers a brief background on Schopenhauer’s metaphysics before addressing Schopenhauer’s methodology in aesthetics, his account of the subjective and objective sides of aesthetic experience (both of the beautiful and the sublime), his hierarchy of the arts and rationale for this hierarchy, his view of artistic genius, the exceptional status of music among the fine arts, and the relationships he theorized between aesthetics and ethics.'}, {'page_url': '/entries/theater/', 'title': 'Philosophy of Theater', 'first_paragraph': ' In contrast to Plato’s well-known disparagement of theatrical practices (in Republic, Books III and X, for example), Aristotle held in the Poetics that tragedy in theatrical performance, perhaps tragedy in particular, could have therapeutic value. Whether what he meant was a kind of cognitive therapy or a form of psychological therapy is a question that has vexed scholars to this day; and it turns on how one understands two terms: katharsis and mimesis (Schaper 1968; Golden 1973; Diamond 1989; Lear 1992; Woodruff 1992).  This dispute is interesting first because it reflects the fact that theater has been a topic of philosophical dispute, investigation, use, or illustration since near the beginning of Western philosophy in the ancient Greek world. Second, its terms continue to have influence over current disputes within theater studies and performance theories (Puchner 2013). Finally, and primarily, it links descriptive metaphysical issues, such as what theater is by its nature, with normative issues, such as the value of theatrical performances within a culture. Several recent philosophical works emphasizing descriptive issues have attempted to understand just what is going on in theatrical performances and other performance arts (Saltz 1991a; Thom 1992; Osipovich 2006; Hamilton 2007; D. Davies 2011). This entry will focus largely on topics that are similar to or are themselves the issues examined in these works.'}, {'page_url': '/entries/wittgenstein-aesthetics/', 'title': 'Wittgenstein’s Aesthetics', 'first_paragraph': \"  Given the extreme importance that Wittgenstein attached to the aesthetic dimension of life, it is in one sense surprising that he wrote so little on the subject. It is true that we have the notes assembled from his lectures on aesthetics given to a small group of students in private rooms in Cambridge in the summer of 1938 (Wittgenstein 1966) and we have G. E. Moore's record of some of Wittgenstein's lectures in the period 1930–33 (Moore 1972).  Of Wittgenstein's own writings, we find remarks on literature, poetry, architecture, the visual arts, and especially music and the philosophy of culture more broadly scattered throughout his writings on the philosophies of language, mind, mathematics, and philosophical method, as well as in his more personal notebooks; a number of these are collected in Culture and Value (Wittgenstein 1980).  In another sense, it is not surprising at all, precisely because of the central position he gave to the aesthetic: in writing about questions of meaning, as he did throughout his life from the earliest pre-Tractatus (Wittgenstein 1961, 1971) writings to the remarks from the last weeks of his life in On Certainty (Wittgenstein 1969), in writing about perception, as he did in Part II of Philosophical Investigations (Wittgenstein 1958), Remarks on the Philosophy of Psychology, Volumes I and II (Wittgenstein 1980a, 1980b), and Last Writings on the Philosophy of Psychology, volume I (Wittgenstein 1982), and in writing about the contextual prerequisites to the emergence of sense in his philosophy of mind and language (in (Wittgenstein 1958) as well as his writings on the philosophy of mathematics), he was writing—if at one remove—about aesthetics. For questions of meaning, of perception, and of sense are all clearly central to aesthetic experience, and the writing he undertook on these subjects holds significance for questions of artistic meaning and interpretation that is still being explored and articulated (Lewis 2004, Dauber and Jost 2003, Gibson and Huemer 2004).  Wittgenstein placed the aesthetic, not on a distant periphery of philosophical subjects, but then not at the center of a grouping of such interests either—for then it would still be a subject area unto itself. Rather, Wittgenstein interweaves the subject's various and variegated strands throughout his writing in a way that in some cases shows explicitly, and in many more cases suggests implicitly, the layered interconnections between aesthetic considerations and every other area of philosophy upon which he wrote. In this article I will, then, look at the record we have of his lectures on the topic (which, predictably, take up many connections to extra-aesthetic issues along the way), but throughout try to offer a reading of them that situates them into the larger context of his philosophical work.\"}]}\n"
    }
   ],
   "source": [
    "#create node ojbect for domains, and create a list of links for each article in the domain\n",
    "\n",
    "domain_menu = []\n",
    "outlinks = []\n",
    "\n",
    "for domain in domain_links[0:1]:\n",
    "    domain_title = domain[0]\n",
    "    domain_id = domain[1]\n",
    "    article_urls = list(db.sep_data.find(\n",
    "                        filter={'domain_tags': {'$regex':domain_title}},\n",
    "                        projection={'page_url':1, '_id':0}))\n",
    "\n",
    "    domain_nodes = list(db.sep_data.find(\n",
    "                        filter={'domain_tags': {'$regex':domain_title}},\n",
    "                        projection={'page_url':1,\n",
    "                                    'title':1,\n",
    "                                    'first_paragraph':1,\n",
    "                                    '_id':0}))\n",
    "    data_nodes = {'nodes':domain_nodes}\n",
    "    pprint(data_nodes)\n",
    "    article_links = [{'source':domain_id, 'target':url['page_url'], 'dir':'out'} for url in article_urls] \n",
    "    \n",
    "    domain_node = { 'title':domain_title,\n",
    "                     'id':domain_id,\n",
    "                     'entry_type':'Menu', \n",
    "                     'primary_domain':domain_title,\n",
    "                     'data' : data_nodes,\n",
    "                     'links':article_links\n",
    "                     }\n",
    "\n",
    "    domain_menu.append(domain_node)\n",
    "\n",
    "# create node object for top level SEP menu\n",
    "\n",
    "menu_links = [{'source':'/category/', 'target':x[1], 'dir': 'Out'} for x in domain_links if x[1]!='/category/' ]\n",
    "\n",
    "sep_node = {'id':'/category/',\n",
    "              'title':'', \n",
    "              'entry_type':'Menu', \n",
    "              'primary_domain':'',\n",
    "              'links': menu_links}\n",
    "\n",
    "# #add SEP main menu as first node in domain_menu\n",
    "domain_menu.insert(0,sep_node)\n",
    "\n",
    "domain_object = {'nodes':domain_menu}"
   ]
  },
  {
   "cell_type": "code",
   "execution_count": 32,
   "metadata": {},
   "outputs": [],
   "source": [
    "def return_nodelinks(page_url, outlinks, inlinks):\n",
    "    \"\"\" returns the nodes linked to page_url, and identifies the direction of the link \"\"\"\n",
    "\n",
    "    nodelinks = []\n",
    "    # we need to get the common elements between outlinks and inlinks\n",
    "    # these are the dir=\"both\" links\n",
    "    outlinks_common = [value for value in outlinks if value in inlinks]\n",
    "    inlinks_common = [value for value in inlinks if value in outlinks]\n",
    "    linkdirection_both = set(outlinks_common + inlinks_common)\n",
    "\n",
    "    for link in linkdirection_both:\n",
    "        link_object = {'source': page_url,\n",
    "                       'target': link,\n",
    "                       'dir':'both'}\n",
    "        nodelinks.append(link_object)\n",
    "\n",
    "    # we then need to get the difference between the both links and the out links\n",
    "    # these are these dir='out links\n",
    "    linkdirection_out = [value for value in outlinks if value not in linkdirection_both]\n",
    "\n",
    "    for link in linkdirection_out:\n",
    "        link_object = {'source': page_url,\n",
    "                       'target': link,\n",
    "                       'dir':'out'}\n",
    "        nodelinks.append(link_object)\n",
    "\n",
    "    # we then need to get the difference between the both links and the in links\n",
    "    # these are the dir='in' links\n",
    "    linkdirection_in = [value for value in inlinks if value not in linkdirection_both]\n",
    "\n",
    "    for link in linkdirection_in:\n",
    "        link_object = {'source': page_url,\n",
    "                       'target': link,\n",
    "                       'dir':'in'}\n",
    "        nodelinks.append(link_object)\n",
    "\n",
    "    # sorted_nodelinks = sorted(nodelinks, key=(1))\n",
    "\n",
    "    sorted_nodelinks = sorted(nodelinks, key=lambda k: k['target']) \n",
    "    \n",
    "    return sorted_nodelinks\n",
    "\n",
    "\n",
    "def create_sep_network_json(sep_collection):\n",
    "    \"\"\" exports the JSON that makes up the network graph \n",
    "\n",
    "    Things to watch for in the export file: \n",
    "    1. entries with 'entries//'\n",
    "    2. depiction needs a fix at 'reference'\n",
    "    3. type theory needs a fix for 'russell'\n",
    "    4. sartre links to himself\n",
    "    \"\"\"\n",
    "    #init empty lists \n",
    "    nodes_list = []\n",
    "    links_list = []\n",
    "\n",
    "    #loop through all entries\n",
    "    for entry in tqdm(sep_collection, desc='Processing'):\n",
    "\n",
    "        page_url = entry['page_url']\n",
    "        title = entry['title']\n",
    "        first_paragraph = entry['first_paragraph']\n",
    "        inpho_data = entry['inpho_api']\n",
    "        outlinks = [value['link'] for value in entry['outlinks']]\n",
    "        inlinks = [value['link'] for value in entry['inlinks']]\n",
    "        primary_domain = entry['primary_domain']\n",
    "        domain_tags = entry['domain_tags']\n",
    "        \n",
    "        if 'thinker' in inpho_data:\n",
    "            entry_type = 'thinker'\n",
    "        else:\n",
    "            entry_type = 'idea'\n",
    "\n",
    "        num_outlinks = len(outlinks)\n",
    "        num_inlinks = len(inlinks)\n",
    "\n",
    "        node_object = { 'id': page_url, \n",
    "                        'title': title,\n",
    "                        'entry_type': entry_type,\n",
    "                        'first_paragraph': first_paragraph,\n",
    "                        'num_outlinks': num_outlinks,\n",
    "                        'num_inlinks': num_inlinks,\n",
    "                        'primary_domain': primary_domain,\n",
    "                        'domain_tags': domain_tags,\n",
    "                        'links': return_nodelinks(page_url, outlinks, inlinks)\n",
    "                    }\n",
    "\n",
    "        nodes_list.append(node_object)\n",
    "\n",
    "        for link in outlinks:\n",
    "            if '//' not in link:\n",
    "                links_list.append({'source':entry['page_url'], 'target':link})\n",
    "\n",
    "    articles_object = {'nodes': nodes_list, 'links':links_list}\n",
    "    network_object = {'articles' : articles_object, 'domains': domain_object}\n",
    "    with open('static/sep_network_test.json', 'w', encoding='UTF-8') as f:\n",
    "        json.dump(network_object,f,ensure_ascii=False, indent=4)"
   ]
  },
  {
   "cell_type": "code",
   "execution_count": 33,
   "metadata": {},
   "outputs": [
    {
     "output_type": "stream",
     "name": "stderr",
     "text": "Processing: 100%|██████████| 1680/1680 [00:00<00:00, 44328.33it/s]\n"
    }
   ],
   "source": [
    "#get sep entries stored in mongo\n",
    "sep_entries = list(db.sep_data.find({}).sort('title'))\n",
    "create_sep_network_json(sep_entries)"
   ]
  },
  {
   "cell_type": "code",
   "execution_count": null,
   "metadata": {},
   "outputs": [],
   "source": []
  },
  {
   "cell_type": "code",
   "execution_count": null,
   "metadata": {},
   "outputs": [],
   "source": []
  }
 ],
 "metadata": {
  "language_info": {
   "name": "python",
   "codemirror_mode": {
    "name": "ipython",
    "version": 3
   },
   "version": "3.6.9-final"
  },
  "orig_nbformat": 2,
  "file_extension": ".py",
  "mimetype": "text/x-python",
  "name": "python",
  "npconvert_exporter": "python",
  "pygments_lexer": "ipython3",
  "version": 3,
  "kernelspec": {
   "name": "python36964bitpythondataconda8971416e9bae4e8197b8a061b72f9dc8",
   "display_name": "Python 3.6.9 64-bit ('PythonData': conda)"
  }
 },
 "nbformat": 4,
 "nbformat_minor": 2
}