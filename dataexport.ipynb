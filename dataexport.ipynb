{
 "nbformat": 4,
 "nbformat_minor": 2,
 "metadata": {
  "language_info": {
   "name": "python",
   "codemirror_mode": {
    "name": "ipython",
    "version": 3
   },
   "version": "3.6.9-final"
  },
  "orig_nbformat": 2,
  "file_extension": ".py",
  "mimetype": "text/x-python",
  "name": "python",
  "npconvert_exporter": "python",
  "pygments_lexer": "ipython3",
  "version": 3,
  "kernelspec": {
   "name": "python36964bitpythondataconda8971416e9bae4e8197b8a061b72f9dc8",
   "display_name": "Python 3.6.9 64-bit ('PythonData': conda)"
  }
 },
 "cells": [
  {
   "cell_type": "code",
   "execution_count": 1,
   "metadata": {},
   "outputs": [],
   "source": [
    "import pymongo \n",
    "import json \n",
    "from tqdm import tqdm"
   ]
  },
  {
   "cell_type": "code",
   "execution_count": 2,
   "metadata": {},
   "outputs": [],
   "source": [
    "conn = 'mongodb://localhost:27017'\n",
    "client = pymongo.MongoClient(conn)\n",
    "db = client.visualizing_sep"
   ]
  },
  {
   "cell_type": "code",
   "execution_count": 1,
   "metadata": {},
   "outputs": [],
   "source": [
    "def create_sep_network_json(sep_collection):\n",
    "    \"\"\" exports the JSON that makes up the network graph \n",
    "\n",
    "    Things to watch for in the export file: \n",
    "    1. entries with 'entries//'\n",
    "    2. depiction needs a fix at 'reference'\n",
    "    3. type theory needs a fix for 'russell'\n",
    "    \"\"\"\n",
    "    #init empty lists \n",
    "    nodes_list = []\n",
    "    links_list = []\n",
    "\n",
    "    sep_entries = list(sep_collection.find({}).sort('title'))\n",
    "\n",
    "    #loop through all entries\n",
    "    for entry in tqdm(sep_entries, desc='Processing'):\n",
    "        inpho_data = entry['inpho_api']\n",
    "        \n",
    "        if 'thinker' in inpho_data:\n",
    "            entry_type = 'thinker'\n",
    "        else:\n",
    "            entry_type = 'idea'\n",
    "\n",
    "        node_object = { \n",
    "            'id': entry['page_url'], \n",
    "            'title': entry['title'],\n",
    "            'entry_type': entry_type,\n",
    "            'first_paragraph': entry[\"first_paragraph\"]\n",
    "            }\n",
    "\n",
    "        nodes_list.append(node_object)\n",
    "\n",
    "        for link in entry['outlinks']:\n",
    "            links_list.append({'source':entry['page_url'], 'target':link['link']})\n",
    "\n",
    "    network_object = {'nodes': nodes_list, 'links':sorted(links_list)}\n",
    "\n",
    "    with open('network1.json', 'w', encoding='UTF-8') as f:\n",
    "        json.dump(network_object,f,ensure_ascii=False, indent=4)"
   ]
  },
  {
   "cell_type": "code",
   "execution_count": 5,
   "metadata": {},
   "outputs": [
    {
     "output_type": "stream",
     "name": "stderr",
     "text": "Processing: 100%|██████████| 1680/1680 [00:00<00:00, 240615.70it/s]\n"
    }
   ],
   "source": [
    "#get sep entries stored in mongo\n",
    "sep_entries = db.sep_data\n",
    "create_sep_network_json(sep_entries)\n",
    "\n"
   ]
  },
  {
   "cell_type": "code",
   "execution_count": null,
   "metadata": {},
   "outputs": [],
   "source": []
  }
 ]
}