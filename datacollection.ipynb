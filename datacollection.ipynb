{
 "nbformat": 4,
 "nbformat_minor": 2,
 "metadata": {
  "language_info": {
   "name": "python",
   "codemirror_mode": {
    "name": "ipython",
    "version": 3
   },
   "version": "3.6.9-final"
  },
  "orig_nbformat": 2,
  "file_extension": ".py",
  "mimetype": "text/x-python",
  "name": "python",
  "npconvert_exporter": "python",
  "pygments_lexer": "ipython3",
  "version": 3,
  "kernelspec": {
   "name": "python3",
   "display_name": "Python 3"
  }
 },
 "cells": [
  {
   "cell_type": "code",
   "execution_count": 1,
   "metadata": {},
   "outputs": [],
   "source": [
    "# import dependencies\n",
    "import pandas as pd \n",
    "import requests\n",
    "import time\n",
    "import pymongo\n",
    "from  tqdm import tqdm\n",
    "from pprint import pprint\n",
    "\n",
    "#import local libraries\n",
    "import functions_mongo as mdb\n",
    "import funtions_webscraping as web"
   ]
  },
  {
   "cell_type": "code",
   "execution_count": 2,
   "metadata": {},
   "outputs": [],
   "source": [
    "##### Initialize Global Variables #####\n",
    "\n",
    "#init Mongo\n",
    "conn = 'mongodb://localhost:27017'\n",
    "client = pymongo.MongoClient(conn)\n",
    "\n",
    "#create database\n",
    "db = client.visualizing_sep\n",
    "\n",
    "#create collection to hold SEP TOC\n",
    "toc_collection = db.sep_win2019_toc\n",
    "\n"
   ]
  },
  {
   "cell_type": "code",
   "execution_count": 18,
   "metadata": {},
   "outputs": [
    {
     "name": "stdout",
     "output_type": "stream",
     "text": "Starting: SEP TOC Scrape\n\nhtml_files/win2019_toc.html\n2275\nCompleted: SEP TOC Scrape\n\n"
    }
   ],
   "source": [
    "# scrape TOC from SEP \n",
    "\n",
    "print(\"Starting: SEP TOC Scrape\\n\")\n",
    "\n",
    "#TOC to scrape\n",
    "search_url = \"https://plato.stanford.edu/archives/win2019/contents.html\"\n",
    "\n",
    "#url to generate absolute paths from\n",
    "base_url = \"https://plato.stanford.edu/archives/win2019/\"\n",
    "\n",
    "#current TOC edition\n",
    "toc_edition = \"Winter 2019\"\n",
    "\n",
    "#hold all individual TOC entries \n",
    "toc_list = []\n",
    "\n",
    "#scrape selected webpage and save HTML file\n",
    "soup = web.scrape_web_page(search_url, \"html_files/win2019_toc.html\")\n",
    "\n",
    "#get all links with an HREF attribute in the content page\n",
    "links_in_toc = soup.find(id=\"content\").findAll(\"a\", href=True)\n",
    "\n",
    "print(len(links_in_toc))\n",
    "\n",
    "file_toclist = open(\"html_files/sep_toc_list.txt\",\"w\",encoding=\"UTF-8\")\n",
    "file_links = open(\"html_files/sep_toc_links.txt\", \"w\", encoding=\"UTF-8\")\n",
    "\n",
    "for link in links_in_toc:\n",
    "    link_text = link.get_text()\n",
    "    link_href = link[\"href\"]\n",
    "\n",
    "    if link_href != '#pagetopright':\n",
    "        #create dictionary to append to mongo\n",
    "        entry = {\"base_url\":base_url, \"link_url\":link_href}\n",
    "        if entry not in toc_list:\n",
    "            toc_list.append(entry)\n",
    "            file_toclist.write(f\"{link_text}:{link_href}\\n\")\n",
    "            file_links.write(f\"{link}\\n\")\n",
    "\n",
    "# #insert into Mongo\n",
    "toc_collection.insert_many(toc_list)\n",
    "\n",
    "\n",
    "print(\"Completed: SEP TOC Scrape\\n\")\n"
   ]
  },
  {
   "cell_type": "code",
   "execution_count": 19,
   "metadata": {},
   "outputs": [
    {
     "name": "stderr",
     "output_type": "stream",
     "text": "l\nhtml_files/sep/nietzsche-life-works.html\nhtml_files/sep/nietzsche-moral-political.html\nhtml_files/sep/nietzsche.html\nhtml_files/sep/nishida-kitaro.html\nhtml_files/sep/nominalism-mathematics.html\nhtml_files/sep/nominalism-metaphysics.html\nhtml_files/sep/nonexistent-objects.html\nhtml_files/sep/nonidentity-problem.html\nhtml_files/sep/nonwellfounded-set-theory.html\nhtml_files/sep/nothingness.html\nhtml_files/sep/novalis.html\nhtml_files/sep/nozick-political.html\nhtml_files/sep/numenius.html\nhtml_files/sep/oakeshott.html\nhtml_files/sep/object.html\nhtml_files/sep/obligationes.html\nhtml_files/sep/occasionalism.html\nhtml_files/sep/ockham.html\nhtml_files/sep/olivi.html\nhtml_files/sep/olympiodorus.html\nhtml_files/sep/omnipotence.html\nhtml_files/sep/omnipresence.html\nhtml_files/sep/omniscience.html\nhtml_files/sep/ontological-arguments.html\nhtml_files/sep/ontological-commitment.html\nhtml_files/sep/operationalism.html\nhtml_files/sep/ordinary-objects.html\nhtml_files/sep/organ-donation.html\nhtml_files/sep/organs-sale.html\nhtml_files/sep/origen.html\nhtml_files/sep/origin-descent.html\nhtml_files/sep/original-position.html\nhtml_files/sep/other-minds.html\nhtml_files/sep/pacifism.html\nhtml_files/sep/pain.html\nProcessing:  69%|██████▊   | 1146/1672 [00:01<00:00, 1037.31it/s]html_files/sep/paine.html\nhtml_files/sep/panentheism.html\nhtml_files/sep/panpsychism.html\nhtml_files/sep/pantheism.html\nhtml_files/sep/paradox-simpson.html\nhtml_files/sep/paradox-skolem.html\nhtml_files/sep/paradox-stpetersburg.html\nhtml_files/sep/paradox-suspense.html\nhtml_files/sep/paradox-zeno.html\nhtml_files/sep/paradoxes-contemporary-logic.html\nhtml_files/sep/parenthood.html\nhtml_files/sep/parmenides.html\nhtml_files/sep/pascal-wager.html\nhtml_files/sep/pascal.html\nhtml_files/sep/paternalism.html\nhtml_files/sep/patriotism.html\nhtml_files/sep/patrizi.html\nhtml_files/sep/paul-venice.html\nhtml_files/sep/peirce-benjamin.html\nhtml_files/sep/peirce-logic.html\nhtml_files/sep/peirce-semiotics.html\nhtml_files/sep/peirce.html\nhtml_files/sep/penbygull.html\nhtml_files/sep/perception-auditory.html\nhtml_files/sep/perception-contents.html\nhtml_files/sep/perception-disjunctive.html\nhtml_files/sep/perception-episprob.html\nhtml_files/sep/perception-india.html\nhtml_files/sep/perception-justification.html\nhtml_files/sep/perception-problem.html\nhtml_files/sep/perceptual-learning.html\nhtml_files/sep/perfect-goodness.html\nhtml_files/sep/perfectionism-moral.html\nhtml_files/sep/personal-autonomy.html\nhtml_files/sep/personal-relationship-goods.html\nhtml_files/sep/personalism.html\nhtml_files/sep/persons-means.html\nhtml_files/sep/peter-damian.html\nhtml_files/sep/peter-spain.html\nhtml_files/sep/petitionary-prayer.html\nhtml_files/sep/phenomenal-intentionality.html\nhtml_files/sep/phenomenology-mg.html\nhtml_files/sep/phenomenology-religion.html\nhtml_files/sep/phenomenology.html\nhtml_files/sep/phil-multimodallogic.html\nhtml_files/sep/phil-science-latin-america.html\nhtml_files/sep/philip-chancellor.html\nhtml_files/sep/philippa-foot.html\nhtml_files/sep/philo-larissa.html\nhtml_files/sep/philo.html\nhtml_files/sep/philodemus.html\nhtml_files/sep/philolaus.html\nhtml_files/sep/philoponus.html\nhtml_files/sep/philosophy-chile.html\nhtml_files/sep/philosophy-mathematics.html\nhtml_files/sep/philosophy-mexico.html\nhtml_files/sep/philosophy-religion.html\nhtml_files/sep/physicalism.html\nhtml_files/sep/physics-Rpcc.html\nhtml_files/sep/physics-experiment.html\nhtml_files/sep/physics-holism.html\nhtml_files/sep/physics-interrelate.html\nhtml_files/sep/physics-structuralism.html\nhtml_files/sep/pico-della-mirandola.html\nhtml_files/sep/pineal-gland.html\nhtml_files/sep/plato-aesthetics.html\nhtml_files/sep/plato-cratylus.html\nhtml_files/sep/plato-ethics-politics.html\nhtml_files/sep/plato-ethics-shorter.html\nhtml_files/sep/plato-ethics.html\nhtml_files/sep/plato-friendship.html\nhtml_files/sep/plato-metaphysics.html\nhtml_files/sep/plato-myths.html\nhtml_files/sep/plato-parmenides.html\nhtml_files/sep/plato-rhetoric.html\nhtml_files/sep/plato-sophstate.html\nhtml_files/sep/plato-theaetetus.html\nhtml_files/sep/plato-timaeus.html\nhtml_files/sep/plato-utopia.html\nhtml_files/sep/plato.html\nhtml_files/sep/platonism-mathematics.html\nhtml_files/sep/platonism.html\nhtml_files/sep/pleasure.html\nhtml_files/sep/plotinus.html\nhtml_files/sep/plural-quant.html\nhtml_files/sep/plutarch.html\nhtml_files/sep/pm-notation.html\nhtml_files/sep/poincare.html\nhtml_files/sep/political-obligation.html\nhtml_files/sep/political-representation.html\nhtml_files/sep/polqar.html\nhtml_files/sep/pomponazzi.html\nhtml_files/sep/popper.html\nhtml_files/sep/population-genetics.html\nhtml_files/sep/pornography-censorship.html\nhtml_files/sep/porphyry.html\nhtml_files/sep/port-royal-logic.html\nhtml_files/sep/possible-objects.html\nhtml_files/sep/possible-worlds.html\nhtml_files/sep/postmodernism.html\nhtml_files/sep/practical-reason-action.html\nhtml_files/sep/practical-reason-med.html\nhtml_files/sep/practical-reason.html\nhtml_files/sep/pragmatic-belief-god.html\nhtml_files/sep/pragmatics.html\nhtml_files/sep/pragmatism.html\nhtml_files/sep/prediction-accommodation.html\nhtml_files/sep/preferences.html\nhtml_files/sep/presentism.html\nhtml_files/sep/presocratics.html\nProcessing:  75%|███████▌  | 1256/1672 [00:01<00:00, 1053.13it/s]html_files/sep/presupposition.html\nhtml_files/sep/prichard.html\nhtml_files/sep/principia-mathematica.html\nhtml_files/sep/principle-beneficence.html\nhtml_files/sep/prior.html\nhtml_files/sep/prisoner-dilemma.html\nhtml_files/sep/privacy-medicine.html\nhtml_files/sep/privacy.html\nhtml_files/sep/private-language.html\nhtml_files/sep/probability-interpret.html\nhtml_files/sep/probability-medieval-renaissance.html\nhtml_files/sep/problem-of-many.html\nhtml_files/sep/process-philosophy.html\nhtml_files/sep/process-theism.html\nhtml_files/sep/proclus.html\nhtml_files/sep/progress.html\nhtml_files/sep/promises.html\nhtml_files/sep/proof-theoretic-semantics.html\nhtml_files/sep/proof-theory-development.html\nhtml_files/sep/proof-theory.html\nhtml_files/sep/prop-attitude-reports.html\nhtml_files/sep/properties-emergent.html\nhtml_files/sep/properties.html\nhtml_files/sep/property.html\nhtml_files/sep/prophecy.html\nhtml_files/sep/propositional-function.html\nhtml_files/sep/propositions-singular.html\nhtml_files/sep/propositions-structured.html\nhtml_files/sep/propositions.html\nhtml_files/sep/providence-divine.html\nhtml_files/sep/pseudo-dionysius-areopagite.html\nhtml_files/sep/pseudo-science.html\nhtml_files/sep/psychiatry.html\nhtml_files/sep/psychologism.html\nhtml_files/sep/public-reason.html\nhtml_files/sep/publichealth-ethics.html\nhtml_files/sep/publicity.html\nhtml_files/sep/pufendorf-moral.html\nhtml_files/sep/punishment.html\nhtml_files/sep/pyrrho.html\nhtml_files/sep/pythagoras.html\nhtml_files/sep/pythagoreanism.html\nhtml_files/sep/qing-philosophy.html\nhtml_files/sep/qm-action-distance.html\nhtml_files/sep/qm-bohm.html\nhtml_files/sep/qm-collapse.html\nhtml_files/sep/qm-consistent-histories.html\nhtml_files/sep/qm-copenhagen.html\nhtml_files/sep/qm-decoherence.html\nhtml_files/sep/qm-everett.html\nhtml_files/sep/qm-manyworlds.html\nhtml_files/sep/qm-modal.html\nhtml_files/sep/qm-relational.html\nhtml_files/sep/qm-retrocausality.html\nhtml_files/sep/qm.html\nhtml_files/sep/qt-consciousness.html\nhtml_files/sep/qt-entangle.html\nhtml_files/sep/qt-epr.html\nhtml_files/sep/qt-idind.html\nhtml_files/sep/qt-issues.html\nhtml_files/sep/qt-nvd.html\nhtml_files/sep/qt-quantcomp.html\nhtml_files/sep/qt-quantlog.html\nhtml_files/sep/qt-uncertainty.html\nhtml_files/sep/qualia-inverted.html\nhtml_files/sep/qualia-knowledge.html\nhtml_files/sep/qualia.html\nhtml_files/sep/quantification.html\nhtml_files/sep/quantum-bayesian.html\nhtml_files/sep/quantum-field-theory.html\nhtml_files/sep/quantum-gravity.html\nhtml_files/sep/questions.html\nhtml_files/sep/quine-nf.html\nhtml_files/sep/quine.html\nhtml_files/sep/quotation.html\nhtml_files/sep/race.html\nhtml_files/sep/radulphus-brito.html\nhtml_files/sep/ramsey-economics.html\nhtml_files/sep/ramsey.html\nhtml_files/sep/ramus.html\nhtml_files/sep/rationalism-empiricism.html\nhtml_files/sep/rationality-historicist.html\nhtml_files/sep/rationality-instrumental.html\nhtml_files/sep/rationality-normative-utility.html\nhtml_files/sep/rawls.html\nhtml_files/sep/real-essence.html\nhtml_files/sep/realism-intl-relations.html\nhtml_files/sep/realism-sem-challenge.html\nhtml_files/sep/realism-theory-change.html\nhtml_files/sep/realism.html\nhtml_files/sep/reasoning-analogy.html\nhtml_files/sep/reasoning-automated.html\nhtml_files/sep/reasoning-defeasible.html\nhtml_files/sep/reasoning-moral.html\nhtml_files/sep/reasons-agent.html\nhtml_files/sep/reasons-internal-external.html\nhtml_files/sep/reasons-just-vs-expl.html\nhtml_files/sep/recognition.html\nhtml_files/sep/reconciliation.html\nhtml_files/sep/recursive-functions.html\nhtml_files/sep/redistribution.html\nhtml_files/sep/reduction-biology.html\nhtml_files/sep/reference.html\nhtml_files/sep/reflective-equilibrium.html\nhtml_files/sep/reichenbach.html\nhtml_files/sep/reid-ethics.html\nhtml_files/sep/reid-memory-identity.html\nhtml_files/sep/reid.html\nhtml_files/sep/reinach.html\nhtml_files/sep/reism.html\nhtml_files/sep/relations-medieval.html\nhtml_files/sep/relations.html\nhtml_files/sep/relativism.html\nProcessing:  82%|████████▏ | 1369/1672 [00:01<00:00, 1072.83it/s]html_files/sep/reliabilism.html\nhtml_files/sep/religion-epistemology.html\nhtml_files/sep/religion-morality.html\nhtml_files/sep/religion-politics.html\nhtml_files/sep/religion-science.html\nhtml_files/sep/religious-experience.html\nhtml_files/sep/religious-language.html\nhtml_files/sep/religious-pluralism.html\nhtml_files/sep/replication.html\nhtml_files/sep/representation-medieval.html\nhtml_files/sep/republicanism.html\nhtml_files/sep/repugnant-conclusion.html\nhtml_files/sep/respect.html\nhtml_files/sep/revolution.html\nhtml_files/sep/richard-price.html\nhtml_files/sep/richard-sophister.html\nhtml_files/sep/ricoeur.html\nhtml_files/sep/rights-children.html\nhtml_files/sep/rights-group.html\nhtml_files/sep/rights-human.html\nhtml_files/sep/rights.html\nhtml_files/sep/rigid-designators.html\nhtml_files/sep/risk.html\nhtml_files/sep/robert-kilwardby.html\nhtml_files/sep/roger-bacon.html\nhtml_files/sep/rorty.html\nhtml_files/sep/rosenstock-huessy.html\nhtml_files/sep/rosenzweig.html\nhtml_files/sep/rousseau.html\nhtml_files/sep/royce.html\nhtml_files/sep/rule-of-law.html\nhtml_files/sep/russell-moral.html\nhtml_files/sep/russell-paradox.html\nhtml_files/sep/russell.html\nhtml_files/sep/russellian-monism.html\nhtml_files/sep/ryle.html\nhtml_files/sep/saadya.html\nhtml_files/sep/saantarak-sita.html\nhtml_files/sep/sakya-pandita.html\nhtml_files/sep/santayana.html\nhtml_files/sep/sartre.html\nhtml_files/sep/scheler.html\nhtml_files/sep/schelling.html\nhtml_files/sep/schema.html\nhtml_files/sep/schiller.html\nhtml_files/sep/schlegel-aw.html\nhtml_files/sep/schlegel.html\nhtml_files/sep/schleiermacher.html\nhtml_files/sep/schlick.html\nhtml_files/sep/schmitt.html\nhtml_files/sep/scholem.html\nhtml_files/sep/scholz.html\nhtml_files/sep/school-names.html\nhtml_files/sep/school-salamanca.html\nhtml_files/sep/schopenhauer-aesthetics.html\nhtml_files/sep/schopenhauer.html\nhtml_files/sep/schutz.html\nhtml_files/sep/science-mechanisms.html\nhtml_files/sep/science-theory-observation.html\nhtml_files/sep/scientific-discovery.html\nhtml_files/sep/scientific-explanation.html\nhtml_files/sep/scientific-knowledge-social.html\nhtml_files/sep/scientific-method.html\nhtml_files/sep/scientific-objectivity.html\nhtml_files/sep/scientific-progress.html\nhtml_files/sep/scientific-realism.html\nhtml_files/sep/scientific-reduction.html\nhtml_files/sep/scientific-representation.html\nhtml_files/sep/scientific-reproducibility.html\nhtml_files/sep/scientific-revolutions.html\nhtml_files/sep/scientific-underdetermination.html\nhtml_files/sep/scientific-unity.html\nhtml_files/sep/scottish-18th.html\nhtml_files/sep/scottish-19th.html\nhtml_files/sep/scottus-eriugena.html\nhtml_files/sep/secession.html\nhtml_files/sep/selection-units.html\nhtml_files/sep/self-consciousness-phenomenological.html\nhtml_files/sep/self-consciousness.html\nhtml_files/sep/self-deception.html\nhtml_files/sep/self-knowledge-externalism.html\nhtml_files/sep/self-knowledge.html\nhtml_files/sep/self-reference.html\nhtml_files/sep/sellars.html\nhtml_files/sep/semiotics-medieval.html\nhtml_files/sep/seneca.html\nhtml_files/sep/sense-data.html\nhtml_files/sep/set-theory-constructive.html\nhtml_files/sep/set-theory.html\nhtml_files/sep/settheory-alternative.html\nhtml_files/sep/settheory-early.html\nhtml_files/sep/sex-sexuality.html\nhtml_files/sep/sextus-empiricus.html\nhtml_files/sep/shaftesbury.html\nhtml_files/sep/shantideva.html\nhtml_files/sep/shared-agency.html\nhtml_files/sep/sharpe.html\nhtml_files/sep/sidgwick.html\nhtml_files/sep/sidney-hook.html\nhtml_files/sep/simon-faversham.html\nhtml_files/sep/simone-weil.html\nhtml_files/sep/simplicity.html\nhtml_files/sep/simulations-science.html\nhtml_files/sep/singular-terms-medieval.html\nhtml_files/sep/situations-semantics.html\nhtml_files/sep/skeptical-theism.html\nhtml_files/sep/skepticism-ancient.html\nProcessing:  88%|████████▊ | 1476/1672 [00:01<00:00, 1026.63it/s]html_files/sep/skepticism-content-externalism.html\nhtml_files/sep/skepticism-latin-america.html\nhtml_files/sep/skepticism-medieval.html\nhtml_files/sep/skepticism-moral-responsibility.html\nhtml_files/sep/skepticism-moral.html\nhtml_files/sep/skepticism.html\nhtml_files/sep/smith-moral-political.html\nhtml_files/sep/social-choice.html\nhtml_files/sep/social-construction-naturalistic.html\nhtml_files/sep/social-institutions.html\nhtml_files/sep/social-minimum.html\nhtml_files/sep/social-norms.html\nhtml_files/sep/social-ontology.html\nhtml_files/sep/social-procedures.html\nhtml_files/sep/socialism.html\nhtml_files/sep/sociobiology.html\nhtml_files/sep/socrates.html\nhtml_files/sep/sophie-de-grouchy.html\nhtml_files/sep/sophismata.html\nhtml_files/sep/sophists.html\nhtml_files/sep/sorites-paradox.html\nhtml_files/sep/sortals.html\nhtml_files/sep/sounds.html\nhtml_files/sep/sovereignty.html\nhtml_files/sep/spacetime-bebecome.html\nhtml_files/sep/spacetime-convensimul.html\nhtml_files/sep/spacetime-holearg.html\nhtml_files/sep/spacetime-iframes.html\nhtml_files/sep/spacetime-singularities.html\nhtml_files/sep/spacetime-supertasks.html\nhtml_files/sep/spacetime-theories.html\nhtml_files/sep/special-obligations.html\nhtml_files/sep/species.html\nhtml_files/sep/speech-acts.html\nhtml_files/sep/spencer.html\nhtml_files/sep/speusippus.html\nhtml_files/sep/spinoza-attributes.html\nhtml_files/sep/spinoza-modal.html\nhtml_files/sep/spinoza-physics.html\nhtml_files/sep/spinoza-political.html\nhtml_files/sep/spinoza-psychological.html\nhtml_files/sep/spinoza.html\nhtml_files/sep/square.html\nhtml_files/sep/sriharsa.html\nhtml_files/sep/states-of-affairs.html\nhtml_files/sep/statistics.html\nhtml_files/sep/statphys-Boltzmann.html\nhtml_files/sep/statphys-statmech.html\nhtml_files/sep/stebbing.html\nhtml_files/sep/stem-cells.html\nhtml_files/sep/stevenson.html\nhtml_files/sep/stoicism.html\nhtml_files/sep/strauss-leo.html\nhtml_files/sep/strawson.html\nhtml_files/sep/structural-realism.html\nhtml_files/sep/structuralism-mathematics.html\nhtml_files/sep/structure-scientific-theories.html\nhtml_files/sep/stumpf.html\nhtml_files/sep/suarez.html\nhtml_files/sep/substance.html\nhtml_files/sep/sufficient-reason.html\nhtml_files/sep/suhrawardi.html\nhtml_files/sep/suicide.html\nhtml_files/sep/supererogation.html\nhtml_files/sep/supervenience-ethics.html\nhtml_files/sep/supervenience.html\nhtml_files/sep/sylvan-routley.html\nhtml_files/sep/symmetry-breaking.html\nhtml_files/sep/syrianus.html\nhtml_files/sep/systems-synthetic-biology.html\nhtml_files/sep/tarski-truth.html\nhtml_files/sep/tarski.html\nhtml_files/sep/taurellus.html\nhtml_files/sep/technology.html\nhtml_files/sep/teleological-arguments.html\nhtml_files/sep/teleology-biology.html\nhtml_files/sep/telesio.html\nhtml_files/sep/temporal-parts.html\nhtml_files/sep/tense-aspect.html\nhtml_files/sep/terrorism.html\nhtml_files/sep/testimony-episprob.html\nhtml_files/sep/theater.html\nhtml_files/sep/theology-aristotle.html\nhtml_files/sep/theophrastus.html\nhtml_files/sep/theoretical-terms-science.html\nhtml_files/sep/theory-bioethics.html\nhtml_files/sep/thick-ethical-concepts.html\nhtml_files/sep/thomas-kuhn.html\nhtml_files/sep/thomas-more.html\nhtml_files/sep/thoreau.html\nhtml_files/sep/thought-experiment.html\nhtml_files/sep/tibbon.html\nhtml_files/sep/time-experience.html\nhtml_files/sep/time-machine.html\nhtml_files/sep/time-thermo.html\nhtml_files/sep/time-travel-phys.html\nhtml_files/sep/time-travel.html\nhtml_files/sep/time.html\nhtml_files/sep/timon-phlius.html\nhtml_files/sep/toleration.html\nhtml_files/sep/tort-theories.html\nhtml_files/sep/torture.html\nhtml_files/sep/touch.html\nhtml_files/sep/transcendental-arguments.html\nhtml_files/sep/transcendentalism.html\nhtml_files/sep/transcendentals-medieval.html\nhtml_files/sep/transmission-justification-warrant.html\nhtml_files/sep/trinity.html\nhtml_files/sep/tropes.html\nProcessing:  95%|█████████▍| 1585/1672 [00:01<00:00, 1042.66it/s]html_files/sep/trust.html\nhtml_files/sep/truth-axiomatic.html\nhtml_files/sep/truth-coherence.html\nhtml_files/sep/truth-correspondence.html\nhtml_files/sep/truth-deflationary.html\nhtml_files/sep/truth-identity.html\nhtml_files/sep/truth-pluralist.html\nhtml_files/sep/truth-pragmatic.html\nhtml_files/sep/truth-revision.html\nhtml_files/sep/truth-values.html\nhtml_files/sep/truth.html\nhtml_files/sep/truthlikeness.html\nhtml_files/sep/truthmakers.html\nhtml_files/sep/tsongkhapa.html\nhtml_files/sep/turing-machine.html\nhtml_files/sep/turing-test.html\nhtml_files/sep/turing.html\nhtml_files/sep/twardowski.html\nhtml_files/sep/two-dimensional-semantics.html\nhtml_files/sep/twotruths-india.html\nhtml_files/sep/twotruths-tibet.html\nhtml_files/sep/type-theory-church.html\nhtml_files/sep/type-theory-intuitionistic.html\nhtml_files/sep/type-theory.html\nhtml_files/sep/typelogical-grammar.html\nhtml_files/sep/types-tokens.html\nhtml_files/sep/umar-khayyam.html\nhtml_files/sep/universals-medieval.html\nhtml_files/sep/utilitarianism-history.html\nhtml_files/sep/vagueness.html\nhtml_files/sep/value-incommensurable.html\nhtml_files/sep/value-intrinsic-extrinsic.html\nhtml_files/sep/value-pluralism.html\nhtml_files/sep/value-theory.html\nhtml_files/sep/vasubandhu.html\nhtml_files/sep/vegetarianism.html\nhtml_files/sep/vico.html\nhtml_files/sep/vienna-circle.html\nhtml_files/sep/vives.html\nhtml_files/sep/voltaire.html\nhtml_files/sep/voluntarism-theological.html\nhtml_files/sep/voting-methods.html\nhtml_files/sep/voting.html\nhtml_files/sep/walter-chatton.html\nhtml_files/sep/wang-yangming.html\nhtml_files/sep/war.html\nhtml_files/sep/watsuji-tetsuro.html\nhtml_files/sep/weakness-will.html\nhtml_files/sep/weber.html\nhtml_files/sep/well-being.html\nhtml_files/sep/wesley-salmon.html\nhtml_files/sep/weyl.html\nhtml_files/sep/whewell.html\nhtml_files/sep/whitehead.html\nhtml_files/sep/wilhelm-humboldt.html\nhtml_files/sep/wilhelm-wundt.html\nhtml_files/sep/william-auvergne.html\nhtml_files/sep/william-champeaux.html\nhtml_files/sep/william-david-ross.html\nhtml_files/sep/william-jevons.html\nhtml_files/sep/william-sherwood.html\nhtml_files/sep/williams-bernard.html\nhtml_files/sep/williams-dc.html\nhtml_files/sep/wilson.html\nhtml_files/sep/wisdom.html\nhtml_files/sep/wittgenstein-aesthetics.html\nhtml_files/sep/wittgenstein-atomism.html\nhtml_files/sep/wittgenstein-mathematics.html\nhtml_files/sep/wittgenstein.html\nhtml_files/sep/wodeham.html\nhtml_files/sep/wolff-christian.html\nhtml_files/sep/wollstonecraft.html\nhtml_files/sep/word-meaning.html\nhtml_files/sep/world-government.html\nhtml_files/sep/wright.html\nhtml_files/sep/wyclif-political.html\nhtml_files/sep/wyclif.html\nhtml_files/sep/xenocrates.html\nhtml_files/sep/xenophanes.html\nhtml_files/sep/xunzi.html\nhtml_files/sep/yorck.html\nhtml_files/sep/zabarella.html\nhtml_files/sep/zeno-elea.html\nhtml_files/sep/zermelo-set-theory.html\nhtml_files/sep/zhu-xi.html\nhtml_files/sep/zhuangzi.html\nhtml_files/sep/zombies.html\nProcessing: 100%|██████████| 1672/1672 [00:01<00:00, 1051.72it/s]\n"
    }
   ],
   "source": [
    "# pages = toc_collection.find({'link_url': {'$regex': '^entries/a'}}).sort('link_url')\n",
    "pages = toc_collection.find().sort('link_url')\n",
    "pages_list = list(pages)\n",
    "\n",
    "for page in tqdm(pages_list, desc=\"Processing\"):\n",
    "    base_url = page['base_url']\n",
    "    link_url = page['link_url']\n",
    "    slash_pos = link_url.rfind(\"/\",0,len(link_url)-1)\n",
    "    page_name = link_url[slash_pos+1:len(link_url)-1]\n",
    "    page_url = f\"{base_url}{link_url}\"\n",
    "    html_save_as = f\"html_files/sep/{page_name}.html\"\n",
    "    try:\n",
    "        print(html_save_as)\n",
    "        #soup = web.scrape_web_page(page_url, html_save_as)\n",
    "    except:\n",
    "        print(f\"Scraped failed @ {page_name}\")\n",
    "\n",
    "\n",
    "\n"
   ]
  },
  {
   "cell_type": "code",
   "execution_count": null,
   "metadata": {},
   "outputs": [],
   "source": [
    "\n",
    "    "
   ]
  },
  {
   "cell_type": "code",
   "execution_count": null,
   "metadata": {},
   "outputs": [],
   "source": []
  }
 ]
}