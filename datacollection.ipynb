{
 "nbformat": 4,
 "nbformat_minor": 2,
 "metadata": {
  "language_info": {
   "name": "python",
   "codemirror_mode": {
    "name": "ipython",
    "version": 3
   },
   "version": "3.6.9-final"
  },
  "orig_nbformat": 2,
  "file_extension": ".py",
  "mimetype": "text/x-python",
  "name": "python",
  "npconvert_exporter": "python",
  "pygments_lexer": "ipython3",
  "version": 3,
  "kernelspec": {
   "name": "python3",
   "display_name": "Python 3"
  }
 },
 "cells": [
  {
   "cell_type": "code",
   "execution_count": 1,
   "metadata": {},
   "outputs": [],
   "source": [
    "# import dependencies\n",
    "import pandas as pd \n",
    "import requests\n",
    "import time\n",
    "import pymongo\n",
    "from  tqdm import tqdm\n",
    "from pprint import pprint\n",
    "\n",
    "#import local libraries\n",
    "import functions_mongo as mdb\n",
    "import funtions_webscraping as web"
   ]
  },
  {
   "cell_type": "code",
   "execution_count": 2,
   "metadata": {},
   "outputs": [],
   "source": [
    "##### Initialize Global Variables #####\n",
    "\n",
    "#init Mongo\n",
    "conn = 'mongodb://localhost:27017'\n",
    "client = pymongo.MongoClient(conn)\n",
    "\n",
    "#create database\n",
    "db = client.visualizing_sep\n",
    "\n",
    "#create collection to hold SEP TOC\n",
    "toc_collection = db.sep_win2019_toc\n",
    "\n"
   ]
  },
  {
   "cell_type": "code",
   "execution_count": null,
   "metadata": {},
   "outputs": [],
   "source": [
    "# scrape TOC from SEP \n",
    "\n",
    "print(\"Starting: SEP TOC Scrape\\n\")\n",
    "\n",
    "#TOC to scrape\n",
    "search_url = \"https://plato.stanford.edu/archives/win2019/contents.html\"\n",
    "\n",
    "#url to generate absolute paths from\n",
    "base_url = \"https://plato.stanford.edu/archives/win2019/\"\n",
    "\n",
    "#current TOC edition\n",
    "toc_edition = \"Winter 2019\"\n",
    "\n",
    "#hold all individual TOC entries \n",
    "toc_list = []\n",
    "\n",
    "#scrape selected webpage and save HTML file\n",
    "soup = web.scrape_web_page(search_url, \"data/win2019_toc.html\")\n",
    "\n",
    "#get all links with an HREF attribute in the content page\n",
    "links_in_toc = soup.find(id=\"content\").findAll(\"a\", href=True)\n",
    "\n",
    "file_toclist = open(\"html_files/sep_toc_list.txt\",\"w\",encoding=\"UTF-8\")\n",
    "file_links = open(\"html_files/sep_toc_links.txt\", \"w\", encoding=\"UTF-8\")\n",
    "\n",
    "for link in links_in_toc:\n",
    "    link_text = link.get_text()\n",
    "    link_href = link[\"href\"]\n",
    "\n",
    "    if link_href != '#pagetopright':\n",
    "        #create dictionary to append to mongo\n",
    "        entry = {\"link_text\": link_text, \"base_url\":base_url, \"link_url\":link_href}\n",
    "        if entry not in toc_list:\n",
    "            toc_list.append(entry)\n",
    "            file_toclist.write(f\"{link_text}:{link_href}\\n\")\n",
    "            file_links.write(f\"{link}\\n\")\n",
    "\n",
    "#insert into Mongo\n",
    "toc_collection.insert_many(toc_list)\n",
    "\n",
    "print(\"Completed: SEP TOC Scrape\\n\")\n"
   ]
  },
  {
   "cell_type": "code",
   "execution_count": 3,
   "metadata": {},
   "outputs": [
    {
     "name": "stdout",
     "output_type": "stream",
     "text": "{'_id': ObjectId('5e310663c39f6ace9361b848'), 'link_text': 'Chinese Philosophy: Chan Buddhism', 'base_url': 'https://plato.stanford.edu/archives/win2019/', 'link_url': 'entries/buddhism-chan/'}\n{'_id': ObjectId('5e310663c39f6ace9361bc1e'), 'link_text': 'Chinese Philosophy: Chinese medicine', 'base_url': 'https://plato.stanford.edu/archives/win2019/', 'link_url': 'entries/chinese-phil-medicine/'}\n{'_id': ObjectId('5e310663c39f6ace9361b84d'), 'link_text': 'Chinese Philosophy: Huayan Buddhism', 'base_url': 'https://plato.stanford.edu/archives/win2019/', 'link_url': 'entries/buddhism-huayan/'}\n{'_id': ObjectId('5e310663c39f6ace9361bc60'), 'link_text': 'Chinese Philosophy: Mohism', 'base_url': 'https://plato.stanford.edu/archives/win2019/', 'link_url': 'entries/mohism/'}\n{'_id': ObjectId('5e310663c39f6ace9361bc61'), 'link_text': 'Chinese Philosophy: Mohist Canons', 'base_url': 'https://plato.stanford.edu/archives/win2019/', 'link_url': 'entries/mohist-canons/'}\n{'_id': ObjectId('5e310663c39f6ace9361bd5f'), 'link_text': 'Chinese Philosophy: Qing philosophy', 'base_url': 'https://plato.stanford.edu/archives/win2019/', 'link_url': 'entries/qing-philosophy/'}\n{'_id': ObjectId('5e310663c39f6ace9361b84b'), 'link_text': 'Chinese Philosophy: Tiantai Buddhism', 'base_url': 'https://plato.stanford.edu/archives/win2019/', 'link_url': 'entries/buddhism-tiantai/'}\n{'_id': ObjectId('5e310663c39f6ace9361b880'), 'link_text': 'Chinese Philosophy: ethics', 'base_url': 'https://plato.stanford.edu/archives/win2019/', 'link_url': 'entries/ethics-chinese/'}\n{'_id': ObjectId('5e310663c39f6ace9361b875'), 'link_text': 'Chinese Philosophy: philosophy of change', 'base_url': 'https://plato.stanford.edu/archives/win2019/', 'link_url': 'entries/chinese-change/'}\n{'_id': ObjectId('5e310663c39f6ace9361b8b9'), 'link_text': 'Chinese and Western', 'base_url': 'https://plato.stanford.edu/archives/win2019/', 'link_url': 'entries/comparphil-chiwes/'}\n{'_id': ObjectId('5e310663c39f6ace9361b882'), 'link_text': 'Chinese medicine', 'base_url': 'https://plato.stanford.edu/archives/win2019/', 'link_url': 'entries/chinese-phil-medicine/'}\n{'_id': ObjectId('5e310663c39f6ace9361b7e4'), 'link_text': 'Chinese room argument', 'base_url': 'https://plato.stanford.edu/archives/win2019/', 'link_url': 'entries/chinese-room/'}\n"
    }
   ],
   "source": [
    "articles = toc_collection.find({'link_text': {'$regex': '^Chinese'}}).sort('link_text')\n",
    "for article in articles:\n",
    "    print(article)\n"
   ]
  },
  {
   "cell_type": "code",
   "execution_count": 4,
   "metadata": {},
   "outputs": [
    {
     "name": "stderr",
     "output_type": "stream",
     "text": "Processing: 0it [00:00, ?it/s]html_files/sep/buddhism-chan.html\nProcessing: 1it [00:17, 17.19s/it]html_files/sep/chinese-phil-medicine.html\nProcessing: 2it [00:34, 17.13s/it]html_files/sep/buddhism-huayan.html\nProcessing: 3it [00:53, 17.74s/it]html_files/sep/mohism.html\nProcessing: 4it [01:21, 20.97s/it]html_files/sep/mohist-canons.html\nProcessing: 5it [01:40, 20.40s/it]html_files/sep/qing-philosophy.html\nProcessing: 6it [01:58, 19.53s/it]html_files/sep/buddhism-tiantai.html\nProcessing: 7it [02:16, 19.15s/it]html_files/sep/ethics-chinese.html\nProcessing: 8it [02:40, 20.55s/it]html_files/sep/chinese-change.html\nProcessing: 9it [03:00, 20.49s/it]html_files/sep/comparphil-chiwes.html\nProcessing: 10it [03:18, 19.69s/it]html_files/sep/chinese-phil-medicine.html\nProcessing: 11it [04:04, 27.61s/it]html_files/sep/chinese-room.html\nProcessing: 12it [04:23, 21.99s/it]\n"
    }
   ],
   "source": [
    "# articles = toc_collection.find().sort('link_text')\n",
    "pages = toc_collection.find({'link_text': {'$regex': '^Chinese'}}).sort('link_text')\n",
    "\n",
    "for page in tqdm(pages, desc=\"Processing\"):\n",
    "    base_url = page['base_url']\n",
    "    link_url = page['link_url']\n",
    "    slash_pos = link_url.rfind(\"/\",0,len(link_url)-1)\n",
    "    page_name = link_url[slash_pos+1:len(link_url)-1]\n",
    "    page_url = f\"{base_url}{link_url}\"\n",
    "    html_save_as = f\"html_files/sep/{page_name}.html\"\n",
    "    soup = web.scrape_web_page(page_url, html_save_as)\n",
    "\n",
    "\n"
   ]
  },
  {
   "cell_type": "code",
   "execution_count": null,
   "metadata": {},
   "outputs": [],
   "source": [
    "\n",
    "    "
   ]
  },
  {
   "cell_type": "code",
   "execution_count": null,
   "metadata": {},
   "outputs": [],
   "source": []
  }
 ]
}