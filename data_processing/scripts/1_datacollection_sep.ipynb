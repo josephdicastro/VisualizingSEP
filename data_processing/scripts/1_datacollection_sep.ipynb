{
 "cells": [
  {
   "cell_type": "code",
   "execution_count": 12,
   "metadata": {},
   "outputs": [],
   "source": [
    "### THIS SCRIPT COLLECTS DATA FROM SEP and InPhO ### "
   ]
  },
  {
   "cell_type": "code",
   "execution_count": 13,
   "metadata": {},
   "outputs": [],
   "source": [
    "# import dependencies\n",
    "import time\n",
    "import pymongo\n",
    "import re\n",
    "import json\n",
    "import requests\n",
    "import pandas as pd\n",
    "\n",
    "from tqdm import tqdm\n",
    "from pprint import pprint\n",
    "from pathlib import Path\n",
    "from bs4 import BeautifulSoup\n",
    "\n",
    "#import local libraries\n",
    "import lib_sepinpho as sep\n",
    "import lib_fileops as io"
   ]
  },
  {
   "cell_type": "code",
   "execution_count": 14,
   "metadata": {},
   "outputs": [],
   "source": [
    "##### INIT GLOBAL VARIABLES#####\n",
    "\n",
    "#init Mongo\n",
    "conn = 'mongodb://localhost:27017'\n",
    "client = pymongo.MongoClient(conn)\n",
    "\n",
    "#connect to database\n",
    "db = client.visualizing_sep"
   ]
  },
  {
   "cell_type": "code",
   "execution_count": 8,
   "metadata": {
    "tags": []
   },
   "outputs": [
    {
     "output_type": "stream",
     "name": "stdout",
     "text": "Starting: SEP Winter_2019 TOC Scrape\n\nSuccess! Completed SEP Winter_2019 TOC Scrape\n\n"
    }
   ],
   "source": [
    "### SCRAPE TOC FROM WINTER 2019 SEP ARCHIVE ###\n",
    "### Date Completed: 3.30.2020 ###\n",
    "\n",
    "#set variable options for Winter 2019 download\n",
    "# toc_collection = db.toc_2019_winter\n",
    "# sep_edition = 'Winter_2019'\n",
    "# search_url = 'https://plato.stanford.edu/archives/win2019/contents.html'\n",
    "# base_url = 'https://plato.stanford.edu/archives/win2019/'\n",
    "# save_as_html = '../downloads/tocs/toc_2019_winter_all.html'\n",
    "\n",
    "# print(f'Starting: SEP {sep_edition} TOC Scrape\\n')\n",
    "\n",
    "# #get list of elements to save into toc_collection \n",
    "# toc_elements = sep.scrape_sep_toc(sep_edition, search_url, base_url, save_as_html)\n",
    "\n",
    "# #update MonogDB collection\n",
    "# toc_collection.insert_many(toc_elements)\n",
    "\n",
    "# print(f'Success! Completed SEP {sep_edition} TOC Scrape\\n')"
   ]
  },
  {
   "cell_type": "code",
   "execution_count": null,
   "metadata": {},
   "outputs": [],
   "source": [
    "### DOWNLOAD WINTER 2019 SEP ARCHIVE, AND STORE THEM LOCALLY###\n",
    "# Winter 2019 Archive: Completed 1/30/2020. This took 7 hours, so don't do it again!\n",
    "# Updated the code on 4.10.2020 to make the download process cleaner, but the files were NOT re-downloaded\n",
    "\n",
    "#set variable options for Winter 2019 download\n",
    "# toc_collection = db.toc_2019_winter\n",
    "# toc_pages = list(toc_collection.find().sort('link_url'))\n",
    "# save_as_directory = '..downloads/articles/sep_2019_all/'\n",
    "\n",
    "#download SEP pages from archive\n",
    "#sep.download_sep_pages(toc_pages,save_as_directory)"
   ]
  },
  {
   "cell_type": "code",
   "execution_count": 9,
   "metadata": {
    "tags": []
   },
   "outputs": [
    {
     "output_type": "stream",
     "name": "stdout",
     "text": "Starting: SEP Spring_2020 TOC Scrape\n\nSuccess! Completed SEP Spring_2020 TOC Scrape\n\n"
    }
   ],
   "source": [
    "### SCRAPE WHATS NEW TOC FROM SPRING 2020 SEP ARCHIVE ###\n",
    "### Downloaded Spring 2020 TOC updates: completed 4.10.2020 ###\n",
    "\n",
    "#set variable options for Spring 2020 download\n",
    "# toc_collection = db.toc_2020_spring_new\n",
    "# sep_edition = 'Spring_2020'\n",
    "# search_url = 'https://plato.stanford.edu/archives/spr2020/new.html'\n",
    "# base_url = 'https://plato.stanford.edu/archives/spr2020/'\n",
    "# save_as_html = '../downloads/tocs/toc_2020_spring_new.html'\n",
    "\n",
    "# print(f'Starting: SEP {sep_edition} TOC Scrape\\n')\n",
    "\n",
    "# toc_elements = sep.scrape_sep_toc(sep_edition, search_url, base_url, save_as_html)\n",
    "# toc_collection.insert_many(toc_elements)\n",
    "\n",
    "# print(f'Success! Completed SEP {sep_edition} TOC Scrape\\n')\n"
   ]
  },
  {
   "cell_type": "code",
   "execution_count": 4,
   "metadata": {
    "tags": []
   },
   "outputs": [
    {
     "output_type": "stream",
     "name": "stderr",
     "text": "Processing: 100%|██████████| 67/67 [15:53<00:00, 14.23s/it]\n"
    }
   ],
   "source": [
    "### DOWNLOAD SPRING 2020 WHATS NEW FILES, AND STORE THEM LOCALLY###\n",
    "#Spring 2020 Archive: Completed 4.10.2020#\n",
    "\n",
    "#set variable options for Spring 2020 download\n",
    "# toc_collection = db.toc_2020_spring_new\n",
    "# toc_pages = list(toc_collection.find().sort('link_url'))\n",
    "# save_as_directory = '../downloads/articles/sep_2020_spring/'\n",
    "\n",
    "# #download SEP pages from archive\n",
    "# sep.download_sep_pages(toc_pages,save_as_directory)"
   ]
  },
  {
   "cell_type": "code",
   "execution_count": null,
   "metadata": {},
   "outputs": [],
   "source": [
    "### PARSING Winter 2019 and Spring 2020 files ###\n",
    "\n",
    "### After downloading the Winter 2019 archive and the Spring 2020 updates, I moved the updates into the same folder, and then ran the parsing script on all of the files at once. This replaced the prior verion of the parsed data objects in MongoDB. \n",
    "###\n",
    "\n",
    "#set variable options for parsing\n",
    "# collection_to_update = db.sep_entries\n",
    "# file_path='../downloads/articles/sep_2019_all'\n",
    "# file_type='*.html'\n",
    "# sep_files = io.get_local_files(file_path,file_type)\n",
    "# for sep_file in tqdm(sep_files):\n",
    "#     try:\n",
    "#         sep_object = sep.parse_sep_file(sep_file)\n",
    "#         collection_to_update.insert_one(sep_object)\n",
    "#     except:\n",
    "#         print(f'Failed at: @{sep_file.name}')"
   ]
  },
  {
   "cell_type": "code",
   "execution_count": 10,
   "metadata": {
    "tags": []
   },
   "outputs": [
    {
     "output_type": "stream",
     "name": "stdout",
     "text": "Starting: SEP Summer_2020 TOC Scrape\n\nSuccess! Completed SEP Summer_2020 TOC Scrape\n\n"
    }
   ],
   "source": [
    "### SCRAPE WHATS NEW TOC FROM SUMMER 2020 SEP ARCHIVE ###\n",
    "### Downloaded Summer 2020 TOC updates: completed 7.13.2020 ###\n",
    "\n",
    "#set variable options for Summer 2020 download\n",
    "# toc_collection = db.toc_2020_summer_new\n",
    "# sep_edition = 'Summer_2020'\n",
    "# search_url = 'https://plato.stanford.edu/archives/sum2020/new.html'\n",
    "# base_url = 'https://plato.stanford.edu/archives/sum2020/'\n",
    "# save_as_html = '../downloads/tocs/toc_2020_summer_new.html'\n",
    "\n",
    "# print(f'Starting: SEP {sep_edition} TOC Scrape\\n')\n",
    "\n",
    "# toc_elements = sep.scrape_sep_toc(sep_edition, search_url, base_url, save_as_html)\n",
    "# toc_collection.insert_many(toc_elements)\n",
    "\n",
    "# print(f'Success! Completed SEP {sep_edition} TOC Scrape\\n')\n"
   ]
  },
  {
   "cell_type": "code",
   "execution_count": 4,
   "metadata": {
    "tags": []
   },
   "outputs": [
    {
     "output_type": "stream",
     "name": "stderr",
     "text": "Processing: 0it [00:00, ?it/s]\n"
    }
   ],
   "source": [
    "### DOWNLOAD SUMMER 2020 WHATS NEW FILES, AND STORE THEM LOCALLY###\n",
    "#Summer 2020 Archive: Completed 7.13.2020#\n",
    "\n",
    "#set variable options for Summer 2020 download\n",
    "# toc_collection = db.toc_2020_summer_new\n",
    "# toc_pages = list(toc_collection.find().sort('link_url'))\n",
    "# save_as_directory = '../downloads/articles/sep_2020_summer/'\n",
    "\n",
    "# #download SEP pages from archive\n",
    "# sep.download_sep_pages(toc_pages,save_as_directory)"
   ]
  },
  {
   "cell_type": "code",
   "execution_count": null,
   "metadata": {},
   "outputs": [],
   "source": [
    "#Update collection for Summer 2020 files after new files downloaded\n",
    "### PARSING  Summer 2020 files ###\n",
    "\n",
    "# collection_to_update = db.sep_entries\n",
    "# file_path='../downloads/articles/sep_2020_summer'\n",
    "# file_type='*.html'\n",
    "# sep_files = io.get_local_files(file_path,file_type)\n",
    "# for sep_file in tqdm(sep_files):\n",
    "#     sep_object = sep.parse_sep_file(sep_file)\n",
    "#     update_string = sep.update_main_document_data(sep_object)\n",
    "#     find = {\"page_url\": sep_object['page_url']}\n",
    "#     collection_to_update.update_one(find, {'$set': update_string}, upsert=True)"
   ]
  },
  {
   "cell_type": "code",
   "execution_count": 7,
   "metadata": {
    "tags": []
   },
   "outputs": [
    {
     "output_type": "stream",
     "name": "stdout",
     "text": "Starting: SEP Fall_2020 TOC Scrape\n\nSuccess! Completed SEP Fall_2020 TOC Scrape\n\n"
    }
   ],
   "source": [
    "### SCRAPE WHATS NEW TOC FROM FALL 2020 SEP ARCHIVE ###\n",
    "### Downloaded Fall 2020 TOC updates: completed 10.1.2020 ###\n",
    "\n",
    "#set variable options for Fall 2020 download\n",
    "# toc_collection = db.toc_2020_fall_new\n",
    "# sep_edition = 'Fall_2020'\n",
    "# search_url = 'https://plato.stanford.edu/archives/fall2020/new.html'\n",
    "# base_url = 'https://plato.stanford.edu/archives/fall2020/'\n",
    "# save_as_html = '../downloads/tocs/toc_2020_fall_new.html'\n",
    "\n",
    "# print(f'Starting: SEP {sep_edition} TOC Scrape\\n')\n",
    "\n",
    "# toc_elements = sep.scrape_sep_toc(sep_edition, search_url, base_url, save_as_html)\n",
    "# toc_collection.insert_many(toc_elements)\n",
    "\n",
    "# print(f'Success! Completed SEP {sep_edition} TOC Scrape\\n')"
   ]
  },
  {
   "cell_type": "code",
   "execution_count": 8,
   "metadata": {
    "tags": []
   },
   "outputs": [
    {
     "output_type": "stream",
     "name": "stderr",
     "text": "Processing: 100%|██████████| 87/87 [19:57&lt;00:00, 13.76s/it]\n"
    }
   ],
   "source": [
    "### DOWNLOAD FALL 2020 WHATS NEW FILES, AND STORE THEM LOCALLY###\n",
    "#Fall 2020 Archive: Completed 10.1.2020#\n",
    "\n",
    "#set variable options for Summer 2020 download\n",
    "# toc_collection = db.toc_2020_fall_new\n",
    "# toc_pages = list(toc_collection.find().sort('link_url'))\n",
    "# save_as_directory = '../downloads/articles/sep_2020_fall/'\n",
    "\n",
    "# #download SEP pages from archive\n",
    "# sep.download_sep_pages(toc_pages,save_as_directory)"
   ]
  },
  {
   "cell_type": "code",
   "execution_count": null,
   "metadata": {},
   "outputs": [],
   "source": [
    "#Update collection for Fall 2020 files after new files downloaded\n",
    "#Update completed 10.1.2020#\n",
    "\n",
    "# collection_to_update = db.sep_entries \n",
    "# file_path='../downloads/articles/sep_2020_fall'\n",
    "# file_type='*.html'\n",
    "# sep_files = io.get_local_files(file_path,file_type)\n",
    "# for sep_file in tqdm(sep_files):\n",
    "#     sep_object = sep.parse_sep_file(sep_file)\n",
    "#     update_string = sep.update_main_document_data(sep_object)\n",
    "#     find = {\"page_url\": sep_object['page_url']}\n",
    "#     collection_to_update.update_one(find, {'$set': update_string}, upsert=True)"
   ]
  },
  {
   "cell_type": "code",
   "execution_count": null,
   "metadata": {},
   "outputs": [],
   "source": [
    "#export copyright data into Pandas to retrieve author info from \n",
    "## Fall 2020 completed 10.1.2020#\n",
    "\n",
    "# collection_to_update = db.sep_entries\n",
    "\n",
    "# copyright_entries = pd.DataFrame(list(collection_to_update.find(filter={'author': {'$exists': False}}, \n",
    "#                                                            projection=['page_url','copyright'])))\n",
    "\n",
    "# #strip HTML from copyright data, and re-write the copyright column data\n",
    "# copyright_entries['copyright'] = copyright_entries.apply(lambda row:sep.get_author_string(row['copyright']), axis=1)\n",
    "# #export CSV for cleaning\n",
    "# copyright_entries.to_csv('copyright_fall.csv')"
   ]
  },
  {
   "cell_type": "code",
   "execution_count": null,
   "metadata": {},
   "outputs": [],
   "source": [
    "#update author data for SEP\n",
    "## Fall 2020 completed 10.1.2020#\n",
    "\n",
    "# collection_to_update = db.sep_entries\n",
    "\n",
    "# #import cleaned data\n",
    "# authors = pd.read_csv('copyright_fall.csv')\n",
    "\n",
    "# for index,row in tqdm(authors.iterrows()):\n",
    "#     page_url = row['page_url']\n",
    "#     authors = row['copyright']\n",
    "#     sep.add_author(page_url, authors, collection_to_update)"
   ]
  },
  {
   "cell_type": "code",
   "execution_count": 17,
   "metadata": {},
   "outputs": [
    {
     "output_type": "execute_result",
     "data": {
      "text/plain": [
       "<pymongo.results.InsertManyResult at 0x1c486bb1a48>"
      ]
     },
     "metadata": {},
     "execution_count": 17
    }
   ],
   "source": [
    "#create dupe collection to test updates before their made on main collection\n",
    "docs = db.sep_entries.find({})\n",
    "# db.sep_entries_dupe.drop_collection()\n",
    "db.sep_entries_dupe.insert_many(docs)"
   ]
  },
  {
   "cell_type": "code",
   "execution_count": 5,
   "metadata": {},
   "outputs": [
    {
     "output_type": "stream",
     "name": "stdout",
     "text": [
      "Starting: SEP Winter_2020 TOC Scrape\n",
      "\n",
      "Success! Completed SEP Winter_2020 TOC Scrape\n",
      "\n"
     ]
    }
   ],
   "source": [
    "### SCRAPE WHATS NEW TOC FROM Winter 2020 SEP ARCHIVE ###\n",
    "### Downloaded Winter 2020 TOC updates: completed 12.24.2020 ###\n",
    "\n",
    "#set variable options for Fall 2020 download\n",
    "# toc_collection = db.toc_2020_winter_new\n",
    "# sep_edition = 'Winter_2020'\n",
    "# search_url = 'https://plato.stanford.edu/archives/win2020/new.html'\n",
    "# base_url = 'https://plato.stanford.edu/archives/win2020/'\n",
    "# save_as_html = '../downloads/tocs/toc_2020_win_new.html'\n",
    "\n",
    "# print(f'Starting: SEP {sep_edition} TOC Scrape\\n')\n",
    "\n",
    "# toc_elements = sep.scrape_sep_toc(sep_edition, search_url, base_url, save_as_html)\n",
    "# toc_collection.insert_many(toc_elements)\n",
    "\n",
    "# print(f'Success! Completed SEP {sep_edition} TOC Scrape\\n')"
   ]
  },
  {
   "cell_type": "code",
   "execution_count": 6,
   "metadata": {},
   "outputs": [
    {
     "output_type": "stream",
     "name": "stderr",
     "text": [
      "Processing: 100%|██████████| 84/84 [20:48<00:00, 14.86s/it]\n"
     ]
    }
   ],
   "source": [
    "### DOWNLOAD Winter 2020 WHATS NEW FILES, AND STORE THEM LOCALLY###\n",
    "#Winter 2020 Archive: Completed 12.24.2020#\n",
    "\n",
    "#set variable options for Summer 2020 download\n",
    "# toc_collection = db.toc_2020_winter_new\n",
    "# toc_pages = list(toc_collection.find().sort('link_url'))\n",
    "# save_as_directory = '../downloads/articles/sep_2020_winter/'\n",
    "\n",
    "# #download SEP pages from archive\n",
    "# sep.download_sep_pages(toc_pages,save_as_directory)"
   ]
  },
  {
   "cell_type": "code",
   "execution_count": 19,
   "metadata": {},
   "outputs": [
    {
     "output_type": "stream",
     "name": "stderr",
     "text": [
      "  0%|          | 0/84 [00:00<?, ?it/s]http://inpho.cogs.indiana.edu/idea/5336.json\n",
      "  1%|          | 1/84 [00:01<02:15,  1.64s/it]http://inpho.cogs.indiana.edu/thinker/2535.json\n",
      "  2%|▏         | 2/84 [00:02<01:59,  1.46s/it]http://inpho.cogs.indiana.edu/idea/5624.json\n",
      "  4%|▎         | 3/84 [00:03<01:45,  1.30s/it]http://inpho.cogs.indiana.edu/thinker/2547.json\n",
      "  5%|▍         | 4/84 [00:04<01:34,  1.18s/it]http://inpho.cogs.indiana.edu/idea/5365.json\n",
      "  6%|▌         | 5/84 [00:05<01:27,  1.11s/it]http://inpho.cogs.indiana.edu/idea/1008.json\n",
      "  7%|▋         | 6/84 [00:06<01:22,  1.06s/it]http://inpho.cogs.indiana.edu/thinker/2630.json\n",
      "  8%|▊         | 7/84 [00:07<01:19,  1.03s/it]http://inpho.cogs.indiana.edu/thinker/2680.json\n",
      " 10%|▉         | 8/84 [00:08<01:15,  1.01it/s]http://inpho.cogs.indiana.edu/idea/5436.json\n",
      " 11%|█         | 9/84 [00:09<01:12,  1.03it/s]http://inpho.cogs.indiana.edu/idea/5615.json\n",
      " 12%|█▏        | 10/84 [00:10<01:10,  1.05it/s]http://inpho.cogs.indiana.edu/idea/5610.json\n",
      " 13%|█▎        | 11/84 [00:10<01:06,  1.09it/s]http://inpho.cogs.indiana.edu/idea/5540.json\n",
      " 14%|█▍        | 12/84 [00:11<01:07,  1.06it/s]http://inpho.cogs.indiana.edu/thinker/2835.json\n",
      " 15%|█▌        | 13/84 [00:12<01:05,  1.08it/s]http://inpho.cogs.indiana.edu/thinker/2836.json\n",
      " 17%|█▋        | 14/84 [00:13<01:06,  1.05it/s]http://inpho.cogs.indiana.edu/idea/1275.json\n",
      " 18%|█▊        | 15/84 [00:14<01:04,  1.07it/s]http://inpho.cogs.indiana.edu/idea/1535.json\n",
      " 20%|██        | 17/84 [00:16<00:56,  1.19it/s]Error: No InPhO entry\n",
      "http://inpho.cogs.indiana.edu/idea/1410.json\n",
      " 21%|██▏       | 18/84 [00:17<01:01,  1.08it/s]http://inpho.cogs.indiana.edu/taxonomy/2341.json\n",
      " 23%|██▎       | 19/84 [00:18<01:12,  1.11s/it]http://inpho.cogs.indiana.edu/idea/1463.json\n",
      " 24%|██▍       | 20/84 [00:19<01:06,  1.04s/it]http://inpho.cogs.indiana.edu/idea/1268.json\n",
      " 25%|██▌       | 21/84 [00:20<01:06,  1.05s/it]http://inpho.cogs.indiana.edu/thinker/2918.json\n",
      " 26%|██▌       | 22/84 [00:21<01:02,  1.01s/it]http://inpho.cogs.indiana.edu/idea/1175.json\n",
      " 27%|██▋       | 23/84 [00:22<00:59,  1.02it/s]http://inpho.cogs.indiana.edu/idea/2141.json\n",
      " 29%|██▊       | 24/84 [00:23<00:56,  1.07it/s]http://inpho.cogs.indiana.edu/idea/1487.json\n",
      " 30%|██▉       | 25/84 [00:25<01:12,  1.23s/it]http://inpho.cogs.indiana.edu/idea/1590.json\n",
      " 31%|███       | 26/84 [00:26<01:04,  1.11s/it]http://inpho.cogs.indiana.edu/taxonomy/2368.json\n",
      " 32%|███▏      | 27/84 [00:28<01:18,  1.39s/it]http://inpho.cogs.indiana.edu/idea/1120.json\n",
      " 33%|███▎      | 28/84 [00:29<01:09,  1.25s/it]http://inpho.cogs.indiana.edu/idea/1047.json\n",
      " 35%|███▍      | 29/84 [00:30<01:04,  1.17s/it]http://inpho.cogs.indiana.edu/idea/2138.json\n",
      " 36%|███▌      | 30/84 [00:31<01:02,  1.15s/it]http://inpho.cogs.indiana.edu/idea/5344.json\n",
      " 37%|███▋      | 31/84 [00:32<00:56,  1.07s/it]http://inpho.cogs.indiana.edu/idea/1028.json\n",
      " 38%|███▊      | 32/84 [00:33<00:53,  1.04s/it]http://inpho.cogs.indiana.edu/idea/2126.json\n",
      " 39%|███▉      | 33/84 [00:35<01:06,  1.30s/it]http://inpho.cogs.indiana.edu/idea/995.json\n",
      " 42%|████▏     | 35/84 [00:36<00:49,  1.02s/it]Error: No InPhO entry\n",
      "http://inpho.cogs.indiana.edu/thinker/3076.json\n",
      " 43%|████▎     | 36/84 [00:37<00:45,  1.05it/s]http://inpho.cogs.indiana.edu/thinker/5447.json\n",
      " 44%|████▍     | 37/84 [00:38<00:43,  1.08it/s]http://inpho.cogs.indiana.edu/thinker/3172.json\n",
      " 46%|████▋     | 39/84 [00:39<00:37,  1.21it/s]Error: No InPhO entry\n",
      "http://inpho.cogs.indiana.edu/thinker/3599.json\n",
      " 48%|████▊     | 40/84 [00:40<00:37,  1.18it/s]http://inpho.cogs.indiana.edu/taxonomy/2435.json\n",
      " 49%|████▉     | 41/84 [00:41<00:38,  1.11it/s]http://inpho.cogs.indiana.edu/idea/711.json\n",
      " 50%|█████     | 42/84 [00:42<00:41,  1.02it/s]http://inpho.cogs.indiana.edu/thinker/3260.json\n",
      " 52%|█████▏    | 44/84 [00:44<00:35,  1.12it/s]Error: No InPhO entry\n",
      "http://inpho.cogs.indiana.edu/thinker/3584.json\n",
      " 54%|█████▎    | 45/84 [00:45<00:34,  1.13it/s]http://inpho.cogs.indiana.edu/thinker/5389.json\n",
      " 55%|█████▍    | 46/84 [00:46<00:33,  1.15it/s]http://inpho.cogs.indiana.edu/idea/1058.json\n",
      " 56%|█████▌    | 47/84 [00:47<00:32,  1.15it/s]http://inpho.cogs.indiana.edu/thinker/4187.json\n",
      " 57%|█████▋    | 48/84 [00:47<00:30,  1.19it/s]http://inpho.cogs.indiana.edu/taxonomy/2332.json\n",
      " 58%|█████▊    | 49/84 [00:49<00:33,  1.04it/s]http://inpho.cogs.indiana.edu/idea/5637.json\n",
      " 60%|█████▉    | 50/84 [00:49<00:32,  1.06it/s]http://inpho.cogs.indiana.edu/idea/5683.json\n",
      " 61%|██████    | 51/84 [00:50<00:30,  1.08it/s]http://inpho.cogs.indiana.edu/idea/1763.json\n",
      " 62%|██████▏   | 52/84 [00:51<00:28,  1.12it/s]http://inpho.cogs.indiana.edu/idea/2114.json\n",
      " 63%|██████▎   | 53/84 [00:53<00:38,  1.26s/it]http://inpho.cogs.indiana.edu/idea/1438.json\n",
      " 64%|██████▍   | 54/84 [00:55<00:39,  1.32s/it]http://inpho.cogs.indiana.edu/idea/1295.json\n",
      " 65%|██████▌   | 55/84 [00:56<00:37,  1.29s/it]http://inpho.cogs.indiana.edu/idea/904.json\n",
      " 67%|██████▋   | 56/84 [00:57<00:32,  1.17s/it]http://inpho.cogs.indiana.edu/thinker/3188.json\n",
      " 68%|██████▊   | 57/84 [00:58<00:28,  1.07s/it]http://inpho.cogs.indiana.edu/idea/1217.json\n",
      " 69%|██████▉   | 58/84 [00:59<00:27,  1.07s/it]http://inpho.cogs.indiana.edu/idea/352.json\n",
      " 70%|███████   | 59/84 [01:00<00:26,  1.06s/it]http://inpho.cogs.indiana.edu/idea/1693.json\n",
      " 71%|███████▏  | 60/84 [01:01<00:24,  1.02s/it]http://inpho.cogs.indiana.edu/thinker/3650.json\n",
      " 73%|███████▎  | 61/84 [01:02<00:22,  1.04it/s]http://inpho.cogs.indiana.edu/thinker/3682.json\n",
      " 74%|███████▍  | 62/84 [01:03<00:21,  1.04it/s]http://inpho.cogs.indiana.edu/idea/424.json\n",
      " 75%|███████▌  | 63/84 [01:04<00:20,  1.03it/s]http://inpho.cogs.indiana.edu/thinker/2877.json\n",
      " 76%|███████▌  | 64/84 [01:04<00:18,  1.08it/s]http://inpho.cogs.indiana.edu/idea/5625.json\n",
      " 77%|███████▋  | 65/84 [01:05<00:17,  1.10it/s]http://inpho.cogs.indiana.edu/idea/5638.json\n",
      " 79%|███████▊  | 66/84 [01:06<00:16,  1.08it/s]http://inpho.cogs.indiana.edu/idea/1365.json\n",
      " 80%|███████▉  | 67/84 [01:07<00:15,  1.12it/s]http://inpho.cogs.indiana.edu/idea/2154.json\n",
      " 81%|████████  | 68/84 [01:09<00:18,  1.17s/it]http://inpho.cogs.indiana.edu/thinker/3775.json\n",
      " 82%|████████▏ | 69/84 [01:10<00:16,  1.09s/it]http://inpho.cogs.indiana.edu/taxonomy/2360.json\n",
      " 83%|████████▎ | 70/84 [01:11<00:18,  1.29s/it]http://inpho.cogs.indiana.edu/idea/1042.json\n",
      " 85%|████████▍ | 71/84 [01:12<00:15,  1.19s/it]http://inpho.cogs.indiana.edu/idea/1112.json\n",
      " 86%|████████▌ | 72/84 [01:13<00:13,  1.11s/it]http://inpho.cogs.indiana.edu/school_of_thought/5393.json\n",
      " 87%|████████▋ | 73/84 [01:14<00:11,  1.01s/it]http://inpho.cogs.indiana.edu/idea/5572.json\n",
      " 88%|████████▊ | 74/84 [01:15<00:10,  1.05s/it]http://inpho.cogs.indiana.edu/idea/5526.json\n",
      " 89%|████████▉ | 75/84 [01:16<00:08,  1.02it/s]http://inpho.cogs.indiana.edu/idea/1526.json\n",
      " 90%|█████████ | 76/84 [01:17<00:07,  1.01it/s]http://inpho.cogs.indiana.edu/idea/1927.json\n",
      " 92%|█████████▏| 77/84 [01:18<00:07,  1.05s/it]http://inpho.cogs.indiana.edu/thinker/4006.json\n",
      " 93%|█████████▎| 78/84 [01:19<00:06,  1.00s/it]http://inpho.cogs.indiana.edu/idea/5350.json\n",
      " 94%|█████████▍| 79/84 [01:20<00:04,  1.04it/s]http://inpho.cogs.indiana.edu/idea/1488.json\n",
      " 95%|█████████▌| 80/84 [01:22<00:04,  1.16s/it]http://inpho.cogs.indiana.edu/idea/1556.json\n",
      " 96%|█████████▋| 81/84 [01:23<00:03,  1.15s/it]http://inpho.cogs.indiana.edu/idea/5351.json\n",
      " 98%|█████████▊| 82/84 [01:25<00:02,  1.33s/it]http://inpho.cogs.indiana.edu/idea/5660.json\n",
      " 99%|█████████▉| 83/84 [01:26<00:01,  1.28s/it]http://inpho.cogs.indiana.edu/thinker/4137.json\n",
      "100%|██████████| 84/84 [01:27<00:00,  1.04s/it]\n"
     ]
    }
   ],
   "source": [
    "#Update collection for Winter 2020 files after new files downloaded\n",
    "#Update completed 12.24.2020#\n",
    "\n",
    "collection_to_update = db.sep_entries\n",
    "file_path='../downloads/articles/sep_2020_winter'\n",
    "file_type='*.html'\n",
    "sep_files = io.get_local_files(file_path,file_type)\n",
    "for sep_file in tqdm(sep_files):\n",
    "    sep_object = sep.parse_sep_file(sep_file)\n",
    "    update_string = sep.update_main_document_data(sep_object)\n",
    "    find = {\"page_url\": sep_object['page_url']}\n",
    "    collection_to_update.update_one(find, {'$set': update_string}, upsert=True)"
   ]
  },
  {
   "cell_type": "code",
   "execution_count": 11,
   "metadata": {
    "tags": []
   },
   "outputs": [
    {
     "output_type": "execute_result",
     "data": {
      "text/plain": [
       "                        _id                   page_url  \\\n",
       "0  5fe77411f50bb5989124a2ff          /entries/culture/   \n",
       "1  5fe77424f50bb5989124a316  /entries/freedom-ancient/   \n",
       "\n",
       "                                           copyright  \n",
       "0  <div id=\"article-copyright\"> <p> <a href=\"../....  \n",
       "1  <div id=\"article-copyright\"> <p> <a href=\"../....  "
      ],
      "text/html": "<div>\n<style scoped>\n    .dataframe tbody tr th:only-of-type {\n        vertical-align: middle;\n    }\n\n    .dataframe tbody tr th {\n        vertical-align: top;\n    }\n\n    .dataframe thead th {\n        text-align: right;\n    }\n</style>\n<table border=\"1\" class=\"dataframe\">\n  <thead>\n    <tr style=\"text-align: right;\">\n      <th></th>\n      <th>_id</th>\n      <th>page_url</th>\n      <th>copyright</th>\n    </tr>\n  </thead>\n  <tbody>\n    <tr>\n      <td>0</td>\n      <td>5fe77411f50bb5989124a2ff</td>\n      <td>/entries/culture/</td>\n      <td>&lt;div id=\"article-copyright\"&gt; &lt;p&gt; &lt;a href=\"../....</td>\n    </tr>\n    <tr>\n      <td>1</td>\n      <td>5fe77424f50bb5989124a316</td>\n      <td>/entries/freedom-ancient/</td>\n      <td>&lt;div id=\"article-copyright\"&gt; &lt;p&gt; &lt;a href=\"../....</td>\n    </tr>\n  </tbody>\n</table>\n</div>"
     },
     "metadata": {},
     "execution_count": 11
    }
   ],
   "source": [
    "#Manual Author and Dataset Updates \n",
    "## Winter 2020 completed 10.26.2020#\n",
    "# There were only two entirely new entries in this set of updates. There were 4 other updates that replaced prior articles. \n",
    "# Because of this, I just hand-updated the entires in MongoDB itself"
   ]
  },
  {
   "cell_type": "code",
   "execution_count": null,
   "metadata": {},
   "outputs": [],
   "source": []
  }
 ],
 "metadata": {
  "language_info": {
   "name": "python",
   "codemirror_mode": {
    "name": "ipython",
    "version": 3
   },
   "version": "3.6.9-final"
  },
  "orig_nbformat": 2,
  "file_extension": ".py",
  "mimetype": "text/x-python",
  "name": "python",
  "npconvert_exporter": "python",
  "pygments_lexer": "ipython3",
  "version": 3,
  "kernelspec": {
   "name": "python36964bitpythondataconda8971416e9bae4e8197b8a061b72f9dc8",
   "display_name": "Python 3.6.9 64-bit ('PythonData': conda)",
   "language": "python"
  }
 },
 "nbformat": 4,
 "nbformat_minor": 2
}