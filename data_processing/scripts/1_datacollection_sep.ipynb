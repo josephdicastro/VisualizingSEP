{
 "cells": [
  {
   "cell_type": "code",
   "execution_count": 2,
   "metadata": {},
   "outputs": [],
   "source": [
    "### THIS SCRIPT COLLECTS DATA FROM SEP and InPhO ### "
   ]
  },
  {
   "cell_type": "code",
   "execution_count": 3,
   "metadata": {},
   "outputs": [],
   "source": [
    "# import dependencies\n",
    "import time\n",
    "import pymongo\n",
    "import re\n",
    "import json\n",
    "import requests\n",
    "\n",
    "from tqdm import tqdm\n",
    "from pprint import pprint\n",
    "from pathlib import Path\n",
    "from bs4 import BeautifulSoup\n",
    "\n",
    "#import local libraries\n",
    "import lib_sepinpho as sep\n",
    "import lib_fileops as io"
   ]
  },
  {
   "cell_type": "code",
   "execution_count": 4,
   "metadata": {},
   "outputs": [],
   "source": [
    "##### INIT GLOBAL VARIABLES#####\n",
    "\n",
    "#init Mongo\n",
    "conn = 'mongodb://localhost:27017'\n",
    "client = pymongo.MongoClient(conn)\n",
    "\n",
    "#connect to database\n",
    "db = client.visualizing_sep"
   ]
  },
  {
   "cell_type": "code",
   "execution_count": 8,
   "metadata": {
    "tags": []
   },
   "outputs": [
    {
     "output_type": "stream",
     "name": "stdout",
     "text": "Starting: SEP Winter_2019 TOC Scrape\n\nSuccess! Completed SEP Winter_2019 TOC Scrape\n\n"
    }
   ],
   "source": [
    "### SCRAPE TOC FROM WINTER 2019 SEP ARCHIVE ###\n",
    "### Date Completed: 3.30.2020 ###\n",
    "\n",
    "#set variable options for Winter 2019 download\n",
    "toc_collection = db.toc_2019_winter\n",
    "sep_edition = 'Winter_2019'\n",
    "search_url = 'https://plato.stanford.edu/archives/win2019/contents.html'\n",
    "base_url = 'https://plato.stanford.edu/archives/win2019/'\n",
    "save_as_html = '../downloads/tocs/toc_2019_winter_all.html'\n",
    "\n",
    "# print(f'Starting: SEP {sep_edition} TOC Scrape\\n')\n",
    "\n",
    "# #get list of elements to save into toc_collection \n",
    "# toc_elements = sep.scrape_sep_toc(sep_edition, search_url, base_url, save_as_html)\n",
    "\n",
    "# #update MonogDB collection\n",
    "# toc_collection.insert_many(toc_elements)\n",
    "\n",
    "# print(f'Success! Completed SEP {sep_edition} TOC Scrape\\n')"
   ]
  },
  {
   "cell_type": "code",
   "execution_count": null,
   "metadata": {},
   "outputs": [],
   "source": [
    "### DOWNLOAD WINTER 2019 SEP ARCHIVE, AND STORE THEM LOCALLY###\n",
    "# Winter 2019 Archive: Completed 1/30/2020. This took 7 hours, so don't do it again!\n",
    "# Updated the code on 4.10.2020 to make the download process cleaner, but the files were NOT re-downloaded\n",
    "\n",
    "#set variable options for Winter 2019 download\n",
    "toc_collection = db.toc_2019_winter\n",
    "toc_pages = list(toc_collection.find().sort('link_url'))\n",
    "save_as_directory = '..downloads/articles/sep_2019_all/'\n",
    "\n",
    "#download SEP pages from archive\n",
    "#sep.download_sep_pages(toc_pages,save_as_directory)"
   ]
  },
  {
   "cell_type": "code",
   "execution_count": 9,
   "metadata": {
    "tags": []
   },
   "outputs": [
    {
     "output_type": "stream",
     "name": "stdout",
     "text": "Starting: SEP Spring_2020 TOC Scrape\n\nSuccess! Completed SEP Spring_2020 TOC Scrape\n\n"
    }
   ],
   "source": [
    "### SCRAPE WHATS NEW TOC FROM SPRING 2020 SEP ARCHIVE ###\n",
    "### Downloaded Spring 2020 TOC updates: completed 4.10.2020 ###\n",
    "\n",
    "#set variable options for Spring 2020 download\n",
    "toc_collection = db.toc_2020_spring_new\n",
    "sep_edition = 'Spring_2020'\n",
    "search_url = 'https://plato.stanford.edu/archives/spr2020/new.html'\n",
    "base_url = 'https://plato.stanford.edu/archives/spr2020/'\n",
    "save_as_html = '../downloads/tocs/toc_2020_spring_new.html'\n",
    "\n",
    "print(f'Starting: SEP {sep_edition} TOC Scrape\\n')\n",
    "\n",
    "toc_elements = sep.scrape_sep_toc(sep_edition, search_url, base_url, save_as_html)\n",
    "toc_collection.insert_many(toc_elements)\n",
    "\n",
    "print(f'Success! Completed SEP {sep_edition} TOC Scrape\\n')\n"
   ]
  },
  {
   "cell_type": "code",
   "execution_count": 4,
   "metadata": {
    "tags": []
   },
   "outputs": [
    {
     "output_type": "stream",
     "name": "stderr",
     "text": "Processing: 100%|██████████| 67/67 [15:53<00:00, 14.23s/it]\n"
    }
   ],
   "source": [
    "### DOWNLOAD SPRING 2020 WHATS NEW FILES, AND STORE THEM LOCALLY###\n",
    "#Spring 2020 Archive: Completed 4.10.2020#\n",
    "\n",
    "#set variable options for Spring 2020 download\n",
    "toc_collection = db.toc_2020_spring_new\n",
    "toc_pages = list(toc_collection.find().sort('link_url'))\n",
    "save_as_directory = '../downloads/articles/sep_2020_spring/'\n",
    "\n",
    "#download SEP pages from archive\n",
    "sep.download_sep_pages(toc_pages,save_as_directory)"
   ]
  },
  {
   "cell_type": "code",
   "execution_count": 10,
   "metadata": {
    "tags": []
   },
   "outputs": [
    {
     "output_type": "stream",
     "name": "stdout",
     "text": "Starting: SEP Summer_2020 TOC Scrape\n\nSuccess! Completed SEP Summer_2020 TOC Scrape\n\n"
    }
   ],
   "source": [
    "### SCRAPE WHATS NEW TOC FROM SUMMER 2020 SEP ARCHIVE ###\n",
    "### Downloaded Summer 2020 TOC updates: completed 7.13.2020 ###\n",
    "\n",
    "#set variable options for Summer 2020 download\n",
    "toc_collection = db.toc_2020_summer_new\n",
    "sep_edition = 'Summer_2020'\n",
    "search_url = 'https://plato.stanford.edu/archives/sum2020/new.html'\n",
    "base_url = 'https://plato.stanford.edu/archives/sum2020/'\n",
    "save_as_html = '../downloads/tocs/toc_2020_summer_new.html'\n",
    "\n",
    "print(f'Starting: SEP {sep_edition} TOC Scrape\\n')\n",
    "\n",
    "toc_elements = sep.scrape_sep_toc(sep_edition, search_url, base_url, save_as_html)\n",
    "toc_collection.insert_many(toc_elements)\n",
    "\n",
    "print(f'Success! Completed SEP {sep_edition} TOC Scrape\\n')\n"
   ]
  },
  {
   "cell_type": "code",
   "execution_count": 4,
   "metadata": {
    "tags": []
   },
   "outputs": [
    {
     "output_type": "stream",
     "name": "stderr",
     "text": "Processing: 0it [00:00, ?it/s]\n"
    }
   ],
   "source": [
    "### DOWNLOAD SUMMER 2020 WHATS NEW FILES, AND STORE THEM LOCALLY###\n",
    "#Summer 2020 Archive: Completed 7.13.2020#\n",
    "\n",
    "#set variable options for Summer 2020 download\n",
    "toc_collection = db.toc_2020_summer_new\n",
    "toc_pages = list(toc_collection.find().sort('link_url'))\n",
    "save_as_directory = '../downloads/articles/sep_2020_summer/'\n",
    "\n",
    "#download SEP pages from archive\n",
    "sep.download_sep_pages(toc_pages,save_as_directory)"
   ]
  },
  {
   "cell_type": "code",
   "execution_count": 4,
   "metadata": {
    "tags": [
     "outputPrepend"
    ]
   },
   "outputs": [
    {
     "output_type": "stream",
     "name": "stderr",
     "text": "n\n 88%|████████▊ | 1473/1680 [41:41<05:49,  1.69s/it]http://inpho.cogs.indiana.edu/thinker/4101.json\n 88%|████████▊ | 1474/1680 [41:43<06:01,  1.76s/it]http://inpho.cogs.indiana.edu/idea/1257.json\n 88%|████████▊ | 1475/1680 [41:45<06:08,  1.80s/it]http://inpho.cogs.indiana.edu/idea/5541.json\n 88%|████████▊ | 1476/1680 [41:46<05:25,  1.60s/it]http://inpho.cogs.indiana.edu/idea/1256.json\n 88%|████████▊ | 1477/1680 [41:47<04:53,  1.44s/it]http://inpho.cogs.indiana.edu/idea/2172.json\n 88%|████████▊ | 1478/1680 [41:48<04:37,  1.37s/it]http://inpho.cogs.indiana.edu/idea/5550.json\n 88%|████████▊ | 1479/1680 [41:49<04:24,  1.32s/it]http://inpho.cogs.indiana.edu/idea/1255.json\n 88%|████████▊ | 1480/1680 [41:51<04:19,  1.30s/it]http://inpho.cogs.indiana.edu/idea/5477.json\n 88%|████████▊ | 1481/1680 [41:52<04:07,  1.24s/it]http://inpho.cogs.indiana.edu/idea/5644.json\n 88%|████████▊ | 1482/1680 [41:53<04:14,  1.29s/it]http://inpho.cogs.indiana.edu/idea/2173.json\n 88%|████████▊ | 1483/1680 [41:55<04:43,  1.44s/it]http://inpho.cogs.indiana.edu/idea/5702.json\n 88%|████████▊ | 1484/1680 [41:58<06:35,  2.02s/it]http://inpho.cogs.indiana.edu/idea/685.json\n 88%|████████▊ | 1485/1680 [42:02<07:42,  2.37s/it]http://inpho.cogs.indiana.edu/taxonomy/2391.json\n 88%|████████▊ | 1486/1680 [42:03<07:04,  2.19s/it]http://inpho.cogs.indiana.edu/idea/5526.json\n 89%|████████▊ | 1487/1680 [42:05<06:26,  2.00s/it]http://inpho.cogs.indiana.edu/idea/5544.json\n 89%|████████▊ | 1488/1680 [42:06<05:57,  1.86s/it]http://inpho.cogs.indiana.edu/idea/2174.json\n 89%|████████▊ | 1489/1680 [42:08<05:33,  1.74s/it]http://inpho.cogs.indiana.edu/idea/1714.json\n 89%|████████▊ | 1490/1680 [42:10<05:34,  1.76s/it]http://inpho.cogs.indiana.edu/idea/1236.json\n 89%|████████▉ | 1491/1680 [42:11<05:04,  1.61s/it]http://inpho.cogs.indiana.edu/idea/1414.json\n 89%|████████▉ | 1492/1680 [42:13<05:10,  1.65s/it]http://inpho.cogs.indiana.edu/idea/6233.json\n 89%|████████▉ | 1493/1680 [42:14<04:59,  1.60s/it]http://inpho.cogs.indiana.edu/idea/5586.json\n 89%|████████▉ | 1494/1680 [42:15<04:43,  1.52s/it]http://inpho.cogs.indiana.edu/idea/531.json\n 89%|████████▉ | 1495/1680 [42:19<06:48,  2.21s/it]http://inpho.cogs.indiana.edu/idea/1715.json\n 89%|████████▉ | 1496/1680 [42:21<06:26,  2.10s/it]http://inpho.cogs.indiana.edu/thinker/3919.json\n 89%|████████▉ | 1497/1680 [42:23<05:45,  1.89s/it]http://inpho.cogs.indiana.edu/idea/6347.json\n 89%|████████▉ | 1499/1680 [42:25<04:24,  1.46s/it]Error: No InPhO entry\nhttp://inpho.cogs.indiana.edu/idea/1225.json\n 89%|████████▉ | 1500/1680 [42:26<04:32,  1.51s/it]http://inpho.cogs.indiana.edu/idea/1622.json\n 89%|████████▉ | 1501/1680 [42:27<04:07,  1.39s/it]http://inpho.cogs.indiana.edu/idea/1224.json\n 89%|████████▉ | 1502/1680 [42:29<04:04,  1.37s/it]http://inpho.cogs.indiana.edu/idea/1526.json\n 89%|████████▉ | 1503/1680 [42:31<04:32,  1.54s/it]http://inpho.cogs.indiana.edu/idea/1524.json\n 90%|████████▉ | 1504/1680 [42:33<04:59,  1.70s/it]http://inpho.cogs.indiana.edu/idea/1213.json\n 90%|████████▉ | 1505/1680 [42:34<04:27,  1.53s/it]http://inpho.cogs.indiana.edu/idea/1200.json\n 90%|████████▉ | 1506/1680 [42:35<04:18,  1.49s/it]http://inpho.cogs.indiana.edu/idea/1199.json\n 90%|████████▉ | 1507/1680 [42:37<04:06,  1.42s/it]http://inpho.cogs.indiana.edu/idea/1198.json\n 90%|████████▉ | 1508/1680 [42:38<04:12,  1.47s/it]http://inpho.cogs.indiana.edu/idea/1188.json\n 90%|████████▉ | 1509/1680 [42:39<03:56,  1.38s/it]http://inpho.cogs.indiana.edu/idea/1716.json\n 90%|████████▉ | 1510/1680 [42:40<03:37,  1.28s/it]http://inpho.cogs.indiana.edu/idea/1187.json\n 90%|████████▉ | 1511/1680 [42:42<03:31,  1.25s/it]http://inpho.cogs.indiana.edu/idea/1717.json\n 90%|█████████ | 1512/1680 [42:43<03:34,  1.28s/it]http://inpho.cogs.indiana.edu/idea/1186.json\n 90%|█████████ | 1513/1680 [42:44<03:31,  1.27s/it]http://inpho.cogs.indiana.edu/idea/1711.json\n 90%|█████████ | 1514/1680 [42:46<04:09,  1.50s/it]http://inpho.cogs.indiana.edu/idea/1927.json\n 90%|█████████ | 1515/1680 [42:47<03:53,  1.42s/it]http://inpho.cogs.indiana.edu/thinker/3932.json\n 90%|█████████ | 1516/1680 [42:49<03:38,  1.33s/it]http://inpho.cogs.indiana.edu/thinker/3935.json\n 90%|█████████ | 1517/1680 [42:50<03:29,  1.29s/it]http://inpho.cogs.indiana.edu/idea/2175.json\n 90%|█████████ | 1518/1680 [42:51<03:18,  1.23s/it]http://inpho.cogs.indiana.edu/idea/2176.json\n 90%|█████████ | 1519/1680 [42:56<06:19,  2.36s/it]http://inpho.cogs.indiana.edu/idea/1702.json\n 90%|█████████ | 1520/1680 [42:57<05:07,  1.92s/it]http://inpho.cogs.indiana.edu/idea/2177.json\n 91%|█████████ | 1521/1680 [42:59<05:41,  2.15s/it]http://inpho.cogs.indiana.edu/idea/1172.json\n 91%|█████████ | 1522/1680 [43:02<05:41,  2.16s/it]http://inpho.cogs.indiana.edu/thinker/3936.json\n 91%|█████████ | 1523/1680 [43:03<05:17,  2.02s/it]http://inpho.cogs.indiana.edu/idea/6344.json\n 91%|█████████ | 1524/1680 [43:05<04:56,  1.90s/it]http://inpho.cogs.indiana.edu/idea/1159.json\n 91%|█████████ | 1525/1680 [43:06<04:35,  1.77s/it]http://inpho.cogs.indiana.edu/thinker/6231.json\n 91%|█████████ | 1526/1680 [43:07<03:53,  1.51s/it]http://inpho.cogs.indiana.edu/idea/1157.json\n 91%|█████████ | 1527/1680 [43:09<03:59,  1.56s/it]http://inpho.cogs.indiana.edu/idea/5575.json\n 91%|█████████ | 1528/1680 [43:11<04:16,  1.69s/it]http://inpho.cogs.indiana.edu/idea/1156.json\n 91%|█████████ | 1529/1680 [43:13<04:22,  1.74s/it]http://inpho.cogs.indiana.edu/idea/1718.json\n 91%|█████████ | 1530/1680 [43:14<04:06,  1.64s/it]http://inpho.cogs.indiana.edu/thinker/3948.json\n 91%|█████████ | 1531/1680 [43:16<03:59,  1.61s/it]http://inpho.cogs.indiana.edu/thinker/3949.json\n 91%|█████████ | 1532/1680 [43:17<03:44,  1.52s/it]http://inpho.cogs.indiana.edu/idea/2178.json\n 91%|█████████▏| 1533/1680 [43:18<03:27,  1.41s/it]http://inpho.cogs.indiana.edu/thinker/3952.json\n 91%|█████████▏| 1534/1680 [43:19<03:11,  1.31s/it]http://inpho.cogs.indiana.edu/idea/548.json\n 91%|█████████▏| 1535/1680 [43:21<03:15,  1.35s/it]http://inpho.cogs.indiana.edu/thinker/3963.json\n 91%|█████████▏| 1536/1680 [43:22<03:24,  1.42s/it]http://inpho.cogs.indiana.edu/thinker/3965.json\n 91%|█████████▏| 1537/1680 [43:24<03:46,  1.58s/it]http://inpho.cogs.indiana.edu/idea/2179.json\n 92%|█████████▏| 1538/1680 [43:26<04:02,  1.71s/it]http://inpho.cogs.indiana.edu/idea/6339.json\n 92%|█████████▏| 1539/1680 [43:28<03:58,  1.69s/it]http://inpho.cogs.indiana.edu/idea/5596.json\n 92%|█████████▏| 1540/1680 [43:30<04:00,  1.71s/it]http://inpho.cogs.indiana.edu/thinker/3967.json\n 92%|█████████▏| 1541/1680 [43:31<03:27,  1.49s/it]http://inpho.cogs.indiana.edu/thinker/3968.json\n 92%|█████████▏| 1542/1680 [43:32<03:31,  1.53s/it]http://inpho.cogs.indiana.edu/idea/1504.json\n 92%|█████████▏| 1543/1680 [43:35<03:58,  1.74s/it]http://inpho.cogs.indiana.edu/idea/1640.json\n 92%|█████████▏| 1544/1680 [43:37<04:09,  1.83s/it]http://inpho.cogs.indiana.edu/thinker/4202.json\n 92%|█████████▏| 1545/1680 [43:38<03:40,  1.63s/it]http://inpho.cogs.indiana.edu/idea/1710.json\n 92%|█████████▏| 1547/1680 [43:41<03:14,  1.46s/it]Error: No InPhO entry\nhttp://inpho.cogs.indiana.edu/idea/5619.json\n 92%|█████████▏| 1548/1680 [43:42<03:03,  1.39s/it]http://inpho.cogs.indiana.edu/taxonomy/2213.json\n 92%|█████████▏| 1549/1680 [43:44<03:19,  1.52s/it]http://inpho.cogs.indiana.edu/thinker/6336.json\n 92%|█████████▏| 1550/1680 [43:45<03:03,  1.41s/it]http://inpho.cogs.indiana.edu/idea/1119.json\n 92%|█████████▏| 1551/1680 [43:47<03:31,  1.64s/it]http://inpho.cogs.indiana.edu/thinker/3976.json\n 92%|█████████▏| 1552/1680 [43:48<03:25,  1.60s/it]http://inpho.cogs.indiana.edu/idea/5686.json\n 92%|█████████▏| 1553/1680 [43:50<03:10,  1.50s/it]http://inpho.cogs.indiana.edu/idea/1111.json\n 92%|█████████▎| 1554/1680 [43:51<03:12,  1.53s/it]http://inpho.cogs.indiana.edu/thinker/3986.json\n 93%|█████████▎| 1555/1680 [43:52<02:56,  1.41s/it]http://inpho.cogs.indiana.edu/thinker/3989.json\n 93%|█████████▎| 1556/1680 [43:53<02:40,  1.29s/it]http://inpho.cogs.indiana.edu/idea/2005.json\n 93%|█████████▎| 1557/1680 [43:55<02:49,  1.38s/it]http://inpho.cogs.indiana.edu/idea/1482.json\n 93%|█████████▎| 1558/1680 [43:57<03:03,  1.50s/it]http://inpho.cogs.indiana.edu/idea/1109.json\n 93%|█████████▎| 1559/1680 [43:58<02:52,  1.43s/it]http://inpho.cogs.indiana.edu/thinker/3996.json\n 93%|█████████▎| 1560/1680 [44:00<03:16,  1.64s/it]http://inpho.cogs.indiana.edu/idea/1090.json\n 93%|█████████▎| 1561/1680 [44:02<03:14,  1.63s/it]http://inpho.cogs.indiana.edu/idea/5555.json\n 93%|█████████▎| 1562/1680 [44:03<03:04,  1.56s/it]http://inpho.cogs.indiana.edu/idea/562.json\n 93%|█████████▎| 1563/1680 [44:05<03:03,  1.57s/it]http://inpho.cogs.indiana.edu/idea/1538.json\n 93%|█████████▎| 1564/1680 [44:06<02:56,  1.52s/it]http://inpho.cogs.indiana.edu/idea/6338.json\n 93%|█████████▎| 1565/1680 [44:08<02:57,  1.55s/it]http://inpho.cogs.indiana.edu/idea/2180.json\n 93%|█████████▎| 1566/1680 [44:09<02:42,  1.43s/it]http://inpho.cogs.indiana.edu/thinker/4006.json\n 93%|█████████▎| 1567/1680 [44:10<02:37,  1.39s/it]http://inpho.cogs.indiana.edu/idea/5528.json\n 93%|█████████▎| 1568/1680 [44:12<02:35,  1.38s/it]http://inpho.cogs.indiana.edu/idea/5350.json\n 93%|█████████▎| 1569/1680 [44:13<02:32,  1.37s/it]http://inpho.cogs.indiana.edu/idea/5681.json\n 93%|█████████▎| 1570/1680 [44:15<03:07,  1.70s/it]http://inpho.cogs.indiana.edu/thinker/3404.json\n 94%|█████████▎| 1571/1680 [44:17<02:56,  1.62s/it]http://inpho.cogs.indiana.edu/thinker/3601.json\n 94%|█████████▎| 1572/1680 [44:18<02:41,  1.50s/it]http://inpho.cogs.indiana.edu/thinker/4014.json\n 94%|█████████▎| 1573/1680 [44:19<02:22,  1.33s/it]http://inpho.cogs.indiana.edu/idea/1089.json\n 94%|█████████▎| 1574/1680 [44:21<02:33,  1.45s/it]http://inpho.cogs.indiana.edu/thinker/3285.json\n 94%|█████████▍| 1575/1680 [44:22<02:24,  1.38s/it]http://inpho.cogs.indiana.edu/idea/1078.json\n 94%|█████████▍| 1576/1680 [44:23<02:23,  1.38s/it]http://inpho.cogs.indiana.edu/idea/1067.json\n 94%|█████████▍| 1577/1680 [44:26<03:03,  1.78s/it]http://inpho.cogs.indiana.edu/idea/1066.json\n 94%|█████████▍| 1578/1680 [44:28<03:17,  1.94s/it]http://inpho.cogs.indiana.edu/idea/1053.json\n 94%|█████████▍| 1579/1680 [44:29<02:47,  1.66s/it]http://inpho.cogs.indiana.edu/taxonomy/2223.json\n 94%|█████████▍| 1580/1680 [44:31<02:44,  1.65s/it]http://inpho.cogs.indiana.edu/idea/1488.json\n 94%|█████████▍| 1581/1680 [44:33<02:59,  1.82s/it]http://inpho.cogs.indiana.edu/thinker/4019.json\n 94%|█████████▍| 1582/1680 [44:35<02:43,  1.67s/it]http://inpho.cogs.indiana.edu/idea/1995.json\n 94%|█████████▍| 1583/1680 [44:36<02:43,  1.68s/it]http://inpho.cogs.indiana.edu/idea/1049.json\n 94%|█████████▍| 1584/1680 [44:37<02:28,  1.55s/it]http://inpho.cogs.indiana.edu/idea/1719.json\n 94%|█████████▍| 1585/1680 [44:39<02:39,  1.68s/it]http://inpho.cogs.indiana.edu/idea/5632.json\n 94%|█████████▍| 1586/1680 [44:41<02:43,  1.74s/it]http://inpho.cogs.indiana.edu/idea/1528.json\n 94%|█████████▍| 1587/1680 [44:43<02:47,  1.80s/it]http://inpho.cogs.indiana.edu/idea/569.json\n 95%|█████████▍| 1588/1680 [44:45<02:30,  1.63s/it]http://inpho.cogs.indiana.edu/idea/5533.json\n 95%|█████████▍| 1589/1680 [44:46<02:29,  1.64s/it]http://inpho.cogs.indiana.edu/idea/5543.json\n 95%|█████████▍| 1590/1680 [44:48<02:18,  1.54s/it]http://inpho.cogs.indiana.edu/idea/1556.json\n 95%|█████████▍| 1591/1680 [44:50<02:32,  1.71s/it]http://inpho.cogs.indiana.edu/idea/1037.json\n 95%|█████████▍| 1592/1680 [44:52<02:52,  1.96s/it]http://inpho.cogs.indiana.edu/idea/1592.json\n 95%|█████████▍| 1593/1680 [44:53<02:34,  1.77s/it]http://inpho.cogs.indiana.edu/idea/1452.json\n 95%|█████████▍| 1594/1680 [44:55<02:33,  1.79s/it]http://inpho.cogs.indiana.edu/idea/1025.json\n 95%|█████████▍| 1595/1680 [44:57<02:30,  1.77s/it]http://inpho.cogs.indiana.edu/idea/1024.json\n 95%|█████████▌| 1596/1680 [44:58<02:16,  1.62s/it]http://inpho.cogs.indiana.edu/idea/1023.json\n 95%|█████████▌| 1597/1680 [44:59<02:00,  1.45s/it]http://inpho.cogs.indiana.edu/idea/1014.json\n 95%|█████████▌| 1598/1680 [45:01<01:56,  1.43s/it]http://inpho.cogs.indiana.edu/idea/5474.json\n 95%|█████████▌| 1599/1680 [45:03<02:14,  1.66s/it]http://inpho.cogs.indiana.edu/idea/6310.json\n 95%|█████████▌| 1600/1680 [45:04<02:01,  1.51s/it]http://inpho.cogs.indiana.edu/idea/1013.json\n 95%|█████████▌| 1601/1680 [45:06<01:59,  1.51s/it]http://inpho.cogs.indiana.edu/idea/5351.json\n 95%|█████████▌| 1602/1680 [45:08<02:19,  1.79s/it]http://inpho.cogs.indiana.edu/taxonomy/2240.json\n 95%|█████████▌| 1603/1680 [45:10<02:25,  1.90s/it]http://inpho.cogs.indiana.edu/idea/1003.json\n 95%|█████████▌| 1604/1680 [45:12<02:19,  1.83s/it]http://inpho.cogs.indiana.edu/idea/1525.json\n 96%|█████████▌| 1605/1680 [45:14<02:17,  1.83s/it]http://inpho.cogs.indiana.edu/thinker/4031.json\n 96%|█████████▌| 1606/1680 [45:15<02:12,  1.79s/it]http://inpho.cogs.indiana.edu/idea/1002.json\n 96%|█████████▌| 1607/1680 [45:17<02:17,  1.88s/it]http://inpho.cogs.indiana.edu/idea/990.json\n 96%|█████████▌| 1608/1680 [45:19<02:10,  1.81s/it]http://inpho.cogs.indiana.edu/thinker/4038.json\n 96%|█████████▌| 1609/1680 [45:20<01:54,  1.61s/it]http://inpho.cogs.indiana.edu/thinker/4041.json\n 96%|█████████▌| 1610/1680 [45:21<01:42,  1.46s/it]http://inpho.cogs.indiana.edu/idea/5382.json\n 96%|█████████▌| 1611/1680 [45:23<01:44,  1.51s/it]http://inpho.cogs.indiana.edu/idea/5463.json\n 96%|█████████▌| 1612/1680 [45:24<01:38,  1.46s/it]http://inpho.cogs.indiana.edu/idea/5464.json\n 96%|█████████▌| 1613/1680 [45:25<01:30,  1.35s/it]http://inpho.cogs.indiana.edu/idea/1424.json\n 96%|█████████▌| 1614/1680 [45:28<01:55,  1.75s/it]http://inpho.cogs.indiana.edu/idea/5646.json\n 96%|█████████▌| 1615/1680 [45:30<01:54,  1.76s/it]http://inpho.cogs.indiana.edu/taxonomy/2413.json\n 96%|█████████▌| 1616/1680 [45:32<01:50,  1.72s/it]http://inpho.cogs.indiana.edu/idea/5383.json\n 96%|█████████▋| 1617/1680 [45:33<01:35,  1.52s/it]http://inpho.cogs.indiana.edu/idea/1507.json\n 96%|█████████▋| 1618/1680 [45:34<01:39,  1.61s/it]http://inpho.cogs.indiana.edu/thinker/3362.json\n 96%|█████████▋| 1619/1680 [45:36<01:29,  1.46s/it]http://inpho.cogs.indiana.edu/idea/989.json\n 96%|█████████▋| 1620/1680 [45:37<01:23,  1.39s/it]http://inpho.cogs.indiana.edu/idea/2181.json\n 96%|█████████▋| 1621/1680 [45:38<01:28,  1.50s/it]http://inpho.cogs.indiana.edu/idea/1522.json\n 97%|█████████▋| 1622/1680 [45:41<01:39,  1.71s/it]http://inpho.cogs.indiana.edu/thinker/4053.json\n 97%|█████████▋| 1623/1680 [45:42<01:27,  1.53s/it]http://inpho.cogs.indiana.edu/idea/1599.json\n 97%|█████████▋| 1624/1680 [45:43<01:22,  1.47s/it]http://inpho.cogs.indiana.edu/idea/1306.json\n 97%|█████████▋| 1625/1680 [45:45<01:25,  1.55s/it]http://inpho.cogs.indiana.edu/idea/928.json\n 97%|█████████▋| 1626/1680 [45:46<01:18,  1.46s/it]http://inpho.cogs.indiana.edu/idea/754.json\n 97%|█████████▋| 1627/1680 [45:49<01:45,  2.00s/it]http://inpho.cogs.indiana.edu/thinker/4061.json\n 97%|█████████▋| 1628/1680 [45:51<01:39,  1.92s/it]http://inpho.cogs.indiana.edu/idea/6290.json\n 97%|█████████▋| 1629/1680 [45:53<01:32,  1.81s/it]http://inpho.cogs.indiana.edu/thinker/4070.json\n 97%|█████████▋| 1630/1680 [45:54<01:16,  1.52s/it]http://inpho.cogs.indiana.edu/school_of_thought/5390.json\n 97%|█████████▋| 1631/1680 [45:55<01:08,  1.39s/it]http://inpho.cogs.indiana.edu/thinker/4075.json\n 97%|█████████▋| 1632/1680 [45:56<01:08,  1.43s/it]http://inpho.cogs.indiana.edu/thinker/4078.json\n 97%|█████████▋| 1633/1680 [45:58<01:09,  1.47s/it]http://inpho.cogs.indiana.edu/idea/1316.json\n 97%|█████████▋| 1634/1680 [46:00<01:14,  1.62s/it]http://inpho.cogs.indiana.edu/idea/5439.json\n 97%|█████████▋| 1635/1680 [46:01<01:13,  1.62s/it]http://inpho.cogs.indiana.edu/idea/5660.json\n 97%|█████████▋| 1636/1680 [46:03<01:09,  1.58s/it]http://inpho.cogs.indiana.edu/thinker/2790.json\n 97%|█████████▋| 1637/1680 [46:04<01:05,  1.53s/it]http://inpho.cogs.indiana.edu/thinker/3563.json\n 98%|█████████▊| 1638/1680 [46:06<01:11,  1.70s/it]http://inpho.cogs.indiana.edu/idea/1481.json\n 98%|█████████▊| 1639/1680 [46:08<01:09,  1.70s/it]http://inpho.cogs.indiana.edu/thinker/4097.json\n 98%|█████████▊| 1640/1680 [46:10<01:13,  1.83s/it]http://inpho.cogs.indiana.edu/idea/1532.json\n 98%|█████████▊| 1641/1680 [46:12<01:12,  1.85s/it]http://inpho.cogs.indiana.edu/thinker/4099.json\n 98%|█████████▊| 1642/1680 [46:14<01:06,  1.74s/it]http://inpho.cogs.indiana.edu/idea/1331.json\n 98%|█████████▊| 1643/1680 [46:15<01:01,  1.66s/it]http://inpho.cogs.indiana.edu/thinker/3839.json\n 98%|█████████▊| 1644/1680 [46:16<00:55,  1.54s/it]http://inpho.cogs.indiana.edu/thinker/4108.json\n 98%|█████████▊| 1645/1680 [46:18<00:57,  1.64s/it]http://inpho.cogs.indiana.edu/thinker/4110.json\n 98%|█████████▊| 1646/1680 [46:21<01:11,  2.11s/it]http://inpho.cogs.indiana.edu/thinker/4113.json\n 98%|█████████▊| 1647/1680 [46:23<01:02,  1.90s/it]http://inpho.cogs.indiana.edu/thinker/3255.json\n 98%|█████████▊| 1648/1680 [46:24<00:56,  1.78s/it]http://inpho.cogs.indiana.edu/thinker/4146.json\n 98%|█████████▊| 1649/1680 [46:26<00:55,  1.78s/it]http://inpho.cogs.indiana.edu/thinker/4117.json\n 98%|█████████▊| 1650/1680 [46:27<00:50,  1.69s/it]http://inpho.cogs.indiana.edu/thinker/4119.json\n 98%|█████████▊| 1651/1680 [46:29<00:45,  1.57s/it]http://inpho.cogs.indiana.edu/thinker/3819.json\n 98%|█████████▊| 1652/1680 [46:30<00:43,  1.57s/it]http://inpho.cogs.indiana.edu/thinker/3313.json\n 98%|█████████▊| 1653/1680 [46:32<00:39,  1.45s/it]http://inpho.cogs.indiana.edu/thinker/5653.json\n 98%|█████████▊| 1654/1680 [46:33<00:39,  1.51s/it]http://inpho.cogs.indiana.edu/thinker/4123.json\n 99%|█████████▊| 1655/1680 [46:34<00:35,  1.42s/it]http://inpho.cogs.indiana.edu/thinker/5515.json\n 99%|█████████▊| 1656/1680 [46:36<00:33,  1.41s/it]http://inpho.cogs.indiana.edu/thinker/4125.json\n 99%|█████████▊| 1657/1680 [46:37<00:32,  1.42s/it]http://inpho.cogs.indiana.edu/idea/1544.json\n 99%|█████████▊| 1658/1680 [46:39<00:32,  1.49s/it]http://inpho.cogs.indiana.edu/idea/1342.json\n 99%|█████████▉| 1659/1680 [46:41<00:35,  1.68s/it]http://inpho.cogs.indiana.edu/idea/1341.json\n 99%|█████████▉| 1660/1680 [46:43<00:32,  1.64s/it]http://inpho.cogs.indiana.edu/idea/2182.json\n 99%|█████████▉| 1661/1680 [46:44<00:30,  1.60s/it]http://inpho.cogs.indiana.edu/thinker/4132.json\n 99%|█████████▉| 1662/1680 [46:46<00:29,  1.66s/it]http://inpho.cogs.indiana.edu/thinker/4133.json\n 99%|█████████▉| 1663/1680 [46:47<00:24,  1.44s/it]http://inpho.cogs.indiana.edu/thinker/4134.json\n 99%|█████████▉| 1664/1680 [46:49<00:25,  1.61s/it]http://inpho.cogs.indiana.edu/thinker/4137.json\n 99%|█████████▉| 1665/1680 [46:51<00:25,  1.67s/it]http://inpho.cogs.indiana.edu/idea/5611.json\n 99%|█████████▉| 1666/1680 [46:52<00:22,  1.59s/it]http://inpho.cogs.indiana.edu/idea/1708.json\n 99%|█████████▉| 1667/1680 [46:53<00:19,  1.50s/it]http://inpho.cogs.indiana.edu/thinker/4142.json\n 99%|█████████▉| 1668/1680 [46:54<00:15,  1.31s/it]http://inpho.cogs.indiana.edu/idea/1707.json\n 99%|█████████▉| 1669/1680 [46:56<00:14,  1.35s/it]http://inpho.cogs.indiana.edu/thinker/4147.json\n 99%|█████████▉| 1670/1680 [46:57<00:13,  1.31s/it]http://inpho.cogs.indiana.edu/thinker/4148.json\n 99%|█████████▉| 1671/1680 [46:59<00:13,  1.52s/it]http://inpho.cogs.indiana.edu/thinker/4149.json\n100%|█████████▉| 1672/1680 [47:00<00:11,  1.43s/it]http://inpho.cogs.indiana.edu/thinker/4203.json\n100%|█████████▉| 1673/1680 [47:01<00:10,  1.44s/it]http://inpho.cogs.indiana.edu/thinker/5476.json\n100%|█████████▉| 1674/1680 [47:03<00:07,  1.32s/it]http://inpho.cogs.indiana.edu/thinker/4161.json\n100%|█████████▉| 1675/1680 [47:04<00:06,  1.39s/it]http://inpho.cogs.indiana.edu/thinker/4166.json\n100%|█████████▉| 1676/1680 [47:07<00:07,  1.87s/it]http://inpho.cogs.indiana.edu/idea/5523.json\n100%|█████████▉| 1677/1680 [47:09<00:05,  1.78s/it]http://inpho.cogs.indiana.edu/thinker/4173.json\n100%|█████████▉| 1678/1680 [47:10<00:03,  1.71s/it]http://inpho.cogs.indiana.edu/thinker/4195.json\n100%|█████████▉| 1679/1680 [47:11<00:01,  1.52s/it]http://inpho.cogs.indiana.edu/idea/1374.json\n100%|██████████| 1680/1680 [47:13<00:00,  1.69s/it]\n"
    }
   ],
   "source": [
    "### PARSING LOCAL SEP FILES ###\n",
    "\n",
    "### After downloading the Winter 2019 archive and the Spring 2020 updates, I moved the updates into the same folder, and then ran the parsing script on all of the files at once. This replaced the prior verion of the parsed data objects in MongoDB. \n",
    "###\n",
    "\n",
    "#set variable options for parsing\n",
    "collection_to_update = db.sep_entries\n",
    "file_path='../downloads/articles/sep_2019_all'\n",
    "file_type='*.html'\n",
    "sep_files = io.get_local_files(file_path,file_type)\n",
    "for sep_file in tqdm(sep_files):\n",
    "    try:\n",
    "        sep_object = sep.parse_sep_file(sep_file)\n",
    "        collection_to_update.insert_one(sep_object)\n",
    "    except:\n",
    "        print(f'Failed at: @{sep_file.name}')\n",
    "    "
   ]
  },
  {
   "cell_type": "code",
   "execution_count": 3,
   "metadata": {
    "tags": []
   },
   "outputs": [
    {
     "output_type": "stream",
     "name": "stderr",
     "text": "0%|          | 0/88 [00:00<?, ?it/s]http://inpho.cogs.indiana.edu/idea/5649.json\n  1%|          | 1/88 [00:01<02:31,  1.74s/it]http://inpho.cogs.indiana.edu/thinker/3082.json\n  2%|▏         | 2/88 [00:02<02:14,  1.57s/it]http://inpho.cogs.indiana.edu/idea/2099.json\n  3%|▎         | 3/88 [00:04<02:08,  1.51s/it]http://inpho.cogs.indiana.edu/idea/5440.json\n  5%|▍         | 4/88 [00:07<02:57,  2.12s/it]http://inpho.cogs.indiana.edu/thinker/3777.json\n  6%|▌         | 5/88 [00:09<02:35,  1.87s/it]http://inpho.cogs.indiana.edu/thinker/2886.json\n  7%|▋         | 6/88 [00:10<02:32,  1.86s/it]http://inpho.cogs.indiana.edu/thinker/2637.json\n  8%|▊         | 7/88 [00:12<02:28,  1.83s/it]http://inpho.cogs.indiana.edu/taxonomy/2302.json\n  9%|▉         | 8/88 [00:15<02:40,  2.01s/it]http://inpho.cogs.indiana.edu/idea/6351.json\n 10%|█         | 9/88 [00:16<02:26,  1.85s/it]http://inpho.cogs.indiana.edu/thinker/2731.json\n 11%|█▏        | 10/88 [00:17<02:12,  1.70s/it]http://inpho.cogs.indiana.edu/thinker/2761.json\n 14%|█▎        | 12/88 [00:20<01:55,  1.52s/it]Error: No InPhO entry\n 15%|█▍        | 13/88 [00:21<01:37,  1.30s/it]Error: No InPhO entry\nhttp://inpho.cogs.indiana.edu/thinker/2844.json\n 16%|█▌        | 14/88 [00:22<01:35,  1.29s/it]http://inpho.cogs.indiana.edu/idea/1274.json\n 17%|█▋        | 15/88 [00:25<01:52,  1.54s/it]http://inpho.cogs.indiana.edu/idea/6346.json\n 18%|█▊        | 16/88 [00:27<02:02,  1.71s/it]http://inpho.cogs.indiana.edu/idea/5387.json\n 19%|█▉        | 17/88 [00:29<02:13,  1.88s/it]http://inpho.cogs.indiana.edu/thinker/2966.json\n 20%|██        | 18/88 [00:30<02:00,  1.72s/it]http://inpho.cogs.indiana.edu/idea/1608.json\n 22%|██▏       | 19/88 [00:32<02:00,  1.75s/it]http://inpho.cogs.indiana.edu/taxonomy/2374.json\n 23%|██▎       | 20/88 [00:34<02:05,  1.84s/it]http://inpho.cogs.indiana.edu/idea/6355.json\n 24%|██▍       | 21/88 [00:36<01:58,  1.77s/it]http://inpho.cogs.indiana.edu/idea/6245.json\n 25%|██▌       | 22/88 [00:37<01:52,  1.70s/it]http://inpho.cogs.indiana.edu/taxonomy/2369.json\n 26%|██▌       | 23/88 [00:39<01:57,  1.81s/it]http://inpho.cogs.indiana.edu/taxonomy/2357.json\n 27%|██▋       | 24/88 [00:42<02:05,  1.96s/it]http://inpho.cogs.indiana.edu/taxonomy/2432.json\n 28%|██▊       | 25/88 [00:43<01:58,  1.88s/it]http://inpho.cogs.indiana.edu/idea/5696.json\n 31%|███       | 27/88 [00:46<01:38,  1.61s/it]Error: No InPhO entry\nhttp://inpho.cogs.indiana.edu/idea/1626.json\n 32%|███▏      | 28/88 [00:48<01:35,  1.59s/it]http://inpho.cogs.indiana.edu/thinker/3840.json\n 33%|███▎      | 29/88 [00:49<01:25,  1.44s/it]http://inpho.cogs.indiana.edu/idea/1479.json\n 35%|███▌      | 31/88 [00:52<01:25,  1.51s/it]Error: No InPhO entry\nhttp://inpho.cogs.indiana.edu/idea/1467.json\n 36%|███▋      | 32/88 [00:53<01:20,  1.44s/it]http://inpho.cogs.indiana.edu/idea/2024.json\n 38%|███▊      | 33/88 [00:56<01:32,  1.68s/it]http://inpho.cogs.indiana.edu/idea/1355.json\n 39%|███▊      | 34/88 [00:57<01:31,  1.69s/it]http://inpho.cogs.indiana.edu/idea/1353.json\n 41%|████      | 36/88 [00:59<01:08,  1.32s/it]Error: No InPhO entry\nhttp://inpho.cogs.indiana.edu/idea/1864.json\n 42%|████▏     | 37/88 [01:01<01:05,  1.29s/it]http://inpho.cogs.indiana.edu/idea/5639.json\n 43%|████▎     | 38/88 [01:02<01:12,  1.44s/it]http://inpho.cogs.indiana.edu/idea/6353.json\n 44%|████▍     | 39/88 [01:04<01:12,  1.49s/it]http://inpho.cogs.indiana.edu/idea/5689.json\n 45%|████▌     | 40/88 [01:05<01:07,  1.41s/it]http://inpho.cogs.indiana.edu/idea/1376.json\n 47%|████▋     | 41/88 [01:06<01:01,  1.31s/it]http://inpho.cogs.indiana.edu/idea/1324.json\n 49%|████▉     | 43/88 [01:10<01:03,  1.42s/it]Error: No InPhO entry\nhttp://inpho.cogs.indiana.edu/idea/6354.json\n 50%|█████     | 44/88 [01:11<01:02,  1.41s/it]http://inpho.cogs.indiana.edu/idea/6356.json\n 51%|█████     | 45/88 [01:13<01:03,  1.47s/it]http://inpho.cogs.indiana.edu/idea/5384.json\n 52%|█████▏    | 46/88 [01:14<01:02,  1.49s/it]http://inpho.cogs.indiana.edu/idea/1624.json\n 53%|█████▎    | 47/88 [01:16<01:00,  1.48s/it]http://inpho.cogs.indiana.edu/idea/5442.json\n 55%|█████▍    | 48/88 [01:17<01:02,  1.56s/it]http://inpho.cogs.indiana.edu/idea/2119.json\n 56%|█████▌    | 49/88 [01:18<00:55,  1.42s/it]http://inpho.cogs.indiana.edu/thinker/3553.json\n 57%|█████▋    | 50/88 [01:20<00:52,  1.37s/it]http://inpho.cogs.indiana.edu/idea/1759.json\n 58%|█████▊    | 51/88 [01:21<00:52,  1.41s/it]http://inpho.cogs.indiana.edu/idea/1220.json\n 59%|█████▉    | 52/88 [01:23<00:55,  1.53s/it]http://inpho.cogs.indiana.edu/idea/806.json\n 60%|██████    | 53/88 [01:25<00:58,  1.67s/it]http://inpho.cogs.indiana.edu/idea/1866.json\n 61%|██████▏   | 54/88 [01:27<00:57,  1.69s/it]http://inpho.cogs.indiana.edu/idea/375.json\n 62%|██████▎   | 55/88 [01:28<00:55,  1.69s/it]http://inpho.cogs.indiana.edu/idea/1076.json\n 64%|██████▎   | 56/88 [01:30<00:49,  1.55s/it]http://inpho.cogs.indiana.edu/idea/416.json\n 65%|██████▍   | 57/88 [01:31<00:45,  1.48s/it]http://inpho.cogs.indiana.edu/idea/2134.json\n 66%|██████▌   | 58/88 [01:32<00:41,  1.37s/it]http://inpho.cogs.indiana.edu/idea/2136.json\n 67%|██████▋   | 59/88 [01:34<00:42,  1.46s/it]http://inpho.cogs.indiana.edu/idea/5605.json\n 68%|██████▊   | 60/88 [01:35<00:37,  1.35s/it]http://inpho.cogs.indiana.edu/thinker/3719.json\n 69%|██████▉   | 61/88 [01:36<00:36,  1.34s/it]http://inpho.cogs.indiana.edu/taxonomy/2354.json\n 70%|███████   | 62/88 [01:38<00:42,  1.64s/it]http://inpho.cogs.indiana.edu/idea/1238.json\n 72%|███████▏  | 63/88 [01:41<00:47,  1.89s/it]http://inpho.cogs.indiana.edu/idea/1849.json\n 73%|███████▎  | 64/88 [01:42<00:41,  1.71s/it]http://inpho.cogs.indiana.edu/idea/824.json\n 74%|███████▍  | 65/88 [01:43<00:36,  1.57s/it]http://inpho.cogs.indiana.edu/idea/1400.json\n 75%|███████▌  | 66/88 [01:45<00:34,  1.56s/it]http://inpho.cogs.indiana.edu/idea/1349.json\n 76%|███████▌  | 67/88 [01:47<00:35,  1.70s/it]http://inpho.cogs.indiana.edu/idea/991.json\n 77%|███████▋  | 68/88 [01:48<00:31,  1.58s/it]http://inpho.cogs.indiana.edu/thinker/2584.json\n 78%|███████▊  | 69/88 [01:50<00:28,  1.49s/it]http://inpho.cogs.indiana.edu/thinker/3829.json\n 80%|███████▉  | 70/88 [01:52<00:30,  1.72s/it]http://inpho.cogs.indiana.edu/thinker/3854.json\n 81%|████████  | 71/88 [01:54<00:31,  1.84s/it]http://inpho.cogs.indiana.edu/idea/6352.json\n 82%|████████▏ | 72/88 [01:59<00:46,  2.90s/it]http://inpho.cogs.indiana.edu/idea/1713.json\n 83%|████████▎ | 73/88 [02:01<00:38,  2.54s/it]http://inpho.cogs.indiana.edu/idea/1299.json\n 84%|████████▍ | 74/88 [02:03<00:33,  2.40s/it]http://inpho.cogs.indiana.edu/idea/1468.json\n 85%|████████▌ | 75/88 [02:05<00:27,  2.12s/it]http://inpho.cogs.indiana.edu/thinker/6345.json\n 86%|████████▋ | 76/88 [02:07<00:25,  2.10s/it]http://inpho.cogs.indiana.edu/idea/1524.json\n 88%|████████▊ | 77/88 [02:08<00:21,  1.98s/it]http://inpho.cogs.indiana.edu/idea/1188.json\n 90%|████████▉ | 79/88 [02:10<00:13,  1.46s/it]Error: No InPhO entry\nhttp://inpho.cogs.indiana.edu/thinker/3936.json\n 91%|█████████ | 80/88 [02:12<00:11,  1.45s/it]http://inpho.cogs.indiana.edu/idea/1090.json\n 92%|█████████▏| 81/88 [02:14<00:11,  1.66s/it]http://inpho.cogs.indiana.edu/idea/6348.json\n 93%|█████████▎| 82/88 [02:15<00:09,  1.57s/it]http://inpho.cogs.indiana.edu/idea/1067.json\n 95%|█████████▌| 84/88 [02:19<00:06,  1.52s/it]Error: No InPhO entry\nhttp://inpho.cogs.indiana.edu/idea/5646.json\n 97%|█████████▋| 85/88 [02:20<00:04,  1.46s/it]http://inpho.cogs.indiana.edu/school_of_thought/5390.json\n 98%|█████████▊| 86/88 [02:21<00:02,  1.28s/it]http://inpho.cogs.indiana.edu/thinker/4078.json\n 99%|█████████▉| 87/88 [02:22<00:01,  1.32s/it]http://inpho.cogs.indiana.edu/thinker/4127.json\n100%|██████████| 88/88 [02:24<00:00,  1.64s/it]\n"
    }
   ],
   "source": [
    "#Update collection when new files downloaded\n",
    "\n",
    "collection_to_update = db.sep_entries\n",
    "file_path='../downloads/articles/sep_2020_summer'\n",
    "file_type='*.html'\n",
    "sep_files = io.get_local_files(file_path,file_type)\n",
    "for sep_file in tqdm(sep_files):\n",
    "    sep_object = sep.parse_sep_file(sep_file)\n",
    "    update_string = sep.update_main_document_data(sep_object)\n",
    "    find = {\"page_url\": sep_object['page_url']}\n",
    "    collection_to_update.update_one(find, {'$set': update_string}, upsert=True)\n",
    "\n"
   ]
  },
  {
   "cell_type": "code",
   "execution_count": 4,
   "metadata": {},
   "outputs": [
    {
     "output_type": "execute_result",
     "data": {
      "text/plain": "'title_1'"
     },
     "metadata": {},
     "execution_count": 4
    }
   ],
   "source": [
    "db.sep_entries.create_index('title')"
   ]
  },
  {
   "cell_type": "code",
   "execution_count": 11,
   "metadata": {
    "tags": []
   },
   "outputs": [
    {
     "output_type": "stream",
     "name": "stdout",
     "text": "1671\n"
    }
   ],
   "source": [
    "#add/update authors \n",
    "\n",
    "toc_collection = db.toc_2019_winter\n",
    "collection_to_update = db.sep_entries\n",
    "\n",
    "toc_entries = list(toc_collection.find({}))\n",
    "print(len(toc_entries))\n",
    "# for entry in tqdm(toc_entries):\n",
    "#     sep.add_author(entry['link_url'],entry['authors'], collection_to_update)"
   ]
  },
  {
   "cell_type": "code",
   "execution_count": null,
   "metadata": {},
   "outputs": [],
   "source": []
  }
 ],
 "metadata": {
  "language_info": {
   "name": "python",
   "codemirror_mode": {
    "name": "ipython",
    "version": 3
   },
   "version": "3.6.9-final"
  },
  "orig_nbformat": 2,
  "file_extension": ".py",
  "mimetype": "text/x-python",
  "name": "python",
  "npconvert_exporter": "python",
  "pygments_lexer": "ipython3",
  "version": 3,
  "kernelspec": {
   "name": "python36964bitpythondataconda8971416e9bae4e8197b8a061b72f9dc8",
   "display_name": "Python 3.6.9 64-bit ('PythonData': conda)"
  }
 },
 "nbformat": 4,
 "nbformat_minor": 2
}