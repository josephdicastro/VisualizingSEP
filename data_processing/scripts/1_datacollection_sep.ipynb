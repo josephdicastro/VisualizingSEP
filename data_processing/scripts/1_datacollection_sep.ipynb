{
 "cells": [
  {
   "cell_type": "code",
   "execution_count": 1,
   "metadata": {},
   "outputs": [],
   "source": [
    "### THIS SCRIPT COLLECTS DATA FROM SEP and InPhO ### "
   ]
  },
  {
   "cell_type": "code",
   "execution_count": 2,
   "metadata": {},
   "outputs": [],
   "source": [
    "# import dependencies\n",
    "import time\n",
    "import pymongo\n",
    "import re\n",
    "import json\n",
    "import requests\n",
    "\n",
    "from tqdm import tqdm\n",
    "from pprint import pprint\n",
    "from pathlib import Path\n",
    "from bs4 import BeautifulSoup\n",
    "\n",
    "#import local libraries\n",
    "import lib_sepinpho as sep\n",
    "import lib_fileops as io"
   ]
  },
  {
   "cell_type": "code",
   "execution_count": 3,
   "metadata": {},
   "outputs": [],
   "source": [
    "##### INIT GLOBAL VARIABLES#####\n",
    "\n",
    "#init Mongo\n",
    "conn = 'mongodb://localhost:27017'\n",
    "client = pymongo.MongoClient(conn)\n",
    "\n",
    "#connect to database\n",
    "db = client.visualizing_sep"
   ]
  },
  {
   "cell_type": "code",
   "execution_count": null,
   "metadata": {},
   "outputs": [],
   "source": [
    "### SCRAPE TOC FROM WINTER 2019 SEP ARCHIVE ###\n",
    "### Date Completed: 3.30.2020 ###\n",
    "\n",
    "#set variable options for Winter 2019 download\n",
    "toc_collection = db.toc_2019_winter_all\n",
    "sep_edition = 'Winter_2019'\n",
    "search_url = 'https://plato.stanford.edu/archives/win2019/contents.html'\n",
    "base_url = 'https://plato.stanford.edu/archives/win2019/'\n",
    "save_as_html = '..downloads/tocs/toc_2019_winter_all.html'\n",
    "\n",
    "print(f'Starting: SEP {sep_edition} TOC Scrape\\n')\n",
    "\n",
    "# #get list of elements to save into toc_collection \n",
    "# toc_elements = scrape_sep_toc(sep_edition, search_url, base_url, save_as_html)\n",
    "\n",
    "# #update MonogDB collection\n",
    "# toc_collection.insert_many(toc_elements)\n",
    "\n",
    "# print(f'Success! Completed SEP {sep_edition} TOC Scrape\\n')"
   ]
  },
  {
   "cell_type": "code",
   "execution_count": null,
   "metadata": {},
   "outputs": [],
   "source": [
    "### DOWNLOAD WINTER 2019 SEP ARCHIVE, AND STORE THEM LOCALLY###\n",
    "# Winter 2019 Archive: Completed 1/30/2020. This took 7 hours, so don't do it again!\n",
    "# Updated the code on 4.10.2020 to make the download process cleaner, but the files were NOT re-downloaded\n",
    "\n",
    "#set variable options for Winter 2019 download\n",
    "toc_collection = db.toc_2019_winter_all\n",
    "toc_pages = list(toc_collection.find().sort('link_url'))\n",
    "save_as_directory = '..downloads/articles/sep_2019_all/'\n",
    "\n",
    "#download SEP pages from archive\n",
    "#sep.download_sep_pages(toc_pages,save_as_directory)"
   ]
  },
  {
   "cell_type": "code",
   "execution_count": 3,
   "metadata": {
    "tags": []
   },
   "outputs": [
    {
     "output_type": "stream",
     "name": "stdout",
     "text": "Starting: SEP Spring_2020 TOC Scrape\n\n<a href=\"entries/song-ming-confucianism/\"><strong>Song-Ming Confucianism</strong></a>\n<a href=\"entries/stein/\"><strong>Edith Stein</strong></a>\n<a href=\"entries/epistemology-language-tibetan/\"><strong>Tibetan Epistemology and Philosophy of Language</strong></a>\n<a href=\"entries/health-disease/\"><strong>Concepts of Disease and Health</strong></a>\n<a href=\"entries/cohen/\"><strong>Hermann Cohen</strong></a>\n<a href=\"entries/computational-philosophy/\"><strong>Computational Philosophy</strong></a>\n<a href=\"entries/epistemology-naturalized/\"><strong>Naturalism in Epistemology</strong></a>\n<a href=\"entries/feminism-globalization/\"><strong>Feminist Perspectives on Globalization</strong></a>\n<a href=\"entries/fictionalism-modal/\"><strong>Modal Fictionalism</strong></a>\n<a href=\"entries/consciousness-17th/\"><strong>Seventeenth-Century Theories of Consciousness</strong></a>\n<a href=\"entries/johann-sturm/\"><strong>Johann Sturm</strong></a>\n<a href=\"entries/psychologism/\"><strong>Psychologism</strong></a>\n<a href=\"entries/nietzsche-moral-political/\"><strong>Nietzsche’s Moral and Political Philosophy</strong></a>\n<a href=\"entries/hegel-aesthetics/\"><strong>Hegel’s Aesthetics</strong></a>\n<a href=\"entries/plato-sophstate/\"><strong>Method and Metaphysics in Plato’s <em>Sophist</em> and <em>Statesman</em></strong></a>\n<a href=\"entries/teleology-biology/\"><strong>Teleological Notions in Biology</strong></a>\n<a href=\"entries/brouwer/\"><strong>Luitzen Egbertus Jan Brouwer</strong></a>\n<a href=\"entries/carnap/\"><strong>Rudolf Carnap</strong></a>\n<a href=\"entries/rights/\"><strong>Rights</strong></a>\n<a href=\"entries/computational-mind/\"><strong>The Computational Theory of Mind</strong></a>\n<a href=\"entries/conway/\"><strong>Lady Anne Conway</strong></a>\n<a href=\"entries/al-kindi/\"><strong>al-Kindi</strong></a>\n<a href=\"entries/chinese-room/\"><strong>The Chinese Room Argument</strong></a>\n<a href=\"entries/authenticity/\"><strong>Authenticity</strong></a>\n<a href=\"entries/negation/\"><strong>Negation</strong></a>\n<a href=\"entries/albert-great/\"><strong>Albert the Great</strong></a>\n<a href=\"entries/epistemology-visual-thinking/\"><strong>The Epistemology of Visual Thinking in Mathematics</strong></a>\n<a href=\"entries/feminism-self/\"><strong>Feminist Perspectives on the Self</strong></a>\n<a href=\"entries/descartes-ontological/\"><strong>Descartes’ Ontological Argument</strong></a>\n<a href=\"entries/biology-developmental/\"><strong>Developmental Biology</strong></a>\n<a href=\"entries/oakeshott/\"><strong>Michael Oakeshott</strong></a>\n<a href=\"entries/feminism-epistemology/\"><strong>Feminist Epistemology and Philosophy of Science</strong></a>\n<a href=\"entries/change/\"><strong>Change and Inconsistency</strong></a>\n<a href=\"entries/plato-rhetoric/\"><strong>Plato on Rhetoric and Poetry</strong></a>\n<a href=\"entries/discourse-representation-theory/\"><strong>Discourse Representation Theory</strong></a>\n<a href=\"entries/illumination/\"><strong>Divine Illumination</strong></a>\n<a href=\"entries/logic-temporal/\"><strong>Temporal Logic</strong></a>\n<a href=\"entries/kumaarila/\"><strong>Kumārila</strong></a>\n<a href=\"entries/phil-science-latin-america/\"><strong>Philosophy of Science in Latin America</strong></a>\n<a href=\"entries/kant-religion/\"><strong>Kant’s Philosophy of Religion</strong></a>\n<a href=\"entries/sport/\"><strong>Philosophy of Sport</strong></a>\n<a href=\"entries/logic-connexive/\"><strong>Connexive Logic</strong></a>\n<a href=\"entries/models-science/\"><strong>Models in Science</strong></a>\n<a href=\"entries/margaret-fell/\"><strong>Margaret Fell</strong></a>\n<a href=\"entries/confirmation/\"><strong>Confirmation</strong></a>\n<a href=\"entries/connectives-logic/\"><strong>Sentence Connectives in Formal Logic</strong></a>\n<a href=\"entries/prior/\"><strong>Arthur Prior</strong></a>\n<a href=\"entries/vaihinger/\"><strong>Hans Vaihinger</strong></a>\n<a href=\"entries/pantheism/\"><strong>Pantheism</strong></a>\n<a href=\"entries/mental-representation/\"><strong>Mental Representation</strong></a>\n<a href=\"entries/locke-freedom/\"><strong>Locke On Freedom</strong></a>\n<a href=\"entries/epistemology-evolutionary/\"><strong>Evolutionary Epistemology</strong></a>\n<a href=\"entries/arabic-islamic-influence/\"><strong>Influence of Arabic and Islamic Philosophy on the Latin West</strong></a>\n<a href=\"entries/abraham-daud/\"><strong>Abraham Ibn Daud</strong></a>\n<a href=\"entries/crescas/\"><strong>Hasdai Crescas</strong></a>\n<a href=\"entries/holbach/\"><strong>Paul-Henri Thiry (Baron) d’Holbach</strong></a>\n<a href=\"entries/seneca/\"><strong>Seneca</strong></a>\n<a href=\"entries/epistemology/\"><strong>Epistemology</strong></a>\n<a href=\"entries/plato-parmenides/\"><strong>Plato’s <em>Parmenides</em></strong></a>\n<a href=\"entries/practical-reason/\"><strong>Practical Reason</strong></a>\n<a href=\"entries/physics-Rpcc/\"><strong>Reichenbach’s Common Cause Principle</strong></a>\n<a href=\"entries/fechner/\"><strong>Gustav Theodor Fechner</strong></a>\n<a href=\"entries/hegel/\"><strong>Georg Wilhelm Friedrich Hegel</strong></a>\n<a href=\"entries/albo-joseph/\"><strong>Joseph Albo</strong></a>\n<a href=\"entries/euthanasia-voluntary/\"><strong>Voluntary Euthanasia</strong></a>\n<a href=\"entries/altruism-empirical/\"><strong>Empirical Approaches to Altruism</strong></a>\n<a href=\"entries/moral-psych-emp/\"><strong>Moral Psychology: Empirical Approaches</strong></a>\nSuccess! Completed SEP Spring_2020 TOC Scrape\n\n"
    }
   ],
   "source": [
    "### SCRAPE WHATS NEW TOC FROM SPRING 2020 SEP ARCHIVE ###\n",
    "### Downloaded Spring 2020 TOC updates: completed 4.10.2020 ###\n",
    "\n",
    "#set variable options for Spring 2020 download\n",
    "toc_collection = db.toc_2020_spring_new\n",
    "sep_edition = 'Spring_2020'\n",
    "search_url = 'https://plato.stanford.edu/archives/spr2020/new.html'\n",
    "base_url = 'https://plato.stanford.edu/archives/spr2020/'\n",
    "save_as_html = '../downloads/tocs/toc_2020_spring_new.html'\n",
    "\n",
    "print(f'Starting: SEP {sep_edition} TOC Scrape\\n')\n",
    "\n",
    "toc_elements = sep.scrape_sep_toc(sep_edition, search_url, base_url, save_as_html)\n",
    "toc_collection.insert_many(toc_elements)\n",
    "\n",
    "print(f'Success! Completed SEP {sep_edition} TOC Scrape\\n')\n"
   ]
  },
  {
   "cell_type": "code",
   "execution_count": 4,
   "metadata": {
    "tags": []
   },
   "outputs": [
    {
     "output_type": "stream",
     "name": "stderr",
     "text": "Processing: 100%|██████████| 67/67 [15:53<00:00, 14.23s/it]\n"
    }
   ],
   "source": [
    "### DOWNLOAD SPRING 2020 WHATS NEW FILES, AND STORE THEM LOCALLY###\n",
    "#Spring 2020 Archive: Completed 4.10.2020#\n",
    "\n",
    "#set variable options for Spring 2020 download\n",
    "toc_collection = db.toc_2020_spring_new\n",
    "toc_pages = list(toc_collection.find().sort('link_url'))\n",
    "save_as_directory = '../downloads/articles/sep_2020_spring/'\n",
    "\n",
    "#download SEP pages from archive\n",
    "sep.download_sep_pages(toc_pages,save_as_directory)"
   ]
  },
  {
   "cell_type": "code",
   "execution_count": 3,
   "metadata": {
    "tags": []
   },
   "outputs": [
    {
     "output_type": "stream",
     "name": "stdout",
     "text": "Starting: SEP Summer_2020 TOC Scrape\n\n<a href=\"entries/gangesa/\"><strong>Gaṅgeśa</strong></a>\n<a href=\"entries/perception-disjunctive/\"><strong>The Disjunctive Theory of Perception</strong></a>\n<a href=\"entries/settheory-early/\"><strong>The Early Development of Set Theory</strong></a>\n<a href=\"entries/panentheism/\"><strong>Panentheism</strong></a>\n<a href=\"entries/language-india/\"><strong>Language and Testimony in Classical Indian Philosophy</strong></a>\n<a href=\"entries/time-machine/\"><strong>Time Machines</strong></a>\n<a href=\"entries/existentialism/\"><strong>Existentialism</strong></a>\n<a href=\"entries/type-theory-intuitionistic/\"><strong>Intuitionistic Type Theory</strong></a>\n<a href=\"entries/justice-climate/\"><strong>Climate Justice</strong></a>\n<a href=\"entries/feminism-moralpsych/\"><strong>Feminist Moral Psychology</strong></a>\nSuccess! Completed SEP Summer_2020 TOC Scrape\n\n"
    }
   ],
   "source": [
    "### SCRAPE WHATS NEW TOC FROM SUMMER 2020 SEP ARCHIVE ###\n",
    "### Downloaded Summer 2020 TOC updates: completed 7.13.2020 ###\n",
    "\n",
    "#set variable options for Summer 2020 download\n",
    "toc_collection = db.toc_2020_summer_new\n",
    "sep_edition = 'Summer_2020'\n",
    "search_url = 'https://plato.stanford.edu/archives/sum2020/new.html'\n",
    "base_url = 'https://plato.stanford.edu/archives/sum2020/'\n",
    "save_as_html = '../downloads/tocs/toc_2020_summer_new.html'\n",
    "\n",
    "print(f'Starting: SEP {sep_edition} TOC Scrape\\n')\n",
    "\n",
    "toc_elements = sep.scrape_sep_toc(sep_edition, search_url, base_url, save_as_html)\n",
    "toc_collection.insert_many(toc_elements)\n",
    "\n",
    "print(f'Success! Completed SEP {sep_edition} TOC Scrape\\n')\n"
   ]
  },
  {
   "cell_type": "code",
   "execution_count": 4,
   "metadata": {
    "tags": []
   },
   "outputs": [
    {
     "output_type": "stream",
     "name": "stderr",
     "text": "Processing: 0it [00:00, ?it/s]\n"
    }
   ],
   "source": [
    "### DOWNLOAD SUMMER 2020 WHATS NEW FILES, AND STORE THEM LOCALLY###\n",
    "#Summer 2020 Archive: Completed 7.13.2020#\n",
    "\n",
    "#set variable options for Summer 2020 download\n",
    "toc_collection = db.toc_2020_summer_new\n",
    "toc_pages = list(toc_collection.find().sort('link_url'))\n",
    "save_as_directory = '../downloads/articles/sep_2020_summer/'\n",
    "\n",
    "#download SEP pages from archive\n",
    "sep.download_sep_pages(toc_pages,save_as_directory)"
   ]
  },
  {
   "cell_type": "code",
   "execution_count": 3,
   "metadata": {
    "tags": [
     "outputPrepend"
    ]
   },
   "outputs": [
    {
     "output_type": "stream",
     "name": "stderr",
     "text": "n\n 88%|████████▊ | 1473/1680 [23:47<02:57,  1.17it/s]http://inpho.cogs.indiana.edu/thinker/4101.json\n 88%|████████▊ | 1474/1680 [23:48<02:56,  1.17it/s]http://inpho.cogs.indiana.edu/idea/1257.json\n 88%|████████▊ | 1475/1680 [23:49<03:14,  1.05it/s]http://inpho.cogs.indiana.edu/idea/5541.json\n 88%|████████▊ | 1476/1680 [23:50<03:07,  1.09it/s]http://inpho.cogs.indiana.edu/idea/1256.json\n 88%|████████▊ | 1477/1680 [23:51<03:00,  1.13it/s]http://inpho.cogs.indiana.edu/idea/2172.json\n 88%|████████▊ | 1478/1680 [23:52<03:01,  1.11it/s]http://inpho.cogs.indiana.edu/idea/5550.json\n 88%|████████▊ | 1479/1680 [23:53<02:58,  1.13it/s]http://inpho.cogs.indiana.edu/idea/1255.json\n 88%|████████▊ | 1480/1680 [23:54<02:55,  1.14it/s]http://inpho.cogs.indiana.edu/idea/5477.json\n 88%|████████▊ | 1481/1680 [23:54<02:52,  1.15it/s]http://inpho.cogs.indiana.edu/idea/5644.json\n 88%|████████▊ | 1482/1680 [23:55<02:52,  1.15it/s]http://inpho.cogs.indiana.edu/idea/2173.json\n 88%|████████▊ | 1483/1680 [23:56<02:50,  1.16it/s]http://inpho.cogs.indiana.edu/idea/5702.json\n 88%|████████▊ | 1484/1680 [23:57<02:51,  1.14it/s]http://inpho.cogs.indiana.edu/idea/685.json\n 88%|████████▊ | 1485/1680 [23:58<02:53,  1.13it/s]http://inpho.cogs.indiana.edu/taxonomy/2391.json\n 88%|████████▊ | 1486/1680 [23:59<03:20,  1.03s/it]http://inpho.cogs.indiana.edu/idea/5526.json\n 89%|████████▊ | 1487/1680 [24:00<03:08,  1.03it/s]http://inpho.cogs.indiana.edu/idea/5544.json\n 89%|████████▊ | 1488/1680 [24:01<03:13,  1.01s/it]http://inpho.cogs.indiana.edu/idea/2174.json\n 89%|████████▊ | 1489/1680 [24:02<03:05,  1.03it/s]http://inpho.cogs.indiana.edu/idea/1714.json\n 89%|████████▊ | 1490/1680 [24:03<03:07,  1.01it/s]http://inpho.cogs.indiana.edu/idea/1236.json\n 89%|████████▉ | 1491/1680 [24:04<03:00,  1.05it/s]http://inpho.cogs.indiana.edu/idea/1414.json\n 89%|████████▉ | 1492/1680 [24:05<03:04,  1.02it/s]http://inpho.cogs.indiana.edu/idea/6233.json\n 89%|████████▉ | 1493/1680 [24:06<03:06,  1.01it/s]http://inpho.cogs.indiana.edu/idea/5586.json\n 89%|████████▉ | 1494/1680 [24:07<03:03,  1.01it/s]http://inpho.cogs.indiana.edu/idea/531.json\n 89%|████████▉ | 1495/1680 [24:08<03:06,  1.01s/it]http://inpho.cogs.indiana.edu/idea/1715.json\n 89%|████████▉ | 1496/1680 [24:09<02:58,  1.03it/s]http://inpho.cogs.indiana.edu/thinker/3919.json\n 89%|████████▉ | 1497/1680 [24:10<03:06,  1.02s/it]http://inpho.cogs.indiana.edu/idea/6347.json\n 89%|████████▉ | 1499/1680 [24:12<02:45,  1.09it/s]Error: No InPhO entry\nhttp://inpho.cogs.indiana.edu/idea/1225.json\n 89%|████████▉ | 1500/1680 [24:13<02:43,  1.10it/s]http://inpho.cogs.indiana.edu/idea/1622.json\n 89%|████████▉ | 1501/1680 [24:14<02:47,  1.07it/s]http://inpho.cogs.indiana.edu/idea/1224.json\n 89%|████████▉ | 1502/1680 [24:15<02:51,  1.04it/s]http://inpho.cogs.indiana.edu/idea/1526.json\n 89%|████████▉ | 1503/1680 [24:16<02:50,  1.04it/s]http://inpho.cogs.indiana.edu/idea/1524.json\n 90%|████████▉ | 1504/1680 [24:17<03:04,  1.05s/it]http://inpho.cogs.indiana.edu/idea/1213.json\n 90%|████████▉ | 1505/1680 [24:18<03:06,  1.06s/it]http://inpho.cogs.indiana.edu/idea/1200.json\n 90%|████████▉ | 1506/1680 [24:19<02:59,  1.03s/it]http://inpho.cogs.indiana.edu/idea/1199.json\n 90%|████████▉ | 1507/1680 [24:20<02:46,  1.04it/s]http://inpho.cogs.indiana.edu/idea/1198.json\n 90%|████████▉ | 1508/1680 [24:21<02:40,  1.07it/s]http://inpho.cogs.indiana.edu/idea/1188.json\n 90%|████████▉ | 1509/1680 [24:22<02:39,  1.07it/s]http://inpho.cogs.indiana.edu/idea/1716.json\n 90%|████████▉ | 1510/1680 [24:22<02:38,  1.08it/s]http://inpho.cogs.indiana.edu/idea/1187.json\n 90%|████████▉ | 1511/1680 [24:23<02:38,  1.06it/s]http://inpho.cogs.indiana.edu/idea/1717.json\n 90%|█████████ | 1512/1680 [24:24<02:32,  1.10it/s]http://inpho.cogs.indiana.edu/idea/1186.json\n 90%|█████████ | 1513/1680 [24:25<02:40,  1.04it/s]http://inpho.cogs.indiana.edu/idea/1711.json\n 90%|█████████ | 1514/1680 [24:27<02:59,  1.08s/it]http://inpho.cogs.indiana.edu/idea/1927.json\n 90%|█████████ | 1515/1680 [24:28<02:58,  1.08s/it]http://inpho.cogs.indiana.edu/thinker/3932.json\n 90%|█████████ | 1516/1680 [24:29<02:45,  1.01s/it]http://inpho.cogs.indiana.edu/thinker/3935.json\n 90%|█████████ | 1517/1680 [24:29<02:35,  1.05it/s]http://inpho.cogs.indiana.edu/idea/2175.json\n 90%|█████████ | 1518/1680 [24:30<02:27,  1.10it/s]http://inpho.cogs.indiana.edu/idea/2176.json\n 90%|█████████ | 1519/1680 [24:31<02:26,  1.10it/s]http://inpho.cogs.indiana.edu/idea/1702.json\n 90%|█████████ | 1520/1680 [24:32<02:23,  1.11it/s]http://inpho.cogs.indiana.edu/idea/2177.json\n 91%|█████████ | 1521/1680 [24:33<02:22,  1.12it/s]http://inpho.cogs.indiana.edu/idea/1172.json\n 91%|█████████ | 1522/1680 [24:34<02:17,  1.15it/s]http://inpho.cogs.indiana.edu/thinker/3936.json\n 91%|█████████ | 1523/1680 [24:35<02:21,  1.11it/s]http://inpho.cogs.indiana.edu/idea/6344.json\n 91%|█████████ | 1524/1680 [24:36<02:21,  1.10it/s]http://inpho.cogs.indiana.edu/idea/1159.json\n 91%|█████████ | 1525/1680 [24:37<02:19,  1.11it/s]http://inpho.cogs.indiana.edu/thinker/6231.json\n 91%|█████████ | 1526/1680 [24:37<02:15,  1.14it/s]http://inpho.cogs.indiana.edu/idea/1157.json\n 91%|█████████ | 1527/1680 [24:39<02:32,  1.01it/s]http://inpho.cogs.indiana.edu/idea/5575.json\n 91%|█████████ | 1528/1680 [24:40<02:36,  1.03s/it]http://inpho.cogs.indiana.edu/idea/1156.json\n 91%|█████████ | 1529/1680 [24:41<02:32,  1.01s/it]http://inpho.cogs.indiana.edu/idea/1718.json\n 91%|█████████ | 1530/1680 [24:42<02:23,  1.04it/s]http://inpho.cogs.indiana.edu/thinker/3948.json\n 91%|█████████ | 1531/1680 [24:42<02:18,  1.08it/s]http://inpho.cogs.indiana.edu/thinker/3949.json\n 91%|█████████ | 1532/1680 [24:43<02:15,  1.10it/s]http://inpho.cogs.indiana.edu/idea/2178.json\n 91%|█████████▏| 1533/1680 [24:44<02:10,  1.12it/s]http://inpho.cogs.indiana.edu/thinker/3952.json\n 91%|█████████▏| 1534/1680 [24:45<02:07,  1.15it/s]http://inpho.cogs.indiana.edu/idea/548.json\n 91%|█████████▏| 1535/1680 [24:46<02:10,  1.11it/s]http://inpho.cogs.indiana.edu/thinker/3963.json\n 91%|█████████▏| 1536/1680 [24:47<02:08,  1.12it/s]http://inpho.cogs.indiana.edu/thinker/3965.json\n 91%|█████████▏| 1537/1680 [24:48<02:06,  1.13it/s]http://inpho.cogs.indiana.edu/idea/2179.json\n 92%|█████████▏| 1538/1680 [24:49<02:10,  1.09it/s]http://inpho.cogs.indiana.edu/idea/6339.json\n 92%|█████████▏| 1539/1680 [24:50<02:12,  1.06it/s]http://inpho.cogs.indiana.edu/idea/5596.json\n 92%|█████████▏| 1540/1680 [24:51<02:12,  1.05it/s]http://inpho.cogs.indiana.edu/thinker/3967.json\n 92%|█████████▏| 1541/1680 [24:51<02:09,  1.08it/s]http://inpho.cogs.indiana.edu/thinker/3968.json\n 92%|█████████▏| 1542/1680 [24:52<02:04,  1.11it/s]http://inpho.cogs.indiana.edu/idea/1504.json\n 92%|█████████▏| 1543/1680 [24:54<02:23,  1.05s/it]http://inpho.cogs.indiana.edu/idea/1640.json\n 92%|█████████▏| 1544/1680 [24:55<02:17,  1.01s/it]http://inpho.cogs.indiana.edu/thinker/4202.json\n 92%|█████████▏| 1545/1680 [24:55<02:09,  1.04it/s]http://inpho.cogs.indiana.edu/idea/1710.json\n 92%|█████████▏| 1547/1680 [24:57<02:01,  1.09it/s]Error: No InPhO entry\nhttp://inpho.cogs.indiana.edu/idea/5619.json\n 92%|█████████▏| 1548/1680 [24:58<01:58,  1.11it/s]http://inpho.cogs.indiana.edu/taxonomy/2213.json\n 92%|█████████▏| 1549/1680 [24:59<02:10,  1.01it/s]http://inpho.cogs.indiana.edu/thinker/6336.json\n 92%|█████████▏| 1550/1680 [25:00<02:07,  1.02it/s]http://inpho.cogs.indiana.edu/idea/1119.json\n 92%|█████████▏| 1551/1680 [25:01<02:08,  1.00it/s]http://inpho.cogs.indiana.edu/thinker/3976.json\n 92%|█████████▏| 1552/1680 [25:02<02:00,  1.06it/s]http://inpho.cogs.indiana.edu/idea/5686.json\n 92%|█████████▏| 1553/1680 [25:03<02:02,  1.04it/s]http://inpho.cogs.indiana.edu/idea/1111.json\n 92%|█████████▎| 1554/1680 [25:04<01:59,  1.05it/s]http://inpho.cogs.indiana.edu/thinker/3986.json\n 93%|█████████▎| 1555/1680 [25:05<01:59,  1.04it/s]http://inpho.cogs.indiana.edu/thinker/3989.json\n 93%|█████████▎| 1556/1680 [25:06<01:53,  1.09it/s]http://inpho.cogs.indiana.edu/idea/2005.json\n 93%|█████████▎| 1557/1680 [25:07<01:53,  1.08it/s]http://inpho.cogs.indiana.edu/idea/1482.json\n 93%|█████████▎| 1558/1680 [25:08<01:52,  1.09it/s]http://inpho.cogs.indiana.edu/idea/1109.json\n 93%|█████████▎| 1559/1680 [25:09<01:48,  1.11it/s]http://inpho.cogs.indiana.edu/thinker/3996.json\n 93%|█████████▎| 1560/1680 [25:09<01:45,  1.14it/s]http://inpho.cogs.indiana.edu/idea/1090.json\n 93%|█████████▎| 1561/1680 [25:10<01:51,  1.07it/s]http://inpho.cogs.indiana.edu/idea/5555.json\n 93%|█████████▎| 1562/1680 [25:12<01:56,  1.02it/s]http://inpho.cogs.indiana.edu/idea/562.json\n 93%|█████████▎| 1563/1680 [25:13<01:54,  1.02it/s]http://inpho.cogs.indiana.edu/idea/1538.json\n 93%|█████████▎| 1564/1680 [25:13<01:49,  1.06it/s]http://inpho.cogs.indiana.edu/idea/6338.json\n 93%|█████████▎| 1565/1680 [25:14<01:45,  1.09it/s]http://inpho.cogs.indiana.edu/idea/2180.json\n 93%|█████████▎| 1566/1680 [25:15<01:42,  1.11it/s]http://inpho.cogs.indiana.edu/thinker/4006.json\n 93%|█████████▎| 1567/1680 [25:16<01:40,  1.13it/s]http://inpho.cogs.indiana.edu/idea/5528.json\n 93%|█████████▎| 1568/1680 [25:17<01:43,  1.08it/s]http://inpho.cogs.indiana.edu/idea/5350.json\n 93%|█████████▎| 1569/1680 [25:18<01:40,  1.10it/s]http://inpho.cogs.indiana.edu/idea/5681.json\n 93%|█████████▎| 1570/1680 [25:19<01:38,  1.11it/s]http://inpho.cogs.indiana.edu/thinker/3404.json\n 94%|█████████▎| 1571/1680 [25:20<01:38,  1.10it/s]http://inpho.cogs.indiana.edu/thinker/3601.json\n 94%|█████████▎| 1572/1680 [25:20<01:34,  1.15it/s]http://inpho.cogs.indiana.edu/thinker/4014.json\n 94%|█████████▎| 1573/1680 [25:21<01:31,  1.17it/s]http://inpho.cogs.indiana.edu/idea/1089.json\n 94%|█████████▎| 1574/1680 [25:22<01:38,  1.08it/s]http://inpho.cogs.indiana.edu/thinker/3285.json\n 94%|█████████▍| 1575/1680 [25:23<01:33,  1.12it/s]http://inpho.cogs.indiana.edu/idea/1078.json\n 94%|█████████▍| 1576/1680 [25:24<01:39,  1.04it/s]http://inpho.cogs.indiana.edu/idea/1067.json\n 94%|█████████▍| 1577/1680 [25:25<01:40,  1.03it/s]http://inpho.cogs.indiana.edu/idea/1066.json\n 94%|█████████▍| 1578/1680 [25:26<01:38,  1.04it/s]http://inpho.cogs.indiana.edu/idea/1053.json\n 94%|█████████▍| 1579/1680 [25:27<01:33,  1.07it/s]http://inpho.cogs.indiana.edu/taxonomy/2223.json\n 94%|█████████▍| 1580/1680 [25:28<01:35,  1.05it/s]http://inpho.cogs.indiana.edu/idea/1488.json\n 94%|█████████▍| 1581/1680 [25:30<01:54,  1.15s/it]http://inpho.cogs.indiana.edu/thinker/4019.json\n 94%|█████████▍| 1582/1680 [25:31<01:42,  1.04s/it]http://inpho.cogs.indiana.edu/idea/1995.json\n 94%|█████████▍| 1583/1680 [25:31<01:39,  1.02s/it]http://inpho.cogs.indiana.edu/idea/1049.json\n 94%|█████████▍| 1584/1680 [25:32<01:31,  1.04it/s]http://inpho.cogs.indiana.edu/idea/1719.json\n 94%|█████████▍| 1585/1680 [25:33<01:33,  1.01it/s]http://inpho.cogs.indiana.edu/idea/5632.json\n 94%|█████████▍| 1586/1680 [25:34<01:35,  1.02s/it]http://inpho.cogs.indiana.edu/idea/1528.json\n 94%|█████████▍| 1587/1680 [25:35<01:33,  1.01s/it]http://inpho.cogs.indiana.edu/idea/569.json\n 95%|█████████▍| 1588/1680 [25:36<01:29,  1.03it/s]http://inpho.cogs.indiana.edu/idea/5533.json\n 95%|█████████▍| 1589/1680 [25:37<01:23,  1.09it/s]http://inpho.cogs.indiana.edu/idea/5543.json\n 95%|█████████▍| 1590/1680 [25:38<01:26,  1.04it/s]http://inpho.cogs.indiana.edu/idea/1556.json\n 95%|█████████▍| 1591/1680 [25:39<01:29,  1.01s/it]http://inpho.cogs.indiana.edu/idea/1037.json\n 95%|█████████▍| 1592/1680 [25:40<01:29,  1.02s/it]http://inpho.cogs.indiana.edu/idea/1592.json\n 95%|█████████▍| 1593/1680 [25:41<01:31,  1.05s/it]http://inpho.cogs.indiana.edu/idea/1452.json\n 95%|█████████▍| 1594/1680 [25:43<01:33,  1.09s/it]http://inpho.cogs.indiana.edu/idea/1025.json\n 95%|█████████▍| 1595/1680 [25:44<01:28,  1.04s/it]http://inpho.cogs.indiana.edu/idea/1024.json\n 95%|█████████▌| 1596/1680 [25:45<01:27,  1.04s/it]http://inpho.cogs.indiana.edu/idea/1023.json\n 95%|█████████▌| 1597/1680 [25:46<01:23,  1.00s/it]http://inpho.cogs.indiana.edu/idea/1014.json\n 95%|█████████▌| 1598/1680 [25:46<01:18,  1.04it/s]http://inpho.cogs.indiana.edu/idea/5474.json\n 95%|█████████▌| 1599/1680 [25:47<01:18,  1.03it/s]http://inpho.cogs.indiana.edu/idea/6310.json\n 95%|█████████▌| 1600/1680 [25:48<01:14,  1.07it/s]http://inpho.cogs.indiana.edu/idea/1013.json\n 95%|█████████▌| 1601/1680 [25:49<01:15,  1.05it/s]http://inpho.cogs.indiana.edu/idea/5351.json\n 95%|█████████▌| 1602/1680 [25:51<01:22,  1.05s/it]http://inpho.cogs.indiana.edu/taxonomy/2240.json\n 95%|█████████▌| 1603/1680 [25:52<01:33,  1.22s/it]http://inpho.cogs.indiana.edu/idea/1003.json\n 95%|█████████▌| 1604/1680 [25:53<01:27,  1.15s/it]http://inpho.cogs.indiana.edu/idea/1525.json\n 96%|█████████▌| 1605/1680 [25:54<01:21,  1.09s/it]http://inpho.cogs.indiana.edu/thinker/4031.json\n 96%|█████████▌| 1606/1680 [25:55<01:15,  1.02s/it]http://inpho.cogs.indiana.edu/idea/1002.json\n 96%|█████████▌| 1607/1680 [25:56<01:20,  1.10s/it]http://inpho.cogs.indiana.edu/idea/990.json\n 96%|█████████▌| 1608/1680 [25:57<01:14,  1.04s/it]http://inpho.cogs.indiana.edu/thinker/4038.json\n 96%|█████████▌| 1609/1680 [25:58<01:10,  1.01it/s]http://inpho.cogs.indiana.edu/thinker/4041.json\n 96%|█████████▌| 1610/1680 [25:59<01:05,  1.06it/s]http://inpho.cogs.indiana.edu/idea/5382.json\n 96%|█████████▌| 1611/1680 [26:00<01:06,  1.04it/s]http://inpho.cogs.indiana.edu/idea/5463.json\n 96%|█████████▌| 1612/1680 [26:01<01:04,  1.06it/s]http://inpho.cogs.indiana.edu/idea/5464.json\n 96%|█████████▌| 1613/1680 [26:01<01:00,  1.12it/s]http://inpho.cogs.indiana.edu/idea/1424.json\n 96%|█████████▌| 1614/1680 [26:03<01:06,  1.01s/it]http://inpho.cogs.indiana.edu/idea/5646.json\n 96%|█████████▌| 1615/1680 [26:04<01:08,  1.05s/it]http://inpho.cogs.indiana.edu/taxonomy/2413.json\n 96%|█████████▌| 1616/1680 [26:05<01:13,  1.15s/it]http://inpho.cogs.indiana.edu/idea/5383.json\n 96%|█████████▋| 1617/1680 [26:06<01:13,  1.16s/it]http://inpho.cogs.indiana.edu/idea/1507.json\n 96%|█████████▋| 1618/1680 [26:08<01:10,  1.14s/it]http://inpho.cogs.indiana.edu/thinker/3362.json\n 96%|█████████▋| 1619/1680 [26:08<01:04,  1.05s/it]http://inpho.cogs.indiana.edu/idea/989.json\n 96%|█████████▋| 1620/1680 [26:09<01:00,  1.01s/it]http://inpho.cogs.indiana.edu/idea/2181.json\n 96%|█████████▋| 1621/1680 [26:10<00:59,  1.02s/it]http://inpho.cogs.indiana.edu/idea/1522.json\n 97%|█████████▋| 1622/1680 [26:11<01:00,  1.04s/it]http://inpho.cogs.indiana.edu/thinker/4053.json\n 97%|█████████▋| 1623/1680 [26:12<00:56,  1.01it/s]http://inpho.cogs.indiana.edu/idea/1599.json\n 97%|█████████▋| 1624/1680 [26:13<00:53,  1.05it/s]http://inpho.cogs.indiana.edu/idea/1306.json\n 97%|█████████▋| 1625/1680 [26:14<00:51,  1.06it/s]http://inpho.cogs.indiana.edu/idea/928.json\n 97%|█████████▋| 1626/1680 [26:15<00:51,  1.04it/s]http://inpho.cogs.indiana.edu/idea/754.json\n 97%|█████████▋| 1627/1680 [26:16<00:54,  1.02s/it]http://inpho.cogs.indiana.edu/thinker/4061.json\n 97%|█████████▋| 1628/1680 [26:17<00:52,  1.00s/it]http://inpho.cogs.indiana.edu/idea/6290.json\n 97%|█████████▋| 1629/1680 [26:18<00:48,  1.04it/s]http://inpho.cogs.indiana.edu/thinker/4070.json\n 97%|█████████▋| 1630/1680 [26:19<00:46,  1.08it/s]http://inpho.cogs.indiana.edu/school_of_thought/5390.json\n 97%|█████████▋| 1631/1680 [26:20<00:42,  1.15it/s]http://inpho.cogs.indiana.edu/thinker/4075.json\n 97%|█████████▋| 1632/1680 [26:20<00:41,  1.17it/s]http://inpho.cogs.indiana.edu/thinker/4078.json\n 97%|█████████▋| 1633/1680 [26:21<00:40,  1.15it/s]http://inpho.cogs.indiana.edu/idea/1316.json\n 97%|█████████▋| 1634/1680 [26:22<00:39,  1.16it/s]http://inpho.cogs.indiana.edu/idea/5439.json\n 97%|█████████▋| 1635/1680 [26:23<00:43,  1.04it/s]http://inpho.cogs.indiana.edu/idea/5660.json\n 97%|█████████▋| 1636/1680 [26:25<00:43,  1.00it/s]http://inpho.cogs.indiana.edu/thinker/2790.json\n 97%|█████████▋| 1637/1680 [26:25<00:42,  1.02it/s]http://inpho.cogs.indiana.edu/thinker/3563.json\n 98%|█████████▊| 1638/1680 [26:26<00:39,  1.05it/s]http://inpho.cogs.indiana.edu/idea/1481.json\n 98%|█████████▊| 1639/1680 [26:28<00:43,  1.06s/it]http://inpho.cogs.indiana.edu/thinker/4097.json\n 98%|█████████▊| 1640/1680 [26:28<00:39,  1.01it/s]http://inpho.cogs.indiana.edu/idea/1532.json\n 98%|█████████▊| 1641/1680 [26:29<00:37,  1.03it/s]http://inpho.cogs.indiana.edu/thinker/4099.json\n 98%|█████████▊| 1642/1680 [26:30<00:36,  1.04it/s]http://inpho.cogs.indiana.edu/idea/1331.json\n 98%|█████████▊| 1643/1680 [26:31<00:37,  1.02s/it]http://inpho.cogs.indiana.edu/thinker/3839.json\n 98%|█████████▊| 1644/1680 [26:32<00:35,  1.02it/s]http://inpho.cogs.indiana.edu/thinker/4108.json\n 98%|█████████▊| 1645/1680 [26:34<00:38,  1.09s/it]http://inpho.cogs.indiana.edu/thinker/4110.json\n 98%|█████████▊| 1646/1680 [26:35<00:34,  1.03s/it]http://inpho.cogs.indiana.edu/thinker/4113.json\n 98%|█████████▊| 1647/1680 [26:36<00:32,  1.01it/s]http://inpho.cogs.indiana.edu/thinker/3255.json\n 98%|█████████▊| 1648/1680 [26:36<00:30,  1.04it/s]http://inpho.cogs.indiana.edu/thinker/4146.json\n 98%|█████████▊| 1649/1680 [26:37<00:29,  1.05it/s]http://inpho.cogs.indiana.edu/thinker/4117.json\n 98%|█████████▊| 1650/1680 [26:38<00:27,  1.09it/s]http://inpho.cogs.indiana.edu/thinker/4119.json\n 98%|█████████▊| 1651/1680 [26:39<00:25,  1.12it/s]http://inpho.cogs.indiana.edu/thinker/3819.json\n 98%|█████████▊| 1652/1680 [26:40<00:24,  1.14it/s]http://inpho.cogs.indiana.edu/thinker/3313.json\n 98%|█████████▊| 1653/1680 [26:41<00:23,  1.16it/s]http://inpho.cogs.indiana.edu/thinker/5653.json\n 98%|█████████▊| 1654/1680 [26:42<00:22,  1.15it/s]http://inpho.cogs.indiana.edu/thinker/4123.json\n 99%|█████████▊| 1655/1680 [26:42<00:21,  1.15it/s]http://inpho.cogs.indiana.edu/thinker/5515.json\n 99%|█████████▊| 1656/1680 [26:43<00:20,  1.18it/s]http://inpho.cogs.indiana.edu/thinker/4125.json\n 99%|█████████▊| 1657/1680 [26:44<00:19,  1.18it/s]http://inpho.cogs.indiana.edu/idea/1544.json\n 99%|█████████▊| 1658/1680 [26:45<00:21,  1.05it/s]http://inpho.cogs.indiana.edu/idea/1342.json\n 99%|█████████▉| 1659/1680 [26:46<00:19,  1.07it/s]http://inpho.cogs.indiana.edu/idea/1341.json\n 99%|█████████▉| 1660/1680 [26:47<00:18,  1.08it/s]http://inpho.cogs.indiana.edu/idea/2182.json\n 99%|█████████▉| 1661/1680 [26:48<00:18,  1.02it/s]http://inpho.cogs.indiana.edu/thinker/4132.json\n 99%|█████████▉| 1662/1680 [26:49<00:17,  1.00it/s]http://inpho.cogs.indiana.edu/thinker/4133.json\n 99%|█████████▉| 1663/1680 [26:50<00:16,  1.02it/s]http://inpho.cogs.indiana.edu/thinker/4134.json\n 99%|█████████▉| 1664/1680 [26:51<00:15,  1.04it/s]http://inpho.cogs.indiana.edu/thinker/4137.json\n 99%|█████████▉| 1665/1680 [26:52<00:13,  1.08it/s]http://inpho.cogs.indiana.edu/idea/5611.json\n 99%|█████████▉| 1666/1680 [26:53<00:13,  1.01it/s]http://inpho.cogs.indiana.edu/idea/1708.json\n 99%|█████████▉| 1667/1680 [26:54<00:12,  1.05it/s]http://inpho.cogs.indiana.edu/thinker/4142.json\n 99%|█████████▉| 1668/1680 [26:55<00:11,  1.07it/s]http://inpho.cogs.indiana.edu/idea/1707.json\n 99%|█████████▉| 1669/1680 [26:56<00:09,  1.11it/s]http://inpho.cogs.indiana.edu/thinker/4147.json\n 99%|█████████▉| 1670/1680 [26:57<00:08,  1.12it/s]http://inpho.cogs.indiana.edu/thinker/4148.json\n 99%|█████████▉| 1671/1680 [26:57<00:07,  1.13it/s]http://inpho.cogs.indiana.edu/thinker/4149.json\n100%|█████████▉| 1672/1680 [26:58<00:06,  1.16it/s]http://inpho.cogs.indiana.edu/thinker/4203.json\n100%|█████████▉| 1673/1680 [26:59<00:06,  1.16it/s]http://inpho.cogs.indiana.edu/thinker/5476.json\n100%|█████████▉| 1674/1680 [27:00<00:05,  1.15it/s]http://inpho.cogs.indiana.edu/thinker/4161.json\n100%|█████████▉| 1675/1680 [27:01<00:04,  1.17it/s]http://inpho.cogs.indiana.edu/thinker/4166.json\n100%|█████████▉| 1676/1680 [27:02<00:03,  1.18it/s]http://inpho.cogs.indiana.edu/idea/5523.json\n100%|█████████▉| 1677/1680 [27:02<00:02,  1.16it/s]http://inpho.cogs.indiana.edu/thinker/4173.json\n100%|█████████▉| 1678/1680 [27:03<00:01,  1.15it/s]http://inpho.cogs.indiana.edu/thinker/4195.json\n100%|█████████▉| 1679/1680 [27:04<00:00,  1.13it/s]http://inpho.cogs.indiana.edu/idea/1374.json\n100%|██████████| 1680/1680 [27:05<00:00,  1.03it/s]\n"
    }
   ],
   "source": [
    "### PARSING LOCAL SEP FILES ###\n",
    "\n",
    "### After downloading the Winter 2019 archive and the Spring 2020 updates, I moved the updates into the same folder, and then ran the parsing script on all of the files at once. This replaced the prior verion of the parsed data objects in MongoDB. \n",
    "###\n",
    "\n",
    "#set variable options for parsing\n",
    "collection_to_update = db.sep_entries\n",
    "file_path='../downloads/articles/sep_2019_all'\n",
    "file_type='*.html'\n",
    "sep_files = io.get_local_files(file_path,file_type)\n",
    "for sep_file in tqdm(sep_files):\n",
    "    try:\n",
    "        sep_object = sep.parse_sep_file(sep_file)\n",
    "        collection_to_update.insert_one(sep_object)\n",
    "    except:\n",
    "        print(f'Failed at: @{sep_file.name}')\n",
    "    "
   ]
  },
  {
   "cell_type": "code",
   "execution_count": 4,
   "metadata": {
    "tags": []
   },
   "outputs": [
    {
     "output_type": "stream",
     "name": "stderr",
     "text": "0%|          | 0/88 [00:00<?, ?it/s]http://inpho.cogs.indiana.edu/idea/5649.json\n  1%|          | 1/88 [00:01<01:34,  1.08s/it]http://inpho.cogs.indiana.edu/thinker/3082.json\n  2%|▏         | 2/88 [00:01<01:28,  1.03s/it]http://inpho.cogs.indiana.edu/idea/2099.json\n  3%|▎         | 3/88 [00:02<01:23,  1.02it/s]http://inpho.cogs.indiana.edu/idea/5440.json\n  5%|▍         | 4/88 [00:03<01:18,  1.07it/s]http://inpho.cogs.indiana.edu/thinker/3777.json\n  6%|▌         | 5/88 [00:04<01:14,  1.11it/s]http://inpho.cogs.indiana.edu/thinker/2886.json\n  7%|▋         | 6/88 [00:05<01:15,  1.09it/s]http://inpho.cogs.indiana.edu/thinker/2637.json\n  8%|▊         | 7/88 [00:06<01:14,  1.09it/s]http://inpho.cogs.indiana.edu/taxonomy/2302.json\n  9%|▉         | 8/88 [00:07<01:18,  1.02it/s]http://inpho.cogs.indiana.edu/idea/6351.json\n 10%|█         | 9/88 [00:08<01:14,  1.06it/s]http://inpho.cogs.indiana.edu/thinker/2731.json\n 11%|█▏        | 10/88 [00:09<01:10,  1.11it/s]http://inpho.cogs.indiana.edu/thinker/2761.json\n 14%|█▎        | 12/88 [00:11<01:09,  1.09it/s]Error: No InPhO entry\n 15%|█▍        | 13/88 [00:11<01:04,  1.16it/s]Error: No InPhO entry\nhttp://inpho.cogs.indiana.edu/thinker/2844.json\n 16%|█▌        | 14/88 [00:12<01:07,  1.10it/s]http://inpho.cogs.indiana.edu/idea/1274.json\n 17%|█▋        | 15/88 [00:13<01:05,  1.12it/s]http://inpho.cogs.indiana.edu/idea/6346.json\n 18%|█▊        | 16/88 [00:14<01:03,  1.13it/s]http://inpho.cogs.indiana.edu/idea/5387.json\n 19%|█▉        | 17/88 [00:15<01:07,  1.06it/s]http://inpho.cogs.indiana.edu/thinker/2966.json\n 20%|██        | 18/88 [00:16<01:04,  1.09it/s]http://inpho.cogs.indiana.edu/idea/1608.json\n 22%|██▏       | 19/88 [00:17<01:03,  1.08it/s]http://inpho.cogs.indiana.edu/taxonomy/2374.json\n 23%|██▎       | 20/88 [00:18<01:14,  1.09s/it]http://inpho.cogs.indiana.edu/idea/6355.json\n 24%|██▍       | 21/88 [00:19<01:08,  1.02s/it]http://inpho.cogs.indiana.edu/idea/6245.json\n 25%|██▌       | 22/88 [00:21<01:24,  1.28s/it]http://inpho.cogs.indiana.edu/taxonomy/2369.json\n 26%|██▌       | 23/88 [00:23<01:27,  1.35s/it]http://inpho.cogs.indiana.edu/taxonomy/2357.json\n 27%|██▋       | 24/88 [00:24<01:29,  1.40s/it]http://inpho.cogs.indiana.edu/taxonomy/2432.json\n 28%|██▊       | 25/88 [00:25<01:21,  1.29s/it]http://inpho.cogs.indiana.edu/idea/5696.json\n 31%|███       | 27/88 [00:27<01:07,  1.10s/it]Error: No InPhO entry\nhttp://inpho.cogs.indiana.edu/idea/1626.json\n 32%|███▏      | 28/88 [00:28<01:01,  1.02s/it]http://inpho.cogs.indiana.edu/thinker/3840.json\n 33%|███▎      | 29/88 [00:29<00:56,  1.04it/s]http://inpho.cogs.indiana.edu/idea/1479.json\n 35%|███▌      | 31/88 [00:31<00:57,  1.00s/it]Error: No InPhO entry\nhttp://inpho.cogs.indiana.edu/idea/1467.json\n 36%|███▋      | 32/88 [00:32<00:53,  1.04it/s]http://inpho.cogs.indiana.edu/idea/2024.json\n 38%|███▊      | 33/88 [00:33<00:56,  1.02s/it]http://inpho.cogs.indiana.edu/idea/1355.json\n 39%|███▊      | 34/88 [00:34<00:53,  1.00it/s]http://inpho.cogs.indiana.edu/idea/1353.json\n 41%|████      | 36/88 [00:35<00:44,  1.17it/s]Error: No InPhO entry\nhttp://inpho.cogs.indiana.edu/idea/1864.json\n 42%|████▏     | 37/88 [00:36<00:43,  1.16it/s]http://inpho.cogs.indiana.edu/idea/5639.json\n 43%|████▎     | 38/88 [00:37<00:44,  1.11it/s]http://inpho.cogs.indiana.edu/idea/6353.json\n 44%|████▍     | 39/88 [00:38<00:44,  1.10it/s]http://inpho.cogs.indiana.edu/idea/5689.json\n 45%|████▌     | 40/88 [00:39<00:42,  1.12it/s]http://inpho.cogs.indiana.edu/idea/1376.json\n 47%|████▋     | 41/88 [00:40<00:42,  1.11it/s]http://inpho.cogs.indiana.edu/idea/1324.json\n 49%|████▉     | 43/88 [00:41<00:37,  1.21it/s]Error: No InPhO entry\nhttp://inpho.cogs.indiana.edu/idea/6354.json\n 50%|█████     | 44/88 [00:42<00:36,  1.21it/s]http://inpho.cogs.indiana.edu/idea/6356.json\n 51%|█████     | 45/88 [00:43<00:36,  1.18it/s]http://inpho.cogs.indiana.edu/idea/5384.json\n 52%|█████▏    | 46/88 [00:44<00:34,  1.20it/s]http://inpho.cogs.indiana.edu/idea/1624.json\n 53%|█████▎    | 47/88 [00:45<00:35,  1.17it/s]http://inpho.cogs.indiana.edu/idea/5442.json\n 55%|█████▍    | 48/88 [00:46<00:38,  1.04it/s]http://inpho.cogs.indiana.edu/idea/2119.json\n 56%|█████▌    | 49/88 [00:47<00:36,  1.08it/s]http://inpho.cogs.indiana.edu/thinker/3553.json\n 57%|█████▋    | 50/88 [00:48<00:34,  1.10it/s]http://inpho.cogs.indiana.edu/idea/1759.json\n 58%|█████▊    | 51/88 [00:49<00:34,  1.09it/s]http://inpho.cogs.indiana.edu/idea/1220.json\n 59%|█████▉    | 52/88 [00:50<00:33,  1.08it/s]http://inpho.cogs.indiana.edu/idea/806.json\n 60%|██████    | 53/88 [00:51<00:32,  1.06it/s]http://inpho.cogs.indiana.edu/idea/1866.json\n 61%|██████▏   | 54/88 [00:52<00:32,  1.06it/s]http://inpho.cogs.indiana.edu/idea/375.json\n 62%|██████▎   | 55/88 [00:53<00:33,  1.01s/it]http://inpho.cogs.indiana.edu/idea/1076.json\n 64%|██████▎   | 56/88 [00:54<00:30,  1.04it/s]http://inpho.cogs.indiana.edu/idea/416.json\n 65%|██████▍   | 57/88 [00:55<00:29,  1.06it/s]http://inpho.cogs.indiana.edu/idea/2134.json\n 66%|██████▌   | 58/88 [00:56<00:28,  1.06it/s]http://inpho.cogs.indiana.edu/idea/2136.json\n 67%|██████▋   | 59/88 [00:57<00:27,  1.04it/s]http://inpho.cogs.indiana.edu/idea/5605.json\n 68%|██████▊   | 60/88 [00:57<00:26,  1.05it/s]http://inpho.cogs.indiana.edu/thinker/3719.json\n 69%|██████▉   | 61/88 [00:58<00:25,  1.07it/s]http://inpho.cogs.indiana.edu/taxonomy/2354.json\n 70%|███████   | 62/88 [01:00<00:29,  1.14s/it]http://inpho.cogs.indiana.edu/idea/1238.json\n 72%|███████▏  | 63/88 [01:01<00:27,  1.10s/it]http://inpho.cogs.indiana.edu/idea/1849.json\n 73%|███████▎  | 64/88 [01:02<00:24,  1.03s/it]http://inpho.cogs.indiana.edu/idea/824.json\n 74%|███████▍  | 65/88 [01:03<00:22,  1.02it/s]http://inpho.cogs.indiana.edu/idea/1400.json\n 75%|███████▌  | 66/88 [01:04<00:22,  1.02s/it]http://inpho.cogs.indiana.edu/idea/1349.json\n 76%|███████▌  | 67/88 [01:05<00:23,  1.12s/it]http://inpho.cogs.indiana.edu/idea/991.json\n 77%|███████▋  | 68/88 [01:06<00:20,  1.02s/it]http://inpho.cogs.indiana.edu/thinker/2584.json\n 78%|███████▊  | 69/88 [01:07<00:18,  1.02it/s]http://inpho.cogs.indiana.edu/thinker/3829.json\n 80%|███████▉  | 70/88 [01:08<00:17,  1.00it/s]http://inpho.cogs.indiana.edu/thinker/3854.json\n 81%|████████  | 71/88 [01:09<00:16,  1.04it/s]http://inpho.cogs.indiana.edu/idea/6352.json\n 82%|████████▏ | 72/88 [01:10<00:15,  1.03it/s]http://inpho.cogs.indiana.edu/idea/1713.json\n 83%|████████▎ | 73/88 [01:11<00:13,  1.09it/s]http://inpho.cogs.indiana.edu/idea/1299.json\n 84%|████████▍ | 74/88 [01:12<00:13,  1.04it/s]http://inpho.cogs.indiana.edu/idea/1468.json\n 85%|████████▌ | 75/88 [01:12<00:12,  1.07it/s]http://inpho.cogs.indiana.edu/thinker/6345.json\n 86%|████████▋ | 76/88 [01:13<00:11,  1.08it/s]http://inpho.cogs.indiana.edu/idea/1524.json\n 88%|████████▊ | 77/88 [01:15<00:11,  1.06s/it]http://inpho.cogs.indiana.edu/idea/1188.json\n 90%|████████▉ | 79/88 [01:16<00:08,  1.09it/s]Error: No InPhO entry\nhttp://inpho.cogs.indiana.edu/thinker/3936.json\n 91%|█████████ | 80/88 [01:17<00:07,  1.09it/s]http://inpho.cogs.indiana.edu/idea/1090.json\n 92%|█████████▏| 81/88 [01:18<00:06,  1.06it/s]http://inpho.cogs.indiana.edu/idea/6348.json\n 93%|█████████▎| 82/88 [01:19<00:05,  1.10it/s]http://inpho.cogs.indiana.edu/idea/1067.json\n 95%|█████████▌| 84/88 [01:21<00:03,  1.11it/s]Error: No InPhO entry\nhttp://inpho.cogs.indiana.edu/idea/5646.json\n 97%|█████████▋| 85/88 [01:22<00:02,  1.14it/s]http://inpho.cogs.indiana.edu/school_of_thought/5390.json\n 98%|█████████▊| 86/88 [01:22<00:01,  1.20it/s]http://inpho.cogs.indiana.edu/thinker/4078.json\n 99%|█████████▉| 87/88 [01:23<00:00,  1.14it/s]http://inpho.cogs.indiana.edu/thinker/4127.json\n100%|██████████| 88/88 [01:24<00:00,  1.04it/s]\n"
    }
   ],
   "source": [
    "#Update collection when new files downloaded\n",
    "\n",
    "collection_to_update = db.sep_entries\n",
    "file_path='../downloads/articles/sep_2020_summer'\n",
    "file_type='*.html'\n",
    "sep_files = io.get_local_files(file_path,file_type)\n",
    "for sep_file in tqdm(sep_files):\n",
    "    sep_object = sep.parse_sep_file(sep_file)\n",
    "    update_string = sep.update_main_document_data(sep_object)\n",
    "    find = {\"page_url\": sep_object['page_url']}\n",
    "    collection_to_update.update_one(find, {'$set': update_string}, upsert=True)\n",
    "\n"
   ]
  },
  {
   "cell_type": "code",
   "execution_count": 4,
   "metadata": {},
   "outputs": [
    {
     "output_type": "execute_result",
     "data": {
      "text/plain": "'title_1'"
     },
     "metadata": {},
     "execution_count": 4
    }
   ],
   "source": [
    "db.sep_entries.create_index('title')"
   ]
  },
  {
   "cell_type": "code",
   "execution_count": null,
   "metadata": {},
   "outputs": [],
   "source": []
  }
 ],
 "metadata": {
  "language_info": {
   "name": "python",
   "codemirror_mode": {
    "name": "ipython",
    "version": 3
   },
   "version": "3.6.9-final"
  },
  "orig_nbformat": 2,
  "file_extension": ".py",
  "mimetype": "text/x-python",
  "name": "python",
  "npconvert_exporter": "python",
  "pygments_lexer": "ipython3",
  "version": 3,
  "kernelspec": {
   "name": "python36964bitpythondataconda8971416e9bae4e8197b8a061b72f9dc8",
   "display_name": "Python 3.6.9 64-bit ('PythonData': conda)"
  }
 },
 "nbformat": 4,
 "nbformat_minor": 2
}