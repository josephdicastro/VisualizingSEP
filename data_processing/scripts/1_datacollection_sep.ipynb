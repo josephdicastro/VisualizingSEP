{
 "cells": [
  {
   "cell_type": "code",
   "execution_count": 1,
   "metadata": {},
   "outputs": [],
   "source": [
    "### THIS SCRIPT COLLECTS DATA FROM SEP and InPhO ### "
   ]
  },
  {
   "cell_type": "code",
   "execution_count": 2,
   "metadata": {},
   "outputs": [],
   "source": [
    "# import dependencies\n",
    "import time\n",
    "import pymongo\n",
    "import re\n",
    "import json\n",
    "import requests\n",
    "import pandas as pd\n",
    "\n",
    "from tqdm import tqdm\n",
    "from pprint import pprint\n",
    "from pathlib import Path\n",
    "from bs4 import BeautifulSoup\n",
    "\n",
    "#import local libraries\n",
    "import lib_sepinpho as sep\n",
    "import lib_fileops as io"
   ]
  },
  {
   "cell_type": "code",
   "execution_count": 3,
   "metadata": {},
   "outputs": [],
   "source": [
    "##### INIT GLOBAL VARIABLES#####\n",
    "\n",
    "#init Mongo\n",
    "conn = 'mongodb://localhost:27017'\n",
    "client = pymongo.MongoClient(conn)\n",
    "\n",
    "#connect to database\n",
    "db = client.visualizing_sep"
   ]
  },
  {
   "cell_type": "code",
   "execution_count": 8,
   "metadata": {
    "tags": []
   },
   "outputs": [
    {
     "name": "stdout",
     "output_type": "stream",
     "text": [
      "Starting: SEP Winter_2019 TOC Scrape\n",
      "\n",
      "Success! Completed SEP Winter_2019 TOC Scrape\n",
      "\n"
     ]
    }
   ],
   "source": [
    "### SCRAPE TOC FROM WINTER 2019 SEP ARCHIVE ###\n",
    "### Date Completed: 3.30.2020 ###\n",
    "\n",
    "#set variable options for Winter 2019 download\n",
    "# toc_collection = db.toc_2019_winter\n",
    "# sep_edition = 'Winter_2019'\n",
    "# search_url = 'https://plato.stanford.edu/archives/win2019/contents.html'\n",
    "# base_url = 'https://plato.stanford.edu/archives/win2019/'\n",
    "# save_as_html = '../downloads/tocs/toc_2019_winter_all.html'\n",
    "\n",
    "# print(f'Starting: SEP {sep_edition} TOC Scrape\\n')\n",
    "\n",
    "# #get list of elements to save into toc_collection \n",
    "# toc_elements = sep.scrape_sep_toc(sep_edition, search_url, base_url, save_as_html)\n",
    "\n",
    "# #update MonogDB collection\n",
    "# toc_collection.insert_many(toc_elements)\n",
    "\n",
    "# print(f'Success! Completed SEP {sep_edition} TOC Scrape\\n')"
   ]
  },
  {
   "cell_type": "code",
   "execution_count": null,
   "metadata": {},
   "outputs": [],
   "source": [
    "### DOWNLOAD WINTER 2019 SEP ARCHIVE, AND STORE THEM LOCALLY###\n",
    "# Winter 2019 Archive: Completed 1/30/2020. This took 7 hours, so don't do it again!\n",
    "# Updated the code on 4.10.2020 to make the download process cleaner, but the files were NOT re-downloaded\n",
    "\n",
    "#set variable options for Winter 2019 download\n",
    "# toc_collection = db.toc_2019_winter\n",
    "# toc_pages = list(toc_collection.find().sort('link_url'))\n",
    "# save_as_directory = '..downloads/articles/sep_2019_all/'\n",
    "\n",
    "#download SEP pages from archive\n",
    "#sep.download_sep_pages(toc_pages,save_as_directory)"
   ]
  },
  {
   "cell_type": "code",
   "execution_count": 9,
   "metadata": {
    "tags": []
   },
   "outputs": [
    {
     "name": "stdout",
     "output_type": "stream",
     "text": [
      "Starting: SEP Spring_2020 TOC Scrape\n",
      "\n",
      "Success! Completed SEP Spring_2020 TOC Scrape\n",
      "\n"
     ]
    }
   ],
   "source": [
    "### SCRAPE WHATS NEW TOC FROM SPRING 2020 SEP ARCHIVE ###\n",
    "### Downloaded Spring 2020 TOC updates: completed 4.10.2020 ###\n",
    "\n",
    "#set variable options for Spring 2020 download\n",
    "# toc_collection = db.toc_2020_spring_new\n",
    "# sep_edition = 'Spring_2020'\n",
    "# search_url = 'https://plato.stanford.edu/archives/spr2020/new.html'\n",
    "# base_url = 'https://plato.stanford.edu/archives/spr2020/'\n",
    "# save_as_html = '../downloads/tocs/toc_2020_spring_new.html'\n",
    "\n",
    "# print(f'Starting: SEP {sep_edition} TOC Scrape\\n')\n",
    "\n",
    "# toc_elements = sep.scrape_sep_toc(sep_edition, search_url, base_url, save_as_html)\n",
    "# toc_collection.insert_many(toc_elements)\n",
    "\n",
    "# print(f'Success! Completed SEP {sep_edition} TOC Scrape\\n')\n"
   ]
  },
  {
   "cell_type": "code",
   "execution_count": 4,
   "metadata": {
    "tags": []
   },
   "outputs": [
    {
     "name": "stderr",
     "output_type": "stream",
     "text": [
      "Processing: 100%|██████████| 67/67 [15:53<00:00, 14.23s/it]\n"
     ]
    }
   ],
   "source": [
    "### DOWNLOAD SPRING 2020 WHATS NEW FILES, AND STORE THEM LOCALLY###\n",
    "#Spring 2020 Archive: Completed 4.10.2020#\n",
    "\n",
    "#set variable options for Spring 2020 download\n",
    "# toc_collection = db.toc_2020_spring_new\n",
    "# toc_pages = list(toc_collection.find().sort('link_url'))\n",
    "# save_as_directory = '../downloads/articles/sep_2020_spring/'\n",
    "\n",
    "# #download SEP pages from archive\n",
    "# sep.download_sep_pages(toc_pages,save_as_directory)"
   ]
  },
  {
   "cell_type": "code",
   "execution_count": null,
   "metadata": {},
   "outputs": [],
   "source": [
    "### PARSING Winter 2019 and Spring 2020 files ###\n",
    "\n",
    "### After downloading the Winter 2019 archive and the Spring 2020 updates, I moved the updates into the same folder, and then ran the parsing script on all of the files at once. This replaced the prior verion of the parsed data objects in MongoDB. \n",
    "###\n",
    "\n",
    "#set variable options for parsing\n",
    "# collection_to_update = db.sep_entries\n",
    "# file_path='../downloads/articles/sep_2019_all'\n",
    "# file_type='*.html'\n",
    "# sep_files = io.get_local_files(file_path,file_type)\n",
    "# for sep_file in tqdm(sep_files):\n",
    "#     try:\n",
    "#         sep_object = sep.parse_sep_file(sep_file)\n",
    "#         collection_to_update.insert_one(sep_object)\n",
    "#     except:\n",
    "#         print(f'Failed at: @{sep_file.name}')"
   ]
  },
  {
   "cell_type": "code",
   "execution_count": 10,
   "metadata": {
    "tags": []
   },
   "outputs": [
    {
     "name": "stdout",
     "output_type": "stream",
     "text": [
      "Starting: SEP Summer_2020 TOC Scrape\n",
      "\n",
      "Success! Completed SEP Summer_2020 TOC Scrape\n",
      "\n"
     ]
    }
   ],
   "source": [
    "### SCRAPE WHATS NEW TOC FROM SUMMER 2020 SEP ARCHIVE ###\n",
    "### Downloaded Summer 2020 TOC updates: completed 7.13.2020 ###\n",
    "\n",
    "#set variable options for Summer 2020 download\n",
    "# toc_collection = db.toc_2020_summer_new\n",
    "# sep_edition = 'Summer_2020'\n",
    "# search_url = 'https://plato.stanford.edu/archives/sum2020/new.html'\n",
    "# base_url = 'https://plato.stanford.edu/archives/sum2020/'\n",
    "# save_as_html = '../downloads/tocs/toc_2020_summer_new.html'\n",
    "\n",
    "# print(f'Starting: SEP {sep_edition} TOC Scrape\\n')\n",
    "\n",
    "# toc_elements = sep.scrape_sep_toc(sep_edition, search_url, base_url, save_as_html)\n",
    "# toc_collection.insert_many(toc_elements)\n",
    "\n",
    "# print(f'Success! Completed SEP {sep_edition} TOC Scrape\\n')\n"
   ]
  },
  {
   "cell_type": "code",
   "execution_count": 4,
   "metadata": {
    "tags": []
   },
   "outputs": [
    {
     "name": "stderr",
     "output_type": "stream",
     "text": [
      "Processing: 0it [00:00, ?it/s]\n"
     ]
    }
   ],
   "source": [
    "### DOWNLOAD SUMMER 2020 WHATS NEW FILES, AND STORE THEM LOCALLY###\n",
    "#Summer 2020 Archive: Completed 7.13.2020#\n",
    "\n",
    "#set variable options for Summer 2020 download\n",
    "# toc_collection = db.toc_2020_summer_new\n",
    "# toc_pages = list(toc_collection.find().sort('link_url'))\n",
    "# save_as_directory = '../downloads/articles/sep_2020_summer/'\n",
    "\n",
    "# #download SEP pages from archive\n",
    "# sep.download_sep_pages(toc_pages,save_as_directory)"
   ]
  },
  {
   "cell_type": "code",
   "execution_count": null,
   "metadata": {},
   "outputs": [],
   "source": [
    "#Update collection for Summer 2020 files after new files downloaded\n",
    "### PARSING  Summer 2020 files ###\n",
    "\n",
    "# collection_to_update = db.sep_entries\n",
    "# file_path='../downloads/articles/sep_2020_summer'\n",
    "# file_type='*.html'\n",
    "# sep_files = io.get_local_files(file_path,file_type)\n",
    "# for sep_file in tqdm(sep_files):\n",
    "#     sep_object = sep.parse_sep_file(sep_file)\n",
    "#     update_string = sep.update_main_document_data(sep_object)\n",
    "#     find = {\"page_url\": sep_object['page_url']}\n",
    "#     collection_to_update.update_one(find, {'$set': update_string}, upsert=True)"
   ]
  },
  {
   "cell_type": "code",
   "execution_count": 7,
   "metadata": {
    "tags": []
   },
   "outputs": [
    {
     "name": "stdout",
     "output_type": "stream",
     "text": [
      "Starting: SEP Fall_2020 TOC Scrape\n",
      "\n",
      "Success! Completed SEP Fall_2020 TOC Scrape\n",
      "\n"
     ]
    }
   ],
   "source": [
    "### SCRAPE WHATS NEW TOC FROM FALL 2020 SEP ARCHIVE ###\n",
    "### Downloaded Fall 2020 TOC updates: completed 10.1.2020 ###\n",
    "\n",
    "#set variable options for Fall 2020 download\n",
    "# toc_collection = db.toc_2020_fall_new\n",
    "# sep_edition = 'Fall_2020'\n",
    "# search_url = 'https://plato.stanford.edu/archives/fall2020/new.html'\n",
    "# base_url = 'https://plato.stanford.edu/archives/fall2020/'\n",
    "# save_as_html = '../downloads/tocs/toc_2020_fall_new.html'\n",
    "\n",
    "# print(f'Starting: SEP {sep_edition} TOC Scrape\\n')\n",
    "\n",
    "# toc_elements = sep.scrape_sep_toc(sep_edition, search_url, base_url, save_as_html)\n",
    "# toc_collection.insert_many(toc_elements)\n",
    "\n",
    "# print(f'Success! Completed SEP {sep_edition} TOC Scrape\\n')"
   ]
  },
  {
   "cell_type": "code",
   "execution_count": 8,
   "metadata": {
    "tags": []
   },
   "outputs": [
    {
     "name": "stderr",
     "output_type": "stream",
     "text": [
      "Processing: 100%|██████████| 87/87 [19:57&lt;00:00, 13.76s/it]\n"
     ]
    }
   ],
   "source": [
    "### DOWNLOAD FALL 2020 WHATS NEW FILES, AND STORE THEM LOCALLY###\n",
    "#Fall 2020 Archive: Completed 10.1.2020#\n",
    "\n",
    "#set variable options for Summer 2020 download\n",
    "# toc_collection = db.toc_2020_fall_new\n",
    "# toc_pages = list(toc_collection.find().sort('link_url'))\n",
    "# save_as_directory = '../downloads/articles/sep_2020_fall/'\n",
    "\n",
    "# #download SEP pages from archive\n",
    "# sep.download_sep_pages(toc_pages,save_as_directory)"
   ]
  },
  {
   "cell_type": "code",
   "execution_count": null,
   "metadata": {},
   "outputs": [],
   "source": [
    "#Update collection for Fall 2020 files after new files downloaded\n",
    "#Update completed 10.1.2020#\n",
    "\n",
    "# collection_to_update = db.sep_entries \n",
    "# file_path='../downloads/articles/sep_2020_fall'\n",
    "# file_type='*.html'\n",
    "# sep_files = io.get_local_files(file_path,file_type)\n",
    "# for sep_file in tqdm(sep_files):\n",
    "#     sep_object = sep.parse_sep_file(sep_file)\n",
    "#     update_string = sep.update_main_document_data(sep_object)\n",
    "#     find = {\"page_url\": sep_object['page_url']}\n",
    "#     collection_to_update.update_one(find, {'$set': update_string}, upsert=True)"
   ]
  },
  {
   "cell_type": "code",
   "execution_count": null,
   "metadata": {},
   "outputs": [],
   "source": [
    "#export copyright data into Pandas to retrieve author info from \n",
    "## Fall 2020 completed 10.1.2020#\n",
    "\n",
    "# collection_to_update = db.sep_entries\n",
    "\n",
    "# copyright_entries = pd.DataFrame(list(collection_to_update.find(filter={'author': {'$exists': False}}, \n",
    "#                                                            projection=['page_url','copyright'])))\n",
    "\n",
    "# #strip HTML from copyright data, and re-write the copyright column data\n",
    "# copyright_entries['copyright'] = copyright_entries.apply(lambda row:sep.get_author_string(row['copyright']), axis=1)\n",
    "# #export CSV for cleaning\n",
    "# copyright_entries.to_csv('copyright_fall.csv')"
   ]
  },
  {
   "cell_type": "code",
   "execution_count": null,
   "metadata": {},
   "outputs": [],
   "source": [
    "#update author data for SEP\n",
    "## Fall 2020 completed 10.1.2020#\n",
    "\n",
    "# collection_to_update = db.sep_entries\n",
    "\n",
    "# #import cleaned data\n",
    "# authors = pd.read_csv('copyright_fall.csv')\n",
    "\n",
    "# for index,row in tqdm(authors.iterrows()):\n",
    "#     page_url = row['page_url']\n",
    "#     authors = row['copyright']\n",
    "#     sep.add_author(page_url, authors, collection_to_update)"
   ]
  },
  {
   "cell_type": "code",
   "execution_count": 17,
   "metadata": {},
   "outputs": [
    {
     "data": {
      "text/plain": [
       "<pymongo.results.InsertManyResult at 0x1c486bb1a48>"
      ]
     },
     "execution_count": 17,
     "metadata": {},
     "output_type": "execute_result"
    }
   ],
   "source": [
    "# #create dupe collection to test updates before their made on main collection\n",
    "# docs = db.sep_entries.find({})\n",
    "# # db.sep_entries_dupe.drop_collection()\n",
    "# db.sep_entries_dupe.insert_many(docs)"
   ]
  },
  {
   "cell_type": "code",
   "execution_count": 5,
   "metadata": {},
   "outputs": [
    {
     "name": "stdout",
     "output_type": "stream",
     "text": [
      "Starting: SEP Winter_2020 TOC Scrape\n",
      "\n",
      "Success! Completed SEP Winter_2020 TOC Scrape\n",
      "\n"
     ]
    }
   ],
   "source": [
    "### SCRAPE WHATS NEW TOC FROM Winter 2020 SEP ARCHIVE ###\n",
    "### Downloaded Winter 2020 TOC updates: completed 12.24.2020 ###\n",
    "\n",
    "#set variable options for Winter 2020 download\n",
    "# toc_collection = db.toc_2020_winter_new\n",
    "# sep_edition = 'Winter_2020'\n",
    "# search_url = 'https://plato.stanford.edu/archives/win2020/new.html'\n",
    "# base_url = 'https://plato.stanford.edu/archives/win2020/'\n",
    "# save_as_html = '../downloads/tocs/toc_2020_win_new.html'\n",
    "\n",
    "# print(f'Starting: SEP {sep_edition} TOC Scrape\\n')\n",
    "\n",
    "# toc_elements = sep.scrape_sep_toc(sep_edition, search_url, base_url, save_as_html)\n",
    "# toc_collection.insert_many(toc_elements)\n",
    "\n",
    "# print(f'Success! Completed SEP {sep_edition} TOC Scrape\\n')"
   ]
  },
  {
   "cell_type": "code",
   "execution_count": 6,
   "metadata": {},
   "outputs": [
    {
     "name": "stderr",
     "output_type": "stream",
     "text": [
      "Processing: 100%|██████████| 84/84 [20:48<00:00, 14.86s/it]\n"
     ]
    }
   ],
   "source": [
    "### DOWNLOAD Winter 2020 WHATS NEW FILES, AND STORE THEM LOCALLY###\n",
    "#Winter 2020 Archive: Completed 12.24.2020#\n",
    "\n",
    "#set variable options for Summer 2020 download\n",
    "# toc_collection = db.toc_2020_winter_new\n",
    "# toc_pages = list(toc_collection.find().sort('link_url'))\n",
    "# save_as_directory = '../downloads/articles/sep_2020_winter/'\n",
    "\n",
    "# #download SEP pages from archive\n",
    "# sep.download_sep_pages(toc_pages,save_as_directory)"
   ]
  },
  {
   "cell_type": "code",
   "execution_count": 19,
   "metadata": {},
   "outputs": [
    {
     "name": "stderr",
     "output_type": "stream",
     "text": [
      "  0%|          | 0/84 [00:00<?, ?it/s]http://inpho.cogs.indiana.edu/idea/5336.json\n",
      "  1%|          | 1/84 [00:01<02:15,  1.64s/it]http://inpho.cogs.indiana.edu/thinker/2535.json\n",
      "  2%|▏         | 2/84 [00:02<01:59,  1.46s/it]http://inpho.cogs.indiana.edu/idea/5624.json\n",
      "  4%|▎         | 3/84 [00:03<01:45,  1.30s/it]http://inpho.cogs.indiana.edu/thinker/2547.json\n",
      "  5%|▍         | 4/84 [00:04<01:34,  1.18s/it]http://inpho.cogs.indiana.edu/idea/5365.json\n",
      "  6%|▌         | 5/84 [00:05<01:27,  1.11s/it]http://inpho.cogs.indiana.edu/idea/1008.json\n",
      "  7%|▋         | 6/84 [00:06<01:22,  1.06s/it]http://inpho.cogs.indiana.edu/thinker/2630.json\n",
      "  8%|▊         | 7/84 [00:07<01:19,  1.03s/it]http://inpho.cogs.indiana.edu/thinker/2680.json\n",
      " 10%|▉         | 8/84 [00:08<01:15,  1.01it/s]http://inpho.cogs.indiana.edu/idea/5436.json\n",
      " 11%|█         | 9/84 [00:09<01:12,  1.03it/s]http://inpho.cogs.indiana.edu/idea/5615.json\n",
      " 12%|█▏        | 10/84 [00:10<01:10,  1.05it/s]http://inpho.cogs.indiana.edu/idea/5610.json\n",
      " 13%|█▎        | 11/84 [00:10<01:06,  1.09it/s]http://inpho.cogs.indiana.edu/idea/5540.json\n",
      " 14%|█▍        | 12/84 [00:11<01:07,  1.06it/s]http://inpho.cogs.indiana.edu/thinker/2835.json\n",
      " 15%|█▌        | 13/84 [00:12<01:05,  1.08it/s]http://inpho.cogs.indiana.edu/thinker/2836.json\n",
      " 17%|█▋        | 14/84 [00:13<01:06,  1.05it/s]http://inpho.cogs.indiana.edu/idea/1275.json\n",
      " 18%|█▊        | 15/84 [00:14<01:04,  1.07it/s]http://inpho.cogs.indiana.edu/idea/1535.json\n",
      " 20%|██        | 17/84 [00:16<00:56,  1.19it/s]Error: No InPhO entry\n",
      "http://inpho.cogs.indiana.edu/idea/1410.json\n",
      " 21%|██▏       | 18/84 [00:17<01:01,  1.08it/s]http://inpho.cogs.indiana.edu/taxonomy/2341.json\n",
      " 23%|██▎       | 19/84 [00:18<01:12,  1.11s/it]http://inpho.cogs.indiana.edu/idea/1463.json\n",
      " 24%|██▍       | 20/84 [00:19<01:06,  1.04s/it]http://inpho.cogs.indiana.edu/idea/1268.json\n",
      " 25%|██▌       | 21/84 [00:20<01:06,  1.05s/it]http://inpho.cogs.indiana.edu/thinker/2918.json\n",
      " 26%|██▌       | 22/84 [00:21<01:02,  1.01s/it]http://inpho.cogs.indiana.edu/idea/1175.json\n",
      " 27%|██▋       | 23/84 [00:22<00:59,  1.02it/s]http://inpho.cogs.indiana.edu/idea/2141.json\n",
      " 29%|██▊       | 24/84 [00:23<00:56,  1.07it/s]http://inpho.cogs.indiana.edu/idea/1487.json\n",
      " 30%|██▉       | 25/84 [00:25<01:12,  1.23s/it]http://inpho.cogs.indiana.edu/idea/1590.json\n",
      " 31%|███       | 26/84 [00:26<01:04,  1.11s/it]http://inpho.cogs.indiana.edu/taxonomy/2368.json\n",
      " 32%|███▏      | 27/84 [00:28<01:18,  1.39s/it]http://inpho.cogs.indiana.edu/idea/1120.json\n",
      " 33%|███▎      | 28/84 [00:29<01:09,  1.25s/it]http://inpho.cogs.indiana.edu/idea/1047.json\n",
      " 35%|███▍      | 29/84 [00:30<01:04,  1.17s/it]http://inpho.cogs.indiana.edu/idea/2138.json\n",
      " 36%|███▌      | 30/84 [00:31<01:02,  1.15s/it]http://inpho.cogs.indiana.edu/idea/5344.json\n",
      " 37%|███▋      | 31/84 [00:32<00:56,  1.07s/it]http://inpho.cogs.indiana.edu/idea/1028.json\n",
      " 38%|███▊      | 32/84 [00:33<00:53,  1.04s/it]http://inpho.cogs.indiana.edu/idea/2126.json\n",
      " 39%|███▉      | 33/84 [00:35<01:06,  1.30s/it]http://inpho.cogs.indiana.edu/idea/995.json\n",
      " 42%|████▏     | 35/84 [00:36<00:49,  1.02s/it]Error: No InPhO entry\n",
      "http://inpho.cogs.indiana.edu/thinker/3076.json\n",
      " 43%|████▎     | 36/84 [00:37<00:45,  1.05it/s]http://inpho.cogs.indiana.edu/thinker/5447.json\n",
      " 44%|████▍     | 37/84 [00:38<00:43,  1.08it/s]http://inpho.cogs.indiana.edu/thinker/3172.json\n",
      " 46%|████▋     | 39/84 [00:39<00:37,  1.21it/s]Error: No InPhO entry\n",
      "http://inpho.cogs.indiana.edu/thinker/3599.json\n",
      " 48%|████▊     | 40/84 [00:40<00:37,  1.18it/s]http://inpho.cogs.indiana.edu/taxonomy/2435.json\n",
      " 49%|████▉     | 41/84 [00:41<00:38,  1.11it/s]http://inpho.cogs.indiana.edu/idea/711.json\n",
      " 50%|█████     | 42/84 [00:42<00:41,  1.02it/s]http://inpho.cogs.indiana.edu/thinker/3260.json\n",
      " 52%|█████▏    | 44/84 [00:44<00:35,  1.12it/s]Error: No InPhO entry\n",
      "http://inpho.cogs.indiana.edu/thinker/3584.json\n",
      " 54%|█████▎    | 45/84 [00:45<00:34,  1.13it/s]http://inpho.cogs.indiana.edu/thinker/5389.json\n",
      " 55%|█████▍    | 46/84 [00:46<00:33,  1.15it/s]http://inpho.cogs.indiana.edu/idea/1058.json\n",
      " 56%|█████▌    | 47/84 [00:47<00:32,  1.15it/s]http://inpho.cogs.indiana.edu/thinker/4187.json\n",
      " 57%|█████▋    | 48/84 [00:47<00:30,  1.19it/s]http://inpho.cogs.indiana.edu/taxonomy/2332.json\n",
      " 58%|█████▊    | 49/84 [00:49<00:33,  1.04it/s]http://inpho.cogs.indiana.edu/idea/5637.json\n",
      " 60%|█████▉    | 50/84 [00:49<00:32,  1.06it/s]http://inpho.cogs.indiana.edu/idea/5683.json\n",
      " 61%|██████    | 51/84 [00:50<00:30,  1.08it/s]http://inpho.cogs.indiana.edu/idea/1763.json\n",
      " 62%|██████▏   | 52/84 [00:51<00:28,  1.12it/s]http://inpho.cogs.indiana.edu/idea/2114.json\n",
      " 63%|██████▎   | 53/84 [00:53<00:38,  1.26s/it]http://inpho.cogs.indiana.edu/idea/1438.json\n",
      " 64%|██████▍   | 54/84 [00:55<00:39,  1.32s/it]http://inpho.cogs.indiana.edu/idea/1295.json\n",
      " 65%|██████▌   | 55/84 [00:56<00:37,  1.29s/it]http://inpho.cogs.indiana.edu/idea/904.json\n",
      " 67%|██████▋   | 56/84 [00:57<00:32,  1.17s/it]http://inpho.cogs.indiana.edu/thinker/3188.json\n",
      " 68%|██████▊   | 57/84 [00:58<00:28,  1.07s/it]http://inpho.cogs.indiana.edu/idea/1217.json\n",
      " 69%|██████▉   | 58/84 [00:59<00:27,  1.07s/it]http://inpho.cogs.indiana.edu/idea/352.json\n",
      " 70%|███████   | 59/84 [01:00<00:26,  1.06s/it]http://inpho.cogs.indiana.edu/idea/1693.json\n",
      " 71%|███████▏  | 60/84 [01:01<00:24,  1.02s/it]http://inpho.cogs.indiana.edu/thinker/3650.json\n",
      " 73%|███████▎  | 61/84 [01:02<00:22,  1.04it/s]http://inpho.cogs.indiana.edu/thinker/3682.json\n",
      " 74%|███████▍  | 62/84 [01:03<00:21,  1.04it/s]http://inpho.cogs.indiana.edu/idea/424.json\n",
      " 75%|███████▌  | 63/84 [01:04<00:20,  1.03it/s]http://inpho.cogs.indiana.edu/thinker/2877.json\n",
      " 76%|███████▌  | 64/84 [01:04<00:18,  1.08it/s]http://inpho.cogs.indiana.edu/idea/5625.json\n",
      " 77%|███████▋  | 65/84 [01:05<00:17,  1.10it/s]http://inpho.cogs.indiana.edu/idea/5638.json\n",
      " 79%|███████▊  | 66/84 [01:06<00:16,  1.08it/s]http://inpho.cogs.indiana.edu/idea/1365.json\n",
      " 80%|███████▉  | 67/84 [01:07<00:15,  1.12it/s]http://inpho.cogs.indiana.edu/idea/2154.json\n",
      " 81%|████████  | 68/84 [01:09<00:18,  1.17s/it]http://inpho.cogs.indiana.edu/thinker/3775.json\n",
      " 82%|████████▏ | 69/84 [01:10<00:16,  1.09s/it]http://inpho.cogs.indiana.edu/taxonomy/2360.json\n",
      " 83%|████████▎ | 70/84 [01:11<00:18,  1.29s/it]http://inpho.cogs.indiana.edu/idea/1042.json\n",
      " 85%|████████▍ | 71/84 [01:12<00:15,  1.19s/it]http://inpho.cogs.indiana.edu/idea/1112.json\n",
      " 86%|████████▌ | 72/84 [01:13<00:13,  1.11s/it]http://inpho.cogs.indiana.edu/school_of_thought/5393.json\n",
      " 87%|████████▋ | 73/84 [01:14<00:11,  1.01s/it]http://inpho.cogs.indiana.edu/idea/5572.json\n",
      " 88%|████████▊ | 74/84 [01:15<00:10,  1.05s/it]http://inpho.cogs.indiana.edu/idea/5526.json\n",
      " 89%|████████▉ | 75/84 [01:16<00:08,  1.02it/s]http://inpho.cogs.indiana.edu/idea/1526.json\n",
      " 90%|█████████ | 76/84 [01:17<00:07,  1.01it/s]http://inpho.cogs.indiana.edu/idea/1927.json\n",
      " 92%|█████████▏| 77/84 [01:18<00:07,  1.05s/it]http://inpho.cogs.indiana.edu/thinker/4006.json\n",
      " 93%|█████████▎| 78/84 [01:19<00:06,  1.00s/it]http://inpho.cogs.indiana.edu/idea/5350.json\n",
      " 94%|█████████▍| 79/84 [01:20<00:04,  1.04it/s]http://inpho.cogs.indiana.edu/idea/1488.json\n",
      " 95%|█████████▌| 80/84 [01:22<00:04,  1.16s/it]http://inpho.cogs.indiana.edu/idea/1556.json\n",
      " 96%|█████████▋| 81/84 [01:23<00:03,  1.15s/it]http://inpho.cogs.indiana.edu/idea/5351.json\n",
      " 98%|█████████▊| 82/84 [01:25<00:02,  1.33s/it]http://inpho.cogs.indiana.edu/idea/5660.json\n",
      " 99%|█████████▉| 83/84 [01:26<00:01,  1.28s/it]http://inpho.cogs.indiana.edu/thinker/4137.json\n",
      "100%|██████████| 84/84 [01:27<00:00,  1.04s/it]\n"
     ]
    }
   ],
   "source": [
    "#Update collection for Winter 2020 files after new files downloaded\n",
    "#Update completed 12.24.2020#\n",
    "\n",
    "# collection_to_update = db.sep_entries\n",
    "# file_path='../downloads/articles/sep_2020_winter'\n",
    "# file_type='*.html'\n",
    "# sep_files = io.get_local_files(file_path,file_type)\n",
    "# for sep_file in tqdm(sep_files):\n",
    "#     sep_object = sep.parse_sep_file(sep_file)\n",
    "#     update_string = sep.update_main_document_data(sep_object)\n",
    "#     find = {\"page_url\": sep_object['page_url']}\n",
    "#     collection_to_update.update_one(find, {'$set': update_string}, upsert=True)"
   ]
  },
  {
   "cell_type": "code",
   "execution_count": 11,
   "metadata": {
    "tags": []
   },
   "outputs": [
    {
     "data": {
      "text/html": [
       "<div>\n",
       "<style scoped>\n",
       "    .dataframe tbody tr th:only-of-type {\n",
       "        vertical-align: middle;\n",
       "    }\n",
       "\n",
       "    .dataframe tbody tr th {\n",
       "        vertical-align: top;\n",
       "    }\n",
       "\n",
       "    .dataframe thead th {\n",
       "        text-align: right;\n",
       "    }\n",
       "</style>\n",
       "<table border=\"1\" class=\"dataframe\">\n",
       "  <thead>\n",
       "    <tr style=\"text-align: right;\">\n",
       "      <th></th>\n",
       "      <th>_id</th>\n",
       "      <th>page_url</th>\n",
       "      <th>copyright</th>\n",
       "    </tr>\n",
       "  </thead>\n",
       "  <tbody>\n",
       "    <tr>\n",
       "      <td>0</td>\n",
       "      <td>5fe77411f50bb5989124a2ff</td>\n",
       "      <td>/entries/culture/</td>\n",
       "      <td>&lt;div id=\"article-copyright\"&gt; &lt;p&gt; &lt;a href=\"../....</td>\n",
       "    </tr>\n",
       "    <tr>\n",
       "      <td>1</td>\n",
       "      <td>5fe77424f50bb5989124a316</td>\n",
       "      <td>/entries/freedom-ancient/</td>\n",
       "      <td>&lt;div id=\"article-copyright\"&gt; &lt;p&gt; &lt;a href=\"../....</td>\n",
       "    </tr>\n",
       "  </tbody>\n",
       "</table>\n",
       "</div>"
      ],
      "text/plain": [
       "                        _id                   page_url  \\\n",
       "0  5fe77411f50bb5989124a2ff          /entries/culture/   \n",
       "1  5fe77424f50bb5989124a316  /entries/freedom-ancient/   \n",
       "\n",
       "                                           copyright  \n",
       "0  <div id=\"article-copyright\"> <p> <a href=\"../....  \n",
       "1  <div id=\"article-copyright\"> <p> <a href=\"../....  "
      ]
     },
     "execution_count": 11,
     "metadata": {},
     "output_type": "execute_result"
    }
   ],
   "source": [
    "#Manual Author and Dataset Updates \n",
    "## Winter 2020 completed 10.26.2020#\n",
    "# There were only two entirely new entries in this set of updates. There were 4 other updates that replaced prior articles. \n",
    "# Because of this, I just hand-updated the entires in MongoDB itself"
   ]
  },
  {
   "cell_type": "code",
   "execution_count": 4,
   "metadata": {},
   "outputs": [
    {
     "name": "stdout",
     "output_type": "stream",
     "text": [
      "Starting: SEP Spring_2021 TOC Scrape\n",
      "\n",
      "Success! Completed SEP Spring_2021 TOC Scrape\n",
      "\n"
     ]
    }
   ],
   "source": [
    "### SCRAPE WHATS NEW TOC FROM Spring 2021 SEP ARCHIVE ###\n",
    "### Downloaded Spring 2021 TOC updates: completed 4.3.2021 ###\n",
    "\n",
    "#set variable options for Spring 2021 download\n",
    "# toc_collection = db.toc_2021_spring_new\n",
    "# sep_edition = 'Spring_2021'\n",
    "# search_url = 'https://plato.stanford.edu/archives/spr2021/new.html'\n",
    "# base_url = 'https://plato.stanford.edu/archives/spr2021/'\n",
    "# save_as_html = '../downloads/tocs/toc_2021_win_new.html'\n",
    "\n",
    "# print(f'Starting: SEP {sep_edition} TOC Scrape\\n')\n",
    "\n",
    "# toc_elements = sep.scrape_sep_toc(sep_edition, search_url, base_url, save_as_html)\n",
    "# toc_collection.insert_many(toc_elements)\n",
    "\n",
    "# print(f'Success! Completed SEP {sep_edition} TOC Scrape\\n')"
   ]
  },
  {
   "cell_type": "code",
   "execution_count": 5,
   "metadata": {},
   "outputs": [
    {
     "name": "stderr",
     "output_type": "stream",
     "text": [
      "Processing: 100%|██████████| 72/72 [18:13<00:00, 15.19s/it]\n"
     ]
    }
   ],
   "source": [
    "### DOWNLOAD Spring 2021 WHATS NEW FILES, AND STORE THEM LOCALLY###\n",
    "#Spring 2021 Archive: Completed 4.2.2021#\n",
    "\n",
    "# #set variable options for Spring 2021 download\n",
    "# toc_collection = db.toc_2021_spring_new\n",
    "# toc_pages = list(toc_collection.find().sort('link_url'))\n",
    "# save_as_directory = '../downloads/articles/sep_2021_spring/'\n",
    "\n",
    "# # #download SEP pages from archive\n",
    "# sep.download_sep_pages(toc_pages,save_as_directory)"
   ]
  },
  {
   "cell_type": "code",
   "execution_count": 6,
   "metadata": {},
   "outputs": [
    {
     "data": {
      "text/plain": [
       "<pymongo.results.InsertManyResult at 0x21186ef4308>"
      ]
     },
     "execution_count": 6,
     "metadata": {},
     "output_type": "execute_result"
    }
   ],
   "source": [
    "#create dupe collection to test updates before their made on main collection\n",
    "docs = db.sep_entries.find({})\n",
    "# db.sep_entries_dupe.drop_collection()\n",
    "db.sep_entries_through2020.insert_many(docs)"
   ]
  },
  {
   "cell_type": "code",
   "execution_count": 7,
   "metadata": {},
   "outputs": [
    {
     "name": "stderr",
     "output_type": "stream",
     "text": [
      "  0%|          | 0/72 [00:00<?, ?it/s]http://inpho.cogs.indiana.edu/thinker/2486.json\n",
      "  1%|▏         | 1/72 [00:01<01:16,  1.08s/it]http://inpho.cogs.indiana.edu/idea/5657.json\n",
      "  3%|▎         | 2/72 [00:02<01:13,  1.04s/it]http://inpho.cogs.indiana.edu/idea/1462.json\n",
      "  4%|▍         | 3/72 [00:03<01:13,  1.06s/it]http://inpho.cogs.indiana.edu/idea/1722.json\n",
      "  6%|▌         | 4/72 [00:04<01:08,  1.01s/it]http://inpho.cogs.indiana.edu/idea/123.json\n",
      "  7%|▋         | 5/72 [00:04<01:04,  1.03it/s]http://inpho.cogs.indiana.edu/idea/5364.json\n",
      "  8%|▊         | 6/72 [00:05<01:02,  1.05it/s]http://inpho.cogs.indiana.edu/idea/1020.json\n",
      " 10%|▉         | 7/72 [00:06<01:01,  1.06it/s]http://inpho.cogs.indiana.edu/idea/5621.json\n",
      " 11%|█         | 8/72 [00:08<01:11,  1.12s/it]http://inpho.cogs.indiana.edu/idea/1015.json\n",
      " 12%|█▎        | 9/72 [00:09<01:07,  1.08s/it]http://inpho.cogs.indiana.edu/thinker/2694.json\n",
      " 14%|█▍        | 10/72 [00:10<01:03,  1.02s/it]http://inpho.cogs.indiana.edu/idea/1087.json\n",
      " 15%|█▌        | 11/72 [00:11<01:03,  1.04s/it]http://inpho.cogs.indiana.edu/idea/5581.json\n",
      " 17%|█▋        | 12/72 [00:12<00:59,  1.00it/s]http://inpho.cogs.indiana.edu/idea/812.json\n",
      " 18%|█▊        | 13/72 [00:13<00:56,  1.04it/s]http://inpho.cogs.indiana.edu/taxonomy/2301.json\n",
      " 19%|█▉        | 14/72 [00:14<00:57,  1.00it/s]http://inpho.cogs.indiana.edu/idea/1230.json\n",
      " 21%|██        | 15/72 [00:15<00:55,  1.02it/s]http://inpho.cogs.indiana.edu/idea/2047.json\n",
      " 22%|██▏       | 16/72 [00:16<00:58,  1.05s/it]http://inpho.cogs.indiana.edu/idea/1277.json\n",
      " 24%|██▎       | 17/72 [00:17<00:58,  1.07s/it]http://inpho.cogs.indiana.edu/idea/5456.json\n",
      " 25%|██▌       | 18/72 [00:18<00:57,  1.06s/it]http://inpho.cogs.indiana.edu/idea/1272.json\n",
      " 26%|██▋       | 19/72 [00:19<00:54,  1.03s/it]http://inpho.cogs.indiana.edu/idea/1305.json\n",
      " 28%|██▊       | 20/72 [00:20<00:55,  1.06s/it]http://inpho.cogs.indiana.edu/thinker/2910.json\n",
      " 29%|██▉       | 21/72 [00:21<00:52,  1.03s/it]http://inpho.cogs.indiana.edu/idea/1557.json\n",
      " 31%|███       | 22/72 [00:22<00:50,  1.01s/it]http://inpho.cogs.indiana.edu/idea/1139.json\n",
      " 32%|███▏      | 23/72 [00:23<00:47,  1.04it/s]http://inpho.cogs.indiana.edu/idea/5492.json\n",
      " 33%|███▎      | 24/72 [00:24<00:46,  1.04it/s]http://inpho.cogs.indiana.edu/idea/1121.json\n",
      " 35%|███▍      | 25/72 [00:25<00:46,  1.00it/s]http://inpho.cogs.indiana.edu/idea/1046.json\n",
      " 36%|███▌      | 26/72 [00:26<00:46,  1.01s/it]http://inpho.cogs.indiana.edu/idea/5576.json\n",
      " 38%|███▊      | 27/72 [00:27<00:43,  1.03it/s]http://inpho.cogs.indiana.edu/idea/2138.json\n",
      " 39%|███▉      | 28/72 [00:28<00:43,  1.00it/s]http://inpho.cogs.indiana.edu/idea/1548.json\n",
      " 40%|████      | 29/72 [00:30<00:52,  1.23s/it]http://inpho.cogs.indiana.edu/idea/5672.json\n",
      " 42%|████▏     | 30/72 [00:32<01:00,  1.44s/it]http://inpho.cogs.indiana.edu/idea/5676.json\n",
      " 43%|████▎     | 31/72 [00:32<00:53,  1.30s/it]http://inpho.cogs.indiana.edu/thinker/3132.json\n",
      " 44%|████▍     | 32/72 [00:33<00:48,  1.21s/it]http://inpho.cogs.indiana.edu/idea/5520.json\n",
      " 46%|████▌     | 33/72 [00:34<00:43,  1.11s/it]http://inpho.cogs.indiana.edu/idea/1343.json\n",
      " 47%|████▋     | 34/72 [00:36<00:42,  1.12s/it]http://inpho.cogs.indiana.edu/thinker/3223.json\n",
      " 49%|████▊     | 35/72 [00:37<00:40,  1.09s/it]http://inpho.cogs.indiana.edu/idea/6362.json\n",
      " 50%|█████     | 36/72 [00:38<00:40,  1.13s/it]http://inpho.cogs.indiana.edu/idea/6364.json\n",
      " 51%|█████▏    | 37/72 [00:39<00:41,  1.19s/it]http://inpho.cogs.indiana.edu/idea/267.json\n",
      " 53%|█████▎    | 38/72 [00:40<00:40,  1.20s/it]http://inpho.cogs.indiana.edu/idea/1534.json\n",
      " 54%|█████▍    | 39/72 [00:42<00:39,  1.21s/it]http://inpho.cogs.indiana.edu/idea/1169.json\n",
      " 56%|█████▌    | 40/72 [00:42<00:35,  1.12s/it]http://inpho.cogs.indiana.edu/thinker/3454.json\n",
      " 57%|█████▋    | 41/72 [00:43<00:34,  1.10s/it]http://inpho.cogs.indiana.edu/idea/1603.json\n",
      " 58%|█████▊    | 42/72 [00:44<00:31,  1.06s/it]http://inpho.cogs.indiana.edu/thinker/3475.json\n",
      " 60%|█████▉    | 43/72 [00:45<00:29,  1.00s/it]http://inpho.cogs.indiana.edu/taxonomy/2406.json\n",
      " 61%|██████    | 44/72 [00:47<00:35,  1.27s/it]http://inpho.cogs.indiana.edu/idea/5426.json\n",
      " 62%|██████▎   | 45/72 [00:48<00:31,  1.17s/it]http://inpho.cogs.indiana.edu/thinker/3511.json\n",
      " 64%|██████▍   | 46/72 [00:49<00:28,  1.09s/it]http://inpho.cogs.indiana.edu/thinker/3539.json\n",
      " 65%|██████▌   | 47/72 [00:50<00:26,  1.05s/it]http://inpho.cogs.indiana.edu/idea/5507.json\n",
      " 67%|██████▋   | 48/72 [00:51<00:25,  1.05s/it]http://inpho.cogs.indiana.edu/idea/366.json\n",
      " 68%|██████▊   | 49/72 [00:52<00:24,  1.09s/it]http://inpho.cogs.indiana.edu/idea/2125.json\n",
      " 69%|██████▉   | 50/72 [00:53<00:22,  1.02s/it]http://inpho.cogs.indiana.edu/idea/687.json\n",
      " 71%|███████   | 51/72 [00:54<00:20,  1.03it/s]http://inpho.cogs.indiana.edu/thinker/3696.json\n",
      " 72%|███████▏  | 52/72 [00:55<00:19,  1.04it/s]http://inpho.cogs.indiana.edu/idea/5376.json\n",
      " 74%|███████▎  | 53/72 [00:56<00:17,  1.07it/s]http://inpho.cogs.indiana.edu/idea/1362.json\n",
      " 75%|███████▌  | 54/72 [00:58<00:22,  1.25s/it]http://inpho.cogs.indiana.edu/taxonomy/2283.json\n",
      " 76%|███████▋  | 55/72 [00:59<00:20,  1.19s/it]http://inpho.cogs.indiana.edu/thinker/3738.json\n",
      " 78%|███████▊  | 56/72 [01:00<00:17,  1.12s/it]http://inpho.cogs.indiana.edu/thinker/3739.json\n",
      " 79%|███████▉  | 57/72 [01:01<00:15,  1.05s/it]http://inpho.cogs.indiana.edu/idea/1902.json\n",
      " 81%|████████  | 58/72 [01:02<00:15,  1.09s/it]http://inpho.cogs.indiana.edu/idea/2152.json\n",
      " 82%|████████▏ | 59/72 [01:03<00:13,  1.03s/it]http://inpho.cogs.indiana.edu/idea/1114.json\n",
      " 83%|████████▎ | 60/72 [01:04<00:11,  1.00it/s]http://inpho.cogs.indiana.edu/thinker/3805.json\n",
      " 85%|████████▍ | 61/72 [01:05<00:10,  1.03it/s]http://inpho.cogs.indiana.edu/thinker/3824.json\n",
      " 86%|████████▌ | 62/72 [01:06<00:10,  1.02s/it]http://inpho.cogs.indiana.edu/thinker/3857.json\n",
      " 88%|████████▊ | 63/72 [01:07<00:08,  1.04it/s]http://inpho.cogs.indiana.edu/idea/2173.json\n",
      " 89%|████████▉ | 64/72 [01:07<00:07,  1.06it/s]http://inpho.cogs.indiana.edu/idea/5596.json\n",
      " 90%|█████████ | 65/72 [01:09<00:06,  1.00it/s]http://inpho.cogs.indiana.edu/idea/5681.json\n",
      " 92%|█████████▏| 66/72 [01:09<00:05,  1.01it/s]http://inpho.cogs.indiana.edu/idea/1066.json\n",
      " 93%|█████████▎| 67/72 [01:11<00:05,  1.04s/it]http://inpho.cogs.indiana.edu/idea/1014.json\n",
      " 94%|█████████▍| 68/72 [01:12<00:04,  1.01s/it]http://inpho.cogs.indiana.edu/idea/754.json\n",
      " 97%|█████████▋| 70/72 [01:13<00:01,  1.09it/s]Error: No InPhO entry\n",
      "http://inpho.cogs.indiana.edu/thinker/4075.json\n",
      " 99%|█████████▊| 71/72 [01:14<00:00,  1.12it/s]http://inpho.cogs.indiana.edu/idea/1708.json\n",
      "100%|██████████| 72/72 [01:15<00:00,  1.05s/it]\n"
     ]
    }
   ],
   "source": [
    "#Update collection for Spring 2021 files after new files downloaded\n",
    "#Update completed 4.3.2021#\n",
    "\n",
    "# collection_to_update = db.sep_entries\n",
    "# file_path='../downloads/articles/sep_2021_spring'\n",
    "# file_type='*.html'\n",
    "# sep_files = io.get_local_files(file_path,file_type)\n",
    "# for sep_file in tqdm(sep_files):\n",
    "#     sep_object = sep.parse_sep_file(sep_file)\n",
    "#     update_string = sep.update_main_document_data(sep_object)\n",
    "#     find = {\"page_url\": sep_object['page_url']}\n",
    "#     collection_to_update.update_one(find, {'$set': update_string}, upsert=True)"
   ]
  },
  {
   "cell_type": "code",
   "execution_count": 4,
   "metadata": {},
   "outputs": [],
   "source": [
    "#export copyright data into Pandas to retrieve author info  \n",
    "## Spring 2021 completed 4.3.2021#\n",
    "\n",
    "# collection_to_update = db.sep_entries\n",
    "\n",
    "# copyright_entries = pd.DataFrame(list(collection_to_update.find(filter={'author': {'$exists': False}}, \n",
    "#                                                            projection=['page_url','copyright'])))\n",
    "\n",
    "# # #strip HTML from copyright data, and re-write the copyright column data\n",
    "# copyright_entries['copyright'] = copyright_entries.apply(lambda row:sep.get_author_string(row['copyright']), axis=1)\n",
    "# #export CSV for cleaning\n",
    "# copyright_entries.to_csv('copyright_spring2021.csv')"
   ]
  },
  {
   "cell_type": "code",
   "execution_count": 10,
   "metadata": {},
   "outputs": [
    {
     "ename": "SyntaxError",
     "evalue": "invalid syntax (<ipython-input-10-7ddd50f224dd>, line 15)",
     "output_type": "error",
     "traceback": [
      "\u001b[1;36m  File \u001b[1;32m\"<ipython-input-10-7ddd50f224dd>\"\u001b[1;36m, line \u001b[1;32m15\u001b[0m\n\u001b[1;33m    There were also two other articles that needed author updates on:\u001b[0m\n\u001b[1;37m             ^\u001b[0m\n\u001b[1;31mSyntaxError\u001b[0m\u001b[1;31m:\u001b[0m invalid syntax\n"
     ]
    }
   ],
   "source": [
    "#update author data for SEP\n",
    "# Spring 2021 completed 4.3.2021#\n",
    "\n",
    "# collection_to_update = db.sep_entries\n",
    "\n",
    "# #import cleaned data\n",
    "# authors = pd.read_csv('copyright_spring2021.csv')\n",
    "\n",
    "# for index,row in tqdm(authors.iterrows()):\n",
    "#     page_url = row['page_url']\n",
    "#     authors = row['copyright']\n",
    "#     sep.add_author(page_url, authors, collection_to_update)\n",
    "\n",
    "\n",
    "# There were also two other articles that needed author updates on: \n",
    "# https://plato.stanford.edu/archives/spr2021/entries/cognition-animal/ \n",
    "# https://plato.stanford.edu/archives/spr2021/entries/conscience-medieval/"
   ]
  },
  {
   "cell_type": "code",
   "execution_count": 6,
   "metadata": {},
   "outputs": [
    {
     "name": "stdout",
     "output_type": "stream",
     "text": [
      "Starting: SEP Fall_2021 TOC Scrape\n",
      "\n",
      "Success! Completed SEP Fall_2021 TOC Scrape\n",
      "\n"
     ]
    }
   ],
   "source": [
    "### SCRAPE WHATS NEW TOC FROM Summer 2021 SEP ARCHIVE ###\n",
    "### Downloaded Summer 2021 TOC updates: completed 9.27.2021 ###\n",
    "### SCRAPE WHATS NEW TOC FROM Fall 2021 SEP ARCHIVE ###\n",
    "### Downloaded Fall 2021 TOC updates: completed 9.27.2021 ###\n",
    "\n",
    "\n",
    "#set variable options for Fall 2021 download\n",
    "# toc_collection = db.toc_2021_fall_new\n",
    "# sep_edition = 'Fall_2021'\n",
    "# search_url = 'https://plato.stanford.edu/archives/fall2021/new.html'\n",
    "# base_url = 'https://plato.stanford.edu/archives/fall2021/'\n",
    "# save_as_html = '../downloads/tocs/toc_2021_fall_new.html'\n",
    "\n",
    "# print(f'Starting: SEP {sep_edition} TOC Scrape\\n')\n",
    "\n",
    "# toc_elements = sep.scrape_sep_toc(sep_edition, search_url, base_url, save_as_html)\n",
    "# toc_collection.insert_many(toc_elements)\n",
    "\n",
    "# print(f'Success! Completed SEP {sep_edition} TOC Scrape\\n')"
   ]
  },
  {
   "cell_type": "code",
   "execution_count": 8,
   "metadata": {},
   "outputs": [
    {
     "name": "stderr",
     "output_type": "stream",
     "text": [
      "Processing: 100%|██████████| 86/86 [22:11<00:00, 15.49s/it]\n"
     ]
    }
   ],
   "source": [
    "### DOWNLOAD Summer 2021 WHATS NEW FILES, AND STORE THEM LOCALLY###\n",
    "#Summer and Fall 2021 Archive: Completed 9.27.2021#\n",
    "\n",
    "# #set variable options for Spring 2021 download\n",
    "# toc_collection = db.toc_2021_fall_new\n",
    "# toc_pages = list(toc_collection.find().sort('link_url'))\n",
    "# save_as_directory = '../downloads/articles/sep_2021_fall/'\n",
    "\n",
    "# # #download SEP pages from archive\n",
    "# sep.download_sep_pages(toc_pages,save_as_directory)"
   ]
  },
  {
   "cell_type": "code",
   "execution_count": 9,
   "metadata": {},
   "outputs": [
    {
     "data": {
      "text/plain": [
       "<pymongo.results.InsertManyResult at 0x14dd3dcc5c8>"
      ]
     },
     "execution_count": 9,
     "metadata": {},
     "output_type": "execute_result"
    }
   ],
   "source": []
  },
  {
   "cell_type": "code",
   "execution_count": 20,
   "metadata": {},
   "outputs": [
    {
     "name": "stderr",
     "output_type": "stream",
     "text": [
      "  0%|          | 0/86 [00:00<?, ?it/s]http://inpho.cogs.indiana.edu/taxonomy/2355.json\n",
      "  1%|          | 1/86 [00:01<01:55,  1.36s/it]http://inpho.cogs.indiana.edu/idea/6378.json\n",
      "  2%|▏         | 2/86 [00:02<01:45,  1.26s/it]http://inpho.cogs.indiana.edu/thinker/2545.json\n",
      "  3%|▎         | 3/86 [00:03<01:34,  1.14s/it]http://inpho.cogs.indiana.edu/idea/6375.json\n",
      "  5%|▍         | 4/86 [00:04<01:27,  1.07s/it]http://inpho.cogs.indiana.edu/idea/1724.json\n",
      "  6%|▌         | 5/86 [00:05<01:22,  1.02s/it]http://inpho.cogs.indiana.edu/thinker/2574.json\n",
      "  7%|▋         | 6/86 [00:06<01:21,  1.01s/it]http://inpho.cogs.indiana.edu/thinker/2637.json\n",
      "  8%|▊         | 7/86 [00:07<01:19,  1.01s/it]http://inpho.cogs.indiana.edu/thinker/2687.json\n",
      "  9%|▉         | 8/86 [00:07<01:15,  1.03it/s]http://inpho.cogs.indiana.edu/thinker/2705.json\n",
      " 10%|█         | 9/86 [00:08<01:12,  1.06it/s]http://inpho.cogs.indiana.edu/idea/6377.json\n",
      " 12%|█▏        | 10/86 [00:10<01:21,  1.08s/it]http://inpho.cogs.indiana.edu/idea/2155.json\n",
      " 13%|█▎        | 11/86 [00:12<01:40,  1.34s/it]http://inpho.cogs.indiana.edu/idea/5452.json\n",
      " 14%|█▍        | 12/86 [00:13<01:28,  1.19s/it]http://inpho.cogs.indiana.edu/idea/1699.json\n",
      " 16%|█▋        | 14/86 [00:14<01:12,  1.01s/it]Error: No InPhO entry\n",
      "http://inpho.cogs.indiana.edu/idea/1490.json\n",
      " 17%|█▋        | 15/86 [00:16<01:28,  1.24s/it]http://inpho.cogs.indiana.edu/thinker/5612.json\n",
      " 20%|█▉        | 17/86 [00:19<01:29,  1.29s/it]Error: No InPhO entry\n",
      "http://inpho.cogs.indiana.edu/thinker/2903.json\n",
      " 21%|██        | 18/86 [00:20<01:20,  1.18s/it]http://inpho.cogs.indiana.edu/idea/1860.json\n",
      " 22%|██▏       | 19/86 [00:21<01:12,  1.09s/it]http://inpho.cogs.indiana.edu/idea/1703.json\n",
      " 23%|██▎       | 20/86 [00:22<01:08,  1.04s/it]http://inpho.cogs.indiana.edu/idea/1259.json\n",
      " 24%|██▍       | 21/86 [00:23<01:06,  1.02s/it]http://inpho.cogs.indiana.edu/idea/1174.json\n",
      " 26%|██▌       | 22/86 [00:23<01:02,  1.02it/s]http://inpho.cogs.indiana.edu/thinker/2962.json\n",
      " 27%|██▋       | 23/86 [00:24<00:58,  1.09it/s]http://inpho.cogs.indiana.edu/idea/5445.json\n",
      " 28%|██▊       | 24/86 [00:25<00:57,  1.09it/s]http://inpho.cogs.indiana.edu/idea/5542.json\n",
      " 29%|██▉       | 25/86 [00:26<00:56,  1.08it/s]http://inpho.cogs.indiana.edu/idea/5496.json\n",
      " 30%|███       | 26/86 [00:27<00:57,  1.05it/s]http://inpho.cogs.indiana.edu/idea/2129.json\n",
      " 31%|███▏      | 27/86 [00:28<00:55,  1.07it/s]http://inpho.cogs.indiana.edu/idea/996.json\n",
      " 33%|███▎      | 28/86 [00:29<00:53,  1.08it/s]http://inpho.cogs.indiana.edu/idea/1340.json\n",
      " 34%|███▎      | 29/86 [00:31<01:14,  1.31s/it]http://inpho.cogs.indiana.edu/idea/1588.json\n",
      " 35%|███▍      | 30/86 [00:32<01:10,  1.26s/it]http://inpho.cogs.indiana.edu/thinker/3169.json\n",
      " 36%|███▌      | 31/86 [00:33<01:04,  1.18s/it]http://inpho.cogs.indiana.edu/idea/6381.json\n",
      " 37%|███▋      | 32/86 [00:35<01:08,  1.28s/it]http://inpho.cogs.indiana.edu/idea/6380.json\n",
      " 38%|███▊      | 33/86 [00:36<01:03,  1.21s/it]http://inpho.cogs.indiana.edu/thinker/6373.json\n",
      " 40%|███▉      | 34/86 [00:37<00:58,  1.12s/it]http://inpho.cogs.indiana.edu/idea/1381.json\n",
      " 41%|████      | 35/86 [00:38<00:57,  1.12s/it]http://inpho.cogs.indiana.edu/idea/1767.json\n",
      " 42%|████▏     | 36/86 [00:39<00:51,  1.03s/it]http://inpho.cogs.indiana.edu/idea/1586.json\n",
      " 43%|████▎     | 37/86 [00:40<00:51,  1.05s/it]http://inpho.cogs.indiana.edu/thinker/4093.json\n",
      " 44%|████▍     | 38/86 [00:41<00:46,  1.03it/s]http://inpho.cogs.indiana.edu/idea/5670.json\n",
      " 45%|████▌     | 39/86 [00:42<00:51,  1.10s/it]http://inpho.cogs.indiana.edu/idea/5539.json\n",
      " 47%|████▋     | 40/86 [00:43<00:48,  1.04s/it]http://inpho.cogs.indiana.edu/thinker/3360.json\n",
      " 48%|████▊     | 41/86 [00:44<00:44,  1.01it/s]http://inpho.cogs.indiana.edu/school_of_thought/5406.json\n",
      " 49%|████▉     | 42/86 [00:44<00:40,  1.08it/s]http://inpho.cogs.indiana.edu/idea/1167.json\n",
      " 50%|█████     | 43/86 [00:45<00:39,  1.10it/s]http://inpho.cogs.indiana.edu/idea/1165.json\n",
      " 52%|█████▏    | 45/86 [00:47<00:34,  1.19it/s]Error: No InPhO entry\n",
      "http://inpho.cogs.indiana.edu/idea/1181.json\n",
      " 53%|█████▎    | 46/86 [00:48<00:34,  1.16it/s]http://inpho.cogs.indiana.edu/idea/5347.json\n",
      " 55%|█████▍    | 47/86 [00:49<00:33,  1.15it/s]http://inpho.cogs.indiana.edu/idea/1446.json\n",
      " 56%|█████▌    | 48/86 [00:50<00:42,  1.11s/it]http://inpho.cogs.indiana.edu/taxonomy/2410.json\n",
      " 57%|█████▋    | 49/86 [00:51<00:40,  1.09s/it]http://inpho.cogs.indiana.edu/idea/1465.json\n",
      " 58%|█████▊    | 50/86 [00:53<00:46,  1.29s/it]http://inpho.cogs.indiana.edu/taxonomy/2236.json\n",
      " 59%|█████▉    | 51/86 [00:55<00:49,  1.41s/it]http://inpho.cogs.indiana.edu/thinker/4055.json\n",
      " 60%|██████    | 52/86 [00:56<00:42,  1.26s/it]http://inpho.cogs.indiana.edu/idea/1587.json\n",
      " 62%|██████▏   | 53/86 [00:57<00:42,  1.28s/it]http://inpho.cogs.indiana.edu/idea/5530.json\n",
      " 63%|██████▎   | 54/86 [00:58<00:40,  1.26s/it]http://inpho.cogs.indiana.edu/idea/2115.json\n",
      " 64%|██████▍   | 55/86 [00:59<00:38,  1.23s/it]http://inpho.cogs.indiana.edu/idea/2116.json\n",
      " 65%|██████▌   | 56/86 [01:00<00:34,  1.14s/it]http://inpho.cogs.indiana.edu/idea/2124.json\n",
      " 66%|██████▋   | 57/86 [01:01<00:31,  1.10s/it]http://inpho.cogs.indiana.edu/idea/6385.json\n",
      " 67%|██████▋   | 58/86 [01:02<00:29,  1.05s/it]http://inpho.cogs.indiana.edu/idea/1752.json\n",
      " 69%|██████▊   | 59/86 [01:03<00:27,  1.01s/it]http://inpho.cogs.indiana.edu/thinker/3666.json\n",
      " 71%|███████   | 61/86 [01:05<00:23,  1.06it/s]Error: No InPhO entry\n",
      "http://inpho.cogs.indiana.edu/idea/5458.json\n",
      " 72%|███████▏  | 62/86 [01:06<00:22,  1.08it/s]http://inpho.cogs.indiana.edu/thinker/3675.json\n",
      " 73%|███████▎  | 63/86 [01:07<00:20,  1.11it/s]http://inpho.cogs.indiana.edu/taxonomy/2401.json\n",
      " 74%|███████▍  | 64/86 [01:08<00:21,  1.04it/s]http://inpho.cogs.indiana.edu/idea/872.json\n",
      " 76%|███████▌  | 65/86 [01:09<00:22,  1.05s/it]http://inpho.cogs.indiana.edu/thinker/3738.json\n",
      " 77%|███████▋  | 66/86 [01:10<00:20,  1.04s/it]http://inpho.cogs.indiana.edu/work/5413.json\n",
      " 78%|███████▊  | 67/86 [01:12<00:24,  1.28s/it]http://inpho.cogs.indiana.edu/idea/6368.json\n",
      " 79%|███████▉  | 68/86 [01:13<00:23,  1.31s/it]http://inpho.cogs.indiana.edu/idea/1247.json\n",
      " 80%|████████  | 69/86 [01:15<00:22,  1.32s/it]http://inpho.cogs.indiana.edu/idea/1177.json\n",
      " 81%|████████▏ | 70/86 [01:16<00:21,  1.37s/it]http://inpho.cogs.indiana.edu/taxonomy/2187.json\n",
      " 83%|████████▎ | 71/86 [01:17<00:19,  1.29s/it]http://inpho.cogs.indiana.edu/idea/1160.json\n",
      " 84%|████████▎ | 72/86 [01:18<00:16,  1.16s/it]http://inpho.cogs.indiana.edu/idea/1054.json\n",
      " 85%|████████▍ | 73/86 [01:20<00:16,  1.28s/it]http://inpho.cogs.indiana.edu/taxonomy/2442.json\n",
      " 86%|████████▌ | 74/86 [01:21<00:14,  1.17s/it]http://inpho.cogs.indiana.edu/thinker/3365.json\n",
      " 87%|████████▋ | 75/86 [01:22<00:12,  1.11s/it]http://inpho.cogs.indiana.edu/thinker/3812.json\n",
      " 88%|████████▊ | 76/86 [01:23<00:10,  1.08s/it]http://inpho.cogs.indiana.edu/thinker/3863.json\n",
      " 90%|████████▉ | 77/86 [01:24<00:09,  1.06s/it]http://inpho.cogs.indiana.edu/idea/6366.json\n",
      " 91%|█████████ | 78/86 [01:25<00:08,  1.06s/it]http://inpho.cogs.indiana.edu/idea/1541.json\n",
      " 93%|█████████▎| 80/86 [01:26<00:05,  1.01it/s]Error: No InPhO entry\n",
      "http://inpho.cogs.indiana.edu/idea/1717.json\n",
      " 94%|█████████▍| 81/86 [01:27<00:04,  1.03it/s]http://inpho.cogs.indiana.edu/thinker/3952.json\n",
      " 95%|█████████▌| 82/86 [01:28<00:03,  1.04it/s]http://inpho.cogs.indiana.edu/idea/5528.json\n",
      " 97%|█████████▋| 83/86 [01:33<00:05,  1.94s/it]http://inpho.cogs.indiana.edu/idea/5382.json\n",
      " 98%|█████████▊| 84/86 [01:34<00:03,  1.70s/it]http://inpho.cogs.indiana.edu/idea/1599.json\n",
      " 99%|█████████▉| 85/86 [01:35<00:01,  1.46s/it]http://inpho.cogs.indiana.edu/idea/1331.json\n",
      "100%|██████████| 86/86 [01:36<00:00,  1.12s/it]\n"
     ]
    }
   ],
   "source": [
    "#Update collection for Spring 2021 files after new files downloaded\n",
    "#Update completed 4.3.2021#\n",
    "# Updates for Summer and Fall 2021: completed 9.27.2021\n",
    "\n",
    "# collection_to_update = db.sep_entries\n",
    "# file_path='../downloads/articles/sep_2021_fall'\n",
    "# file_type='*.html'\n",
    "# sep_files = io.get_local_files(file_path,file_type)\n",
    "# for sep_file in tqdm(sep_files):\n",
    "#     sep_object = sep.parse_sep_file(sep_file)\n",
    "#     update_string = sep.update_main_document_data(sep_object)\n",
    "#     find = {\"page_url\": sep_object['page_url']}\n",
    "#     collection_to_update.update_one(find, {'$set': update_string}, upsert=True)"
   ]
  },
  {
   "cell_type": "code",
   "execution_count": 21,
   "metadata": {},
   "outputs": [],
   "source": [
    "#export copyright data into Pandas to retrieve author info  \n",
    "## Summer and Fal 2021 completed 9.27.2021#\n",
    "\n",
    "# collection_to_update = db.sep_entries\n",
    "\n",
    "# copyright_entries = pd.DataFrame(list(collection_to_update.find(filter={'author': {'$exists': False}}, \n",
    "#                                                            projection=['page_url','copyright'])))\n",
    "\n",
    "# # #strip HTML from copyright data, and re-write the copyright column data\n",
    "# copyright_entries['copyright'] = copyright_entries.apply(lambda row:sep.get_author_string(row['copyright']), axis=1)\n",
    "# #export CSV for cleaning\n",
    "# copyright_entries.to_csv('coopyright_summer201_test1_test.csv')"
   ]
  },
  {
   "cell_type": "code",
   "execution_count": 22,
   "metadata": {},
   "outputs": [
    {
     "name": "stderr",
     "output_type": "stream",
     "text": [
      "22it [00:00, 331.74it/s]acknowledged: /entries/abu-bakr-al-razi/\n",
      " True\n",
      "acknowledged: /entries/cudworth/\n",
      " True\n",
      "acknowledged: /entries/fuller-margaret/\n",
      " True\n",
      "acknowledged: /entries/hegel-social-political/\n",
      " True\n",
      "acknowledged: /entries/hutcheson/\n",
      " True\n",
      "acknowledged: /entries/infinity/\n",
      " True\n",
      "acknowledged: /entries/legal-probabilism/\n",
      " True\n",
      "acknowledged: /entries/neoliberalism/\n",
      " True\n",
      "acknowledged: /entries/sin-christian/\n",
      " True\n",
      "acknowledged: /entries/understanding/\n",
      " True\n",
      "acknowledged: /entries/africana-contemporary/\n",
      " True\n",
      "acknowledged: /entries/argument/\n",
      " True\n",
      "acknowledged: /entries/causation-regularity/\n",
      " True\n",
      "acknowledged: /entries/critical-phil-race/\n",
      " True\n",
      "acknowledged: /entries/hist-westphilmusic-since-1800/\n",
      " True\n",
      "acknowledged: /entries/hist-westphilmusic-to-1800/\n",
      " True\n",
      "acknowledged: /entries/ibn-rushd/\n",
      " True\n",
      "acknowledged: /entries/legal-interpretation/\n",
      " True\n",
      "acknowledged: /entries/moral-phenomenology/\n",
      " True\n",
      "acknowledged: /entries/public-goods/\n",
      " True\n",
      "acknowledged: /entries/self-defense/\n",
      " True\n",
      "acknowledged: /entries/spacetime-theories-classical/\n",
      " True\n",
      "\n"
     ]
    }
   ],
   "source": [
    "#update author data for SEP\n",
    "# Spring 2021 completed 4.3.2021#\\\n",
    "# Summer and Fall 2021 completed 9.27.2021\n",
    "\n",
    "# collection_to_update = db.sep_entries\n",
    "\n",
    "# #import cleaned data\n",
    "# authors = pd.read_csv('copyright_summer2021.csv')\n",
    "\n",
    "# for index,row in tqdm(authors.iterrows()):\n",
    "#     page_url = row['page_url']\n",
    "#     authors = row['copyright']\n",
    "#     sep.add_author(page_url, authors, collection_to_update)\n",
    "\n",
    "\n"
   ]
  },
  {
   "cell_type": "code",
   "execution_count": null,
   "metadata": {},
   "outputs": [],
   "source": []
  },
  {
   "cell_type": "code",
   "execution_count": null,
   "metadata": {},
   "outputs": [],
   "source": [
    "### Winter 2021 ### "
   ]
  },
  {
   "cell_type": "code",
   "execution_count": 6,
   "metadata": {},
   "outputs": [
    {
     "name": "stdout",
     "output_type": "stream",
     "text": [
      "Starting: SEP Winter_2021 TOC Scrape\n",
      "\n",
      "Success! Completed SEP Winter_2021 TOC Scrape\n",
      "\n"
     ]
    }
   ],
   "source": [
    "\n",
    "### SCRAPE WHATS NEW TOC FROM Winter 2021 SEP ARCHIVE ###\n",
    "### Downloaded Fall 2021 TOC updates: completed 1.3.2022 ###\n",
    "\n",
    "\n",
    "#set variable options for Fall 2021 download\n",
    "# toc_collection = db.toc_2021_winter_new\n",
    "# sep_edition = 'Winter_2021'\n",
    "# search_url = 'https://plato.stanford.edu/archives/win2021/new.html'\n",
    "# base_url = 'https://plato.stanford.edu/archives/win2021/'\n",
    "# save_as_html = '../downloads/tocs/toc_2021_win_new.html'\n",
    "\n",
    "# print(f'Starting: SEP {sep_edition} TOC Scrape\\n')\n",
    "\n",
    "# toc_elements = sep.scrape_sep_toc(sep_edition, search_url, base_url, save_as_html)\n",
    "# toc_collection.insert_many(toc_elements)\n",
    "\n",
    "# print(f'Success! Completed SEP {sep_edition} TOC Scrape\\n')"
   ]
  },
  {
   "cell_type": "code",
   "execution_count": 7,
   "metadata": {},
   "outputs": [
    {
     "name": "stderr",
     "output_type": "stream",
     "text": [
      "Processing: 100%|██████████| 95/95 [24:24<00:00, 15.42s/it]\n"
     ]
    }
   ],
   "source": [
    "### DOWNLOAD Winter 2021 WHATS NEW FILES, AND STORE THEM LOCALLY###\n",
    "#Winter 2021 Archive: Completed 1.3.2022#\n",
    "\n",
    "# #set variable options for Spring 2021 download\n",
    "# toc_collection = db.toc_2021_winter_new\n",
    "# toc_pages = list(toc_collection.find().sort('link_url'))\n",
    "# save_as_directory = '../downloads/articles/sep_2021_winter/'\n",
    "\n",
    "# # # #download SEP pages from archive\n",
    "# sep.download_sep_pages(toc_pages,save_as_directory)"
   ]
  },
  {
   "cell_type": "code",
   "execution_count": 14,
   "metadata": {},
   "outputs": [
    {
     "data": {
      "text/plain": [
       "<pymongo.results.InsertManyResult at 0x246faf2de48>"
      ]
     },
     "execution_count": 14,
     "metadata": {},
     "output_type": "execute_result"
    }
   ],
   "source": [
    "#create dupe collection to test updates before their made on main collection\n",
    "# Jan 1.3.2022\n",
    "\n",
    "# docs = db.sep_entries.find({})\n",
    "# db.sep_entries_orig.insert_many(docs)   "
   ]
  },
  {
   "cell_type": "code",
   "execution_count": 16,
   "metadata": {},
   "outputs": [],
   "source": [
    "#Update collection for Winter 2021 files after new files downloaded\n",
    "# Dupe Collection: Completed 1.3.2022\n",
    "# Real Collection: Completed 1.3.2022\n",
    "\n",
    "# collection_to_update = db.sep_entries\n",
    "# file_path='../downloads/articles/sep_2021_winter'\n",
    "# file_type='*.html'\n",
    "# sep_files = io.get_local_files(file_path,file_type)\n",
    "# for sep_file in tqdm(sep_files):\n",
    "#     sep_object = sep.parse_sep_file(sep_file)\n",
    "#     update_string = sep.update_main_document_data(sep_object)\n",
    "#     find = {\"page_url\": sep_object['page_url']}\n",
    "#     collection_to_update.update_one(find, {'$set': update_string}, upsert=True)"
   ]
  },
  {
   "cell_type": "code",
   "execution_count": 13,
   "metadata": {},
   "outputs": [],
   "source": [
    "#export copyright data into Pandas to retrieve author info  \n",
    "##Winter 2021 completed 1.3.2022#\n",
    "\n",
    "# collection_to_update = db.sep_entries_dupe\n",
    "\n",
    "# copyright_entries = pd.DataFrame(list(collection_to_update.find(filter={'author': {'$exists': False}}, \n",
    "#                                                            projection=['page_url','copyright'])))\n",
    "\n",
    "# # #strip HTML from copyright data, and re-write the copyright column data\n",
    "# copyright_entries['copyright'] = copyright_entries.apply(lambda row:sep.get_author_string(row['copyright']), axis=1)\n",
    "# #export CSV for cleaning\n",
    "# copyright_entries.to_csv('coopyright_winter_2021_test.csv')"
   ]
  },
  {
   "cell_type": "code",
   "execution_count": 18,
   "metadata": {},
   "outputs": [],
   "source": [
    "#update author data for SEP Winter 2021\n",
    "#  completed 1.3.2022\n",
    "# \n",
    "\n",
    "# collection_to_update = db.sep_entries\n",
    "\n",
    "# #import cleaned data\n",
    "# authors = pd.read_csv('coopyright_winter_2021.csv')\n",
    "\n",
    "# for index,row in tqdm(authors.iterrows()):\n",
    "#     page_url = row['page_url']\n",
    "#     authors = row['copyright']\n",
    "#     sep.add_author(page_url, authors, collection_to_update)"
   ]
  },
  {
   "cell_type": "code",
   "execution_count": null,
   "metadata": {},
   "outputs": [],
   "source": []
  }
 ],
 "metadata": {
  "file_extension": ".py",
  "interpreter": {
   "hash": "4089cdf5756c583c1eb5e2261855f70ecb5f18d1bb6db32aef7ba0d4704c2ea0"
  },
  "kernelspec": {
   "display_name": "Python 3.6.9 64-bit (conda)",
   "name": "python3"
  },
  "language_info": {
   "codemirror_mode": {
    "name": "ipython",
    "version": 3
   },
   "file_extension": ".py",
   "mimetype": "text/x-python",
   "name": "python",
   "nbconvert_exporter": "python",
   "pygments_lexer": "ipython3",
   "version": "3.6.9"
  },
  "mimetype": "text/x-python",
  "name": "python",
  "npconvert_exporter": "python",
  "orig_nbformat": 2,
  "pygments_lexer": "ipython3",
  "version": 3
 },
 "nbformat": 4,
 "nbformat_minor": 2
}
