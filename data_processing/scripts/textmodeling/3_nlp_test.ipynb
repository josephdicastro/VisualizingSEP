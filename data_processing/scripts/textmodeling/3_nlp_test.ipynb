{
 "metadata": {
  "language_info": {
   "codemirror_mode": {
    "name": "ipython",
    "version": 3
   },
   "file_extension": ".py",
   "mimetype": "text/x-python",
   "name": "python",
   "nbconvert_exporter": "python",
   "pygments_lexer": "ipython3",
   "version": 3
  },
  "orig_nbformat": 2,
  "kernelspec": {
   "name": "python_defaultSpec_1595087721359",
   "display_name": "Python 3.6.9 64-bit ('PythonData': conda)"
  }
 },
 "nbformat": 4,
 "nbformat_minor": 2,
 "cells": [
  {
   "cell_type": "code",
   "execution_count": 7,
   "metadata": {},
   "outputs": [],
   "source": [
    "import nltk\n",
    "import pandas as pd"
   ]
  },
  {
   "cell_type": "code",
   "execution_count": 8,
   "metadata": {
    "tags": []
   },
   "outputs": [
    {
     "output_type": "stream",
     "name": "stderr",
     "text": "[nltk_data] Downloading package movie_reviews to\n[nltk_data]     C:\\Users\\Joe\\AppData\\Roaming\\nltk_data...\n[nltk_data]   Package movie_reviews is already up-to-date!\n"
    },
    {
     "output_type": "execute_result",
     "data": {
      "text/plain": "True"
     },
     "metadata": {},
     "execution_count": 8
    }
   ],
   "source": [
    "nltk.download(\"movie_reviews\")"
   ]
  },
  {
   "cell_type": "code",
   "execution_count": 9,
   "metadata": {
    "tags": []
   },
   "outputs": [
    {
     "output_type": "stream",
     "name": "stdout",
     "text": "2000\n"
    }
   ],
   "source": [
    "\n",
    "\n",
    "rows = []\n",
    "for fileid in nltk.corpus.movie_reviews.fileids():\n",
    "    rows.append({\"text\": nltk.corpus.movie_reviews.raw(fileid)})\n",
    "df = pd.DataFrame(rows)\n",
    "print(len(df))\n",
    "\n"
   ]
  },
  {
   "cell_type": "code",
   "execution_count": 10,
   "metadata": {
    "tags": []
   },
   "outputs": [
    {
     "output_type": "execute_result",
     "data": {
      "text/plain": "                                                text\n0  plot : two teen couples go to a church party ,...\n1  the happy bastard's quick movie review \\ndamn ...\n2  it is movies like these that make a jaded movi...\n3   \" quest for camelot \" is warner bros . ' firs...\n4  synopsis : a mentally unstable man undergoing ...",
      "text/html": "<div>\n<style scoped>\n    .dataframe tbody tr th:only-of-type {\n        vertical-align: middle;\n    }\n\n    .dataframe tbody tr th {\n        vertical-align: top;\n    }\n\n    .dataframe thead th {\n        text-align: right;\n    }\n</style>\n<table border=\"1\" class=\"dataframe\">\n  <thead>\n    <tr style=\"text-align: right;\">\n      <th></th>\n      <th>text</th>\n    </tr>\n  </thead>\n  <tbody>\n    <tr>\n      <td>0</td>\n      <td>plot : two teen couples go to a church party ,...</td>\n    </tr>\n    <tr>\n      <td>1</td>\n      <td>the happy bastard's quick movie review \\ndamn ...</td>\n    </tr>\n    <tr>\n      <td>2</td>\n      <td>it is movies like these that make a jaded movi...</td>\n    </tr>\n    <tr>\n      <td>3</td>\n      <td>\" quest for camelot \" is warner bros . ' firs...</td>\n    </tr>\n    <tr>\n      <td>4</td>\n      <td>synopsis : a mentally unstable man undergoing ...</td>\n    </tr>\n  </tbody>\n</table>\n</div>"
     },
     "metadata": {},
     "execution_count": 10
    }
   ],
   "source": [
    "df.head()"
   ]
  },
  {
   "cell_type": "code",
   "execution_count": 11,
   "metadata": {
    "tags": []
   },
   "outputs": [
    {
     "output_type": "stream",
     "name": "stdout",
     "text": "21886\n"
    }
   ],
   "source": [
    "\n",
    "\n",
    "from sklearn.feature_extraction.text import TfidfVectorizer\n",
    "vectorizer = TfidfVectorizer(\n",
    "    max_df=.5,\n",
    "    min_df=10,\n",
    "    max_features=None,\n",
    "    ngram_range=(1, 2),\n",
    "    norm=None,\n",
    "    binary=True,\n",
    "    use_idf=False,\n",
    "    sublinear_tf=False\n",
    ")\n",
    "vectorizer = vectorizer.fit(df['text'])\n",
    "tfidf = vectorizer.transform(df['text'])\n",
    "vocab = vectorizer.get_feature_names()\n",
    "print(len(vocab))\n",
    "\n"
   ]
  },
  {
   "cell_type": "code",
   "execution_count": 12,
   "metadata": {},
   "outputs": [],
   "source": [
    "from corextopic import corextopic as ct"
   ]
  },
  {
   "cell_type": "code",
   "execution_count": 13,
   "metadata": {},
   "outputs": [],
   "source": [
    "\n",
    "\n",
    "anchors = []\n",
    "model = ct.Corex(n_hidden=8, seed=42)\n",
    "model = model.fit(\n",
    "    tfidf,\n",
    "    words=vocab\n",
    ")\n",
    "\n"
   ]
  },
  {
   "cell_type": "code",
   "execution_count": 14,
   "metadata": {
    "tags": []
   },
   "outputs": [
    {
     "output_type": "stream",
     "name": "stdout",
     "text": "Topic #1: see, me, had, really, don, know, think, my, because, how\nTopic #2: life, he is, both, never, it is, of his, that he, world, performance, to his\nTopic #3: the first, the most, films, from the, many, by the, since, such, at the, while\nTopic #4: opening, music, cinematography, art, follow, portrayal, mars, aspect, shown, herself\nTopic #5: comedy, funny, humor, jokes, laughs, funniest, the funniest, hilarious, the jokes, joke\nTopic #6: murder, crime, thriller, police, killer, the police, he has, turns, dead, prison\nTopic #7: plot, action, case, critique, the plot, suspense, none, seem, blair witch, cool\nTopic #8: horror, horror film, scream, slasher, did last, horror films, scary, you did, williamson\n"
    }
   ],
   "source": [
    "for i, topic_ngrams in enumerate(model.get_topics(n_words=10)):\n",
    "    topic_ngrams = [ngram[0] for ngram in topic_ngrams if ngram[1] > 0]\n",
    "    print(\"Topic #{}: {}\".format(i+1, \", \".join(topic_ngrams)))"
   ]
  },
  {
   "cell_type": "code",
   "execution_count": 18,
   "metadata": {},
   "outputs": [],
   "source": [
    "# Anchors designed to nudge the model towards measuring specific genres\n",
    "anchors = [\n",
    "    [\"action\", \"adventure\"],\n",
    "    [\"drama\"],\n",
    "    [\"comedy\", \"funny\"],\n",
    "    [\"horror\", \"suspense\"],\n",
    "    [\"animated\", \"animation\"],\n",
    "    [\"sci fi\", \"alien\"],\n",
    "    [\"romance\", \"romantic\"],\n",
    "    [\"fantasy\"]\n",
    "]\n",
    "anchors = [\n",
    "    [a for a in topic if a in vocab]\n",
    "    for topic in anchors\n",
    "]\n",
    "\n",
    "model = ct.Corex(n_hidden=8, seed=42)\n",
    "model = model.fit(\n",
    "    tfidf,\n",
    "    words=vocab,\n",
    "    anchors=anchors, # Pass the anchors in here\n",
    "    anchor_strength=3 # Tell the model how much it should rely on the anchors\n",
    ")"
   ]
  },
  {
   "cell_type": "code",
   "execution_count": 19,
   "metadata": {
    "tags": []
   },
   "outputs": [
    {
     "output_type": "stream",
     "name": "stdout",
     "text": "Topic #1: action, adventure, the action, scenes, action sequences, where, action scenes, an action, action film, sequences\nTopic #2: drama, performance, mother, director, both, while, and his, to his, role, performances\nTopic #3: comedy, funny, jokes, laughs, humor, funny and, hilarious, very funny, gags, laugh\nTopic #4: horror, really, think, had, me, did, how, see, because, were\nTopic #5: animated, animation, disney, children, the animation, computer, adults, years, voice of, voice\nTopic #6: alien, sci fi, effects, special effects, fi, aliens, sci, planet, special, earth\nTopic #7: romantic, romance, she, love, with her, of her, that she, relationship, woman, romantic comedy\nTopic #8: life, he is, fantasy, world, it is, that the, perhaps, point, does, through\n"
    }
   ],
   "source": [
    "for i, topic_ngrams in enumerate(model.get_topics(n_words=10)):\n",
    "    topic_ngrams = [ngram[0] for ngram in topic_ngrams if ngram[1] > 0]\n",
    "    print(\"Topic #{}: {}\".format(i+1, \", \".join(topic_ngrams)))\n",
    "\n",
    "\n"
   ]
  },
  {
   "cell_type": "code",
   "execution_count": 20,
   "metadata": {},
   "outputs": [],
   "source": [
    "topic_df = pd.DataFrame(\n",
    "    model.transform(tfidf), \n",
    "    columns=[\"topic_{}\".format(i+1) for i in range(8)]\n",
    ").astype(float)\n",
    "topic_df.index = df.index\n",
    "df = pd.concat([df, topic_df], axis=1)"
   ]
  },
  {
   "cell_type": "code",
   "execution_count": 21,
   "metadata": {},
   "outputs": [
    {
     "output_type": "execute_result",
     "data": {
      "text/plain": "                                                   text  topic_1  topic_2  \\\n1860  the verdict : spine-chilling drama from horror...      1.0      1.0   \n353    \" the 44 caliber killer has struck again . \" ...      0.0      1.0   \n1333  in the company of men made a splash at the sun...      0.0      1.0   \n905   in the year 2029 , captain leo davidson ( mark...      0.0      0.0   \n1289  [note that followups are directed to rec . art...      1.0      0.0   \n\n      topic_3  topic_4  topic_5  topic_6  topic_7  topic_8  topic_1  topic_2  \\\n1860      0.0      1.0      0.0      1.0      1.0      0.0      1.0      1.0   \n353       0.0      1.0      0.0      0.0      0.0      1.0      0.0      1.0   \n1333      1.0      1.0      0.0      1.0      1.0      1.0      0.0      1.0   \n905       0.0      0.0      0.0      1.0      1.0      0.0      0.0      0.0   \n1289      1.0      0.0      0.0      1.0      0.0      0.0      1.0      0.0   \n\n      topic_3  topic_4  topic_5  topic_6  topic_7  topic_8  \n1860      0.0      1.0      0.0      1.0      1.0      0.0  \n353       0.0      1.0      0.0      0.0      0.0      1.0  \n1333      1.0      1.0      0.0      1.0      1.0      1.0  \n905       0.0      0.0      0.0      1.0      1.0      0.0  \n1289      1.0      0.0      0.0      1.0      0.0      0.0  ",
      "text/html": "<div>\n<style scoped>\n    .dataframe tbody tr th:only-of-type {\n        vertical-align: middle;\n    }\n\n    .dataframe tbody tr th {\n        vertical-align: top;\n    }\n\n    .dataframe thead th {\n        text-align: right;\n    }\n</style>\n<table border=\"1\" class=\"dataframe\">\n  <thead>\n    <tr style=\"text-align: right;\">\n      <th></th>\n      <th>text</th>\n      <th>topic_1</th>\n      <th>topic_2</th>\n      <th>topic_3</th>\n      <th>topic_4</th>\n      <th>topic_5</th>\n      <th>topic_6</th>\n      <th>topic_7</th>\n      <th>topic_8</th>\n      <th>topic_1</th>\n      <th>topic_2</th>\n      <th>topic_3</th>\n      <th>topic_4</th>\n      <th>topic_5</th>\n      <th>topic_6</th>\n      <th>topic_7</th>\n      <th>topic_8</th>\n    </tr>\n  </thead>\n  <tbody>\n    <tr>\n      <td>1860</td>\n      <td>the verdict : spine-chilling drama from horror...</td>\n      <td>1.0</td>\n      <td>1.0</td>\n      <td>0.0</td>\n      <td>1.0</td>\n      <td>0.0</td>\n      <td>1.0</td>\n      <td>1.0</td>\n      <td>0.0</td>\n      <td>1.0</td>\n      <td>1.0</td>\n      <td>0.0</td>\n      <td>1.0</td>\n      <td>0.0</td>\n      <td>1.0</td>\n      <td>1.0</td>\n      <td>0.0</td>\n    </tr>\n    <tr>\n      <td>353</td>\n      <td>\" the 44 caliber killer has struck again . \" ...</td>\n      <td>0.0</td>\n      <td>1.0</td>\n      <td>0.0</td>\n      <td>1.0</td>\n      <td>0.0</td>\n      <td>0.0</td>\n      <td>0.0</td>\n      <td>1.0</td>\n      <td>0.0</td>\n      <td>1.0</td>\n      <td>0.0</td>\n      <td>1.0</td>\n      <td>0.0</td>\n      <td>0.0</td>\n      <td>0.0</td>\n      <td>1.0</td>\n    </tr>\n    <tr>\n      <td>1333</td>\n      <td>in the company of men made a splash at the sun...</td>\n      <td>0.0</td>\n      <td>1.0</td>\n      <td>1.0</td>\n      <td>1.0</td>\n      <td>0.0</td>\n      <td>1.0</td>\n      <td>1.0</td>\n      <td>1.0</td>\n      <td>0.0</td>\n      <td>1.0</td>\n      <td>1.0</td>\n      <td>1.0</td>\n      <td>0.0</td>\n      <td>1.0</td>\n      <td>1.0</td>\n      <td>1.0</td>\n    </tr>\n    <tr>\n      <td>905</td>\n      <td>in the year 2029 , captain leo davidson ( mark...</td>\n      <td>0.0</td>\n      <td>0.0</td>\n      <td>0.0</td>\n      <td>0.0</td>\n      <td>0.0</td>\n      <td>1.0</td>\n      <td>1.0</td>\n      <td>0.0</td>\n      <td>0.0</td>\n      <td>0.0</td>\n      <td>0.0</td>\n      <td>0.0</td>\n      <td>0.0</td>\n      <td>1.0</td>\n      <td>1.0</td>\n      <td>0.0</td>\n    </tr>\n    <tr>\n      <td>1289</td>\n      <td>[note that followups are directed to rec . art...</td>\n      <td>1.0</td>\n      <td>0.0</td>\n      <td>1.0</td>\n      <td>0.0</td>\n      <td>0.0</td>\n      <td>1.0</td>\n      <td>0.0</td>\n      <td>0.0</td>\n      <td>1.0</td>\n      <td>0.0</td>\n      <td>1.0</td>\n      <td>0.0</td>\n      <td>0.0</td>\n      <td>1.0</td>\n      <td>0.0</td>\n      <td>0.0</td>\n    </tr>\n  </tbody>\n</table>\n</div>"
     },
     "metadata": {},
     "execution_count": 21
    }
   ],
   "source": [
    "df.sample(5, random_state=42)"
   ]
  },
  {
   "cell_type": "code",
   "execution_count": null,
   "metadata": {},
   "outputs": [],
   "source": []
  }
 ]
}