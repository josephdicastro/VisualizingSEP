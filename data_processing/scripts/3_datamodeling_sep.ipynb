{
 "cells": [
  {
   "cell_type": "code",
   "execution_count": 1,
   "metadata": {},
   "outputs": [],
   "source": [
    "import pandas as pd \n",
    "import pymongo"
   ]
  },
  {
   "cell_type": "code",
   "execution_count": 2,
   "metadata": {},
   "outputs": [],
   "source": [
    "##### INIT GLOBAL VARIABLES#####\n",
    "\n",
    "#init Mongo\n",
    "conn = 'mongodb://localhost:27017'\n",
    "client = pymongo.MongoClient(conn)\n",
    "\n",
    "#connect to database\n",
    "db = client.visualizing_sep"
   ]
  },
  {
   "cell_type": "code",
   "execution_count": 13,
   "metadata": {},
   "outputs": [],
   "source": [
    "sep_df = pd.DataFrame(list(db.sep_entries.find({}, \n",
    "                                                projection=['title', 'pagetext'], \n",
    "                                                sort=[('title',1)])))"
   ]
  },
  {
   "cell_type": "code",
   "execution_count": 14,
   "metadata": {
    "tags": []
   },
   "outputs": [
    {
     "output_type": "execute_result",
     "data": {
      "text/plain": "                        _id                                         title  \\\n0  5f109ada789a3d802df9a75b    17th and 18th Century Theories of Emotions   \n1  5f10994d789a3d802df9a5b6               18th Century British Aesthetics   \n2  5f10994e789a3d802df9a5b7                18th Century French Aesthetics   \n3  5f10994f789a3d802df9a5b8                18th Century German Aesthetics   \n4  5f10993b789a3d802df9a5a3  18th Century German Philosophy Prior to Kant   \n\n                                            pagetext  \n0  Early modern philosophy in Europe and Great Br...  \n1  18th-century British aesthetics addressed itse...  \n2  French philosophers of the Ancien Régime wrote...  \n3  The philosophical discipline of aesthetics did...  \n4  In Germany, the eighteenth century was the age...  ",
      "text/html": "<div>\n<style scoped>\n    .dataframe tbody tr th:only-of-type {\n        vertical-align: middle;\n    }\n\n    .dataframe tbody tr th {\n        vertical-align: top;\n    }\n\n    .dataframe thead th {\n        text-align: right;\n    }\n</style>\n<table border=\"1\" class=\"dataframe\">\n  <thead>\n    <tr style=\"text-align: right;\">\n      <th></th>\n      <th>_id</th>\n      <th>title</th>\n      <th>pagetext</th>\n    </tr>\n  </thead>\n  <tbody>\n    <tr>\n      <td>0</td>\n      <td>5f109ada789a3d802df9a75b</td>\n      <td>17th and 18th Century Theories of Emotions</td>\n      <td>Early modern philosophy in Europe and Great Br...</td>\n    </tr>\n    <tr>\n      <td>1</td>\n      <td>5f10994d789a3d802df9a5b6</td>\n      <td>18th Century British Aesthetics</td>\n      <td>18th-century British aesthetics addressed itse...</td>\n    </tr>\n    <tr>\n      <td>2</td>\n      <td>5f10994e789a3d802df9a5b7</td>\n      <td>18th Century French Aesthetics</td>\n      <td>French philosophers of the Ancien Régime wrote...</td>\n    </tr>\n    <tr>\n      <td>3</td>\n      <td>5f10994f789a3d802df9a5b8</td>\n      <td>18th Century German Aesthetics</td>\n      <td>The philosophical discipline of aesthetics did...</td>\n    </tr>\n    <tr>\n      <td>4</td>\n      <td>5f10993b789a3d802df9a5a3</td>\n      <td>18th Century German Philosophy Prior to Kant</td>\n      <td>In Germany, the eighteenth century was the age...</td>\n    </tr>\n  </tbody>\n</table>\n</div>"
     },
     "metadata": {},
     "execution_count": 14
    }
   ],
   "source": [
    "sep_df.head()"
   ]
  },
  {
   "cell_type": "code",
   "execution_count": null,
   "metadata": {},
   "outputs": [],
   "source": []
  }
 ],
 "metadata": {
  "language_info": {
   "codemirror_mode": {
    "name": "ipython",
    "version": 3
   },
   "file_extension": ".py",
   "mimetype": "text/x-python",
   "name": "python",
   "nbconvert_exporter": "python",
   "pygments_lexer": "ipython3",
   "version": 3
  },
  "orig_nbformat": 2,
  "kernelspec": {
   "name": "python_defaultSpec_1594941441953",
   "display_name": "Python 3.6.9 64-bit ('PythonData': conda)"
  }
 },
 "nbformat": 4,
 "nbformat_minor": 2
}