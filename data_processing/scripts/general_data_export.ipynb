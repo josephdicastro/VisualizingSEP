{
 "metadata": {
  "language_info": {
   "codemirror_mode": {
    "name": "ipython",
    "version": 3
   },
   "file_extension": ".py",
   "mimetype": "text/x-python",
   "name": "python",
   "nbconvert_exporter": "python",
   "pygments_lexer": "ipython3",
   "version": 3
  },
  "orig_nbformat": 2
 },
 "nbformat": 4,
 "nbformat_minor": 2,
 "cells": [
  {
   "cell_type": "code",
   "execution_count": null,
   "metadata": {},
   "outputs": [],
   "source": [
    "# export page_text for every SEP page\n",
    "\n",
    "sep_entries = list(db.sep_data.find({}).sort('title'))\n",
    "for sep in sep_entries:\n",
    "    page_name = sep['title'] + '.txt'\n",
    "    file_name = 'texttraining/' + page_name.replace(\"/\",\"_\")\n",
    "    page_text = sep['pagetext'].strip()\n",
    "    with open(file_name,'w', encoding='UTF-8') as f:\n",
    "        f.write(page_text)"
   ]
  },
  {
   "cell_type": "code",
   "execution_count": null,
   "metadata": {},
   "outputs": [],
   "source": [
    "#export title and id to csv\n",
    "sep_entries = list(db.sep_data.find( filter={},\n",
    "                                     projection={'title'},\n",
    "                                     sort=[('title',1)]))\n",
    "\n",
    "sep_df = pd.DataFrame(sep_entries)\n",
    "sep_df.head()\n",
    "sep_df.to_csv('sep.csv')"
   ]
  },
  {
   "cell_type": "code",
   "execution_count": null,
   "metadata": {},
   "outputs": [],
   "source": [
    "#extract unique list of domain tags\n",
    "domain_tags = list(db.sep_data.find( filter={},\n",
    "                                     projection={'domain_tags':1, '_id':0}))\n",
    "domain_tags_individual = []\n",
    "\n",
    "for tag in domain_tags:\n",
    "    semisplit_tags = tag['domain_tags'].split(';')\n",
    "    for semisplit_tag in semisplit_tags:\n",
    "        commasplit_tags = semisplit_tag.split(',')\n",
    "        for commasplit_tag in commasplit_tags:\n",
    "            if commasplit_tag != '':\n",
    "                domain_tags_individual.append(commasplit_tag.strip())\n",
    "\n",
    "individual_tags = sorted(set(domain_tags_individual))\n",
    "pprint(individual_tags)"
   ]
  },
  {
   "cell_type": "code",
   "execution_count": null,
   "metadata": {},
   "outputs": [],
   "source": [
    "#make list of tuples for each domain and create domain id\n",
    "domain_links = [ (x.strip(),'/category/' + x.strip().lower().replace(' ','-') + '/') for x in individual_tags]\n",
    "pprint(domain_links)"
   ]
  }
 ]
}