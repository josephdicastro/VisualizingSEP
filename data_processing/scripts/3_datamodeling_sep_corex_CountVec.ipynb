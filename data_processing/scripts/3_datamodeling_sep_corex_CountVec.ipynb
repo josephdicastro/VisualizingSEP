{
 "cells": [
  {
   "cell_type": "code",
   "execution_count": 3,
   "metadata": {},
   "outputs": [],
   "source": [
    "import pandas as pd \n",
    "import pymongo\n",
    "from pprint import pprint\n",
    "\n",
    "import numpy as np\n",
    "import scipy.sparse as ss\n",
    "import matplotlib.pyplot as plt\n",
    "\n",
    "from sklearn.feature_extraction.text import CountVectorizer\n",
    "\n",
    "from corextopic import corextopic as ct\n",
    "from corextopic import vis_topic as vt # jupyter notebooks will complain matplotlib is being loaded twice"
   ]
  },
  {
   "cell_type": "code",
   "execution_count": 4,
   "metadata": {},
   "outputs": [],
   "source": [
    "##### INIT GLOBAL VARIABLES#####\n",
    "\n",
    "#init Mongo\n",
    "conn = 'mongodb://localhost:27017'\n",
    "client = pymongo.MongoClient(conn)\n",
    "\n",
    "#connect to database\n",
    "db = client.visualizing_sep"
   ]
  },
  {
   "cell_type": "code",
   "execution_count": 7,
   "metadata": {},
   "outputs": [],
   "source": [
    "sep_df = pd.DataFrame(list(db.sep_entries.find({}, \n",
    "                                                projection=['title', 'preamble_text'], \n",
    "                                                sort=[('title',1)])))"
   ]
  },
  {
   "cell_type": "code",
   "execution_count": 8,
   "metadata": {
    "tags": []
   },
   "outputs": [
    {
     "output_type": "execute_result",
     "data": {
      "text/plain": "                        _id                                         title  \\\n0  5f1bb235896f82cdbda61077    17th and 18th Century Theories of Emotions   \n1  5f1baf2c896f82cdbda60ed2               18th Century British Aesthetics   \n2  5f1baf2d896f82cdbda60ed3                18th Century French Aesthetics   \n3  5f1baf2f896f82cdbda60ed4                18th Century German Aesthetics   \n4  5f1baf09896f82cdbda60ebf  18th Century German Philosophy Prior to Kant   \n\n                                       preamble_text  \n0  Early modern philosophy in Europe and Great Br...  \n1  18th-century British aesthetics addressed itse...  \n2  French philosophers of the Ancien Régime wrote...  \n3  The philosophical discipline of aesthetics did...  \n4  In Germany, the eighteenth century was the age...  ",
      "text/html": "<div>\n<style scoped>\n    .dataframe tbody tr th:only-of-type {\n        vertical-align: middle;\n    }\n\n    .dataframe tbody tr th {\n        vertical-align: top;\n    }\n\n    .dataframe thead th {\n        text-align: right;\n    }\n</style>\n<table border=\"1\" class=\"dataframe\">\n  <thead>\n    <tr style=\"text-align: right;\">\n      <th></th>\n      <th>_id</th>\n      <th>title</th>\n      <th>preamble_text</th>\n    </tr>\n  </thead>\n  <tbody>\n    <tr>\n      <td>0</td>\n      <td>5f1bb235896f82cdbda61077</td>\n      <td>17th and 18th Century Theories of Emotions</td>\n      <td>Early modern philosophy in Europe and Great Br...</td>\n    </tr>\n    <tr>\n      <td>1</td>\n      <td>5f1baf2c896f82cdbda60ed2</td>\n      <td>18th Century British Aesthetics</td>\n      <td>18th-century British aesthetics addressed itse...</td>\n    </tr>\n    <tr>\n      <td>2</td>\n      <td>5f1baf2d896f82cdbda60ed3</td>\n      <td>18th Century French Aesthetics</td>\n      <td>French philosophers of the Ancien Régime wrote...</td>\n    </tr>\n    <tr>\n      <td>3</td>\n      <td>5f1baf2f896f82cdbda60ed4</td>\n      <td>18th Century German Aesthetics</td>\n      <td>The philosophical discipline of aesthetics did...</td>\n    </tr>\n    <tr>\n      <td>4</td>\n      <td>5f1baf09896f82cdbda60ebf</td>\n      <td>18th Century German Philosophy Prior to Kant</td>\n      <td>In Germany, the eighteenth century was the age...</td>\n    </tr>\n  </tbody>\n</table>\n</div>"
     },
     "metadata": {},
     "execution_count": 8
    }
   ],
   "source": [
    "sep_df.head()"
   ]
  },
  {
   "cell_type": "code",
   "execution_count": 9,
   "metadata": {
    "tags": []
   },
   "outputs": [
    {
     "output_type": "execute_result",
     "data": {
      "text/plain": "(1692, 20000)"
     },
     "metadata": {},
     "execution_count": 9
    }
   ],
   "source": [
    "vectorizer = CountVectorizer(stop_words='english', max_features=20000, binary=True)\n",
    "doc_word = vectorizer.fit_transform(sep_df['preamble_text'])\n",
    "doc_word = ss.csr_matrix(doc_word)\n",
    "\n",
    "doc_word.shape # n_docs x m_words"
   ]
  },
  {
   "cell_type": "code",
   "execution_count": 10,
   "metadata": {},
   "outputs": [],
   "source": [
    "# Get words that label the columns (needed to extract readable topics and make anchoring easier)\n",
    "words = list(np.asarray(vectorizer.get_feature_names()))\n"
   ]
  },
  {
   "cell_type": "code",
   "execution_count": 11,
   "metadata": {},
   "outputs": [
    {
     "output_type": "execute_result",
     "data": {
      "text/plain": "(1692, 19048)"
     },
     "metadata": {},
     "execution_count": 11
    }
   ],
   "source": [
    "not_digit_inds = [ind for ind,word in enumerate(words) if not word.isdigit()]\n",
    "doc_word = doc_word[:,not_digit_inds]\n",
    "words    = [word for ind,word in enumerate(words) if not word.isdigit()]\n",
    "\n",
    "doc_word.shape # n_docs x m_words"
   ]
  },
  {
   "cell_type": "code",
   "execution_count": 12,
   "metadata": {
    "tags": []
   },
   "outputs": [],
   "source": [
    "# Train the CorEx topic model with 50 topics\n",
    "topic_model = ct.Corex(n_hidden=20, words=words, max_iter=200, verbose=False, seed=1)\n",
    "topic_model.fit(doc_word, words=words);"
   ]
  },
  {
   "cell_type": "code",
   "execution_count": 13,
   "metadata": {},
   "outputs": [
    {
     "output_type": "execute_result",
     "data": {
      "text/plain": "[('china', 0.02327623420904738),\n ('confucian', 0.019177288721034864),\n ('genes', 0.01619434886929686),\n ('process', 0.01562510354549919),\n ('confucianism', 0.015249912867131515),\n ('genetics', 0.013140513213828104),\n ('gene', 0.012451679667175954),\n ('inner', 0.01121808240454554),\n ('working', 0.010511623712911047),\n ('rich', 0.010279577752889166)]"
     },
     "metadata": {},
     "execution_count": 13
    }
   ],
   "source": [
    "# Print a single topic from CorEx topic model\n",
    "topic_model.get_topics(topic=1, n_words=10)"
   ]
  },
  {
   "cell_type": "code",
   "execution_count": 16,
   "metadata": {
    "tags": []
   },
   "outputs": [
    {
     "output_type": "stream",
     "name": "stdout",
     "text": "0: society,rights,political,social,economic,institutions,public,government,legal,politics\n1: theorem,ldots,theorems,amp,rightarrow,axioms,aaa,theoretic,variables,bbb\n2: moral,morally,lives,harm,morality,goods,persons,people,person,duty\n3: published,wrote,university,died,born,writings,intellectual,career,books,teaching\n4: culture,cultural,practices,life,history,movement,historical,western,cultures,european\n5: divine,god,theology,christian,theological,religious,spiritual,perfection,eternal,religion\n6: plausible,suppose,objection,worry,isn,count,think,doesn,don,facts\n7: sentences,semantics,semantic,sentence,propositional,predicate,quantifiers,logical,predicates,frege\n8: soul,aristotle,aristotelian,texts,latin,treatise,commentary,commentaries,treatises,greek\n9: normative,argue,theorists,responses,challenge,counts,response,beliefs,tend,agents\n10: processes,al,mechanisms,research,biology,environment,biological,researchers,networks,environmental\n11: mechanics,physics,experimental,mathematical,particles,measurement,quantum,scientists,statistical,scientific\n12: models,systems,model,function,linear,field,domain,computer,computational,structure\n13: typically,relevant,cases,require,assumption,conditions,resources,depend,requirement,intuitively\n14: experience,consciousness,perception,experiences,conscious,sensory,feeling,sensations,perceptual,awareness\n15: early,reality,century,period,tradition,later,beginning,original,generation,figures\n16: focus,central,conception,perspective,understanding,conceptual,aims,broadly,conceptions,empirical\n17: properties,objects,entities,entity,ontological,ontology,identical,temporal,spatial,metaphysical\n18: thinks,merely,argument,claims,mere,claim,argues,thing,genuine,supposed\n19: act,acts,capacity,virtue,doing,intentions,capable,acquire,stop,perform\n"
    }
   ],
   "source": [
    "# Print all topics from the CorEx topic model\n",
    "topics = topic_model.get_topics()\n",
    "for n,topic in enumerate(topics):\n",
    "    topic_words,_ = zip(*topic)\n",
    "    print('{}: '.format(n) + ','.join(topic_words))"
   ]
  },
  {
   "cell_type": "code",
   "execution_count": 14,
   "metadata": {
    "tags": []
   },
   "outputs": [
    {
     "output_type": "stream",
     "name": "stdout",
     "text": "[0 0 7 ... 0 0 1]\n(19048,)\n"
    }
   ],
   "source": [
    "\n",
    "\n",
    "print(topic_model.clusters)\n",
    "print(topic_model.clusters.shape) # m_words\n",
    "\n"
   ]
  },
  {
   "cell_type": "code",
   "execution_count": 16,
   "metadata": {
    "tags": []
   },
   "outputs": [
    {
     "output_type": "stream",
     "name": "stdout",
     "text": "NOTE: 'docs' not provided to CorEx. Returning top docs as lists of row indices\n"
    }
   ],
   "source": [
    "# Print a single topic from CorEx topic model\n",
    "topic0_topdocs = topic_model.get_top_docs(topic=0, n_docs=10, sort_by='log_prob')\n"
   ]
  },
  {
   "cell_type": "code",
   "execution_count": 38,
   "metadata": {
    "tags": []
   },
   "outputs": [
    {
     "output_type": "stream",
     "name": "stdout",
     "text": "845\n796\n781\n774\n771\n764\n761\n755\n752\n750\n"
    }
   ],
   "source": [
    "for doc in topic0_topdocs:\n",
    "    rowNumber = doc[0]\n",
    "    print(rowNumber)\n"
   ]
  },
  {
   "cell_type": "code",
   "execution_count": 39,
   "metadata": {
    "tags": []
   },
   "outputs": [
    {
     "output_type": "stream",
     "name": "stdout",
     "text": "(1692, 20)\n"
    }
   ],
   "source": [
    "\n",
    "print(topic_model.labels.shape)"
   ]
  },
  {
   "cell_type": "code",
   "execution_count": 40,
   "metadata": {},
   "outputs": [
    {
     "output_type": "execute_result",
     "data": {
      "text/plain": "42.205051224746754"
     },
     "metadata": {},
     "execution_count": 40
    }
   ],
   "source": [
    "\n",
    "\n",
    "topic_model.tc\n",
    "\n"
   ]
  },
  {
   "cell_type": "code",
   "execution_count": 41,
   "metadata": {},
   "outputs": [
    {
     "output_type": "display_data",
     "data": {
      "text/plain": "<Figure size 720x360 with 1 Axes>",
      "image/svg+xml": "<?xml version=\"1.0\" encoding=\"utf-8\" standalone=\"no\"?>\r\n<!DOCTYPE svg PUBLIC \"-//W3C//DTD SVG 1.1//EN\"\r\n  \"http://www.w3.org/Graphics/SVG/1.1/DTD/svg11.dtd\">\r\n<!-- Created with matplotlib (https://matplotlib.org/) -->\r\n<svg height=\"322.363125pt\" version=\"1.1\" viewBox=\"0 0 620.067791 322.363125\" width=\"620.067791pt\" xmlns=\"http://www.w3.org/2000/svg\" xmlns:xlink=\"http://www.w3.org/1999/xlink\">\r\n <defs>\r\n  <style type=\"text/css\">\r\n*{stroke-linecap:butt;stroke-linejoin:round;}\r\n  </style>\r\n </defs>\r\n <g id=\"figure_1\">\r\n  <g id=\"patch_1\">\r\n   <path d=\"M 0 322.363125 \r\nL 620.067791 322.363125 \r\nL 620.067791 0 \r\nL 0 0 \r\nz\r\n\" style=\"fill:none;\"/>\r\n  </g>\r\n  <g id=\"axes_1\">\r\n   <g id=\"patch_2\">\r\n    <path d=\"M 49.588125 279 \r\nL 607.588125 279 \r\nL 607.588125 7.2 \r\nL 49.588125 7.2 \r\nz\r\n\" style=\"fill:#ffffff;\"/>\r\n   </g>\r\n   <g id=\"patch_3\">\r\n    <path clip-path=\"url(#pb7fc795c3a)\" d=\"M 74.951761 279 \r\nL 87.958754 279 \r\nL 87.958754 20.142857 \r\nL 74.951761 20.142857 \r\nz\r\n\" style=\"fill:#4e79a7;\"/>\r\n   </g>\r\n   <g id=\"patch_4\">\r\n    <path clip-path=\"url(#pb7fc795c3a)\" d=\"M 100.965747 279 \r\nL 113.97274 279 \r\nL 113.97274 60.899956 \r\nL 100.965747 60.899956 \r\nz\r\n\" style=\"fill:#4e79a7;\"/>\r\n   </g>\r\n   <g id=\"patch_5\">\r\n    <path clip-path=\"url(#pb7fc795c3a)\" d=\"M 126.979733 279 \r\nL 139.986726 279 \r\nL 139.986726 69.515848 \r\nL 126.979733 69.515848 \r\nz\r\n\" style=\"fill:#4e79a7;\"/>\r\n   </g>\r\n   <g id=\"patch_6\">\r\n    <path clip-path=\"url(#pb7fc795c3a)\" d=\"M 152.993719 279 \r\nL 166.000712 279 \r\nL 166.000712 82.270629 \r\nL 152.993719 82.270629 \r\nz\r\n\" style=\"fill:#4e79a7;\"/>\r\n   </g>\r\n   <g id=\"patch_7\">\r\n    <path clip-path=\"url(#pb7fc795c3a)\" d=\"M 179.007705 279 \r\nL 192.014698 279 \r\nL 192.014698 86.390278 \r\nL 179.007705 86.390278 \r\nz\r\n\" style=\"fill:#4e79a7;\"/>\r\n   </g>\r\n   <g id=\"patch_8\">\r\n    <path clip-path=\"url(#pb7fc795c3a)\" d=\"M 205.021691 279 \r\nL 218.028684 279 \r\nL 218.028684 104.534362 \r\nL 205.021691 104.534362 \r\nz\r\n\" style=\"fill:#4e79a7;\"/>\r\n   </g>\r\n   <g id=\"patch_9\">\r\n    <path clip-path=\"url(#pb7fc795c3a)\" d=\"M 231.035677 279 \r\nL 244.04267 279 \r\nL 244.04267 114.126019 \r\nL 231.035677 114.126019 \r\nz\r\n\" style=\"fill:#4e79a7;\"/>\r\n   </g>\r\n   <g id=\"patch_10\">\r\n    <path clip-path=\"url(#pb7fc795c3a)\" d=\"M 257.049663 279 \r\nL 270.056656 279 \r\nL 270.056656 121.622585 \r\nL 257.049663 121.622585 \r\nz\r\n\" style=\"fill:#4e79a7;\"/>\r\n   </g>\r\n   <g id=\"patch_11\">\r\n    <path clip-path=\"url(#pb7fc795c3a)\" d=\"M 283.063649 279 \r\nL 296.070642 279 \r\nL 296.070642 131.09589 \r\nL 283.063649 131.09589 \r\nz\r\n\" style=\"fill:#4e79a7;\"/>\r\n   </g>\r\n   <g id=\"patch_12\">\r\n    <path clip-path=\"url(#pb7fc795c3a)\" d=\"M 309.077635 279 \r\nL 322.084628 279 \r\nL 322.084628 135.932968 \r\nL 309.077635 135.932968 \r\nz\r\n\" style=\"fill:#4e79a7;\"/>\r\n   </g>\r\n   <g id=\"patch_13\">\r\n    <path clip-path=\"url(#pb7fc795c3a)\" d=\"M 335.091622 279 \r\nL 348.098615 279 \r\nL 348.098615 144.665251 \r\nL 335.091622 144.665251 \r\nz\r\n\" style=\"fill:#4e79a7;\"/>\r\n   </g>\r\n   <g id=\"patch_14\">\r\n    <path clip-path=\"url(#pb7fc795c3a)\" d=\"M 361.105608 279 \r\nL 374.112601 279 \r\nL 374.112601 151.342361 \r\nL 361.105608 151.342361 \r\nz\r\n\" style=\"fill:#4e79a7;\"/>\r\n   </g>\r\n   <g id=\"patch_15\">\r\n    <path clip-path=\"url(#pb7fc795c3a)\" d=\"M 387.119594 279 \r\nL 400.126587 279 \r\nL 400.126587 152.805667 \r\nL 387.119594 152.805667 \r\nz\r\n\" style=\"fill:#4e79a7;\"/>\r\n   </g>\r\n   <g id=\"patch_16\">\r\n    <path clip-path=\"url(#pb7fc795c3a)\" d=\"M 413.13358 279 \r\nL 426.140573 279 \r\nL 426.140573 158.019239 \r\nL 413.13358 158.019239 \r\nz\r\n\" style=\"fill:#4e79a7;\"/>\r\n   </g>\r\n   <g id=\"patch_17\">\r\n    <path clip-path=\"url(#pb7fc795c3a)\" d=\"M 439.147566 279 \r\nL 452.154559 279 \r\nL 452.154559 174.03541 \r\nL 439.147566 174.03541 \r\nz\r\n\" style=\"fill:#4e79a7;\"/>\r\n   </g>\r\n   <g id=\"patch_18\">\r\n    <path clip-path=\"url(#pb7fc795c3a)\" d=\"M 465.161552 279 \r\nL 478.168545 279 \r\nL 478.168545 176.378746 \r\nL 465.161552 176.378746 \r\nz\r\n\" style=\"fill:#4e79a7;\"/>\r\n   </g>\r\n   <g id=\"patch_19\">\r\n    <path clip-path=\"url(#pb7fc795c3a)\" d=\"M 491.175538 279 \r\nL 504.182531 279 \r\nL 504.182531 196.54153 \r\nL 491.175538 196.54153 \r\nz\r\n\" style=\"fill:#4e79a7;\"/>\r\n   </g>\r\n   <g id=\"patch_20\">\r\n    <path clip-path=\"url(#pb7fc795c3a)\" d=\"M 517.189524 279 \r\nL 530.196517 279 \r\nL 530.196517 200.294812 \r\nL 517.189524 200.294812 \r\nz\r\n\" style=\"fill:#4e79a7;\"/>\r\n   </g>\r\n   <g id=\"patch_21\">\r\n    <path clip-path=\"url(#pb7fc795c3a)\" d=\"M 543.20351 279 \r\nL 556.210503 279 \r\nL 556.210503 205.881878 \r\nL 543.20351 205.881878 \r\nz\r\n\" style=\"fill:#4e79a7;\"/>\r\n   </g>\r\n   <g id=\"patch_22\">\r\n    <path clip-path=\"url(#pb7fc795c3a)\" d=\"M 569.217496 279 \r\nL 582.224489 279 \r\nL 582.224489 206.887451 \r\nL 569.217496 206.887451 \r\nz\r\n\" style=\"fill:#4e79a7;\"/>\r\n   </g>\r\n   <g id=\"matplotlib.axis_1\">\r\n    <g id=\"xtick_1\">\r\n     <g id=\"line2d_1\">\r\n      <defs>\r\n       <path d=\"M 0 0 \r\nL 0 3.5 \r\n\" id=\"me4306e435a\" style=\"stroke:#000000;stroke-width:0.8;\"/>\r\n      </defs>\r\n      <g>\r\n       <use style=\"stroke:#000000;stroke-width:0.8;\" x=\"81.455258\" xlink:href=\"#me4306e435a\" y=\"279\"/>\r\n      </g>\r\n     </g>\r\n     <g id=\"text_1\">\r\n      <!-- 0.0 -->\r\n      <defs>\r\n       <path d=\"M 31.78125 66.40625 \r\nQ 24.171875 66.40625 20.328125 58.90625 \r\nQ 16.5 51.421875 16.5 36.375 \r\nQ 16.5 21.390625 20.328125 13.890625 \r\nQ 24.171875 6.390625 31.78125 6.390625 \r\nQ 39.453125 6.390625 43.28125 13.890625 \r\nQ 47.125 21.390625 47.125 36.375 \r\nQ 47.125 51.421875 43.28125 58.90625 \r\nQ 39.453125 66.40625 31.78125 66.40625 \r\nz\r\nM 31.78125 74.21875 \r\nQ 44.046875 74.21875 50.515625 64.515625 \r\nQ 56.984375 54.828125 56.984375 36.375 \r\nQ 56.984375 17.96875 50.515625 8.265625 \r\nQ 44.046875 -1.421875 31.78125 -1.421875 \r\nQ 19.53125 -1.421875 13.0625 8.265625 \r\nQ 6.59375 17.96875 6.59375 36.375 \r\nQ 6.59375 54.828125 13.0625 64.515625 \r\nQ 19.53125 74.21875 31.78125 74.21875 \r\nz\r\n\" id=\"DejaVuSans-48\"/>\r\n       <path d=\"M 10.6875 12.40625 \r\nL 21 12.40625 \r\nL 21 0 \r\nL 10.6875 0 \r\nz\r\n\" id=\"DejaVuSans-46\"/>\r\n      </defs>\r\n      <g transform=\"translate(73.503695 293.598438)scale(0.1 -0.1)\">\r\n       <use xlink:href=\"#DejaVuSans-48\"/>\r\n       <use x=\"63.623047\" xlink:href=\"#DejaVuSans-46\"/>\r\n       <use x=\"95.410156\" xlink:href=\"#DejaVuSans-48\"/>\r\n      </g>\r\n     </g>\r\n    </g>\r\n    <g id=\"xtick_2\">\r\n     <g id=\"line2d_2\">\r\n      <g>\r\n       <use style=\"stroke:#000000;stroke-width:0.8;\" x=\"146.490223\" xlink:href=\"#me4306e435a\" y=\"279\"/>\r\n      </g>\r\n     </g>\r\n     <g id=\"text_2\">\r\n      <!-- 2.5 -->\r\n      <defs>\r\n       <path d=\"M 19.1875 8.296875 \r\nL 53.609375 8.296875 \r\nL 53.609375 0 \r\nL 7.328125 0 \r\nL 7.328125 8.296875 \r\nQ 12.9375 14.109375 22.625 23.890625 \r\nQ 32.328125 33.6875 34.8125 36.53125 \r\nQ 39.546875 41.84375 41.421875 45.53125 \r\nQ 43.3125 49.21875 43.3125 52.78125 \r\nQ 43.3125 58.59375 39.234375 62.25 \r\nQ 35.15625 65.921875 28.609375 65.921875 \r\nQ 23.96875 65.921875 18.8125 64.3125 \r\nQ 13.671875 62.703125 7.8125 59.421875 \r\nL 7.8125 69.390625 \r\nQ 13.765625 71.78125 18.9375 73 \r\nQ 24.125 74.21875 28.421875 74.21875 \r\nQ 39.75 74.21875 46.484375 68.546875 \r\nQ 53.21875 62.890625 53.21875 53.421875 \r\nQ 53.21875 48.921875 51.53125 44.890625 \r\nQ 49.859375 40.875 45.40625 35.40625 \r\nQ 44.1875 33.984375 37.640625 27.21875 \r\nQ 31.109375 20.453125 19.1875 8.296875 \r\nz\r\n\" id=\"DejaVuSans-50\"/>\r\n       <path d=\"M 10.796875 72.90625 \r\nL 49.515625 72.90625 \r\nL 49.515625 64.59375 \r\nL 19.828125 64.59375 \r\nL 19.828125 46.734375 \r\nQ 21.96875 47.46875 24.109375 47.828125 \r\nQ 26.265625 48.1875 28.421875 48.1875 \r\nQ 40.625 48.1875 47.75 41.5 \r\nQ 54.890625 34.8125 54.890625 23.390625 \r\nQ 54.890625 11.625 47.5625 5.09375 \r\nQ 40.234375 -1.421875 26.90625 -1.421875 \r\nQ 22.3125 -1.421875 17.546875 -0.640625 \r\nQ 12.796875 0.140625 7.71875 1.703125 \r\nL 7.71875 11.625 \r\nQ 12.109375 9.234375 16.796875 8.0625 \r\nQ 21.484375 6.890625 26.703125 6.890625 \r\nQ 35.15625 6.890625 40.078125 11.328125 \r\nQ 45.015625 15.765625 45.015625 23.390625 \r\nQ 45.015625 31 40.078125 35.4375 \r\nQ 35.15625 39.890625 26.703125 39.890625 \r\nQ 22.75 39.890625 18.8125 39.015625 \r\nQ 14.890625 38.140625 10.796875 36.28125 \r\nz\r\n\" id=\"DejaVuSans-53\"/>\r\n      </defs>\r\n      <g transform=\"translate(138.53866 293.598438)scale(0.1 -0.1)\">\r\n       <use xlink:href=\"#DejaVuSans-50\"/>\r\n       <use x=\"63.623047\" xlink:href=\"#DejaVuSans-46\"/>\r\n       <use x=\"95.410156\" xlink:href=\"#DejaVuSans-53\"/>\r\n      </g>\r\n     </g>\r\n    </g>\r\n    <g id=\"xtick_3\">\r\n     <g id=\"line2d_3\">\r\n      <g>\r\n       <use style=\"stroke:#000000;stroke-width:0.8;\" x=\"211.525188\" xlink:href=\"#me4306e435a\" y=\"279\"/>\r\n      </g>\r\n     </g>\r\n     <g id=\"text_3\">\r\n      <!-- 5.0 -->\r\n      <g transform=\"translate(203.573625 293.598438)scale(0.1 -0.1)\">\r\n       <use xlink:href=\"#DejaVuSans-53\"/>\r\n       <use x=\"63.623047\" xlink:href=\"#DejaVuSans-46\"/>\r\n       <use x=\"95.410156\" xlink:href=\"#DejaVuSans-48\"/>\r\n      </g>\r\n     </g>\r\n    </g>\r\n    <g id=\"xtick_4\">\r\n     <g id=\"line2d_4\">\r\n      <g>\r\n       <use style=\"stroke:#000000;stroke-width:0.8;\" x=\"276.560153\" xlink:href=\"#me4306e435a\" y=\"279\"/>\r\n      </g>\r\n     </g>\r\n     <g id=\"text_4\">\r\n      <!-- 7.5 -->\r\n      <defs>\r\n       <path d=\"M 8.203125 72.90625 \r\nL 55.078125 72.90625 \r\nL 55.078125 68.703125 \r\nL 28.609375 0 \r\nL 18.3125 0 \r\nL 43.21875 64.59375 \r\nL 8.203125 64.59375 \r\nz\r\n\" id=\"DejaVuSans-55\"/>\r\n      </defs>\r\n      <g transform=\"translate(268.60859 293.598438)scale(0.1 -0.1)\">\r\n       <use xlink:href=\"#DejaVuSans-55\"/>\r\n       <use x=\"63.623047\" xlink:href=\"#DejaVuSans-46\"/>\r\n       <use x=\"95.410156\" xlink:href=\"#DejaVuSans-53\"/>\r\n      </g>\r\n     </g>\r\n    </g>\r\n    <g id=\"xtick_5\">\r\n     <g id=\"line2d_5\">\r\n      <g>\r\n       <use style=\"stroke:#000000;stroke-width:0.8;\" x=\"341.595118\" xlink:href=\"#me4306e435a\" y=\"279\"/>\r\n      </g>\r\n     </g>\r\n     <g id=\"text_5\">\r\n      <!-- 10.0 -->\r\n      <defs>\r\n       <path d=\"M 12.40625 8.296875 \r\nL 28.515625 8.296875 \r\nL 28.515625 63.921875 \r\nL 10.984375 60.40625 \r\nL 10.984375 69.390625 \r\nL 28.421875 72.90625 \r\nL 38.28125 72.90625 \r\nL 38.28125 8.296875 \r\nL 54.390625 8.296875 \r\nL 54.390625 0 \r\nL 12.40625 0 \r\nz\r\n\" id=\"DejaVuSans-49\"/>\r\n      </defs>\r\n      <g transform=\"translate(330.462306 293.598438)scale(0.1 -0.1)\">\r\n       <use xlink:href=\"#DejaVuSans-49\"/>\r\n       <use x=\"63.623047\" xlink:href=\"#DejaVuSans-48\"/>\r\n       <use x=\"127.246094\" xlink:href=\"#DejaVuSans-46\"/>\r\n       <use x=\"159.033203\" xlink:href=\"#DejaVuSans-48\"/>\r\n      </g>\r\n     </g>\r\n    </g>\r\n    <g id=\"xtick_6\">\r\n     <g id=\"line2d_6\">\r\n      <g>\r\n       <use style=\"stroke:#000000;stroke-width:0.8;\" x=\"406.630083\" xlink:href=\"#me4306e435a\" y=\"279\"/>\r\n      </g>\r\n     </g>\r\n     <g id=\"text_6\">\r\n      <!-- 12.5 -->\r\n      <g transform=\"translate(395.497271 293.598438)scale(0.1 -0.1)\">\r\n       <use xlink:href=\"#DejaVuSans-49\"/>\r\n       <use x=\"63.623047\" xlink:href=\"#DejaVuSans-50\"/>\r\n       <use x=\"127.246094\" xlink:href=\"#DejaVuSans-46\"/>\r\n       <use x=\"159.033203\" xlink:href=\"#DejaVuSans-53\"/>\r\n      </g>\r\n     </g>\r\n    </g>\r\n    <g id=\"xtick_7\">\r\n     <g id=\"line2d_7\">\r\n      <g>\r\n       <use style=\"stroke:#000000;stroke-width:0.8;\" x=\"471.665048\" xlink:href=\"#me4306e435a\" y=\"279\"/>\r\n      </g>\r\n     </g>\r\n     <g id=\"text_7\">\r\n      <!-- 15.0 -->\r\n      <g transform=\"translate(460.532236 293.598438)scale(0.1 -0.1)\">\r\n       <use xlink:href=\"#DejaVuSans-49\"/>\r\n       <use x=\"63.623047\" xlink:href=\"#DejaVuSans-53\"/>\r\n       <use x=\"127.246094\" xlink:href=\"#DejaVuSans-46\"/>\r\n       <use x=\"159.033203\" xlink:href=\"#DejaVuSans-48\"/>\r\n      </g>\r\n     </g>\r\n    </g>\r\n    <g id=\"xtick_8\">\r\n     <g id=\"line2d_8\">\r\n      <g>\r\n       <use style=\"stroke:#000000;stroke-width:0.8;\" x=\"536.700013\" xlink:href=\"#me4306e435a\" y=\"279\"/>\r\n      </g>\r\n     </g>\r\n     <g id=\"text_8\">\r\n      <!-- 17.5 -->\r\n      <g transform=\"translate(525.567201 293.598438)scale(0.1 -0.1)\">\r\n       <use xlink:href=\"#DejaVuSans-49\"/>\r\n       <use x=\"63.623047\" xlink:href=\"#DejaVuSans-55\"/>\r\n       <use x=\"127.246094\" xlink:href=\"#DejaVuSans-46\"/>\r\n       <use x=\"159.033203\" xlink:href=\"#DejaVuSans-53\"/>\r\n      </g>\r\n     </g>\r\n    </g>\r\n    <g id=\"xtick_9\">\r\n     <g id=\"line2d_9\">\r\n      <g>\r\n       <use style=\"stroke:#000000;stroke-width:0.8;\" x=\"601.734978\" xlink:href=\"#me4306e435a\" y=\"279\"/>\r\n      </g>\r\n     </g>\r\n     <g id=\"text_9\">\r\n      <!-- 20.0 -->\r\n      <g transform=\"translate(590.602166 293.598438)scale(0.1 -0.1)\">\r\n       <use xlink:href=\"#DejaVuSans-50\"/>\r\n       <use x=\"63.623047\" xlink:href=\"#DejaVuSans-48\"/>\r\n       <use x=\"127.246094\" xlink:href=\"#DejaVuSans-46\"/>\r\n       <use x=\"159.033203\" xlink:href=\"#DejaVuSans-48\"/>\r\n      </g>\r\n     </g>\r\n    </g>\r\n    <g id=\"text_10\">\r\n     <!-- Topic -->\r\n     <defs>\r\n      <path d=\"M -0.296875 72.90625 \r\nL 61.375 72.90625 \r\nL 61.375 64.59375 \r\nL 35.5 64.59375 \r\nL 35.5 0 \r\nL 25.59375 0 \r\nL 25.59375 64.59375 \r\nL -0.296875 64.59375 \r\nz\r\n\" id=\"DejaVuSans-84\"/>\r\n      <path d=\"M 30.609375 48.390625 \r\nQ 23.390625 48.390625 19.1875 42.75 \r\nQ 14.984375 37.109375 14.984375 27.296875 \r\nQ 14.984375 17.484375 19.15625 11.84375 \r\nQ 23.34375 6.203125 30.609375 6.203125 \r\nQ 37.796875 6.203125 41.984375 11.859375 \r\nQ 46.1875 17.53125 46.1875 27.296875 \r\nQ 46.1875 37.015625 41.984375 42.703125 \r\nQ 37.796875 48.390625 30.609375 48.390625 \r\nz\r\nM 30.609375 56 \r\nQ 42.328125 56 49.015625 48.375 \r\nQ 55.71875 40.765625 55.71875 27.296875 \r\nQ 55.71875 13.875 49.015625 6.21875 \r\nQ 42.328125 -1.421875 30.609375 -1.421875 \r\nQ 18.84375 -1.421875 12.171875 6.21875 \r\nQ 5.515625 13.875 5.515625 27.296875 \r\nQ 5.515625 40.765625 12.171875 48.375 \r\nQ 18.84375 56 30.609375 56 \r\nz\r\n\" id=\"DejaVuSans-111\"/>\r\n      <path d=\"M 18.109375 8.203125 \r\nL 18.109375 -20.796875 \r\nL 9.078125 -20.796875 \r\nL 9.078125 54.6875 \r\nL 18.109375 54.6875 \r\nL 18.109375 46.390625 \r\nQ 20.953125 51.265625 25.265625 53.625 \r\nQ 29.59375 56 35.59375 56 \r\nQ 45.5625 56 51.78125 48.09375 \r\nQ 58.015625 40.1875 58.015625 27.296875 \r\nQ 58.015625 14.40625 51.78125 6.484375 \r\nQ 45.5625 -1.421875 35.59375 -1.421875 \r\nQ 29.59375 -1.421875 25.265625 0.953125 \r\nQ 20.953125 3.328125 18.109375 8.203125 \r\nz\r\nM 48.6875 27.296875 \r\nQ 48.6875 37.203125 44.609375 42.84375 \r\nQ 40.53125 48.484375 33.40625 48.484375 \r\nQ 26.265625 48.484375 22.1875 42.84375 \r\nQ 18.109375 37.203125 18.109375 27.296875 \r\nQ 18.109375 17.390625 22.1875 11.75 \r\nQ 26.265625 6.109375 33.40625 6.109375 \r\nQ 40.53125 6.109375 44.609375 11.75 \r\nQ 48.6875 17.390625 48.6875 27.296875 \r\nz\r\n\" id=\"DejaVuSans-112\"/>\r\n      <path d=\"M 9.421875 54.6875 \r\nL 18.40625 54.6875 \r\nL 18.40625 0 \r\nL 9.421875 0 \r\nz\r\nM 9.421875 75.984375 \r\nL 18.40625 75.984375 \r\nL 18.40625 64.59375 \r\nL 9.421875 64.59375 \r\nz\r\n\" id=\"DejaVuSans-105\"/>\r\n      <path d=\"M 48.78125 52.59375 \r\nL 48.78125 44.1875 \r\nQ 44.96875 46.296875 41.140625 47.34375 \r\nQ 37.3125 48.390625 33.40625 48.390625 \r\nQ 24.65625 48.390625 19.8125 42.84375 \r\nQ 14.984375 37.3125 14.984375 27.296875 \r\nQ 14.984375 17.28125 19.8125 11.734375 \r\nQ 24.65625 6.203125 33.40625 6.203125 \r\nQ 37.3125 6.203125 41.140625 7.25 \r\nQ 44.96875 8.296875 48.78125 10.40625 \r\nL 48.78125 2.09375 \r\nQ 45.015625 0.34375 40.984375 -0.53125 \r\nQ 36.96875 -1.421875 32.421875 -1.421875 \r\nQ 20.0625 -1.421875 12.78125 6.34375 \r\nQ 5.515625 14.109375 5.515625 27.296875 \r\nQ 5.515625 40.671875 12.859375 48.328125 \r\nQ 20.21875 56 33.015625 56 \r\nQ 37.15625 56 41.109375 55.140625 \r\nQ 45.0625 54.296875 48.78125 52.59375 \r\nz\r\n\" id=\"DejaVuSans-99\"/>\r\n     </defs>\r\n     <g transform=\"translate(307.128125 311.835625)scale(0.16 -0.16)\">\r\n      <use xlink:href=\"#DejaVuSans-84\"/>\r\n      <use x=\"60.818359\" xlink:href=\"#DejaVuSans-111\"/>\r\n      <use x=\"122\" xlink:href=\"#DejaVuSans-112\"/>\r\n      <use x=\"185.476562\" xlink:href=\"#DejaVuSans-105\"/>\r\n      <use x=\"213.259766\" xlink:href=\"#DejaVuSans-99\"/>\r\n     </g>\r\n    </g>\r\n   </g>\r\n   <g id=\"matplotlib.axis_2\">\r\n    <g id=\"ytick_1\">\r\n     <g id=\"line2d_10\">\r\n      <defs>\r\n       <path d=\"M 0 0 \r\nL -3.5 0 \r\n\" id=\"m421bde8d46\" style=\"stroke:#000000;stroke-width:0.8;\"/>\r\n      </defs>\r\n      <g>\r\n       <use style=\"stroke:#000000;stroke-width:0.8;\" x=\"49.588125\" xlink:href=\"#m421bde8d46\" y=\"279\"/>\r\n      </g>\r\n     </g>\r\n     <g id=\"text_11\">\r\n      <!-- 0.0 -->\r\n      <g transform=\"translate(26.685 282.799219)scale(0.1 -0.1)\">\r\n       <use xlink:href=\"#DejaVuSans-48\"/>\r\n       <use x=\"63.623047\" xlink:href=\"#DejaVuSans-46\"/>\r\n       <use x=\"95.410156\" xlink:href=\"#DejaVuSans-48\"/>\r\n      </g>\r\n     </g>\r\n    </g>\r\n    <g id=\"ytick_2\">\r\n     <g id=\"line2d_11\">\r\n      <g>\r\n       <use style=\"stroke:#000000;stroke-width:0.8;\" x=\"49.588125\" xlink:href=\"#m421bde8d46\" y=\"244.802479\"/>\r\n      </g>\r\n     </g>\r\n     <g id=\"text_12\">\r\n      <!-- 0.5 -->\r\n      <g transform=\"translate(26.685 248.601698)scale(0.1 -0.1)\">\r\n       <use xlink:href=\"#DejaVuSans-48\"/>\r\n       <use x=\"63.623047\" xlink:href=\"#DejaVuSans-46\"/>\r\n       <use x=\"95.410156\" xlink:href=\"#DejaVuSans-53\"/>\r\n      </g>\r\n     </g>\r\n    </g>\r\n    <g id=\"ytick_3\">\r\n     <g id=\"line2d_12\">\r\n      <g>\r\n       <use style=\"stroke:#000000;stroke-width:0.8;\" x=\"49.588125\" xlink:href=\"#m421bde8d46\" y=\"210.604958\"/>\r\n      </g>\r\n     </g>\r\n     <g id=\"text_13\">\r\n      <!-- 1.0 -->\r\n      <g transform=\"translate(26.685 214.404176)scale(0.1 -0.1)\">\r\n       <use xlink:href=\"#DejaVuSans-49\"/>\r\n       <use x=\"63.623047\" xlink:href=\"#DejaVuSans-46\"/>\r\n       <use x=\"95.410156\" xlink:href=\"#DejaVuSans-48\"/>\r\n      </g>\r\n     </g>\r\n    </g>\r\n    <g id=\"ytick_4\">\r\n     <g id=\"line2d_13\">\r\n      <g>\r\n       <use style=\"stroke:#000000;stroke-width:0.8;\" x=\"49.588125\" xlink:href=\"#m421bde8d46\" y=\"176.407437\"/>\r\n      </g>\r\n     </g>\r\n     <g id=\"text_14\">\r\n      <!-- 1.5 -->\r\n      <g transform=\"translate(26.685 180.206655)scale(0.1 -0.1)\">\r\n       <use xlink:href=\"#DejaVuSans-49\"/>\r\n       <use x=\"63.623047\" xlink:href=\"#DejaVuSans-46\"/>\r\n       <use x=\"95.410156\" xlink:href=\"#DejaVuSans-53\"/>\r\n      </g>\r\n     </g>\r\n    </g>\r\n    <g id=\"ytick_5\">\r\n     <g id=\"line2d_14\">\r\n      <g>\r\n       <use style=\"stroke:#000000;stroke-width:0.8;\" x=\"49.588125\" xlink:href=\"#m421bde8d46\" y=\"142.209915\"/>\r\n      </g>\r\n     </g>\r\n     <g id=\"text_15\">\r\n      <!-- 2.0 -->\r\n      <g transform=\"translate(26.685 146.009134)scale(0.1 -0.1)\">\r\n       <use xlink:href=\"#DejaVuSans-50\"/>\r\n       <use x=\"63.623047\" xlink:href=\"#DejaVuSans-46\"/>\r\n       <use x=\"95.410156\" xlink:href=\"#DejaVuSans-48\"/>\r\n      </g>\r\n     </g>\r\n    </g>\r\n    <g id=\"ytick_6\">\r\n     <g id=\"line2d_15\">\r\n      <g>\r\n       <use style=\"stroke:#000000;stroke-width:0.8;\" x=\"49.588125\" xlink:href=\"#m421bde8d46\" y=\"108.012394\"/>\r\n      </g>\r\n     </g>\r\n     <g id=\"text_16\">\r\n      <!-- 2.5 -->\r\n      <g transform=\"translate(26.685 111.811613)scale(0.1 -0.1)\">\r\n       <use xlink:href=\"#DejaVuSans-50\"/>\r\n       <use x=\"63.623047\" xlink:href=\"#DejaVuSans-46\"/>\r\n       <use x=\"95.410156\" xlink:href=\"#DejaVuSans-53\"/>\r\n      </g>\r\n     </g>\r\n    </g>\r\n    <g id=\"ytick_7\">\r\n     <g id=\"line2d_16\">\r\n      <g>\r\n       <use style=\"stroke:#000000;stroke-width:0.8;\" x=\"49.588125\" xlink:href=\"#m421bde8d46\" y=\"73.814873\"/>\r\n      </g>\r\n     </g>\r\n     <g id=\"text_17\">\r\n      <!-- 3.0 -->\r\n      <defs>\r\n       <path d=\"M 40.578125 39.3125 \r\nQ 47.65625 37.796875 51.625 33 \r\nQ 55.609375 28.21875 55.609375 21.1875 \r\nQ 55.609375 10.40625 48.1875 4.484375 \r\nQ 40.765625 -1.421875 27.09375 -1.421875 \r\nQ 22.515625 -1.421875 17.65625 -0.515625 \r\nQ 12.796875 0.390625 7.625 2.203125 \r\nL 7.625 11.71875 \r\nQ 11.71875 9.328125 16.59375 8.109375 \r\nQ 21.484375 6.890625 26.8125 6.890625 \r\nQ 36.078125 6.890625 40.9375 10.546875 \r\nQ 45.796875 14.203125 45.796875 21.1875 \r\nQ 45.796875 27.640625 41.28125 31.265625 \r\nQ 36.765625 34.90625 28.71875 34.90625 \r\nL 20.21875 34.90625 \r\nL 20.21875 43.015625 \r\nL 29.109375 43.015625 \r\nQ 36.375 43.015625 40.234375 45.921875 \r\nQ 44.09375 48.828125 44.09375 54.296875 \r\nQ 44.09375 59.90625 40.109375 62.90625 \r\nQ 36.140625 65.921875 28.71875 65.921875 \r\nQ 24.65625 65.921875 20.015625 65.03125 \r\nQ 15.375 64.15625 9.8125 62.3125 \r\nL 9.8125 71.09375 \r\nQ 15.4375 72.65625 20.34375 73.4375 \r\nQ 25.25 74.21875 29.59375 74.21875 \r\nQ 40.828125 74.21875 47.359375 69.109375 \r\nQ 53.90625 64.015625 53.90625 55.328125 \r\nQ 53.90625 49.265625 50.4375 45.09375 \r\nQ 46.96875 40.921875 40.578125 39.3125 \r\nz\r\n\" id=\"DejaVuSans-51\"/>\r\n      </defs>\r\n      <g transform=\"translate(26.685 77.614092)scale(0.1 -0.1)\">\r\n       <use xlink:href=\"#DejaVuSans-51\"/>\r\n       <use x=\"63.623047\" xlink:href=\"#DejaVuSans-46\"/>\r\n       <use x=\"95.410156\" xlink:href=\"#DejaVuSans-48\"/>\r\n      </g>\r\n     </g>\r\n    </g>\r\n    <g id=\"ytick_8\">\r\n     <g id=\"line2d_17\">\r\n      <g>\r\n       <use style=\"stroke:#000000;stroke-width:0.8;\" x=\"49.588125\" xlink:href=\"#m421bde8d46\" y=\"39.617352\"/>\r\n      </g>\r\n     </g>\r\n     <g id=\"text_18\">\r\n      <!-- 3.5 -->\r\n      <g transform=\"translate(26.685 43.416571)scale(0.1 -0.1)\">\r\n       <use xlink:href=\"#DejaVuSans-51\"/>\r\n       <use x=\"63.623047\" xlink:href=\"#DejaVuSans-46\"/>\r\n       <use x=\"95.410156\" xlink:href=\"#DejaVuSans-53\"/>\r\n      </g>\r\n     </g>\r\n    </g>\r\n    <g id=\"text_19\">\r\n     <!-- Total Correlation (nats) -->\r\n     <defs>\r\n      <path d=\"M 18.3125 70.21875 \r\nL 18.3125 54.6875 \r\nL 36.8125 54.6875 \r\nL 36.8125 47.703125 \r\nL 18.3125 47.703125 \r\nL 18.3125 18.015625 \r\nQ 18.3125 11.328125 20.140625 9.421875 \r\nQ 21.96875 7.515625 27.59375 7.515625 \r\nL 36.8125 7.515625 \r\nL 36.8125 0 \r\nL 27.59375 0 \r\nQ 17.1875 0 13.234375 3.875 \r\nQ 9.28125 7.765625 9.28125 18.015625 \r\nL 9.28125 47.703125 \r\nL 2.6875 47.703125 \r\nL 2.6875 54.6875 \r\nL 9.28125 54.6875 \r\nL 9.28125 70.21875 \r\nz\r\n\" id=\"DejaVuSans-116\"/>\r\n      <path d=\"M 34.28125 27.484375 \r\nQ 23.390625 27.484375 19.1875 25 \r\nQ 14.984375 22.515625 14.984375 16.5 \r\nQ 14.984375 11.71875 18.140625 8.90625 \r\nQ 21.296875 6.109375 26.703125 6.109375 \r\nQ 34.1875 6.109375 38.703125 11.40625 \r\nQ 43.21875 16.703125 43.21875 25.484375 \r\nL 43.21875 27.484375 \r\nz\r\nM 52.203125 31.203125 \r\nL 52.203125 0 \r\nL 43.21875 0 \r\nL 43.21875 8.296875 \r\nQ 40.140625 3.328125 35.546875 0.953125 \r\nQ 30.953125 -1.421875 24.3125 -1.421875 \r\nQ 15.921875 -1.421875 10.953125 3.296875 \r\nQ 6 8.015625 6 15.921875 \r\nQ 6 25.140625 12.171875 29.828125 \r\nQ 18.359375 34.515625 30.609375 34.515625 \r\nL 43.21875 34.515625 \r\nL 43.21875 35.40625 \r\nQ 43.21875 41.609375 39.140625 45 \r\nQ 35.0625 48.390625 27.6875 48.390625 \r\nQ 23 48.390625 18.546875 47.265625 \r\nQ 14.109375 46.140625 10.015625 43.890625 \r\nL 10.015625 52.203125 \r\nQ 14.9375 54.109375 19.578125 55.046875 \r\nQ 24.21875 56 28.609375 56 \r\nQ 40.484375 56 46.34375 49.84375 \r\nQ 52.203125 43.703125 52.203125 31.203125 \r\nz\r\n\" id=\"DejaVuSans-97\"/>\r\n      <path d=\"M 9.421875 75.984375 \r\nL 18.40625 75.984375 \r\nL 18.40625 0 \r\nL 9.421875 0 \r\nz\r\n\" id=\"DejaVuSans-108\"/>\r\n      <path id=\"DejaVuSans-32\"/>\r\n      <path d=\"M 64.40625 67.28125 \r\nL 64.40625 56.890625 \r\nQ 59.421875 61.53125 53.78125 63.8125 \r\nQ 48.140625 66.109375 41.796875 66.109375 \r\nQ 29.296875 66.109375 22.65625 58.46875 \r\nQ 16.015625 50.828125 16.015625 36.375 \r\nQ 16.015625 21.96875 22.65625 14.328125 \r\nQ 29.296875 6.6875 41.796875 6.6875 \r\nQ 48.140625 6.6875 53.78125 8.984375 \r\nQ 59.421875 11.28125 64.40625 15.921875 \r\nL 64.40625 5.609375 \r\nQ 59.234375 2.09375 53.4375 0.328125 \r\nQ 47.65625 -1.421875 41.21875 -1.421875 \r\nQ 24.65625 -1.421875 15.125 8.703125 \r\nQ 5.609375 18.84375 5.609375 36.375 \r\nQ 5.609375 53.953125 15.125 64.078125 \r\nQ 24.65625 74.21875 41.21875 74.21875 \r\nQ 47.75 74.21875 53.53125 72.484375 \r\nQ 59.328125 70.75 64.40625 67.28125 \r\nz\r\n\" id=\"DejaVuSans-67\"/>\r\n      <path d=\"M 41.109375 46.296875 \r\nQ 39.59375 47.171875 37.8125 47.578125 \r\nQ 36.03125 48 33.890625 48 \r\nQ 26.265625 48 22.1875 43.046875 \r\nQ 18.109375 38.09375 18.109375 28.8125 \r\nL 18.109375 0 \r\nL 9.078125 0 \r\nL 9.078125 54.6875 \r\nL 18.109375 54.6875 \r\nL 18.109375 46.1875 \r\nQ 20.953125 51.171875 25.484375 53.578125 \r\nQ 30.03125 56 36.53125 56 \r\nQ 37.453125 56 38.578125 55.875 \r\nQ 39.703125 55.765625 41.0625 55.515625 \r\nz\r\n\" id=\"DejaVuSans-114\"/>\r\n      <path d=\"M 56.203125 29.59375 \r\nL 56.203125 25.203125 \r\nL 14.890625 25.203125 \r\nQ 15.484375 15.921875 20.484375 11.0625 \r\nQ 25.484375 6.203125 34.421875 6.203125 \r\nQ 39.59375 6.203125 44.453125 7.46875 \r\nQ 49.3125 8.734375 54.109375 11.28125 \r\nL 54.109375 2.78125 \r\nQ 49.265625 0.734375 44.1875 -0.34375 \r\nQ 39.109375 -1.421875 33.890625 -1.421875 \r\nQ 20.796875 -1.421875 13.15625 6.1875 \r\nQ 5.515625 13.8125 5.515625 26.8125 \r\nQ 5.515625 40.234375 12.765625 48.109375 \r\nQ 20.015625 56 32.328125 56 \r\nQ 43.359375 56 49.78125 48.890625 \r\nQ 56.203125 41.796875 56.203125 29.59375 \r\nz\r\nM 47.21875 32.234375 \r\nQ 47.125 39.59375 43.09375 43.984375 \r\nQ 39.0625 48.390625 32.421875 48.390625 \r\nQ 24.90625 48.390625 20.390625 44.140625 \r\nQ 15.875 39.890625 15.1875 32.171875 \r\nz\r\n\" id=\"DejaVuSans-101\"/>\r\n      <path d=\"M 54.890625 33.015625 \r\nL 54.890625 0 \r\nL 45.90625 0 \r\nL 45.90625 32.71875 \r\nQ 45.90625 40.484375 42.875 44.328125 \r\nQ 39.84375 48.1875 33.796875 48.1875 \r\nQ 26.515625 48.1875 22.3125 43.546875 \r\nQ 18.109375 38.921875 18.109375 30.90625 \r\nL 18.109375 0 \r\nL 9.078125 0 \r\nL 9.078125 54.6875 \r\nL 18.109375 54.6875 \r\nL 18.109375 46.1875 \r\nQ 21.34375 51.125 25.703125 53.5625 \r\nQ 30.078125 56 35.796875 56 \r\nQ 45.21875 56 50.046875 50.171875 \r\nQ 54.890625 44.34375 54.890625 33.015625 \r\nz\r\n\" id=\"DejaVuSans-110\"/>\r\n      <path d=\"M 31 75.875 \r\nQ 24.46875 64.65625 21.28125 53.65625 \r\nQ 18.109375 42.671875 18.109375 31.390625 \r\nQ 18.109375 20.125 21.3125 9.0625 \r\nQ 24.515625 -2 31 -13.1875 \r\nL 23.1875 -13.1875 \r\nQ 15.875 -1.703125 12.234375 9.375 \r\nQ 8.59375 20.453125 8.59375 31.390625 \r\nQ 8.59375 42.28125 12.203125 53.3125 \r\nQ 15.828125 64.359375 23.1875 75.875 \r\nz\r\n\" id=\"DejaVuSans-40\"/>\r\n      <path d=\"M 44.28125 53.078125 \r\nL 44.28125 44.578125 \r\nQ 40.484375 46.53125 36.375 47.5 \r\nQ 32.28125 48.484375 27.875 48.484375 \r\nQ 21.1875 48.484375 17.84375 46.4375 \r\nQ 14.5 44.390625 14.5 40.28125 \r\nQ 14.5 37.15625 16.890625 35.375 \r\nQ 19.28125 33.59375 26.515625 31.984375 \r\nL 29.59375 31.296875 \r\nQ 39.15625 29.25 43.1875 25.515625 \r\nQ 47.21875 21.78125 47.21875 15.09375 \r\nQ 47.21875 7.46875 41.1875 3.015625 \r\nQ 35.15625 -1.421875 24.609375 -1.421875 \r\nQ 20.21875 -1.421875 15.453125 -0.5625 \r\nQ 10.6875 0.296875 5.421875 2 \r\nL 5.421875 11.28125 \r\nQ 10.40625 8.6875 15.234375 7.390625 \r\nQ 20.0625 6.109375 24.8125 6.109375 \r\nQ 31.15625 6.109375 34.5625 8.28125 \r\nQ 37.984375 10.453125 37.984375 14.40625 \r\nQ 37.984375 18.0625 35.515625 20.015625 \r\nQ 33.0625 21.96875 24.703125 23.78125 \r\nL 21.578125 24.515625 \r\nQ 13.234375 26.265625 9.515625 29.90625 \r\nQ 5.8125 33.546875 5.8125 39.890625 \r\nQ 5.8125 47.609375 11.28125 51.796875 \r\nQ 16.75 56 26.8125 56 \r\nQ 31.78125 56 36.171875 55.265625 \r\nQ 40.578125 54.546875 44.28125 53.078125 \r\nz\r\n\" id=\"DejaVuSans-115\"/>\r\n      <path d=\"M 8.015625 75.875 \r\nL 15.828125 75.875 \r\nQ 23.140625 64.359375 26.78125 53.3125 \r\nQ 30.421875 42.28125 30.421875 31.390625 \r\nQ 30.421875 20.453125 26.78125 9.375 \r\nQ 23.140625 -1.703125 15.828125 -13.1875 \r\nL 8.015625 -13.1875 \r\nQ 14.5 -2 17.703125 9.0625 \r\nQ 20.90625 20.125 20.90625 31.390625 \r\nQ 20.90625 42.671875 17.703125 53.65625 \r\nQ 14.5 64.65625 8.015625 75.875 \r\nz\r\n\" id=\"DejaVuSans-41\"/>\r\n     </defs>\r\n     <g transform=\"translate(19.3575 236.15125)rotate(-90)scale(0.16 -0.16)\">\r\n      <use xlink:href=\"#DejaVuSans-84\"/>\r\n      <use x=\"60.818359\" xlink:href=\"#DejaVuSans-111\"/>\r\n      <use x=\"122\" xlink:href=\"#DejaVuSans-116\"/>\r\n      <use x=\"161.208984\" xlink:href=\"#DejaVuSans-97\"/>\r\n      <use x=\"222.488281\" xlink:href=\"#DejaVuSans-108\"/>\r\n      <use x=\"250.271484\" xlink:href=\"#DejaVuSans-32\"/>\r\n      <use x=\"282.058594\" xlink:href=\"#DejaVuSans-67\"/>\r\n      <use x=\"351.882812\" xlink:href=\"#DejaVuSans-111\"/>\r\n      <use x=\"413.064453\" xlink:href=\"#DejaVuSans-114\"/>\r\n      <use x=\"454.162109\" xlink:href=\"#DejaVuSans-114\"/>\r\n      <use x=\"495.244141\" xlink:href=\"#DejaVuSans-101\"/>\r\n      <use x=\"556.767578\" xlink:href=\"#DejaVuSans-108\"/>\r\n      <use x=\"584.550781\" xlink:href=\"#DejaVuSans-97\"/>\r\n      <use x=\"645.830078\" xlink:href=\"#DejaVuSans-116\"/>\r\n      <use x=\"685.039062\" xlink:href=\"#DejaVuSans-105\"/>\r\n      <use x=\"712.822266\" xlink:href=\"#DejaVuSans-111\"/>\r\n      <use x=\"774.003906\" xlink:href=\"#DejaVuSans-110\"/>\r\n      <use x=\"837.382812\" xlink:href=\"#DejaVuSans-32\"/>\r\n      <use x=\"869.169922\" xlink:href=\"#DejaVuSans-40\"/>\r\n      <use x=\"908.183594\" xlink:href=\"#DejaVuSans-110\"/>\r\n      <use x=\"971.5625\" xlink:href=\"#DejaVuSans-97\"/>\r\n      <use x=\"1032.841797\" xlink:href=\"#DejaVuSans-116\"/>\r\n      <use x=\"1072.050781\" xlink:href=\"#DejaVuSans-115\"/>\r\n      <use x=\"1124.150391\" xlink:href=\"#DejaVuSans-41\"/>\r\n     </g>\r\n    </g>\r\n   </g>\r\n   <g id=\"patch_23\">\r\n    <path d=\"M 49.588125 279 \r\nL 49.588125 7.2 \r\n\" style=\"fill:none;stroke:#000000;stroke-linecap:square;stroke-linejoin:miter;stroke-width:0.8;\"/>\r\n   </g>\r\n   <g id=\"patch_24\">\r\n    <path d=\"M 607.588125 279 \r\nL 607.588125 7.2 \r\n\" style=\"fill:none;stroke:#000000;stroke-linecap:square;stroke-linejoin:miter;stroke-width:0.8;\"/>\r\n   </g>\r\n   <g id=\"patch_25\">\r\n    <path d=\"M 49.588125 279 \r\nL 607.588125 279 \r\n\" style=\"fill:none;stroke:#000000;stroke-linecap:square;stroke-linejoin:miter;stroke-width:0.8;\"/>\r\n   </g>\r\n   <g id=\"patch_26\">\r\n    <path d=\"M 49.588125 7.2 \r\nL 607.588125 7.2 \r\n\" style=\"fill:none;stroke:#000000;stroke-linecap:square;stroke-linejoin:miter;stroke-width:0.8;\"/>\r\n   </g>\r\n  </g>\r\n </g>\r\n <defs>\r\n  <clipPath id=\"pb7fc795c3a\">\r\n   <rect height=\"271.8\" width=\"558\" x=\"49.588125\" y=\"7.2\"/>\r\n  </clipPath>\r\n </defs>\r\n</svg>\r\n",
      "image/png": "[encoded data removed]"
     },
     "metadata": {
      "needs_background": "light"
     }
    }
   ],
   "source": [
    "plt.figure(figsize=(10,5))\n",
    "plt.bar(range(topic_model.tcs.shape[0]), topic_model.tcs, color='#4e79a7', width=0.5)\n",
    "plt.xlabel('Topic', fontsize=16)\n",
    "plt.ylabel('Total Correlation (nats)', fontsize=16);"
   ]
  },
  {
   "cell_type": "code",
   "execution_count": 42,
   "metadata": {},
   "outputs": [
    {
     "output_type": "execute_result",
     "data": {
      "text/plain": "(1692, 20)"
     },
     "metadata": {},
     "execution_count": 42
    }
   ],
   "source": [
    "topic_model.log_z.shape # n_docs x k_topics"
   ]
  },
  {
   "cell_type": "code",
   "execution_count": 43,
   "metadata": {
    "tags": []
   },
   "outputs": [
    {
     "output_type": "stream",
     "name": "stdout",
     "text": "[3.78473547 3.18882827 3.06285579 2.87636888 2.81613573 2.55085212\n 2.41061305 2.30100618 2.16249753 2.09177489 1.96410068 1.86647504\n 1.84508012 1.76885278 1.53468127 1.50041949 1.20562057 1.15074405\n 1.06905588 1.05435345]\n"
    }
   ],
   "source": [
    "print(topic_model.tcs)"
   ]
  },
  {
   "cell_type": "code",
   "execution_count": 47,
   "metadata": {
    "tags": []
   },
   "outputs": [
    {
     "output_type": "stream",
     "name": "stdout",
     "text": "WARNING: Anchor word not in word column labels provided to CorEx: Political Philosophy\nWARNING: Anchor word not in word column labels provided to CorEx: Political Theory\nWARNING: Anchor word not in word column labels provided to CorEx: Social Theory\nWARNING: Anchor word not in word column labels provided to CorEx: Government\nWARNING: Anchor word not in word column labels provided to CorEx: Justice\nWARNING: Anchor word not in word column labels provided to CorEx: Rights\nWARNING: Anchor word not in word column labels provided to CorEx: Civic\nWARNING: Anchor word not in word column labels provided to CorEx: Philosophy of Science\nWARNING: Anchor word not in word column labels provided to CorEx: Science\nWARNING: Anchor word not in word column labels provided to CorEx: natural philosophy\nWARNING: Anchor word not in word column labels provided to CorEx: Philosophy of Religion\nWARNING: Anchor word not in word column labels provided to CorEx: Philosophy of Mind\nWARNING: Anchor word not in word column labels provided to CorEx: Metaphysics of Mind\nWARNING: Anchor word not in word column labels provided to CorEx: Philosophy of Mathematics\nWARNING: Anchor word not in word column labels provided to CorEx: Mathematics\nWARNING: Anchor word not in word column labels provided to CorEx: set theory\nWARNING: Anchor word not in word column labels provided to CorEx: Philosophy of Law\nWARNING: Anchor word not in word column labels provided to CorEx: Philosophy of Language\nWARNING: Anchor word not in word column labels provided to CorEx: Metaphysics\nWARNING: Anchor word not in word column labels provided to CorEx: Logic\nWARNING: Anchor word not in word column labels provided to CorEx: Latin American Philosophy\nWARNING: Anchor word not in word column labels provided to CorEx: Latin America\nWARNING: Anchor word not in word column labels provided to CorEx: Iberian Peninsula\nWARNING: Anchor word not in word column labels provided to CorEx: Jewish philosophy\nWARNING: Anchor word not in word column labels provided to CorEx: Judaic Philosophy\nWARNING: Anchor word not in word column labels provided to CorEx: Hebrew Philosophy\nWARNING: Anchor word not in word column labels provided to CorEx: Japanese philosophy\nWARNING: Anchor word not in word column labels provided to CorEx: Feminist Philosophy\nWARNING: Anchor word not in word column labels provided to CorEx: Ethics\nWARNING: Anchor word not in word column labels provided to CorEx: Ethical Philosophy\nWARNING: Anchor word not in word column labels provided to CorEx: Moral Philosophy\nWARNING: Anchor word not in word column labels provided to CorEx: Morals\nWARNING: Anchor word not in word column labels provided to CorEx: Morality\nWARNING: Anchor word not in word column labels provided to CorEx: Epistemology\nWARNING: Anchor word not in word column labels provided to CorEx: Existentialism\nWARNING: Anchor word not in word column labels provided to CorEx: Phenomenolgy\nWARNING: Anchor word not in word column labels provided to CorEx: Intentionality\nWARNING: Anchor word not in word column labels provided to CorEx: Hermeneutics\nWARNING: Anchor word not in word column labels provided to CorEx: Critical Theory\nWARNING: Anchor word not in word column labels provided to CorEx: PostModernism\nWARNING: Anchor word not in word column labels provided to CorEx: Chinese Philosophy\nWARNING: Anchor word not in word column labels provided to CorEx: Chinese Medicine\nWARNING: Anchor word not in word column labels provided to CorEx: Tibet\nWARNING: Anchor word not in word column labels provided to CorEx: Arabic and Islamic\nWARNING: Anchor word not in word column labels provided to CorEx: Islamic\nWARNING: Anchor word not in word column labels provided to CorEx: Middle Eastern\nWARNING: Anchor word not in word column labels provided to CorEx: Koran\nWARNING: Anchor word not in word column labels provided to CorEx: Muslim\nWARNING: Anchor word not in word column labels provided to CorEx: Africa\nWARNING: Anchor word not in word column labels provided to CorEx: African\nWARNING: Anchor word not in word column labels provided to CorEx: Africana\nWARNING: Anchor word not in word column labels provided to CorEx: African-American\nWARNING: Anchor word not in word column labels provided to CorEx: Aesthetic\nWARNING: Anchor word not in word column labels provided to CorEx: Aesthetics\nWARNING: Anchor word not in word column labels provided to CorEx: Art\nWARNING: Anchor word not in word column labels provided to CorEx: Film\nWARNING: Anchor word not in word column labels provided to CorEx: Music\nWARNING: Anchor word not in word column labels provided to CorEx: Dance\nWARNING: Anchor word not in word column labels provided to CorEx: Theater\n"
    },
    {
     "output_type": "execute_result",
     "data": {
      "text/plain": "<corextopic.corextopic.Corex at 0x1b42fd98710>"
     },
     "metadata": {},
     "execution_count": 47
    }
   ],
   "source": [
    "# Anchors designed to nudge the model towards measuring specific genres\n",
    "anchor_words = [\n",
    "    [\"Political Philosophy\", \"Political Theory\",  \"Social Theory\", \"Government\", \"Justice\", \"Rights\", \"Civic\"],\n",
    "    [\"Philosophy of Science\", \"Science\", \"natural philosophy\", \"scientific\"],\n",
    "    [\"Philosophy of Religion\", \"religion\", \"god\", \"faith\", \"theology\"],\n",
    "    [\"Philosophy of Mind\", \"Metaphysics of Mind\", \"mental\", \"consciousness\", \"perception\", \"cognition\", \"emotion\"],\n",
    "    [\"Philosophy of Mathematics\", \"Mathematics\", \"mathematical\", \"algebra\", \"calculus\", \"geometry\", \"probability\", \"statistics\", \"set theory\"],\n",
    "    [\"Philosophy of Law\", \"law\", \"tort\", \"legal\", \"testimony\"],\n",
    "    [\"Philosophy of Language\", \"semantics\", \"pragmatics\", \"linguistics\", \"grammar\"],\n",
    "    [\"Metaphysics\", \"causation\", \"ontology\"],\n",
    "    [\"Logic\", \"inference\", \"paradox\"],\n",
    "    [\"Latin American Philosophy\", \"Latin America\", \"Iberian Peninsula\", \"mexico\", \"chile\"],\n",
    "    [\"Jewish philosophy\", \"Judaic Philosophy\", \"Hebrew Philosophy\"],\n",
    "    [\"Japanese philosophy\"],\n",
    "    [\"Feminist Philosophy\", \"feminism\", \"feminist\"],\n",
    "    [\"Ethics\", \"Ethical Philosophy\", \"Moral Philosophy\", \"Morals\", \"Morality\"],\n",
    "    [\"Epistemology\",  \"epistemic\", \"knowledge\", \"truth\"],\n",
    "    [\"Existentialism\", \"Phenomenolgy\", \"Intentionality\", \"Hermeneutics\", \"Critical Theory\", \"PostModernism\"],\n",
    "    [\"Chinese Philosophy\", \"Chinese Medicine\", \"Tibet\"],\n",
    "    [\"Arabic and Islamic\", \"Islamic\", \"Middle Eastern\", \"Koran\", \"Muslim\"],\n",
    "    [\"Africa\", \"African\", \"Africana\", \"African-American\"],\n",
    "    [\"Aesthetic\", \"Aesthetics\", \"Art\", \"Film\", \"Music\", \"Dance\", \"Theater\"]\n",
    "]\n",
    "\n",
    "anchored_topic_model = ct.Corex(n_hidden=20, seed=2)\n",
    "anchored_topic_model.fit(doc_word, words=words, anchors=anchor_words, anchor_strength=10)\n",
    "\n"
   ]
  },
  {
   "cell_type": "code",
   "execution_count": 48,
   "metadata": {
    "tags": []
   },
   "outputs": [
    {
     "output_type": "stream",
     "name": "stdout",
     "text": "0: scientific,science,sciences,biology,evolutionary,scientists,explanation,study,natural,genetics\n1: religion,god,theology,faith,christian,religious,divine,theological,jewish,ibn\n2: mental,perception,consciousness,cognition,emotion,mind,experience,brain,world,objects\n3: mathematical,probability,calculus,geometry,algebra,statistics,mathematics,proof,theorem,theorems\n4: law,legal,testimony,political,social,institutions,moral,justice,rights,public\n5: semantics,linguistics,grammar,pragmatics,logic,language,logical,sentences,sentence,formal\n6: ontology,causation,causal,substances,structures,competition,substance,portions,reflect,yield\n7: inference,paradox,example,question,way,say,like,case,terms,things\n8: mexico,particular,order,differences,far,meaning,form,better,implications,subject\n9: feminist,feminism,women,feminists,gender,oppression,race,sex,including,western\n10: knowledge,truth,epistemic,true,belief,epistemological,epistemology,false,propositions,proposition\n11: cultural,literary,art,aesthetics,school,writing,german,culture,development,europe\n12: ethical,ethics,contemporary,judgments,approach,seriously,belong,target,ought,central\n13: sense,make,nature,role,account,specific,human,taken,debate,understand\n14: questions,computer,models,accounts,systems,conceptual,arise,applications,information,play\n15: plato,aristotle,greek,ancient,kant,live,end,athens,platonic,dialogues\n16: century,works,philosophy,philosopher,philosophical,later,writings,early,work,influence\n17: different,people,just,does,fact,good,actions,ways,term,certain\n18: issues,topics,entries,entry,focus,scope,biological,discussion,research,focuses\n19: hume,stated,arguments,skepticism,real,acceptance,offering,russell,book,views\n"
    }
   ],
   "source": [
    "# Print all topics from the CorEx topic model\n",
    "anchored_topics = anchored_topic_model.get_topics()\n",
    "for n,anchored_topic in enumerate(anchored_topics):\n",
    "    topic_words,_ = zip(*anchored_topic)\n",
    "    print('{}: '.format(n) + ','.join(topic_words))"
   ]
  },
  {
   "cell_type": "code",
   "execution_count": 46,
   "metadata": {
    "tags": []
   },
   "outputs": [
    {
     "output_type": "error",
     "ename": "AttributeError",
     "evalue": "'list' object has no attribute 'get_top_docs'",
     "traceback": [
      "\u001b[1;31m---------------------------------------------------------------------------\u001b[0m",
      "\u001b[1;31mAttributeError\u001b[0m                            Traceback (most recent call last)",
      "\u001b[1;32m<ipython-input-46-2f40a110e371>\u001b[0m in \u001b[0;36m<module>\u001b[1;34m\u001b[0m\n\u001b[1;32m----> 1\u001b[1;33m \u001b[0manchored_topics\u001b[0m\u001b[1;33m.\u001b[0m\u001b[0mget_top_docs\u001b[0m\u001b[1;33m(\u001b[0m\u001b[0mtopic\u001b[0m\u001b[1;33m=\u001b[0m\u001b[1;36m0\u001b[0m\u001b[1;33m,\u001b[0m \u001b[0mn_docs\u001b[0m\u001b[1;33m=\u001b[0m\u001b[1;36m20\u001b[0m\u001b[1;33m,\u001b[0m \u001b[0msort_by\u001b[0m\u001b[1;33m=\u001b[0m\u001b[1;34m'log_prob'\u001b[0m\u001b[1;33m)\u001b[0m\u001b[1;33m\u001b[0m\u001b[1;33m\u001b[0m\u001b[0m\n\u001b[0m",
      "\u001b[1;31mAttributeError\u001b[0m: 'list' object has no attribute 'get_top_docs'"
     ]
    }
   ],
   "source": [
    "anchored_topics.get_top_docs(topic=0, n_docs=20, sort_by='log_prob')"
   ]
  },
  {
   "cell_type": "code",
   "execution_count": null,
   "metadata": {},
   "outputs": [],
   "source": []
  }
 ],
 "metadata": {
  "language_info": {
   "codemirror_mode": {
    "name": "ipython",
    "version": 3
   },
   "file_extension": ".py",
   "mimetype": "text/x-python",
   "name": "python",
   "nbconvert_exporter": "python",
   "pygments_lexer": "ipython3",
   "version": 3
  },
  "orig_nbformat": 2,
  "kernelspec": {
   "name": "python_defaultSpec_1595788644683",
   "display_name": "Python 3.6.9 64-bit ('PythonData': conda)"
  }
 },
 "nbformat": 4,
 "nbformat_minor": 2
}