{
 "cells": [
  {
   "cell_type": "code",
   "execution_count": 32,
   "metadata": {},
   "outputs": [],
   "source": [
    "import pandas as pd \n",
    "import pymongo\n",
    "from pprint import pprint\n",
    "\n",
    "import numpy as np\n",
    "import scipy.sparse as ss\n",
    "import matplotlib.pyplot as plt\n",
    "\n",
    "from corextopic import corextopic as ct\n",
    "from corextopic import vis_topic as vt # jupyter notebooks will complain matplotlib is being loaded twice"
   ]
  },
  {
   "cell_type": "code",
   "execution_count": 33,
   "metadata": {},
   "outputs": [],
   "source": [
    "##### INIT GLOBAL VARIABLES#####\n",
    "\n",
    "#init Mongo\n",
    "conn = 'mongodb://localhost:27017'\n",
    "client = pymongo.MongoClient(conn)\n",
    "\n",
    "#connect to database\n",
    "db = client.visualizing_sep"
   ]
  },
  {
   "cell_type": "code",
   "execution_count": 34,
   "metadata": {},
   "outputs": [],
   "source": [
    "sep_df = pd.DataFrame(list(db.sep_entries.find({}, \n",
    "                                                projection=['title', 'main_text'], \n",
    "                                                sort=[('title',1)])))"
   ]
  },
  {
   "cell_type": "code",
   "execution_count": 35,
   "metadata": {
    "tags": []
   },
   "outputs": [
    {
     "output_type": "execute_result",
     "data": {
      "text/plain": "                        _id                                         title  \\\n0  5f1bb235896f82cdbda61077    17th and 18th Century Theories of Emotions   \n1  5f1baf2c896f82cdbda60ed2               18th Century British Aesthetics   \n2  5f1baf2d896f82cdbda60ed3                18th Century French Aesthetics   \n3  5f1baf2f896f82cdbda60ed4                18th Century German Aesthetics   \n4  5f1baf09896f82cdbda60ebf  18th Century German Philosophy Prior to Kant   \n\n                                           main_text  \n0  1. Introduction 1.1 Difficulties of Approach: ...  \n1  1. Internal-Sense Theories 1.1 Shaftesbury  Sh...  \n2  1. The Classical Legacy  French thinkers consi...  \n3  1. Leibniz and Wolff: Perfection and Truth   T...  \n4  1. Christian Thomasius (1655–1728)   Although ...  ",
      "text/html": "<div>\n<style scoped>\n    .dataframe tbody tr th:only-of-type {\n        vertical-align: middle;\n    }\n\n    .dataframe tbody tr th {\n        vertical-align: top;\n    }\n\n    .dataframe thead th {\n        text-align: right;\n    }\n</style>\n<table border=\"1\" class=\"dataframe\">\n  <thead>\n    <tr style=\"text-align: right;\">\n      <th></th>\n      <th>_id</th>\n      <th>title</th>\n      <th>main_text</th>\n    </tr>\n  </thead>\n  <tbody>\n    <tr>\n      <td>0</td>\n      <td>5f1bb235896f82cdbda61077</td>\n      <td>17th and 18th Century Theories of Emotions</td>\n      <td>1. Introduction 1.1 Difficulties of Approach: ...</td>\n    </tr>\n    <tr>\n      <td>1</td>\n      <td>5f1baf2c896f82cdbda60ed2</td>\n      <td>18th Century British Aesthetics</td>\n      <td>1. Internal-Sense Theories 1.1 Shaftesbury  Sh...</td>\n    </tr>\n    <tr>\n      <td>2</td>\n      <td>5f1baf2d896f82cdbda60ed3</td>\n      <td>18th Century French Aesthetics</td>\n      <td>1. The Classical Legacy  French thinkers consi...</td>\n    </tr>\n    <tr>\n      <td>3</td>\n      <td>5f1baf2f896f82cdbda60ed4</td>\n      <td>18th Century German Aesthetics</td>\n      <td>1. Leibniz and Wolff: Perfection and Truth   T...</td>\n    </tr>\n    <tr>\n      <td>4</td>\n      <td>5f1baf09896f82cdbda60ebf</td>\n      <td>18th Century German Philosophy Prior to Kant</td>\n      <td>1. Christian Thomasius (1655–1728)   Although ...</td>\n    </tr>\n  </tbody>\n</table>\n</div>"
     },
     "metadata": {},
     "execution_count": 35
    }
   ],
   "source": [
    "sep_df.head()"
   ]
  },
  {
   "cell_type": "code",
   "execution_count": 36,
   "metadata": {
    "tags": []
   },
   "outputs": [],
   "source": [
    "from sklearn.feature_extraction.text import TfidfVectorizer\n",
    "vectorizer = TfidfVectorizer(\n",
    "    max_df=.5,\n",
    "    min_df=10,\n",
    "    max_features=20000,\n",
    "    ngram_range=(1, 2),\n",
    "    norm=None,\n",
    "    binary=True,\n",
    "    use_idf=False,\n",
    "    sublinear_tf=False\n",
    ")\n",
    "vectorizer = vectorizer.fit(sep_df['main_text'])\n",
    "tfidf = vectorizer.transform(sep_df['main_text'])\n",
    "vocab = vectorizer.get_feature_names()\n"
   ]
  },
  {
   "cell_type": "code",
   "execution_count": 37,
   "metadata": {
    "tags": []
   },
   "outputs": [
    {
     "output_type": "stream",
     "name": "stdout",
     "text": "<1692x20000 sparse matrix of type '<class 'numpy.float64'>'\n\twith 4651783 stored elements in Compressed Sparse Row format>\n20000\n"
    }
   ],
   "source": [
    "pprint(tfidf)\n",
    "pprint(len(vocab))"
   ]
  },
  {
   "cell_type": "code",
   "execution_count": 38,
   "metadata": {},
   "outputs": [],
   "source": [
    "# Anchors designed to nudge the model towards measuring specific genres\n",
    "anchor_words = [\n",
    "    [\"Political Philosophy\", \"Political Theory\",  \"Social Theory\", \"Government\", \"Justice\", \"Rights\", \"Civic\", \"Political\", \"Political Philosopher\", \"Democracy\"],\n",
    "    [\"Philosophy of Science\", \"Science\", \"natural philosophy\", \"scientific\"],\n",
    "    [\"Philosophy of Biology\", 'biology', 'biological'],\n",
    "    [\"Evolution\", \"biology\", \"evolutionary\"],\n",
    "    [\"Genetics\", \"DNA\", \"genes\"],\n",
    "    [\"Physics\", \"relativity\", \"space\", \"time\"],\n",
    "    ['Quantum', \"Quantum Theory\", \"Quantum Mechanics\"],\n",
    "    [\"Philosophy of Religion\", \"religion\", \"god\", \"faith\", \"theology\"],\n",
    "    [\"Philosophy of Mind\", \"Metaphysics of Mind\", \"mental\", \"consciousness\", \"perception\", \"cognition\", \"emotion\"],\n",
    "    [\"Philosophy of Mathematics\", \"Mathematics\", \"mathematical\", \"algebra\", \"calculus\", \"geometry\", \"probability\", \"statistics\", \"set theory\"],\n",
    "    [\"Philosophy of Law\", \"law\", \"tort\", \"legal\", \"testimony\"],\n",
    "    [\"Philosophy of Language\", \"semantics\", \"pragmatics\", \"linguistics\", \"grammar\"],\n",
    "    [\"Metaphysics\", \"causation\", \"ontology\", \"metaphysical\", \"mereology\"],\n",
    "    [\"Logic\", \"inference\", \"logician\", \"conditionals\", \"classical logic\", \"modal logic\"],\n",
    "    [\"Latin American Philosophy\", \"Latin America\", \"Iberian Peninsula\", \"mexico\", \"chile\"],\n",
    "    [\"Jewish philosophy\", \"Judaic Philosophy\", \"Hebrew Philosophy\", \"rabbi\", \"Jewish Philosopher\"],\n",
    "    [\"Japanese philosophy\"],\n",
    "    [\"Feminist Philosophy\", \"feminism\", \"feminist\", \"political\"],\n",
    "    [\"Ethics\", \"Ethical Philosophy\", \"Moral Philosophy\", \"Morals\", \"Morality\"],\n",
    "    [\"Epistemology\",  \"epistemic\", \"knowledge\", \"truth\"],\n",
    "    [\"Existentialism\", 'existential', \"Jean-Paul Sartre\", \"Camus\", \"Kierkagaard\", \"Nietzsche\"],\n",
    "    [\"Phenomenolgy\", \"Intentionality\", \"structures of experience\", \"Edmund Husserl\", \"Martin Heidegger\", \"Maurice Merleau-Ponty\", \"Jean-Paul Sartre\"],\n",
    "    [\"Hermeneutics\", \"Gadamer\"],\n",
    "    [\"Critical Theory\", \"Habermas\", \"Adorno\"],\n",
    "    [\"PostModernism\", \"Foucault\", \"Derrida\"],\n",
    "    [\"Chinese Philosophy\", \"Chinese Medicine\", \"Tibet\"],\n",
    "    [\"Arabic and Islamic\", \"Islamic\", \"Middle Eastern\", \"Koran\", \"Muslim\"],\n",
    "    [\"Africa\", \"African\", \"Africana\", \"African-American\", \"political\"],\n",
    "    [\"Aesthetic\", \"Aesthetics\", \"Art\", \"Film\", \"Music\", \"Dance\", \"Theater\"],\n",
    "    # history of philosophy\n",
    "    ['latin', 'greek', 'ancient', 'ancient philosophy'],\n",
    "    ['medieval philosophy', 'medieval', 'middle ages'],\n",
    "    ['modern philosophy', '16th Century', 'Sixteenth Century', '17th Century', 'Seventeenth Century', '18th Century', 'Eighteenth Century', '19th Century', 'Nineteenth Century'],\n",
    "    ['contemporary philosophy', '20th Century', 'Twentieth Century']\n",
    "]\n",
    "anchors = [\n",
    "    [a for a in topic if a in vocab]\n",
    "    for topic in anchor_words\n",
    "]\n",
    "\n",
    "model = ct.Corex(n_hidden=35, seed=42)\n",
    "model = model.fit(\n",
    "    tfidf,\n",
    "    words=vocab,\n",
    "    anchors=anchors, # Pass the anchors in here\n",
    "    anchor_strength=10 # Tell the model how much it should rely on the anchors\n",
    ")"
   ]
  },
  {
   "cell_type": "code",
   "execution_count": 39,
   "metadata": {
    "tags": []
   },
   "outputs": [
    {
     "output_type": "stream",
     "name": "stdout",
     "text": "Topic #1: natural philosophy, he was, was born, wrote, published, writings, he had, the university, became, university\nTopic #2: biological, biology, the biological, of biological, organisms, organism, biologically, genetic, the organism, reproduction\nTopic #3: biology, evolutionary, biology and, of biology, the evolutionary, natural selection, evolution, of evolution, selection, darwin\nTopic #4: relativity, properties of, atomic, relative to, primitive, lewis, be represented, representation, paper, specified\nTopic #5: god, theology, religion, faith, of god, divine, god is, god and, that god, theological\nTopic #6: consciousness, perception, cognition, emotion, experience of, experience and, experiences, of consciousness, conscious, of experience\nTopic #7: mathematical, calculus, geometry, algebra, set theory, probability, statistics, mathematics, theorem, axioms\nTopic #8: legal, morally, of moral, the moral, morality, harm, goods, well being, justice, is morally\nTopic #9: semantics, grammar, linguistics, semantic, sentences, semantics of, sentence, the semantics, the sentence, of sentences\nTopic #10: ontology, causation, entities, ontological, ontology of, properties and, of objects, properties are, objects are, an object\nTopic #11: classical logic, modal logic, inference, conditionals, logician, the set, operator, quantifiers, theoretic, if and\nTopic #12: political, feminist, society, rights, institutions, of social, economic, the social, public, and social\nTopic #13: epistemic, the relevant, intuitively, if this, in case, in section, one way, assuming, assume that, idea is\nTopic #14: existential, the existential, existentially, exists is, exists the, readings of, expression to, the in, constitutes an, are first\nTopic #15: political, and political, the political, of political, political and, politics, political philosophy, in political, political theory, or political\nTopic #16: greek, latin, ancient, aristotle, soul, the soul, of aristotle, aristotelian, the greek, aristotle and\nTopic #17: et al, 1991, 1992, 1986, 2015, 2014, 1988, 1989\nTopic #18: modern philosophy, sciences, of science, science and, of scientific, the scientific, methodological, studies, the sciences, science of\nTopic #19: contemporary philosophy, challenges, ways that, broader, conceptions of, constitutive, broadly, accounts of, the extent, conceptions\nTopic #20: beliefs, that she, of her, beliefs and, agent, she is, beliefs about, of belief, agents, justified\nTopic #21: but we, we need, we would, but what, we will, ask, we think, and we, so we, we cannot\nTopic #22: intellectual, philosophy and, books, texts, teaching, literary, philosophy as, of philosophy, works of, school\nTopic #23: motion, physics, time and, series, of time, series of, generation, of motion, of matter, earth\nTopic #24: desires, capacity, psychological, our own, ourselves, oneself, judgment, one own, acts, me\nTopic #25: 35, 34, 51, 36, 27, 42, 33, 21, 28, 18\nTopic #26: cultural, culture, practices, control, activities, cultures, and cultural, organization, emphasis, emphasis on\nTopic #27: about what, worry, count, plausibly, about how, count as, appeal to, likely to, theorists, counts\nTopic #28: suppose that, but if, be that, objection, we might, thinks, isn, deny that, it might, after all\nTopic #29: of things, the thing, substance, things and, of thing, things in, things are, of something, thing is, things that\nTopic #30: conflict, seek, laws and, govern, secure, need for, the need, the laws, threat, for their\nTopic #31: outcomes, low, high, the probability, increase, probability of, outcome, distribution, statistical, constraints\nTopic #32: lives, ethical, love, life and, of life, education, human beings, freedom, to live, happiness\nTopic #33: models, variables, models of, variable, computational, linear, computer, model of, domain, structures\nTopic #34: unity, unity of, as he, metaphysics, doctrine, ultimate, qualities, doctrine of, nature and, sensation\nTopic #35: be true, it follows, sense in, truth of, statement, the thesis, thesis that, the conclusion, it were, are two\n"
    }
   ],
   "source": [
    "for i, topic_ngrams in enumerate(model.get_topics(n_words=10)):\n",
    "    topic_ngrams = [ngram[0] for ngram in topic_ngrams if ngram[1] > 0]\n",
    "    print(\"Topic #{}: {}\".format(i+1, \", \".join(topic_ngrams)))"
   ]
  },
  {
   "cell_type": "code",
   "execution_count": 40,
   "metadata": {},
   "outputs": [],
   "source": [
    "topic_df = pd.DataFrame(\n",
    "    model.transform(tfidf), \n",
    "    columns=[\"topic_{}\".format(i+1) for i in range(35)]\n",
    ").astype(float)\n",
    "topic_df.index = sep_df.index\n",
    "df = pd.concat([sep_df, topic_df], axis=1)"
   ]
  },
  {
   "cell_type": "code",
   "execution_count": 41,
   "metadata": {},
   "outputs": [
    {
     "output_type": "execute_result",
     "data": {
      "text/plain": "                           _id                title  \\\n989   5f1bb603896f82cdbda612ec  Moral Particularism   \n1637  5f1baffe896f82cdbda60f4d      Walter Benjamin   \n1217  5f1bb777896f82cdbda613b9              Proclus   \n1175  5f1bb724896f82cdbda6138a      Plato’s Timaeus   \n1373  5f1bb8c7896f82cdbda6147b        Shared Agency   \n\n                                              main_text  topic_1  topic_2  \\\n989   1. Two Conceptions of Moral Principles   If we...      0.0      0.0   \n1637  1. Biographical Sketch Walter Bendix Schoenfli...      1.0      0.0   \n1217  1. Life and Works   Since Proclus’ extant work...      1.0      0.0   \n1175  1. Overview of the Dialogue  The opening conve...      1.0      0.0   \n1373  1. The traditional ontological problem and the...      0.0      0.0   \n\n      topic_3  topic_4  topic_5  topic_6  topic_7  ...  topic_26  topic_27  \\\n989       0.0      0.0      0.0      0.0      0.0  ...       0.0       1.0   \n1637      1.0      0.0      1.0      1.0      0.0  ...       1.0       0.0   \n1217      0.0      0.0      1.0      0.0      1.0  ...       0.0       0.0   \n1175      0.0      0.0      1.0      0.0      0.0  ...       0.0       0.0   \n1373      0.0      0.0      0.0      0.0      0.0  ...       0.0       1.0   \n\n      topic_28  topic_29  topic_30  topic_31  topic_32  topic_33  topic_34  \\\n989        1.0       0.0       1.0       0.0       0.0       0.0       0.0   \n1637       0.0       1.0       1.0       0.0       1.0       1.0       1.0   \n1217       0.0       1.0       1.0       0.0       1.0       0.0       1.0   \n1175       0.0       1.0       0.0       0.0       1.0       0.0       1.0   \n1373       1.0       0.0       0.0       0.0       0.0       0.0       0.0   \n\n      topic_35  \n989        1.0  \n1637       1.0  \n1217       1.0  \n1175       0.0  \n1373       0.0  \n\n[5 rows x 38 columns]",
      "text/html": "<div>\n<style scoped>\n    .dataframe tbody tr th:only-of-type {\n        vertical-align: middle;\n    }\n\n    .dataframe tbody tr th {\n        vertical-align: top;\n    }\n\n    .dataframe thead th {\n        text-align: right;\n    }\n</style>\n<table border=\"1\" class=\"dataframe\">\n  <thead>\n    <tr style=\"text-align: right;\">\n      <th></th>\n      <th>_id</th>\n      <th>title</th>\n      <th>main_text</th>\n      <th>topic_1</th>\n      <th>topic_2</th>\n      <th>topic_3</th>\n      <th>topic_4</th>\n      <th>topic_5</th>\n      <th>topic_6</th>\n      <th>topic_7</th>\n      <th>...</th>\n      <th>topic_26</th>\n      <th>topic_27</th>\n      <th>topic_28</th>\n      <th>topic_29</th>\n      <th>topic_30</th>\n      <th>topic_31</th>\n      <th>topic_32</th>\n      <th>topic_33</th>\n      <th>topic_34</th>\n      <th>topic_35</th>\n    </tr>\n  </thead>\n  <tbody>\n    <tr>\n      <td>989</td>\n      <td>5f1bb603896f82cdbda612ec</td>\n      <td>Moral Particularism</td>\n      <td>1. Two Conceptions of Moral Principles   If we...</td>\n      <td>0.0</td>\n      <td>0.0</td>\n      <td>0.0</td>\n      <td>0.0</td>\n      <td>0.0</td>\n      <td>0.0</td>\n      <td>0.0</td>\n      <td>...</td>\n      <td>0.0</td>\n      <td>1.0</td>\n      <td>1.0</td>\n      <td>0.0</td>\n      <td>1.0</td>\n      <td>0.0</td>\n      <td>0.0</td>\n      <td>0.0</td>\n      <td>0.0</td>\n      <td>1.0</td>\n    </tr>\n    <tr>\n      <td>1637</td>\n      <td>5f1baffe896f82cdbda60f4d</td>\n      <td>Walter Benjamin</td>\n      <td>1. Biographical Sketch Walter Bendix Schoenfli...</td>\n      <td>1.0</td>\n      <td>0.0</td>\n      <td>1.0</td>\n      <td>0.0</td>\n      <td>1.0</td>\n      <td>1.0</td>\n      <td>0.0</td>\n      <td>...</td>\n      <td>1.0</td>\n      <td>0.0</td>\n      <td>0.0</td>\n      <td>1.0</td>\n      <td>1.0</td>\n      <td>0.0</td>\n      <td>1.0</td>\n      <td>1.0</td>\n      <td>1.0</td>\n      <td>1.0</td>\n    </tr>\n    <tr>\n      <td>1217</td>\n      <td>5f1bb777896f82cdbda613b9</td>\n      <td>Proclus</td>\n      <td>1. Life and Works   Since Proclus’ extant work...</td>\n      <td>1.0</td>\n      <td>0.0</td>\n      <td>0.0</td>\n      <td>0.0</td>\n      <td>1.0</td>\n      <td>0.0</td>\n      <td>1.0</td>\n      <td>...</td>\n      <td>0.0</td>\n      <td>0.0</td>\n      <td>0.0</td>\n      <td>1.0</td>\n      <td>1.0</td>\n      <td>0.0</td>\n      <td>1.0</td>\n      <td>0.0</td>\n      <td>1.0</td>\n      <td>1.0</td>\n    </tr>\n    <tr>\n      <td>1175</td>\n      <td>5f1bb724896f82cdbda6138a</td>\n      <td>Plato’s Timaeus</td>\n      <td>1. Overview of the Dialogue  The opening conve...</td>\n      <td>1.0</td>\n      <td>0.0</td>\n      <td>0.0</td>\n      <td>0.0</td>\n      <td>1.0</td>\n      <td>0.0</td>\n      <td>0.0</td>\n      <td>...</td>\n      <td>0.0</td>\n      <td>0.0</td>\n      <td>0.0</td>\n      <td>1.0</td>\n      <td>0.0</td>\n      <td>0.0</td>\n      <td>1.0</td>\n      <td>0.0</td>\n      <td>1.0</td>\n      <td>0.0</td>\n    </tr>\n    <tr>\n      <td>1373</td>\n      <td>5f1bb8c7896f82cdbda6147b</td>\n      <td>Shared Agency</td>\n      <td>1. The traditional ontological problem and the...</td>\n      <td>0.0</td>\n      <td>0.0</td>\n      <td>0.0</td>\n      <td>0.0</td>\n      <td>0.0</td>\n      <td>0.0</td>\n      <td>0.0</td>\n      <td>...</td>\n      <td>0.0</td>\n      <td>1.0</td>\n      <td>1.0</td>\n      <td>0.0</td>\n      <td>0.0</td>\n      <td>0.0</td>\n      <td>0.0</td>\n      <td>0.0</td>\n      <td>0.0</td>\n      <td>0.0</td>\n    </tr>\n  </tbody>\n</table>\n<p>5 rows × 38 columns</p>\n</div>"
     },
     "metadata": {},
     "execution_count": 41
    }
   ],
   "source": [
    "df.sample(5, random_state=42)"
   ]
  },
  {
   "cell_type": "code",
   "execution_count": 48,
   "metadata": {},
   "outputs": [
    {
     "output_type": "execute_result",
     "data": {
      "text/plain": "                           _id                             title  \\\n3     5f1baf2f896f82cdbda60ed4    18th Century German Aesthetics   \n5     5f1baf30896f82cdbda60ed5  19th Century Romantic Aesthetics   \n9     5f1baf0e896f82cdbda60ec2                        Abhidharma   \n12    5f1baf13896f82cdbda60ec6                  Abraham Ibn Daud   \n13    5f1bb3f3896f82cdbda6117a                  Abraham Ibn Ezra   \n...                        ...                               ...   \n1685  5f1baf4b896f82cdbda60ee6                          al-Kindi   \n1686  5f1bb22e896f82cdbda61073                Émilie du Châtelet   \n1687  5f1bb0fb896f82cdbda60fd4       Étienne Bonnot de Condillac   \n1690  5f1bb8c5896f82cdbda6147a                         Śāntideva   \n1691  5f1baf43896f82cdbda60ee0         ‘Abd al-Latif al-Baghdadi   \n\n                                              main_text  topic_1  topic_2  \\\n3     1. Leibniz and Wolff: Perfection and Truth   T...      1.0      0.0   \n5     1. The Primacy of the Aesthetic  One common co...      0.0      1.0   \n9     1. Abhidharma: its origins and texts   The ear...      0.0      0.0   \n12    1. Introduction   In the introduction to ha-Em...      1.0      0.0   \n13    1. Life and Works   Ibn Ezra was likely born i...      1.0      1.0   \n...                                                 ...      ...      ...   \n1685  1. Life and Works 1.1 Life   Al-Kindi was a me...      1.0      0.0   \n1686  1. Du Châtelet's Magnum Opus on Natural Philos...      1.0      0.0   \n1687  1. Life and Works  Condillac was born on Septe...      1.0      0.0   \n1690  1. Biography: History and Legends  There is ve...      0.0      0.0   \n1691  Life and Works 1.1 Life ‘Abd al-Latif’s intell...      1.0      0.0   \n\n      topic_3  topic_4  topic_5  topic_6  topic_7  ...  topic_26  topic_27  \\\n3         0.0      1.0      1.0      1.0      1.0  ...       1.0       1.0   \n5         0.0      0.0      1.0      1.0      0.0  ...       1.0       0.0   \n9         0.0      1.0      0.0      1.0      0.0  ...       1.0       0.0   \n12        0.0      0.0      1.0      0.0      0.0  ...       0.0       0.0   \n13        0.0      0.0      1.0      0.0      1.0  ...       0.0       0.0   \n...       ...      ...      ...      ...      ...  ...       ...       ...   \n1685      0.0      0.0      1.0      0.0      1.0  ...       0.0       0.0   \n1686      0.0      0.0      1.0      0.0      1.0  ...       0.0       0.0   \n1687      0.0      1.0      1.0      1.0      1.0  ...       1.0       1.0   \n1690      0.0      0.0      0.0      1.0      0.0  ...       1.0       1.0   \n1691      0.0      0.0      1.0      0.0      0.0  ...       0.0       0.0   \n\n      topic_28  topic_29  topic_30  topic_31  topic_32  topic_33  topic_34  \\\n3          1.0       1.0       1.0       1.0       1.0       1.0       1.0   \n5          0.0       1.0       1.0       0.0       1.0       0.0       1.0   \n9          0.0       1.0       0.0       0.0       0.0       1.0       1.0   \n12         0.0       1.0       0.0       0.0       1.0       0.0       1.0   \n13         0.0       0.0       1.0       0.0       0.0       0.0       1.0   \n...        ...       ...       ...       ...       ...       ...       ...   \n1685       0.0       1.0       0.0       0.0       0.0       0.0       1.0   \n1686       0.0       1.0       1.0       0.0       0.0       0.0       1.0   \n1687       1.0       1.0       1.0       0.0       1.0       0.0       1.0   \n1690       1.0       1.0       0.0       0.0       1.0       0.0       1.0   \n1691       0.0       1.0       0.0       0.0       1.0       0.0       1.0   \n\n      topic_35  \n3          1.0  \n5          0.0  \n9          0.0  \n12         1.0  \n13         0.0  \n...        ...  \n1685       0.0  \n1686       1.0  \n1687       1.0  \n1690       0.0  \n1691       0.0  \n\n[643 rows x 38 columns]",
      "text/html": "<div>\n<style scoped>\n    .dataframe tbody tr th:only-of-type {\n        vertical-align: middle;\n    }\n\n    .dataframe tbody tr th {\n        vertical-align: top;\n    }\n\n    .dataframe thead th {\n        text-align: right;\n    }\n</style>\n<table border=\"1\" class=\"dataframe\">\n  <thead>\n    <tr style=\"text-align: right;\">\n      <th></th>\n      <th>_id</th>\n      <th>title</th>\n      <th>main_text</th>\n      <th>topic_1</th>\n      <th>topic_2</th>\n      <th>topic_3</th>\n      <th>topic_4</th>\n      <th>topic_5</th>\n      <th>topic_6</th>\n      <th>topic_7</th>\n      <th>...</th>\n      <th>topic_26</th>\n      <th>topic_27</th>\n      <th>topic_28</th>\n      <th>topic_29</th>\n      <th>topic_30</th>\n      <th>topic_31</th>\n      <th>topic_32</th>\n      <th>topic_33</th>\n      <th>topic_34</th>\n      <th>topic_35</th>\n    </tr>\n  </thead>\n  <tbody>\n    <tr>\n      <td>3</td>\n      <td>5f1baf2f896f82cdbda60ed4</td>\n      <td>18th Century German Aesthetics</td>\n      <td>1. Leibniz and Wolff: Perfection and Truth   T...</td>\n      <td>1.0</td>\n      <td>0.0</td>\n      <td>0.0</td>\n      <td>1.0</td>\n      <td>1.0</td>\n      <td>1.0</td>\n      <td>1.0</td>\n      <td>...</td>\n      <td>1.0</td>\n      <td>1.0</td>\n      <td>1.0</td>\n      <td>1.0</td>\n      <td>1.0</td>\n      <td>1.0</td>\n      <td>1.0</td>\n      <td>1.0</td>\n      <td>1.0</td>\n      <td>1.0</td>\n    </tr>\n    <tr>\n      <td>5</td>\n      <td>5f1baf30896f82cdbda60ed5</td>\n      <td>19th Century Romantic Aesthetics</td>\n      <td>1. The Primacy of the Aesthetic  One common co...</td>\n      <td>0.0</td>\n      <td>1.0</td>\n      <td>0.0</td>\n      <td>0.0</td>\n      <td>1.0</td>\n      <td>1.0</td>\n      <td>0.0</td>\n      <td>...</td>\n      <td>1.0</td>\n      <td>0.0</td>\n      <td>0.0</td>\n      <td>1.0</td>\n      <td>1.0</td>\n      <td>0.0</td>\n      <td>1.0</td>\n      <td>0.0</td>\n      <td>1.0</td>\n      <td>0.0</td>\n    </tr>\n    <tr>\n      <td>9</td>\n      <td>5f1baf0e896f82cdbda60ec2</td>\n      <td>Abhidharma</td>\n      <td>1. Abhidharma: its origins and texts   The ear...</td>\n      <td>0.0</td>\n      <td>0.0</td>\n      <td>0.0</td>\n      <td>1.0</td>\n      <td>0.0</td>\n      <td>1.0</td>\n      <td>0.0</td>\n      <td>...</td>\n      <td>1.0</td>\n      <td>0.0</td>\n      <td>0.0</td>\n      <td>1.0</td>\n      <td>0.0</td>\n      <td>0.0</td>\n      <td>0.0</td>\n      <td>1.0</td>\n      <td>1.0</td>\n      <td>0.0</td>\n    </tr>\n    <tr>\n      <td>12</td>\n      <td>5f1baf13896f82cdbda60ec6</td>\n      <td>Abraham Ibn Daud</td>\n      <td>1. Introduction   In the introduction to ha-Em...</td>\n      <td>1.0</td>\n      <td>0.0</td>\n      <td>0.0</td>\n      <td>0.0</td>\n      <td>1.0</td>\n      <td>0.0</td>\n      <td>0.0</td>\n      <td>...</td>\n      <td>0.0</td>\n      <td>0.0</td>\n      <td>0.0</td>\n      <td>1.0</td>\n      <td>0.0</td>\n      <td>0.0</td>\n      <td>1.0</td>\n      <td>0.0</td>\n      <td>1.0</td>\n      <td>1.0</td>\n    </tr>\n    <tr>\n      <td>13</td>\n      <td>5f1bb3f3896f82cdbda6117a</td>\n      <td>Abraham Ibn Ezra</td>\n      <td>1. Life and Works   Ibn Ezra was likely born i...</td>\n      <td>1.0</td>\n      <td>1.0</td>\n      <td>0.0</td>\n      <td>0.0</td>\n      <td>1.0</td>\n      <td>0.0</td>\n      <td>1.0</td>\n      <td>...</td>\n      <td>0.0</td>\n      <td>0.0</td>\n      <td>0.0</td>\n      <td>0.0</td>\n      <td>1.0</td>\n      <td>0.0</td>\n      <td>0.0</td>\n      <td>0.0</td>\n      <td>1.0</td>\n      <td>0.0</td>\n    </tr>\n    <tr>\n      <td>...</td>\n      <td>...</td>\n      <td>...</td>\n      <td>...</td>\n      <td>...</td>\n      <td>...</td>\n      <td>...</td>\n      <td>...</td>\n      <td>...</td>\n      <td>...</td>\n      <td>...</td>\n      <td>...</td>\n      <td>...</td>\n      <td>...</td>\n      <td>...</td>\n      <td>...</td>\n      <td>...</td>\n      <td>...</td>\n      <td>...</td>\n      <td>...</td>\n      <td>...</td>\n      <td>...</td>\n    </tr>\n    <tr>\n      <td>1685</td>\n      <td>5f1baf4b896f82cdbda60ee6</td>\n      <td>al-Kindi</td>\n      <td>1. Life and Works 1.1 Life   Al-Kindi was a me...</td>\n      <td>1.0</td>\n      <td>0.0</td>\n      <td>0.0</td>\n      <td>0.0</td>\n      <td>1.0</td>\n      <td>0.0</td>\n      <td>1.0</td>\n      <td>...</td>\n      <td>0.0</td>\n      <td>0.0</td>\n      <td>0.0</td>\n      <td>1.0</td>\n      <td>0.0</td>\n      <td>0.0</td>\n      <td>0.0</td>\n      <td>0.0</td>\n      <td>1.0</td>\n      <td>0.0</td>\n    </tr>\n    <tr>\n      <td>1686</td>\n      <td>5f1bb22e896f82cdbda61073</td>\n      <td>Émilie du Châtelet</td>\n      <td>1. Du Châtelet's Magnum Opus on Natural Philos...</td>\n      <td>1.0</td>\n      <td>0.0</td>\n      <td>0.0</td>\n      <td>0.0</td>\n      <td>1.0</td>\n      <td>0.0</td>\n      <td>1.0</td>\n      <td>...</td>\n      <td>0.0</td>\n      <td>0.0</td>\n      <td>0.0</td>\n      <td>1.0</td>\n      <td>1.0</td>\n      <td>0.0</td>\n      <td>0.0</td>\n      <td>0.0</td>\n      <td>1.0</td>\n      <td>1.0</td>\n    </tr>\n    <tr>\n      <td>1687</td>\n      <td>5f1bb0fb896f82cdbda60fd4</td>\n      <td>Étienne Bonnot de Condillac</td>\n      <td>1. Life and Works  Condillac was born on Septe...</td>\n      <td>1.0</td>\n      <td>0.0</td>\n      <td>0.0</td>\n      <td>1.0</td>\n      <td>1.0</td>\n      <td>1.0</td>\n      <td>1.0</td>\n      <td>...</td>\n      <td>1.0</td>\n      <td>1.0</td>\n      <td>1.0</td>\n      <td>1.0</td>\n      <td>1.0</td>\n      <td>0.0</td>\n      <td>1.0</td>\n      <td>0.0</td>\n      <td>1.0</td>\n      <td>1.0</td>\n    </tr>\n    <tr>\n      <td>1690</td>\n      <td>5f1bb8c5896f82cdbda6147a</td>\n      <td>Śāntideva</td>\n      <td>1. Biography: History and Legends  There is ve...</td>\n      <td>0.0</td>\n      <td>0.0</td>\n      <td>0.0</td>\n      <td>0.0</td>\n      <td>0.0</td>\n      <td>1.0</td>\n      <td>0.0</td>\n      <td>...</td>\n      <td>1.0</td>\n      <td>1.0</td>\n      <td>1.0</td>\n      <td>1.0</td>\n      <td>0.0</td>\n      <td>0.0</td>\n      <td>1.0</td>\n      <td>0.0</td>\n      <td>1.0</td>\n      <td>0.0</td>\n    </tr>\n    <tr>\n      <td>1691</td>\n      <td>5f1baf43896f82cdbda60ee0</td>\n      <td>‘Abd al-Latif al-Baghdadi</td>\n      <td>Life and Works 1.1 Life ‘Abd al-Latif’s intell...</td>\n      <td>1.0</td>\n      <td>0.0</td>\n      <td>0.0</td>\n      <td>0.0</td>\n      <td>1.0</td>\n      <td>0.0</td>\n      <td>0.0</td>\n      <td>...</td>\n      <td>0.0</td>\n      <td>0.0</td>\n      <td>0.0</td>\n      <td>1.0</td>\n      <td>0.0</td>\n      <td>0.0</td>\n      <td>1.0</td>\n      <td>0.0</td>\n      <td>1.0</td>\n      <td>0.0</td>\n    </tr>\n  </tbody>\n</table>\n<p>643 rows × 38 columns</p>\n</div>"
     },
     "metadata": {},
     "execution_count": 48
    }
   ],
   "source": [
    "df.loc[df['topic_23']==1.0]"
   ]
  },
  {
   "cell_type": "code",
   "execution_count": null,
   "metadata": {},
   "outputs": [],
   "source": []
  }
 ],
 "metadata": {
  "language_info": {
   "codemirror_mode": {
    "name": "ipython",
    "version": 3
   },
   "file_extension": ".py",
   "mimetype": "text/x-python",
   "name": "python",
   "nbconvert_exporter": "python",
   "pygments_lexer": "ipython3",
   "version": 3
  },
  "orig_nbformat": 2,
  "kernelspec": {
   "name": "python_defaultSpec_1595793131420",
   "display_name": "Python 3.6.9 64-bit ('PythonData': conda)"
  }
 },
 "nbformat": 4,
 "nbformat_minor": 2
}