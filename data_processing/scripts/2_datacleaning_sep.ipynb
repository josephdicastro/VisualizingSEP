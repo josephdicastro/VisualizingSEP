{
 "cells": [
  {
   "cell_type": "code",
   "execution_count": 1,
   "metadata": {},
   "outputs": [],
   "source": [
    "### THIS SCRIPT CLEANS THE COLLECTED SEP ###   "
   ]
  },
  {
   "cell_type": "code",
   "execution_count": 1,
   "metadata": {},
   "outputs": [],
   "source": [
    "import pymongo \n",
    "import requests\n",
    "import json\n",
    "\n",
    "from tqdm import tqdm\n",
    "from bson.objectid import ObjectId\n",
    "from pprint import pprint\n",
    "\n",
    "import lib_sepinpho as sep\n",
    "\n",
    "##### INIT GLOBAL VARIABLES#####\n",
    "\n",
    "#init Mongo\n",
    "conn = 'mongodb://localhost:27017'\n",
    "client = pymongo.MongoClient(conn)\n",
    "\n",
    "#create database\n",
    "db = client.visualizing_sep"
   ]
  },
  {
   "cell_type": "code",
   "execution_count": 32,
   "metadata": {
    "tags": []
   },
   "outputs": [
    {
     "output_type": "stream",
     "name": "stdout",
     "text": "[{'_id': ObjectId('5f109bb0789a3d802df9a834'), 'title': 'Hegel’s Dialectics'},\n {'_id': ObjectId('5f109bdc789a3d802df9a864'),\n  'title': 'Ibn Sina’s Natural Philosophy'},\n {'_id': ObjectId('5f109d6c789a3d802df9a9fe'),\n  'title': 'Nietzsche’s Life and Works'},\n {'_id': ObjectId('5f109ee6789a3d802df9ab7d'), 'title': 'Sophie de Grouchy'}]\n"
    }
   ],
   "source": [
    "##### Cleaning Sep_Entries ########\n",
    "##### Completed 7.16.2020 ########\n",
    "\n",
    "#1. Check for entries with InPhO apis.\n",
    "\n",
    "sep_no_inpho = list(db.sep_entries.find( filter={'inpho_api': 'Error: No InPhO entry'},\n",
    "                                         projection = ['title'],\n",
    "                                         sort=[('title',1)]\n",
    "                                        ))\n",
    "pprint(sep_no_inpho)\n",
    "\n",
    "#There were 15 SEP articles that originally didn't link into InPhO at all. I went into InPhO and found the appropriate API endpoint for those, and indicated the URL for those articles that do have InPhO entries. Not all of them had InPhO entries though. When we run this test now. We only see 4 articles left that don't link into InPhO\n",
    "\n",
    "#Original Problem Articles\n",
    "# [{'_id': ObjectId('5f0e28bc4386af32c64aa3d3'), 'title': 'Algebraic Propositional Logic'},\n",
    "#  {'_id': ObjectId('5f0e229a4386af32c64aa0e4'), 'title': 'Basil [Cardinal] Bessarion'},\n",
    "#  {'_id': ObjectId('5f0e230c4386af32c64aa119'), 'title': 'Catharine Macaulay'},\n",
    "#  {'_id': ObjectId('5f0e237b4386af32c64aa152'), 'title': 'Communitarianism'},\n",
    "#  {'_id': ObjectId('5f0e27524386af32c64aa31f'), 'title': 'Divine Illumination'},\n",
    "#  {'_id': ObjectId('5f0e24ec4386af32c64aa1f5'), 'title': 'Dynamic Epistemic Logic'},\n",
    "#  {'_id': ObjectId('5f0e25d74386af32c64aa26e'), 'title': 'Feminist Moral Psychology'},\n",
    "#  {'_id': ObjectId('5f107e63b539c255926f6024'), 'title': 'Gaṅgeśa'},\n",
    "#  {'_id': ObjectId('5f0e26ca4386af32c64aa2e2'), 'title': 'Hegel’s Dialectics'},\n",
    "#  {'_id': ObjectId('5f0e27184386af32c64aa302'), 'title': 'Hume on Free Will'},\n",
    "#  {'_id': ObjectId('5f0e27384386af32c64aa313'), 'title': 'Ibn Sina [Avicenna]'},\n",
    "#  {'_id': ObjectId('5f0e27374386af32c64aa312'), 'title': 'Ibn Sina’s Natural Philosophy'},\n",
    "#  {'_id': ObjectId('5f0e2c4c4386af32c64aa577'), 'title': 'Identity and Individuality in Quantum Theory'},\n",
    "#  {'_id': ObjectId('5f0e279e4386af32c64aa347'), 'title': 'Intuitionism in Ethics'},\n",
    "#  {'_id': ObjectId('5f0e28294386af32c64aa38d'), 'title': 'Kumārila'},\n",
    "#  {'_id': ObjectId('5f0e23384386af32c64aa12f'), 'title': 'Legalism in Chinese Philosophy'},\n",
    "#  {'_id': ObjectId('5f0e22de4386af32c64aa102'), 'title': 'Martin Buber'},\n",
    "#  {'_id': ObjectId('5f0e2ab24386af32c64aa4ac'), 'title': 'Nietzsche’s Life and Works'},\n",
    "#  {'_id': ObjectId('5f0e24384386af32c64aa1a5'), 'title': 'Religious Daoism'},\n",
    "#  {'_id': ObjectId('5f0e2db54386af32c64aa62b'), 'title': 'Sophie de Grouchy'},\n",
    "#  {'_id': ObjectId('5f0e2de04386af32c64aa642'), 'title': 'Spinoza’s Psychological Theory'},\n",
    "#  {'_id': ObjectId('5f0e2e174386af32c64aa65b'), 'title': 'Supererogation'},\n",
    "#  {'_id': ObjectId('5f0e2e5b4386af32c64aa682'), 'title': 'Touch'}]\n",
    "\n",
    "#Ones that just didn't have a sibling article at InPhO\n",
    "# [{'_id': ObjectId('5f109bb0789a3d802df9a834'), 'title': 'Hegel’s Dialectics'},\n",
    "#  {'_id': ObjectId('5f109bdc789a3d802df9a864'), 'title': 'Ibn Sina’s Natural Philosophy'},\n",
    "#  {'_id': ObjectId('5f109d6c789a3d802df9a9fe'), 'title': 'Nietzsche’s Life and Works'},\n",
    "#  {'_id': ObjectId('5f109ee6789a3d802df9ab7d'), 'title': 'Sophie de Grouchy'}]\n"
   ]
  },
  {
   "cell_type": "code",
   "execution_count": 28,
   "metadata": {
    "tags": []
   },
   "outputs": [
    {
     "output_type": "stream",
     "name": "stdout",
     "text": "acknowledged: http://inpho.cogs.indiana.edu/thinker/3054.json\n True\n[{'_id': ObjectId('5f10a241b539c255926f702e'), 'inpho_api': 'http://inpho.cogs.indiana.edu/thinker/3054.json', 'inpho_json': {'wiki': 'Gangesha_Upadhyaya', 'influenced': [], 'death': [], 'teachers': [], 'url': '/thinker/3054', 'influenced_by': [], 'professions': [], 'death_strings': [], 'related_thinkers': [], 'sep_dir': '', 'students': [], 'birth_strings': [], 'birth': [], 'nationalities': [], 'related_ideas': [], 'label': 'Gangeśa', 'type': 'thinker', 'ID': 3054, 'aliases': []}, 'title': 'Gaṅgeśa'}]\n"
    }
   ],
   "source": [
    "#Update the individual records identified above\n",
    "title = 'Gaṅgeśa'\n",
    "api_endpoint = 'thinker/3054'\n",
    "collection_to_update = db.sep_entries\n",
    "\n",
    "sep.update_sep_json(title,api_endpoint, collection_to_update)\n"
   ]
  },
  {
   "cell_type": "code",
   "execution_count": 31,
   "metadata": {
    "tags": []
   },
   "outputs": [
    {
     "output_type": "stream",
     "name": "stdout",
     "text": "acknowledged True\n"
    }
   ],
   "source": [
    "#update Sophie de Grouchy to set her entry to a 'thinker' \n",
    "result =db.sep_entries.update_one({'title': 'Sophie de Grouchy'}, {'$set': {'inpho_JSON.type':'thinker'}})\n",
    "# confirmation udpate\n",
    "print (f'acknowledged', result.acknowledged)"
   ]
  },
  {
   "cell_type": "code",
   "execution_count": 67,
   "metadata": {
    "tags": []
   },
   "outputs": [
    {
     "output_type": "stream",
     "name": "stdout",
     "text": "[{'_id': None, 'count': 4}]\n"
    }
   ],
   "source": [
    "##### Cleaning Sep_Entries ########\n",
    "##### Completed 7.16.2020 ########\n",
    "\n",
    "#2. Check for duplicate InPhO JSON data.\n",
    "\n",
    "collection_to_clean = db.sep_entries\n",
    "result = list(collection_to_clean.aggregate([\n",
    "                                {\n",
    "                                    '$group' : { '_id' : \"$inpho_json.ID\",\n",
    "                                    'count': { '$sum': 1 }\n",
    "                                    }\n",
    "                                },\n",
    "                                {\n",
    "                                    '$match': { 'count': {'$ne': 1 }}\n",
    "                                }]))\n",
    "\n",
    "pprint(result)"
   ]
  },
  {
   "cell_type": "code",
   "execution_count": 66,
   "metadata": {
    "tags": []
   },
   "outputs": [
    {
     "output_type": "stream",
     "name": "stdout",
     "text": "acknowledged: http://inpho.cogs.indiana.edu/thinker/4092.json\n True\n[{'_id': ObjectId('5f109f6c789a3d802df9ac08'), 'title': 'Wang Yangming', 'inpho_api': 'http://inpho.cogs.indiana.edu/thinker/4092.json', 'inpho_json': {'wiki': 'Wang_Yangming', 'influenced': [], 'death': [{'month': 0, 'day': 0, 'year': 1529}], 'teachers': [], 'url': '/thinker/4092', 'influenced_by': [4173], 'professions': [], 'death_strings': ['1529'], 'related_thinkers': [4173, 3563, 2844, 4203, 4195, 3060, 3177, 4198], 'sep_dir': 'wang-yangming', 'students': [], 'birth_strings': ['1472'], 'birth': [{'month': 0, 'day': 0, 'year': 1472}], 'nationalities': ['Chinese'], 'related_ideas': [6347, 148, 1870, 1343, 5338, 5510, 5602, 1544, 681], 'label': 'Wang Yangming', 'type': 'thinker', 'ID': 4092, 'aliases': []}}]\n"
    }
   ],
   "source": [
    "# JSON.ID 3563 appears twice, so there's a duplicate entry. That is:\n",
    "#Mencius (SEP) properly linked to Mencius (InPho) \n",
    "#Wang Yangming (SEP) improperly linked to Mencius (InPho)\n",
    "\n",
    "title = 'Wang Yangming'\n",
    "api_endpoint = 'thinker/4092'\n",
    "collection_to_update = db.sep_entries\n",
    "\n",
    "sep.update_sep_json(title,api_endpoint, collection_to_update)\n",
    "\n"
   ]
  },
  {
   "cell_type": "code",
   "execution_count": 7,
   "metadata": {
    "tags": [
     "outputPrepend",
     "outputPrepend",
     "outputPrepend",
     "outputPrepend",
     "outputPrepend",
     "outputPrepend",
     "outputPrepend",
     "outputPrepend",
     "outputPrepend",
     "outputPrepend",
     "outputPrepend",
     "outputPrepend",
     "outputPrepend",
     "outputPrepend",
     "outputPrepend",
     "outputPrepend",
     "outputPrepend",
     "outputPrepend",
     "outputPrepend",
     "outputPrepend",
     "outputPrepend",
     "outputPrepend",
     "outputPrepend",
     "outputPrepend",
     "outputPrepend",
     "outputPrepend",
     "outputPrepend",
     "outputPrepend",
     "outputPrepend",
     "outputPrepend",
     "outputPrepend",
     "outputPrepend",
     "outputPrepend",
     "outputPrepend",
     "outputPrepend",
     "outputPrepend",
     "outputPrepend",
     "outputPrepend",
     "outputPrepend",
     "outputPrepend",
     "outputPrepend",
     "outputPrepend",
     "outputPrepend",
     "outputPrepend",
     "outputPrepend",
     "outputPrepend",
     "outputPrepend",
     "outputPrepend",
     "outputPrepend",
     "outputPrepend",
     "outputPrepend",
     "outputPrepend",
     "outputPrepend",
     "outputPrepend",
     "outputPrepend",
     "outputPrepend",
     "outputPrepend",
     "outputPrepend",
     "outputPrepend",
     "outputPrepend",
     "outputPrepend",
     "outputPrepend",
     "outputPrepend",
     "outputPrepend",
     "outputPrepend",
     "outputPrepend",
     "outputPrepend",
     "outputPrepend",
     "outputPrepend",
     "outputPrepend",
     "outputPrepend",
     "outputPrepend",
     "outputPrepend",
     "outputPrepend",
     "outputPrepend",
     "outputPrepend",
     "outputPrepend",
     "outputPrepend",
     "outputPrepend",
     "outputPrepend",
     "outputPrepend",
     "outputPrepend",
     "outputPrepend",
     "outputPrepend",
     "outputPrepend",
     "outputPrepend",
     "outputPrepend",
     "outputPrepend",
     "outputPrepend",
     "outputPrepend",
     "outputPrepend",
     "outputPrepend",
     "outputPrepend",
     "outputPrepend",
     "outputPrepend",
     "outputPrepend",
     "outputPrepend"
    ]
   },
   "outputs": [],
   "source": [
    "\n"
   ]
  }
 ],
 "metadata": {
  "language_info": {
   "name": "python",
   "codemirror_mode": {
    "name": "ipython",
    "version": 3
   },
   "version": "3.6.9-final"
  },
  "orig_nbformat": 2,
  "file_extension": ".py",
  "mimetype": "text/x-python",
  "name": "python",
  "npconvert_exporter": "python",
  "pygments_lexer": "ipython3",
  "version": 3,
  "kernelspec": {
   "name": "python36964bitpythondataconda8971416e9bae4e8197b8a061b72f9dc8",
   "display_name": "Python 3.6.9 64-bit ('PythonData': conda)"
  }
 },
 "nbformat": 4,
 "nbformat_minor": 2
}