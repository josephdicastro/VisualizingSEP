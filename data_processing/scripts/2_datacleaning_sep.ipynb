{
 "cells": [
  {
   "cell_type": "code",
   "execution_count": 1,
   "metadata": {},
   "outputs": [],
   "source": [
    "### THIS SCRIPT CLEANS THE COLLECTED SEP ###   "
   ]
  },
  {
   "cell_type": "code",
   "execution_count": 9,
   "metadata": {},
   "outputs": [],
   "source": [
    "import pymongo \n",
    "import requests\n",
    "import json\n",
    "import pandas as pd\n",
    "import re\n",
    "\n",
    "from tqdm import tqdm\n",
    "from bson.objectid import ObjectId\n",
    "from pprint import pprint\n",
    "\n",
    "import lib_sepinpho as sep\n",
    "\n",
    "##### INIT GLOBAL VARIABLES#####\n",
    "\n",
    "#init Mongo\n",
    "conn = 'mongodb://localhost:27017'\n",
    "client = pymongo.MongoClient(conn)\n",
    "\n",
    "#create database\n",
    "db = client.visualizing_sep"
   ]
  },
  {
   "cell_type": "code",
   "execution_count": 6,
   "metadata": {
    "tags": []
   },
   "outputs": [],
   "source": [
    "##### Cleaning Sep_Entries ########\n",
    "##### Fall Edition: Completed 10.1.2020 ########\n",
    "\n",
    "#1. Check for entries with InPhO apis.\n",
    "\n",
    "collection_to_clean = db.sep_entries\n",
    "\n",
    "sep_no_inpho = pd.DataFrame(collection_to_clean.find( filter={'inpho_api': 'Error: No InPhO entry'},\n",
    "                                         projection = ['title'],\n",
    "                                         sort=[('title',1)]\n",
    "                                        ))\n",
    "#export to csv to made edits in this file\n",
    "sep_no_inpho.to_csv('noinpho.csv')\n"
   ]
  },
  {
   "cell_type": "code",
   "execution_count": 49,
   "metadata": {
    "tags": []
   },
   "outputs": [
    {
     "output_type": "stream",
     "name": "stderr",
     "text": "1it [00:00,  1.80it/s]acknowledged: http://inpho.cogs.indiana.edu/thinker/2553.json\n True\n[{&#39;_id&#39;: ObjectId(&#39;5f1bafb6896f82cdbda60f27&#39;), &#39;title&#39;: &#39;Aristotle&#39;, &#39;inpho_api&#39;: &#39;http://inpho.cogs.indiana.edu/thinker/2553.json&#39;, &#39;inpho_json&#39;: {&#39;wiki&#39;: &#39;Aristotle&#39;, &#39;influenced&#39;: [2462, 2472, 2477, 2493, 2543, 2549, 2576, 2577, 2671, 2685, 2731, 2768, 2905, 2943, 2953, 2985, 3021, 3049, 3114, 3132, 3177, 3179, 3223, 3295, 3367, 3383, 3404, 3439, 3476, 3511, 3550, 3580, 3585, 3590, 3597, 3657, 3738, 3760, 3776, 3777, 3805, 3842, 3911, 3936, 3950, 3963, 3974, 3975, 3991, 4006, 4021, 4025, 4077, 4189], &#39;death&#39;: [{&#39;month&#39;: 3, &#39;day&#39;: 7, &#39;year&#39;: -322}], &#39;teachers&#39;: [3724], &#39;url&#39;: &#39;/thinker/2553&#39;, &#39;influenced_by&#39;: [3191, 3682, 3724, 3919], &#39;professions&#39;: [&#39;Student&#39;, &#39;Teacher&#39;], &#39;death_strings&#39;: [&#39;March 7, 322 B.C.E.&#39;], &#39;related_thinkers&#39;: [3724, 2543, 2503, 6345, 4180, 2671, 4006, 3716, 3764], &#39;sep_dir&#39;: &#39;aristotle&#39;, &#39;students&#39;: [4006], &#39;birth_strings&#39;: [&#39;November 384 B.C.E.&#39;], &#39;birth&#39;: [{&#39;month&#39;: 11, &#39;day&#39;: 0, &#39;year&#39;: -384}], &#39;nationalities&#39;: [&#39;Greek&#39;], &#39;related_ideas&#39;: [1504, 1824, 1512, 2018, 1488, 2166, 681, 602, 1511], &#39;label&#39;: &#39;Aristotle&#39;, &#39;type&#39;: &#39;thinker&#39;, &#39;ID&#39;: 2553, &#39;aliases&#39;: []}}]\n2it [00:00,  1.94it/s]acknowledged: http://inpho.cogs.indiana.edu/idea/1021.json\n True\n[{&#39;_id&#39;: ObjectId(&#39;5f1bafe0896f82cdbda60f3c&#39;), &#39;title&#39;: &#39;Autonomy in Moral and Political Philosophy&#39;, &#39;inpho_api&#39;: &#39;http://inpho.cogs.indiana.edu/idea/1021.json&#39;, &#39;inpho_json&#39;: {&#39;links&#39;: [], &#39;url&#39;: &#39;/idea/1021&#39;, &#39;related&#39;: [313, 5336, 5670, 1069, 1310, 5562, 2166, 1213, 5338], &#39;sep_dir&#39;: &#39;autonomy-moral&#39;, &#39;instances&#39;: [], &#39;classes&#39;: [], &#39;hyponyms&#39;: [313, 5336, 5670, 1069, 1310, 2166, 5562, 1213, 5338], &#39;related_thinkers&#39;: [3780, 4134, 3345], &#39;nodes&#39;: [], &#39;label&#39;: &#39;Autonomy in Moral and Political Philosophy&#39;, &#39;type&#39;: &#39;idea&#39;, &#39;ID&#39;: 1021, &#39;occurrences&#39;: []}}]\n3it [00:01,  1.99it/s]acknowledged: http://inpho.cogs.indiana.edu/thinker/2672.json\n True\n[{&#39;_id&#39;: ObjectId(&#39;5f7678ca038c9c30f78468f9&#39;), &#39;inpho_api&#39;: &#39;http://inpho.cogs.indiana.edu/thinker/2672.json&#39;, &#39;inpho_json&#39;: {&#39;wiki&#39;: &#39;Boetius_of_Dacia&#39;, &#39;influenced&#39;: [], &#39;death&#39;: [], &#39;teachers&#39;: [], &#39;url&#39;: &#39;/thinker/2672&#39;, &#39;influenced_by&#39;: [], &#39;professions&#39;: [], &#39;death_strings&#39;: [], &#39;related_thinkers&#39;: [2671, 3903, 3101, 2543, 3186, 2509, 2704, 4010, 3365], &#39;sep_dir&#39;: &#39;&#39;, &#39;students&#39;: [], &#39;birth_strings&#39;: [&#39;480&#39;], &#39;birth&#39;: [{&#39;month&#39;: 0, &#39;day&#39;: 0, &#39;year&#39;: 480}], &#39;nationalities&#39;: [], &#39;related_ideas&#39;: [1824, 2024, 1539, 1569, 2166, 1709, 1478, 1490, 681], &#39;label&#39;: &#39;Boëthius of Dacia&#39;, &#39;type&#39;: &#39;thinker&#39;, &#39;ID&#39;: 2672, &#39;aliases&#39;: []}, &#39;title&#39;: &#39;Boethius of Dacia&#39;}]\n4it [00:01,  2.08it/s]acknowledged: http://inpho.cogs.indiana.edu/idea/2150.json\n True\n[{&#39;_id&#39;: ObjectId(&#39;5f1bb0c7896f82cdbda60fb9&#39;), &#39;title&#39;: &#39;Collingwood’s Aesthetics&#39;, &#39;inpho_api&#39;: &#39;http://inpho.cogs.indiana.edu/idea/2150.json&#39;, &#39;inpho_json&#39;: {&#39;links&#39;: [], &#39;url&#39;: &#39;/idea/2150&#39;, &#39;related&#39;: [1646, 923, 1896, 109, 1776, 1750, 1744, 1736, 1308], &#39;sep_dir&#39;: &#39;collingwood-aesthetics&#39;, &#39;instances&#39;: [], &#39;classes&#39;: [], &#39;hyponyms&#39;: [1646, 923, 1896, 1776, 1736, 1744, 1750, 1308, 1299], &#39;related_thinkers&#39;: [2835, 3724, 3038, 3345], &#39;nodes&#39;: [], &#39;label&#39;: &quot;Collingwood&#39;s Aesthetics&quot;, &#39;type&#39;: &#39;idea&#39;, &#39;ID&#39;: 2150, &#39;occurrences&#39;: []}}]\n5it [00:02,  2.15it/s]acknowledged: http://inpho.cogs.indiana.edu/idea/168.json\n True\n[{&#39;_id&#39;: ObjectId(&#39;5f1bb200896f82cdbda6105d&#39;), &#39;title&#39;: &#39;Dualism&#39;, &#39;inpho_api&#39;: &#39;http://inpho.cogs.indiana.edu/idea/168.json&#39;, &#39;inpho_json&#39;: {&#39;links&#39;: [734], &#39;url&#39;: &#39;/idea/168&#39;, &#39;related&#39;: [1504, 923, 681, 1514, 1478, 602, 1477, 5336, 1824], &#39;sep_dir&#39;: &#39;dualism&#39;, &#39;instances&#39;: [333], &#39;classes&#39;: [], &#39;hyponyms&#39;: [5549, 1514, 1493, 1734, 1764, 1484, 1478, 602, 1512], &#39;related_thinkers&#39;: [2905, 3345, 3724, 3256, 3936, 2553, 3476, 3439, 3897], &#39;nodes&#39;: [2199], &#39;label&#39;: &#39;Dualism&#39;, &#39;type&#39;: &#39;idea&#39;, &#39;ID&#39;: 168, &#39;occurrences&#39;: [1581, 267, 1240, 5560, 6323, 1229, 1703, 1178, 1491]}}]\n6it [00:02,  2.20it/s]acknowledged: http://inpho.cogs.indiana.edu/idea/5659.json\n True\n[{&#39;_id&#39;: ObjectId(&#39;5f1bb5ef896f82cdbda612e2&#39;), &#39;title&#39;: &#39;Empirical Approaches to Moral Character&#39;, &#39;inpho_api&#39;: &#39;http://inpho.cogs.indiana.edu/idea/5659.json&#39;, &#39;inpho_json&#39;: {&#39;links&#39;: [], &#39;url&#39;: &#39;/idea/5659&#39;, &#39;related&#39;: [906, 756, 1527, 1104, 1499, 20, 1493, 5506, 1143], &#39;sep_dir&#39;: &#39;moral-character-empirical&#39;, &#39;instances&#39;: [], &#39;classes&#39;: [], &#39;hyponyms&#39;: [906, 756, 1527, 1104, 1499, 1493, 20, 2154, 1706], &#39;related_thinkers&#39;: [3829, 2844, 2553, 3724], &#39;nodes&#39;: [], &#39;label&#39;: &#39;Empirical Approaches to Moral Character&#39;, &#39;type&#39;: &#39;idea&#39;, &#39;ID&#39;: 5659, &#39;occurrences&#39;: []}}]\nacknowledged: no_api_data\n True\n[{&#39;_id&#39;: ObjectId(&#39;5f7678de038c9c30f7846917&#39;), &#39;inpho_api&#39;: &#39;no_api_data&#39;, &#39;inpho_json&#39;: {&#39;type&#39;: &#39;idea&#39;}, &#39;title&#39;: &#39;Evolution and Development&#39;}]\nacknowledged: no_api_data\n True\n[{&#39;_id&#39;: ObjectId(&#39;5f1bb3a3896f82cdbda61150&#39;), &#39;title&#39;: &#39;Hegel’s Dialectics&#39;, &#39;inpho_api&#39;: &#39;no_api_data&#39;, &#39;inpho_json&#39;: {&#39;type&#39;: &#39;idea&#39;}}]\nacknowledged: no_api_data\n True\n[{&#39;_id&#39;: ObjectId(&#39;5f1bb3fd896f82cdbda61180&#39;), &#39;title&#39;: &#39;Ibn Sina’s Natural Philosophy&#39;, &#39;inpho_api&#39;: &#39;no_api_data&#39;, &#39;inpho_json&#39;: {&#39;type&#39;: &#39;idea&#39;}}]\nacknowledged: no_api_data\n True\n[{&#39;_id&#39;: ObjectId(&#39;5f7678ee038c9c30f784692c&#39;), &#39;inpho_api&#39;: &#39;no_api_data&#39;, &#39;inpho_json&#39;: {&#39;type&#39;: &#39;idea&#39;}, &#39;title&#39;: &#39;Luther’s Influence on Philosophy&#39;}]\n11it [00:03,  2.83it/s]acknowledged: http://inpho.cogs.indiana.edu/idea/5489.json\n True\n[{&#39;_id&#39;: ObjectId(&#39;5f1bb11c896f82cdbda60fe5&#39;), &#39;title&#39;: &#39;Medieval Theories of Consequence&#39;, &#39;inpho_api&#39;: &#39;http://inpho.cogs.indiana.edu/idea/5489.json&#39;, &#39;inpho_json&#39;: {&#39;links&#39;: [], &#39;url&#39;: &#39;/idea/5489&#39;, &#39;related&#39;: [1293, 1430, 1231, 1295, 1734, 1484, 1624, 1225, 1626], &#39;sep_dir&#39;: &#39;consequence-medieval&#39;, &#39;instances&#39;: [], &#39;classes&#39;: [], &#39;hyponyms&#39;: [1293, 1430, 1231, 1734, 1484, 1295, 1499, 1508, 1711], &#39;related_thinkers&#39;: [2671, 4183, 3657, 2462, 2732, 3919, 2503, 5653, 2553], &#39;nodes&#39;: [], &#39;label&#39;: &#39;Medieval Theories of Consequence&#39;, &#39;type&#39;: &#39;idea&#39;, &#39;ID&#39;: 5489, &#39;occurrences&#39;: []}}]\n12it [00:03,  2.65it/s]acknowledged: http://inpho.cogs.indiana.edu/idea/5617.json\n True\n[{&#39;_id&#39;: ObjectId(&#39;5f1bb630896f82cdbda61304&#39;), &#39;title&#39;: &#39;Natural Theology and Natural Religion&#39;, &#39;inpho_api&#39;: &#39;http://inpho.cogs.indiana.edu/idea/5617.json&#39;, &#39;inpho_json&#39;: {&#39;links&#39;: [], &#39;url&#39;: &#39;/idea/5617&#39;, &#39;related&#39;: [1345, 1478, 724, 5691, 1073, 1305, 1574, 1573, 1569], &#39;sep_dir&#39;: &#39;natural-theology&#39;, &#39;instances&#39;: [], &#39;classes&#39;: [], &#39;hyponyms&#39;: [1345, 1478, 724, 1073, 5691, 1305, 1574, 1569, 1573], &#39;related_thinkers&#39;: [2535, 3439, 3256, 3345, 3596, 2905, 2693, 3571, 3082], &#39;nodes&#39;: [], &#39;label&#39;: &#39;Natural Theology and Natural Religion&#39;, &#39;type&#39;: &#39;idea&#39;, &#39;ID&#39;: 5617, &#39;occurrences&#39;: []}}]\nacknowledged: no_api_data\n True\n[{&#39;_id&#39;: ObjectId(&#39;5f1bb64f896f82cdbda6131a&#39;), &#39;title&#39;: &#39;Nietzsche’s Life and Works&#39;, &#39;inpho_api&#39;: &#39;no_api_data&#39;, &#39;inpho_json&#39;: {&#39;type&#39;: &#39;idea&#39;}}]\nacknowledged: no_api_data\n True\n[{&#39;_id&#39;: ObjectId(&#39;5f1bb3ec896f82cdbda61175&#39;), &#39;title&#39;: &#39;Philosophy of Humor&#39;, &#39;inpho_api&#39;: &#39;no_api_data&#39;, &#39;inpho_json&#39;: {&#39;type&#39;: &#39;idea&#39;}}]\nacknowledged: no_api_data\n True\n[{&#39;_id&#39;: ObjectId(&#39;5f1bb79c896f82cdbda613cb&#39;), &#39;title&#39;: &#39;Philosophy of Psychiatry&#39;, &#39;inpho_api&#39;: &#39;no_api_data&#39;, &#39;inpho_json&#39;: {&#39;type&#39;: &#39;idea&#39;}}]\n16it [00:04,  3.37it/s]acknowledged: http://inpho.cogs.indiana.edu/idea/1978.json\n True\n[{&#39;_id&#39;: ObjectId(&#39;5f1bb292896f82cdbda610ac&#39;), &#39;title&#39;: &#39;Search Engines and Ethics&#39;, &#39;inpho_api&#39;: &#39;http://inpho.cogs.indiana.edu/idea/1978.json&#39;, &#39;inpho_json&#39;: {&#39;links&#39;: [], &#39;url&#39;: &#39;/idea/1978&#39;, &#39;related&#39;: [760, 5609, 6355, 1182, 5497, 5670, 1308, 5502, 890], &#39;sep_dir&#39;: &#39;&#39;, &#39;instances&#39;: [], &#39;classes&#39;: [], &#39;hyponyms&#39;: [5609, 5670, 5502, 1308, 5530, 1592, 890, 1408, 1745], &#39;related_thinkers&#39;: [], &#39;nodes&#39;: [], &#39;label&#39;: &#39;Search Engines and Ethics&#39;, &#39;type&#39;: &#39;idea&#39;, &#39;ID&#39;: 1978, &#39;occurrences&#39;: [6355, 5497]}}]\nacknowledged: no_api_data\n True\n[{&#39;_id&#39;: ObjectId(&#39;5f1bb8f9896f82cdbda61499&#39;), &#39;title&#39;: &#39;Sophie de Grouchy&#39;, &#39;inpho_api&#39;: &#39;no_api_data&#39;, &#39;inpho_json&#39;: {&#39;type&#39;: &#39;thinker&#39;}}]\nacknowledged: no_api_data\n True\n[{&#39;_id&#39;: ObjectId(&#39;5f1bb276896f82cdbda6109a&#39;), &#39;title&#39;: &#39;The Ergodic Hierarchy&#39;, &#39;inpho_api&#39;: &#39;no_api_data&#39;, &#39;inpho_json&#39;: {&#39;type&#39;: &#39;idea&#39;}}]\nacknowledged: no_api_data\n True\n[{&#39;_id&#39;: ObjectId(&#39;5f767901038c9c30f7846949&#39;), &#39;inpho_api&#39;: &#39;no_api_data&#39;, &#39;inpho_json&#39;: {&#39;type&#39;: &#39;idea&#39;}, &#39;title&#39;: &#39;The Psychology of Normative Cognition&#39;}]\nacknowledged: no_api_data\n True\n[{&#39;_id&#39;: ObjectId(&#39;5f1bb8fb896f82cdbda6149b&#39;), &#39;title&#39;: &#39;The Sophists&#39;, &#39;inpho_api&#39;: &#39;no_api_data&#39;, &#39;inpho_json&#39;: {&#39;type&#39;: &#39;thinker&#39;}}]\n21it [00:04,  4.50it/s]acknowledged: http://inpho.cogs.indiana.edu/idea/1592.json\n True\n[{&#39;_id&#39;: ObjectId(&#39;5f1bb98d896f82cdbda614f7&#39;), &#39;title&#39;: &#39;Trust&#39;, &#39;inpho_api&#39;: &#39;http://inpho.cogs.indiana.edu/idea/1592.json&#39;, &#39;inpho_json&#39;: {&#39;links&#39;: [], &#39;url&#39;: &#39;/idea/1592&#39;, &#39;related&#39;: [602, 2166, 1542, 5336, 1569, 1764, 880, 2153, 1493], &#39;sep_dir&#39;: &#39;trust&#39;, &#39;instances&#39;: [], &#39;classes&#39;: [], &#39;hyponyms&#39;: [5549, 1493, 602, 880, 2166, 1589, 1764, 1484, 1542], &#39;related_thinkers&#39;: [3724, 3256, 3780, 2553, 3345, 3223, 3476, 3307, 3829], &#39;nodes&#39;: [], &#39;label&#39;: &#39;Trust&#39;, &#39;type&#39;: &#39;idea&#39;, &#39;ID&#39;: 1592, &#39;occurrences&#39;: [5497, 1569, 1538, 2153, 1601, 5572, 1765, 1697, 5450]}}]\n\n"
    }
   ],
   "source": [
    "# read the values to update from the CSV and batch update the entries\n",
    "\n",
    "collection_to_update = db.sep_entries\n",
    "\n",
    "#import cleaned data\n",
    "inpho_updates = pd.read_csv('noinpho.csv')\n",
    "\n",
    "for index,row in tqdm(inpho_updates.iterrows()):\n",
    "    title = row['title']\n",
    "    api_endpoint = row['api_endpoint']\n",
    "    json_type = row['json_type']\n",
    "\n",
    "    sep.update_sep_json(title,api_endpoint, json_type, collection_to_update)\n",
    "\n"
   ]
  },
  {
   "cell_type": "code",
   "execution_count": null,
   "metadata": {},
   "outputs": [],
   "source": []
  },
  {
   "cell_type": "code",
   "execution_count": 50,
   "metadata": {
    "tags": []
   },
   "outputs": [
    {
     "output_type": "stream",
     "name": "stdout",
     "text": "[{&#39;_id&#39;: None, &#39;count&#39;: 11}]\n"
    }
   ],
   "source": [
    "##### Cleaning Sep_Entries ########\n",
    "##### Summer: Completed 7.16.2020 ########\n",
    "##### Summer: Completed 10.1.2020 ########\n",
    "\n",
    "#2. Check for duplicate InPhO JSON data.\n",
    "\n",
    "collection_to_clean = db.sep_entries\n",
    "result = list(collection_to_clean.aggregate([\n",
    "                                {\n",
    "                                    '$group' : { '_id' : \"$inpho_json.ID\",\n",
    "                                    'count': { '$sum': 1 }\n",
    "                                    }\n",
    "                                },\n",
    "                                {\n",
    "                                    '$match': { 'count': {'$ne': 1 }}\n",
    "                                }]))\n",
    "\n",
    "pprint(result)"
   ]
  },
  {
   "cell_type": "code",
   "execution_count": 51,
   "metadata": {
    "tags": []
   },
   "outputs": [
    {
     "output_type": "stream",
     "name": "stdout",
     "text": "[{&#39;page_url&#39;: &#39;/entries/albalag/&#39;, &#39;title&#39;: &#39;Isaac Albalag&#39;},\n {&#39;page_url&#39;: &#39;/entries/alternative-possibilities/&#39;,\n  &#39;title&#39;: &#39;Moral Responsibility and the Principle of Alternative &#39;\n           &#39;Possibilities&#39;},\n {&#39;page_url&#39;: &#39;/entries/boethius-dacia/&#39;, &#39;title&#39;: &#39;Boethius of Dacia&#39;},\n {&#39;page_url&#39;: &#39;/entries/causation-physics/&#39;, &#39;title&#39;: &#39;Causation in Physics&#39;},\n {&#39;page_url&#39;: &#39;/entries/divine-revelation/&#39;, &#39;title&#39;: &#39;Divine Revelation&#39;},\n {&#39;page_url&#39;: &#39;/entries/evolution-development/&#39;,\n  &#39;title&#39;: &#39;Evolution and Development&#39;},\n {&#39;page_url&#39;: &#39;/entries/luther-influence/&#39;,\n  &#39;title&#39;: &#39;Luther’s Influence on Philosophy&#39;},\n {&#39;page_url&#39;: &#39;/entries/luther/&#39;, &#39;title&#39;: &#39;Martin Luther&#39;},\n {&#39;page_url&#39;: &#39;/entries/microbiology/&#39;, &#39;title&#39;: &#39;Philosophy of Microbiology&#39;},\n {&#39;page_url&#39;: &#39;/entries/protagoras/&#39;, &#39;title&#39;: &#39;Protagoras&#39;},\n {&#39;page_url&#39;: &#39;/entries/psychology-normative-cognition/&#39;,\n  &#39;title&#39;: &#39;The Psychology of Normative Cognition&#39;}]\n"
    }
   ],
   "source": [
    "\n",
    "#Find any article that doesn't have domain info\n",
    "\n",
    "collection_to_update = db.sep_entries\n",
    "\n",
    "no_domains = list(collection_to_update.find(\n",
    "    {'primary_domain': {'$exists': False}},\n",
    "    projection={'page_url':1, 'title':1, '_id':0}\n",
    "))\n",
    "\n",
    "pprint(no_domains)"
   ]
  },
  {
   "cell_type": "code",
   "execution_count": 6,
   "metadata": {
    "tags": []
   },
   "outputs": [
    {
     "output_type": "stream",
     "name": "stdout",
     "text": "11\n11\n"
    }
   ],
   "source": [
    "#take the list of articles in no_domains, and make a list of the domain data to add for each of them. \n",
    "\n",
    "domains_to_update = [\n",
    "    ('Thinker', 'Thinker'),\n",
    "    ('Ethics and Morality', 'Ethics and Morality', 'Metaphysics'),\n",
    "    ('Thinker', 'Thinker'),\n",
    "    ('Physics', 'Physics', 'Scientific Methods', 'Metaphysics'),\n",
    "    ('Religion', 'Religion, Epistemology'),\n",
    "    ('Evolution', 'Evolution, Biology'),\n",
    "    ('Thinker', 'Thinker, Religion'),\n",
    "    ('Thinker', 'Thinker, Religion'),\n",
    "    ('Biology', 'Biology'),\n",
    "    ('Thinker', 'Thinker'),\n",
    "    ('Mind', 'Mind, Biology')\n",
    "]\n",
    "\n",
    "#check to make sure domains_to_update and no_domains are the same size\n",
    "print(len(no_domains))\n",
    "print(len(domains_to_update))"
   ]
  },
  {
   "cell_type": "code",
   "execution_count": 52,
   "metadata": {
    "tags": []
   },
   "outputs": [
    {
     "output_type": "stream",
     "name": "stdout",
     "text": "acknowledged: /entries/albalag/\n True\nacknowledged: /entries/alternative-possibilities/\n True\nacknowledged: /entries/boethius-dacia/\n True\nacknowledged: /entries/causation-physics/\n True\nacknowledged: /entries/divine-revelation/\n True\nacknowledged: /entries/evolution-development/\n True\nacknowledged: /entries/luther-influence/\n True\nacknowledged: /entries/luther/\n True\nacknowledged: /entries/microbiology/\n True\nacknowledged: /entries/protagoras/\n True\nacknowledged: /entries/psychology-normative-cognition/\n True\n"
    }
   ],
   "source": [
    "#update articles in no_domains with new domain data  \n",
    "#Fall Update: Completed 10.1.2020#\n",
    "collection_to_update = db.sep_entries\n",
    "\n",
    "for i, articles in enumerate(no_domains):\n",
    "    article_to_update = articles['page_url']\n",
    "    primary_domain = domains_to_update[i][0]\n",
    "    domain_tags = domains_to_update[i][1] \n",
    "    new_values = {\n",
    "         'primary_domain': primary_domain,\n",
    "         'domain_tags': domain_tags\n",
    "         }\n",
    "    result = collection_to_update.update_one(\n",
    "        {'page_url': article_to_update},\n",
    "        {'$set': new_values}\n",
    "    )\n",
    "    # boolean confirmation that the API call went through\n",
    "    print (f'acknowledged: {article_to_update}\\n', result.acknowledged)\n",
    "    \n"
   ]
  },
  {
   "cell_type": "code",
   "execution_count": 53,
   "metadata": {
    "tags": []
   },
   "outputs": [
    {
     "output_type": "stream",
     "name": "stdout",
     "text": "[]\n"
    }
   ],
   "source": [
    "#now test again for no domain info\n",
    "\n",
    "collection_to_update = db.sep_entries\n",
    "\n",
    "no_domains = list(collection_to_update.find(\n",
    "    {'primary_domain': {'$exists': False}},\n",
    "    projection={'page_url':1, 'title':1, '_id':0}\n",
    "))\n",
    "\n",
    "pprint(no_domains)"
   ]
  },
  {
   "cell_type": "code",
   "execution_count": 54,
   "metadata": {},
   "outputs": [
    {
     "output_type": "execute_result",
     "data": {
      "text/plain": "{&#39;_id_&#39;: {&#39;v&#39;: 2, &#39;key&#39;: [(&#39;_id&#39;, 1)], &#39;ns&#39;: &#39;visualizing_sep.sep_entries&#39;},\n &#39;title_1&#39;: {&#39;v&#39;: 2,\n  &#39;key&#39;: [(&#39;title&#39;, 1)],\n  &#39;ns&#39;: &#39;visualizing_sep.sep_entries&#39;},\n &#39;preamble_textindex&#39;: {&#39;v&#39;: 2,\n  &#39;key&#39;: [(&#39;_fts&#39;, &#39;text&#39;), (&#39;_ftsx&#39;, 1)],\n  &#39;ns&#39;: &#39;visualizing_sep.sep_entries&#39;,\n  &#39;weights&#39;: SON([(&#39;main_text&#39;, 1), (&#39;preamble_text&#39;, 1)]),\n  &#39;default_language&#39;: &#39;english&#39;,\n  &#39;language_override&#39;: &#39;language&#39;,\n  &#39;textIndexVersion&#39;: 3}}"
     },
     "metadata": {},
     "execution_count": 54
    }
   ],
   "source": [
    "# update domain tags and primary domain for all articles \n",
    "# completed 10.1.2020\n",
    "\n",
    "collection_to_update = db.sep_entries\n",
    "\n",
    "collection_to_update.create_index([('preamble_text','text'), ('main_text','text')], name='preamble_textindex')\n",
    "collection_to_update.index_information()\n",
    "\n"
   ]
  },
  {
   "cell_type": "code",
   "execution_count": 3,
   "metadata": {
    "tags": []
   },
   "outputs": [
    {
     "output_type": "error",
     "ename": "NameError",
     "evalue": "name &#39;collection_to_update&#39; is not defined",
     "traceback": [
      "\u001b[1;31m---------------------------------------------------------------------------\u001b[0m",
      "\u001b[1;31mNameError\u001b[0m                                 Traceback (most recent call last)",
      "\u001b[1;32m&lt;ipython-input-3-dcabc493f8fe&gt;\u001b[0m in \u001b[0;36m&lt;module&gt;\u001b[1;34m\u001b[0m\n\u001b[1;32m----&gt; 1\u001b[1;33m \u001b[0mpprint\u001b[0m\u001b[1;33m(\u001b[0m\u001b[0mcollection_to_update\u001b[0m\u001b[1;33m.\u001b[0m\u001b[0mdistinct\u001b[0m\u001b[1;33m(\u001b[0m\u001b[1;34m&#39;primary_domain&#39;\u001b[0m\u001b[1;33m)\u001b[0m\u001b[1;33m)\u001b[0m\u001b[1;33m\u001b[0m\u001b[1;33m\u001b[0m\u001b[0m\n\u001b[0m",
      "\u001b[1;31mNameError\u001b[0m: name &#39;collection_to_update&#39; is not defined"
     ]
    }
   ],
   "source": [
    "pprint(collection_to_update.distinct('primary_domain'))"
   ]
  },
  {
   "cell_type": "code",
   "execution_count": 14,
   "metadata": {},
   "outputs": [],
   "source": [
    "collection_to_update = db.sep_entries\n",
    "all_domains = pd.DataFrame(collection_to_update.find({},\n",
    "                                              {'title':1, 'author': 1, 'primary_domain':1, 'domain_tags':1}))\n",
    "all_domains.to_csv('domains.csv')"
   ]
  },
  {
   "cell_type": "code",
   "execution_count": 18,
   "metadata": {
    "tags": [
     "outputPrepend"
    ]
   },
   "outputs": [
    {
     "output_type": "stream",
     "name": "stderr",
     "text": "imary_domain&#39;: &#39;Logic&#39;}]\nacknowledged: Typelogical Grammar\n True\n[{&#39;_id&#39;: ObjectId(&#39;5f1bb9b4896f82cdbda6150f&#39;), &#39;title&#39;: &#39;Typelogical Grammar&#39;, &#39;domain_tags&#39;: &#39;Logic,Philosophy of Language&#39;, &#39;primary_domain&#39;: &#39;Logic&#39;}]\nacknowledged: Types and Tokens\n True\n[{&#39;_id&#39;: ObjectId(&#39;5f1bb9b6896f82cdbda61510&#39;), &#39;title&#39;: &#39;Types and Tokens&#39;, &#39;domain_tags&#39;: &#39;Metaphysics&#39;, &#39;primary_domain&#39;: &#39;Metaphysics&#39;}]\nacknowledged: Umar Khayyam\n True\n[{&#39;_id&#39;: ObjectId(&#39;5f1bb9b7896f82cdbda61511&#39;), &#39;title&#39;: &#39;Umar Khayyam&#39;, &#39;domain_tags&#39;: &#39;Thinker,Arabic and Islamic Philosophy&#39;, &#39;primary_domain&#39;: &#39;Thinker&#39;}]\nacknowledged: The Medieval Problem of Universals\n True\n[{&#39;_id&#39;: ObjectId(&#39;5f1bb9b9896f82cdbda61512&#39;), &#39;title&#39;: &#39;The Medieval Problem of Universals&#39;, &#39;domain_tags&#39;: &#39;Metaphysics&#39;, &#39;primary_domain&#39;: &#39;Metaphysics&#39;}]\nacknowledged: The History of Utilitarianism\n True\n[{&#39;_id&#39;: ObjectId(&#39;5f1bb9ba896f82cdbda61513&#39;), &#39;title&#39;: &#39;The History of Utilitarianism&#39;, &#39;domain_tags&#39;: &#39;Social and Political Philosophy&#39;, &#39;primary_domain&#39;: &#39;Social and Political Philosophy&#39;}]\nacknowledged: Vagueness\n True\n[{&#39;_id&#39;: ObjectId(&#39;5f1bb9bd896f82cdbda61514&#39;), &#39;title&#39;: &#39;Vagueness&#39;, &#39;domain_tags&#39;: &#39;Philosophy of Language&#39;, &#39;primary_domain&#39;: &#39;Philosophy of Language&#39;}]\nacknowledged: Hans Vaihinger\n True\n[{&#39;_id&#39;: ObjectId(&#39;5f1bb9be896f82cdbda61515&#39;), &#39;title&#39;: &#39;Hans Vaihinger&#39;, &#39;domain_tags&#39;: &#39;Thinker&#39;, &#39;primary_domain&#39;: &#39;Thinker&#39;}]\nacknowledged: Incommensurable Values\n True\n[{&#39;_id&#39;: ObjectId(&#39;5f1bb9bf896f82cdbda61516&#39;), &#39;title&#39;: &#39;Incommensurable Values&#39;, &#39;domain_tags&#39;: &#39;Social and Political Philosophy&#39;, &#39;primary_domain&#39;: &#39;Social and Political Philosophy&#39;}]\nacknowledged: Intrinsic vs. Extrinsic Value\n True\n[{&#39;_id&#39;: ObjectId(&#39;5f1bb9c1896f82cdbda61517&#39;), &#39;title&#39;: &#39;Intrinsic vs. Extrinsic Value&#39;, &#39;domain_tags&#39;: &#39;Ethics&#39;, &#39;primary_domain&#39;: &#39;Ethics&#39;}]\nacknowledged: Value Pluralism\n True\n[{&#39;_id&#39;: ObjectId(&#39;5f1bb9c2896f82cdbda61518&#39;), &#39;title&#39;: &#39;Value Pluralism&#39;, &#39;domain_tags&#39;: &#39;Ethics&#39;, &#39;primary_domain&#39;: &#39;Ethics&#39;}]\nacknowledged: Value Theory\n True\n[{&#39;_id&#39;: ObjectId(&#39;5f1bb9c5896f82cdbda61519&#39;), &#39;title&#39;: &#39;Value Theory&#39;, &#39;domain_tags&#39;: &#39;Ethics&#39;, &#39;primary_domain&#39;: &#39;Ethics&#39;}]\nacknowledged: Vasubandhu\n True\n[{&#39;_id&#39;: ObjectId(&#39;5f1bb9c7896f82cdbda6151a&#39;), &#39;title&#39;: &#39;Vasubandhu&#39;, &#39;domain_tags&#39;: &#39;Thinker,Philosophy of Religion&#39;, &#39;primary_domain&#39;: &#39;Thinker&#39;}]\nacknowledged: Moral Vegetarianism\n True\n[{&#39;_id&#39;: ObjectId(&#39;5f1bb9c9896f82cdbda6151b&#39;), &#39;title&#39;: &#39;Moral Vegetarianism&#39;, &#39;domain_tags&#39;: &#39;Ethics&#39;, &#39;primary_domain&#39;: &#39;Ethics&#39;}]\nacknowledged: Giambattista Vico\n True\n[{&#39;_id&#39;: ObjectId(&#39;5f1bb9c9896f82cdbda6151c&#39;), &#39;title&#39;: &#39;Giambattista Vico&#39;, &#39;domain_tags&#39;: &#39;Thinker,Social and Political Philosophy&#39;, &#39;primary_domain&#39;: &#39;Thinker&#39;}]\nacknowledged: Vienna Circle\n True\n[{&#39;_id&#39;: ObjectId(&#39;5f1bb9cb896f82cdbda6151d&#39;), &#39;title&#39;: &#39;Vienna Circle&#39;, &#39;domain_tags&#39;: &#39;Logic,Philosophy of Language,Metaphysics&#39;, &#39;primary_domain&#39;: &#39;Logic&#39;}]\nacknowledged: Juan Luis Vives [Joannes Ludovicus Vives]\n True\n[{&#39;_id&#39;: ObjectId(&#39;5f1bb9cc896f82cdbda6151e&#39;), &#39;title&#39;: &#39;Juan Luis Vives [Joannes Ludovicus Vives]&#39;, &#39;domain_tags&#39;: &#39;Thinker&#39;, &#39;primary_domain&#39;: &#39;Thinker&#39;}]\nacknowledged: Voltaire\n True\n[{&#39;_id&#39;: ObjectId(&#39;5f1bb9ce896f82cdbda6151f&#39;), &#39;title&#39;: &#39;Voltaire&#39;, &#39;domain_tags&#39;: &#39;Thinker&#39;, &#39;primary_domain&#39;: &#39;Thinker&#39;}]\nacknowledged: Theological Voluntarism\n True\n[{&#39;_id&#39;: ObjectId(&#39;5f1bb9d0896f82cdbda61520&#39;), &#39;title&#39;: &#39;Theological Voluntarism&#39;, &#39;domain_tags&#39;: &#39;Philosophy of Religion&#39;, &#39;primary_domain&#39;: &#39;Philosophy of Religion&#39;}]\nacknowledged: Voting Methods\n True\n[{&#39;_id&#39;: ObjectId(&#39;5f1bb9d1896f82cdbda61521&#39;), &#39;title&#39;: &#39;Voting Methods&#39;, &#39;domain_tags&#39;: &#39;Social and Political Philosophy&#39;, &#39;primary_domain&#39;: &#39;Social and Political Philosophy&#39;}]\nacknowledged: The Ethics and Rationality of Voting\n True\n[{&#39;_id&#39;: ObjectId(&#39;5f1bb9d3896f82cdbda61522&#39;), &#39;title&#39;: &#39;The Ethics and Rationality of Voting&#39;, &#39;domain_tags&#39;: &#39;Ethics,Social and Political Philosophy&#39;, &#39;primary_domain&#39;: &#39;Ethics&#39;}]\nacknowledged: Walter Chatton\n True\n[{&#39;_id&#39;: ObjectId(&#39;5f1bb9d4896f82cdbda61523&#39;), &#39;title&#39;: &#39;Walter Chatton&#39;, &#39;domain_tags&#39;: &#39;Thinker&#39;, &#39;primary_domain&#39;: &#39;Thinker&#39;}]\nacknowledged: Wang Yangming\n True\n[{&#39;_id&#39;: ObjectId(&#39;5f1bb9d6896f82cdbda61524&#39;), &#39;title&#39;: &#39;Wang Yangming&#39;, &#39;domain_tags&#39;: &#39;Thinker&#39;, &#39;primary_domain&#39;: &#39;Thinker&#39;}]\nacknowledged: War\n True\n[{&#39;_id&#39;: ObjectId(&#39;5f1bb9d8896f82cdbda61525&#39;), &#39;title&#39;: &#39;War&#39;, &#39;domain_tags&#39;: &#39;Social and Political Philosophy,Ethics&#39;, &#39;primary_domain&#39;: &#39;Social and Political Philosophy&#39;}]\nacknowledged: Watsuji TetsurÅ\n True\n[]\nacknowledged: Weakness of Will\n True\n[{&#39;_id&#39;: ObjectId(&#39;5f1bb9dc896f82cdbda61527&#39;), &#39;title&#39;: &#39;Weakness of Will&#39;, &#39;domain_tags&#39;: &#39;Mind,Ethics&#39;, &#39;primary_domain&#39;: &#39;Mind&#39;}]\nacknowledged: Max Weber\n True\n[{&#39;_id&#39;: ObjectId(&#39;5f1bb9dd896f82cdbda61528&#39;), &#39;title&#39;: &#39;Max Weber&#39;, &#39;domain_tags&#39;: &#39;Thinker&#39;, &#39;primary_domain&#39;: &#39;Thinker&#39;}]\nacknowledged: Well-Being\n True\n[{&#39;_id&#39;: ObjectId(&#39;5f1bb9df896f82cdbda61529&#39;), &#39;title&#39;: &#39;Well-Being&#39;, &#39;domain_tags&#39;: &#39;Ethics,Social and Political Philosophy&#39;, &#39;primary_domain&#39;: &#39;Ethics&#39;}]\nacknowledged: Wesley Salmon\n True\n[{&#39;_id&#39;: ObjectId(&#39;5f1bb9e0896f82cdbda6152a&#39;), &#39;title&#39;: &#39;Wesley Salmon&#39;, &#39;domain_tags&#39;: &#39;Thinker&#39;, &#39;primary_domain&#39;: &#39;Thinker&#39;}]\nacknowledged: Hermann Weyl\n True\n[{&#39;_id&#39;: ObjectId(&#39;5f1bb9e2896f82cdbda6152b&#39;), &#39;title&#39;: &#39;Hermann Weyl&#39;, &#39;domain_tags&#39;: &#39;Thinker&#39;, &#39;primary_domain&#39;: &#39;Thinker&#39;}]\nacknowledged: William Whewell\n True\n[{&#39;_id&#39;: ObjectId(&#39;5f1bb9e5896f82cdbda6152c&#39;), &#39;title&#39;: &#39;William Whewell&#39;, &#39;domain_tags&#39;: &#39;Thinker&#39;, &#39;primary_domain&#39;: &#39;Thinker&#39;}]\nacknowledged: Alfred North Whitehead\n True\n[{&#39;_id&#39;: ObjectId(&#39;5f1bb9e7896f82cdbda6152d&#39;), &#39;title&#39;: &#39;Alfred North Whitehead&#39;, &#39;domain_tags&#39;: &#39;Thinker,Logic&#39;, &#39;primary_domain&#39;: &#39;Thinker&#39;}]\nacknowledged: Wilhelm von Humboldt\n True\n[{&#39;_id&#39;: ObjectId(&#39;5f1bb9e8896f82cdbda6152e&#39;), &#39;title&#39;: &#39;Wilhelm von Humboldt&#39;, &#39;domain_tags&#39;: &#39;Thinker&#39;, &#39;primary_domain&#39;: &#39;Thinker&#39;}]\nacknowledged: Wilhelm Maximilian Wundt\n True\n[{&#39;_id&#39;: ObjectId(&#39;5f1bb9ea896f82cdbda6152f&#39;), &#39;title&#39;: &#39;Wilhelm Maximilian Wundt&#39;, &#39;domain_tags&#39;: &#39;Thinker&#39;, &#39;primary_domain&#39;: &#39;Thinker&#39;}]\nacknowledged: William of Auvergne\n True\n[{&#39;_id&#39;: ObjectId(&#39;5f1bb9eb896f82cdbda61530&#39;), &#39;title&#39;: &#39;William of Auvergne&#39;, &#39;domain_tags&#39;: &#39;Thinker&#39;, &#39;primary_domain&#39;: &#39;Thinker&#39;}]\nacknowledged: William of Champeaux\n True\n[{&#39;_id&#39;: ObjectId(&#39;5f1bb9ed896f82cdbda61531&#39;), &#39;title&#39;: &#39;William of Champeaux&#39;, &#39;domain_tags&#39;: &#39;Thinker&#39;, &#39;primary_domain&#39;: &#39;Thinker&#39;}]\nacknowledged: William David Ross\n True\n[{&#39;_id&#39;: ObjectId(&#39;5f1bb9ee896f82cdbda61532&#39;), &#39;title&#39;: &#39;William David Ross&#39;, &#39;domain_tags&#39;: &#39;Thinker&#39;, &#39;primary_domain&#39;: &#39;Thinker&#39;}]\nacknowledged: William Stanley Jevons\n True\n[{&#39;_id&#39;: ObjectId(&#39;5f1bb9ef896f82cdbda61533&#39;), &#39;title&#39;: &#39;William Stanley Jevons&#39;, &#39;domain_tags&#39;: &#39;Thinker&#39;, &#39;primary_domain&#39;: &#39;Thinker&#39;}]\nacknowledged: William of Sherwood\n True\n[{&#39;_id&#39;: ObjectId(&#39;5f1bb9f1896f82cdbda61534&#39;), &#39;title&#39;: &#39;William of Sherwood&#39;, &#39;domain_tags&#39;: &#39;Thinker&#39;, &#39;primary_domain&#39;: &#39;Thinker&#39;}]\nacknowledged: Bernard Williams\n True\n[{&#39;_id&#39;: ObjectId(&#39;5f1bb9f2896f82cdbda61535&#39;), &#39;title&#39;: &#39;Bernard Williams&#39;, &#39;domain_tags&#39;: &#39;Thinker&#39;, &#39;primary_domain&#39;: &#39;Thinker&#39;}]\nacknowledged: Donald Cary Williams\n True\n[{&#39;_id&#39;: ObjectId(&#39;5f1bb9f4896f82cdbda61536&#39;), &#39;title&#39;: &#39;Donald Cary Williams&#39;, &#39;domain_tags&#39;: &#39;Thinker&#39;, &#39;primary_domain&#39;: &#39;Thinker&#39;}]\nacknowledged: John Cook Wilson\n True\n[{&#39;_id&#39;: ObjectId(&#39;5f1bb9f5896f82cdbda61537&#39;), &#39;title&#39;: &#39;John Cook Wilson&#39;, &#39;domain_tags&#39;: &#39;Thinker&#39;, &#39;primary_domain&#39;: &#39;Thinker&#39;}]\nacknowledged: Wisdom\n True\n[{&#39;_id&#39;: ObjectId(&#39;5f1bb9f7896f82cdbda61538&#39;), &#39;title&#39;: &#39;Wisdom&#39;, &#39;domain_tags&#39;: &#39;Ethics&#39;, &#39;primary_domain&#39;: &#39;Ethics&#39;}]\nacknowledged: Wittgensteinâ€™s Aesthetics\n True\n[]\nacknowledged: Wittgensteinâ€™s Logical Atomism\n True\n[]\nacknowledged: Wittgensteinâ€™s Philosophy of Mathematics\n True\n[]\nacknowledged: Ludwig Wittgenstein\n True\n[{&#39;_id&#39;: ObjectId(&#39;5f1bb9fe896f82cdbda6153c&#39;), &#39;title&#39;: &#39;Ludwig Wittgenstein&#39;, &#39;domain_tags&#39;: &#39;Thinker,Logic,Philosophy of Language&#39;, &#39;primary_domain&#39;: &#39;Thinker&#39;}]\nacknowledged: Adam de Wodeham\n True\n[{&#39;_id&#39;: ObjectId(&#39;5f1bb9ff896f82cdbda6153d&#39;), &#39;title&#39;: &#39;Adam de Wodeham&#39;, &#39;domain_tags&#39;: &#39;Thinker,Philosophy of Religion&#39;, &#39;primary_domain&#39;: &#39;Thinker&#39;}]\nacknowledged: Christian Wolff\n True\n[{&#39;_id&#39;: ObjectId(&#39;5f1bba01896f82cdbda6153e&#39;), &#39;title&#39;: &#39;Christian Wolff&#39;, &#39;domain_tags&#39;: &#39;Thinker&#39;, &#39;primary_domain&#39;: &#39;Thinker&#39;}]\nacknowledged: Mary Wollstonecraft\n True\n[{&#39;_id&#39;: ObjectId(&#39;5f1bba02896f82cdbda6153f&#39;), &#39;title&#39;: &#39;Mary Wollstonecraft&#39;, &#39;domain_tags&#39;: &#39;Thinker&#39;, &#39;primary_domain&#39;: &#39;Thinker&#39;}]\nacknowledged: Word Meaning\n True\n[{&#39;_id&#39;: ObjectId(&#39;5f1bba04896f82cdbda61540&#39;), &#39;title&#39;: &#39;Word Meaning&#39;, &#39;domain_tags&#39;: &#39;Philosophy of Language&#39;, &#39;primary_domain&#39;: &#39;Philosophy of Language&#39;}]\nacknowledged: World Government\n True\n[{&#39;_id&#39;: ObjectId(&#39;5f1bba05896f82cdbda61541&#39;), &#39;title&#39;: &#39;World Government&#39;, &#39;domain_tags&#39;: &#39;Social and Political Philosophy&#39;, &#39;primary_domain&#39;: &#39;Social and Political Philosophy&#39;}]\nacknowledged: Chauncey Wright\n True\n[{&#39;_id&#39;: ObjectId(&#39;5f1bba06896f82cdbda61542&#39;), &#39;title&#39;: &#39;Chauncey Wright&#39;, &#39;domain_tags&#39;: &#39;Thinker&#39;, &#39;primary_domain&#39;: &#39;Thinker&#39;}]\nacknowledged: John Wyclifâ€™s Political Philosophy\n True\n[]\nacknowledged: John Wyclif\n True\n[{&#39;_id&#39;: ObjectId(&#39;5f1bba09896f82cdbda61544&#39;), &#39;title&#39;: &#39;John Wyclif&#39;, &#39;domain_tags&#39;: &#39;Thinker&#39;, &#39;primary_domain&#39;: &#39;Thinker&#39;}]\nacknowledged: Xenocrates\n True\n[{&#39;_id&#39;: ObjectId(&#39;5f1bba0b896f82cdbda61545&#39;), &#39;title&#39;: &#39;Xenocrates&#39;, &#39;domain_tags&#39;: &#39;Thinker&#39;, &#39;primary_domain&#39;: &#39;Thinker&#39;}]\nacknowledged: Xenophanes\n True\n[{&#39;_id&#39;: ObjectId(&#39;5f1bba0c896f82cdbda61546&#39;), &#39;title&#39;: &#39;Xenophanes&#39;, &#39;domain_tags&#39;: &#39;Thinker&#39;, &#39;primary_domain&#39;: &#39;Thinker&#39;}]\nacknowledged: Xunzi\n True\n[{&#39;_id&#39;: ObjectId(&#39;5f1bba0d896f82cdbda61547&#39;), &#39;title&#39;: &#39;Xunzi&#39;, &#39;domain_tags&#39;: &#39;Thinker,Chinese Philosophy&#39;, &#39;primary_domain&#39;: &#39;Thinker&#39;}]\nacknowledged: Count Paul Yorck von Wartenburg\n True\n[{&#39;_id&#39;: ObjectId(&#39;5f1bba0e896f82cdbda61548&#39;), &#39;title&#39;: &#39;Count Paul Yorck von Wartenburg&#39;, &#39;domain_tags&#39;: &#39;Thinker&#39;, &#39;primary_domain&#39;: &#39;Thinker&#39;}]\nacknowledged: Giacomo Zabarella\n True\n[{&#39;_id&#39;: ObjectId(&#39;5f1bba10896f82cdbda61549&#39;), &#39;title&#39;: &#39;Giacomo Zabarella&#39;, &#39;domain_tags&#39;: &#39;Thinker&#39;, &#39;primary_domain&#39;: &#39;Thinker&#39;}]\nacknowledged: Zeno of Elea\n True\n[{&#39;_id&#39;: ObjectId(&#39;5f1bba13896f82cdbda6154a&#39;), &#39;title&#39;: &#39;Zeno of Elea&#39;, &#39;domain_tags&#39;: &#39;Thinker&#39;, &#39;primary_domain&#39;: &#39;Thinker&#39;}]\nacknowledged: Zermeloâ€™s Axiomatization of Set Theory\n True\n[]\nacknowledged: Zhu Xi\n True\n[{&#39;_id&#39;: ObjectId(&#39;5f1bba16896f82cdbda6154c&#39;), &#39;title&#39;: &#39;Zhu Xi&#39;, &#39;domain_tags&#39;: &#39;Thinker,Chinese Philosophy&#39;, &#39;primary_domain&#39;: &#39;Thinker&#39;}]\nacknowledged: Zhuangzi\n True\n1703it [00:03, 526.04it/s]\nacknowledged: Zombies\n True\n[{&#39;_id&#39;: ObjectId(&#39;5f1bba19896f82cdbda6154e&#39;), &#39;title&#39;: &#39;Zombies&#39;, &#39;domain_tags&#39;: &#39;Mind&#39;, &#39;primary_domain&#39;: &#39;Mind&#39;}]\nacknowledged: Philosophy of Biomedicine\n True\n[{&#39;_id&#39;: ObjectId(&#39;5f1bc2edc9d4344a5ae1011c&#39;), &#39;title&#39;: &#39;Philosophy of Biomedicine&#39;, &#39;domain_tags&#39;: &#39;Philosophy of Biology&#39;, &#39;primary_domain&#39;: &#39;Philosophy of Biology&#39;}]\nacknowledged: Descartesâ€™ Method\n True\n[]\nacknowledged: Ethics of Artificial Intelligence and Robotics\n True\n[{&#39;_id&#39;: ObjectId(&#39;5f1bc300c9d4344a5ae1012e&#39;), &#39;title&#39;: &#39;Ethics of Artificial Intelligence and Robotics&#39;, &#39;domain_tags&#39;: &#39;Ethics,Philosophy of Computer Science&#39;, &#39;primary_domain&#39;: &#39;Ethics&#39;}]\nacknowledged: Francisco Sanches\n True\n[{&#39;_id&#39;: ObjectId(&#39;5f1bc30ec9d4344a5ae1013b&#39;), &#39;title&#39;: &#39;Francisco Sanches&#39;, &#39;domain_tags&#39;: &#39;Thinker&#39;, &#39;primary_domain&#39;: &#39;Thinker&#39;}]\nacknowledged: Gaá¹…geÅ›a\n True\n[]\nacknowledged: Imaginative Resistance\n True\n[{&#39;_id&#39;: ObjectId(&#39;5f1bc31dc9d4344a5ae10149&#39;), &#39;title&#39;: &#39;Imaginative Resistance&#39;, &#39;domain_tags&#39;: &#39;Mind, Aesthetics and Philosophy of Art&#39;, &#39;primary_domain&#39;: &#39;Mind&#39;}]\nacknowledged: Climate Justice\n True\n[{&#39;_id&#39;: ObjectId(&#39;5f1bc324c9d4344a5ae10151&#39;), &#39;title&#39;: &#39;Climate Justice&#39;, &#39;domain_tags&#39;: &#39;Social and Political Philosophy&#39;, &#39;primary_domain&#39;: &#39;Social and Political Philosophy&#39;}]\nacknowledged: Kantian Conceptualism/Nonconceptualism\n True\n[{&#39;_id&#39;: ObjectId(&#39;5f1bc325c9d4344a5ae10153&#39;), &#39;title&#39;: &#39;Kantian Conceptualism/Nonconceptualism&#39;, &#39;domain_tags&#39;: &#39;Thinker&#39;, &#39;primary_domain&#39;: &#39;Thinker&#39;}]\nacknowledged: Scientific Research and Big Data\n True\n[{&#39;_id&#39;: ObjectId(&#39;5f1bc354c9d4344a5ae10179&#39;), &#39;title&#39;: &#39;Scientific Research and Big Data&#39;, &#39;domain_tags&#39;: &#39;Philosophy of Science,Philosophy of Computer Science&#39;, &#39;primary_domain&#39;: &#39;Philosophy of Science&#39;}]\nacknowledged: Simplicius\n True\n[{&#39;_id&#39;: ObjectId(&#39;5f1bc35bc9d4344a5ae1017e&#39;), &#39;title&#39;: &#39;Simplicius&#39;, &#39;domain_tags&#39;: &#39;Thinker&#39;, &#39;primary_domain&#39;: &#39;Thinker&#39;}]\nacknowledged: Territorial Rights and Territorial Justice\n True\n[{&#39;_id&#39;: ObjectId(&#39;5f1bc364c9d4344a5ae10187&#39;), &#39;title&#39;: &#39;Territorial Rights and Territorial Justice&#39;, &#39;domain_tags&#39;: &#39;Social and Political Philosophy&#39;, &#39;primary_domain&#39;: &#39;Social and Political Philosophy&#39;}]\nacknowledged: Wilhelm Windelband\n True\n[{&#39;_id&#39;: ObjectId(&#39;5f1bc36cc9d4344a5ae10194&#39;), &#39;title&#39;: &#39;Wilhelm Windelband&#39;, &#39;domain_tags&#39;: &#39;Thinker&#39;, &#39;primary_domain&#39;: &#39;Thinker&#39;}]\nacknowledged: Isaac Albalag\n True\n[{&#39;_id&#39;: ObjectId(&#39;5f7678c0038c9c30f78468e9&#39;), &#39;title&#39;: &#39;Isaac Albalag&#39;, &#39;domain_tags&#39;: &#39;Thinker&#39;, &#39;primary_domain&#39;: &#39;Thinker&#39;}]\nacknowledged: Moral Responsibility and the Principle of Alternative Possibilities\n True\n[{&#39;_id&#39;: ObjectId(&#39;5f7678c1038c9c30f78468eb&#39;), &#39;title&#39;: &#39;Moral Responsibility and the Principle of Alternative Possibilities&#39;, &#39;domain_tags&#39;: &#39;Ethics&#39;, &#39;primary_domain&#39;: &#39;Ethics&#39;}]\nacknowledged: Boethius of Dacia\n True\n[{&#39;_id&#39;: ObjectId(&#39;5f7678ca038c9c30f78468f9&#39;), &#39;title&#39;: &#39;Boethius of Dacia&#39;, &#39;domain_tags&#39;: &#39;Thinker&#39;, &#39;primary_domain&#39;: &#39;Thinker&#39;}]\nacknowledged: Causation in Physics\n True\n[{&#39;_id&#39;: ObjectId(&#39;5f7678ce038c9c30f7846900&#39;), &#39;title&#39;: &#39;Causation in Physics&#39;, &#39;domain_tags&#39;: &#39;Philosophy of Physics&#39;, &#39;primary_domain&#39;: &#39;Philosophy of Physics&#39;}]\nacknowledged: Divine Revelation\n True\n[{&#39;_id&#39;: ObjectId(&#39;5f7678d9038c9c30f784690e&#39;), &#39;title&#39;: &#39;Divine Revelation&#39;, &#39;domain_tags&#39;: &#39;Philosophy of Religion, Epistemology&#39;, &#39;primary_domain&#39;: &#39;Philosophy of Religion&#39;}]\nacknowledged: Evolution and Development\n True\n[{&#39;_id&#39;: ObjectId(&#39;5f7678de038c9c30f7846917&#39;), &#39;title&#39;: &#39;Evolution and Development&#39;, &#39;domain_tags&#39;: &#39;Philosophy of Biology, Philosophy of Biology&#39;, &#39;primary_domain&#39;: &#39;Philosophy of Biology&#39;}]\nacknowledged: Lutherâ€™s Influence on Philosophy\n True\n[]\nacknowledged: Martin Luther\n True\n[{&#39;_id&#39;: ObjectId(&#39;5f7678ef038c9c30f784692e&#39;), &#39;title&#39;: &#39;Martin Luther&#39;, &#39;domain_tags&#39;: &#39;Thinker, Philosophy of Religion&#39;, &#39;primary_domain&#39;: &#39;Thinker&#39;}]\nacknowledged: Philosophy of Microbiology\n True\n[{&#39;_id&#39;: ObjectId(&#39;5f7678f1038c9c30f7846931&#39;), &#39;title&#39;: &#39;Philosophy of Microbiology&#39;, &#39;domain_tags&#39;: &#39;Philosophy of Biology&#39;, &#39;primary_domain&#39;: &#39;Philosophy of Biology&#39;}]\nacknowledged: Protagoras\n True\n[{&#39;_id&#39;: ObjectId(&#39;5f7678ff038c9c30f7846946&#39;), &#39;title&#39;: &#39;Protagoras&#39;, &#39;domain_tags&#39;: &#39;Thinker&#39;, &#39;primary_domain&#39;: &#39;Thinker&#39;}]\nacknowledged: The Psychology of Normative Cognition\n True\n[{&#39;_id&#39;: ObjectId(&#39;5f767901038c9c30f7846949&#39;), &#39;title&#39;: &#39;The Psychology of Normative Cognition&#39;, &#39;domain_tags&#39;: &#39;Mind, Philosophy of Biology&#39;, &#39;primary_domain&#39;: &#39;Mind&#39;}]\n\n"
    }
   ],
   "source": [
    "collection_to_update = db.sep_entries\n",
    "\n",
    "#import updated data\n",
    "updated_domains = pd.read_csv('domains.csv')\n",
    "\n",
    "for index,row in tqdm(updated_domains.iterrows()):\n",
    "    title = row['title']\n",
    "    domain_tags = row['domain_tags']\n",
    "    primary_domain = row['primary_domain']\n",
    "\n",
    "    sep.update_domain_info(title,domain_tags, primary_domain, collection_to_update)"
   ]
  },
  {
   "cell_type": "code",
   "execution_count": 4,
   "metadata": {
    "tags": []
   },
   "outputs": [
    {
     "output_type": "stream",
     "name": "stdout",
     "text": "[&#39;Aesthetics and Philosophy of Art&#39;,\n &#39;African and African-American Philosophy&#39;,\n &#39;Arabic and Islamic Philosophy&#39;,\n &#39;Chinese Philosophy&#39;,\n &#39;Continental Philosophy&#39;,\n &#39;Epistemology&#39;,\n &#39;Ethics&#39;,\n &#39;Feminist Philosophy&#39;,\n &#39;Indian Philosophy&#39;,\n &#39;Japanese Philosophy&#39;,\n &#39;Latin American Philosophy&#39;,\n &#39;Logic&#39;,\n &#39;Metaphysics&#39;,\n &#39;Philosophy of Biology&#39;,\n &#39;Philosophy of Computer Science&#39;,\n &#39;Philosophy of Economics&#39;,\n &#39;Philosophy of Language&#39;,\n &#39;Philosophy of Law&#39;,\n &#39;Philosophy of Mathematics&#39;,\n &#39;Philosophy of Mind&#39;,\n &#39;Philosophy of Physics&#39;,\n &#39;Philosophy of Religion&#39;,\n &#39;Philosophy of Science&#39;,\n &#39;Political and Social Theory&#39;,\n &#39;Social and Political Philosophy&#39;,\n &#39;Thinker&#39;]\n"
    }
   ],
   "source": [
    "collection_to_update = db.sep_entries\n",
    "pprint(collection_to_update.distinct('primary_domain'))"
   ]
  },
  {
   "cell_type": "code",
   "execution_count": null,
   "metadata": {},
   "outputs": [],
   "source": [
    "#Prior Updates\n",
    "# African American Philosophy: Completed 10.2.2020\n",
    "# text_filter = 'African African-American'\n",
    "# sep_filter = 'African and African-American Philosophy'\n",
    "#########################################################\n",
    "\n",
    "\n"
   ]
  },
  {
   "cell_type": "code",
   "execution_count": 5,
   "metadata": {},
   "outputs": [],
   "source": [
    "#update domains\n",
    "\n",
    "collection_to_update = db.sep_entries\n",
    "\n",
    "text_filter = 'African African-American'\n",
    "sep_filter = 'African and African-American Philosophy'\n",
    "\n",
    "text_results = pd.DataFrame(collection_to_update.find(\n",
    "                                         {'$text':{'$search': text_filter }},\n",
    "                                         {'score': { '$meta': 'textScore'}, \n",
    "                                            'title':1, \n",
    "                                            'page_url':1,\n",
    "                                            'primary_domain':1, \n",
    "                                            'domain_tags':1}\n",
    "                                         ))\n",
    "text_results_above1 = text_results[text_results.score > 1]\n",
    "\n",
    "text_results_above1.to_csv('aa1.csv')\n",
    "\n",
    "sep_results = pd.DataFrame(collection_to_update.find({ 'domain_tags': { '$regex': sep_filter } },\n",
    "                                              {'title':1, 'primary_domain':1, 'domain_tags':1}))\n",
    "\n",
    "sep_results.to_csv('aa_sep.csv')"
   ]
  },
  {
   "cell_type": "code",
   "execution_count": 12,
   "metadata": {
    "tags": []
   },
   "outputs": [
    {
     "output_type": "stream",
     "name": "stderr",
     "text": "23it [00:00, 221.75it/s]acknowledged: /entries/justice-intergenerational/\n True\n[{&#39;_id&#39;: ObjectId(&#39;5f1bb47a896f82cdbda611d5&#39;), &#39;title&#39;: &#39;Intergenerational Justice&#39;, &#39;domain_tags&#39;: &#39;Social and Political Philosophy, African and African-American Philosophy&#39;, &#39;primary_domain&#39;: &#39;Social and Political Philosophy&#39;}]\nacknowledged: /entries/recognition/\n True\n[{&#39;_id&#39;: ObjectId(&#39;5f1bb80f896f82cdbda6140c&#39;), &#39;title&#39;: &#39;Recognition&#39;, &#39;domain_tags&#39;: &#39;Philosophy of Mind, Ethics, Social and Political Philosophy&#39;, &#39;primary_domain&#39;: &#39;Social and Political Philosophy&#39;}]\nacknowledged: /entries/dirty-hands/\n True\n[{&#39;_id&#39;: ObjectId(&#39;5f1bb1d8896f82cdbda61048&#39;), &#39;title&#39;: &#39;The Problem of Dirty Hands&#39;, &#39;domain_tags&#39;: &#39;Ethics,Social and Political Philosophy&#39;, &#39;primary_domain&#39;: &#39;Social and Political Philosophy&#39;}]\nacknowledged: /entries/akan-person/\n True\n[{&#39;_id&#39;: ObjectId(&#39;5f1baf40896f82cdbda60edf&#39;), &#39;title&#39;: &#39;Akan Philosophy of the Person&#39;, &#39;domain_tags&#39;: &#39;African and African-American Philosophy,Metaphysics&#39;, &#39;primary_domain&#39;: &#39;African and African-American Philosophy&#39;}]\nacknowledged: /entries/discrimination/\n True\n[{&#39;_id&#39;: ObjectId(&#39;5f1bb1e6896f82cdbda61050&#39;), &#39;title&#39;: &#39;Discrimination&#39;, &#39;domain_tags&#39;: &#39;Social and Political Philosophy, African and African-American Philosophy&#39;, &#39;primary_domain&#39;: &#39;Social and Political Philosophy&#39;}]\nacknowledged: /entries/african-sage/\n True\n[{&#39;_id&#39;: ObjectId(&#39;5f1baf38896f82cdbda60eda&#39;), &#39;title&#39;: &#39;African Sage Philosophy&#39;, &#39;domain_tags&#39;: &#39;African and African-American Philosophy,Social and Political Philosophy&#39;, &#39;primary_domain&#39;: &#39;African and African-American Philosophy&#39;}]\nacknowledged: /entries/justice-transitional/\n True\n[{&#39;_id&#39;: ObjectId(&#39;5f1bb47e896f82cdbda611d8&#39;), &#39;title&#39;: &#39;Transitional Justice&#39;, &#39;domain_tags&#39;: &#39;Social and Political Philosophy, African and African-American Philosophy&#39;, &#39;primary_domain&#39;: &#39;Social and Political Philosophy&#39;}]\nacknowledged: /entries/dubois/\n True\n[{&#39;_id&#39;: ObjectId(&#39;5f1bb202896f82cdbda6105e&#39;), &#39;title&#39;: &#39;W.E.B. Du Bois&#39;, &#39;domain_tags&#39;: &#39;Thinker,Social and Political Philosophy, African and African-American Philosophy&#39;, &#39;primary_domain&#39;: &#39;Thinker&#39;}]\nacknowledged: /entries/implicit-bias/\n True\n[{&#39;_id&#39;: ObjectId(&#39;5f1bb422896f82cdbda61195&#39;), &#39;title&#39;: &#39;Implicit Bias&#39;, &#39;domain_tags&#39;: &#39;Philosophy of Mind,Philosophy of Biology, African and African-American Philosophy&#39;, &#39;primary_domain&#39;: &#39;Philosophy of Mind&#39;}]\nacknowledged: /entries/negritude/\n True\n[{&#39;_id&#39;: ObjectId(&#39;5f1bb63d896f82cdbda6130c&#39;), &#39;title&#39;: &#39;Négritude&#39;, &#39;domain_tags&#39;: &#39;Political and Social Theory, African and African-American Philosophy&#39;, &#39;primary_domain&#39;: &#39;African and African-American Philosophy&#39;}]\nacknowledged: /entries/african-ethics/\n True\n[{&#39;_id&#39;: ObjectId(&#39;5f1baf36896f82cdbda60ed9&#39;), &#39;title&#39;: &#39;African Ethics&#39;, &#39;domain_tags&#39;: &#39;African and African-American Philosophy,Ethics&#39;, &#39;primary_domain&#39;: &#39;African and African-American Philosophy&#39;}]\nacknowledged: /entries/frantz-fanon/\n True\n[{&#39;_id&#39;: ObjectId(&#39;5f1bb328896f82cdbda61108&#39;), &#39;title&#39;: &#39;Frantz Fanon&#39;, &#39;domain_tags&#39;: &#39;Thinker, African and African-American Philosophy&#39;, &#39;primary_domain&#39;: &#39;Thinker&#39;}]\nacknowledged: /entries/civil-rights/\n True\n[{&#39;_id&#39;: ObjectId(&#39;5f1bb0ae896f82cdbda60fab&#39;), &#39;title&#39;: &#39;Civil Rights&#39;, &#39;domain_tags&#39;: &#39;Social and Political Philosophy,Ethics, African and African-American Philosophy&#39;, &#39;primary_domain&#39;: &#39;Social and Political Philosophy&#39;}]\nacknowledged: /entries/alexander-crummell/\n True\n[{&#39;_id&#39;: ObjectId(&#39;5f1baf55896f82cdbda60eed&#39;), &#39;title&#39;: &#39;Alexander Crummell&#39;, &#39;domain_tags&#39;: &#39;Thinker,Social and Political Philosophy, African and African-American Philosophy&#39;, &#39;primary_domain&#39;: &#39;Thinker&#39;}]\nacknowledged: /entries/multiculturalism/\n True\n[{&#39;_id&#39;: ObjectId(&#39;5f1bb615896f82cdbda612f6&#39;), &#39;title&#39;: &#39;Multiculturalism&#39;, &#39;domain_tags&#39;: &#39;Social and Political Philosophy&#39;, &#39;primary_domain&#39;: &#39;Social and Political Philosophy&#39;}]\nacknowledged: /entries/alain-locke/\n True\n[{&#39;_id&#39;: ObjectId(&#39;5f1baf4e896f82cdbda60ee7&#39;), &#39;title&#39;: &#39;Alain LeRoy Locke&#39;, &#39;domain_tags&#39;: &#39;Thinker,Aesthetics and Philosophy of Art,Social and Political Philosophy, African and African-American Philosophy&#39;, &#39;primary_domain&#39;: &#39;Thinker&#39;}]\nacknowledged: /entries/race/\n True\n[{&#39;_id&#39;: ObjectId(&#39;5f1bb7e8896f82cdbda613f6&#39;), &#39;title&#39;: &#39;Race&#39;, &#39;domain_tags&#39;: &#39;Social and Political Philosophy,Philosophy of Biology, African and African-American Philosophy&#39;, &#39;primary_domain&#39;: &#39;Social and Political Philosophy&#39;}]\nacknowledged: /entries/affirmative-action/\n True\n[{&#39;_id&#39;: ObjectId(&#39;5f1baf35896f82cdbda60ed8&#39;), &#39;title&#39;: &#39;Affirmative Action&#39;, &#39;domain_tags&#39;: &#39;Social and Political Philosophy, African and African-American Philosophy&#39;, &#39;primary_domain&#39;: &#39;Social and Political Philosophy&#39;}]\nacknowledged: /entries/double-consciousness/\n True\n[{&#39;_id&#39;: ObjectId(&#39;5f1bb1f5896f82cdbda61058&#39;), &#39;title&#39;: &#39;Double Consciousness&#39;, &#39;domain_tags&#39;: &#39;Philosophy of Mind, African and African-American Philosophy&#39;, &#39;primary_domain&#39;: &#39;African and African-American Philosophy&#39;}]\nacknowledged: /entries/black-reparations/\n True\n[{&#39;_id&#39;: ObjectId(&#39;5f1bb016896f82cdbda60f59&#39;), &#39;title&#39;: &#39;Black Reparations&#39;, &#39;domain_tags&#39;: &#39;Social and Political Philosophy,Ethics,African and African-American Philosophy&#39;, &#39;primary_domain&#39;: &#39;African and African-American Philosophy&#39;}]\nacknowledged: /entries/anna-julia-cooper/\n True\n[{&#39;_id&#39;: ObjectId(&#39;5f1baf7d896f82cdbda60f03&#39;), &#39;title&#39;: &#39;Anna Julia Cooper&#39;, &#39;domain_tags&#39;: &#39;Thinker,Social and Political Philosophy&#39;, &#39;primary_domain&#39;: &#39;Thinker&#39;}]\nacknowledged: /entries/africana/\n True\n[{&#39;_id&#39;: ObjectId(&#39;5f1baf3a896f82cdbda60edb&#39;), &#39;title&#39;: &#39;Africana Philosophy&#39;, &#39;domain_tags&#39;: &#39;African and African-American Philosophy,Metaphysics&#39;, &#39;primary_domain&#39;: &#39;African and African-American Philosophy&#39;}]\nacknowledged: /entries/frederick-douglass/\n True\n[{&#39;_id&#39;: ObjectId(&#39;5f1bb329896f82cdbda61109&#39;), &#39;title&#39;: &#39;Frederick Douglass&#39;, &#39;domain_tags&#39;: &#39;Thinker,Social and Political Philosophy&#39;, &#39;primary_domain&#39;: &#39;Thinker&#39;}]\n\n"
    }
   ],
   "source": [
    "\n",
    "collection_to_update = db.sep_entries\n",
    "domains_to_update = pd.read_csv('aa1.csv')\n",
    "domain_to_update.head()\n",
    "\n",
    "for index,row in tqdm(domain_to_update.iterrows()):\n",
    "    title = row['title']\n",
    "    domain_tags = row['domain_tags']\n",
    "    primary_domain = row['primary_domain']\n",
    "    page_url = row['page_url']\n",
    "\n",
    "    sep.update_domain_info(page_url,domain_tags, primary_domain, collection_to_update)\n",
    "\n"
   ]
  },
  {
   "cell_type": "code",
   "execution_count": 13,
   "metadata": {
    "tags": []
   },
   "outputs": [
    {
     "output_type": "stream",
     "name": "stdout",
     "text": "[{&#39;_id&#39;: ObjectId(&#39;5f1baf35896f82cdbda60ed8&#39;),\n  &#39;domain_tags&#39;: &#39;Social and Political Philosophy, African and &#39;\n                 &#39;African-American Philosophy&#39;,\n  &#39;primary_domain&#39;: &#39;Social and Political Philosophy&#39;,\n  &#39;title&#39;: &#39;Affirmative Action&#39;},\n {&#39;_id&#39;: ObjectId(&#39;5f1baf36896f82cdbda60ed9&#39;),\n  &#39;domain_tags&#39;: &#39;African and African-American Philosophy,Ethics&#39;,\n  &#39;primary_domain&#39;: &#39;African and African-American Philosophy&#39;,\n  &#39;title&#39;: &#39;African Ethics&#39;},\n {&#39;_id&#39;: ObjectId(&#39;5f1baf38896f82cdbda60eda&#39;),\n  &#39;domain_tags&#39;: &#39;African and African-American Philosophy,Social and Political &#39;\n                 &#39;Philosophy&#39;,\n  &#39;primary_domain&#39;: &#39;African and African-American Philosophy&#39;,\n  &#39;title&#39;: &#39;African Sage Philosophy&#39;},\n {&#39;_id&#39;: ObjectId(&#39;5f1baf3a896f82cdbda60edb&#39;),\n  &#39;domain_tags&#39;: &#39;African and African-American Philosophy,Metaphysics&#39;,\n  &#39;primary_domain&#39;: &#39;African and African-American Philosophy&#39;,\n  &#39;title&#39;: &#39;Africana Philosophy&#39;},\n {&#39;_id&#39;: ObjectId(&#39;5f1baf40896f82cdbda60edf&#39;),\n  &#39;domain_tags&#39;: &#39;African and African-American Philosophy,Metaphysics&#39;,\n  &#39;primary_domain&#39;: &#39;African and African-American Philosophy&#39;,\n  &#39;title&#39;: &#39;Akan Philosophy of the Person&#39;},\n {&#39;_id&#39;: ObjectId(&#39;5f1baf4e896f82cdbda60ee7&#39;),\n  &#39;domain_tags&#39;: &#39;Thinker,Aesthetics and Philosophy of Art,Social and &#39;\n                 &#39;Political Philosophy, African and African-American &#39;\n                 &#39;Philosophy&#39;,\n  &#39;primary_domain&#39;: &#39;Thinker&#39;,\n  &#39;title&#39;: &#39;Alain LeRoy Locke&#39;},\n {&#39;_id&#39;: ObjectId(&#39;5f1baf55896f82cdbda60eed&#39;),\n  &#39;domain_tags&#39;: &#39;Thinker,Social and Political Philosophy, African and &#39;\n                 &#39;African-American Philosophy&#39;,\n  &#39;primary_domain&#39;: &#39;Thinker&#39;,\n  &#39;title&#39;: &#39;Alexander Crummell&#39;},\n {&#39;_id&#39;: ObjectId(&#39;5f1bb016896f82cdbda60f59&#39;),\n  &#39;domain_tags&#39;: &#39;Social and Political Philosophy,Ethics,African and &#39;\n                 &#39;African-American Philosophy&#39;,\n  &#39;primary_domain&#39;: &#39;African and African-American Philosophy&#39;,\n  &#39;title&#39;: &#39;Black Reparations&#39;},\n {&#39;_id&#39;: ObjectId(&#39;5f1bb0ae896f82cdbda60fab&#39;),\n  &#39;domain_tags&#39;: &#39;Social and Political Philosophy,Ethics, African and &#39;\n                 &#39;African-American Philosophy&#39;,\n  &#39;primary_domain&#39;: &#39;Social and Political Philosophy&#39;,\n  &#39;title&#39;: &#39;Civil Rights&#39;},\n {&#39;_id&#39;: ObjectId(&#39;5f1bb1e6896f82cdbda61050&#39;),\n  &#39;domain_tags&#39;: &#39;Social and Political Philosophy, African and &#39;\n                 &#39;African-American Philosophy&#39;,\n  &#39;primary_domain&#39;: &#39;Social and Political Philosophy&#39;,\n  &#39;title&#39;: &#39;Discrimination&#39;},\n {&#39;_id&#39;: ObjectId(&#39;5f1bb1f5896f82cdbda61058&#39;),\n  &#39;domain_tags&#39;: &#39;Philosophy of Mind, African and African-American Philosophy&#39;,\n  &#39;primary_domain&#39;: &#39;African and African-American Philosophy&#39;,\n  &#39;title&#39;: &#39;Double Consciousness&#39;},\n {&#39;_id&#39;: ObjectId(&#39;5f1bb202896f82cdbda6105e&#39;),\n  &#39;domain_tags&#39;: &#39;Thinker,Social and Political Philosophy, African and &#39;\n                 &#39;African-American Philosophy&#39;,\n  &#39;primary_domain&#39;: &#39;Thinker&#39;,\n  &#39;title&#39;: &#39;W.E.B. Du Bois&#39;},\n {&#39;_id&#39;: ObjectId(&#39;5f1bb328896f82cdbda61108&#39;),\n  &#39;domain_tags&#39;: &#39;Thinker, African and African-American Philosophy&#39;,\n  &#39;primary_domain&#39;: &#39;Thinker&#39;,\n  &#39;title&#39;: &#39;Frantz Fanon&#39;},\n {&#39;_id&#39;: ObjectId(&#39;5f1bb422896f82cdbda61195&#39;),\n  &#39;domain_tags&#39;: &#39;Philosophy of Mind,Philosophy of Biology, African and &#39;\n                 &#39;African-American Philosophy&#39;,\n  &#39;primary_domain&#39;: &#39;Philosophy of Mind&#39;,\n  &#39;title&#39;: &#39;Implicit Bias&#39;},\n {&#39;_id&#39;: ObjectId(&#39;5f1bb47a896f82cdbda611d5&#39;),\n  &#39;domain_tags&#39;: &#39;Social and Political Philosophy, African and &#39;\n                 &#39;African-American Philosophy&#39;,\n  &#39;primary_domain&#39;: &#39;Social and Political Philosophy&#39;,\n  &#39;title&#39;: &#39;Intergenerational Justice&#39;},\n {&#39;_id&#39;: ObjectId(&#39;5f1bb47e896f82cdbda611d8&#39;),\n  &#39;domain_tags&#39;: &#39;Social and Political Philosophy, African and &#39;\n                 &#39;African-American Philosophy&#39;,\n  &#39;primary_domain&#39;: &#39;Social and Political Philosophy&#39;,\n  &#39;title&#39;: &#39;Transitional Justice&#39;},\n {&#39;_id&#39;: ObjectId(&#39;5f1bb63d896f82cdbda6130c&#39;),\n  &#39;domain_tags&#39;: &#39;Political and Social Theory, African and African-American &#39;\n                 &#39;Philosophy&#39;,\n  &#39;primary_domain&#39;: &#39;African and African-American Philosophy&#39;,\n  &#39;title&#39;: &#39;Négritude&#39;},\n {&#39;_id&#39;: ObjectId(&#39;5f1bb7e8896f82cdbda613f6&#39;),\n  &#39;domain_tags&#39;: &#39;Social and Political Philosophy,Philosophy of Biology, &#39;\n                 &#39;African and African-American Philosophy&#39;,\n  &#39;primary_domain&#39;: &#39;Social and Political Philosophy&#39;,\n  &#39;title&#39;: &#39;Race&#39;}]\n"
    }
   ],
   "source": [
    "\n",
    "update_results = list(collection_to_update.find({ 'domain_tags': { '$regex': 'African'} },\n",
    "                                              {'title':1, 'primary_domain':1, 'domain_tags':1}))\n",
    "\n",
    "pprint(update_results)"
   ]
  },
  {
   "cell_type": "code",
   "execution_count": null,
   "metadata": {},
   "outputs": [],
   "source": []
  }
 ],
 "metadata": {
  "language_info": {
   "name": "python",
   "codemirror_mode": {
    "name": "ipython",
    "version": 3
   },
   "version": "3.6.9-final"
  },
  "orig_nbformat": 2,
  "file_extension": ".py",
  "mimetype": "text/x-python",
  "name": "python",
  "npconvert_exporter": "python",
  "pygments_lexer": "ipython3",
  "version": 3,
  "kernelspec": {
   "name": "python36964bitpythondataconda8971416e9bae4e8197b8a061b72f9dc8",
   "display_name": "Python 3.6.9 64-bit ('PythonData': conda)"
  }
 },
 "nbformat": 4,
 "nbformat_minor": 2
}