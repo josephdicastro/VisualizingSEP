{
 "cells": [
  {
   "cell_type": "code",
   "execution_count": 3,
   "metadata": {},
   "outputs": [],
   "source": [
    "### THIS SCRIPT CLEANS THE COLLECTED SEP ###   "
   ]
  },
  {
   "cell_type": "code",
   "execution_count": 2,
   "metadata": {},
   "outputs": [],
   "source": [
    "import pymongo \n",
    "import requests\n",
    "import json\n",
    "\n",
    "from tqdm import tqdm\n",
    "from bson.objectid import ObjectId\n",
    "from pprint import pprint\n",
    "\n",
    "import lib_sepinpho as sep\n",
    "\n",
    "##### INIT GLOBAL VARIABLES#####\n",
    "\n",
    "#init Mongo\n",
    "conn = 'mongodb://localhost:27017'\n",
    "client = pymongo.MongoClient(conn)\n",
    "\n",
    "#create database\n",
    "db = client.visualizing_sep"
   ]
  },
  {
   "cell_type": "code",
   "execution_count": 5,
   "metadata": {
    "tags": []
   },
   "outputs": [
    {
     "output_type": "stream",
     "name": "stdout",
     "text": "[{'_id': ObjectId('5f1bb3a3896f82cdbda61150'), 'title': 'Hegel’s Dialectics'},\n {'_id': ObjectId('5f1bb3fd896f82cdbda61180'),\n  'title': 'Ibn Sina’s Natural Philosophy'},\n {'_id': ObjectId('5f1bb64f896f82cdbda6131a'),\n  'title': 'Nietzsche’s Life and Works'},\n {'_id': ObjectId('5f1bb8f9896f82cdbda61499'), 'title': 'Sophie de Grouchy'}]\n"
    }
   ],
   "source": [
    "##### Cleaning Sep_Entries ########\n",
    "##### Completed 7.16.2020 ########\n",
    "\n",
    "#1. Check for entries with InPhO apis.\n",
    "\n",
    "sep_no_inpho = list(db.sep_entries.find( filter={'inpho_api': 'Error: No InPhO entry'},\n",
    "                                         projection = ['title'],\n",
    "                                         sort=[('title',1)]\n",
    "                                        ))\n",
    "pprint(sep_no_inpho)\n",
    "\n",
    "#There were 15 SEP articles that originally didn't link into InPhO at all. I went into InPhO and found the appropriate API endpoint for those, and indicated the URL for those articles that do have InPhO entries. Not all of them had InPhO entries though. When we run this test now. We only see 4 articles left that don't link into InPhO\n",
    "\n",
    "#Original Problem Articles\n",
    "# [{'_id': ObjectId('5f0e28bc4386af32c64aa3d3'), 'title': 'Algebraic Propositional Logic'} idea/6267,\n",
    "#  {'_id': ObjectId('5f0e229a4386af32c64aa0e4'), 'title': 'Basil [Cardinal] Bessarion'} thinker/6297,\n",
    "#  {'_id': ObjectId('5f0e230c4386af32c64aa119'), 'title': 'Catharine Macaulay'} thinker/5494,\n",
    "#  {'_id': ObjectId('5f0e237b4386af32c64aa152'), 'title': 'Communitarianism'} idea/776,\n",
    "#  {'_id': ObjectId('5f0e27524386af32c64aa31f'), 'title': 'Divine Illumination'} idea/1383,\n",
    "#  {'_id': ObjectId('5f0e24ec4386af32c64aa1f5'), 'title': 'Dynamic Epistemic Logic'} idea/5642,\n",
    "#  {'_id': ObjectId('5f0e25d74386af32c64aa26e'), 'title': 'Feminist Moral Psychology'} idea/2137,\n",
    "#  {'_id': ObjectId('5f107e63b539c255926f6024'), 'title': 'Gaṅgeśa'} thinker/3054,\n",
    "#  {'_id': ObjectId('5f0e26ca4386af32c64aa2e2'), 'title': 'Hegel’s Dialectics'},\n",
    "#  {'_id': ObjectId('5f0e27184386af32c64aa302'), 'title': 'Hume on Free Will'} idea/2104,\n",
    "#  {'_id': ObjectId('5f0e27384386af32c64aa313'), 'title': 'Ibn Sina [Avicenna]'} thinker/2577,\n",
    "#  {'_id': ObjectId('5f0e27374386af32c64aa312'), 'title': 'Ibn Sina’s Natural Philosophy'},\n",
    "#  {'_id': ObjectId('5f0e2c4c4386af32c64aa577'), 'title': 'Identity and Individuality in Quantum Theory'} idea/1191,\n",
    "#  {'_id': ObjectId('5f0e279e4386af32c64aa347'), 'title': 'Intuitionism in Ethics'} idea/5585,\n",
    "#  {'_id': ObjectId('5f0e28294386af32c64aa38d'), 'title': 'Kumārila'} thinker/5375,\n",
    "#  {'_id': ObjectId('5f0e23384386af32c64aa12f'), 'title': 'Legalism in Chinese Philosophy'} idea/5595,\n",
    "#  {'_id': ObjectId('5f0e22de4386af32c64aa102'), 'title': 'Martin Buber' } thinker/2718,\n",
    "#  {'_id': ObjectId('5f0e2ab24386af32c64aa4ac'), 'title': 'Nietzsche’s Life and Works'},\n",
    "#  {'_id': ObjectId('5f0e24384386af32c64aa1a5'), 'title': 'Religious Daoism'} idea/5663,\n",
    "#  {'_id': ObjectId('5f0e2db54386af32c64aa62b'), 'title': 'Sophie de Grouchy'},\n",
    "#  {'_id': ObjectId('5f0e2de04386af32c64aa642'), 'title': 'Spinoza’s Psychological Theory'} idea/1172,\n",
    "#  {'_id': ObjectId('5f0e2e174386af32c64aa65b'), 'title': 'Supererogation'} idea/1128,\n",
    "#  {'_id': ObjectId('5f0e2e5b4386af32c64aa682'), 'title': 'Touch'}]\n",
    "\n",
    "#Ones that just didn't have a sibling article at InPhO\n",
    "# [{'_id': ObjectId('5f109bb0789a3d802df9a834'), 'title': 'Hegel’s Dialectics'},\n",
    "#  {'_id': ObjectId('5f109bdc789a3d802df9a864'), 'title': 'Ibn Sina’s Natural Philosophy'},\n",
    "#  {'_id': ObjectId('5f109d6c789a3d802df9a9fe'), 'title': 'Nietzsche’s Life and Works'},\n",
    "#  {'_id': ObjectId('5f109ee6789a3d802df9ab7d'), 'title': 'Sophie de Grouchy'}]\n"
   ]
  },
  {
   "cell_type": "code",
   "execution_count": 26,
   "metadata": {
    "tags": []
   },
   "outputs": [
    {
     "output_type": "stream",
     "name": "stdout",
     "text": "acknowledged: http://inpho.cogs.indiana.edu/idea/5632.json\n True\n[{'_id': ObjectId('5f1bb981896f82cdbda614f0'), 'title': 'Touch', 'inpho_api': 'http://inpho.cogs.indiana.edu/idea/5632.json', 'inpho_json': {'links': [], 'url': '/idea/5632', 'related': [602, 2166, 1488, 1512, 5549, 1499, 5336, 1824, 1484], 'sep_dir': 'touch', 'instances': [], 'classes': [], 'hyponyms': [5549, 602, 1493, 1484, 1512, 2166, 1734, 1823, 1589], 'related_thinkers': [2553, 3724, 2905, 3345, 3256, 3829, 3476, 4132, 3260], 'nodes': [], 'label': 'Touch', 'type': 'idea', 'ID': 5632, 'occurrences': [5620, 5446, 6293, 5475, 5644, 1214, 1231, 2140, 2134]}}]\n"
    }
   ],
   "source": [
    "#Update the individual records identified above\n",
    "title = 'Touch'\n",
    "api_endpoint = 'idea/5632'\n",
    "collection_to_update = db.sep_entries\n",
    "\n",
    "sep.update_sep_json(title,api_endpoint, collection_to_update)\n"
   ]
  },
  {
   "cell_type": "code",
   "execution_count": 66,
   "metadata": {
    "tags": []
   },
   "outputs": [
    {
     "output_type": "stream",
     "name": "stdout",
     "text": "acknowledged True\n"
    }
   ],
   "source": [
    "#update Hegel's Dialectics, Ibn Sina's Natural philosophy, and Nietzche's life and works to 'idea' \n",
    "article_title = 'Ibn Sina’s Natural Philosophy'\n",
    "collection_to_update = db.sep_entries\n",
    "\n",
    "result = collection_to_update.update_one({'title': article_title}, {'$set': {'inpho_json':{'type':'idea'}}})\n",
    "# confirmation udpate\n",
    "print (f'acknowledged', result.acknowledged)\n"
   ]
  },
  {
   "cell_type": "code",
   "execution_count": 61,
   "metadata": {
    "tags": []
   },
   "outputs": [
    {
     "output_type": "stream",
     "name": "stdout",
     "text": "acknowledged True\n"
    }
   ],
   "source": [
    "#update Sophie de Grouchy to set her entry to a 'thinker' \n",
    "article_title = 'Sophie de Grouchy'\n",
    "collection_to_update = db.sep_entries\n",
    "\n",
    "result = collection_to_update.update_one({'title': article_title}, {'$set': {'inpho_json':{'type':'thinker'}}})\n",
    "# confirmation udpate\n",
    "print (f'acknowledged', result.acknowledged)"
   ]
  },
  {
   "cell_type": "code",
   "execution_count": 6,
   "metadata": {
    "tags": []
   },
   "outputs": [
    {
     "output_type": "stream",
     "name": "stdout",
     "text": "[{'_id': None, 'count': 22}, {'_id': 3563, 'count': 2}]\n"
    }
   ],
   "source": [
    "##### Cleaning Sep_Entries ########\n",
    "##### Completed 7.16.2020 ########\n",
    "\n",
    "#2. Check for duplicate InPhO JSON data.\n",
    "\n",
    "collection_to_clean = db.sep_entries\n",
    "result = list(collection_to_clean.aggregate([\n",
    "                                {\n",
    "                                    '$group' : { '_id' : \"$inpho_json.ID\",\n",
    "                                    'count': { '$sum': 1 }\n",
    "                                    }\n",
    "                                },\n",
    "                                {\n",
    "                                    '$match': { 'count': {'$ne': 1 }}\n",
    "                                }]))\n",
    "\n",
    "pprint(result)"
   ]
  },
  {
   "cell_type": "code",
   "execution_count": 7,
   "metadata": {
    "tags": []
   },
   "outputs": [
    {
     "output_type": "stream",
     "name": "stdout",
     "text": "acknowledged: http://inpho.cogs.indiana.edu/thinker/4092.json\n True\n[{'_id': ObjectId('5f1bb9d6896f82cdbda61524'), 'title': 'Wang Yangming', 'inpho_api': 'http://inpho.cogs.indiana.edu/thinker/4092.json', 'inpho_json': {'wiki': 'Wang_Yangming', 'influenced': [], 'death': [{'month': 0, 'day': 0, 'year': 1529}], 'teachers': [], 'url': '/thinker/4092', 'influenced_by': [4173], 'professions': [], 'death_strings': ['1529'], 'related_thinkers': [4173, 3563, 2844, 4203, 4195, 3060, 3177, 4198], 'sep_dir': 'wang-yangming', 'students': [], 'birth_strings': ['1472'], 'birth': [{'month': 0, 'day': 0, 'year': 1472}], 'nationalities': ['Chinese'], 'related_ideas': [6347, 148, 1870, 1343, 5338, 5510, 5602, 1544, 681], 'label': 'Wang Yangming', 'type': 'thinker', 'ID': 4092, 'aliases': []}}]\n"
    }
   ],
   "source": [
    "# JSON.ID 3563 appears twice, so there's a duplicate entry. That is:\n",
    "#Mencius (SEP) properly linked to Mencius (InPho) \n",
    "#Wang Yangming (SEP) improperly linked to Mencius (InPho)\n",
    "\n",
    "title = 'Wang Yangming'\n",
    "api_endpoint = 'thinker/4092'\n",
    "collection_to_update = db.sep_entries\n",
    "\n",
    "sep.update_sep_json(title,api_endpoint, collection_to_update)\n",
    "\n"
   ]
  },
  {
   "cell_type": "code",
   "execution_count": null,
   "metadata": {},
   "outputs": [],
   "source": []
  },
  {
   "cell_type": "code",
   "execution_count": 6,
   "metadata": {
    "tags": []
   },
   "outputs": [
    {
     "output_type": "stream",
     "name": "stdout",
     "text": "[{'page_url': '/entries/biomedicine/', 'title': 'Philosophy of Biomedicine'},\n {'page_url': '/entries/descartes-method/', 'title': 'Descartes’ Method'},\n {'page_url': '/entries/ethics-ai/',\n  'title': 'Ethics of Artificial Intelligence and Robotics'},\n {'page_url': '/entries/francisco-sanches/', 'title': 'Francisco Sanches'},\n {'page_url': '/entries/gangesa/', 'title': 'Gaṅgeśa'},\n {'page_url': '/entries/imaginative-resistance/',\n  'title': 'Imaginative Resistance'},\n {'page_url': '/entries/justice-climate/', 'title': 'Climate Justice'},\n {'page_url': '/entries/kant-conceptualism/',\n  'title': 'Kantian Conceptualism/Nonconceptualism'},\n {'page_url': '/entries/science-big-data/',\n  'title': 'Scientific Research and Big Data'},\n {'page_url': '/entries/simplicius/', 'title': 'Simplicius'},\n {'page_url': '/entries/territorial-rights/',\n  'title': 'Territorial Rights and Territorial Justice'},\n {'page_url': '/entries/wilhelm-windelband/', 'title': 'Wilhelm Windelband'}]\n"
    }
   ],
   "source": [
    "\n",
    "#Find any article that doesn't have domain info\n",
    "\n",
    "collection_to_update = db.sep_entries\n",
    "\n",
    "no_domains = list(collection_to_update.find(\n",
    "    {'primary_domain': {'$exists': False}},\n",
    "    projection={'page_url':1, 'title':1, '_id':0}\n",
    "))\n",
    "\n",
    "pprint(no_domains)"
   ]
  },
  {
   "cell_type": "code",
   "execution_count": 7,
   "metadata": {
    "tags": []
   },
   "outputs": [
    {
     "output_type": "stream",
     "name": "stdout",
     "text": "12\n"
    }
   ],
   "source": [
    "#take the list of articles in no_domains, and make a list of the domain data to add for each of them. \n",
    "\n",
    "domains_to_update = [\n",
    "    ('Biology', 'Biology'),\n",
    "    ('Thinker', 'Thinker'),\n",
    "    ('Ethics and Morality', 'Ethics and Morality,Computer Science'),\n",
    "    ('Thinker', 'Thinker'),\n",
    "    ('Thinker', 'Thinker'),\n",
    "    ('Mind', 'Mind, Aesthetics'),\n",
    "    ('Social and Political Theory', 'Social and Political Theory'),\n",
    "    ('Thinker', 'Thinker'),\n",
    "    ('Scientific Methods', 'Scientific Methods,Computer Science'),\n",
    "    ('Thinker', 'Thinker'),\n",
    "    ('Social and Political Theory', 'Social and Political Theory'),\n",
    "    ('Thinker', 'Thinker')\n",
    "]\n",
    "\n",
    "#check to make sure domains_to_update and no_domains are the same size\n",
    "print(len(domains_to_update))"
   ]
  },
  {
   "cell_type": "code",
   "execution_count": 8,
   "metadata": {
    "tags": []
   },
   "outputs": [
    {
     "output_type": "stream",
     "name": "stdout",
     "text": "acknowledged: /entries/biomedicine/\n True\nacknowledged: /entries/descartes-method/\n True\nacknowledged: /entries/ethics-ai/\n True\nacknowledged: /entries/francisco-sanches/\n True\nacknowledged: /entries/gangesa/\n True\nacknowledged: /entries/imaginative-resistance/\n True\nacknowledged: /entries/justice-climate/\n True\nacknowledged: /entries/kant-conceptualism/\n True\nacknowledged: /entries/science-big-data/\n True\nacknowledged: /entries/simplicius/\n True\nacknowledged: /entries/territorial-rights/\n True\nacknowledged: /entries/wilhelm-windelband/\n True\n"
    }
   ],
   "source": [
    "#update articles in no_domains with new domain data  \n",
    "for i, articles in enumerate(no_domains):\n",
    "    article_to_update = articles['page_url']\n",
    "    primary_domain = domains_to_update[i][0]\n",
    "    domain_tags = domains_to_update[i][1] \n",
    "    new_values = {\n",
    "         'primary_domain': primary_domain,\n",
    "         'domain_tags': domain_tags\n",
    "         }\n",
    "    result = collection_to_update.update_one(\n",
    "        {'page_url': article_to_update},\n",
    "        {'$set': new_values}\n",
    "    )\n",
    "    # boolean confirmation that the API call went through\n",
    "    print (f'acknowledged: {article_to_update}\\n', result.acknowledged)\n",
    "    \n"
   ]
  },
  {
   "cell_type": "code",
   "execution_count": 9,
   "metadata": {
    "tags": []
   },
   "outputs": [
    {
     "output_type": "stream",
     "name": "stdout",
     "text": "[]\n"
    }
   ],
   "source": [
    "#now test again for no domain info\n",
    "no_domains = list(collection_to_update.find(\n",
    "    {'primary_domain': {'$exists': False}},\n",
    "    projection={'page_url':1, 'title':1, '_id':0}\n",
    "))\n",
    "\n",
    "pprint(no_domains)"
   ]
  },
  {
   "cell_type": "code",
   "execution_count": null,
   "metadata": {},
   "outputs": [],
   "source": []
  }
 ],
 "metadata": {
  "language_info": {
   "name": "python",
   "codemirror_mode": {
    "name": "ipython",
    "version": 3
   },
   "version": "3.6.9-final"
  },
  "orig_nbformat": 2,
  "file_extension": ".py",
  "mimetype": "text/x-python",
  "name": "python",
  "npconvert_exporter": "python",
  "pygments_lexer": "ipython3",
  "version": 3,
  "kernelspec": {
   "name": "python36964bitpythondataconda8971416e9bae4e8197b8a061b72f9dc8",
   "display_name": "Python 3.6.9 64-bit ('PythonData': conda)"
  }
 },
 "nbformat": 4,
 "nbformat_minor": 2
}