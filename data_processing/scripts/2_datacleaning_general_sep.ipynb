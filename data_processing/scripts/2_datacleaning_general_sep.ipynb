{
 "cells": [
  {
   "cell_type": "code",
   "execution_count": 1,
   "metadata": {},
   "outputs": [],
   "source": [
    "### THIS SCRIPT CLEANS THE COLLECTED SEP ###   "
   ]
  },
  {
   "cell_type": "code",
   "execution_count": 2,
   "metadata": {},
   "outputs": [],
   "source": [
    "import pymongo \n",
    "import requests\n",
    "import json\n",
    "import pandas as pd\n",
    "import re\n",
    "\n",
    "from tqdm import tqdm\n",
    "from bson.objectid import ObjectId\n",
    "from pprint import pprint\n",
    "\n",
    "import lib_sepinpho as sep\n",
    "\n",
    "##### INIT GLOBAL VARIABLES#####\n",
    "\n",
    "#init Mongo\n",
    "conn = 'mongodb://localhost:27017'\n",
    "client = pymongo.MongoClient(conn)\n",
    "\n",
    "#create database\n",
    "db = client.visualizing_sep"
   ]
  },
  {
   "cell_type": "code",
   "execution_count": 3,
   "metadata": {
    "tags": []
   },
   "outputs": [],
   "source": [
    "##### Cleaning Sep_Entries ########\n",
    "##### Fall 2020 Edition: Completed 10.1.2020 ########\n",
    "##### Spring 2021 Edition: No Updates ########\n",
    "\n",
    "#1. Check for entries with InPhO apis.\n",
    "\n",
    "# collection_to_clean = db.sep_entries\n",
    "\n",
    "# sep_no_inpho = pd.DataFrame(collection_to_clean.find( filter={'inpho_api': 'Error: No InPhO entry'},\n",
    "#                                          projection = ['title'],\n",
    "#                                          sort=[('title',1)]\n",
    "#                                         ))\n",
    "# #export to csv to made edits in this file\n",
    "# sep_no_inpho.to_csv('noinpho.csv')\n"
   ]
  },
  {
   "cell_type": "code",
   "execution_count": 49,
   "metadata": {
    "tags": []
   },
   "outputs": [
    {
     "output_type": "stream",
     "name": "stderr",
     "text": "1it [00:00,  1.80it/s]acknowledged: http://inpho.cogs.indiana.edu/thinker/2553.json\n True\n[{&#39;_id&#39;: ObjectId(&#39;5f1bafb6896f82cdbda60f27&#39;), &#39;title&#39;: &#39;Aristotle&#39;, &#39;inpho_api&#39;: &#39;http://inpho.cogs.indiana.edu/thinker/2553.json&#39;, &#39;inpho_json&#39;: {&#39;wiki&#39;: &#39;Aristotle&#39;, &#39;influenced&#39;: [2462, 2472, 2477, 2493, 2543, 2549, 2576, 2577, 2671, 2685, 2731, 2768, 2905, 2943, 2953, 2985, 3021, 3049, 3114, 3132, 3177, 3179, 3223, 3295, 3367, 3383, 3404, 3439, 3476, 3511, 3550, 3580, 3585, 3590, 3597, 3657, 3738, 3760, 3776, 3777, 3805, 3842, 3911, 3936, 3950, 3963, 3974, 3975, 3991, 4006, 4021, 4025, 4077, 4189], &#39;death&#39;: [{&#39;month&#39;: 3, &#39;day&#39;: 7, &#39;year&#39;: -322}], &#39;teachers&#39;: [3724], &#39;url&#39;: &#39;/thinker/2553&#39;, &#39;influenced_by&#39;: [3191, 3682, 3724, 3919], &#39;professions&#39;: [&#39;Student&#39;, &#39;Teacher&#39;], &#39;death_strings&#39;: [&#39;March 7, 322 B.C.E.&#39;], &#39;related_thinkers&#39;: [3724, 2543, 2503, 6345, 4180, 2671, 4006, 3716, 3764], &#39;sep_dir&#39;: &#39;aristotle&#39;, &#39;students&#39;: [4006], &#39;birth_strings&#39;: [&#39;November 384 B.C.E.&#39;], &#39;birth&#39;: [{&#39;month&#39;: 11, &#39;day&#39;: 0, &#39;year&#39;: -384}], &#39;nationalities&#39;: [&#39;Greek&#39;], &#39;related_ideas&#39;: [1504, 1824, 1512, 2018, 1488, 2166, 681, 602, 1511], &#39;label&#39;: &#39;Aristotle&#39;, &#39;type&#39;: &#39;thinker&#39;, &#39;ID&#39;: 2553, &#39;aliases&#39;: []}}]\n2it [00:00,  1.94it/s]acknowledged: http://inpho.cogs.indiana.edu/idea/1021.json\n True\n[{&#39;_id&#39;: ObjectId(&#39;5f1bafe0896f82cdbda60f3c&#39;), &#39;title&#39;: &#39;Autonomy in Moral and Political Philosophy&#39;, &#39;inpho_api&#39;: &#39;http://inpho.cogs.indiana.edu/idea/1021.json&#39;, &#39;inpho_json&#39;: {&#39;links&#39;: [], &#39;url&#39;: &#39;/idea/1021&#39;, &#39;related&#39;: [313, 5336, 5670, 1069, 1310, 5562, 2166, 1213, 5338], &#39;sep_dir&#39;: &#39;autonomy-moral&#39;, &#39;instances&#39;: [], &#39;classes&#39;: [], &#39;hyponyms&#39;: [313, 5336, 5670, 1069, 1310, 2166, 5562, 1213, 5338], &#39;related_thinkers&#39;: [3780, 4134, 3345], &#39;nodes&#39;: [], &#39;label&#39;: &#39;Autonomy in Moral and Political Philosophy&#39;, &#39;type&#39;: &#39;idea&#39;, &#39;ID&#39;: 1021, &#39;occurrences&#39;: []}}]\n3it [00:01,  1.99it/s]acknowledged: http://inpho.cogs.indiana.edu/thinker/2672.json\n True\n[{&#39;_id&#39;: ObjectId(&#39;5f7678ca038c9c30f78468f9&#39;), &#39;inpho_api&#39;: &#39;http://inpho.cogs.indiana.edu/thinker/2672.json&#39;, &#39;inpho_json&#39;: {&#39;wiki&#39;: &#39;Boetius_of_Dacia&#39;, &#39;influenced&#39;: [], &#39;death&#39;: [], &#39;teachers&#39;: [], &#39;url&#39;: &#39;/thinker/2672&#39;, &#39;influenced_by&#39;: [], &#39;professions&#39;: [], &#39;death_strings&#39;: [], &#39;related_thinkers&#39;: [2671, 3903, 3101, 2543, 3186, 2509, 2704, 4010, 3365], &#39;sep_dir&#39;: &#39;&#39;, &#39;students&#39;: [], &#39;birth_strings&#39;: [&#39;480&#39;], &#39;birth&#39;: [{&#39;month&#39;: 0, &#39;day&#39;: 0, &#39;year&#39;: 480}], &#39;nationalities&#39;: [], &#39;related_ideas&#39;: [1824, 2024, 1539, 1569, 2166, 1709, 1478, 1490, 681], &#39;label&#39;: &#39;Boëthius of Dacia&#39;, &#39;type&#39;: &#39;thinker&#39;, &#39;ID&#39;: 2672, &#39;aliases&#39;: []}, &#39;title&#39;: &#39;Boethius of Dacia&#39;}]\n4it [00:01,  2.08it/s]acknowledged: http://inpho.cogs.indiana.edu/idea/2150.json\n True\n[{&#39;_id&#39;: ObjectId(&#39;5f1bb0c7896f82cdbda60fb9&#39;), &#39;title&#39;: &#39;Collingwood’s Aesthetics&#39;, &#39;inpho_api&#39;: &#39;http://inpho.cogs.indiana.edu/idea/2150.json&#39;, &#39;inpho_json&#39;: {&#39;links&#39;: [], &#39;url&#39;: &#39;/idea/2150&#39;, &#39;related&#39;: [1646, 923, 1896, 109, 1776, 1750, 1744, 1736, 1308], &#39;sep_dir&#39;: &#39;collingwood-aesthetics&#39;, &#39;instances&#39;: [], &#39;classes&#39;: [], &#39;hyponyms&#39;: [1646, 923, 1896, 1776, 1736, 1744, 1750, 1308, 1299], &#39;related_thinkers&#39;: [2835, 3724, 3038, 3345], &#39;nodes&#39;: [], &#39;label&#39;: &quot;Collingwood&#39;s Aesthetics&quot;, &#39;type&#39;: &#39;idea&#39;, &#39;ID&#39;: 2150, &#39;occurrences&#39;: []}}]\n5it [00:02,  2.15it/s]acknowledged: http://inpho.cogs.indiana.edu/idea/168.json\n True\n[{&#39;_id&#39;: ObjectId(&#39;5f1bb200896f82cdbda6105d&#39;), &#39;title&#39;: &#39;Dualism&#39;, &#39;inpho_api&#39;: &#39;http://inpho.cogs.indiana.edu/idea/168.json&#39;, &#39;inpho_json&#39;: {&#39;links&#39;: [734], &#39;url&#39;: &#39;/idea/168&#39;, &#39;related&#39;: [1504, 923, 681, 1514, 1478, 602, 1477, 5336, 1824], &#39;sep_dir&#39;: &#39;dualism&#39;, &#39;instances&#39;: [333], &#39;classes&#39;: [], &#39;hyponyms&#39;: [5549, 1514, 1493, 1734, 1764, 1484, 1478, 602, 1512], &#39;related_thinkers&#39;: [2905, 3345, 3724, 3256, 3936, 2553, 3476, 3439, 3897], &#39;nodes&#39;: [2199], &#39;label&#39;: &#39;Dualism&#39;, &#39;type&#39;: &#39;idea&#39;, &#39;ID&#39;: 168, &#39;occurrences&#39;: [1581, 267, 1240, 5560, 6323, 1229, 1703, 1178, 1491]}}]\n6it [00:02,  2.20it/s]acknowledged: http://inpho.cogs.indiana.edu/idea/5659.json\n True\n[{&#39;_id&#39;: ObjectId(&#39;5f1bb5ef896f82cdbda612e2&#39;), &#39;title&#39;: &#39;Empirical Approaches to Moral Character&#39;, &#39;inpho_api&#39;: &#39;http://inpho.cogs.indiana.edu/idea/5659.json&#39;, &#39;inpho_json&#39;: {&#39;links&#39;: [], &#39;url&#39;: &#39;/idea/5659&#39;, &#39;related&#39;: [906, 756, 1527, 1104, 1499, 20, 1493, 5506, 1143], &#39;sep_dir&#39;: &#39;moral-character-empirical&#39;, &#39;instances&#39;: [], &#39;classes&#39;: [], &#39;hyponyms&#39;: [906, 756, 1527, 1104, 1499, 1493, 20, 2154, 1706], &#39;related_thinkers&#39;: [3829, 2844, 2553, 3724], &#39;nodes&#39;: [], &#39;label&#39;: &#39;Empirical Approaches to Moral Character&#39;, &#39;type&#39;: &#39;idea&#39;, &#39;ID&#39;: 5659, &#39;occurrences&#39;: []}}]\nacknowledged: no_api_data\n True\n[{&#39;_id&#39;: ObjectId(&#39;5f7678de038c9c30f7846917&#39;), &#39;inpho_api&#39;: &#39;no_api_data&#39;, &#39;inpho_json&#39;: {&#39;type&#39;: &#39;idea&#39;}, &#39;title&#39;: &#39;Evolution and Development&#39;}]\nacknowledged: no_api_data\n True\n[{&#39;_id&#39;: ObjectId(&#39;5f1bb3a3896f82cdbda61150&#39;), &#39;title&#39;: &#39;Hegel’s Dialectics&#39;, &#39;inpho_api&#39;: &#39;no_api_data&#39;, &#39;inpho_json&#39;: {&#39;type&#39;: &#39;idea&#39;}}]\nacknowledged: no_api_data\n True\n[{&#39;_id&#39;: ObjectId(&#39;5f1bb3fd896f82cdbda61180&#39;), &#39;title&#39;: &#39;Ibn Sina’s Natural Philosophy&#39;, &#39;inpho_api&#39;: &#39;no_api_data&#39;, &#39;inpho_json&#39;: {&#39;type&#39;: &#39;idea&#39;}}]\nacknowledged: no_api_data\n True\n[{&#39;_id&#39;: ObjectId(&#39;5f7678ee038c9c30f784692c&#39;), &#39;inpho_api&#39;: &#39;no_api_data&#39;, &#39;inpho_json&#39;: {&#39;type&#39;: &#39;idea&#39;}, &#39;title&#39;: &#39;Luther’s Influence on Philosophy&#39;}]\n11it [00:03,  2.83it/s]acknowledged: http://inpho.cogs.indiana.edu/idea/5489.json\n True\n[{&#39;_id&#39;: ObjectId(&#39;5f1bb11c896f82cdbda60fe5&#39;), &#39;title&#39;: &#39;Medieval Theories of Consequence&#39;, &#39;inpho_api&#39;: &#39;http://inpho.cogs.indiana.edu/idea/5489.json&#39;, &#39;inpho_json&#39;: {&#39;links&#39;: [], &#39;url&#39;: &#39;/idea/5489&#39;, &#39;related&#39;: [1293, 1430, 1231, 1295, 1734, 1484, 1624, 1225, 1626], &#39;sep_dir&#39;: &#39;consequence-medieval&#39;, &#39;instances&#39;: [], &#39;classes&#39;: [], &#39;hyponyms&#39;: [1293, 1430, 1231, 1734, 1484, 1295, 1499, 1508, 1711], &#39;related_thinkers&#39;: [2671, 4183, 3657, 2462, 2732, 3919, 2503, 5653, 2553], &#39;nodes&#39;: [], &#39;label&#39;: &#39;Medieval Theories of Consequence&#39;, &#39;type&#39;: &#39;idea&#39;, &#39;ID&#39;: 5489, &#39;occurrences&#39;: []}}]\n12it [00:03,  2.65it/s]acknowledged: http://inpho.cogs.indiana.edu/idea/5617.json\n True\n[{&#39;_id&#39;: ObjectId(&#39;5f1bb630896f82cdbda61304&#39;), &#39;title&#39;: &#39;Natural Theology and Natural Religion&#39;, &#39;inpho_api&#39;: &#39;http://inpho.cogs.indiana.edu/idea/5617.json&#39;, &#39;inpho_json&#39;: {&#39;links&#39;: [], &#39;url&#39;: &#39;/idea/5617&#39;, &#39;related&#39;: [1345, 1478, 724, 5691, 1073, 1305, 1574, 1573, 1569], &#39;sep_dir&#39;: &#39;natural-theology&#39;, &#39;instances&#39;: [], &#39;classes&#39;: [], &#39;hyponyms&#39;: [1345, 1478, 724, 1073, 5691, 1305, 1574, 1569, 1573], &#39;related_thinkers&#39;: [2535, 3439, 3256, 3345, 3596, 2905, 2693, 3571, 3082], &#39;nodes&#39;: [], &#39;label&#39;: &#39;Natural Theology and Natural Religion&#39;, &#39;type&#39;: &#39;idea&#39;, &#39;ID&#39;: 5617, &#39;occurrences&#39;: []}}]\nacknowledged: no_api_data\n True\n[{&#39;_id&#39;: ObjectId(&#39;5f1bb64f896f82cdbda6131a&#39;), &#39;title&#39;: &#39;Nietzsche’s Life and Works&#39;, &#39;inpho_api&#39;: &#39;no_api_data&#39;, &#39;inpho_json&#39;: {&#39;type&#39;: &#39;idea&#39;}}]\nacknowledged: no_api_data\n True\n[{&#39;_id&#39;: ObjectId(&#39;5f1bb3ec896f82cdbda61175&#39;), &#39;title&#39;: &#39;Philosophy of Humor&#39;, &#39;inpho_api&#39;: &#39;no_api_data&#39;, &#39;inpho_json&#39;: {&#39;type&#39;: &#39;idea&#39;}}]\nacknowledged: no_api_data\n True\n[{&#39;_id&#39;: ObjectId(&#39;5f1bb79c896f82cdbda613cb&#39;), &#39;title&#39;: &#39;Philosophy of Psychiatry&#39;, &#39;inpho_api&#39;: &#39;no_api_data&#39;, &#39;inpho_json&#39;: {&#39;type&#39;: &#39;idea&#39;}}]\n16it [00:04,  3.37it/s]acknowledged: http://inpho.cogs.indiana.edu/idea/1978.json\n True\n[{&#39;_id&#39;: ObjectId(&#39;5f1bb292896f82cdbda610ac&#39;), &#39;title&#39;: &#39;Search Engines and Ethics&#39;, &#39;inpho_api&#39;: &#39;http://inpho.cogs.indiana.edu/idea/1978.json&#39;, &#39;inpho_json&#39;: {&#39;links&#39;: [], &#39;url&#39;: &#39;/idea/1978&#39;, &#39;related&#39;: [760, 5609, 6355, 1182, 5497, 5670, 1308, 5502, 890], &#39;sep_dir&#39;: &#39;&#39;, &#39;instances&#39;: [], &#39;classes&#39;: [], &#39;hyponyms&#39;: [5609, 5670, 5502, 1308, 5530, 1592, 890, 1408, 1745], &#39;related_thinkers&#39;: [], &#39;nodes&#39;: [], &#39;label&#39;: &#39;Search Engines and Ethics&#39;, &#39;type&#39;: &#39;idea&#39;, &#39;ID&#39;: 1978, &#39;occurrences&#39;: [6355, 5497]}}]\nacknowledged: no_api_data\n True\n[{&#39;_id&#39;: ObjectId(&#39;5f1bb8f9896f82cdbda61499&#39;), &#39;title&#39;: &#39;Sophie de Grouchy&#39;, &#39;inpho_api&#39;: &#39;no_api_data&#39;, &#39;inpho_json&#39;: {&#39;type&#39;: &#39;thinker&#39;}}]\nacknowledged: no_api_data\n True\n[{&#39;_id&#39;: ObjectId(&#39;5f1bb276896f82cdbda6109a&#39;), &#39;title&#39;: &#39;The Ergodic Hierarchy&#39;, &#39;inpho_api&#39;: &#39;no_api_data&#39;, &#39;inpho_json&#39;: {&#39;type&#39;: &#39;idea&#39;}}]\nacknowledged: no_api_data\n True\n[{&#39;_id&#39;: ObjectId(&#39;5f767901038c9c30f7846949&#39;), &#39;inpho_api&#39;: &#39;no_api_data&#39;, &#39;inpho_json&#39;: {&#39;type&#39;: &#39;idea&#39;}, &#39;title&#39;: &#39;The Psychology of Normative Cognition&#39;}]\nacknowledged: no_api_data\n True\n[{&#39;_id&#39;: ObjectId(&#39;5f1bb8fb896f82cdbda6149b&#39;), &#39;title&#39;: &#39;The Sophists&#39;, &#39;inpho_api&#39;: &#39;no_api_data&#39;, &#39;inpho_json&#39;: {&#39;type&#39;: &#39;thinker&#39;}}]\n21it [00:04,  4.50it/s]acknowledged: http://inpho.cogs.indiana.edu/idea/1592.json\n True\n[{&#39;_id&#39;: ObjectId(&#39;5f1bb98d896f82cdbda614f7&#39;), &#39;title&#39;: &#39;Trust&#39;, &#39;inpho_api&#39;: &#39;http://inpho.cogs.indiana.edu/idea/1592.json&#39;, &#39;inpho_json&#39;: {&#39;links&#39;: [], &#39;url&#39;: &#39;/idea/1592&#39;, &#39;related&#39;: [602, 2166, 1542, 5336, 1569, 1764, 880, 2153, 1493], &#39;sep_dir&#39;: &#39;trust&#39;, &#39;instances&#39;: [], &#39;classes&#39;: [], &#39;hyponyms&#39;: [5549, 1493, 602, 880, 2166, 1589, 1764, 1484, 1542], &#39;related_thinkers&#39;: [3724, 3256, 3780, 2553, 3345, 3223, 3476, 3307, 3829], &#39;nodes&#39;: [], &#39;label&#39;: &#39;Trust&#39;, &#39;type&#39;: &#39;idea&#39;, &#39;ID&#39;: 1592, &#39;occurrences&#39;: [5497, 1569, 1538, 2153, 1601, 5572, 1765, 1697, 5450]}}]\n\n"
    }
   ],
   "source": [
    "# read the values to update from the CSV and batch update the entries\n",
    "\n",
    "# collection_to_update = db.sep_entries\n",
    "\n",
    "# #import cleaned data\n",
    "# inpho_updates = pd.read_csv('noinpho.csv')\n",
    "\n",
    "# for index,row in tqdm(inpho_updates.iterrows()):\n",
    "#     title = row['title']\n",
    "#     api_endpoint = row['api_endpoint']\n",
    "#     json_type = row['json_type']\n",
    "\n",
    "#     sep.update_sep_json(title,api_endpoint, json_type, collection_to_update)\n",
    "\n"
   ]
  },
  {
   "cell_type": "code",
   "execution_count": null,
   "metadata": {},
   "outputs": [],
   "source": []
  },
  {
   "cell_type": "code",
   "execution_count": 4,
   "metadata": {
    "tags": []
   },
   "outputs": [
    {
     "output_type": "stream",
     "name": "stdout",
     "text": [
      "[{'_id': None, 'count': 13}]\n"
     ]
    }
   ],
   "source": [
    "##### Cleaning Sep_Entries ########\n",
    "##### Summer: Completed 7.16.2020 ########\n",
    "##### Summer: Completed 10.1.2020 ########\n",
    "\n",
    "#2. Check for duplicate InPhO JSON data.\n",
    "\n",
    "collection_to_clean = db.sep_entries\n",
    "result = list(collection_to_clean.aggregate([\n",
    "                                {\n",
    "                                    '$group' : { '_id' : \"$inpho_json.ID\",\n",
    "                                    'count': { '$sum': 1 }\n",
    "                                    }\n",
    "                                },\n",
    "                                {\n",
    "                                    '$match': { 'count': {'$ne': 1 }}\n",
    "                                }]))\n",
    "\n",
    "pprint(result)"
   ]
  },
  {
   "cell_type": "code",
   "execution_count": 5,
   "metadata": {
    "tags": []
   },
   "outputs": [
    {
     "output_type": "stream",
     "name": "stdout",
     "text": [
      "[{'page_url': '/entries/feminism-argumentation/',\n  'title': 'Feminist Perspectives on Argumentation'},\n {'page_url': '/entries/human-nature/', 'title': 'Human Nature'},\n {'page_url': '/entries/hyperintensionality/', 'title': 'Hyperintensionality'}]\n"
     ]
    }
   ],
   "source": [
    "\n",
    "#Find any article that doesn't have domain info\n",
    "\n",
    "collection_to_update = db.sep_entries\n",
    "\n",
    "no_domains = list(collection_to_update.find(\n",
    "    {'primary_domain': {'$exists': False}},\n",
    "    projection={'page_url':1, 'title':1, '_id':0}\n",
    "))\n",
    "\n",
    "pprint(no_domains)"
   ]
  },
  {
   "cell_type": "code",
   "execution_count": 6,
   "metadata": {
    "tags": []
   },
   "outputs": [
    {
     "output_type": "stream",
     "name": "stdout",
     "text": [
      "3\n3\n"
     ]
    }
   ],
   "source": [
    "#take the list of articles in no_domains, and make a list of the domain data to add for each of them. \n",
    "\n",
    "domains_to_update = [\n",
    "    ('Feminist Philosophy', 'Feminist Philosophy, Philosophy of Language, Logic'),\n",
    "    ('Philosophy of Mind', 'Philosophy of Mind', 'Philosophy of Biology'),\n",
    "    ('Philosophy of Language', 'Philosophy of Language, Logic'),\n",
    "\n",
    "]\n",
    "\n",
    "#check to make sure domains_to_update and no_domains are the same size\n",
    "print(len(no_domains))\n",
    "print(len(domains_to_update))"
   ]
  },
  {
   "cell_type": "code",
   "execution_count": 7,
   "metadata": {
    "tags": []
   },
   "outputs": [
    {
     "output_type": "stream",
     "name": "stdout",
     "text": [
      "acknowledged: /entries/feminism-argumentation/\n True\nacknowledged: /entries/human-nature/\n True\nacknowledged: /entries/hyperintensionality/\n True\n"
     ]
    }
   ],
   "source": [
    "#update articles in no_domains with new domain data  \n",
    "#Fall Update: Completed 10.1.2020#\n",
    "#SPring 2021 Update: Completed 4.3.2021\n",
    "collection_to_update = db.sep_entries\n",
    "\n",
    "for i, articles in enumerate(no_domains):\n",
    "    article_to_update = articles['page_url']\n",
    "    primary_domain = domains_to_update[i][0]\n",
    "    domain_tags = domains_to_update[i][1] \n",
    "    new_values = {\n",
    "         'primary_domain': primary_domain,\n",
    "         'domain_tags': domain_tags\n",
    "         }\n",
    "    result = collection_to_update.update_one(\n",
    "        {'page_url': article_to_update},\n",
    "        {'$set': new_values}\n",
    "    )\n",
    "    # boolean confirmation that the API call went through\n",
    "    print (f'acknowledged: {article_to_update}\\n', result.acknowledged)\n",
    "    \n"
   ]
  },
  {
   "cell_type": "code",
   "execution_count": 8,
   "metadata": {
    "tags": []
   },
   "outputs": [
    {
     "output_type": "stream",
     "name": "stdout",
     "text": [
      "[]\n"
     ]
    }
   ],
   "source": [
    "#now test again for no domain info\n",
    "\n",
    "collection_to_update = db.sep_entries\n",
    "\n",
    "no_domains = list(collection_to_update.find(\n",
    "    {'primary_domain': {'$exists': False}},\n",
    "    projection={'page_url':1, 'title':1, '_id':0}\n",
    "))\n",
    "\n",
    "pprint(no_domains)"
   ]
  },
  {
   "cell_type": "code",
   "execution_count": 13,
   "metadata": {
    "tags": []
   },
   "outputs": [
    {
     "output_type": "stream",
     "name": "stdout",
     "text": [
      "8\n/entries/content-externalism/\n/entries/evolution-before-darwin/\n/entries/femapproach-continental/\n/entries/hermeneutics/\n/entries/origin-descent/\n/entries/properties-emergent/\n/entries/recursive-functions/\n/entries/theory-bioethics/\n"
     ]
    }
   ],
   "source": [
    "#test for and remove editors notes\n",
    "#Spring 2021 Update: I manually updated 8 articles in compass to remove the Editors Note from the preamble\n",
    "\n",
    "collection_to_update = db.sep_entries\n",
    "\n",
    "editors_notes = list(collection_to_update.find(\n",
    "    {'preamble_text': {'$regex': '^\\['}},\n",
    "    projection={'page_url':1, 'title':1, 'preamble_text':1, '_id':0}\n",
    "))\n",
    "pprint(len(editors_notes))\n",
    "# pprint(editors_notes)\n",
    "\n",
    "for article in editors_notes:\n",
    "    print(article['page_url'])"
   ]
  },
  {
   "cell_type": "code",
   "execution_count": null,
   "metadata": {},
   "outputs": [],
   "source": []
  }
 ],
 "metadata": {
  "language_info": {
   "name": "python",
   "codemirror_mode": {
    "name": "ipython",
    "version": 3
   },
   "version": "3.6.9-final"
  },
  "orig_nbformat": 2,
  "file_extension": ".py",
  "mimetype": "text/x-python",
  "name": "python",
  "npconvert_exporter": "python",
  "pygments_lexer": "ipython3",
  "version": 3,
  "kernelspec": {
   "name": "python36964bitpythondataconda8971416e9bae4e8197b8a061b72f9dc8",
   "display_name": "Python 3.6.9 64-bit ('PythonData': conda)",
   "language": "python"
  }
 },
 "nbformat": 4,
 "nbformat_minor": 2
}