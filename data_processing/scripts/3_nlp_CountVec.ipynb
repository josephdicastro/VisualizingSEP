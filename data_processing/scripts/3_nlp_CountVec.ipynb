{
 "cells": [
  {
   "cell_type": "code",
   "execution_count": 6,
   "metadata": {},
   "outputs": [],
   "source": [
    "import pandas as pd \n",
    "import pymongo\n",
    "from pprint import pprint\n",
    "\n",
    "import numpy as np\n",
    "import scipy.sparse as ss\n",
    "import matplotlib.pyplot as plt\n",
    "\n",
    "from sklearn.feature_extraction.text import CountVectorizer\n",
    "\n",
    "from corextopic import corextopic as ct\n",
    "from corextopic import vis_topic as vt # jupyter notebooks will complain matplotlib is being loaded twice"
   ]
  },
  {
   "cell_type": "code",
   "execution_count": 7,
   "metadata": {},
   "outputs": [],
   "source": [
    "##### INIT GLOBAL VARIABLES#####\n",
    "\n",
    "#init Mongo\n",
    "conn = 'mongodb://localhost:27017'\n",
    "client = pymongo.MongoClient(conn)\n",
    "\n",
    "#connect to database\n",
    "db = client.visualizing_sep"
   ]
  },
  {
   "cell_type": "code",
   "execution_count": 3,
   "metadata": {},
   "outputs": [],
   "source": [
    "sep_df = pd.DataFrame(list(db.sep_entries.find({}, \n",
    "                                                projection=['title', 'pagetext'], \n",
    "                                                sort=[('title',1)])))"
   ]
  },
  {
   "cell_type": "code",
   "execution_count": 8,
   "metadata": {
    "tags": []
   },
   "outputs": [
    {
     "output_type": "execute_result",
     "data": {
      "text/plain": "                        _id                                         title  \\\n0  5f109ada789a3d802df9a75b    17th and 18th Century Theories of Emotions   \n1  5f10994d789a3d802df9a5b6               18th Century British Aesthetics   \n2  5f10994e789a3d802df9a5b7                18th Century French Aesthetics   \n3  5f10994f789a3d802df9a5b8                18th Century German Aesthetics   \n4  5f10993b789a3d802df9a5a3  18th Century German Philosophy Prior to Kant   \n\n                                            pagetext  \n0  Early modern philosophy in Europe and Great Br...  \n1  18th-century British aesthetics addressed itse...  \n2  French philosophers of the Ancien Régime wrote...  \n3  The philosophical discipline of aesthetics did...  \n4  In Germany, the eighteenth century was the age...  ",
      "text/html": "<div>\n<style scoped>\n    .dataframe tbody tr th:only-of-type {\n        vertical-align: middle;\n    }\n\n    .dataframe tbody tr th {\n        vertical-align: top;\n    }\n\n    .dataframe thead th {\n        text-align: right;\n    }\n</style>\n<table border=\"1\" class=\"dataframe\">\n  <thead>\n    <tr style=\"text-align: right;\">\n      <th></th>\n      <th>_id</th>\n      <th>title</th>\n      <th>pagetext</th>\n    </tr>\n  </thead>\n  <tbody>\n    <tr>\n      <td>0</td>\n      <td>5f109ada789a3d802df9a75b</td>\n      <td>17th and 18th Century Theories of Emotions</td>\n      <td>Early modern philosophy in Europe and Great Br...</td>\n    </tr>\n    <tr>\n      <td>1</td>\n      <td>5f10994d789a3d802df9a5b6</td>\n      <td>18th Century British Aesthetics</td>\n      <td>18th-century British aesthetics addressed itse...</td>\n    </tr>\n    <tr>\n      <td>2</td>\n      <td>5f10994e789a3d802df9a5b7</td>\n      <td>18th Century French Aesthetics</td>\n      <td>French philosophers of the Ancien Régime wrote...</td>\n    </tr>\n    <tr>\n      <td>3</td>\n      <td>5f10994f789a3d802df9a5b8</td>\n      <td>18th Century German Aesthetics</td>\n      <td>The philosophical discipline of aesthetics did...</td>\n    </tr>\n    <tr>\n      <td>4</td>\n      <td>5f10993b789a3d802df9a5a3</td>\n      <td>18th Century German Philosophy Prior to Kant</td>\n      <td>In Germany, the eighteenth century was the age...</td>\n    </tr>\n  </tbody>\n</table>\n</div>"
     },
     "metadata": {},
     "execution_count": 8
    }
   ],
   "source": [
    "sep_df.head()"
   ]
  },
  {
   "cell_type": "code",
   "execution_count": 11,
   "metadata": {
    "tags": []
   },
   "outputs": [
    {
     "output_type": "execute_result",
     "data": {
      "text/plain": "(1692, 20000)"
     },
     "metadata": {},
     "execution_count": 11
    }
   ],
   "source": [
    "vectorizer = CountVectorizer(stop_words='english', max_features=20000, binary=True)\n",
    "doc_word = vectorizer.fit_transform(sep_df['pagetext'])\n",
    "doc_word = ss.csr_matrix(doc_word)\n",
    "\n",
    "doc_word.shape # n_docs x m_words"
   ]
  },
  {
   "cell_type": "code",
   "execution_count": 12,
   "metadata": {},
   "outputs": [],
   "source": [
    "# Get words that label the columns (needed to extract readable topics and make anchoring easier)\n",
    "words = list(np.asarray(vectorizer.get_feature_names()))\n"
   ]
  },
  {
   "cell_type": "code",
   "execution_count": 13,
   "metadata": {},
   "outputs": [
    {
     "output_type": "execute_result",
     "data": {
      "text/plain": "(1692, 19176)"
     },
     "metadata": {},
     "execution_count": 13
    }
   ],
   "source": [
    "not_digit_inds = [ind for ind,word in enumerate(words) if not word.isdigit()]\n",
    "doc_word = doc_word[:,not_digit_inds]\n",
    "words    = [word for ind,word in enumerate(words) if not word.isdigit()]\n",
    "\n",
    "doc_word.shape # n_docs x m_words"
   ]
  },
  {
   "cell_type": "code",
   "execution_count": 14,
   "metadata": {
    "tags": []
   },
   "outputs": [
    {
     "output_type": "stream",
     "name": "stdout",
     "text": "WARNING: Some words never appear (or always appear)\n"
    }
   ],
   "source": [
    "# Train the CorEx topic model with 50 topics\n",
    "topic_model = ct.Corex(n_hidden=20, words=words, max_iter=200, verbose=False, seed=1)\n",
    "topic_model.fit(doc_word, words=words);"
   ]
  },
  {
   "cell_type": "code",
   "execution_count": 15,
   "metadata": {},
   "outputs": [
    {
     "output_type": "execute_result",
     "data": {
      "text/plain": "[('theorem', 0.23612052319200663),\n ('ldots', 0.21634443226586533),\n ('theorems', 0.21454964580938754),\n ('amp', 0.2051932902303719),\n ('rightarrow', 0.18330563118269042),\n ('axioms', 0.17987163587851632),\n ('aaa', 0.17820772168458557),\n ('theoretic', 0.16699220189663125),\n ('variables', 0.1600475501599902),\n ('bbb', 0.15389677521011125)]"
     },
     "metadata": {},
     "execution_count": 15
    }
   ],
   "source": [
    "# Print a single topic from CorEx topic model\n",
    "topic_model.get_topics(topic=1, n_words=10)"
   ]
  },
  {
   "cell_type": "code",
   "execution_count": 16,
   "metadata": {
    "tags": []
   },
   "outputs": [
    {
     "output_type": "stream",
     "name": "stdout",
     "text": "0: society,rights,political,social,economic,institutions,public,government,legal,politics\n1: theorem,ldots,theorems,amp,rightarrow,axioms,aaa,theoretic,variables,bbb\n2: moral,morally,lives,harm,morality,goods,persons,people,person,duty\n3: published,wrote,university,died,born,writings,intellectual,career,books,teaching\n4: culture,cultural,practices,life,history,movement,historical,western,cultures,european\n5: divine,god,theology,christian,theological,religious,spiritual,perfection,eternal,religion\n6: plausible,suppose,objection,worry,isn,count,think,doesn,don,facts\n7: sentences,semantics,semantic,sentence,propositional,predicate,quantifiers,logical,predicates,frege\n8: soul,aristotle,aristotelian,texts,latin,treatise,commentary,commentaries,treatises,greek\n9: normative,argue,theorists,responses,challenge,counts,response,beliefs,tend,agents\n10: processes,al,mechanisms,research,biology,environment,biological,researchers,networks,environmental\n11: mechanics,physics,experimental,mathematical,particles,measurement,quantum,scientists,statistical,scientific\n12: models,systems,model,function,linear,field,domain,computer,computational,structure\n13: typically,relevant,cases,require,assumption,conditions,resources,depend,requirement,intuitively\n14: experience,consciousness,perception,experiences,conscious,sensory,feeling,sensations,perceptual,awareness\n15: early,reality,century,period,tradition,later,beginning,original,generation,figures\n16: focus,central,conception,perspective,understanding,conceptual,aims,broadly,conceptions,empirical\n17: properties,objects,entities,entity,ontological,ontology,identical,temporal,spatial,metaphysical\n18: thinks,merely,argument,claims,mere,claim,argues,thing,genuine,supposed\n19: act,acts,capacity,virtue,doing,intentions,capable,acquire,stop,perform\n"
    }
   ],
   "source": [
    "# Print all topics from the CorEx topic model\n",
    "topics = topic_model.get_topics()\n",
    "for n,topic in enumerate(topics):\n",
    "    topic_words,_ = zip(*topic)\n",
    "    print('{}: '.format(n) + ','.join(topic_words))"
   ]
  },
  {
   "cell_type": "code",
   "execution_count": 17,
   "metadata": {
    "tags": []
   },
   "outputs": [
    {
     "output_type": "stream",
     "name": "stdout",
     "text": "[1 8 8 ... 1 1 1]\n(19176,)\n"
    }
   ],
   "source": [
    "\n",
    "\n",
    "print(topic_model.clusters)\n",
    "print(topic_model.clusters.shape) # m_words\n",
    "\n"
   ]
  },
  {
   "cell_type": "code",
   "execution_count": 18,
   "metadata": {
    "tags": []
   },
   "outputs": [
    {
     "output_type": "stream",
     "name": "stdout",
     "text": "NOTE: 'docs' not provided to CorEx. Returning top docs as lists of row indices\n"
    },
    {
     "output_type": "execute_result",
     "data": {
      "text/plain": "[(474, 0.0),\n (1341, 0.0),\n (1126, 0.0),\n (755, 0.0),\n (405, 0.0),\n (1348, 0.0),\n (760, 0.0),\n (1353, 0.0),\n (762, 0.0),\n (1354, 0.0)]"
     },
     "metadata": {},
     "execution_count": 18
    }
   ],
   "source": [
    "# Print a single topic from CorEx topic model\n",
    "topic_model.get_top_docs(topic=0, n_docs=10, sort_by='log_prob')"
   ]
  },
  {
   "cell_type": "code",
   "execution_count": 19,
   "metadata": {
    "tags": []
   },
   "outputs": [
    {
     "output_type": "stream",
     "name": "stdout",
     "text": "(1692, 20)\n"
    }
   ],
   "source": [
    "\n",
    "print(topic_model.labels.shape)"
   ]
  },
  {
   "cell_type": "code",
   "execution_count": 20,
   "metadata": {},
   "outputs": [
    {
     "output_type": "execute_result",
     "data": {
      "text/plain": "267.5386357842471"
     },
     "metadata": {},
     "execution_count": 20
    }
   ],
   "source": [
    "\n",
    "\n",
    "topic_model.tc\n",
    "\n"
   ]
  },
  {
   "cell_type": "code",
   "execution_count": 21,
   "metadata": {},
   "outputs": [
    {
     "output_type": "display_data",
     "data": {
      "text/plain": "<Figure size 720x360 with 1 Axes>",
      "image/svg+xml": "<?xml version=\"1.0\" encoding=\"utf-8\" standalone=\"no\"?>\r\n<!DOCTYPE svg PUBLIC \"-//W3C//DTD SVG 1.1//EN\"\r\n  \"http://www.w3.org/Graphics/SVG/1.1/DTD/svg11.dtd\">\r\n<!-- Created with matplotlib (https://matplotlib.org/) -->\r\n<svg height=\"322.363125pt\" version=\"1.1\" viewBox=\"0 0 616.889666 322.363125\" width=\"616.889666pt\" xmlns=\"http://www.w3.org/2000/svg\" xmlns:xlink=\"http://www.w3.org/1999/xlink\">\r\n <defs>\r\n  <style type=\"text/css\">\r\n*{stroke-linecap:butt;stroke-linejoin:round;}\r\n  </style>\r\n </defs>\r\n <g id=\"figure_1\">\r\n  <g id=\"patch_1\">\r\n   <path d=\"M 0 322.363125 \r\nL 616.889666 322.363125 \r\nL 616.889666 0 \r\nL 0 0 \r\nz\r\n\" style=\"fill:none;\"/>\r\n  </g>\r\n  <g id=\"axes_1\">\r\n   <g id=\"patch_2\">\r\n    <path d=\"M 46.41 279 \r\nL 604.41 279 \r\nL 604.41 7.2 \r\nL 46.41 7.2 \r\nz\r\n\" style=\"fill:#ffffff;\"/>\r\n   </g>\r\n   <g id=\"patch_3\">\r\n    <path clip-path=\"url(#pe7291ab07b)\" d=\"M 71.773636 279 \r\nL 84.780629 279 \r\nL 84.780629 20.142857 \r\nL 71.773636 20.142857 \r\nz\r\n\" style=\"fill:#4e79a7;\"/>\r\n   </g>\r\n   <g id=\"patch_4\">\r\n    <path clip-path=\"url(#pe7291ab07b)\" d=\"M 97.787622 279 \r\nL 110.794615 279 \r\nL 110.794615 43.362174 \r\nL 97.787622 43.362174 \r\nz\r\n\" style=\"fill:#4e79a7;\"/>\r\n   </g>\r\n   <g id=\"patch_5\">\r\n    <path clip-path=\"url(#pe7291ab07b)\" d=\"M 123.801608 279 \r\nL 136.808601 279 \r\nL 136.808601 90.674573 \r\nL 123.801608 90.674573 \r\nz\r\n\" style=\"fill:#4e79a7;\"/>\r\n   </g>\r\n   <g id=\"patch_6\">\r\n    <path clip-path=\"url(#pe7291ab07b)\" d=\"M 149.815594 279 \r\nL 162.822587 279 \r\nL 162.822587 106.191209 \r\nL 149.815594 106.191209 \r\nz\r\n\" style=\"fill:#4e79a7;\"/>\r\n   </g>\r\n   <g id=\"patch_7\">\r\n    <path clip-path=\"url(#pe7291ab07b)\" d=\"M 175.82958 279 \r\nL 188.836573 279 \r\nL 188.836573 133.193496 \r\nL 175.82958 133.193496 \r\nz\r\n\" style=\"fill:#4e79a7;\"/>\r\n   </g>\r\n   <g id=\"patch_8\">\r\n    <path clip-path=\"url(#pe7291ab07b)\" d=\"M 201.843566 279 \r\nL 214.850559 279 \r\nL 214.850559 143.449181 \r\nL 201.843566 143.449181 \r\nz\r\n\" style=\"fill:#4e79a7;\"/>\r\n   </g>\r\n   <g id=\"patch_9\">\r\n    <path clip-path=\"url(#pe7291ab07b)\" d=\"M 227.857552 279 \r\nL 240.864545 279 \r\nL 240.864545 145.41603 \r\nL 227.857552 145.41603 \r\nz\r\n\" style=\"fill:#4e79a7;\"/>\r\n   </g>\r\n   <g id=\"patch_10\">\r\n    <path clip-path=\"url(#pe7291ab07b)\" d=\"M 253.871538 279 \r\nL 266.878531 279 \r\nL 266.878531 148.059524 \r\nL 253.871538 148.059524 \r\nz\r\n\" style=\"fill:#4e79a7;\"/>\r\n   </g>\r\n   <g id=\"patch_11\">\r\n    <path clip-path=\"url(#pe7291ab07b)\" d=\"M 279.885524 279 \r\nL 292.892517 279 \r\nL 292.892517 148.989184 \r\nL 279.885524 148.989184 \r\nz\r\n\" style=\"fill:#4e79a7;\"/>\r\n   </g>\r\n   <g id=\"patch_12\">\r\n    <path clip-path=\"url(#pe7291ab07b)\" d=\"M 305.89951 279 \r\nL 318.906503 279 \r\nL 318.906503 156.959478 \r\nL 305.89951 156.959478 \r\nz\r\n\" style=\"fill:#4e79a7;\"/>\r\n   </g>\r\n   <g id=\"patch_13\">\r\n    <path clip-path=\"url(#pe7291ab07b)\" d=\"M 331.913497 279 \r\nL 344.92049 279 \r\nL 344.92049 157.897088 \r\nL 331.913497 157.897088 \r\nz\r\n\" style=\"fill:#4e79a7;\"/>\r\n   </g>\r\n   <g id=\"patch_14\">\r\n    <path clip-path=\"url(#pe7291ab07b)\" d=\"M 357.927483 279 \r\nL 370.934476 279 \r\nL 370.934476 159.112726 \r\nL 357.927483 159.112726 \r\nz\r\n\" style=\"fill:#4e79a7;\"/>\r\n   </g>\r\n   <g id=\"patch_15\">\r\n    <path clip-path=\"url(#pe7291ab07b)\" d=\"M 383.941469 279 \r\nL 396.948462 279 \r\nL 396.948462 162.286778 \r\nL 383.941469 162.286778 \r\nz\r\n\" style=\"fill:#4e79a7;\"/>\r\n   </g>\r\n   <g id=\"patch_16\">\r\n    <path clip-path=\"url(#pe7291ab07b)\" d=\"M 409.955455 279 \r\nL 422.962448 279 \r\nL 422.962448 163.504496 \r\nL 409.955455 163.504496 \r\nz\r\n\" style=\"fill:#4e79a7;\"/>\r\n   </g>\r\n   <g id=\"patch_17\">\r\n    <path clip-path=\"url(#pe7291ab07b)\" d=\"M 435.969441 279 \r\nL 448.976434 279 \r\nL 448.976434 170.062282 \r\nL 435.969441 170.062282 \r\nz\r\n\" style=\"fill:#4e79a7;\"/>\r\n   </g>\r\n   <g id=\"patch_18\">\r\n    <path clip-path=\"url(#pe7291ab07b)\" d=\"M 461.983427 279 \r\nL 474.99042 279 \r\nL 474.99042 175.740268 \r\nL 461.983427 175.740268 \r\nz\r\n\" style=\"fill:#4e79a7;\"/>\r\n   </g>\r\n   <g id=\"patch_19\">\r\n    <path clip-path=\"url(#pe7291ab07b)\" d=\"M 487.997413 279 \r\nL 501.004406 279 \r\nL 501.004406 176.51243 \r\nL 487.997413 176.51243 \r\nz\r\n\" style=\"fill:#4e79a7;\"/>\r\n   </g>\r\n   <g id=\"patch_20\">\r\n    <path clip-path=\"url(#pe7291ab07b)\" d=\"M 514.011399 279 \r\nL 527.018392 279 \r\nL 527.018392 187.291778 \r\nL 514.011399 187.291778 \r\nz\r\n\" style=\"fill:#4e79a7;\"/>\r\n   </g>\r\n   <g id=\"patch_21\">\r\n    <path clip-path=\"url(#pe7291ab07b)\" d=\"M 540.025385 279 \r\nL 553.032378 279 \r\nL 553.032378 194.888771 \r\nL 540.025385 194.888771 \r\nz\r\n\" style=\"fill:#4e79a7;\"/>\r\n   </g>\r\n   <g id=\"patch_22\">\r\n    <path clip-path=\"url(#pe7291ab07b)\" d=\"M 566.039371 279 \r\nL 579.046364 279 \r\nL 579.046364 212.934472 \r\nL 566.039371 212.934472 \r\nz\r\n\" style=\"fill:#4e79a7;\"/>\r\n   </g>\r\n   <g id=\"matplotlib.axis_1\">\r\n    <g id=\"xtick_1\">\r\n     <g id=\"line2d_1\">\r\n      <defs>\r\n       <path d=\"M 0 0 \r\nL 0 3.5 \r\n\" id=\"m0bb8cef2d6\" style=\"stroke:#000000;stroke-width:0.8;\"/>\r\n      </defs>\r\n      <g>\r\n       <use style=\"stroke:#000000;stroke-width:0.8;\" x=\"78.277133\" xlink:href=\"#m0bb8cef2d6\" y=\"279\"/>\r\n      </g>\r\n     </g>\r\n     <g id=\"text_1\">\r\n      <!-- 0.0 -->\r\n      <defs>\r\n       <path d=\"M 31.78125 66.40625 \r\nQ 24.171875 66.40625 20.328125 58.90625 \r\nQ 16.5 51.421875 16.5 36.375 \r\nQ 16.5 21.390625 20.328125 13.890625 \r\nQ 24.171875 6.390625 31.78125 6.390625 \r\nQ 39.453125 6.390625 43.28125 13.890625 \r\nQ 47.125 21.390625 47.125 36.375 \r\nQ 47.125 51.421875 43.28125 58.90625 \r\nQ 39.453125 66.40625 31.78125 66.40625 \r\nz\r\nM 31.78125 74.21875 \r\nQ 44.046875 74.21875 50.515625 64.515625 \r\nQ 56.984375 54.828125 56.984375 36.375 \r\nQ 56.984375 17.96875 50.515625 8.265625 \r\nQ 44.046875 -1.421875 31.78125 -1.421875 \r\nQ 19.53125 -1.421875 13.0625 8.265625 \r\nQ 6.59375 17.96875 6.59375 36.375 \r\nQ 6.59375 54.828125 13.0625 64.515625 \r\nQ 19.53125 74.21875 31.78125 74.21875 \r\nz\r\n\" id=\"DejaVuSans-48\"/>\r\n       <path d=\"M 10.6875 12.40625 \r\nL 21 12.40625 \r\nL 21 0 \r\nL 10.6875 0 \r\nz\r\n\" id=\"DejaVuSans-46\"/>\r\n      </defs>\r\n      <g transform=\"translate(70.32557 293.598438)scale(0.1 -0.1)\">\r\n       <use xlink:href=\"#DejaVuSans-48\"/>\r\n       <use x=\"63.623047\" xlink:href=\"#DejaVuSans-46\"/>\r\n       <use x=\"95.410156\" xlink:href=\"#DejaVuSans-48\"/>\r\n      </g>\r\n     </g>\r\n    </g>\r\n    <g id=\"xtick_2\">\r\n     <g id=\"line2d_2\">\r\n      <g>\r\n       <use style=\"stroke:#000000;stroke-width:0.8;\" x=\"143.312098\" xlink:href=\"#m0bb8cef2d6\" y=\"279\"/>\r\n      </g>\r\n     </g>\r\n     <g id=\"text_2\">\r\n      <!-- 2.5 -->\r\n      <defs>\r\n       <path d=\"M 19.1875 8.296875 \r\nL 53.609375 8.296875 \r\nL 53.609375 0 \r\nL 7.328125 0 \r\nL 7.328125 8.296875 \r\nQ 12.9375 14.109375 22.625 23.890625 \r\nQ 32.328125 33.6875 34.8125 36.53125 \r\nQ 39.546875 41.84375 41.421875 45.53125 \r\nQ 43.3125 49.21875 43.3125 52.78125 \r\nQ 43.3125 58.59375 39.234375 62.25 \r\nQ 35.15625 65.921875 28.609375 65.921875 \r\nQ 23.96875 65.921875 18.8125 64.3125 \r\nQ 13.671875 62.703125 7.8125 59.421875 \r\nL 7.8125 69.390625 \r\nQ 13.765625 71.78125 18.9375 73 \r\nQ 24.125 74.21875 28.421875 74.21875 \r\nQ 39.75 74.21875 46.484375 68.546875 \r\nQ 53.21875 62.890625 53.21875 53.421875 \r\nQ 53.21875 48.921875 51.53125 44.890625 \r\nQ 49.859375 40.875 45.40625 35.40625 \r\nQ 44.1875 33.984375 37.640625 27.21875 \r\nQ 31.109375 20.453125 19.1875 8.296875 \r\nz\r\n\" id=\"DejaVuSans-50\"/>\r\n       <path d=\"M 10.796875 72.90625 \r\nL 49.515625 72.90625 \r\nL 49.515625 64.59375 \r\nL 19.828125 64.59375 \r\nL 19.828125 46.734375 \r\nQ 21.96875 47.46875 24.109375 47.828125 \r\nQ 26.265625 48.1875 28.421875 48.1875 \r\nQ 40.625 48.1875 47.75 41.5 \r\nQ 54.890625 34.8125 54.890625 23.390625 \r\nQ 54.890625 11.625 47.5625 5.09375 \r\nQ 40.234375 -1.421875 26.90625 -1.421875 \r\nQ 22.3125 -1.421875 17.546875 -0.640625 \r\nQ 12.796875 0.140625 7.71875 1.703125 \r\nL 7.71875 11.625 \r\nQ 12.109375 9.234375 16.796875 8.0625 \r\nQ 21.484375 6.890625 26.703125 6.890625 \r\nQ 35.15625 6.890625 40.078125 11.328125 \r\nQ 45.015625 15.765625 45.015625 23.390625 \r\nQ 45.015625 31 40.078125 35.4375 \r\nQ 35.15625 39.890625 26.703125 39.890625 \r\nQ 22.75 39.890625 18.8125 39.015625 \r\nQ 14.890625 38.140625 10.796875 36.28125 \r\nz\r\n\" id=\"DejaVuSans-53\"/>\r\n      </defs>\r\n      <g transform=\"translate(135.360535 293.598438)scale(0.1 -0.1)\">\r\n       <use xlink:href=\"#DejaVuSans-50\"/>\r\n       <use x=\"63.623047\" xlink:href=\"#DejaVuSans-46\"/>\r\n       <use x=\"95.410156\" xlink:href=\"#DejaVuSans-53\"/>\r\n      </g>\r\n     </g>\r\n    </g>\r\n    <g id=\"xtick_3\">\r\n     <g id=\"line2d_3\">\r\n      <g>\r\n       <use style=\"stroke:#000000;stroke-width:0.8;\" x=\"208.347063\" xlink:href=\"#m0bb8cef2d6\" y=\"279\"/>\r\n      </g>\r\n     </g>\r\n     <g id=\"text_3\">\r\n      <!-- 5.0 -->\r\n      <g transform=\"translate(200.3955 293.598438)scale(0.1 -0.1)\">\r\n       <use xlink:href=\"#DejaVuSans-53\"/>\r\n       <use x=\"63.623047\" xlink:href=\"#DejaVuSans-46\"/>\r\n       <use x=\"95.410156\" xlink:href=\"#DejaVuSans-48\"/>\r\n      </g>\r\n     </g>\r\n    </g>\r\n    <g id=\"xtick_4\">\r\n     <g id=\"line2d_4\">\r\n      <g>\r\n       <use style=\"stroke:#000000;stroke-width:0.8;\" x=\"273.382028\" xlink:href=\"#m0bb8cef2d6\" y=\"279\"/>\r\n      </g>\r\n     </g>\r\n     <g id=\"text_4\">\r\n      <!-- 7.5 -->\r\n      <defs>\r\n       <path d=\"M 8.203125 72.90625 \r\nL 55.078125 72.90625 \r\nL 55.078125 68.703125 \r\nL 28.609375 0 \r\nL 18.3125 0 \r\nL 43.21875 64.59375 \r\nL 8.203125 64.59375 \r\nz\r\n\" id=\"DejaVuSans-55\"/>\r\n      </defs>\r\n      <g transform=\"translate(265.430465 293.598438)scale(0.1 -0.1)\">\r\n       <use xlink:href=\"#DejaVuSans-55\"/>\r\n       <use x=\"63.623047\" xlink:href=\"#DejaVuSans-46\"/>\r\n       <use x=\"95.410156\" xlink:href=\"#DejaVuSans-53\"/>\r\n      </g>\r\n     </g>\r\n    </g>\r\n    <g id=\"xtick_5\">\r\n     <g id=\"line2d_5\">\r\n      <g>\r\n       <use style=\"stroke:#000000;stroke-width:0.8;\" x=\"338.416993\" xlink:href=\"#m0bb8cef2d6\" y=\"279\"/>\r\n      </g>\r\n     </g>\r\n     <g id=\"text_5\">\r\n      <!-- 10.0 -->\r\n      <defs>\r\n       <path d=\"M 12.40625 8.296875 \r\nL 28.515625 8.296875 \r\nL 28.515625 63.921875 \r\nL 10.984375 60.40625 \r\nL 10.984375 69.390625 \r\nL 28.421875 72.90625 \r\nL 38.28125 72.90625 \r\nL 38.28125 8.296875 \r\nL 54.390625 8.296875 \r\nL 54.390625 0 \r\nL 12.40625 0 \r\nz\r\n\" id=\"DejaVuSans-49\"/>\r\n      </defs>\r\n      <g transform=\"translate(327.284181 293.598438)scale(0.1 -0.1)\">\r\n       <use xlink:href=\"#DejaVuSans-49\"/>\r\n       <use x=\"63.623047\" xlink:href=\"#DejaVuSans-48\"/>\r\n       <use x=\"127.246094\" xlink:href=\"#DejaVuSans-46\"/>\r\n       <use x=\"159.033203\" xlink:href=\"#DejaVuSans-48\"/>\r\n      </g>\r\n     </g>\r\n    </g>\r\n    <g id=\"xtick_6\">\r\n     <g id=\"line2d_6\">\r\n      <g>\r\n       <use style=\"stroke:#000000;stroke-width:0.8;\" x=\"403.451958\" xlink:href=\"#m0bb8cef2d6\" y=\"279\"/>\r\n      </g>\r\n     </g>\r\n     <g id=\"text_6\">\r\n      <!-- 12.5 -->\r\n      <g transform=\"translate(392.319146 293.598438)scale(0.1 -0.1)\">\r\n       <use xlink:href=\"#DejaVuSans-49\"/>\r\n       <use x=\"63.623047\" xlink:href=\"#DejaVuSans-50\"/>\r\n       <use x=\"127.246094\" xlink:href=\"#DejaVuSans-46\"/>\r\n       <use x=\"159.033203\" xlink:href=\"#DejaVuSans-53\"/>\r\n      </g>\r\n     </g>\r\n    </g>\r\n    <g id=\"xtick_7\">\r\n     <g id=\"line2d_7\">\r\n      <g>\r\n       <use style=\"stroke:#000000;stroke-width:0.8;\" x=\"468.486923\" xlink:href=\"#m0bb8cef2d6\" y=\"279\"/>\r\n      </g>\r\n     </g>\r\n     <g id=\"text_7\">\r\n      <!-- 15.0 -->\r\n      <g transform=\"translate(457.354111 293.598438)scale(0.1 -0.1)\">\r\n       <use xlink:href=\"#DejaVuSans-49\"/>\r\n       <use x=\"63.623047\" xlink:href=\"#DejaVuSans-53\"/>\r\n       <use x=\"127.246094\" xlink:href=\"#DejaVuSans-46\"/>\r\n       <use x=\"159.033203\" xlink:href=\"#DejaVuSans-48\"/>\r\n      </g>\r\n     </g>\r\n    </g>\r\n    <g id=\"xtick_8\">\r\n     <g id=\"line2d_8\">\r\n      <g>\r\n       <use style=\"stroke:#000000;stroke-width:0.8;\" x=\"533.521888\" xlink:href=\"#m0bb8cef2d6\" y=\"279\"/>\r\n      </g>\r\n     </g>\r\n     <g id=\"text_8\">\r\n      <!-- 17.5 -->\r\n      <g transform=\"translate(522.389076 293.598438)scale(0.1 -0.1)\">\r\n       <use xlink:href=\"#DejaVuSans-49\"/>\r\n       <use x=\"63.623047\" xlink:href=\"#DejaVuSans-55\"/>\r\n       <use x=\"127.246094\" xlink:href=\"#DejaVuSans-46\"/>\r\n       <use x=\"159.033203\" xlink:href=\"#DejaVuSans-53\"/>\r\n      </g>\r\n     </g>\r\n    </g>\r\n    <g id=\"xtick_9\">\r\n     <g id=\"line2d_9\">\r\n      <g>\r\n       <use style=\"stroke:#000000;stroke-width:0.8;\" x=\"598.556853\" xlink:href=\"#m0bb8cef2d6\" y=\"279\"/>\r\n      </g>\r\n     </g>\r\n     <g id=\"text_9\">\r\n      <!-- 20.0 -->\r\n      <g transform=\"translate(587.424041 293.598438)scale(0.1 -0.1)\">\r\n       <use xlink:href=\"#DejaVuSans-50\"/>\r\n       <use x=\"63.623047\" xlink:href=\"#DejaVuSans-48\"/>\r\n       <use x=\"127.246094\" xlink:href=\"#DejaVuSans-46\"/>\r\n       <use x=\"159.033203\" xlink:href=\"#DejaVuSans-48\"/>\r\n      </g>\r\n     </g>\r\n    </g>\r\n    <g id=\"text_10\">\r\n     <!-- Topic -->\r\n     <defs>\r\n      <path d=\"M -0.296875 72.90625 \r\nL 61.375 72.90625 \r\nL 61.375 64.59375 \r\nL 35.5 64.59375 \r\nL 35.5 0 \r\nL 25.59375 0 \r\nL 25.59375 64.59375 \r\nL -0.296875 64.59375 \r\nz\r\n\" id=\"DejaVuSans-84\"/>\r\n      <path d=\"M 30.609375 48.390625 \r\nQ 23.390625 48.390625 19.1875 42.75 \r\nQ 14.984375 37.109375 14.984375 27.296875 \r\nQ 14.984375 17.484375 19.15625 11.84375 \r\nQ 23.34375 6.203125 30.609375 6.203125 \r\nQ 37.796875 6.203125 41.984375 11.859375 \r\nQ 46.1875 17.53125 46.1875 27.296875 \r\nQ 46.1875 37.015625 41.984375 42.703125 \r\nQ 37.796875 48.390625 30.609375 48.390625 \r\nz\r\nM 30.609375 56 \r\nQ 42.328125 56 49.015625 48.375 \r\nQ 55.71875 40.765625 55.71875 27.296875 \r\nQ 55.71875 13.875 49.015625 6.21875 \r\nQ 42.328125 -1.421875 30.609375 -1.421875 \r\nQ 18.84375 -1.421875 12.171875 6.21875 \r\nQ 5.515625 13.875 5.515625 27.296875 \r\nQ 5.515625 40.765625 12.171875 48.375 \r\nQ 18.84375 56 30.609375 56 \r\nz\r\n\" id=\"DejaVuSans-111\"/>\r\n      <path d=\"M 18.109375 8.203125 \r\nL 18.109375 -20.796875 \r\nL 9.078125 -20.796875 \r\nL 9.078125 54.6875 \r\nL 18.109375 54.6875 \r\nL 18.109375 46.390625 \r\nQ 20.953125 51.265625 25.265625 53.625 \r\nQ 29.59375 56 35.59375 56 \r\nQ 45.5625 56 51.78125 48.09375 \r\nQ 58.015625 40.1875 58.015625 27.296875 \r\nQ 58.015625 14.40625 51.78125 6.484375 \r\nQ 45.5625 -1.421875 35.59375 -1.421875 \r\nQ 29.59375 -1.421875 25.265625 0.953125 \r\nQ 20.953125 3.328125 18.109375 8.203125 \r\nz\r\nM 48.6875 27.296875 \r\nQ 48.6875 37.203125 44.609375 42.84375 \r\nQ 40.53125 48.484375 33.40625 48.484375 \r\nQ 26.265625 48.484375 22.1875 42.84375 \r\nQ 18.109375 37.203125 18.109375 27.296875 \r\nQ 18.109375 17.390625 22.1875 11.75 \r\nQ 26.265625 6.109375 33.40625 6.109375 \r\nQ 40.53125 6.109375 44.609375 11.75 \r\nQ 48.6875 17.390625 48.6875 27.296875 \r\nz\r\n\" id=\"DejaVuSans-112\"/>\r\n      <path d=\"M 9.421875 54.6875 \r\nL 18.40625 54.6875 \r\nL 18.40625 0 \r\nL 9.421875 0 \r\nz\r\nM 9.421875 75.984375 \r\nL 18.40625 75.984375 \r\nL 18.40625 64.59375 \r\nL 9.421875 64.59375 \r\nz\r\n\" id=\"DejaVuSans-105\"/>\r\n      <path d=\"M 48.78125 52.59375 \r\nL 48.78125 44.1875 \r\nQ 44.96875 46.296875 41.140625 47.34375 \r\nQ 37.3125 48.390625 33.40625 48.390625 \r\nQ 24.65625 48.390625 19.8125 42.84375 \r\nQ 14.984375 37.3125 14.984375 27.296875 \r\nQ 14.984375 17.28125 19.8125 11.734375 \r\nQ 24.65625 6.203125 33.40625 6.203125 \r\nQ 37.3125 6.203125 41.140625 7.25 \r\nQ 44.96875 8.296875 48.78125 10.40625 \r\nL 48.78125 2.09375 \r\nQ 45.015625 0.34375 40.984375 -0.53125 \r\nQ 36.96875 -1.421875 32.421875 -1.421875 \r\nQ 20.0625 -1.421875 12.78125 6.34375 \r\nQ 5.515625 14.109375 5.515625 27.296875 \r\nQ 5.515625 40.671875 12.859375 48.328125 \r\nQ 20.21875 56 33.015625 56 \r\nQ 37.15625 56 41.109375 55.140625 \r\nQ 45.0625 54.296875 48.78125 52.59375 \r\nz\r\n\" id=\"DejaVuSans-99\"/>\r\n     </defs>\r\n     <g transform=\"translate(303.95 311.835625)scale(0.16 -0.16)\">\r\n      <use xlink:href=\"#DejaVuSans-84\"/>\r\n      <use x=\"60.818359\" xlink:href=\"#DejaVuSans-111\"/>\r\n      <use x=\"122\" xlink:href=\"#DejaVuSans-112\"/>\r\n      <use x=\"185.476562\" xlink:href=\"#DejaVuSans-105\"/>\r\n      <use x=\"213.259766\" xlink:href=\"#DejaVuSans-99\"/>\r\n     </g>\r\n    </g>\r\n   </g>\r\n   <g id=\"matplotlib.axis_2\">\r\n    <g id=\"ytick_1\">\r\n     <g id=\"line2d_10\">\r\n      <defs>\r\n       <path d=\"M 0 0 \r\nL -3.5 0 \r\n\" id=\"m31811a35f4\" style=\"stroke:#000000;stroke-width:0.8;\"/>\r\n      </defs>\r\n      <g>\r\n       <use style=\"stroke:#000000;stroke-width:0.8;\" x=\"46.41\" xlink:href=\"#m31811a35f4\" y=\"279\"/>\r\n      </g>\r\n     </g>\r\n     <g id=\"text_11\">\r\n      <!-- 0 -->\r\n      <g transform=\"translate(33.0475 282.799219)scale(0.1 -0.1)\">\r\n       <use xlink:href=\"#DejaVuSans-48\"/>\r\n      </g>\r\n     </g>\r\n    </g>\r\n    <g id=\"ytick_2\">\r\n     <g id=\"line2d_11\">\r\n      <g>\r\n       <use style=\"stroke:#000000;stroke-width:0.8;\" x=\"46.41\" xlink:href=\"#m31811a35f4\" y=\"228.85152\"/>\r\n      </g>\r\n     </g>\r\n     <g id=\"text_12\">\r\n      <!-- 5 -->\r\n      <g transform=\"translate(33.0475 232.650738)scale(0.1 -0.1)\">\r\n       <use xlink:href=\"#DejaVuSans-53\"/>\r\n      </g>\r\n     </g>\r\n    </g>\r\n    <g id=\"ytick_3\">\r\n     <g id=\"line2d_12\">\r\n      <g>\r\n       <use style=\"stroke:#000000;stroke-width:0.8;\" x=\"46.41\" xlink:href=\"#m31811a35f4\" y=\"178.703039\"/>\r\n      </g>\r\n     </g>\r\n     <g id=\"text_13\">\r\n      <!-- 10 -->\r\n      <g transform=\"translate(26.685 182.502258)scale(0.1 -0.1)\">\r\n       <use xlink:href=\"#DejaVuSans-49\"/>\r\n       <use x=\"63.623047\" xlink:href=\"#DejaVuSans-48\"/>\r\n      </g>\r\n     </g>\r\n    </g>\r\n    <g id=\"ytick_4\">\r\n     <g id=\"line2d_13\">\r\n      <g>\r\n       <use style=\"stroke:#000000;stroke-width:0.8;\" x=\"46.41\" xlink:href=\"#m31811a35f4\" y=\"128.554559\"/>\r\n      </g>\r\n     </g>\r\n     <g id=\"text_14\">\r\n      <!-- 15 -->\r\n      <g transform=\"translate(26.685 132.353778)scale(0.1 -0.1)\">\r\n       <use xlink:href=\"#DejaVuSans-49\"/>\r\n       <use x=\"63.623047\" xlink:href=\"#DejaVuSans-53\"/>\r\n      </g>\r\n     </g>\r\n    </g>\r\n    <g id=\"ytick_5\">\r\n     <g id=\"line2d_14\">\r\n      <g>\r\n       <use style=\"stroke:#000000;stroke-width:0.8;\" x=\"46.41\" xlink:href=\"#m31811a35f4\" y=\"78.406079\"/>\r\n      </g>\r\n     </g>\r\n     <g id=\"text_15\">\r\n      <!-- 20 -->\r\n      <g transform=\"translate(26.685 82.205297)scale(0.1 -0.1)\">\r\n       <use xlink:href=\"#DejaVuSans-50\"/>\r\n       <use x=\"63.623047\" xlink:href=\"#DejaVuSans-48\"/>\r\n      </g>\r\n     </g>\r\n    </g>\r\n    <g id=\"ytick_6\">\r\n     <g id=\"line2d_15\">\r\n      <g>\r\n       <use style=\"stroke:#000000;stroke-width:0.8;\" x=\"46.41\" xlink:href=\"#m31811a35f4\" y=\"28.257598\"/>\r\n      </g>\r\n     </g>\r\n     <g id=\"text_16\">\r\n      <!-- 25 -->\r\n      <g transform=\"translate(26.685 32.056817)scale(0.1 -0.1)\">\r\n       <use xlink:href=\"#DejaVuSans-50\"/>\r\n       <use x=\"63.623047\" xlink:href=\"#DejaVuSans-53\"/>\r\n      </g>\r\n     </g>\r\n    </g>\r\n    <g id=\"text_17\">\r\n     <!-- Total Correlation (nats) -->\r\n     <defs>\r\n      <path d=\"M 18.3125 70.21875 \r\nL 18.3125 54.6875 \r\nL 36.8125 54.6875 \r\nL 36.8125 47.703125 \r\nL 18.3125 47.703125 \r\nL 18.3125 18.015625 \r\nQ 18.3125 11.328125 20.140625 9.421875 \r\nQ 21.96875 7.515625 27.59375 7.515625 \r\nL 36.8125 7.515625 \r\nL 36.8125 0 \r\nL 27.59375 0 \r\nQ 17.1875 0 13.234375 3.875 \r\nQ 9.28125 7.765625 9.28125 18.015625 \r\nL 9.28125 47.703125 \r\nL 2.6875 47.703125 \r\nL 2.6875 54.6875 \r\nL 9.28125 54.6875 \r\nL 9.28125 70.21875 \r\nz\r\n\" id=\"DejaVuSans-116\"/>\r\n      <path d=\"M 34.28125 27.484375 \r\nQ 23.390625 27.484375 19.1875 25 \r\nQ 14.984375 22.515625 14.984375 16.5 \r\nQ 14.984375 11.71875 18.140625 8.90625 \r\nQ 21.296875 6.109375 26.703125 6.109375 \r\nQ 34.1875 6.109375 38.703125 11.40625 \r\nQ 43.21875 16.703125 43.21875 25.484375 \r\nL 43.21875 27.484375 \r\nz\r\nM 52.203125 31.203125 \r\nL 52.203125 0 \r\nL 43.21875 0 \r\nL 43.21875 8.296875 \r\nQ 40.140625 3.328125 35.546875 0.953125 \r\nQ 30.953125 -1.421875 24.3125 -1.421875 \r\nQ 15.921875 -1.421875 10.953125 3.296875 \r\nQ 6 8.015625 6 15.921875 \r\nQ 6 25.140625 12.171875 29.828125 \r\nQ 18.359375 34.515625 30.609375 34.515625 \r\nL 43.21875 34.515625 \r\nL 43.21875 35.40625 \r\nQ 43.21875 41.609375 39.140625 45 \r\nQ 35.0625 48.390625 27.6875 48.390625 \r\nQ 23 48.390625 18.546875 47.265625 \r\nQ 14.109375 46.140625 10.015625 43.890625 \r\nL 10.015625 52.203125 \r\nQ 14.9375 54.109375 19.578125 55.046875 \r\nQ 24.21875 56 28.609375 56 \r\nQ 40.484375 56 46.34375 49.84375 \r\nQ 52.203125 43.703125 52.203125 31.203125 \r\nz\r\n\" id=\"DejaVuSans-97\"/>\r\n      <path d=\"M 9.421875 75.984375 \r\nL 18.40625 75.984375 \r\nL 18.40625 0 \r\nL 9.421875 0 \r\nz\r\n\" id=\"DejaVuSans-108\"/>\r\n      <path id=\"DejaVuSans-32\"/>\r\n      <path d=\"M 64.40625 67.28125 \r\nL 64.40625 56.890625 \r\nQ 59.421875 61.53125 53.78125 63.8125 \r\nQ 48.140625 66.109375 41.796875 66.109375 \r\nQ 29.296875 66.109375 22.65625 58.46875 \r\nQ 16.015625 50.828125 16.015625 36.375 \r\nQ 16.015625 21.96875 22.65625 14.328125 \r\nQ 29.296875 6.6875 41.796875 6.6875 \r\nQ 48.140625 6.6875 53.78125 8.984375 \r\nQ 59.421875 11.28125 64.40625 15.921875 \r\nL 64.40625 5.609375 \r\nQ 59.234375 2.09375 53.4375 0.328125 \r\nQ 47.65625 -1.421875 41.21875 -1.421875 \r\nQ 24.65625 -1.421875 15.125 8.703125 \r\nQ 5.609375 18.84375 5.609375 36.375 \r\nQ 5.609375 53.953125 15.125 64.078125 \r\nQ 24.65625 74.21875 41.21875 74.21875 \r\nQ 47.75 74.21875 53.53125 72.484375 \r\nQ 59.328125 70.75 64.40625 67.28125 \r\nz\r\n\" id=\"DejaVuSans-67\"/>\r\n      <path d=\"M 41.109375 46.296875 \r\nQ 39.59375 47.171875 37.8125 47.578125 \r\nQ 36.03125 48 33.890625 48 \r\nQ 26.265625 48 22.1875 43.046875 \r\nQ 18.109375 38.09375 18.109375 28.8125 \r\nL 18.109375 0 \r\nL 9.078125 0 \r\nL 9.078125 54.6875 \r\nL 18.109375 54.6875 \r\nL 18.109375 46.1875 \r\nQ 20.953125 51.171875 25.484375 53.578125 \r\nQ 30.03125 56 36.53125 56 \r\nQ 37.453125 56 38.578125 55.875 \r\nQ 39.703125 55.765625 41.0625 55.515625 \r\nz\r\n\" id=\"DejaVuSans-114\"/>\r\n      <path d=\"M 56.203125 29.59375 \r\nL 56.203125 25.203125 \r\nL 14.890625 25.203125 \r\nQ 15.484375 15.921875 20.484375 11.0625 \r\nQ 25.484375 6.203125 34.421875 6.203125 \r\nQ 39.59375 6.203125 44.453125 7.46875 \r\nQ 49.3125 8.734375 54.109375 11.28125 \r\nL 54.109375 2.78125 \r\nQ 49.265625 0.734375 44.1875 -0.34375 \r\nQ 39.109375 -1.421875 33.890625 -1.421875 \r\nQ 20.796875 -1.421875 13.15625 6.1875 \r\nQ 5.515625 13.8125 5.515625 26.8125 \r\nQ 5.515625 40.234375 12.765625 48.109375 \r\nQ 20.015625 56 32.328125 56 \r\nQ 43.359375 56 49.78125 48.890625 \r\nQ 56.203125 41.796875 56.203125 29.59375 \r\nz\r\nM 47.21875 32.234375 \r\nQ 47.125 39.59375 43.09375 43.984375 \r\nQ 39.0625 48.390625 32.421875 48.390625 \r\nQ 24.90625 48.390625 20.390625 44.140625 \r\nQ 15.875 39.890625 15.1875 32.171875 \r\nz\r\n\" id=\"DejaVuSans-101\"/>\r\n      <path d=\"M 54.890625 33.015625 \r\nL 54.890625 0 \r\nL 45.90625 0 \r\nL 45.90625 32.71875 \r\nQ 45.90625 40.484375 42.875 44.328125 \r\nQ 39.84375 48.1875 33.796875 48.1875 \r\nQ 26.515625 48.1875 22.3125 43.546875 \r\nQ 18.109375 38.921875 18.109375 30.90625 \r\nL 18.109375 0 \r\nL 9.078125 0 \r\nL 9.078125 54.6875 \r\nL 18.109375 54.6875 \r\nL 18.109375 46.1875 \r\nQ 21.34375 51.125 25.703125 53.5625 \r\nQ 30.078125 56 35.796875 56 \r\nQ 45.21875 56 50.046875 50.171875 \r\nQ 54.890625 44.34375 54.890625 33.015625 \r\nz\r\n\" id=\"DejaVuSans-110\"/>\r\n      <path d=\"M 31 75.875 \r\nQ 24.46875 64.65625 21.28125 53.65625 \r\nQ 18.109375 42.671875 18.109375 31.390625 \r\nQ 18.109375 20.125 21.3125 9.0625 \r\nQ 24.515625 -2 31 -13.1875 \r\nL 23.1875 -13.1875 \r\nQ 15.875 -1.703125 12.234375 9.375 \r\nQ 8.59375 20.453125 8.59375 31.390625 \r\nQ 8.59375 42.28125 12.203125 53.3125 \r\nQ 15.828125 64.359375 23.1875 75.875 \r\nz\r\n\" id=\"DejaVuSans-40\"/>\r\n      <path d=\"M 44.28125 53.078125 \r\nL 44.28125 44.578125 \r\nQ 40.484375 46.53125 36.375 47.5 \r\nQ 32.28125 48.484375 27.875 48.484375 \r\nQ 21.1875 48.484375 17.84375 46.4375 \r\nQ 14.5 44.390625 14.5 40.28125 \r\nQ 14.5 37.15625 16.890625 35.375 \r\nQ 19.28125 33.59375 26.515625 31.984375 \r\nL 29.59375 31.296875 \r\nQ 39.15625 29.25 43.1875 25.515625 \r\nQ 47.21875 21.78125 47.21875 15.09375 \r\nQ 47.21875 7.46875 41.1875 3.015625 \r\nQ 35.15625 -1.421875 24.609375 -1.421875 \r\nQ 20.21875 -1.421875 15.453125 -0.5625 \r\nQ 10.6875 0.296875 5.421875 2 \r\nL 5.421875 11.28125 \r\nQ 10.40625 8.6875 15.234375 7.390625 \r\nQ 20.0625 6.109375 24.8125 6.109375 \r\nQ 31.15625 6.109375 34.5625 8.28125 \r\nQ 37.984375 10.453125 37.984375 14.40625 \r\nQ 37.984375 18.0625 35.515625 20.015625 \r\nQ 33.0625 21.96875 24.703125 23.78125 \r\nL 21.578125 24.515625 \r\nQ 13.234375 26.265625 9.515625 29.90625 \r\nQ 5.8125 33.546875 5.8125 39.890625 \r\nQ 5.8125 47.609375 11.28125 51.796875 \r\nQ 16.75 56 26.8125 56 \r\nQ 31.78125 56 36.171875 55.265625 \r\nQ 40.578125 54.546875 44.28125 53.078125 \r\nz\r\n\" id=\"DejaVuSans-115\"/>\r\n      <path d=\"M 8.015625 75.875 \r\nL 15.828125 75.875 \r\nQ 23.140625 64.359375 26.78125 53.3125 \r\nQ 30.421875 42.28125 30.421875 31.390625 \r\nQ 30.421875 20.453125 26.78125 9.375 \r\nQ 23.140625 -1.703125 15.828125 -13.1875 \r\nL 8.015625 -13.1875 \r\nQ 14.5 -2 17.703125 9.0625 \r\nQ 20.90625 20.125 20.90625 31.390625 \r\nQ 20.90625 42.671875 17.703125 53.65625 \r\nQ 14.5 64.65625 8.015625 75.875 \r\nz\r\n\" id=\"DejaVuSans-41\"/>\r\n     </defs>\r\n     <g transform=\"translate(19.3575 236.15125)rotate(-90)scale(0.16 -0.16)\">\r\n      <use xlink:href=\"#DejaVuSans-84\"/>\r\n      <use x=\"60.818359\" xlink:href=\"#DejaVuSans-111\"/>\r\n      <use x=\"122\" xlink:href=\"#DejaVuSans-116\"/>\r\n      <use x=\"161.208984\" xlink:href=\"#DejaVuSans-97\"/>\r\n      <use x=\"222.488281\" xlink:href=\"#DejaVuSans-108\"/>\r\n      <use x=\"250.271484\" xlink:href=\"#DejaVuSans-32\"/>\r\n      <use x=\"282.058594\" xlink:href=\"#DejaVuSans-67\"/>\r\n      <use x=\"351.882812\" xlink:href=\"#DejaVuSans-111\"/>\r\n      <use x=\"413.064453\" xlink:href=\"#DejaVuSans-114\"/>\r\n      <use x=\"454.162109\" xlink:href=\"#DejaVuSans-114\"/>\r\n      <use x=\"495.244141\" xlink:href=\"#DejaVuSans-101\"/>\r\n      <use x=\"556.767578\" xlink:href=\"#DejaVuSans-108\"/>\r\n      <use x=\"584.550781\" xlink:href=\"#DejaVuSans-97\"/>\r\n      <use x=\"645.830078\" xlink:href=\"#DejaVuSans-116\"/>\r\n      <use x=\"685.039062\" xlink:href=\"#DejaVuSans-105\"/>\r\n      <use x=\"712.822266\" xlink:href=\"#DejaVuSans-111\"/>\r\n      <use x=\"774.003906\" xlink:href=\"#DejaVuSans-110\"/>\r\n      <use x=\"837.382812\" xlink:href=\"#DejaVuSans-32\"/>\r\n      <use x=\"869.169922\" xlink:href=\"#DejaVuSans-40\"/>\r\n      <use x=\"908.183594\" xlink:href=\"#DejaVuSans-110\"/>\r\n      <use x=\"971.5625\" xlink:href=\"#DejaVuSans-97\"/>\r\n      <use x=\"1032.841797\" xlink:href=\"#DejaVuSans-116\"/>\r\n      <use x=\"1072.050781\" xlink:href=\"#DejaVuSans-115\"/>\r\n      <use x=\"1124.150391\" xlink:href=\"#DejaVuSans-41\"/>\r\n     </g>\r\n    </g>\r\n   </g>\r\n   <g id=\"patch_23\">\r\n    <path d=\"M 46.41 279 \r\nL 46.41 7.2 \r\n\" style=\"fill:none;stroke:#000000;stroke-linecap:square;stroke-linejoin:miter;stroke-width:0.8;\"/>\r\n   </g>\r\n   <g id=\"patch_24\">\r\n    <path d=\"M 604.41 279 \r\nL 604.41 7.2 \r\n\" style=\"fill:none;stroke:#000000;stroke-linecap:square;stroke-linejoin:miter;stroke-width:0.8;\"/>\r\n   </g>\r\n   <g id=\"patch_25\">\r\n    <path d=\"M 46.41 279 \r\nL 604.41 279 \r\n\" style=\"fill:none;stroke:#000000;stroke-linecap:square;stroke-linejoin:miter;stroke-width:0.8;\"/>\r\n   </g>\r\n   <g id=\"patch_26\">\r\n    <path d=\"M 46.41 7.2 \r\nL 604.41 7.2 \r\n\" style=\"fill:none;stroke:#000000;stroke-linecap:square;stroke-linejoin:miter;stroke-width:0.8;\"/>\r\n   </g>\r\n  </g>\r\n </g>\r\n <defs>\r\n  <clipPath id=\"pe7291ab07b\">\r\n   <rect height=\"271.8\" width=\"558\" x=\"46.41\" y=\"7.2\"/>\r\n  </clipPath>\r\n </defs>\r\n</svg>\r\n",
      "image/png": "[encoded data removed]"
     },
     "metadata": {
      "needs_background": "light"
     }
    }
   ],
   "source": [
    "plt.figure(figsize=(10,5))\n",
    "plt.bar(range(topic_model.tcs.shape[0]), topic_model.tcs, color='#4e79a7', width=0.5)\n",
    "plt.xlabel('Topic', fontsize=16)\n",
    "plt.ylabel('Total Correlation (nats)', fontsize=16);"
   ]
  },
  {
   "cell_type": "code",
   "execution_count": 22,
   "metadata": {},
   "outputs": [
    {
     "output_type": "execute_result",
     "data": {
      "text/plain": "(1692, 20)"
     },
     "metadata": {},
     "execution_count": 22
    }
   ],
   "source": [
    "topic_model.log_z.shape # n_docs x k_topics"
   ]
  },
  {
   "cell_type": "code",
   "execution_count": 23,
   "metadata": {
    "tags": []
   },
   "outputs": [
    {
     "output_type": "stream",
     "name": "stdout",
     "text": "[25.80907148 23.49401464 18.77678299 17.22971364 14.53747975 13.51494786\n 13.31884524 13.05527854 12.96258778 12.16791825 12.07443484 11.95323102\n 11.63676556 11.51535431 10.86151732 10.29539991 10.21841233  9.14366914\n  8.38621914  6.58699204]\n"
    }
   ],
   "source": [
    "print(topic_model.tcs)"
   ]
  },
  {
   "cell_type": "code",
   "execution_count": 25,
   "metadata": {
    "tags": []
   },
   "outputs": [
    {
     "output_type": "stream",
     "name": "stdout",
     "text": "WARNING: Some words never appear (or always appear)\nWARNING: Anchor word not in word column labels provided to CorEx: Political Philosophy\nWARNING: Anchor word not in word column labels provided to CorEx: Political Theory\nWARNING: Anchor word not in word column labels provided to CorEx: Social Theory\nWARNING: Anchor word not in word column labels provided to CorEx: Government\nWARNING: Anchor word not in word column labels provided to CorEx: Justice\nWARNING: Anchor word not in word column labels provided to CorEx: Rights\nWARNING: Anchor word not in word column labels provided to CorEx: Civic\nWARNING: Anchor word not in word column labels provided to CorEx: Philosophy of Science\nWARNING: Anchor word not in word column labels provided to CorEx: Science\nWARNING: Anchor word not in word column labels provided to CorEx: natural philosophy\nWARNING: Anchor word not in word column labels provided to CorEx: Philosophy of Religion\nWARNING: Anchor word not in word column labels provided to CorEx: Philosophy of Mind\nWARNING: Anchor word not in word column labels provided to CorEx: Metaphysics of Mind\nWARNING: Anchor word not in word column labels provided to CorEx: Philosophy of Mathematics\nWARNING: Anchor word not in word column labels provided to CorEx: Mathematics\nWARNING: Anchor word not in word column labels provided to CorEx: set theory\nWARNING: Anchor word not in word column labels provided to CorEx: Philosophy of Law\nWARNING: Anchor word not in word column labels provided to CorEx: Philosophy of Language\nWARNING: Anchor word not in word column labels provided to CorEx: Metaphysics\nWARNING: Anchor word not in word column labels provided to CorEx: Logic\nWARNING: Anchor word not in word column labels provided to CorEx: Latin American Philosophy\nWARNING: Anchor word not in word column labels provided to CorEx: Latin America\nWARNING: Anchor word not in word column labels provided to CorEx: Iberian Peninsula\nWARNING: Anchor word not in word column labels provided to CorEx: chile\nWARNING: Anchor word not in word column labels provided to CorEx: Jewish philosophy\nWARNING: Anchor word not in word column labels provided to CorEx: Judaic Philosophy\nWARNING: Anchor word not in word column labels provided to CorEx: Hebrew Philosophy\nWARNING: Anchor word not in word column labels provided to CorEx: Japanese philosophy\nWARNING: Anchor word not in word column labels provided to CorEx: Feminist Philosophy\nWARNING: Anchor word not in word column labels provided to CorEx: Ethics\nWARNING: Anchor word not in word column labels provided to CorEx: Ethical Philosophy\nWARNING: Anchor word not in word column labels provided to CorEx: Moral Philosophy\nWARNING: Anchor word not in word column labels provided to CorEx: Morals\nWARNING: Anchor word not in word column labels provided to CorEx: Morality\nWARNING: Anchor word not in word column labels provided to CorEx: Epistemology\nWARNING: Anchor word not in word column labels provided to CorEx: Existentialism\nWARNING: Anchor word not in word column labels provided to CorEx: Phenomenolgy\nWARNING: Anchor word not in word column labels provided to CorEx: Intentionality\nWARNING: Anchor word not in word column labels provided to CorEx: Hermeneutics\nWARNING: Anchor word not in word column labels provided to CorEx: Critical Theory\nWARNING: Anchor word not in word column labels provided to CorEx: PostModernism\nWARNING: Anchor word not in word column labels provided to CorEx: Chinese Philosophy\nWARNING: Anchor word not in word column labels provided to CorEx: Chinese Medicine\nWARNING: Anchor word not in word column labels provided to CorEx: Tibet\nWARNING: Anchor word not in word column labels provided to CorEx: Arabic and Islamic\nWARNING: Anchor word not in word column labels provided to CorEx: Islamic\nWARNING: Anchor word not in word column labels provided to CorEx: Middle Eastern\nWARNING: Anchor word not in word column labels provided to CorEx: Koran\nWARNING: Anchor word not in word column labels provided to CorEx: Muslim\nWARNING: Anchor word not in word column labels provided to CorEx: Africa\nWARNING: Anchor word not in word column labels provided to CorEx: African\nWARNING: Anchor word not in word column labels provided to CorEx: Africana\nWARNING: Anchor word not in word column labels provided to CorEx: African-American\nWARNING: Anchor word not in word column labels provided to CorEx: Aesthetic\nWARNING: Anchor word not in word column labels provided to CorEx: Aesthetics\nWARNING: Anchor word not in word column labels provided to CorEx: Art\nWARNING: Anchor word not in word column labels provided to CorEx: Film\nWARNING: Anchor word not in word column labels provided to CorEx: Music\nWARNING: Anchor word not in word column labels provided to CorEx: Dance\nWARNING: Anchor word not in word column labels provided to CorEx: Theater\n"
    }
   ],
   "source": [
    "# Anchors designed to nudge the model towards measuring specific genres\n",
    "anchor_words = [\n",
    "    [\"Political Philosophy\", \"Political Theory\",  \"Social Theory\", \"Government\", \"Justice\", \"Rights\", \"Civic\"],\n",
    "    [\"Philosophy of Science\", \"Science\", \"natural philosophy\", \"scientific\"],\n",
    "    [\"Philosophy of Religion\", \"religion\", \"god\", \"faith\", \"theology\"],\n",
    "    [\"Philosophy of Mind\", \"Metaphysics of Mind\", \"mental\", \"consciousness\", \"perception\", \"cognition\", \"emotion\"],\n",
    "    [\"Philosophy of Mathematics\", \"Mathematics\", \"mathematical\", \"algebra\", \"calculus\", \"geometry\", \"probability\", \"statistics\", \"set theory\"],\n",
    "    [\"Philosophy of Law\", \"law\", \"tort\", \"legal\", \"testimony\"],\n",
    "    [\"Philosophy of Language\", \"semantics\", \"pragmatics\", \"linguistics\", \"grammar\"],\n",
    "    [\"Metaphysics\", \"causation\", \"ontology\"],\n",
    "    [\"Logic\", \"inference\", \"paradox\"],\n",
    "    [\"Latin American Philosophy\", \"Latin America\", \"Iberian Peninsula\", \"mexico\", \"chile\"],\n",
    "    [\"Jewish philosophy\", \"Judaic Philosophy\", \"Hebrew Philosophy\"],\n",
    "    [\"Japanese philosophy\"],\n",
    "    [\"Feminist Philosophy\", \"feminism\", \"feminist\"],\n",
    "    [\"Ethics\", \"Ethical Philosophy\", \"Moral Philosophy\", \"Morals\", \"Morality\"],\n",
    "    [\"Epistemology\",  \"epistemic\", \"knowledge\", \"truth\"],\n",
    "    [\"Existentialism\", \"Phenomenolgy\", \"Intentionality\", \"Hermeneutics\", \"Critical Theory\", \"PostModernism\"],\n",
    "    [\"Chinese Philosophy\", \"Chinese Medicine\", \"Tibet\"],\n",
    "    [\"Arabic and Islamic\", \"Islamic\", \"Middle Eastern\", \"Koran\", \"Muslim\"],\n",
    "    [\"Africa\", \"African\", \"Africana\", \"African-American\"],\n",
    "    [\"Aesthetic\", \"Aesthetics\", \"Art\", \"Film\", \"Music\", \"Dance\", \"Theater\"]\n",
    "]\n",
    "\n",
    "anchored_topic_model = ct.Corex(n_hidden=20, seed=2)\n",
    "anchored_topic_model.fit(doc_word, words=words, anchors=anchor_words, anchor_strength=6);\n",
    "\n"
   ]
  },
  {
   "cell_type": "code",
   "execution_count": 26,
   "metadata": {
    "tags": []
   },
   "outputs": [
    {
     "output_type": "stream",
     "name": "stdout",
     "text": "0: scientific,science,sciences,ofscience,studies,methodological,method,empiricism,history,methods\n1: god,theology,religion,faith,divine,soul,christian,theological,eternal,treatise\n2: consciousness,perception,cognition,mental,emotion,experience,experiences,sensory,conscious,feeling\n3: mathematical,calculus,algebra,probability,theorem,theorems,ldots,axioms,geometry,amp\n4: legal,law,government,public,justice,education,life,lives,civil,authority\n5: semantics,linguistics,grammar,sentence,sentences,semantic,pragmatics,quantifiers,frege,syntactic\n6: ontology,causation,ontological,objects,entities,metaphysical,entity,spatial,metaphysics,temporal\n7: inference,paradox,properties,pair,corresponding,pairs,proposed,sets,function,primitive\n8: mexico,culture,cultural,groups,organization,cultures,activities,western,development,historical\n9: feminist,feminism,political,society,rights,economic,social,institutions,politics,citizens\n10: epistemic,knowledge,truth,facts,beliefs,belief,empirical,content,conditions,objective\n11: lewis,proposition,false,intuitively,propositions,conditional,doesn,stalnaker,don,entailment\n12: normative,decisions,agents,decision,circumstances,choose,better,standards,justified,preferences\n13: published,wrote,writings,university,died,born,intellectual,remained,school,books\n14: worry,typically,relevant,challenge,argue,count,theorists,appeal,counts,responses\n15: experimental,statistical,scientists,models,processes,experiments,evolution,research,researchers,biology\n16: plausible,objection,suppose,deny,accept,think,objections,believe,reject,grounds\n17: say,saying,let,argument,says,follows,thatthere,ordinary,thereis,actually\n18: moral,morally,harm,goods,morality,persons,welfare,people,person,benefits\n19: primary,body,regard,understanding,central,great,subject,limited,forms,ability\n"
    }
   ],
   "source": [
    "# Print all topics from the CorEx topic model\n",
    "anchored_topics = anchored_topic_model.get_topics()\n",
    "for n,anchored_topic in enumerate(anchored_topics):\n",
    "    topic_words,_ = zip(*anchored_topic)\n",
    "    print('{}: '.format(n) + ','.join(topic_words))"
   ]
  },
  {
   "cell_type": "code",
   "execution_count": 28,
   "metadata": {
    "tags": []
   },
   "outputs": [
    {
     "output_type": "error",
     "ename": "AttributeError",
     "evalue": "'list' object has no attribute 'get_top_docs'",
     "traceback": [
      "\u001b[1;31m---------------------------------------------------------------------------\u001b[0m",
      "\u001b[1;31mAttributeError\u001b[0m                            Traceback (most recent call last)",
      "\u001b[1;32m<ipython-input-28-2f40a110e371>\u001b[0m in \u001b[0;36m<module>\u001b[1;34m\u001b[0m\n\u001b[1;32m----> 1\u001b[1;33m \u001b[0manchored_topics\u001b[0m\u001b[1;33m.\u001b[0m\u001b[0mget_top_docs\u001b[0m\u001b[1;33m(\u001b[0m\u001b[0mtopic\u001b[0m\u001b[1;33m=\u001b[0m\u001b[1;36m0\u001b[0m\u001b[1;33m,\u001b[0m \u001b[0mn_docs\u001b[0m\u001b[1;33m=\u001b[0m\u001b[1;36m20\u001b[0m\u001b[1;33m,\u001b[0m \u001b[0msort_by\u001b[0m\u001b[1;33m=\u001b[0m\u001b[1;34m'log_prob'\u001b[0m\u001b[1;33m)\u001b[0m\u001b[1;33m\u001b[0m\u001b[1;33m\u001b[0m\u001b[0m\n\u001b[0m",
      "\u001b[1;31mAttributeError\u001b[0m: 'list' object has no attribute 'get_top_docs'"
     ]
    }
   ],
   "source": [
    "anchored_topics.get_top_docs(topic=0, n_docs=20, sort_by='log_prob')"
   ]
  },
  {
   "cell_type": "code",
   "execution_count": null,
   "metadata": {},
   "outputs": [],
   "source": []
  }
 ],
 "metadata": {
  "language_info": {
   "codemirror_mode": {
    "name": "ipython",
    "version": 3
   },
   "file_extension": ".py",
   "mimetype": "text/x-python",
   "name": "python",
   "nbconvert_exporter": "python",
   "pygments_lexer": "ipython3",
   "version": 3
  },
  "orig_nbformat": 2,
  "kernelspec": {
   "name": "python_defaultSpec_1595115814719",
   "display_name": "Python 3.6.9 64-bit ('PythonData': conda)"
  }
 },
 "nbformat": 4,
 "nbformat_minor": 2
}