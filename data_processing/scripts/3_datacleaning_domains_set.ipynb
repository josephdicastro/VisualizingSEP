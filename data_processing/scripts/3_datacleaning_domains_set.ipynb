{
 "metadata": {
  "language_info": {
   "codemirror_mode": {
    "name": "ipython",
    "version": 3
   },
   "file_extension": ".py",
   "mimetype": "text/x-python",
   "name": "python",
   "nbconvert_exporter": "python",
   "pygments_lexer": "ipython3",
   "version": "3.6.9-final"
  },
  "orig_nbformat": 2,
  "kernelspec": {
   "name": "Python 3.6.9 64-bit ('PythonData': conda)",
   "display_name": "Python 3.6.9 64-bit ('PythonData': conda)",
   "metadata": {
    "interpreter": {
     "hash": "4089cdf5756c583c1eb5e2261855f70ecb5f18d1bb6db32aef7ba0d4704c2ea0"
    }
   }
  }
 },
 "nbformat": 4,
 "nbformat_minor": 2,
 "cells": [
  {
   "cell_type": "code",
   "execution_count": 1,
   "metadata": {},
   "outputs": [],
   "source": [
    "import time\n",
    "import pymongo\n",
    "import re\n",
    "import json\n",
    "import requests\n",
    "import pandas as pd\n",
    "\n",
    "from tqdm import tqdm\n",
    "from pprint import pprint\n",
    "from pathlib import Path\n",
    "from bs4 import BeautifulSoup\n",
    "\n",
    "#import local libraries\n",
    "import lib_sepinpho as sep\n",
    "import lib_fileops as io\n",
    "\n",
    "##### INIT GLOBAL VARIABLES#####\n",
    "\n",
    "#init Mongo\n",
    "conn = 'mongodb://localhost:27017'\n",
    "client = pymongo.MongoClient(conn)\n",
    "\n",
    "#connect to database\n",
    "db = client.visualizing_sep"
   ]
  },
  {
   "cell_type": "code",
   "execution_count": null,
   "metadata": {},
   "outputs": [],
   "source": [
    "#export list of all articles with domain_tags and primary_domain\n",
    "\n",
    "collection_to_update = db.sep_entries\n",
    "all_domains = pd.DataFrame(collection_to_update.find({},\n",
    "                                              {'title':1, 'page_url', 'author': 1, 'primary_domain':1, 'domain_tags':1}))\n",
    "all_domains.to_csv('domains.csv')"
   ]
  },
  {
   "cell_type": "code",
   "execution_count": null,
   "metadata": {},
   "outputs": [],
   "source": [
    "#import updated domain data\n",
    "\n",
    "collection_to_update = db.sep_entries\n",
    "\n",
    "\n",
    "updated_domains = pd.read_csv('domains.csv')\n",
    "\n",
    "for index,row in tqdm(updated_domains.iterrows()):\n",
    "    title = row['title']\n",
    "    domain_tags = row['domain_tags']\n",
    "    primary_domain = row['primary_domain']\n",
    "    # update function to include page_url\n",
    "    sep.update_domain_info(title,domain_tags, primary_domain, collection_to_update)"
   ]
  },
  {
   "cell_type": "code",
   "execution_count": 49,
   "metadata": {},
   "outputs": [
    {
     "output_type": "execute_result",
     "data": {
      "text/plain": "[&#39;Aesthetics and Philosophy of Art&#39;,\n &#39;African and African-American Philosophy&#39;,\n &#39;Arabic and Islamic Philosophy&#39;,\n &#39;Chinese Philosophy&#39;,\n &#39;Continental Philosophy&#39;,\n &#39;Epistemology&#39;,\n &#39;Ethics&#39;,\n &#39;Feminist Philosophy&#39;,\n &#39;Indian Philosophy&#39;,\n &#39;Japanese Philosophy&#39;,\n &#39;Latin American Philosophy&#39;,\n &#39;Logic&#39;,\n &#39;Metaphysics&#39;,\n &#39;Philosophy of Biology&#39;,\n &#39;Philosophy of Computer Science&#39;,\n &#39;Philosophy of Economics&#39;,\n &#39;Philosophy of Language&#39;,\n &#39;Philosophy of Law&#39;,\n &#39;Philosophy of Mathematics&#39;,\n &#39;Philosophy of Mind&#39;,\n &#39;Philosophy of Physics&#39;,\n &#39;Philosophy of Religion&#39;,\n &#39;Philosophy of Science&#39;,\n &#39;Social and Political Philosophy&#39;,\n &#39;Thinker&#39;]"
     },
     "metadata": {},
     "execution_count": 49
    }
   ],
   "source": [
    "#get distinct list of primary_domains\n",
    "db.sep_entries.distinct('primary_domain')"
   ]
  },
  {
   "cell_type": "code",
   "execution_count": 43,
   "metadata": {
    "tags": []
   },
   "outputs": [
    {
     "output_type": "stream",
     "name": "stdout",
     "text": "[&#39;Aesthetics and Philosophy of Art&#39;,\n &#39;African and African-American Philosophy&#39;,\n &#39;Arabic and Islamic Philosophy&#39;,\n &#39;Chinese Philosophy&#39;,\n &#39;Continental Philosophy&#39;,\n &#39;Epistemology&#39;,\n &#39;Ethics&#39;,\n &#39;Feminist Philosophy&#39;,\n &#39;Indian Philosophy&#39;,\n &#39;Japanese Philosophy&#39;,\n &#39;Latin American and Iberian Philosophy&#39;,\n &#39;Logic&#39;,\n &#39;Metaphysics&#39;,\n &#39;Philosophy of Biology&#39;,\n &#39;Philosophy of Computer Science&#39;,\n &#39;Philosophy of Economics&#39;,\n &#39;Philosophy of Language&#39;,\n &#39;Philosophy of Law&#39;,\n &#39;Philosophy of Mathematics&#39;,\n &#39;Philosophy of Mind&#39;,\n &#39;Philosophy of Physics&#39;,\n &#39;Philosophy of Religion&#39;,\n &#39;Philosophy of Science&#39;,\n &#39;Social and Political Philosophy&#39;,\n &#39;Thinker&#39;]\n"
    }
   ],
   "source": [
    "#extract unique list of domain tags\n",
    "domain_tags = list(db.sep_entries.find( filter={},\n",
    "                                     projection={'domain_tags':1, '_id':0}))\n",
    "domain_tags_individual = []\n",
    "\n",
    "for tag in domain_tags:\n",
    "    semisplit_tags = tag['domain_tags'].split(';')\n",
    "    for semisplit_tag in semisplit_tags:\n",
    "        commasplit_tags = semisplit_tag.split(',')\n",
    "        for commasplit_tag in commasplit_tags:\n",
    "            if commasplit_tag != '':\n",
    "                domain_tags_individual.append(commasplit_tag.strip())\n",
    "\n",
    "individual_tags = sorted(set(domain_tags_individual))\n",
    "pprint(individual_tags)"
   ]
  },
  {
   "cell_type": "code",
   "execution_count": 48,
   "metadata": {
    "tags": []
   },
   "outputs": [
    {
     "output_type": "stream",
     "name": "stdout",
     "text": "Latin American Philosophy\nLatin American Philosophy\nLatin American Philosophy\nLatin American Philosophy\nLatin American Philosophy\nLatin American Philosophy\nLatin American Philosophy\nLatin American Philosophy\nLatin American Philosophy\n[]\n"
    }
   ],
   "source": [
    "#update db with new domain names\n",
    "collection_to_update = db.sep_entries\n",
    "\n",
    "search_filter = 'Latin American Philosophy'\n",
    "replace_with = 'Latin American and Iberian Philosophy'\n",
    "\n",
    "results = list(collection_to_update.find({'primary_domain': re.compile(search_filter)}, \n",
    "                                         {'page_url': 1, 'title':1, 'primary_domain':1}))\n",
    "\n",
    "for result in results:\n",
    "    print(result['primary_domain'])\n",
    "    new_domain_tags = result['primary_domain'].replace(search_filter, replace_with)\n",
    "# # # # #     # print(new_domain_tags)\n",
    "    collection_to_update.update_one({'page_url': result['page_url']}, { '$set': {'domain_tags': new_domain_tags}})\n",
    "\n",
    "new_results = list(collection_to_update.find({'domain_tags': re.compile(search_filter)}, \n",
    "                                         {'page_url': 1, 'title':1, 'domain_tags':1}))\n",
    "pprint(new_results)"
   ]
  },
  {
   "cell_type": "code",
   "execution_count": null,
   "metadata": {},
   "outputs": [],
   "source": [
    "# create text search on preamble_text and main_text\n",
    "# completed 10.1.2020\n",
    "\n",
    "collection_to_update = db.sep_entries\n",
    "\n",
    "collection_to_update.create_index([('preamble_text','text'), ('main_text','text')], name='preamble_textindex')\n",
    "collection_to_update.index_information()"
   ]
  },
  {
   "cell_type": "code",
   "execution_count": null,
   "metadata": {},
   "outputs": [],
   "source": [
    "#Prior Updates\n",
    "# African American Philosophy: Completed 10.2.2020\n",
    "# text_filter = 'African African-American'\n",
    "# sep_filter = 'African and African-American Philosophy'\n",
    "#########################################################"
   ]
  },
  {
   "cell_type": "code",
   "execution_count": 52,
   "metadata": {},
   "outputs": [],
   "source": [
    "#generate dataframes of new search and current db designations, and then export them to csv for content updates\n",
    "\n",
    "collection_to_update = db.sep_entries\n",
    "\n",
    "text_filter = 'Existentialism Phenomenology Hermeneutics Intentionality Postmodernism Post-Modernism Post-Structuralism'\n",
    "sep_filter = 'Continental Philosophy'\n",
    "\n",
    "text_results = pd.DataFrame(collection_to_update.find(\n",
    "                                         {'$text':{'$search': text_filter }},\n",
    "                                         {'score': { '$meta': 'textScore'}, \n",
    "                                            'title':1, \n",
    "                                            'page_url':1,\n",
    "                                            'primary_domain':1, \n",
    "                                            'domain_tags':1}\n",
    "                                         ))\n",
    "text_results_above1 = text_results[text_results.score > 1]\n",
    "\n",
    "text_results_above1.to_csv('continental.csv')\n",
    "\n",
    "sep_results = pd.DataFrame(collection_to_update.find({ 'domain_tags': { '$regex': sep_filter } },\n",
    "                                              {'title':1, 'primary_domain':1, 'domain_tags':1}))\n",
    "\n",
    "sep_results.to_csv('continental_sep.csv')"
   ]
  },
  {
   "cell_type": "code",
   "execution_count": 55,
   "metadata": {
    "tags": []
   },
   "outputs": [
    {
     "output_type": "stream",
     "name": "stderr",
     "text": "29it [00:00, 279.47it/s]acknowledged: /entries/merleau-ponty/\n True\n[{&#39;_id&#39;: ObjectId(&#39;5f1bb5bd896f82cdbda612bd&#39;), &#39;title&#39;: &#39;Maurice Merleau-Ponty&#39;, &#39;domain_tags&#39;: &#39;Thinker,Continental Philosophy&#39;, &#39;primary_domain&#39;: &#39;Thinker&#39;}]\nacknowledged: /entries/existentialism/\n True\n[{&#39;_id&#39;: ObjectId(&#39;5f1bb2ad896f82cdbda610bb&#39;), &#39;title&#39;: &#39;Existentialism&#39;, &#39;domain_tags&#39;: &#39;Continental Philosophy&#39;, &#39;primary_domain&#39;: &#39;Continental Philosophy&#39;}]\nacknowledged: /entries/heidegger-aesthetics/\n True\n[{&#39;_id&#39;: ObjectId(&#39;5f1bb3a6896f82cdbda61152&#39;), &#39;title&#39;: &#39;Heidegger’s Aesthetics&#39;, &#39;domain_tags&#39;: &#39;Thinker,Aesthetics and Philosophy of Art,Continental Philosophy&#39;, &#39;primary_domain&#39;: &#39;Thinker&#39;}]\nacknowledged: /entries/femapproach-continental/\n True\n[{&#39;_id&#39;: ObjectId(&#39;5f1bb2c5896f82cdbda610c9&#39;), &#39;title&#39;: &#39;Continental Feminism&#39;, &#39;domain_tags&#39;: &#39;Feminist Philosophy,Continental Philosophy&#39;, &#39;primary_domain&#39;: &#39;Feminist Philosophy&#39;}]\nacknowledged: /entries/phenomenology/\n True\n[{&#39;_id&#39;: ObjectId(&#39;5f1bb6e9896f82cdbda61368&#39;), &#39;title&#39;: &#39;Phenomenology&#39;, &#39;domain_tags&#39;: &#39;Epistemology,Continental Philosophy&#39;, &#39;primary_domain&#39;: &#39;Continental Philosophy&#39;}]\nacknowledged: /entries/postmodernism/\n True\n[{&#39;_id&#39;: ObjectId(&#39;5f1bb74a896f82cdbda613a0&#39;), &#39;title&#39;: &#39;Postmodernism&#39;, &#39;domain_tags&#39;: &#39;Social and Political Philosophy,Continental Philosophy&#39;, &#39;primary_domain&#39;: &#39;Continental Philosophy&#39;}]\nacknowledged: /entries/levinas/\n True\n[{&#39;_id&#39;: ObjectId(&#39;5f1bb4ec896f82cdbda6122a&#39;), &#39;title&#39;: &#39;Emmanuel Levinas&#39;, &#39;domain_tags&#39;: &#39;Thinker,Continental Philosophy&#39;, &#39;primary_domain&#39;: &#39;Thinker&#39;}]\nacknowledged: /entries/heidegger/\n True\n[{&#39;_id&#39;: ObjectId(&#39;5f1bb3a7896f82cdbda61153&#39;), &#39;title&#39;: &#39;Martin Heidegger&#39;, &#39;domain_tags&#39;: &#39;Thinker,Continental Philosophy&#39;, &#39;primary_domain&#39;: &#39;Thinker&#39;}]\nacknowledged: /entries/history/\n True\n[{&#39;_id&#39;: ObjectId(&#39;5f1bb3c9896f82cdbda61162&#39;), &#39;title&#39;: &#39;Philosophy of History&#39;, &#39;domain_tags&#39;: &#39;Social and Political Philosophy,Continental Philosophy&#39;, &#39;primary_domain&#39;: &#39;Social and Political Philosophy&#39;}]\nacknowledged: /entries/ricoeur/\n True\n[{&#39;_id&#39;: ObjectId(&#39;5f1bb847896f82cdbda6142c&#39;), &#39;title&#39;: &#39;Paul Ricoeur&#39;, &#39;domain_tags&#39;: &#39;Thinker,Continental Philosophy&#39;, &#39;primary_domain&#39;: &#39;Thinker&#39;}]\nacknowledged: /entries/lyotard/\n True\n[{&#39;_id&#39;: ObjectId(&#39;5f1bb570896f82cdbda61280&#39;), &#39;title&#39;: &#39;Jean François Lyotard&#39;, &#39;domain_tags&#39;: &#39;Thinker,Social and Political Philosophy,Continental Philosophy&#39;, &#39;primary_domain&#39;: &#39;Thinker&#39;}]\nacknowledged: /entries/femapproach-prag-cont/\n True\n[{&#39;_id&#39;: ObjectId(&#39;5f1bb2c6896f82cdbda610ca&#39;), &#39;title&#39;: &#39;Intersections Between Pragmatist and Continental Feminism&#39;, &#39;domain_tags&#39;: &#39;Feminist Philosophy,Continental Philosophy&#39;, &#39;primary_domain&#39;: &#39;Feminist Philosophy&#39;}]\nacknowledged: /entries/sartre/\n True\n[{&#39;_id&#39;: ObjectId(&#39;5f1bb86e896f82cdbda61444&#39;), &#39;title&#39;: &#39;Jean-Paul Sartre&#39;, &#39;domain_tags&#39;: &#39;Thinker,Continental Philosophy&#39;, &#39;primary_domain&#39;: &#39;Thinker&#39;}]\nacknowledged: /entries/gadamer-aesthetics/\n True\n[{&#39;_id&#39;: ObjectId(&#39;5f1bb344896f82cdbda61119&#39;), &#39;title&#39;: &#39;Gadamer’s Aesthetics&#39;, &#39;domain_tags&#39;: &#39;Thinker,Aesthetics and Philosophy of Art,Continental Philosophy&#39;, &#39;primary_domain&#39;: &#39;Thinker&#39;}]\nacknowledged: /entries/hegel/\n True\n[{&#39;_id&#39;: ObjectId(&#39;5f1bb3a4896f82cdbda61151&#39;), &#39;title&#39;: &#39;Georg Wilhelm Friedrich Hegel&#39;, &#39;domain_tags&#39;: &#39;Thinker,Continental Philosophy&#39;, &#39;primary_domain&#39;: &#39;Thinker&#39;}]\nacknowledged: /entries/camus/\n True\n[{&#39;_id&#39;: ObjectId(&#39;5f1bb05e896f82cdbda60f7d&#39;), &#39;title&#39;: &#39;Albert Camus&#39;, &#39;domain_tags&#39;: &#39;Thinker,Continental Philosophy,Continental Philosophy&#39;, &#39;primary_domain&#39;: &#39;Thinker&#39;}]\nacknowledged: /entries/gasset/\n True\n[{&#39;_id&#39;: ObjectId(&#39;5f1bb356896f82cdbda61123&#39;), &#39;title&#39;: &#39;José Ortega y Gasset&#39;, &#39;domain_tags&#39;: &#39;Thinker,Social and Political Philosophy,Continental Philosophy&#39;, &#39;primary_domain&#39;: &#39;Thinker&#39;}]\nacknowledged: /entries/critical-theory/\n True\n[{&#39;_id&#39;: ObjectId(&#39;5f1bb163896f82cdbda6100b&#39;), &#39;title&#39;: &#39;Critical Theory&#39;, &#39;domain_tags&#39;: &#39;Social and Political Philosophy,Continental Philosophy&#39;, &#39;primary_domain&#39;: &#39;Continental Philosophy&#39;}]\nacknowledged: /entries/aesthetics-existentialist/\n True\n[{&#39;_id&#39;: ObjectId(&#39;5f1baf32896f82cdbda60ed6&#39;), &#39;title&#39;: &#39;Existentialist Aesthetics&#39;, &#39;domain_tags&#39;: &#39;Continental Philosophy,Aesthetics and Philosophy of Art&#39;, &#39;primary_domain&#39;: &#39;Continental Philosophy&#39;}]\nacknowledged: /entries/ethics-it-phenomenology/\n True\n[{&#39;_id&#39;: ObjectId(&#39;5f1bb28d896f82cdbda610a9&#39;), &#39;title&#39;: &#39;Phenomenological Approaches to Ethics and Information Technology&#39;, &#39;domain_tags&#39;: &#39;Epistemology,Ethics,Continental Philosophy&#39;, &#39;primary_domain&#39;: &#39;Continental Philosophy&#39;}]\nacknowledged: /entries/benjamin/\n True\n[{&#39;_id&#39;: ObjectId(&#39;5f1baffe896f82cdbda60f4d&#39;), &#39;title&#39;: &#39;Walter Benjamin&#39;, &#39;domain_tags&#39;: &#39;Thinker,Continental Philosophy&#39;, &#39;primary_domain&#39;: &#39;Thinker&#39;}]\nacknowledged: /entries/jaspers/\n True\n[{&#39;_id&#39;: ObjectId(&#39;5f1bb464896f82cdbda611c4&#39;), &#39;title&#39;: &#39;Karl Jaspers&#39;, &#39;domain_tags&#39;: &#39;Thinker,Continental Philosophy,Continental Philosophy&#39;, &#39;primary_domain&#39;: &#39;Thinker&#39;}]\nacknowledged: /entries/foucault/\n True\n[{&#39;_id&#39;: ObjectId(&#39;5f1bb322896f82cdbda61103&#39;), &#39;title&#39;: &#39;Michel Foucault&#39;, &#39;domain_tags&#39;: &#39;Thinker,Social and Political Philosophy,Continental Philosophy&#39;, &#39;primary_domain&#39;: &#39;Thinker&#39;}]\nacknowledged: /entries/baudrillard/\n True\n[{&#39;_id&#39;: ObjectId(&#39;5f1bafea896f82cdbda60f42&#39;), &#39;title&#39;: &#39;Jean Baudrillard&#39;, &#39;domain_tags&#39;: &#39;Thinker,Social and Political Philosophy,Continental Philosophy&#39;, &#39;primary_domain&#39;: &#39;Thinker&#39;}]\nacknowledged: /entries/stein/\n True\n[{&#39;_id&#39;: ObjectId(&#39;5f1bb92d896f82cdbda614ba&#39;), &#39;title&#39;: &#39;Edith Stein&#39;, &#39;domain_tags&#39;: &#39;Thinker,Continental Philosophy&#39;, &#39;primary_domain&#39;: &#39;Thinker&#39;}]\nacknowledged: /entries/beauvoir/\n True\n[{&#39;_id&#39;: ObjectId(&#39;5f1baff4896f82cdbda60f48&#39;), &#39;title&#39;: &#39;Simone de Beauvoir&#39;, &#39;domain_tags&#39;: &#39;Thinker,Continental Philosophy,Feminist Philosophy&#39;, &#39;primary_domain&#39;: &#39;Thinker&#39;}]\nacknowledged: /entries/buber/\n True\n[{&#39;_id&#39;: ObjectId(&#39;5f1bb045896f82cdbda60f70&#39;), &#39;title&#39;: &#39;Martin Buber&#39;, &#39;domain_tags&#39;: &#39;Thinker,Philosophy of Religion,Ethics,Continental Philosophy&#39;, &#39;primary_domain&#39;: &#39;Thinker&#39;}]\nacknowledged: /entries/intentionality/\n True\n[{&#39;_id&#39;: ObjectId(&#39;5f1bb448896f82cdbda611b0&#39;), &#39;title&#39;: &#39;Intentionality&#39;, &#39;domain_tags&#39;: &#39;Philosophy of Mind,Continental Philosophy&#39;, &#39;primary_domain&#39;: &#39;Philosophy of Mind&#39;}]\nacknowledged: /entries/michel-henry/\n True\n[{&#39;_id&#39;: ObjectId(&#39;5f1bb5c6896f82cdbda612c4&#39;), &#39;title&#39;: &#39;Michel Henry&#39;, &#39;domain_tags&#39;: &#39;Thinker,Continental Philosophy&#39;, &#39;primary_domain&#39;: &#39;Thinker&#39;}]\nacknowledged: /entries/kierkegaard/\n True\n[{&#39;_id&#39;: ObjectId(&#39;5f1bb4a1896f82cdbda611f2&#39;), &#39;title&#39;: &#39;Søren Kierkegaard&#39;, &#39;domain_tags&#39;: &#39;Thinker,Continental Philosophy&#39;, &#39;primary_domain&#39;: &#39;Thinker&#39;}]\nacknowledged: /entries/gadamer/\n True\n[{&#39;_id&#39;: ObjectId(&#39;5f1bb346896f82cdbda6111a&#39;), &#39;title&#39;: &#39;Hans-Georg Gadamer&#39;, &#39;domain_tags&#39;: &#39;Thinker,Continental Philosophy&#39;, &#39;primary_domain&#39;: &#39;Thinker&#39;}]\nacknowledged: /entries/authenticity/\n True\n[{&#39;_id&#39;: ObjectId(&#39;5f1bafdc896f82cdbda60f3a&#39;), &#39;title&#39;: &#39;Authenticity&#39;, &#39;domain_tags&#39;: &#39;Continental Philosophy&#39;, &#39;primary_domain&#39;: &#39;Continental Philosophy&#39;}]\nacknowledged: /entries/consciousness-intentionality/\n True\n[{&#39;_id&#39;: ObjectId(&#39;5f1bb112896f82cdbda60fdf&#39;), &#39;title&#39;: &#39;Consciousness and Intentionality&#39;, &#39;domain_tags&#39;: &#39;Philosophy of Mind,Continental Philosophy&#39;, &#39;primary_domain&#39;: &#39;Philosophy of Mind&#39;}]\nacknowledged: /entries/lukacs/\n True\n[{&#39;_id&#39;: ObjectId(&#39;5f1bb56b896f82cdbda6127c&#39;), &#39;title&#39;: &#39;Georg [György] Lukács&#39;, &#39;domain_tags&#39;: &#39;Thinker,Continental Philosophy&#39;, &#39;primary_domain&#39;: &#39;Thinker&#39;}]\nacknowledged: /entries/hermeneutics/\n True\n[{&#39;_id&#39;: ObjectId(&#39;5f1bb3bd896f82cdbda6115e&#39;), &#39;title&#39;: &#39;Hermeneutics&#39;, &#39;domain_tags&#39;: &#39;Epistemology,Continental Philosophy&#39;, &#39;primary_domain&#39;: &#39;Continental Philosophy&#39;}]\nacknowledged: /entries/phenomenology-mg/\n True\n[{&#39;_id&#39;: ObjectId(&#39;5f1bb6e5896f82cdbda61366&#39;), &#39;title&#39;: &#39;The Phenomenology of the Munich and Göttingen Circles&#39;, &#39;domain_tags&#39;: &#39;Epistemology,Continental Philosophy&#39;, &#39;primary_domain&#39;: &#39;Continental Philosophy&#39;}]\nacknowledged: /entries/marcel/\n True\n[{&#39;_id&#39;: ObjectId(&#39;5f1bb57e896f82cdbda6128c&#39;), &#39;title&#39;: &#39;Gabriel (-Honoré) Marcel&#39;, &#39;domain_tags&#39;: &#39;Thinker,Continental Philosophy&#39;, &#39;primary_domain&#39;: &#39;Thinker&#39;}]\nacknowledged: /entries/adorno/\n True\n[{&#39;_id&#39;: ObjectId(&#39;5f1baf26896f82cdbda60ece&#39;), &#39;title&#39;: &#39;Theodor W. Adorno&#39;, &#39;domain_tags&#39;: &#39;Thinker,Continental Philosophy&#39;, &#39;primary_domain&#39;: &#39;Thinker&#39;}]\nacknowledged: /entries/collective-intentionality/\n True\n[{&#39;_id&#39;: ObjectId(&#39;5f1bb0c3896f82cdbda60fb7&#39;), &#39;title&#39;: &#39;Collective Intentionality&#39;, &#39;domain_tags&#39;: &#39;Philosophy of Mind,Continental Philosophy&#39;, &#39;primary_domain&#39;: &#39;Philosophy of Mind&#39;}]\nacknowledged: /entries/simone-weil/\n True\n[{&#39;_id&#39;: ObjectId(&#39;5f1bb8cf896f82cdbda61480&#39;), &#39;title&#39;: &#39;Simone Weil&#39;, &#39;domain_tags&#39;: &#39;Thinker,Continental Philosophy&#39;, &#39;primary_domain&#39;: &#39;Thinker&#39;}]\nacknowledged: /entries/althusser/\n True\n[{&#39;_id&#39;: ObjectId(&#39;5f1baf5e896f82cdbda60ef2&#39;), &#39;title&#39;: &#39;Louis Althusser&#39;, &#39;domain_tags&#39;: &#39;Thinker,Social and Political Philosophy,Continental Philosophy&#39;, &#39;primary_domain&#39;: &#39;Thinker&#39;}]\nacknowledged: /entries/phenomenal-intentionality/\n True\n[{&#39;_id&#39;: ObjectId(&#39;5f1bb6e4896f82cdbda61365&#39;), &#39;title&#39;: &#39;Phenomenal Intentionality&#39;, &#39;domain_tags&#39;: &#39;Epistemology,Continental Philosophy&#39;, &#39;primary_domain&#39;: &#39;Continental Philosophy&#39;}]\nacknowledged: /entries/rorty/\n True\n[{&#39;_id&#39;: ObjectId(&#39;5f1bb856896f82cdbda61435&#39;), &#39;title&#39;: &#39;Richard Rorty&#39;, &#39;domain_tags&#39;: &#39;Thinker,Continental Philosophy&#39;, &#39;primary_domain&#39;: &#39;Thinker&#39;}]\nacknowledged: /entries/nietzsche/\n True\n[{&#39;_id&#39;: ObjectId(&#39;5f1bb653896f82cdbda6131c&#39;), &#39;title&#39;: &#39;Friedrich Nietzsche&#39;, &#39;domain_tags&#39;: &#39;Thinker,Continental Philosophy&#39;, &#39;primary_domain&#39;: &#39;Thinker&#39;}]\nacknowledged: /entries/arendt/\n True\n[{&#39;_id&#39;: ObjectId(&#39;5f1baf9e896f82cdbda60f18&#39;), &#39;title&#39;: &#39;Hannah Arendt&#39;, &#39;domain_tags&#39;: &#39;Thinker,Social and Political Philosophy,Continental Philosophy&#39;, &#39;primary_domain&#39;: &#39;Thinker&#39;}]\nacknowledged: /entries/brentano/\n True\n[{&#39;_id&#39;: ObjectId(&#39;5f1bb036896f82cdbda60f6c&#39;), &#39;title&#39;: &#39;Franz Brentano&#39;, &#39;domain_tags&#39;: &#39;Thinker,Philosophy of Mind,Continental Philosophy&#39;, &#39;primary_domain&#39;: &#39;Thinker&#39;}]\nacknowledged: /entries/habermas/\n True\n[{&#39;_id&#39;: ObjectId(&#39;5f1bb38c896f82cdbda61143&#39;), &#39;title&#39;: &#39;Jürgen Habermas&#39;, &#39;domain_tags&#39;: &#39;Thinker,Social and Political Philosophy,Continental Philosophy&#39;, &#39;primary_domain&#39;: &#39;Thinker&#39;}]\nacknowledged: /entries/neurath/\n True\n[{&#39;_id&#39;: ObjectId(&#39;5f1bb643896f82cdbda61310&#39;), &#39;title&#39;: &#39;Otto Neurath&#39;, &#39;domain_tags&#39;: &#39;Thinker,Continental Philosophy&#39;, &#39;primary_domain&#39;: &#39;Thinker&#39;}]\nacknowledged: /entries/husserl/\n True\n[{&#39;_id&#39;: ObjectId(&#39;5f1bb3ed896f82cdbda61176&#39;), &#39;title&#39;: &#39;Edmund Husserl&#39;, &#39;domain_tags&#39;: &#39;Thinker,Continental Philosophy&#39;, &#39;primary_domain&#39;: &#39;Thinker&#39;}]\nacknowledged: /entries/nietzsche-moral-political/\n True\n[{&#39;_id&#39;: ObjectId(&#39;5f1bb651896f82cdbda6131b&#39;), &#39;title&#39;: &#39;Nietzsche’s Moral and Political Philosophy&#39;, &#39;domain_tags&#39;: &#39;Thinker,Social and Political Philosophy,Continental Philosophy&#39;, &#39;primary_domain&#39;: &#39;Thinker&#39;}]\n58it [00:00, 266.73it/s]acknowledged: /entries/feyerabend/\n True\n[{&#39;_id&#39;: ObjectId(&#39;5f1bb2fc896f82cdbda610ec&#39;), &#39;title&#39;: &#39;Paul Feyerabend&#39;, &#39;domain_tags&#39;: &#39;Thinker,Continental Philosophy&#39;, &#39;primary_domain&#39;: &#39;Thinker&#39;}]\nacknowledged: /entries/lacan/\n True\n[{&#39;_id&#39;: ObjectId(&#39;5f1bb4ae896f82cdbda611fe&#39;), &#39;title&#39;: &#39;Jacques Lacan&#39;, &#39;domain_tags&#39;: &#39;Thinker,Continental Philosophy&#39;, &#39;primary_domain&#39;: &#39;Thinker&#39;}]\nacknowledged: /entries/introspection/\n True\n[{&#39;_id&#39;: ObjectId(&#39;5f1bb44d896f82cdbda611b3&#39;), &#39;title&#39;: &#39;Introspection&#39;, &#39;domain_tags&#39;: &#39;Philosophy of Mind&#39;, &#39;primary_domain&#39;: &#39;Philosophy of Mind&#39;}]\nacknowledged: /entries/marcuse/\n True\n[{&#39;_id&#39;: ObjectId(&#39;5f1bb580896f82cdbda6128e&#39;), &#39;title&#39;: &#39;Herbert Marcuse&#39;, &#39;domain_tags&#39;: &#39;Thinker,Continental Philosophy&#39;, &#39;primary_domain&#39;: &#39;Thinker&#39;}]\nacknowledged: /entries/deleuze/\n True\n[{&#39;_id&#39;: ObjectId(&#39;5f1bb198896f82cdbda61022&#39;), &#39;title&#39;: &#39;Gilles Deleuze&#39;, &#39;domain_tags&#39;: &#39;Thinker,Continental Philosophy&#39;, &#39;primary_domain&#39;: &#39;Thinker&#39;}]\nacknowledged: /entries/femapproach-analy-cont/\n True\n[{&#39;_id&#39;: ObjectId(&#39;5f1bb2c2896f82cdbda610c7&#39;), &#39;title&#39;: &#39;Intersections Between Analytic and Continental Feminism&#39;, &#39;domain_tags&#39;: &#39;Feminist Philosophy,Continental Philosophy&#39;, &#39;primary_domain&#39;: &#39;Feminist Philosophy&#39;}]\nacknowledged: /entries/brentano-judgement/\n True\n[{&#39;_id&#39;: ObjectId(&#39;5f1bb034896f82cdbda60f6b&#39;), &#39;title&#39;: &#39;Brentano’s Theory of Judgement&#39;, &#39;domain_tags&#39;: &#39;Thinker,Philosophy of Mind,Continental Philosophy&#39;, &#39;primary_domain&#39;: &#39;Thinker&#39;}]\nacknowledged: /entries/bergson/\n True\n[{&#39;_id&#39;: ObjectId(&#39;5f1bb004896f82cdbda60f4f&#39;), &#39;title&#39;: &#39;Henri Bergson&#39;, &#39;domain_tags&#39;: &#39;Thinker,Continental Philosophy&#39;, &#39;primary_domain&#39;: &#39;Thinker&#39;}]\n\n"
    }
   ],
   "source": [
    "#update domains from csv \n",
    "collection_to_update = db.sep_entries\n",
    "domains_to_update = pd.read_csv('continental.csv')\n",
    "\n",
    "for index,row in tqdm(domains_to_update.iterrows()):\n",
    "    title = row['title']\n",
    "    domain_tags = row['domain_tags']\n",
    "    primary_domain = row['primary_domain']\n",
    "    page_url = row['page_url']\n",
    "\n",
    "    sep.update_domain_info(page_url,domain_tags, primary_domain, collection_to_update)"
   ]
  },
  {
   "cell_type": "code",
   "execution_count": null,
   "metadata": {},
   "outputs": [],
   "source": []
  }
 ]
}