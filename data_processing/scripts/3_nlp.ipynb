{
 "cells": [
  {
   "cell_type": "code",
   "execution_count": 1,
   "metadata": {},
   "outputs": [],
   "source": [
    "import pandas as pd \n",
    "import pymongo\n",
    "from pprint import pprint\n",
    "\n",
    "import numpy as np\n",
    "import scipy.sparse as ss\n",
    "import matplotlib.pyplot as plt\n",
    "\n",
    "from corextopic import corextopic as ct\n",
    "from corextopic import vis_topic as vt # jupyter notebooks will complain matplotlib is being loaded twice"
   ]
  },
  {
   "cell_type": "code",
   "execution_count": 2,
   "metadata": {},
   "outputs": [],
   "source": [
    "##### INIT GLOBAL VARIABLES#####\n",
    "\n",
    "#init Mongo\n",
    "conn = 'mongodb://localhost:27017'\n",
    "client = pymongo.MongoClient(conn)\n",
    "\n",
    "#connect to database\n",
    "db = client.visualizing_sep"
   ]
  },
  {
   "cell_type": "code",
   "execution_count": 3,
   "metadata": {},
   "outputs": [],
   "source": [
    "sep_df = pd.DataFrame(list(db.sep_entries.find({}, \n",
    "                                                projection=['title', 'pagetext'], \n",
    "                                                sort=[('title',1)])))"
   ]
  },
  {
   "cell_type": "code",
   "execution_count": 4,
   "metadata": {
    "tags": []
   },
   "outputs": [
    {
     "output_type": "execute_result",
     "data": {
      "text/plain": "                        _id                                         title  \\\n0  5f109ada789a3d802df9a75b    17th and 18th Century Theories of Emotions   \n1  5f10994d789a3d802df9a5b6               18th Century British Aesthetics   \n2  5f10994e789a3d802df9a5b7                18th Century French Aesthetics   \n3  5f10994f789a3d802df9a5b8                18th Century German Aesthetics   \n4  5f10993b789a3d802df9a5a3  18th Century German Philosophy Prior to Kant   \n\n                                            pagetext  \n0  Early modern philosophy in Europe and Great Br...  \n1  18th-century British aesthetics addressed itse...  \n2  French philosophers of the Ancien Régime wrote...  \n3  The philosophical discipline of aesthetics did...  \n4  In Germany, the eighteenth century was the age...  ",
      "text/html": "<div>\n<style scoped>\n    .dataframe tbody tr th:only-of-type {\n        vertical-align: middle;\n    }\n\n    .dataframe tbody tr th {\n        vertical-align: top;\n    }\n\n    .dataframe thead th {\n        text-align: right;\n    }\n</style>\n<table border=\"1\" class=\"dataframe\">\n  <thead>\n    <tr style=\"text-align: right;\">\n      <th></th>\n      <th>_id</th>\n      <th>title</th>\n      <th>pagetext</th>\n    </tr>\n  </thead>\n  <tbody>\n    <tr>\n      <td>0</td>\n      <td>5f109ada789a3d802df9a75b</td>\n      <td>17th and 18th Century Theories of Emotions</td>\n      <td>Early modern philosophy in Europe and Great Br...</td>\n    </tr>\n    <tr>\n      <td>1</td>\n      <td>5f10994d789a3d802df9a5b6</td>\n      <td>18th Century British Aesthetics</td>\n      <td>18th-century British aesthetics addressed itse...</td>\n    </tr>\n    <tr>\n      <td>2</td>\n      <td>5f10994e789a3d802df9a5b7</td>\n      <td>18th Century French Aesthetics</td>\n      <td>French philosophers of the Ancien Régime wrote...</td>\n    </tr>\n    <tr>\n      <td>3</td>\n      <td>5f10994f789a3d802df9a5b8</td>\n      <td>18th Century German Aesthetics</td>\n      <td>The philosophical discipline of aesthetics did...</td>\n    </tr>\n    <tr>\n      <td>4</td>\n      <td>5f10993b789a3d802df9a5a3</td>\n      <td>18th Century German Philosophy Prior to Kant</td>\n      <td>In Germany, the eighteenth century was the age...</td>\n    </tr>\n  </tbody>\n</table>\n</div>"
     },
     "metadata": {},
     "execution_count": 4
    }
   ],
   "source": [
    "sep_df.head()"
   ]
  },
  {
   "cell_type": "code",
   "execution_count": 5,
   "metadata": {
    "tags": []
   },
   "outputs": [],
   "source": [
    "from sklearn.feature_extraction.text import TfidfVectorizer\n",
    "vectorizer = TfidfVectorizer(\n",
    "    max_df=.5,\n",
    "    min_df=10,\n",
    "    max_features=20000,\n",
    "    ngram_range=(1, 2),\n",
    "    norm=None,\n",
    "    binary=True,\n",
    "    use_idf=False,\n",
    "    sublinear_tf=False\n",
    ")\n",
    "vectorizer = vectorizer.fit(sep_df['pagetext'])\n",
    "tfidf = vectorizer.transform(sep_df['pagetext'])\n",
    "vocab = vectorizer.get_feature_names()\n"
   ]
  },
  {
   "cell_type": "code",
   "execution_count": 7,
   "metadata": {
    "tags": []
   },
   "outputs": [
    {
     "output_type": "stream",
     "name": "stdout",
     "text": "<1692x20000 sparse matrix of type '<class 'numpy.float64'>'\n\twith 4312997 stored elements in Compressed Sparse Row format>\n20000\n"
    }
   ],
   "source": [
    "pprint(tfidf)\n",
    "pprint(len(vocab))"
   ]
  },
  {
   "cell_type": "code",
   "execution_count": 10,
   "metadata": {},
   "outputs": [],
   "source": [
    "# Anchors designed to nudge the model towards measuring specific genres\n",
    "anchor_words = [\n",
    "    [\"Political Philosophy\", \"Political Theory\",  \"Social Theory\", \"Government\", \"Justice\", \"Rights\", \"Civic\", \"Political\", \"Political Philosopher\", \"Democracy\"],\n",
    "    [\"Philosophy of Science\", \"Science\", \"natural philosophy\", \"scientific\"],\n",
    "    [\"Philosophy of Religion\", \"religion\", \"god\", \"faith\", \"theology\"],\n",
    "    [\"Philosophy of Mind\", \"Metaphysics of Mind\", \"mental\", \"consciousness\", \"perception\", \"cognition\", \"emotion\"],\n",
    "    [\"Philosophy of Mathematics\", \"Mathematics\", \"mathematical\", \"algebra\", \"calculus\", \"geometry\", \"probability\", \"statistics\", \"set theory\"],\n",
    "    [\"Philosophy of Law\", \"law\", \"tort\", \"legal\", \"testimony\"],\n",
    "    [\"Philosophy of Language\", \"semantics\", \"pragmatics\", \"linguistics\", \"grammar\"],\n",
    "    [\"Metaphysics\", \"causation\", \"ontology\"],\n",
    "    [\"Logic\", \"inference\", \"paradox\"],\n",
    "    [\"Latin American Philosophy\", \"Latin America\", \"Iberian Peninsula\", \"mexico\", \"chile\"],\n",
    "    [\"Jewish philosophy\", \"Judaic Philosophy\", \"Hebrew Philosophy\"],\n",
    "    [\"Japanese philosophy\"],\n",
    "    [\"Feminist Philosophy\", \"feminism\", \"feminist\"],\n",
    "    [\"Ethics\", \"Ethical Philosophy\", \"Moral Philosophy\", \"Morals\", \"Morality\"],\n",
    "    [\"Epistemology\",  \"epistemic\", \"knowledge\", \"truth\"],\n",
    "    [\"Existentialism\", \"Phenomenolgy\", \"Intentionality\", \"Hermeneutics\", \"Critical Theory\", \"PostModernism\"],\n",
    "    [\"Chinese Philosophy\", \"Chinese Medicine\", \"Tibet\"],\n",
    "    [\"Arabic and Islamic\", \"Islamic\", \"Middle Eastern\", \"Koran\", \"Muslim\"],\n",
    "    [\"Africa\", \"African\", \"Africana\", \"African-American\"],\n",
    "    [\"Aesthetic\", \"Aesthetics\", \"Art\", \"Film\", \"Music\", \"Dance\", \"Theater\"]\n",
    "]\n",
    "anchors = [\n",
    "    [a for a in topic if a in vocab]\n",
    "    for topic in anchor_words\n",
    "]\n",
    "\n",
    "model = ct.Corex(n_hidden=20, seed=42)\n",
    "model = model.fit(\n",
    "    tfidf,\n",
    "    words=vocab,\n",
    "    anchors=anchors, # Pass the anchors in here\n",
    "    anchor_strength=10 # Tell the model how much it should rely on the anchors\n",
    ")"
   ]
  },
  {
   "cell_type": "code",
   "execution_count": null,
   "metadata": {},
   "outputs": [],
   "source": []
  },
  {
   "cell_type": "code",
   "execution_count": 11,
   "metadata": {
    "tags": []
   },
   "outputs": [
    {
     "output_type": "stream",
     "name": "stdout",
     "text": "Topic #1: scientific, natural philosophy, sciences, of science, of scientific, science and, philosophy of, the scientific, ofscience, the sciences\nTopic #2: god, theology, faith, religion, divine, of god, god is, god and, soul, the divine\nTopic #3: consciousness, perception, cognition, mental, emotion, experience of, the mind, experiences, sensory, conscious\nTopic #4: mathematical, calculus, set theory, algebra, probability, geometry, statistics, theorem, theorems, axioms\nTopic #5: legal, morally, the moral, of moral, harm, morality, justice, goods, well being, persons\nTopic #6: semantics, grammar, linguistics, semantic, sentences, sentence, semantics of, the semantics, the sentence, quantifiers\nTopic #7: ontology, causation, ontological, entities, metaphysical, spatial, entity, of objects, properties and, causal\nTopic #8: inference, paradox, if and, is false, true in, only if, for any, be true, iff, operator\nTopic #9: feminist, feminism, political, society, rights, and political, economic, institutions, of social, public\nTopic #10: epistemic, 1986, the relevant, 1991, the literature, 1989, 1992, 1987, see also, 2014\nTopic #11: engage, norms, goals, demands, psychological, ways that, recognition, standards, the extent, in ways\nTopic #12: but if, is something, thinks, something that, saying, we cannot, something is, but we, of thing, is for\nTopic #13: do so, anyone, beliefs, ought, judgments, me, judgment, what they, that our, how we\nTopic #14: unity, in itself, qualities, knowledge of, unity of, ultimate, conceived, as such, relation to, intelligible\nTopic #15: he was, wrote, was born, writings, published, he had, died, born, intellectual, his own\nTopic #16: et al, processes, experimental, statistical, research, models, mechanisms, al, etal, researchers\nTopic #17: structure of, explicit, technical, the structure, notions, description, detailed, framework, the context, representation\nTopic #18: plausible, reason to, suppose that, objection, it might, worry, about what, one might, then it, we might\nTopic #19: need not, may not, considerations, is whether, will not, appeal to, about how, there may, of whether, suggest that\nTopic #20: 35, 21, 36, 34, 33, 28, 30, 18, 27, 42\n"
    }
   ],
   "source": [
    "for i, topic_ngrams in enumerate(model.get_topics(n_words=10)):\n",
    "    topic_ngrams = [ngram[0] for ngram in topic_ngrams if ngram[1] > 0]\n",
    "    print(\"Topic #{}: {}\".format(i+1, \", \".join(topic_ngrams)))"
   ]
  },
  {
   "cell_type": "code",
   "execution_count": 15,
   "metadata": {},
   "outputs": [],
   "source": [
    "topic_df = pd.DataFrame(\n",
    "    model.transform(tfidf), \n",
    "    columns=[\"topic_{}\".format(i+1) for i in range(21)]\n",
    ").astype(float)\n",
    "topic_df.index = sep_df.index\n",
    "df = pd.concat([sep_df, topic_df], axis=1)"
   ]
  },
  {
   "cell_type": "code",
   "execution_count": 16,
   "metadata": {},
   "outputs": [
    {
     "output_type": "execute_result",
     "data": {
      "text/plain": "                           _id                title  \\\n989   5f109d41789a3d802df9a9d0  Moral Particularism   \n1637  5f1099be789a3d802df9a631      Walter Benjamin   \n1217  5f109e05789a3d802df9aa9d              Proclus   \n1175  5f109dd6789a3d802df9aa6e      Plato’s Timaeus   \n1373  5f109eca789a3d802df9ab5f        Shared Agency   \n\n                                               pagetext  topic_1  topic_2  \\\n989   Moral Particularism, at its most trenchant, is...      0.0      0.0   \n1637  Walter Benjamin's importance as a philosopher ...      1.0      1.0   \n1217  Proclus of Athens (*412–485 C.E.) was the most...      1.0      1.0   \n1175  In the Timaeus Plato presents an elaborately w...      0.0      1.0   \n1373  Sometimes individuals act together, and someti...      0.0      0.0   \n\n      topic_3  topic_4  topic_5  topic_6  topic_7  ...  topic_12  topic_13  \\\n989       0.0      0.0      0.0      0.0      0.0  ...       0.0       0.0   \n1637      1.0      0.0      0.0      0.0      1.0  ...       1.0       1.0   \n1217      0.0      0.0      0.0      0.0      1.0  ...       1.0       0.0   \n1175      0.0      0.0      0.0      0.0      1.0  ...       1.0       0.0   \n1373      0.0      0.0      0.0      0.0      0.0  ...       0.0       0.0   \n\n      topic_14  topic_15  topic_16  topic_17  topic_18  topic_19  topic_20  \\\n989        1.0       1.0       0.0       1.0       0.0       0.0       0.0   \n1637       1.0       0.0       1.0       0.0       1.0       1.0       0.0   \n1217       1.0       0.0       1.0       0.0       0.0       1.0       0.0   \n1175       1.0       0.0       0.0       0.0       0.0       0.0       1.0   \n1373       1.0       1.0       0.0       1.0       0.0       0.0       1.0   \n\n      topic_21  \n989        0.0  \n1637       1.0  \n1217       0.0  \n1175       0.0  \n1373       0.0  \n\n[5 rows x 24 columns]",
      "text/html": "<div>\n<style scoped>\n    .dataframe tbody tr th:only-of-type {\n        vertical-align: middle;\n    }\n\n    .dataframe tbody tr th {\n        vertical-align: top;\n    }\n\n    .dataframe thead th {\n        text-align: right;\n    }\n</style>\n<table border=\"1\" class=\"dataframe\">\n  <thead>\n    <tr style=\"text-align: right;\">\n      <th></th>\n      <th>_id</th>\n      <th>title</th>\n      <th>pagetext</th>\n      <th>topic_1</th>\n      <th>topic_2</th>\n      <th>topic_3</th>\n      <th>topic_4</th>\n      <th>topic_5</th>\n      <th>topic_6</th>\n      <th>topic_7</th>\n      <th>...</th>\n      <th>topic_12</th>\n      <th>topic_13</th>\n      <th>topic_14</th>\n      <th>topic_15</th>\n      <th>topic_16</th>\n      <th>topic_17</th>\n      <th>topic_18</th>\n      <th>topic_19</th>\n      <th>topic_20</th>\n      <th>topic_21</th>\n    </tr>\n  </thead>\n  <tbody>\n    <tr>\n      <td>989</td>\n      <td>5f109d41789a3d802df9a9d0</td>\n      <td>Moral Particularism</td>\n      <td>Moral Particularism, at its most trenchant, is...</td>\n      <td>0.0</td>\n      <td>0.0</td>\n      <td>0.0</td>\n      <td>0.0</td>\n      <td>0.0</td>\n      <td>0.0</td>\n      <td>0.0</td>\n      <td>...</td>\n      <td>0.0</td>\n      <td>0.0</td>\n      <td>1.0</td>\n      <td>1.0</td>\n      <td>0.0</td>\n      <td>1.0</td>\n      <td>0.0</td>\n      <td>0.0</td>\n      <td>0.0</td>\n      <td>0.0</td>\n    </tr>\n    <tr>\n      <td>1637</td>\n      <td>5f1099be789a3d802df9a631</td>\n      <td>Walter Benjamin</td>\n      <td>Walter Benjamin's importance as a philosopher ...</td>\n      <td>1.0</td>\n      <td>1.0</td>\n      <td>1.0</td>\n      <td>0.0</td>\n      <td>0.0</td>\n      <td>0.0</td>\n      <td>1.0</td>\n      <td>...</td>\n      <td>1.0</td>\n      <td>1.0</td>\n      <td>1.0</td>\n      <td>0.0</td>\n      <td>1.0</td>\n      <td>0.0</td>\n      <td>1.0</td>\n      <td>1.0</td>\n      <td>0.0</td>\n      <td>1.0</td>\n    </tr>\n    <tr>\n      <td>1217</td>\n      <td>5f109e05789a3d802df9aa9d</td>\n      <td>Proclus</td>\n      <td>Proclus of Athens (*412–485 C.E.) was the most...</td>\n      <td>1.0</td>\n      <td>1.0</td>\n      <td>0.0</td>\n      <td>0.0</td>\n      <td>0.0</td>\n      <td>0.0</td>\n      <td>1.0</td>\n      <td>...</td>\n      <td>1.0</td>\n      <td>0.0</td>\n      <td>1.0</td>\n      <td>0.0</td>\n      <td>1.0</td>\n      <td>0.0</td>\n      <td>0.0</td>\n      <td>1.0</td>\n      <td>0.0</td>\n      <td>0.0</td>\n    </tr>\n    <tr>\n      <td>1175</td>\n      <td>5f109dd6789a3d802df9aa6e</td>\n      <td>Plato’s Timaeus</td>\n      <td>In the Timaeus Plato presents an elaborately w...</td>\n      <td>0.0</td>\n      <td>1.0</td>\n      <td>0.0</td>\n      <td>0.0</td>\n      <td>0.0</td>\n      <td>0.0</td>\n      <td>1.0</td>\n      <td>...</td>\n      <td>1.0</td>\n      <td>0.0</td>\n      <td>1.0</td>\n      <td>0.0</td>\n      <td>0.0</td>\n      <td>0.0</td>\n      <td>0.0</td>\n      <td>0.0</td>\n      <td>1.0</td>\n      <td>0.0</td>\n    </tr>\n    <tr>\n      <td>1373</td>\n      <td>5f109eca789a3d802df9ab5f</td>\n      <td>Shared Agency</td>\n      <td>Sometimes individuals act together, and someti...</td>\n      <td>0.0</td>\n      <td>0.0</td>\n      <td>0.0</td>\n      <td>0.0</td>\n      <td>0.0</td>\n      <td>0.0</td>\n      <td>0.0</td>\n      <td>...</td>\n      <td>0.0</td>\n      <td>0.0</td>\n      <td>1.0</td>\n      <td>1.0</td>\n      <td>0.0</td>\n      <td>1.0</td>\n      <td>0.0</td>\n      <td>0.0</td>\n      <td>1.0</td>\n      <td>0.0</td>\n    </tr>\n  </tbody>\n</table>\n<p>5 rows × 24 columns</p>\n</div>"
     },
     "metadata": {},
     "execution_count": 16
    }
   ],
   "source": [
    "df.sample(5, random_state=42)"
   ]
  },
  {
   "cell_type": "code",
   "execution_count": null,
   "metadata": {},
   "outputs": [],
   "source": []
  }
 ],
 "metadata": {
  "language_info": {
   "codemirror_mode": {
    "name": "ipython",
    "version": 3
   },
   "file_extension": ".py",
   "mimetype": "text/x-python",
   "name": "python",
   "nbconvert_exporter": "python",
   "pygments_lexer": "ipython3",
   "version": 3
  },
  "orig_nbformat": 2,
  "kernelspec": {
   "name": "python_defaultSpec_1595118382782",
   "display_name": "Python 3.6.9 64-bit ('PythonData': conda)"
  }
 },
 "nbformat": 4,
 "nbformat_minor": 2
}