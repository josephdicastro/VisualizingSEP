{
 "cells": [
  {
   "cell_type": "code",
   "execution_count": 1,
   "metadata": {},
   "outputs": [],
   "source": [
    "import pymongo \n",
    "import json \n",
    "import pandas as pd\n",
    "from tqdm import tqdm\n",
    "from pprint import pprint"
   ]
  },
  {
   "cell_type": "code",
   "execution_count": 2,
   "metadata": {},
   "outputs": [],
   "source": [
    "conn = 'mongodb://localhost:27017'\n",
    "client = pymongo.MongoClient(conn)\n",
    "db = client.visualizing_sep"
   ]
  },
  {
   "cell_type": "code",
   "execution_count": 9,
   "metadata": {},
   "outputs": [],
   "source": [
    "# export page_text for every SEP page\n",
    "\n",
    "sep_entries = list(db.sep_data.find({}).sort('title'))\n",
    "for sep in sep_entries:\n",
    "    page_name = sep['title'] + '.txt'\n",
    "    file_name = 'texttraining/' + page_name.replace(\"/\",\"_\")\n",
    "    page_text = sep['pagetext'].strip()\n",
    "    with open(file_name,'w', encoding='UTF-8') as f:\n",
    "        f.write(page_text)\n"
   ]
  },
  {
   "cell_type": "code",
   "execution_count": 7,
   "metadata": {},
   "outputs": [],
   "source": [
    "#export title and id to csv\n",
    "sep_entries = list(db.sep_data.find( filter={},\n",
    "                                     projection={'title'},\n",
    "                                     sort=[('title',1)]))\n",
    "\n",
    "sep_df = pd.DataFrame(sep_entries)\n",
    "sep_df.head()\n",
    "sep_df.to_csv('sep.csv')"
   ]
  },
  {
   "cell_type": "code",
   "execution_count": 10,
   "metadata": {
    "tags": [
     "outputPrepend"
    ]
   },
   "outputs": [
    {
     "output_type": "stream",
     "name": "stdout",
     "text": "['Aesthetics',\n 'African and African-American Philosophy',\n 'Arabic and Islamic Philosophy',\n 'Biology',\n 'Chinese Philosophy',\n 'Computer Science',\n 'Economics',\n 'Epistemology',\n 'Ethics and Morality',\n 'Evolution',\n 'Existentialism and Phenomenology',\n 'Feminism',\n 'Genetics',\n 'Indian Philosophy',\n 'Japanese Philosophy',\n 'Language',\n 'Latin American Philosophy',\n 'Law',\n 'Logic',\n 'Mathematics',\n 'Metaphysics',\n 'Mind',\n 'Physics',\n 'Political and Social Theory',\n 'Quantum Mechanics',\n 'Religion',\n 'Scientific Methods',\n 'Thinker']\n"
    }
   ],
   "source": [
    "#extract unique list of domain tags\n",
    "domain_tags = list(db.sep_data.find( filter={},\n",
    "                                     projection={'domain_tags':1, '_id':0}))\n",
    "domain_tags_individual = []\n",
    "\n",
    "for tag in domain_tags:\n",
    "    semisplit_tags = tag['domain_tags'].split(';')\n",
    "    for semisplit_tag in semisplit_tags:\n",
    "        commasplit_tags = semisplit_tag.split(',')\n",
    "        for commasplit_tag in commasplit_tags:\n",
    "            if commasplit_tag != '':\n",
    "                domain_tags_individual.append(commasplit_tag.strip())\n",
    "\n",
    "individual_tags = sorted(set(domain_tags_individual))\n",
    "pprint(individual_tags)"
   ]
  },
  {
   "cell_type": "code",
   "execution_count": 11,
   "metadata": {},
   "outputs": [
    {
     "output_type": "stream",
     "name": "stdout",
     "text": "[('Aesthetics', '/category/aesthetics/'),\n ('African and African-American Philosophy',\n  '/category/african-and-african-american-philosophy/'),\n ('Arabic and Islamic Philosophy', '/category/arabic-and-islamic-philosophy/'),\n ('Biology', '/category/biology/'),\n ('Chinese Philosophy', '/category/chinese-philosophy/'),\n ('Computer Science', '/category/computer-science/'),\n ('Economics', '/category/economics/'),\n ('Epistemology', '/category/epistemology/'),\n ('Ethics and Morality', '/category/ethics-and-morality/'),\n ('Evolution', '/category/evolution/'),\n ('Existentialism and Phenomenology',\n  '/category/existentialism-and-phenomenology/'),\n ('Feminism', '/category/feminism/'),\n ('Genetics', '/category/genetics/'),\n ('Indian Philosophy', '/category/indian-philosophy/'),\n ('Japanese Philosophy', '/category/japanese-philosophy/'),\n ('Language', '/category/language/'),\n ('Latin American Philosophy', '/category/latin-american-philosophy/'),\n ('Law', '/category/law/'),\n ('Logic', '/category/logic/'),\n ('Mathematics', '/category/mathematics/'),\n ('Metaphysics', '/category/metaphysics/'),\n ('Mind', '/category/mind/'),\n ('Physics', '/category/physics/'),\n ('Political and Social Theory', '/category/political-and-social-theory/'),\n ('Quantum Mechanics', '/category/quantum-mechanics/'),\n ('Religion', '/category/religion/'),\n ('Scientific Methods', '/category/scientific-methods/'),\n ('Thinker', '/category/thinker/')]\n"
    }
   ],
   "source": [
    "#make list of tuples for each domain and create domain id\n",
    "domain_links = [ (x.strip(),'/category/' + x.strip().lower().replace(' ','-') + '/') for x in individual_tags]\n",
    "pprint(domain_links)"
   ]
  },
  {
   "cell_type": "code",
   "execution_count": 13,
   "metadata": {
    "tags": [
     "outputPrepend"
    ]
   },
   "outputs": [
    {
     "output_type": "stream",
     "name": "stdout",
     "text": "ceded by a long introduction in '\n                               \"which Kant explains and defends the work's \"\n                               'importance in his critical system overall: in '\n                               'the first part, the “Critique of Aesthetic '\n                               'Judgment,” Kant discusses aesthetic experience '\n                               'and judgment, in particular of the beautiful '\n                               'and the sublime, and also artistic creation; '\n                               'in the second part, the “Critique of '\n                               'Teleological Judgment,” he discusses the role '\n                               'of teleology (that is, appeal to ends, '\n                               'purposes or goals) in natural science and in '\n                               'our understanding of nature more generally. '\n                               'The Critique of Judgment was the third and '\n                               \"last of Kant's three Critiques, the other two \"\n                               'being the Critique of Pure Reason (1781, with '\n                               'a second edition in 1787), which deals with '\n                               'metaphysics and epistemology, and the Critique '\n                               'of Practical Reason of 1788, which, alongside '\n                               'his Groundwork of the Metaphysics of Morals of '\n                               '1785, deals with ethics.',\n            'page_url': '/entries/kant-aesthetics/',\n            'title': 'Kant’s Aesthetics and Teleology'},\n           {'first_paragraph': ' Theories of judgment, whether cognitive '\n                               '(i.e., object-representing, '\n                               'thought-expressing, truth-apt) judgment or '\n                               'practical (i.e., act-representing, '\n                               'choice-expressing, evaluation-apt) judgment, '\n                               'bring together fundamental issues in '\n                               'semantics, logic, cognitive psychology, and '\n                               'epistemology (collectively providing for what '\n                               'can be called the four “faces” of cognitive '\n                               'judgment [see also Martin 2006]), as well as '\n                               'action theory, moral psychology, and ethics '\n                               '(collectively providing for the three “faces” '\n                               'of practical judgment): indeed, the notion of '\n                               'judgment is central to any general theory of '\n                               'human rationality. But Kant’s theory of '\n                               'judgment differs sharply from many other '\n                               'theories of judgment, both traditional and '\n                               'contemporary, in three ways: (1) by taking the '\n                               'innate capacity for judgment to be the central '\n                               'cognitive faculty of the rational human mind, '\n                               '(2) by insisting on the semantic, logical, '\n                               'psychological, epistemic, and practical '\n                               'priority of the propositional content of a '\n                               'judgment, and (3) by systematically embedding '\n                               'judgment within the metaphysics of '\n                               'transcendental idealism . Several serious '\n                               'problems are generated by the interplay of the '\n                               'first two factors with the third. This in turn '\n                               'suggests that the other two parts of Kant’s '\n                               'theory of judgment can be logically detached '\n                               'from the strongest version of his '\n                               'transcendental idealism and defended '\n                               'independently of it. This entry also includes '\n                               'five supplementary documents covering (i) the '\n                               'debate about Kant’s conceptualism vs. Kant’s '\n                               'non-conceptualism, (ii) the epistemology of '\n                               'Kantian judgment and the ethics of Kantian '\n                               'belief, (iii) Kant’s logic in relation to his '\n                               'theory of judgment, (iv) kinds of use for '\n                               'judgments, and (v) completing the picture of '\n                               'Kant’s metaphysics of judgment. ',\n            'page_url': '/entries/kant-judgment/',\n            'title': 'Kant’s Theory of Judgment'},\n           {'first_paragraph': ' Medieval philosophical texts are written in a '\n                               'variety of literary forms, many peculiar to '\n                               'the period, like the summa or disputed '\n                               'question; others, like the commentary, '\n                               'dialogue, and axiom, are also found in ancient '\n                               'and modern sources but are substantially '\n                               'different in the medieval period from the '\n                               'classical or modern instantiations of these '\n                               'forms. Many philosophical texts also have a '\n                               'highly polemical style and/or seem deferential '\n                               'to the authoritative sources they cite. '\n                               'Further, medieval philosophical thinkers '\n                               'operated under the threat of censure from '\n                               'political and religious authority, moving '\n                               'them, some have argued, to write esoterically '\n                               'or indirectly to protect themselves from '\n                               'persecution for their true views. All these '\n                               'literary and rhetorical features make medieval '\n                               'philosophical texts considerably more '\n                               'difficult to understand and interpret than '\n                               'modern or even classical philosophical texts. '\n                               'Moreover, the broad range of genres used in '\n                               'medieval philosophy raises questions about the '\n                               'nature of philosophical writing in general '\n                               'when compared to the much more restricted set '\n                               'of accepted forms in modern and contemporary '\n                               'philosophical works.',\n            'page_url': '/entries/medieval-literary/',\n            'title': 'Literary Forms of Medieval Philosophy'},\n           {'first_paragraph': ' Philosophy of music is the study of '\n                               'fundamental questions about the nature and '\n                               'value of music and our experience of it. Like '\n                               'any “philosophy of X”, it presupposes '\n                               'knowledge of its target. However, unlike '\n                               'philosophy of science, say, the target of '\n                               'philosophy of music is a practice most people '\n                               'have a significant background in, merely as a '\n                               'result of being members of a musical culture. '\n                               'Music plays a central role in many people’s '\n                               'lives. Thus, as with the central questions of '\n                               'metaphysics and epistemology, not only can '\n                               'most people quickly grasp the philosophical '\n                               'questions music raises, they tend to have '\n                               'thought about some of those questions before '\n                               'encountering the academic discipline itself. '\n                               '(This is as good a place as any to note that '\n                               'I, like most in the English-speaking '\n                               'philosophical world, focus exclusively on '\n                               'Western musical traditions. For criticism of '\n                               'this tendency, see Alperson 2009. For some '\n                               'exceptions to it, see S. Davies 2001: 254–94) '\n                               'and Feagin 2007.)',\n            'page_url': '/entries/music/',\n            'title': 'The Philosophy of Music'},\n           {'first_paragraph': '  The ultimate success of Hollywood '\n                               'blockbusters is dependent upon  repeat '\n                               'viewings. Fans return to theaters to see films '\n                               'multiple times  and buy DVDs so they can watch '\n                               'movies yet again. Although it is  something of '\n                               'a received dogma in philosophy and psychology '\n                               'that  suspense requires uncertainty, many of '\n                               'the biggest box office  successes are action '\n                               'movies that fans claim to find suspenseful on  '\n                               'repeated viewings. The conflict between the '\n                               'theory of suspense and  the accounts of '\n                               'viewers generates a problem known as the '\n                               'paradox  of suspense, which we can boil down '\n                               'to a simple question: If  suspense requires '\n                               'uncertainty, how can a viewer who knows the '\n                               'outcome still feel suspense? ',\n            'page_url': '/entries/paradox-suspense/',\n            'title': 'The Paradox of Suspense'},\n           {'first_paragraph': '  The focus of this entry is on Schopenhauer’s '\n                               'aesthetic theory, which forms part of his '\n                               'organic philosophical system, but which can be '\n                               'appreciated and assessed to some extent on its '\n                               'own terms (for ways in which his aesthetic '\n                               'insights may be detached from his metaphysics '\n                               'see Shapshay, 2012b). The theory is found '\n                               'predominantly in Book 3 of the World as Will '\n                               'and Representation (WWR I) and in the '\n                               'elaboratory essays concerning Book 3 in the '\n                               'second volume (WWR II), and it is on these '\n                               'texts that I will concentrate here. This entry '\n                               'offers a brief background on Schopenhauer’s '\n                               'metaphysics before addressing Schopenhauer’s '\n                               'methodology in aesthetics, his account of the '\n                               'subjective and objective sides of aesthetic '\n                               'experience (both of the beautiful and the '\n                               'sublime), his hierarchy of the arts and '\n                               'rationale for this hierarchy, his view of '\n                               'artistic genius, the exceptional status of '\n                               'music among the fine arts, and the '\n                               'relationships he theorized between aesthetics '\n                               'and ethics.',\n            'page_url': '/entries/schopenhauer-aesthetics/',\n            'title': 'Schopenhauer’s Aesthetics'},\n           {'first_paragraph': ' In contrast to Plato’s well-known '\n                               'disparagement of theatrical practices (in '\n                               'Republic, Books III and X, for example), '\n                               'Aristotle held in the Poetics that tragedy in '\n                               'theatrical performance, perhaps tragedy in '\n                               'particular, could have therapeutic value. '\n                               'Whether what he meant was a kind of cognitive '\n                               'therapy or a form of psychological therapy is '\n                               'a question that has vexed scholars to this '\n                               'day; and it turns on how one understands two '\n                               'terms: katharsis and mimesis (Schaper 1968; '\n                               'Golden 1973; Diamond 1989; Lear 1992; Woodruff '\n                               '1992).  This dispute is interesting first '\n                               'because it reflects the fact that theater has '\n                               'been a topic of philosophical dispute, '\n                               'investigation, use, or illustration since near '\n                               'the beginning of Western philosophy in the '\n                               'ancient Greek world. Second, its terms '\n                               'continue to have influence over current '\n                               'disputes within theater studies and '\n                               'performance theories (Puchner 2013). Finally, '\n                               'and primarily, it links descriptive '\n                               'metaphysical issues, such as what theater is '\n                               'by its nature, with normative issues, such as '\n                               'the value of theatrical performances within a '\n                               'culture. Several recent philosophical works '\n                               'emphasizing descriptive issues have attempted '\n                               'to understand just what is going on in '\n                               'theatrical performances and other performance '\n                               'arts (Saltz 1991a; Thom 1992; Osipovich 2006; '\n                               'Hamilton 2007; D. Davies 2011). This entry '\n                               'will focus largely on topics that are similar '\n                               'to or are themselves the issues examined in '\n                               'these works.',\n            'page_url': '/entries/theater/',\n            'title': 'Philosophy of Theater'},\n           {'first_paragraph': '  Given the extreme importance that '\n                               'Wittgenstein attached to the aesthetic '\n                               'dimension of life, it is in one sense '\n                               'surprising that he wrote so little on the '\n                               'subject. It is true that we have the notes '\n                               'assembled from his lectures on aesthetics '\n                               'given to a small group of students in private '\n                               'rooms in Cambridge in the summer of 1938 '\n                               \"(Wittgenstein 1966) and we have G. E. Moore's \"\n                               \"record of some of Wittgenstein's lectures in \"\n                               'the period 1930–33 (Moore 1972).  Of '\n                               \"Wittgenstein's own writings, we find remarks \"\n                               'on literature, poetry, architecture, the '\n                               'visual arts, and especially music and the '\n                               'philosophy of culture more broadly scattered '\n                               'throughout his writings on the philosophies of '\n                               'language, mind, mathematics, and philosophical '\n                               'method, as well as in his more personal '\n                               'notebooks; a number of these are collected in '\n                               'Culture and Value (Wittgenstein 1980).  In '\n                               'another sense, it is not surprising at all, '\n                               'precisely because of the central position he '\n                               'gave to the aesthetic: in writing about '\n                               'questions of meaning, as he did throughout his '\n                               'life from the earliest pre-Tractatus '\n                               '(Wittgenstein 1961, 1971) writings to the '\n                               'remarks from the last weeks of his life in On '\n                               'Certainty (Wittgenstein 1969), in writing '\n                               'about perception, as he did in Part II of '\n                               'Philosophical Investigations (Wittgenstein '\n                               '1958), Remarks on the Philosophy of '\n                               'Psychology, Volumes I and II (Wittgenstein '\n                               '1980a, 1980b), and Last Writings on the '\n                               'Philosophy of Psychology, volume I '\n                               '(Wittgenstein 1982), and in writing about the '\n                               'contextual prerequisites to the emergence of '\n                               'sense in his philosophy of mind and language '\n                               '(in (Wittgenstein 1958) as well as his '\n                               'writings on the philosophy of mathematics), he '\n                               'was writing—if at one remove—about aesthetics. '\n                               'For questions of meaning, of perception, and '\n                               'of sense are all clearly central to aesthetic '\n                               'experience, and the writing he undertook on '\n                               'these subjects holds significance for '\n                               'questions of artistic meaning and '\n                               'interpretation that is still being explored '\n                               'and articulated (Lewis 2004, Dauber and Jost '\n                               '2003, Gibson and Huemer 2004).  Wittgenstein '\n                               'placed the aesthetic, not on a distant '\n                               'periphery of philosophical subjects, but then '\n                               'not at the center of a grouping of such '\n                               'interests either—for then it would still be a '\n                               'subject area unto itself. Rather, Wittgenstein '\n                               \"interweaves the subject's various and \"\n                               'variegated strands throughout his writing in a '\n                               'way that in some cases shows explicitly, and '\n                               'in many more cases suggests implicitly, the '\n                               'layered interconnections between aesthetic '\n                               'considerations and every other area of '\n                               'philosophy upon which he wrote. In this '\n                               'article I will, then, look at the record we '\n                               'have of his lectures on the topic (which, '\n                               'predictably, take up many connections to '\n                               'extra-aesthetic issues along the way), but '\n                               'throughout try to offer a reading of them that '\n                               'situates them into the larger context of his '\n                               'philosophical work.',\n            'page_url': '/entries/wittgenstein-aesthetics/',\n            'title': 'Wittgenstein’s Aesthetics'}]}\n"
    }
   ],
   "source": [
    "#create node ojbect for domains, and create a list of links for each article in the domain\n",
    "\n",
    "domain_menu = []\n",
    "outlinks = []\n",
    "\n",
    "for domain in domain_links[0:1]:\n",
    "    domain_title = domain[0]\n",
    "    domain_id = domain[1]\n",
    "    article_urls = list(db.sep_data.find(\n",
    "                        filter={'domain_tags': {'$regex':domain_title}},\n",
    "                        projection={'page_url':1, '_id':0}))\n",
    "\n",
    "    domain_nodes = list(db.sep_data.find(\n",
    "                        filter={'domain_tags': {'$regex':domain_title}},\n",
    "                        projection={'page_url':1,\n",
    "                                    'title':1,\n",
    "                                    'first_paragraph':1,\n",
    "                                    '_id':0}))\n",
    "    data_nodes = {'nodes':domain_nodes}\n",
    "    pprint(data_nodes)\n",
    "    article_links = [{'source':domain_id, 'target':url['page_url'], 'dir':'out'} for url in article_urls] \n",
    "    \n",
    "    domain_node = { 'title':domain_title,\n",
    "                     'id':domain_id,\n",
    "                     'entry_type':'Menu', \n",
    "                     'primary_domain':domain_title,\n",
    "                     'data' : data_nodes,\n",
    "                     'links':article_links\n",
    "                     }\n",
    "\n",
    "    domain_menu.append(domain_node)\n",
    "\n",
    "# create node object for top level SEP menu\n",
    "\n",
    "menu_links = [{'source':'/category/', 'target':x[1], 'dir': 'Out'} for x in domain_links if x[1]!='/category/' ]\n",
    "\n",
    "sep_node = {'id':'/category/',\n",
    "              'title':'', \n",
    "              'entry_type':'Menu', \n",
    "              'primary_domain':'',\n",
    "              'links': menu_links}\n",
    "\n",
    "# #add SEP main menu as first node in domain_menu\n",
    "domain_menu.insert(0,sep_node)\n",
    "\n",
    "domain_object = {'nodes':domain_menu}"
   ]
  },
  {
   "cell_type": "code",
   "execution_count": 32,
   "metadata": {},
   "outputs": [],
   "source": [
    "def return_nodelinks(page_url, outlinks, inlinks):\n",
    "    \"\"\" returns the nodes linked to page_url, and identifies the direction of the link \"\"\"\n",
    "\n",
    "    nodelinks = []\n",
    "    # we need to get the common elements between outlinks and inlinks\n",
    "    # these are the dir=\"both\" links\n",
    "    outlinks_common = [value for value in outlinks if value in inlinks]\n",
    "    inlinks_common = [value for value in inlinks if value in outlinks]\n",
    "    linkdirection_both = set(outlinks_common + inlinks_common)\n",
    "\n",
    "    for link in linkdirection_both:\n",
    "        link_object = {'source': page_url,\n",
    "                       'target': link,\n",
    "                       'dir':'both'}\n",
    "        nodelinks.append(link_object)\n",
    "\n",
    "    # we then need to get the difference between the both links and the out links\n",
    "    # these are these dir='out links\n",
    "    linkdirection_out = [value for value in outlinks if value not in linkdirection_both]\n",
    "\n",
    "    for link in linkdirection_out:\n",
    "        link_object = {'source': page_url,\n",
    "                       'target': link,\n",
    "                       'dir':'out'}\n",
    "        nodelinks.append(link_object)\n",
    "\n",
    "    # we then need to get the difference between the both links and the in links\n",
    "    # these are the dir='in' links\n",
    "    linkdirection_in = [value for value in inlinks if value not in linkdirection_both]\n",
    "\n",
    "    for link in linkdirection_in:\n",
    "        link_object = {'source': page_url,\n",
    "                       'target': link,\n",
    "                       'dir':'in'}\n",
    "        nodelinks.append(link_object)\n",
    "\n",
    "    # sorted_nodelinks = sorted(nodelinks, key=(1))\n",
    "\n",
    "    sorted_nodelinks = sorted(nodelinks, key=lambda k: k['target']) \n",
    "    \n",
    "    return sorted_nodelinks\n",
    "\n",
    "\n",
    "def create_sep_network_json(sep_collection):\n",
    "    \"\"\" exports the JSON that makes up the network graph \n",
    "\n",
    "    Things to watch for in the export file: \n",
    "    1. entries with 'entries//'\n",
    "    2. depiction needs a fix at 'reference'\n",
    "    3. type theory needs a fix for 'russell'\n",
    "    4. sartre links to himself\n",
    "    \"\"\"\n",
    "    #init empty lists \n",
    "    nodes_list = []\n",
    "    links_list = []\n",
    "\n",
    "    #loop through all entries\n",
    "    for entry in tqdm(sep_collection, desc='Processing'):\n",
    "\n",
    "        page_url = entry['page_url']\n",
    "        title = entry['title']\n",
    "        first_paragraph = entry['first_paragraph']\n",
    "        inpho_data = entry['inpho_api']\n",
    "        outlinks = [value['link'] for value in entry['outlinks']]\n",
    "        inlinks = [value['link'] for value in entry['inlinks']]\n",
    "        primary_domain = entry['primary_domain']\n",
    "        domain_tags = entry['domain_tags']\n",
    "        \n",
    "        if 'thinker' in inpho_data:\n",
    "            entry_type = 'thinker'\n",
    "        else:\n",
    "            entry_type = 'idea'\n",
    "\n",
    "        num_outlinks = len(outlinks)\n",
    "        num_inlinks = len(inlinks)\n",
    "\n",
    "        node_object = { 'id': page_url, \n",
    "                        'title': title,\n",
    "                        'entry_type': entry_type,\n",
    "                        'first_paragraph': first_paragraph,\n",
    "                        'num_outlinks': num_outlinks,\n",
    "                        'num_inlinks': num_inlinks,\n",
    "                        'primary_domain': primary_domain,\n",
    "                        'domain_tags': domain_tags\n",
    "                        # 'links': return_nodelinks(page_url, outlinks, inlinks)\n",
    "                    }\n",
    "\n",
    "        nodes_list.append(node_object)\n",
    "\n",
    "        for link in outlinks:\n",
    "            if '//' not in link:\n",
    "                links_list.append({'source':entry['page_url'], 'target':link, 'targetTitle':entry['title']})\n",
    "\n",
    "    articles_object = {'nodes': nodes_list, 'links':links_list}\n",
    "    network_object = {'articles' : articles_object, 'domains': domain_object}\n",
    "    with open('static/sep_network_test.json', 'w', encoding='UTF-8') as f:\n",
    "        json.dump(network_object,f,ensure_ascii=False, indent=4)"
   ]
  },
  {
   "cell_type": "code",
   "execution_count": 33,
   "metadata": {},
   "outputs": [
    {
     "output_type": "stream",
     "name": "stderr",
     "text": "Processing: 100%|██████████| 1680/1680 [00:00<00:00, 44328.33it/s]\n"
    }
   ],
   "source": [
    "#get sep entries stored in mongo\n",
    "sep_entries = list(db.sep_data.find({}).sort('title'))\n",
    "create_sep_network_json(sep_entries)"
   ]
  },
  {
   "cell_type": "code",
   "execution_count": null,
   "metadata": {},
   "outputs": [],
   "source": []
  },
  {
   "cell_type": "code",
   "execution_count": null,
   "metadata": {},
   "outputs": [],
   "source": []
  }
 ],
 "metadata": {
  "language_info": {
   "name": "python",
   "codemirror_mode": {
    "name": "ipython",
    "version": 3
   },
   "version": "3.6.9-final"
  },
  "orig_nbformat": 2,
  "file_extension": ".py",
  "mimetype": "text/x-python",
  "name": "python",
  "npconvert_exporter": "python",
  "pygments_lexer": "ipython3",
  "version": 3,
  "kernelspec": {
   "name": "python36964bitpythondataconda8971416e9bae4e8197b8a061b72f9dc8",
   "display_name": "Python 3.6.9 64-bit ('PythonData': conda)"
  }
 },
 "nbformat": 4,
 "nbformat_minor": 2
}