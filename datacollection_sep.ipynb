{
 "nbformat": 4,
 "nbformat_minor": 2,
 "metadata": {
  "language_info": {
   "name": "python",
   "codemirror_mode": {
    "name": "ipython",
    "version": 3
   },
   "version": "3.6.9-final"
  },
  "orig_nbformat": 2,
  "file_extension": ".py",
  "mimetype": "text/x-python",
  "name": "python",
  "npconvert_exporter": "python",
  "pygments_lexer": "ipython3",
  "version": 3,
  "kernelspec": {
   "name": "python36964bitpythondataconda8971416e9bae4e8197b8a061b72f9dc8",
   "display_name": "Python 3.6.9 64-bit ('PythonData': conda)"
  }
 },
 "cells": [
  {
   "cell_type": "code",
   "execution_count": 2,
   "metadata": {},
   "outputs": [],
   "source": [
    "### THIS SCRIPT COLLECTS DATA FROM SEP and InPhO ### "
   ]
  },
  {
   "cell_type": "code",
   "execution_count": 3,
   "metadata": {},
   "outputs": [],
   "source": [
    "# import dependencies\n",
    "import time\n",
    "import pymongo\n",
    "import re\n",
    "import json\n",
    "import requests\n",
    "\n",
    "from tqdm import tqdm\n",
    "from pprint import pprint\n",
    "from pathlib import Path\n",
    "from bs4 import BeautifulSoup\n",
    "\n",
    "#import local libraries\n",
    "import lib_sepinpho as sep\n",
    "import lib_fileops as io"
   ]
  },
  {
   "cell_type": "code",
   "execution_count": 4,
   "metadata": {},
   "outputs": [],
   "source": [
    "##### INIT GLOBAL VARIABLES#####\n",
    "\n",
    "#init Mongo\n",
    "conn = 'mongodb://localhost:27017'\n",
    "client = pymongo.MongoClient(conn)\n",
    "\n",
    "#connect to database\n",
    "db = client.visualizing_sep"
   ]
  },
  {
   "cell_type": "code",
   "execution_count": null,
   "metadata": {},
   "outputs": [],
   "source": [
    "### SCRAPE TOC FROM WINTER 2019 SEP ARCHIVE ###\n",
    "### Date Completed: 3.30.2020 ###\n",
    "\n",
    "#set variable options for Winter 2019 download\n",
    "toc_collection = db.toc_2019_winter_all\n",
    "sep_edition = 'Winter_2019'\n",
    "search_url = 'https://plato.stanford.edu/archives/win2019/contents.html'\n",
    "base_url = 'https://plato.stanford.edu/archives/win2019/'\n",
    "save_as_html = 'data_collection/toc_2019_winter_all.html'\n",
    "\n",
    "print(f'Starting: SEP {sep_edition} TOC Scrape\\n')\n",
    "\n",
    "#get list of elements to save into toc_collection \n",
    "toc_elements = scrape_sep_toc(sep_edition, search_url, base_url, save_as_html)\n",
    "\n",
    "#update MonogDB collection\n",
    "toc_collection.insert_many(toc_elements)\n",
    "\n",
    "print(f'Success! Completed SEP {sep_edition} TOC Scrape\\n')"
   ]
  },
  {
   "cell_type": "code",
   "execution_count": 5,
   "metadata": {},
   "outputs": [
    {
     "output_type": "stream",
     "name": "stdout",
     "text": "Starting: SEP Spring_2020 TOC Scrape\n\nSuccess! Completed SEP Spring_2020 TOC Scrape\n\n"
    }
   ],
   "source": [
    "### SCRAPE WHATS NEW FROM SPRING 2020 SEP ARCHIVE ###\n",
    "### Downloaded Spring 2020 updates: completed 4.10.2020 ###\n",
    "\n",
    "#set variable options for Spring 2020 download\n",
    "toc_collection = db.toc_2020_spring_new\n",
    "sep_edition = 'Spring_2020'\n",
    "search_url = 'https://plato.stanford.edu/archives/spr2020/new.html'\n",
    "base_url = 'https://plato.stanford.edu/archives/spr2020/'\n",
    "save_as_html = 'data_collection/toc_2020_spring_new.html'\n",
    "\n",
    "print(f'Starting: SEP {sep_edition} TOC Scrape\\n')\n",
    "\n",
    "toc_elements = sep.scrape_sep_toc(sep_edition, search_url, base_url, save_as_html)\n",
    "toc_collection.insert_many(toc_elements)\n",
    "\n",
    "print(f'Success! Completed SEP {sep_edition} TOC Scrape\\n')\n"
   ]
  },
  {
   "cell_type": "code",
   "execution_count": 6,
   "metadata": {},
   "outputs": [],
   "source": [
    "### DOWNLOAD WINTER 2019 SEP ARCHIVE, AND STORE THEM LOCALLY###\n",
    "# Winter 2019 Archive: Completed 1/30/2020. This took 7 hours, so don't do it again!\n",
    "# Updated the code on 4.10.2020 to make the download process cleaner, but the files were NOT re-downloaded\n",
    "\n",
    "#set variable options for Winter 2019 download\n",
    "toc_collection = db.toc_2019_winter_all\n",
    "toc_pages = list(toc_collection.find().sort('link_url'))\n",
    "save_as_directory = 'data_collection/html_files/sep_2019_all/'\n",
    "\n",
    "#download SEP pages from archive\n",
    "#sep.download_sep_pages(toc_pages,save_as_directory)"
   ]
  },
  {
   "cell_type": "code",
   "execution_count": 6,
   "metadata": {},
   "outputs": [
    {
     "output_type": "stream",
     "name": "stderr",
     "text": "Processing: 100%|██████████| 67/67 [14:33<00:00, 13.04s/it]\n"
    }
   ],
   "source": [
    "### DOWNLOAD SPRING 2020 WHATS NEW FILES, AND STORE THEM LOCALLY###\n",
    "#Spring 2020 Archive: Completed 4.10.2020#\n",
    "\n",
    "#set variable options for Spring 2020 download\n",
    "toc_collection = db.toc_2020_spring_new\n",
    "toc_pages = list(toc_collection.find().sort('link_url'))\n",
    "save_as_directory = 'data_collection/html_files/sep_2020_spring/'\n",
    "\n",
    "#download SEP pages from archive\n",
    "sep.download_sep_pages(toc_pages,save_as_directory)"
   ]
  },
  {
   "cell_type": "code",
   "execution_count": 4,
   "metadata": {
    "tags": [
     "outputPrepend",
     "outputPrepend",
     "outputPrepend",
     "outputPrepend",
     "outputPrepend",
     "outputPrepend",
     "outputPrepend",
     "outputPrepend",
     "outputPrepend",
     "outputPrepend",
     "outputPrepend",
     "outputPrepend",
     "outputPrepend",
     "outputPrepend",
     "outputPrepend",
     "outputPrepend",
     "outputPrepend",
     "outputPrepend",
     "outputPrepend",
     "outputPrepend",
     "outputPrepend",
     "outputPrepend",
     "outputPrepend",
     "outputPrepend",
     "outputPrepend",
     "outputPrepend",
     "outputPrepend",
     "outputPrepend",
     "outputPrepend",
     "outputPrepend",
     "outputPrepend",
     "outputPrepend",
     "outputPrepend",
     "outputPrepend",
     "outputPrepend",
     "outputPrepend",
     "outputPrepend",
     "outputPrepend",
     "outputPrepend",
     "outputPrepend"
    ]
   },
   "outputs": [
    {
     "output_type": "stream",
     "name": "stderr",
     "text": "ea/5381.json\n  7%|▋         | 15/226 [01:03<14:13,  4.05s/it]http://inpho.cogs.indiana.edu/thinker/3887.json\n  7%|▋         | 16/226 [01:06<14:02,  4.01s/it]http://inpho.cogs.indiana.edu/thinker/3897.json\n  8%|▊         | 17/226 [01:10<13:59,  4.02s/it]http://inpho.cogs.indiana.edu/thinker/3237.json\n  8%|▊         | 18/226 [01:15<13:56,  4.02s/it]http://inpho.cogs.indiana.edu/thinker/3903.json\n  8%|▊         | 19/226 [01:18<13:48,  4.00s/it]http://inpho.cogs.indiana.edu/thinker/4101.json\n  9%|▉         | 20/226 [01:22<13:38,  3.98s/it]http://inpho.cogs.indiana.edu/idea/1257.json\n  9%|▉         | 21/226 [01:27<13:54,  4.07s/it]http://inpho.cogs.indiana.edu/idea/5541.json\n 10%|▉         | 22/226 [01:31<13:47,  4.06s/it]http://inpho.cogs.indiana.edu/idea/1256.json\n 10%|█         | 23/226 [01:35<14:27,  4.27s/it]http://inpho.cogs.indiana.edu/idea/2172.json\n 11%|█         | 24/226 [01:40<14:34,  4.33s/it]http://inpho.cogs.indiana.edu/idea/5550.json\n 11%|█         | 25/226 [01:45<15:09,  4.52s/it]http://inpho.cogs.indiana.edu/idea/1255.json\n 12%|█▏        | 26/226 [01:49<14:31,  4.36s/it]http://inpho.cogs.indiana.edu/idea/5477.json\n 12%|█▏        | 27/226 [01:53<14:01,  4.23s/it]http://inpho.cogs.indiana.edu/idea/5644.json\n 12%|█▏        | 28/226 [01:57<13:46,  4.17s/it]http://inpho.cogs.indiana.edu/idea/2173.json\n 13%|█▎        | 29/226 [02:01<13:31,  4.12s/it]http://inpho.cogs.indiana.edu/idea/5702.json\n 13%|█▎        | 30/226 [02:05<13:19,  4.08s/it]http://inpho.cogs.indiana.edu/idea/685.json\n 14%|█▎        | 31/226 [02:09<13:17,  4.09s/it]http://inpho.cogs.indiana.edu/taxonomy/2391.json\n 14%|█▍        | 32/226 [02:14<13:56,  4.31s/it]http://inpho.cogs.indiana.edu/idea/5526.json\n 15%|█▍        | 33/226 [02:18<13:29,  4.19s/it]http://inpho.cogs.indiana.edu/idea/5544.json\n 15%|█▌        | 34/226 [02:22<13:28,  4.21s/it]http://inpho.cogs.indiana.edu/idea/2174.json\n 15%|█▌        | 35/226 [02:26<13:12,  4.15s/it]http://inpho.cogs.indiana.edu/idea/1714.json\n 16%|█▌        | 36/226 [02:30<13:10,  4.16s/it]http://inpho.cogs.indiana.edu/idea/1236.json\n 16%|█▋        | 37/226 [02:34<13:08,  4.17s/it]http://inpho.cogs.indiana.edu/idea/1414.json\n 17%|█▋        | 38/226 [02:39<13:48,  4.41s/it]http://inpho.cogs.indiana.edu/idea/6233.json\n 17%|█▋        | 39/226 [02:44<13:46,  4.42s/it]http://inpho.cogs.indiana.edu/idea/5586.json\n 18%|█▊        | 40/226 [02:48<13:20,  4.30s/it]http://inpho.cogs.indiana.edu/idea/531.json\n 18%|█▊        | 41/226 [02:52<13:09,  4.27s/it]http://inpho.cogs.indiana.edu/idea/1715.json\n 19%|█▊        | 42/226 [02:56<13:08,  4.29s/it]http://inpho.cogs.indiana.edu/thinker/3919.json\n 19%|█▉        | 43/226 [03:01<13:01,  4.27s/it]http://inpho.cogs.indiana.edu/idea/6347.json\n 19%|█▉        | 44/226 [03:05<12:49,  4.23s/it]Error: No InPhO entry\n 20%|█▉        | 45/226 [03:09<12:24,  4.12s/it]http://inpho.cogs.indiana.edu/idea/1225.json\n 20%|██        | 46/226 [03:13<12:17,  4.10s/it]http://inpho.cogs.indiana.edu/idea/1622.json\n 21%|██        | 47/226 [03:17<12:30,  4.19s/it]http://inpho.cogs.indiana.edu/idea/1224.json\n 21%|██        | 48/226 [03:21<12:36,  4.25s/it]http://inpho.cogs.indiana.edu/idea/1526.json\n 22%|██▏       | 49/226 [03:26<12:25,  4.21s/it]http://inpho.cogs.indiana.edu/idea/1524.json\n 22%|██▏       | 50/226 [03:30<12:44,  4.34s/it]http://inpho.cogs.indiana.edu/idea/1213.json\n 23%|██▎       | 51/226 [03:34<12:32,  4.30s/it]http://inpho.cogs.indiana.edu/idea/1200.json\n 23%|██▎       | 52/226 [03:39<12:30,  4.31s/it]http://inpho.cogs.indiana.edu/idea/1199.json\n 23%|██▎       | 53/226 [03:43<12:26,  4.31s/it]http://inpho.cogs.indiana.edu/idea/1198.json\n 24%|██▍       | 54/226 [03:48<12:35,  4.39s/it]http://inpho.cogs.indiana.edu/idea/1188.json\n 24%|██▍       | 55/226 [03:52<12:19,  4.32s/it]http://inpho.cogs.indiana.edu/idea/1716.json\n 25%|██▍       | 56/226 [03:56<12:13,  4.31s/it]http://inpho.cogs.indiana.edu/idea/1187.json\n 25%|██▌       | 57/226 [04:00<11:59,  4.26s/it]http://inpho.cogs.indiana.edu/idea/1717.json\n 26%|██▌       | 58/226 [04:04<11:57,  4.27s/it]http://inpho.cogs.indiana.edu/idea/1186.json\n 26%|██▌       | 59/226 [04:09<11:55,  4.29s/it]http://inpho.cogs.indiana.edu/idea/1711.json\n 27%|██▋       | 60/226 [04:13<12:07,  4.38s/it]http://inpho.cogs.indiana.edu/idea/1927.json\n 27%|██▋       | 61/226 [04:18<11:52,  4.32s/it]http://inpho.cogs.indiana.edu/thinker/3932.json\n 27%|██▋       | 62/226 [04:22<11:31,  4.22s/it]http://inpho.cogs.indiana.edu/thinker/3935.json\n 28%|██▊       | 63/226 [04:25<11:13,  4.13s/it]http://inpho.cogs.indiana.edu/idea/2175.json\n 28%|██▊       | 64/226 [04:30<11:05,  4.11s/it]http://inpho.cogs.indiana.edu/idea/2176.json\n 29%|██▉       | 65/226 [04:33<10:53,  4.06s/it]http://inpho.cogs.indiana.edu/idea/1702.json\n 29%|██▉       | 66/226 [04:37<10:45,  4.04s/it]http://inpho.cogs.indiana.edu/idea/2177.json\n 30%|██▉       | 67/226 [04:41<10:41,  4.03s/it]http://inpho.cogs.indiana.edu/idea/1172.json\n 30%|███       | 68/226 [04:45<10:35,  4.02s/it]http://inpho.cogs.indiana.edu/thinker/3936.json\n 31%|███       | 69/226 [04:50<10:38,  4.07s/it]http://inpho.cogs.indiana.edu/idea/6344.json\n 31%|███       | 70/226 [04:54<10:42,  4.12s/it]http://inpho.cogs.indiana.edu/idea/1159.json\n 31%|███▏      | 71/226 [04:58<10:35,  4.10s/it]http://inpho.cogs.indiana.edu/thinker/6231.json\n 32%|███▏      | 72/226 [05:02<10:25,  4.06s/it]http://inpho.cogs.indiana.edu/idea/1157.json\n 32%|███▏      | 73/226 [05:07<10:48,  4.24s/it]http://inpho.cogs.indiana.edu/idea/5575.json\n 33%|███▎      | 74/226 [05:11<10:47,  4.26s/it]http://inpho.cogs.indiana.edu/idea/1156.json\n 33%|███▎      | 75/226 [05:15<10:39,  4.23s/it]http://inpho.cogs.indiana.edu/idea/1718.json\n 34%|███▎      | 76/226 [05:19<10:39,  4.26s/it]http://inpho.cogs.indiana.edu/thinker/3948.json\n 34%|███▍      | 77/226 [05:24<11:13,  4.52s/it]http://inpho.cogs.indiana.edu/thinker/3949.json\n 35%|███▍      | 78/226 [05:29<10:46,  4.37s/it]http://inpho.cogs.indiana.edu/idea/2178.json\n 35%|███▍      | 79/226 [05:33<10:57,  4.48s/it]http://inpho.cogs.indiana.edu/thinker/3952.json\n 35%|███▌      | 80/226 [05:38<10:47,  4.44s/it]http://inpho.cogs.indiana.edu/idea/548.json\n 36%|███▌      | 81/226 [05:42<10:53,  4.51s/it]http://inpho.cogs.indiana.edu/thinker/3963.json\n 36%|███▋      | 82/226 [05:46<10:36,  4.42s/it]http://inpho.cogs.indiana.edu/thinker/3965.json\n 37%|███▋      | 83/226 [05:51<10:34,  4.44s/it]http://inpho.cogs.indiana.edu/idea/2179.json\n 37%|███▋      | 84/226 [05:55<10:19,  4.36s/it]http://inpho.cogs.indiana.edu/idea/6339.json\n 38%|███▊      | 85/226 [05:59<10:05,  4.30s/it]http://inpho.cogs.indiana.edu/idea/5596.json\n 38%|███▊      | 86/226 [06:04<10:01,  4.30s/it]http://inpho.cogs.indiana.edu/thinker/3967.json\n 38%|███▊      | 87/226 [06:08<09:53,  4.27s/it]http://inpho.cogs.indiana.edu/thinker/3968.json\n 39%|███▉      | 88/226 [06:12<09:48,  4.27s/it]http://inpho.cogs.indiana.edu/idea/1504.json\n 39%|███▉      | 89/226 [06:17<10:03,  4.41s/it]http://inpho.cogs.indiana.edu/idea/1640.json\n 40%|███▉      | 90/226 [06:21<09:52,  4.36s/it]http://inpho.cogs.indiana.edu/thinker/4202.json\n 40%|████      | 91/226 [06:25<09:47,  4.35s/it]http://inpho.cogs.indiana.edu/idea/1710.json\n 41%|████      | 92/226 [06:30<09:43,  4.36s/it]Error: No InPhO entry\n 41%|████      | 93/226 [06:34<09:20,  4.21s/it]http://inpho.cogs.indiana.edu/idea/5619.json\n 42%|████▏     | 94/226 [06:38<09:22,  4.26s/it]http://inpho.cogs.indiana.edu/taxonomy/2213.json\n 42%|████▏     | 95/226 [06:42<09:26,  4.32s/it]http://inpho.cogs.indiana.edu/thinker/6336.json\n 42%|████▏     | 96/226 [06:47<09:22,  4.33s/it]http://inpho.cogs.indiana.edu/idea/1119.json\n 43%|████▎     | 97/226 [06:51<09:15,  4.30s/it]http://inpho.cogs.indiana.edu/thinker/3976.json\n 43%|████▎     | 98/226 [06:55<09:05,  4.26s/it]http://inpho.cogs.indiana.edu/idea/5686.json\n 44%|████▍     | 99/226 [06:59<08:51,  4.18s/it]http://inpho.cogs.indiana.edu/idea/1111.json\n 44%|████▍     | 100/226 [07:03<08:50,  4.21s/it]http://inpho.cogs.indiana.edu/thinker/3986.json\n 45%|████▍     | 101/226 [07:08<08:49,  4.23s/it]http://inpho.cogs.indiana.edu/thinker/3989.json\n 45%|████▌     | 102/226 [07:12<08:42,  4.21s/it]http://inpho.cogs.indiana.edu/idea/2005.json\n 46%|████▌     | 103/226 [07:16<08:32,  4.17s/it]http://inpho.cogs.indiana.edu/idea/1482.json\n 46%|████▌     | 104/226 [07:21<08:44,  4.30s/it]http://inpho.cogs.indiana.edu/idea/1109.json\n 46%|████▋     | 105/226 [07:25<08:26,  4.19s/it]http://inpho.cogs.indiana.edu/thinker/3996.json\n 47%|████▋     | 106/226 [07:29<08:27,  4.23s/it]http://inpho.cogs.indiana.edu/idea/1090.json\n 47%|████▋     | 107/226 [07:33<08:18,  4.19s/it]http://inpho.cogs.indiana.edu/idea/5555.json\n 48%|████▊     | 108/226 [07:37<08:15,  4.20s/it]http://inpho.cogs.indiana.edu/idea/562.json\n 48%|████▊     | 109/226 [07:41<08:10,  4.20s/it]http://inpho.cogs.indiana.edu/idea/1538.json\n 49%|████▊     | 110/226 [07:45<08:01,  4.15s/it]http://inpho.cogs.indiana.edu/idea/6338.json\n 49%|████▉     | 111/226 [07:50<08:21,  4.36s/it]http://inpho.cogs.indiana.edu/idea/2180.json\n 50%|████▉     | 112/226 [07:54<08:04,  4.25s/it]http://inpho.cogs.indiana.edu/thinker/4006.json\n 50%|█████     | 113/226 [07:58<07:58,  4.24s/it]http://inpho.cogs.indiana.edu/idea/5528.json\n 50%|█████     | 114/226 [08:03<07:52,  4.22s/it]http://inpho.cogs.indiana.edu/idea/5350.json\n 51%|█████     | 115/226 [08:07<07:39,  4.14s/it]http://inpho.cogs.indiana.edu/idea/5681.json\n 51%|█████▏    | 116/226 [08:11<07:32,  4.11s/it]http://inpho.cogs.indiana.edu/thinker/3404.json\n 52%|█████▏    | 117/226 [08:15<07:27,  4.10s/it]http://inpho.cogs.indiana.edu/thinker/3601.json\n 52%|█████▏    | 118/226 [08:19<07:19,  4.07s/it]http://inpho.cogs.indiana.edu/thinker/4014.json\n 53%|█████▎    | 119/226 [08:23<07:15,  4.07s/it]http://inpho.cogs.indiana.edu/idea/1089.json\n 53%|█████▎    | 120/226 [08:27<07:22,  4.18s/it]http://inpho.cogs.indiana.edu/thinker/3285.json\n 54%|█████▎    | 121/226 [08:31<07:14,  4.14s/it]http://inpho.cogs.indiana.edu/idea/1078.json\n 54%|█████▍    | 122/226 [08:35<07:05,  4.09s/it]http://inpho.cogs.indiana.edu/idea/1067.json\n 54%|█████▍    | 123/226 [08:39<07:03,  4.11s/it]http://inpho.cogs.indiana.edu/idea/1066.json\n 55%|█████▍    | 124/226 [08:44<07:07,  4.19s/it]http://inpho.cogs.indiana.edu/idea/1053.json\n 55%|█████▌    | 125/226 [08:48<06:59,  4.15s/it]http://inpho.cogs.indiana.edu/taxonomy/2223.json\n 56%|█████▌    | 126/226 [08:52<06:59,  4.20s/it]http://inpho.cogs.indiana.edu/idea/1488.json\n 56%|█████▌    | 127/226 [08:57<07:16,  4.41s/it]http://inpho.cogs.indiana.edu/thinker/4019.json\n 57%|█████▋    | 128/226 [09:02<07:31,  4.61s/it]http://inpho.cogs.indiana.edu/idea/1995.json\n 57%|█████▋    | 129/226 [09:07<07:47,  4.81s/it]http://inpho.cogs.indiana.edu/idea/1049.json\n 58%|█████▊    | 130/226 [09:11<07:21,  4.60s/it]http://inpho.cogs.indiana.edu/idea/1719.json\n 58%|█████▊    | 131/226 [09:16<07:03,  4.46s/it]http://inpho.cogs.indiana.edu/idea/5632.json\n 58%|█████▊    | 132/226 [09:20<06:55,  4.42s/it]http://inpho.cogs.indiana.edu/idea/1528.json\n 59%|█████▉    | 133/226 [09:24<06:45,  4.36s/it]http://inpho.cogs.indiana.edu/idea/569.json\n 59%|█████▉    | 134/226 [09:28<06:34,  4.29s/it]http://inpho.cogs.indiana.edu/idea/5533.json\n 60%|█████▉    | 135/226 [09:32<06:24,  4.23s/it]http://inpho.cogs.indiana.edu/idea/5543.json\n 60%|██████    | 136/226 [09:37<06:19,  4.21s/it]http://inpho.cogs.indiana.edu/idea/1556.json\n 61%|██████    | 137/226 [09:41<06:16,  4.23s/it]http://inpho.cogs.indiana.edu/idea/1037.json\n 61%|██████    | 138/226 [09:45<06:13,  4.24s/it]http://inpho.cogs.indiana.edu/idea/1592.json\n 62%|██████▏   | 139/226 [09:50<06:15,  4.31s/it]http://inpho.cogs.indiana.edu/idea/1452.json\n 62%|██████▏   | 140/226 [09:54<06:10,  4.31s/it]http://inpho.cogs.indiana.edu/idea/1025.json\n 62%|██████▏   | 141/226 [09:58<05:58,  4.22s/it]http://inpho.cogs.indiana.edu/idea/1024.json\n 63%|██████▎   | 142/226 [10:02<05:56,  4.24s/it]http://inpho.cogs.indiana.edu/idea/1023.json\n 63%|██████▎   | 143/226 [10:06<05:52,  4.25s/it]http://inpho.cogs.indiana.edu/idea/1014.json\n 64%|██████▎   | 144/226 [10:10<05:43,  4.19s/it]http://inpho.cogs.indiana.edu/idea/5474.json\n 64%|██████▍   | 145/226 [10:15<05:38,  4.17s/it]http://inpho.cogs.indiana.edu/idea/6310.json\n 65%|██████▍   | 146/226 [10:19<05:30,  4.14s/it]http://inpho.cogs.indiana.edu/idea/1013.json\n 65%|██████▌   | 147/226 [10:23<05:29,  4.17s/it]http://inpho.cogs.indiana.edu/idea/5351.json\n 65%|██████▌   | 148/226 [10:27<05:34,  4.29s/it]http://inpho.cogs.indiana.edu/taxonomy/2240.json\n 66%|██████▌   | 149/226 [10:32<05:41,  4.43s/it]http://inpho.cogs.indiana.edu/idea/1003.json\n 66%|██████▋   | 150/226 [10:36<05:29,  4.34s/it]http://inpho.cogs.indiana.edu/idea/1525.json\n 67%|██████▋   | 151/226 [10:41<05:21,  4.28s/it]http://inpho.cogs.indiana.edu/thinker/4031.json\n 67%|██████▋   | 152/226 [10:45<05:12,  4.22s/it]http://inpho.cogs.indiana.edu/idea/1002.json\n 68%|██████▊   | 153/226 [10:49<05:12,  4.29s/it]http://inpho.cogs.indiana.edu/idea/990.json\n 68%|██████▊   | 154/226 [10:54<05:29,  4.58s/it]http://inpho.cogs.indiana.edu/thinker/4038.json\n 69%|██████▊   | 155/226 [11:00<05:44,  4.85s/it]http://inpho.cogs.indiana.edu/thinker/4041.json\n 69%|██████▉   | 156/226 [11:05<05:39,  4.85s/it]http://inpho.cogs.indiana.edu/idea/5382.json\n 69%|██████▉   | 157/226 [11:11<06:02,  5.26s/it]http://inpho.cogs.indiana.edu/idea/5463.json\n 70%|██████▉   | 158/226 [11:16<05:55,  5.23s/it]http://inpho.cogs.indiana.edu/idea/5464.json\n 70%|███████   | 159/226 [11:21<05:52,  5.26s/it]http://inpho.cogs.indiana.edu/idea/1424.json\n 71%|███████   | 160/226 [11:27<06:01,  5.47s/it]http://inpho.cogs.indiana.edu/idea/5646.json\n 71%|███████   | 161/226 [11:33<05:55,  5.47s/it]http://inpho.cogs.indiana.edu/taxonomy/2413.json\n 72%|███████▏  | 162/226 [11:39<05:58,  5.60s/it]http://inpho.cogs.indiana.edu/idea/5383.json\n 72%|███████▏  | 163/226 [11:45<06:15,  5.96s/it]http://inpho.cogs.indiana.edu/idea/1507.json\n 73%|███████▎  | 164/226 [11:53<06:43,  6.52s/it]http://inpho.cogs.indiana.edu/thinker/3362.json\n 73%|███████▎  | 165/226 [11:59<06:25,  6.32s/it]http://inpho.cogs.indiana.edu/idea/989.json\n 73%|███████▎  | 166/226 [12:04<05:58,  5.98s/it]http://inpho.cogs.indiana.edu/idea/2181.json\n 74%|███████▍  | 167/226 [12:10<05:45,  5.85s/it]http://inpho.cogs.indiana.edu/idea/1522.json\n 74%|███████▍  | 168/226 [12:16<05:45,  5.96s/it]http://inpho.cogs.indiana.edu/thinker/4053.json\n 75%|███████▍  | 169/226 [12:21<05:26,  5.73s/it]http://inpho.cogs.indiana.edu/idea/1599.json\n 75%|███████▌  | 170/226 [12:26<04:59,  5.34s/it]http://inpho.cogs.indiana.edu/idea/1306.json\n 76%|███████▌  | 171/226 [12:31<04:51,  5.31s/it]http://inpho.cogs.indiana.edu/idea/928.json\n 76%|███████▌  | 172/226 [12:36<04:44,  5.27s/it]http://inpho.cogs.indiana.edu/idea/754.json\n 77%|███████▋  | 173/226 [12:44<05:16,  5.96s/it]http://inpho.cogs.indiana.edu/thinker/4061.json\n 77%|███████▋  | 174/226 [12:48<04:41,  5.41s/it]http://inpho.cogs.indiana.edu/idea/6290.json\n 77%|███████▋  | 175/226 [12:53<04:27,  5.25s/it]http://inpho.cogs.indiana.edu/thinker/4070.json\n 78%|███████▊  | 176/226 [12:57<04:03,  4.87s/it]http://inpho.cogs.indiana.edu/school_of_thought/5390.json\n 78%|███████▊  | 177/226 [13:01<03:51,  4.73s/it]http://inpho.cogs.indiana.edu/thinker/4075.json\n 79%|███████▉  | 178/226 [13:06<03:45,  4.71s/it]http://inpho.cogs.indiana.edu/thinker/4078.json\n 79%|███████▉  | 179/226 [13:11<03:54,  4.99s/it]http://inpho.cogs.indiana.edu/idea/1316.json\n 80%|███████▉  | 180/226 [13:16<03:47,  4.95s/it]http://inpho.cogs.indiana.edu/idea/5439.json\n 80%|████████  | 181/226 [13:22<03:50,  5.12s/it]http://inpho.cogs.indiana.edu/idea/5660.json\n 81%|████████  | 182/226 [13:28<03:55,  5.36s/it]http://inpho.cogs.indiana.edu/thinker/2790.json\n 81%|████████  | 183/226 [13:33<03:43,  5.21s/it]http://inpho.cogs.indiana.edu/thinker/3563.json\n 81%|████████▏ | 184/226 [13:37<03:23,  4.85s/it]http://inpho.cogs.indiana.edu/idea/1481.json\n 82%|████████▏ | 185/226 [13:42<03:24,  4.98s/it]http://inpho.cogs.indiana.edu/thinker/4097.json\n 82%|████████▏ | 186/226 [13:46<03:12,  4.82s/it]http://inpho.cogs.indiana.edu/idea/1532.json\n 83%|████████▎ | 187/226 [13:50<02:59,  4.59s/it]http://inpho.cogs.indiana.edu/thinker/4099.json\n 83%|████████▎ | 188/226 [13:54<02:47,  4.41s/it]http://inpho.cogs.indiana.edu/idea/1331.json\n 84%|████████▎ | 189/226 [13:58<02:40,  4.34s/it]http://inpho.cogs.indiana.edu/thinker/3839.json\n 84%|████████▍ | 190/226 [14:03<02:34,  4.29s/it]http://inpho.cogs.indiana.edu/thinker/4108.json\n 85%|████████▍ | 191/226 [14:08<02:42,  4.64s/it]http://inpho.cogs.indiana.edu/thinker/4110.json\n 85%|████████▍ | 192/226 [14:12<02:31,  4.46s/it]http://inpho.cogs.indiana.edu/thinker/4113.json\n 85%|████████▌ | 193/226 [14:16<02:24,  4.37s/it]http://inpho.cogs.indiana.edu/thinker/3255.json\n 86%|████████▌ | 194/226 [14:20<02:16,  4.26s/it]http://inpho.cogs.indiana.edu/thinker/4146.json\n 86%|████████▋ | 195/226 [14:25<02:14,  4.32s/it]http://inpho.cogs.indiana.edu/thinker/4117.json\n 87%|████████▋ | 196/226 [14:29<02:09,  4.31s/it]http://inpho.cogs.indiana.edu/thinker/4119.json\n 87%|████████▋ | 197/226 [14:33<02:03,  4.26s/it]http://inpho.cogs.indiana.edu/thinker/3819.json\n 88%|████████▊ | 198/226 [14:37<01:58,  4.22s/it]http://inpho.cogs.indiana.edu/thinker/3313.json\n 88%|████████▊ | 199/226 [14:42<01:53,  4.20s/it]http://inpho.cogs.indiana.edu/thinker/5653.json\n 88%|████████▊ | 200/226 [14:45<01:47,  4.13s/it]http://inpho.cogs.indiana.edu/thinker/4123.json\n 89%|████████▉ | 201/226 [14:50<01:42,  4.11s/it]http://inpho.cogs.indiana.edu/thinker/5515.json\n 89%|████████▉ | 202/226 [14:54<01:37,  4.08s/it]http://inpho.cogs.indiana.edu/thinker/4125.json\n 90%|████████▉ | 203/226 [14:58<01:34,  4.11s/it]http://inpho.cogs.indiana.edu/idea/1544.json\n 90%|█████████ | 204/226 [15:03<01:37,  4.41s/it]http://inpho.cogs.indiana.edu/idea/1342.json\n 91%|█████████ | 205/226 [15:07<01:31,  4.34s/it]http://inpho.cogs.indiana.edu/idea/1341.json\n 91%|█████████ | 206/226 [15:11<01:24,  4.25s/it]http://inpho.cogs.indiana.edu/idea/2182.json\n 92%|█████████▏| 207/226 [15:15<01:21,  4.28s/it]http://inpho.cogs.indiana.edu/thinker/4132.json\n 92%|█████████▏| 208/226 [15:20<01:17,  4.28s/it]http://inpho.cogs.indiana.edu/thinker/4133.json\n 92%|█████████▏| 209/226 [15:24<01:13,  4.30s/it]http://inpho.cogs.indiana.edu/thinker/4134.json\n 93%|█████████▎| 210/226 [15:28<01:07,  4.24s/it]http://inpho.cogs.indiana.edu/thinker/4137.json\n 93%|█████████▎| 211/226 [15:32<01:02,  4.15s/it]http://inpho.cogs.indiana.edu/idea/5611.json\n 94%|█████████▍| 212/226 [15:36<00:58,  4.18s/it]http://inpho.cogs.indiana.edu/idea/1708.json\n 94%|█████████▍| 213/226 [15:40<00:54,  4.18s/it]http://inpho.cogs.indiana.edu/thinker/4142.json\n 95%|█████████▍| 214/226 [15:45<00:49,  4.14s/it]http://inpho.cogs.indiana.edu/idea/1707.json\n 95%|█████████▌| 215/226 [15:49<00:45,  4.10s/it]http://inpho.cogs.indiana.edu/thinker/4147.json\n 96%|█████████▌| 216/226 [15:53<00:40,  4.09s/it]http://inpho.cogs.indiana.edu/thinker/4148.json\n 96%|█████████▌| 217/226 [15:57<00:36,  4.07s/it]http://inpho.cogs.indiana.edu/thinker/4149.json\n 96%|█████████▋| 218/226 [16:01<00:32,  4.06s/it]http://inpho.cogs.indiana.edu/thinker/4203.json\n 97%|█████████▋| 219/226 [16:05<00:28,  4.08s/it]http://inpho.cogs.indiana.edu/thinker/5476.json\n 97%|█████████▋| 220/226 [16:09<00:24,  4.10s/it]http://inpho.cogs.indiana.edu/thinker/4161.json\n 98%|█████████▊| 221/226 [16:13<00:20,  4.09s/it]http://inpho.cogs.indiana.edu/thinker/4166.json\n 98%|█████████▊| 222/226 [16:17<00:16,  4.08s/it]http://inpho.cogs.indiana.edu/idea/5523.json\n 99%|█████████▊| 223/226 [16:21<00:12,  4.09s/it]http://inpho.cogs.indiana.edu/thinker/4173.json\n 99%|█████████▉| 224/226 [16:25<00:08,  4.13s/it]http://inpho.cogs.indiana.edu/thinker/4195.json\n100%|█████████▉| 225/226 [16:29<00:04,  4.11s/it]http://inpho.cogs.indiana.edu/idea/1374.json\n100%|██████████| 226/226 [16:34<00:00,  4.40s/it]\n"
    }
   ],
   "source": [
    "### PARSING LOCAL SEP FILES ###\n",
    "\n",
    "### After downloading the Winter 2019 archive and the Spring 2020 updates, I moved the updates into the same folder, and then ran the parsing script on all of the files at once. This replaced the prior verion of the parsed data objects in MongoDB###\n",
    "\n",
    "#set variable options for parsing\n",
    "collection_to_update = db.sep_data\n",
    "file_path='data_collection/html_files/sep_2019_all'\n",
    "file_type='*.html'\n",
    "sep_files = io.get_local_files(file_path,file_type)\n",
    "for sep_file in tqdm(sep_files):\n",
    "    try:\n",
    "        sep_object = sep.parse_sep_file(sep_file)\n",
    "        collection_to_update.insert_one(sep_object)\n",
    "    except:\n",
    "        print(f'Failed at: @{sep_file.name}')\n",
    "        \n",
    "    time.sleep(3)\n",
    "\n"
   ]
  },
  {
   "cell_type": "code",
   "execution_count": 5,
   "metadata": {},
   "outputs": [
    {
     "output_type": "execute_result",
     "data": {
      "text/plain": "'title_1'"
     },
     "metadata": {},
     "execution_count": 5
    }
   ],
   "source": [
    "db.sep_data.create_index('title')"
   ]
  },
  {
   "cell_type": "code",
   "execution_count": null,
   "metadata": {},
   "outputs": [],
   "source": []
  }
 ]
}