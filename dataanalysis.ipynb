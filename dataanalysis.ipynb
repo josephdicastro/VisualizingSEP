{
 "cells": [
  {
   "cell_type": "code",
   "execution_count": 1,
   "metadata": {},
   "outputs": [],
   "source": [
    " import pymongo\n",
    " \n",
    " from operator import itemgetter\n",
    " from pprint import pprint\n",
    " \n",
    ""
   ]
  },
  {
   "cell_type": "code",
   "execution_count": 2,
   "metadata": {},
   "outputs": [],
   "source": [
    "##### MONGO VARIABLES#####\n",
    "\n",
    "conn = 'mongodb://localhost:27017'\n",
    "client = pymongo.MongoClient(conn)\n",
    "db = client.visualizing_sep"
   ]
  },
  {
   "cell_type": "code",
   "execution_count": 3,
   "metadata": {},
   "outputs": [],
   "source": [
    "\n",
    "def get_link_counts(type_of_link, sort_order):\n",
    "\n",
    "    docs = db.sep_data.find({})\n",
    "    links_per_title = [(doc['title'], len(doc[type_of_link])) for doc in docs]\n",
    "    sorted_links = sorted(links_per_title, key=itemgetter(1,0), reverse=sort_order)\n",
    "x\n",
    "    return sorted_links\n",
    "\n"
   ]
  },
  {
   "cell_type": "code",
   "execution_count": 4,
   "metadata": {
    "tags": [
     "outputPrepend"
    ]
   },
   "outputs": [
    {
     "output_type": "stream",
     "name": "stdout",
     "text": "[('Medieval Philosophy', 82),\n ('John Rawls', 60),\n ('Feminist Philosophy', 56),\n ('Scientific Method', 55),\n ('Genetics', 53),\n ('The Unity of Science', 49),\n ('Idealism', 49),\n ('Trinity', 45),\n ('Object', 45),\n ('Reductionism in Biology', 43)]\n"
    }
   ],
   "source": [
    "count_outlinks = get_link_counts('outlinks',True)\n",
    "count_inlinks = get_link_counts('inlinks',True)\n",
    "\n",
    "pprint(count_outlinks[0:10])"
   ]
  },
  {
   "cell_type": "code",
   "execution_count": 17,
   "metadata": {},
   "outputs": [],
   "source": [
    "def get_inpho_label(inpho_id):\n",
    "    \"\"\" This function returns the label value for a specific inpho document, given its id \"\"\"\n",
    "\n",
    "    #list comprehension to pull the value of the field out from the cursor projection\n",
    "    label = [doc['label'] \n",
    "             for doc in db.inpho_data.find(\n",
    "                                filter={'ID':inpho_id},\n",
    "                                projection={'label':1,'_id':0})]\n",
    "\n",
    "    #return the value as a string, not a list item\n",
    "    return label[0]\n"
   ]
  },
  {
   "cell_type": "code",
   "execution_count": 28,
   "metadata": {},
   "outputs": [],
   "source": []
  },
  {
   "cell_type": "code",
   "execution_count": 41,
   "metadata": {},
   "outputs": [
    {
     "output_type": "execute_result",
     "data": {
      "text/plain": "{'ok': 1.0}"
     },
     "metadata": {},
     "execution_count": 41
    }
   ],
   "source": [
    "#how to make a view\n",
    "db.command({\n",
    "    \"create\": \"views_new\",\n",
    "    \"viewOn\": \"sep_entries\", \n",
    "    \"pipeline\": [{'$project': {'page_url':1, 'inpho_json.ID':1}}]\n",
    "})\n",
    "\n"
   ]
  },
  {
   "cell_type": "code",
   "execution_count": 42,
   "metadata": {},
   "outputs": [
    {
     "output_type": "stream",
     "name": "stdout",
     "text": "['entity', 'idea', 'node', 'thinker']\n"
    }
   ],
   "source": [
    "print(list(db.inpho_data.distinct('type')))"
   ]
  },
  {
   "cell_type": "code",
   "execution_count": null,
   "metadata": {},
   "outputs": [],
   "source": [
    "#main Taxonomy links\n",
    "\n",
    "# Aesthetics and Philosophy of Art: 2247\n",
    "# --Aesthetics: 2262\n",
    "# --Philosophy of Art: 2263\n",
    "# African and African-American Philosophy: 2249\n",
    "# Arabic and Islamic Philosophy: 2424\n",
    "# Chinese Philosophy: 2420\n",
    "# Continental Philosophy: 2431\n",
    "# -   Critial Theory: 2434\n",
    "# -   Deconstruction:  2433\n",
    "# -   Existentialism: 2432\n",
    "#     - Absurdity: 2439\n",
    "#     - Nothingness: 2438\n",
    "# -   Hermeneutics: 2435\n",
    "# -   Phenomenology: 2436\n",
    "#     - Intentiality: 2441\n",
    "# -   Postmodernism: 2437\n",
    "# Epistomology: 2374\n",
    "# Ethics: 2243\n",
    "# Feminist Philosophy: 2246\n",
    "# History of Philosophy: 2242\n",
    "# Japanese Philosophy: 2423\n",
    "# Judaic Philosophy: 2430\n",
    "# Latin American and Iberian Philosophy: 2427\n",
    "# Logic: 2245\n",
    "# Metaphysics: 2350\n",
    "# Philosophy of Action: 2426\n",
    "# Philosophy of Language: 2231\n",
    "# Philosophy of Law: 2428\n",
    "# Philosophy of Mathematics: 2457\n",
    "# Philosophy of Mind: 2183\n",
    "# Philosophy of Religion: 2425\n",
    "# Philosophy of Science and the Sciences: 2218\n",
    "# Social and Political Philosophy: 2244\n",
    "\n",
    "taxonomy_nodes = [2247,2249,2424,2420,2431,2374,2243,2246,2242,2423,2430,2427,2245,2350,2426,2231,2428,2457,2183,2425,2218,2244]\n",
    "\n"
   ]
  },
  {
   "cell_type": "code",
   "execution_count": 49,
   "metadata": {},
   "outputs": [
    {
     "output_type": "stream",
     "name": "stdout",
     "text": "[1741, 1740, 1190, 1238, 1176, 1191, 1237, 1247, 1248, 1290, 1742, 1289, 1249, 1189, 1206]\nQuantum Field Theory\nQuantum Gravity\nMeasurement in Quantum Theory\nCollapse Theories\nUncertainty Principle\nIdentity and Individuality in Quantum Theory\nCopenhagen Interpretation of Quantum Mechanics\nMany-Worlds Interpretation of Quantum Mechanics\nEverett's Relative-State Formulation of Quantum Mechanics\nModal Interpretations of Quantum Theory\nAction At a Distance in Quantum Mechanics\nRelational Quantum Mechanics\nRole of Decoherence in Quantum Theory\nVon Neumann and Dirac's Contributions to Quantum Theory\nQuantum Entanglement and Information\n"
    }
   ],
   "source": [
    "\n",
    "docs = [doc['instances'] for doc in db.inpho_data.find(\n",
    "                            filter={'ID': 1158},\n",
    "                            projection={'instances':1,'_id':0})]\n",
    "docs = docs[0]\n",
    "\n",
    "#return the value as a string, not a list item\n",
    "print(docs)\n",
    "for doc in docs:\n",
    "    print(get_inpho_label(doc))"
   ]
  },
  {
   "cell_type": "code",
   "execution_count": 24,
   "metadata": {},
   "outputs": [
    {
     "output_type": "execute_result",
     "data": {
      "text/plain": "18"
     },
     "metadata": {},
     "execution_count": 24
    }
   ],
   "source": [
    "db.inpho_data.count_documents({'ID':{'$in':[5368]}})"
   ]
  },
  {
   "cell_type": "code",
   "execution_count": 18,
   "metadata": {},
   "outputs": [
    {
     "output_type": "stream",
     "name": "stdout",
     "text": "Philosophy of Science and the Sciences\n"
    }
   ],
   "source": [
    "print(get_inpho_label(1826))\n"
   ]
  },
  {
   "cell_type": "code",
   "execution_count": null,
   "metadata": {},
   "outputs": [],
   "source": []
  }
 ],
 "metadata": {
  "language_info": {
   "name": "python",
   "codemirror_mode": {
    "name": "ipython",
    "version": 3
   },
   "version": "3.6.9-final"
  },
  "orig_nbformat": 2,
  "file_extension": ".py",
  "mimetype": "text/x-python",
  "name": "python",
  "npconvert_exporter": "python",
  "pygments_lexer": "ipython3",
  "version": 3,
  "kernelspec": {
   "name": "python36964bitpythondataconda8971416e9bae4e8197b8a061b72f9dc8",
   "display_name": "Python 3.6.9 64-bit ('PythonData': conda)"
  }
 },
 "nbformat": 4,
 "nbformat_minor": 2
}