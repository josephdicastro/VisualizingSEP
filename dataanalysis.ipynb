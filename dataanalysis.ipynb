{
 "nbformat": 4,
 "nbformat_minor": 2,
 "metadata": {
  "language_info": {
   "name": "python",
   "codemirror_mode": {
    "name": "ipython",
    "version": 3
   },
   "version": "3.6.9-final"
  },
  "orig_nbformat": 2,
  "file_extension": ".py",
  "mimetype": "text/x-python",
  "name": "python",
  "npconvert_exporter": "python",
  "pygments_lexer": "ipython3",
  "version": 3,
  "kernelspec": {
   "name": "python36964bitpythondataconda8971416e9bae4e8197b8a061b72f9dc8",
   "display_name": "Python 3.6.9 64-bit ('PythonData': conda)"
  }
 },
 "cells": [
  {
   "cell_type": "code",
   "execution_count": 1,
   "metadata": {},
   "outputs": [],
   "source": [
    " import pymongo\n",
    " import \n",
    " \n"
   ]
  },
  {
   "cell_type": "code",
   "execution_count": 6,
   "metadata": {},
   "outputs": [],
   "source": [
    "##### MONGO VARIABLES#####\n",
    "\n",
    "conn = 'mongodb://localhost:27017'\n",
    "client = pymongo.MongoClient(conn)\n",
    "db = client.visualizing_sep"
   ]
  },
  {
   "cell_type": "code",
   "execution_count": 48,
   "metadata": {},
   "outputs": [
    {
     "output_type": "execute_result",
     "data": {
      "text/plain": "'title_1'"
     },
     "metadata": {},
     "execution_count": 48
    }
   ],
   "source": [
    "db.sep_entries.create_index([('title',1)])"
   ]
  },
  {
   "cell_type": "code",
   "execution_count": 17,
   "metadata": {},
   "outputs": [],
   "source": [
    "def get_inpho_label(inpho_id):\n",
    "    \"\"\" This function returns the label value for a specific inpho document, given its id \"\"\"\n",
    "\n",
    "    #list comprehension to pull the value of the field out from the cursor projection\n",
    "    label = [doc['label'] \n",
    "             for doc in db.inpho_data.find(\n",
    "                                filter={'ID':inpho_id},\n",
    "                                projection={'label':1,'_id':0})]\n",
    "\n",
    "    #return the value as a string, not a list item\n",
    "    return label[0]\n"
   ]
  },
  {
   "cell_type": "code",
   "execution_count": 28,
   "metadata": {},
   "outputs": [],
   "source": []
  },
  {
   "cell_type": "code",
   "execution_count": 41,
   "metadata": {},
   "outputs": [
    {
     "output_type": "execute_result",
     "data": {
      "text/plain": "{'ok': 1.0}"
     },
     "metadata": {},
     "execution_count": 41
    }
   ],
   "source": [
    "db.command({\n",
    "    \"create\": \"views_new\",\n",
    "    \"viewOn\": \"sep_entries\", \n",
    "    \"pipeline\": [{'$project': {'page_url':1, 'inpho_json.ID':1}}]\n",
    "})\n",
    "\n",
    ""
   ]
  },
  {
   "cell_type": "code",
   "execution_count": 42,
   "metadata": {},
   "outputs": [
    {
     "output_type": "stream",
     "name": "stdout",
     "text": "['entity', 'idea', 'node', 'thinker']\n"
    }
   ],
   "source": [
    "print(list(db.inpho_data.distinct('type')))"
   ]
  },
  {
   "cell_type": "code",
   "execution_count": 44,
   "metadata": {},
   "outputs": [
    {
     "output_type": "stream",
     "name": "stdout",
     "text": "consciousness\nmodal logic\nqualia\nperceptual experience\nfunctionalism\ndualism\npersonal identity\nartificial intelligence\nconnectionism\nphilosophy of cognitive science\nsupervenience\nfree will\nphysicalism\nintentionality\nevolutionary psychology\nevolution\ndevelopmental biology\ntime travel\nquantum mechanics\npragmatics\nlogical form\ntruth\ncompositionality\nfeminist philosophy\nmetaethics\nmoral epistemology\naesthetic judgment\nmoral reasoning\npolitical obligation\ncivil rights\nhuman rights\nliberalism\nglobal justice\ndemocracy\nphilosophy of chemistry\npsychology and psychiatry\nphilosophy of medicine\nphilosophy of economics\nphilosophy of computer science\nphilosophy of biology\nmedieval philosophy\nmedieval political philosophy\npropositions\nlaws of nature\nunity of science\ndecision theory\nmetaphysics\nproperty\nabstract object\nexistence\nobject\nrelation\nfact\nevents\nchange\nepistemology\nnaturalized epistemology\nsocial epistemology\nreliabilism\nvirtue epistemology\nskepticism\nbelief\nmemory\nintrospection\nbehaviorism\ncontents of perception\ndeontic logic\nintensional logic\nlogical truth\nlogical consequence\ninformal logic\nset theory\ntype theory\nproof theory\nlogic and artificial intelligence\ncomputational complexity\ninductive logic\ngame theory\nepistemic paradox\njapanese philosophy\nphilosophy of religion\nexistentialism\ncritical theory\nhermeneutics\nphenomenology\npostmodernism\nnothingness\ngod or gods\nepistemology of religion\nforeknowledge and free will\nafterlife\nreligion and morality\nreligion and science\nreligion and politics\nphilosophy of mathematics\nphilosophy of mind\naspects of consciousness\nmental content\ninternalism and externalism\nphilosophy of psychology\nphilosophy of science and the sciences\nscientific methodology\nexpression and idiom\nethics\ninterpretation\ncompositionality and logical form\nmodels and idealization\nmodality\njustification\nrationalism and empiricism\ncontextualism\nperception\ncontinental philosophy\n"
    }
   ],
   "source": [
    "nodes = db.inpho_data.find({'type':'node'})\n",
    "\n",
    "for node in nodes:\n",
    "    print(node['label'])\n",
    ""
   ]
  },
  {
   "cell_type": "code",
   "execution_count": 47,
   "metadata": {},
   "outputs": [
    {
     "output_type": "execute_result",
     "data": {
      "text/plain": "4"
     },
     "metadata": {},
     "execution_count": 47
    }
   ],
   "source": [
    "db.inpho_data.count_documents({'Error': {'$exists': True}})"
   ]
  },
  {
   "cell_type": "code",
   "execution_count": null,
   "metadata": {},
   "outputs": [],
   "source": []
  }
 ]
}