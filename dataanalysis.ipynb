{
 "nbformat": 4,
 "nbformat_minor": 2,
 "metadata": {
  "language_info": {
   "name": "python",
   "codemirror_mode": {
    "name": "ipython",
    "version": 3
   },
   "version": "3.6.9-final"
  },
  "orig_nbformat": 2,
  "file_extension": ".py",
  "mimetype": "text/x-python",
  "name": "python",
  "npconvert_exporter": "python",
  "pygments_lexer": "ipython3",
  "version": 3,
  "kernelspec": {
   "name": "python36964bitpythondataconda8971416e9bae4e8197b8a061b72f9dc8",
   "display_name": "Python 3.6.9 64-bit ('PythonData': conda)"
  }
 },
 "cells": [
  {
   "cell_type": "code",
   "execution_count": 1,
   "metadata": {},
   "outputs": [],
   "source": [
    " import pymongo\n",
    " \n",
    " from operator import itemgetter\n",
    " from pprint import pprint\n",
    " \n",
    ""
   ]
  },
  {
   "cell_type": "code",
   "execution_count": 2,
   "metadata": {},
   "outputs": [],
   "source": [
    "##### MONGO VARIABLES#####\n",
    "\n",
    "conn = 'mongodb://localhost:27017'\n",
    "client = pymongo.MongoClient(conn)\n",
    "db = client.visualizing_sep"
   ]
  },
  {
   "cell_type": "code",
   "execution_count": 3,
   "metadata": {},
   "outputs": [],
   "source": [
    "\n",
    "def get_link_counts(type_of_link, sort_order):\n",
    "\n",
    "    docs = db.sep_data.find({})\n",
    "    links_per_title = [(doc['title'], len(doc[type_of_link])) for doc in docs]\n",
    "    sorted_links = sorted(links_per_title, key=itemgetter(1,0), reverse=sort_order)\n",
    "\n",
    "    return sorted_links\n",
    "\n",
    ""
   ]
  },
  {
   "cell_type": "code",
   "execution_count": 4,
   "metadata": {
    "tags": [
     "outputPrepend"
    ]
   },
   "outputs": [
    {
     "output_type": "stream",
     "name": "stdout",
     "text": "[('Medieval Philosophy', 82),\n ('John Rawls', 60),\n ('Feminist Philosophy', 56),\n ('Scientific Method', 55),\n ('Genetics', 53),\n ('The Unity of Science', 49),\n ('Idealism', 49),\n ('Trinity', 45),\n ('Object', 45),\n ('Reductionism in Biology', 43)]\n"
    }
   ],
   "source": [
    "count_outlinks = get_link_counts('outlinks',True)\n",
    "count_inlinks = get_link_counts('inlinks',True)\n",
    "\n",
    "pprint(count_outlinks[0:10])"
   ]
  },
  {
   "cell_type": "code",
   "execution_count": 17,
   "metadata": {},
   "outputs": [],
   "source": [
    "def get_inpho_label(inpho_id):\n",
    "    \"\"\" This function returns the label value for a specific inpho document, given its id \"\"\"\n",
    "\n",
    "    #list comprehension to pull the value of the field out from the cursor projection\n",
    "    label = [doc['label'] \n",
    "             for doc in db.inpho_data.find(\n",
    "                                filter={'ID':inpho_id},\n",
    "                                projection={'label':1,'_id':0})]\n",
    "\n",
    "    #return the value as a string, not a list item\n",
    "    return label[0]\n"
   ]
  },
  {
   "cell_type": "code",
   "execution_count": 28,
   "metadata": {},
   "outputs": [],
   "source": []
  },
  {
   "cell_type": "code",
   "execution_count": 41,
   "metadata": {},
   "outputs": [
    {
     "output_type": "execute_result",
     "data": {
      "text/plain": "{'ok': 1.0}"
     },
     "metadata": {},
     "execution_count": 41
    }
   ],
   "source": [
    "#how to make a view\n",
    "db.command({\n",
    "    \"create\": \"views_new\",\n",
    "    \"viewOn\": \"sep_entries\", \n",
    "    \"pipeline\": [{'$project': {'page_url':1, 'inpho_json.ID':1}}]\n",
    "})\n",
    "\n"
   ]
  },
  {
   "cell_type": "code",
   "execution_count": 42,
   "metadata": {},
   "outputs": [
    {
     "output_type": "stream",
     "name": "stdout",
     "text": "['entity', 'idea', 'node', 'thinker']\n"
    }
   ],
   "source": [
    "print(list(db.inpho_data.distinct('type')))"
   ]
  },
  {
   "cell_type": "code",
   "execution_count": null,
   "metadata": {},
   "outputs": [],
   "source": []
  }
 ]
}