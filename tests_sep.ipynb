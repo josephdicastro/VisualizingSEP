{
 "nbformat": 4,
 "nbformat_minor": 2,
 "metadata": {
  "language_info": {
   "name": "python",
   "codemirror_mode": {
    "name": "ipython",
    "version": 3
   },
   "version": "3.6.9-final"
  },
  "orig_nbformat": 2,
  "file_extension": ".py",
  "mimetype": "text/x-python",
  "name": "python",
  "npconvert_exporter": "python",
  "pygments_lexer": "ipython3",
  "version": 3,
  "kernelspec": {
   "name": "python36964bitpythondataconda8971416e9bae4e8197b8a061b72f9dc8",
   "display_name": "Python 3.6.9 64-bit ('PythonData': conda)"
  }
 },
 "cells": [
  {
   "cell_type": "code",
   "execution_count": 1,
   "metadata": {},
   "outputs": [],
   "source": [
    "from bs4 import BeautifulSoup\n",
    "import re\n",
    "\n",
    "import lib_sepinpho as sep"
   ]
  },
  {
   "cell_type": "code",
   "execution_count": 8,
   "metadata": {},
   "outputs": [],
   "source": [
    "marty = 'data_collection/html_files/sep_2019_all/marty.html'\n",
    "russell = 'data_collection/html_files/sep_2019_all/russell.html'\n",
    "hartley = 'data_collection/html_files/sep_2019_all/hartley.html'\n",
    "filer = 'data_collection/html_files/sep_2019_all/hartley.html'\n",
    "\n",
    "file_to_read = open(filer,'r', encoding='UTF-8').read()\n",
    "soup = BeautifulSoup(file_to_read, 'lxml')"
   ]
  },
  {
   "cell_type": "code",
   "execution_count": 9,
   "metadata": {},
   "outputs": [
    {
     "output_type": "stream",
     "name": "stdout",
     "text": "<a href=\"../berkeley/\">Berkeley, George</a>\n<a href=\"../descartes/\">Descartes, René</a>\n<a href=\"../hume/\">Hume, David</a>\n<a href=\"../locke/\">Locke, John</a>\n<a href=\"../newton/\">Newton, Isaac</a>\n<a href=\"../reid/\">Reid, Thomas</a>\n"
    }
   ],
   "source": [
    "article_links = soup.find(id=\"aueditable\").findAll(href=re.compile('^../'))\n",
    "cleaned_links = sep.process_links(article_links)"
   ]
  },
  {
   "cell_type": "code",
   "execution_count": 10,
   "metadata": {},
   "outputs": [
    {
     "output_type": "stream",
     "name": "stdout",
     "text": "{'link': '/entries/berkeley/'}\n{'link': '/entries/descartes/'}\n{'link': '/entries/hume/'}\n{'link': '/entries/locke/'}\n{'link': '/entries/newton/'}\n{'link': '/entries/reid/'}\n"
    }
   ],
   "source": [
    "for link in cleaned_links:\n",
    "    print(link)"
   ]
  },
  {
   "cell_type": "code",
   "execution_count": null,
   "metadata": {},
   "outputs": [],
   "source": []
  },
  {
   "cell_type": "code",
   "execution_count": null,
   "metadata": {},
   "outputs": [],
   "source": []
  }
 ]
}