{
 "nbformat": 4,
 "nbformat_minor": 2,
 "metadata": {
  "language_info": {
   "name": "python",
   "codemirror_mode": {
    "name": "ipython",
    "version": 3
   },
   "version": "3.6.9-final"
  },
  "orig_nbformat": 2,
  "file_extension": ".py",
  "mimetype": "text/x-python",
  "name": "python",
  "npconvert_exporter": "python",
  "pygments_lexer": "ipython3",
  "version": 3,
  "kernelspec": {
   "name": "python36964bitpythondataconda8971416e9bae4e8197b8a061b72f9dc8",
   "display_name": "Python 3.6.9 64-bit ('PythonData': conda)"
  }
 },
 "cells": [
  {
   "cell_type": "code",
   "execution_count": 8,
   "metadata": {},
   "outputs": [],
   "source": [
    "from bs4 import BeautifulSoup\n",
    "import re\n",
    "import pymongo\n",
    "\n",
    "import lib_sepinpho as sep\n",
    "\n",
    "conn = 'mongodb://localhost:27017'\n",
    "client = pymongo.MongoClient(conn)\n",
    "db = client.visualizing_sep"
   ]
  },
  {
   "cell_type": "code",
   "execution_count": 3,
   "metadata": {},
   "outputs": [],
   "source": [
    "marty = 'data_collection/html_files/sep_2019_all/marty.html'\n",
    "russell = 'data_collection/html_files/sep_2019_all/russell.html'\n",
    "hartley = 'data_collection/html_files/sep_2019_all/hartley.html'\n",
    "filer = 'data_collection/html_files/sep_2019_all/medieval-philosophy.html'\n",
    "\n",
    "file_to_read = open(filer,'r', encoding='UTF-8').read()\n",
    "soup = BeautifulSoup(file_to_read, 'lxml')"
   ]
  },
  {
   "cell_type": "code",
   "execution_count": 4,
   "metadata": {},
   "outputs": [
    {
     "output_type": "stream",
     "name": "stdout",
     "text": "<a href=\"../augustine/\">Saint Augustine</a>\n<a href=\"../boethius/\">Anicius Manlius Severinus Boethius</a>\n<a href=\"../medieval-categories/\">medieval theories of categories</a>\n<a href=\"../universals-medieval/\">the medieval problem of universals</a>\n<a href=\"../scottus-eriugena/\">John Scottus Eriugena</a>\n<a href=\"../pseudo-dionysius-areopagite/\">Pseudo-Dionysius the Areopagite</a>\n<a href=\"../anselm/\">Saint Anselm</a>\n<a href=\"../abelard/\">Peter Abelard</a>\n<a href=\"../byzantine-philosophy/\">Byzantine philosophy</a>\n<a href=\"../william-auvergne/\">William of Auvergne</a>\n<a href=\"../william-champeaux/\">William of Champeaux</a>\n<a href=\"../john-salisbury/\">John of Salisbury</a>\n<a href=\"../auriol/\">Peter Auriol</a>\n<a href=\"../buridan/\">John Buridan</a>\n<a href=\"../godfrey/\">Godfrey of Fontaines</a>\n<a href=\"../autrecourt/\">Nicholas of Autrecourt</a>\n<a href=\"../olivi/\">Peter John Olivi</a>\n<a href=\"../philip-chancellor/\">Philip the Chancellor</a>\n<a href=\"../william-auvergne/\">William of Auvergne</a>\n<a href=\"../aquinas/\">Saint Thomas Aquinas</a>\n<a href=\"../bonaventure/\">Saint Bonaventure</a>\n<a href=\"../duns-scotus/\">John Duns Scotus</a>\n<a href=\"../ockham/\">William of Ockham</a>\n<a href=\"../henry-ghent/\">Henry of Ghent</a>\n<a href=\"../medieval-futcont/\">medieval theories of future contingents</a>\n<a href=\"../insolubles/\">insolubles</a>\n<a href=\"../medieval-literary/\">literary forms of medieval philosophy</a>\n<a href=\"../medieval-categories/\">medieval theories of categories</a>\n<a href=\"../semiotics-medieval/\">medieval semiotics</a>\n<a href=\"../analogy-medieval/\">medieval theories of analogy</a>\n<a href=\"../demonstration-medieval/\">medieval theories of demonstration</a>\n<a href=\"../modality-medieval/\">medieval theories of modality</a>\n<a href=\"../obligationes/\">medieval theories of <em>Obligationes</em></a>\n<a href=\"../medieval-terms/\">medieval theories: properties of terms</a>\n<a href=\"../singular-terms-medieval/\">medieval theories of singular terms</a>\n<a href=\"../medieval-syllogism/\">medieval theories of the syllogism</a>\n<a href=\"../sophismata/\">sophismata</a>\n<a href=\"../albert-saxony/\">Albert of Saxony</a>\n<a href=\"../boethius/\">Anicius Manlius Severinus Boethius</a>\n<a href=\"../buridan/\">John Buridan</a>\n<a href=\"../wyclif/\">John Wyclif</a>\n<a href=\"../sharpe/\">Johannes Sharpe</a>\n<a href=\"../paul-venice/\">Paul of Venice</a>\n<a href=\"../abelard/\">Peter Abelard</a>\n<a href=\"../peter-spain/\">Peter of Spain</a>\n<a href=\"../kilvington/\">Richard Kilvington</a>\n<a href=\"../richard-sophister/\">Richard the Sophister</a>\n<a href=\"../roger-bacon/\">Roger Bacon</a>\n<a href=\"../erfurt/\">Thomas of Erfurt</a>\n<a href=\"../burley/\">Walter Burley</a>\n<a href=\"../heytesbury/\">William Heytesbury</a>\n<a href=\"../ockham/\">William of Ockham</a>\n<a href=\"../binarium/\"><em>binarium famosissimum</em></a>\n<a href=\"../existence/\">existence</a>\n<a href=\"../mereology-medieval/\">medieval mereology</a>\n<a href=\"../universals-medieval/\">the medieval problem of universals</a>\n<a href=\"../causation-medieval/\">medieval theories of causality</a>\n<a href=\"../medieval-haecceity/\">medieval theories of haecceity</a>\n<a href=\"../relations-medieval/\">medieval theories of relations</a>\n<a href=\"../buridan/\">John Buridan</a>\n<a href=\"../duns-scotus/\">John Duns Scotus</a>\n<a href=\"../wyclif/\">John Wyclif</a>\n<a href=\"../augustine/\">Saint Augustine</a>\n<a href=\"../aquinas/\">Saint Thomas Aquinas</a>\n<a href=\"../ockham/\">William of Ockham</a>\n<a href=\"../causation-medieval/\">medieval theories of causality</a>\n<a href=\"../aquinas/\">Saint Thomas Aquinas</a>\n<a href=\"../heytesbury/\">William Heytesbury</a>\n<a href=\"../ockham/\">William of Ockham</a>\n<a href=\"../albert-saxony/\">Albert of Saxony</a>\n<a href=\"../dietrich-freiberg/\">Dietrich of Freiberg</a>\n<a href=\"../buridan/\">John Buridan</a>\n<a href=\"../autrecourt/\">Nicholas of Autrecourt</a>\n<a href=\"../nicole-oresme/\">Nicole Oresme</a>\n<a href=\"../grosseteste/\">Robert Grosseteste</a>\n<a href=\"../crathorn/\">William Crathorn</a>\n<a href=\"../skepticism-medieval/\">medieval skepticism</a>\n<a href=\"../illumination/\">divine illumination</a>\n<a href=\"../representation-medieval/\">mental representation in medieval philosophy</a>\n<a href=\"../buridan/\">John Buridan</a>\n<a href=\"../duns-scotus/\">John Duns Scotus</a>\n<a href=\"../autrecourt/\">Nicholas of Autrecourt</a>\n<a href=\"../augustine/\">Saint Augustine</a>\n<a href=\"../aquinas/\">Saint Thomas</a>\n<a href=\"../walter-chatton/\">Walter Chatton</a>\n<a href=\"../ockham/\">William of Ockham</a>\n<a href=\"../conscience-medieval/\">medieval theories of conscience</a>\n<a href=\"../practical-reason-med/\">medieval theories of practical reason</a>\n<a href=\"../natural-law-ethics/\">the natural law tradition in ethics</a>\n<a href=\"../duns-scotus/\">John Duns Scotus</a>\n<a href=\"../abelard/\">Peter Abelard</a>\n<a href=\"../peter-spain/\">Peter of Spain</a>\n<a href=\"../anselm/\">Saint Anselm</a>\n<a href=\"../augustine/\">Saint Augustine</a>\n<a href=\"../aquinas/\">Saint Thomas Aquinas</a>\n<a href=\"../ockham/\">William of Ockham</a>\n<a href=\"../dante/\">Dante Alighieri</a>\n<a href=\"../wyclif/\">John Wyclif</a>\n<a href=\"../wyclif-political/\">John Wyclif’s Political Philosophy</a>\n<a href=\"../ockham/\">William of Ockham</a>\n<a href=\"../richard-sophister/\">Richard the Sophister</a>\n<a href=\"../abelard/\">Abelard [Abailard], Peter</a>\n<a href=\"../albert-great/\">Albert the Great [= Albertus magnus]</a>\n<a href=\"../alyngton/\">Alyngton, Robert</a>\n<a href=\"../analogy-medieval/\">analogy: medieval theories of</a>\n<a href=\"../anselm/\">Anselm, Saint [Anselm of Bec, Anselm of Canterbury]</a>\n<a href=\"../aquinas/\">Aquinas, Saint Thomas</a>\n<a href=\"../augustine/\">Augustine, Saint</a>\n<a href=\"../auriol/\">Auriol [Aureol, Aureoli], Peter</a>\n<a href=\"../roger-bacon/\">Bacon, Roger</a>\n<a href=\"../binarium/\"><em>binarium famosissimum</em> [= most famous pair]</a>\n<a href=\"../boethius/\">Boethius, Anicius Manlius Severinus</a>\n<a href=\"../bonaventure/\">Bonaventure, Saint</a>\n<a href=\"../buridan/\">Buridan, John [Jean]</a>\n<a href=\"../burley/\">Burley [Burleigh], Walter</a>\n<a href=\"../causation-medieval/\">causation: medieval theories of</a>\n<a href=\"../christiantheology-philosophy/\">Christian theology, philosophy and</a>\n<a href=\"../condemnation/\">condemnation of 1277</a>\n<a href=\"../conscience-medieval/\">conscience: medieval theories of</a>\n<a href=\"../cusanus/\">Cusanus, Nicolaus [Nicolas of Cusa]</a>\n<a href=\"../peter-damian/\">Damian, Peter</a>\n<a href=\"../dante/\">Dante Alighieri</a>\n<a href=\"../demonstration-medieval/\">demonstration: medieval theories of</a>\n<a href=\"../illumination/\">divine: illumination</a>\n<a href=\"../duns-scotus/\">Duns Scotus, John</a>\n<a href=\"../scottus-eriugena/\">Eriugena, John Scottus</a>\n<a href=\"../francis-marchia/\">Francis of Marchia</a>\n<a href=\"../free-will-foreknowledge/\">free will: divine foreknowledge and</a>\n<a href=\"../medieval-futcont/\">future contingents: medieval theories of</a>\n<a href=\"../gersonides/\">Gersonides</a>\n<a href=\"../giles/\">Giles of Rome</a>\n<a href=\"../godfrey/\">Godfrey of Fontaines</a>\n<a href=\"../gregory-rimini/\">Gregory of Rimini</a>\n<a href=\"../medieval-haecceity/\">haecceity: medieval theories of</a>\n<a href=\"../heytesbury/\">Heytesbury, William</a>\n<a href=\"../holkot/\">Holkot [Holcot], Robert</a>\n<a href=\"../insolubles/\">insolubles [= <em>insolubilia</em>]</a>\n<a href=\"../john-salisbury/\">John of Salisbury</a>\n<a href=\"../kilvington/\">Kilvington, Richard</a>\n<a href=\"../maimonides/\">Maimonides</a>\n<a href=\"../marsilius-inghen/\">Marsilius of Inghen</a>\n<a href=\"../medieval-literary/\">medieval philosophy: literary forms of</a>\n<a href=\"../representation-medieval/\">mental representation: in medieval philosophy</a>\n<a href=\"../modality-medieval/\">modality: medieval theories of</a>\n<a href=\"../autrecourt/\">Nicholas of Autrecourt [de Altricuria, Autricuria, Ultricuria, Autricort]</a>\n<a href=\"../obligationes/\"><em>obligationes</em>, medieval theories of</a>\n<a href=\"../ockham/\">Ockham [Occam], William</a>\n<a href=\"../olivi/\">Olivi, Peter John</a>\n<a href=\"../ontological-arguments/\">ontological arguments</a>\n<a href=\"../paul-venice/\">Paul of Venice</a>\n<a href=\"../penbygull/\">Penbygull, William</a>\n<a href=\"../peter-spain/\">Peter of Spain [= Petrus Hispanus]</a>\n<a href=\"../philip-chancellor/\">Philip the Chancellor</a>\n<a href=\"../practical-reason-med/\">practical reason: medieval theories of</a>\n<a href=\"../pseudo-dionysius-areopagite/\">Pseudo-Dionysius the Areopagite</a>\n<a href=\"../relations-medieval/\">relations: medieval theories of</a>\n<a href=\"../richard-sophister/\">Richard the Sophister [<em>Ricardus Sophista, Magister abstractionum</em>]</a>\n<a href=\"../semiotics-medieval/\">semiotics: medieval</a>\n<a href=\"../sharpe/\">Sharpe, Johannes</a>\n<a href=\"../simon-faversham/\">Simon of Faversham</a>\n<a href=\"../singular-terms-medieval/\">singular terms: medieval theories of</a>\n<a href=\"../sophismata/\"><em>sophismata</em> [= sophisms]</a>\n<a href=\"../medieval-syllogism/\">syllogism: medieval theories of</a>\n<a href=\"../medieval-terms/\">terms, properties of: medieval theories of</a>\n<a href=\"../erfurt/\">Thomas of Erfurt</a>\n<a href=\"../universals-medieval/\">universals: the medieval problem of</a>\n<a href=\"../william-champeaux/\">William of Champeaux</a>\n<a href=\"../wyclif/\">Wyclif, John</a>\n"
    }
   ],
   "source": [
    "article_links = soup.find(id=\"aueditable\").findAll(href=re.compile('^../'))\n",
    "cleaned_links = sep.process_links(article_links)"
   ]
  },
  {
   "cell_type": "code",
   "execution_count": 5,
   "metadata": {},
   "outputs": [
    {
     "output_type": "stream",
     "name": "stdout",
     "text": "82\n{'link': '/entries/augustine/'}\n{'link': '/entries/boethius/'}\n{'link': '/entries/medieval-categories/'}\n{'link': '/entries/universals-medieval/'}\n{'link': '/entries/scottus-eriugena/'}\n{'link': '/entries/pseudo-dionysius-areopagite/'}\n{'link': '/entries/anselm/'}\n{'link': '/entries/abelard/'}\n{'link': '/entries/byzantine-philosophy/'}\n{'link': '/entries/william-auvergne/'}\n{'link': '/entries/william-champeaux/'}\n{'link': '/entries/john-salisbury/'}\n{'link': '/entries/auriol/'}\n{'link': '/entries/buridan/'}\n{'link': '/entries/godfrey/'}\n{'link': '/entries/autrecourt/'}\n{'link': '/entries/olivi/'}\n{'link': '/entries/philip-chancellor/'}\n{'link': '/entries/aquinas/'}\n{'link': '/entries/bonaventure/'}\n{'link': '/entries/duns-scotus/'}\n{'link': '/entries/ockham/'}\n{'link': '/entries/henry-ghent/'}\n{'link': '/entries/medieval-futcont/'}\n{'link': '/entries/insolubles/'}\n{'link': '/entries/medieval-literary/'}\n{'link': '/entries/semiotics-medieval/'}\n{'link': '/entries/analogy-medieval/'}\n{'link': '/entries/demonstration-medieval/'}\n{'link': '/entries/modality-medieval/'}\n{'link': '/entries/obligationes/'}\n{'link': '/entries/medieval-terms/'}\n{'link': '/entries/singular-terms-medieval/'}\n{'link': '/entries/medieval-syllogism/'}\n{'link': '/entries/sophismata/'}\n{'link': '/entries/albert-saxony/'}\n{'link': '/entries/wyclif/'}\n{'link': '/entries/sharpe/'}\n{'link': '/entries/paul-venice/'}\n{'link': '/entries/peter-spain/'}\n{'link': '/entries/kilvington/'}\n{'link': '/entries/richard-sophister/'}\n{'link': '/entries/roger-bacon/'}\n{'link': '/entries/erfurt/'}\n{'link': '/entries/burley/'}\n{'link': '/entries/heytesbury/'}\n{'link': '/entries/binarium/'}\n{'link': '/entries/existence/'}\n{'link': '/entries/mereology-medieval/'}\n{'link': '/entries/causation-medieval/'}\n{'link': '/entries/medieval-haecceity/'}\n{'link': '/entries/relations-medieval/'}\n{'link': '/entries/dietrich-freiberg/'}\n{'link': '/entries/nicole-oresme/'}\n{'link': '/entries/grosseteste/'}\n{'link': '/entries/crathorn/'}\n{'link': '/entries/skepticism-medieval/'}\n{'link': '/entries/illumination/'}\n{'link': '/entries/representation-medieval/'}\n{'link': '/entries/walter-chatton/'}\n{'link': '/entries/conscience-medieval/'}\n{'link': '/entries/practical-reason-med/'}\n{'link': '/entries/natural-law-ethics/'}\n{'link': '/entries/dante/'}\n{'link': '/entries/wyclif-political/'}\n{'link': '/entries/albert-great/'}\n{'link': '/entries/alyngton/'}\n{'link': '/entries/christiantheology-philosophy/'}\n{'link': '/entries/condemnation/'}\n{'link': '/entries/cusanus/'}\n{'link': '/entries/peter-damian/'}\n{'link': '/entries/francis-marchia/'}\n{'link': '/entries/free-will-foreknowledge/'}\n{'link': '/entries/gersonides/'}\n{'link': '/entries/giles/'}\n{'link': '/entries/gregory-rimini/'}\n{'link': '/entries/holkot/'}\n{'link': '/entries/maimonides/'}\n{'link': '/entries/marsilius-inghen/'}\n{'link': '/entries/ontological-arguments/'}\n{'link': '/entries/penbygull/'}\n{'link': '/entries/simon-faversham/'}\n"
    }
   ],
   "source": [
    "print(len(cleaned_links))\n",
    "for link in cleaned_links:\n",
    "    print(link)"
   ]
  },
  {
   "cell_type": "code",
   "execution_count": null,
   "metadata": {},
   "outputs": [],
   "source": []
  },
  {
   "cell_type": "code",
   "execution_count": 12,
   "metadata": {},
   "outputs": [
    {
     "output_type": "stream",
     "name": "stdout",
     "text": "[82, 60, 56, 55, 53, 49, 49, 45, 45, 43, 42, 42, 42, 41, 40, 40, 40, 40, 39, 38, 38, 37, 36, 36, 36, 36, 35, 35, 35, 35, 34, 34, 33, 33, 33, 32, 32, 32, 32, 32, 32, 31, 31, 31, 31, 31, 30, 30, 30, 30, 30, 30, 29, 29, 29, 29, 29, 29, 29, 28, 28, 28, 28, 28, 28, 28, 28, 27, 27, 27, 27, 27, 26, 26, 26, 26, 26, 26, 26, 26, 26, 26, 26, 26, 25, 25, 25, 25, 25, 24, 24, 24, 24, 24, 24, 24, 24, 24, 24, 24, 24, 24, 24, 23, 23, 23, 23, 23, 23, 23, 23, 23, 23, 22, 22, 22, 22, 22, 22, 22, 22, 22, 22, 22, 22, 21, 21, 21, 21, 21, 21, 21, 21, 21, 21, 21, 21, 21, 20, 20, 20, 20, 20, 20, 20, 20, 20, 20, 20, 20, 20, 20, 20, 20, 20, 20, 20, 20, 20, 20, 20, 20, 20, 20, 20, 20, 20, 20, 20, 20, 19, 19, 19, 19, 19, 19, 19, 19, 19, 19, 19, 19, 19, 19, 19, 19, 19, 19, 19, 19, 19, 19, 19, 19, 19, 18, 18, 18, 18, 18, 18, 18, 18, 18, 18, 18, 18, 18, 18, 18, 18, 18, 18, 18, 18, 18, 18, 17, 17, 17, 17, 17, 17, 17, 17, 17, 17, 17, 17, 17, 17, 17, 17, 17, 17, 17, 17, 17, 17, 17, 17, 17, 17, 17, 17, 17, 17, 17, 17, 17, 17, 17, 17, 17, 17, 17, 16, 16, 16, 16, 16, 16, 16, 16, 16, 16, 16, 16, 16, 16, 16, 16, 16, 16, 16, 16, 16, 16, 16, 16, 16, 16, 16, 16, 16, 16, 16, 16, 16, 16, 16, 16, 16, 16, 16, 15, 15, 15, 15, 15, 15, 15, 15, 15, 15, 15, 15, 15, 15, 15, 15, 15, 15, 15, 15, 15, 15, 15, 15, 15, 15, 15, 15, 15, 15, 15, 15, 15, 15, 15, 15, 15, 15, 15, 15, 15, 15, 15, 15, 14, 14, 14, 14, 14, 14, 14, 14, 14, 14, 14, 14, 14, 14, 14, 14, 14, 14, 14, 14, 14, 14, 14, 14, 14, 14, 14, 14, 14, 14, 14, 14, 14, 14, 14, 14, 14, 14, 14, 14, 14, 14, 14, 14, 14, 14, 14, 14, 14, 14, 14, 14, 14, 13, 13, 13, 13, 13, 13, 13, 13, 13, 13, 13, 13, 13, 13, 13, 13, 13, 13, 13, 13, 13, 13, 13, 13, 13, 13, 13, 13, 13, 13, 13, 13, 13, 13, 13, 13, 13, 13, 13, 13, 13, 13, 13, 13, 13, 13, 13, 13, 13, 13, 13, 13, 13, 12, 12, 12, 12, 12, 12, 12, 12, 12, 12, 12, 12, 12, 12, 12, 12, 12, 12, 12, 12, 12, 12, 12, 12, 12, 12, 12, 12, 12, 12, 12, 12, 12, 12, 12, 12, 12, 12, 12, 12, 12, 12, 12, 12, 12, 12, 12, 12, 12, 12, 12, 12, 12, 12, 12, 12, 12, 12, 12, 12, 12, 12, 12, 12, 12, 12, 12, 12, 12, 12, 12, 11, 11, 11, 11, 11, 11, 11, 11, 11, 11, 11, 11, 11, 11, 11, 11, 11, 11, 11, 11, 11, 11, 11, 11, 11, 11, 11, 11, 11, 11, 11, 11, 11, 11, 11, 11, 11, 11, 11, 11, 11, 11, 11, 11, 11, 11, 11, 11, 11, 11, 11, 11, 11, 11, 11, 11, 11, 11, 11, 11, 11, 11, 11, 11, 11, 11, 11, 11, 11, 11, 11, 11, 11, 11, 11, 11, 11, 11, 11, 11, 11, 11, 11, 11, 11, 11, 11, 11, 11, 11, 11, 11, 11, 11, 10, 10, 10, 10, 10, 10, 10, 10, 10, 10, 10, 10, 10, 10, 10, 10, 10, 10, 10, 10, 10, 10, 10, 10, 10, 10, 10, 10, 10, 10, 10, 10, 10, 10, 10, 10, 10, 10, 10, 10, 10, 10, 10, 10, 10, 10, 10, 10, 10, 10, 10, 10, 10, 10, 10, 10, 10, 10, 10, 10, 10, 10, 10, 10, 10, 10, 10, 10, 10, 10, 10, 10, 10, 10, 10, 10, 10, 10, 10, 10, 10, 10, 10, 10, 10, 10, 9, 9, 9, 9, 9, 9, 9, 9, 9, 9, 9, 9, 9, 9, 9, 9, 9, 9, 9, 9, 9, 9, 9, 9, 9, 9, 9, 9, 9, 9, 9, 9, 9, 9, 9, 9, 9, 9, 9, 9, 9, 9, 9, 9, 9, 9, 9, 9, 9, 9, 9, 9, 9, 9, 9, 9, 9, 9, 9, 9, 9, 9, 9, 9, 9, 9, 9, 9, 9, 9, 9, 9, 9, 9, 9, 9, 9, 9, 9, 9, 9, 9, 9, 9, 9, 9, 9, 9, 9, 9, 9, 9, 9, 9, 9, 9, 9, 9, 9, 9, 9, 9, 9, 9, 9, 9, 9, 9, 9, 9, 9, 9, 9, 9, 9, 9, 9, 9, 9, 9, 9, 9, 9, 9, 9, 9, 9, 9, 9, 9, 9, 9, 9, 9, 9, 9, 8, 8, 8, 8, 8, 8, 8, 8, 8, 8, 8, 8, 8, 8, 8, 8, 8, 8, 8, 8, 8, 8, 8, 8, 8, 8, 8, 8, 8, 8, 8, 8, 8, 8, 8, 8, 8, 8, 8, 8, 8, 8, 8, 8, 8, 8, 8, 8, 8, 8, 8, 8, 8, 8, 8, 8, 8, 8, 8, 8, 8, 8, 8, 8, 8, 8, 8, 8, 8, 8, 8, 8, 8, 8, 8, 8, 8, 8, 8, 8, 8, 8, 8, 8, 8, 8, 8, 8, 8, 8, 8, 8, 8, 8, 8, 8, 8, 8, 8, 8, 8, 8, 8, 8, 8, 8, 8, 8, 8, 8, 8, 8, 8, 8, 8, 8, 8, 8, 8, 8, 8, 8, 8, 8, 8, 8, 8, 8, 8, 8, 8, 8, 8, 8, 8, 8, 8, 8, 8, 8, 8, 8, 8, 8, 8, 7, 7, 7, 7, 7, 7, 7, 7, 7, 7, 7, 7, 7, 7, 7, 7, 7, 7, 7, 7, 7, 7, 7, 7, 7, 7, 7, 7, 7, 7, 7, 7, 7, 7, 7, 7, 7, 7, 7, 7, 7, 7, 7, 7, 7, 7, 7, 7, 7, 7, 7, 7, 7, 7, 7, 7, 7, 7, 7, 7, 7, 7, 7, 7, 7, 7, 7, 7, 7, 7, 7, 7, 7, 7, 7, 7, 7, 7, 7, 7, 7, 7, 7, 7, 7, 7, 7, 7, 7, 7, 7, 7, 7, 7, 7, 7, 7, 7, 7, 7, 7, 7, 7, 7, 7, 7, 7, 7, 7, 7, 7, 7, 7, 7, 7, 7, 7, 7, 7, 7, 7, 7, 7, 7, 7, 7, 7, 7, 7, 7, 7, 7, 7, 7, 7, 7, 7, 7, 7, 7, 7, 7, 7, 7, 7, 7, 7, 7, 7, 7, 7, 7, 7, 6, 6, 6, 6, 6, 6, 6, 6, 6, 6, 6, 6, 6, 6, 6, 6, 6, 6, 6, 6, 6, 6, 6, 6, 6, 6, 6, 6, 6, 6, 6, 6, 6, 6, 6, 6, 6, 6, 6, 6, 6, 6, 6, 6, 6, 6, 6, 6, 6, 6, 6, 6, 6, 6, 6, 6, 6, 6, 6, 6, 6, 6, 6, 6, 6, 6, 6, 6, 6, 6, 6, 6, 6, 6, 6, 6, 6, 6, 6, 6, 6, 6, 6, 6, 6, 6, 6, 6, 6, 6, 6, 6, 6, 6, 6, 6, 6, 6, 6, 6, 6, 6, 6, 6, 6, 6, 6, 6, 6, 6, 6, 6, 6, 6, 6, 6, 6, 6, 6, 6, 6, 6, 6, 6, 6, 6, 6, 6, 6, 6, 6, 6, 6, 6, 6, 6, 6, 6, 6, 6, 6, 6, 6, 6, 6, 6, 6, 6, 6, 6, 6, 6, 6, 6, 5, 5, 5, 5, 5, 5, 5, 5, 5, 5, 5, 5, 5, 5, 5, 5, 5, 5, 5, 5, 5, 5, 5, 5, 5, 5, 5, 5, 5, 5, 5, 5, 5, 5, 5, 5, 5, 5, 5, 5, 5, 5, 5, 5, 5, 5, 5, 5, 5, 5, 5, 5, 5, 5, 5, 5, 5, 5, 5, 5, 5, 5, 5, 5, 5, 5, 5, 5, 5, 5, 5, 5, 5, 5, 5, 5, 5, 5, 5, 5, 5, 5, 5, 5, 5, 5, 5, 5, 5, 5, 5, 5, 5, 5, 5, 5, 5, 5, 5, 5, 5, 5, 5, 5, 5, 5, 5, 5, 5, 5, 5, 5, 5, 5, 5, 5, 5, 5, 5, 5, 5, 5, 5, 5, 5, 5, 5, 5, 5, 5, 5, 5, 5, 4, 4, 4, 4, 4, 4, 4, 4, 4, 4, 4, 4, 4, 4, 4, 4, 4, 4, 4, 4, 4, 4, 4, 4, 4, 4, 4, 4, 4, 4, 4, 4, 4, 4, 4, 4, 4, 4, 4, 4, 4, 4, 4, 4, 4, 4, 4, 4, 4, 4, 4, 4, 4, 4, 4, 4, 4, 4, 4, 4, 4, 4, 4, 4, 4, 4, 4, 4, 4, 4, 4, 4, 4, 4, 4, 4, 4, 4, 4, 4, 4, 4, 4, 4, 4, 4, 4, 4, 4, 4, 4, 4, 4, 4, 4, 4, 4, 4, 4, 4, 4, 4, 4, 4, 4, 4, 4, 4, 4, 4, 4, 4, 4, 4, 4, 4, 4, 4, 4, 4, 4, 4, 4, 4, 4, 4, 4, 4, 3, 3, 3, 3, 3, 3, 3, 3, 3, 3, 3, 3, 3, 3, 3, 3, 3, 3, 3, 3, 3, 3, 3, 3, 3, 3, 3, 3, 3, 3, 3, 3, 3, 3, 3, 3, 3, 3, 3, 3, 3, 3, 3, 3, 3, 3, 3, 3, 3, 3, 3, 3, 3, 3, 3, 3, 3, 3, 3, 3, 3, 3, 3, 3, 3, 3, 3, 3, 3, 3, 3, 3, 3, 3, 3, 3, 3, 3, 3, 3, 2, 2, 2, 2, 2, 2, 2, 2, 2, 2, 2, 2, 2, 2, 2, 2, 2, 2, 2, 2, 2, 2, 2, 2, 2, 2, 2, 2, 2, 2, 2, 2, 2, 2, 2, 2, 2, 2, 2, 2, 2, 1, 1, 1, 1, 1, 1, 1, 1, 1, 1, 1, 1, 0, 0]\n"
    }
   ],
   "source": [
    "docs = db.sep_data.find({})\n",
    "number_links = []\n",
    "for doc in docs:\n",
    "    title = doc['title']\n",
    "    links = doc['outlinks']\n",
    "    number_links.append(len(links))\n",
    "\n",
    "num_links_sroted = sorted(number_links, reverse=True)\n",
    "print(num_links_sroted)"
   ]
  },
  {
   "cell_type": "code",
   "execution_count": null,
   "metadata": {},
   "outputs": [],
   "source": []
  }
 ]
}